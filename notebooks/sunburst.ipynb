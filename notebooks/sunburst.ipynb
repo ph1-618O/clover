{
 "cells": [
  {
   "cell_type": "markdown",
   "metadata": {},
   "source": [
    "# SUNBURST CHART"
   ]
  },
  {
   "cell_type": "markdown",
   "metadata": {},
   "source": [
    "-------------------------------------------------------------------------------------------------------------------"
   ]
  },
  {
   "cell_type": "code",
   "execution_count": 42,
   "metadata": {},
   "outputs": [],
   "source": [
    "#!/usr/bin/env python3\n",
    "# coding: utf-8\n",
    "\n",
    "# color pallet greens https://coolors.co/34463e-a4c3b2-cce3de-eaf4f4-f6fff8\n",
    "# color pallet secondary https://coolors.co/353535-3c6e71-ffffff-d9d9d9-284b63\n",
    "\n",
    "import numpy as np\n",
    "import plotly.graph_objects as go\n",
    "import plotly.io as pio\n",
    "import pandas as pd\n",
    "import os\n",
    "import datetime\n",
    "from colour import Color\n",
    "from colr import color\n",
    "import plotly.express as px\n",
    "\n",
    "#Orca must be installed?\n",
    "#conda install -c plotly plotly-orca\n",
    "#Kaleido is for exporting images from plotly\n",
    "#pip install -U kaleido"
   ]
  },
  {
   "cell_type": "code",
   "execution_count": 43,
   "metadata": {},
   "outputs": [],
   "source": [
    "def show_svg(filename):\n",
    "    from IPython.display import SVG, display\n",
    "    display(SVG(filename=f'{filename}.svg'))"
   ]
  },
  {
   "cell_type": "code",
   "execution_count": 44,
   "metadata": {},
   "outputs": [],
   "source": [
    "# data_df = pd.read_csv('sample_data_month_categories.csv')\n",
    "data_df = pd.read_csv('../data/test/sample_data_month_categories.csv')"
   ]
  },
  {
   "cell_type": "code",
   "execution_count": 45,
   "metadata": {},
   "outputs": [
    {
     "name": "stdout",
     "output_type": "stream",
     "text": [
      "10\n"
     ]
    }
   ],
   "source": [
    "rainbow_colors = ['#F94144', '#f3722c', '#F9844A', '#f8961e', '#F9C74F', '#90BE6D', '#43AA8B', '#4D908E', '#277DA1', '#577590']\n",
    "print(len(rainbow_colors))"
   ]
  },
  {
   "cell_type": "code",
   "execution_count": 46,
   "metadata": {},
   "outputs": [
    {
     "name": "stdout",
     "output_type": "stream",
     "text": [
      "64\n"
     ]
    }
   ],
   "source": [
    "red_orange = ['#F94144' ,'#F94A40', '#F9543C', '#F95D37', '#F96733', '#F8702F', '#F87A2B', '#F88326', '#F88D22', '#F8961E']\n",
    "orange_yellow = ['#F89B23', '#F8A129', '#F8A62E', '#F8AC34', '#F9B139', '#F9B73F', '#F9BC44', '#F9C24A', '#F9C74F']\n",
    "yellow_green = ['#EDC652', '#E2C556','#D6C459', '#CAC35C', '#BFC260', '#B3C163', '#A7C066', '#9CBF6A', '#90BE6D',]\n",
    "green_cyan = ['#88BC70', '#87BC70', '#7FBA74', '#76B777', '#6EB57A', '#65B37E','#55B082', '#54AE84', '#4CAC88']\n",
    "cyan_deepcyan = ['#43AA8B', '#44A78B', '#45A48C', '#479E8C', '#499C8D', '#4A998D', '#4B968D', '#4C968D', '#4D908E']\n",
    "deepcyan_blue = ['#498E90','#458C92', '#408A94', '#3C8896', '#388599', '#34839B', '#2F819D', '#2B7F9F', '#277DA1']\n",
    "blue_darkblue = ['#2C7C9F', '#327B9D', '#377A9B', '#3C7999', '#427998', '#477896', '#4C7794', '#527692', '#577590']\n",
    "\n",
    "gradient = red_orange + orange_yellow + yellow_green + green_cyan + cyan_deepcyan + deepcyan_blue + blue_darkblue\n",
    "print(len(gradient))\n",
    "# gradient = red_orange + orange_yellow + yellow_green + cyan_deepcyan + deepcyan_blue + blue_darkblue\n",
    "# print(len(gradient))"
   ]
  },
  {
   "cell_type": "markdown",
   "metadata": {},
   "source": [
    " |   |   |   |   |   | |||\n",
    "|---|---|---|---|---|---|---|---|\n",
    " | **parent**       | **type**         | **priority**     | **fixed/variable** | **one-time/re-occuring** | **identifier**    | **amount**  | **date**    | **transaction**                   |\n",
    " | health       |life insurance| essential    | fixed          | re-occuring          | 'AAA Insurance| -50     | 01/22/21| AAA INSURANCE PAYMENT 48684   |\n",
    " | entertainment|movies        | non-essential| variable       | one-time             | 'REGAL'       | -15     | 01/12/21| CINEMA REGAL PARK WEST VA 1588|\n"
   ]
  },
  {
   "cell_type": "code",
   "execution_count": 47,
   "metadata": {},
   "outputs": [],
   "source": [
    "# Thinking about adding another column based on this data\n",
    "# dataframe might look good like\n",
    "# where parent = budget category\n",
    "# | parent       | type         | priority     | fixed/variable | one-time/re-occuring | identifier    | amount  | date    | transaction                   |\n",
    "# | health       |life insurance| essential    | fixed          | re-occuring          | 'AAA Insurance'| -50     | 01/22/21| AAA INSURANCE PAYMENT 48684   |\n",
    "# | entertainment|movies        | non-essential| variable       | one-time             | 'REGAL'       | -15     | 01/12/21| CINEMA REGAL PARK WEST VA 1588|\n",
    "\n",
    "fixed = {\n",
    "    'debt':['car loan', 'student loan/tution'],\n",
    "    'housing':['home owners insurance', 'renters insurance', 'rent', 'mortgage', 'property taxes'],\n",
    "    'utilities':['cable', 'internet', 'garbage'],\n",
    "    'medical':['health insurance'],\n",
    "    'childcare':['daycare', 'child support'],\n",
    "    'entertainment':['streaming services']\n",
    "}\n",
    "\n",
    "variable = {\n",
    "    'utilities':['water', 'electricity', 'gas', 'phone']\n",
    "}\n",
    "\n",
    "essentials = {\n",
    "    'savings' : ['life insurance', 'emergency fund', 'ROTH IRA', '401(k)', 'college fund', 'mad money'],\n",
    "    'debt' : ['credit card', 'car loan', 'student loan', 'tuition', 'pay day loan', 'other' ],\n",
    "    'domicile' : ['home', 'renters insurance', 'home insurance', 'rent', 'mortgage', 'repair', 'maitenance', 'furnishings', 'property taxes', 'yard', 'cleaning supply', 'kitchen ware','tools'],\n",
    "    'transportation' : ['car insurance','maintenance', 'gas' 'bus', 'subway', 'train', 'ferry fare'],\n",
    "    'food' : ['groceries'],\n",
    "    'utilities' : ['phone', 'cable', 'internet', 'water', 'gas', 'electricity', 'garbage', 'utility'], #oil, wood\n",
    "    'medical' : ['health insurance','doctor', 'prescriptions', 'first aid supply', 'appointment'], #types of doctors, optometrist, dentist, etc\n",
    "    'education' : ['supplies', 'fees', 'books'],\n",
    "    'childcare' : ['daycare', 'camps', 'babysitter', 'child support'],\n",
    "    'personal' : ['clothing', 'toiletries', 'grooming'],\n",
    "    'work':['office supply', 'work phone', 'computer repair', 'software', 'hardware']\n",
    "}\n",
    "\n",
    "non_essentials = {\n",
    "    'cravings' :['dining out', 'fast food', 'delivery', 'alcohol', 'restaurants', 'coffee'],\n",
    "    'gifts' : ['birthday', 'anniversary', 'holiday', 'other'],\n",
    "    'giving': ['tithing', 'charitable', 'other'],\n",
    "    'pets': ['food', 'supplies', 'vet', 'prescriptions', 'appointment'],\n",
    "    'entertainment': ['streaming services','games', 'movies', 'hobbies', 'vacation', 'books'],\n",
    "    'personal': ['salon', 'gym', 'dry cleaning']}\n",
    "    #'online':['unknown']}\n",
    "#'domicile' : {'home': ['home insurance', 'mortgage', 'mortgage payment', 'home maitenance', 'home repair', 'property taxes', 'yard'],\n",
    "#                'rental':['renters insurance', 'rent', 'rent payment', 'rental repair'],\n",
    "#                 'furnishings':['furnishings', 'cleaning supply', 'kitchen ware','tools']},"
   ]
  },
  {
   "cell_type": "code",
   "execution_count": 48,
   "metadata": {},
   "outputs": [],
   "source": [
    "## Working\n",
    "#- go back to coolers.co and grab names of colors make a dictionary with the name as the key and color as value"
   ]
  },
  {
   "cell_type": "code",
   "execution_count": 49,
   "metadata": {},
   "outputs": [],
   "source": [
    "# red to blue/purple\n",
    "rainbow_colors = ['#F94144', '#f3722c', '#F9844A', '#f8961e', '#F9C74F', '#90BE6D', '#43AA8B', '#4D908E', '#277DA1', '#577590']"
   ]
  },
  {
   "cell_type": "code",
   "execution_count": 50,
   "metadata": {},
   "outputs": [
    {
     "data": {
      "text/plain": [
       "dict_keys(['savings', 'debt', 'domicile', 'transportation', 'food', 'utilities', 'medical', 'education', 'childcare', 'personal', 'work'])"
      ]
     },
     "execution_count": 50,
     "metadata": {},
     "output_type": "execute_result"
    }
   ],
   "source": [
    "essentials.keys()"
   ]
  },
  {
   "cell_type": "code",
   "execution_count": 51,
   "metadata": {},
   "outputs": [],
   "source": [
    "priority = []\n",
    "for i in data_df.category:\n",
    "    if i in essentials.keys() or i in essentials.values():\n",
    "        priority.append('Essential')\n",
    "    elif i == 'online':\n",
    "        priority.append('Unknown')\n",
    "    else:\n",
    "        priority.append('Non-Essential')\n",
    "data_df['priority'] = priority"
   ]
  },
  {
   "cell_type": "code",
   "execution_count": 52,
   "metadata": {},
   "outputs": [],
   "source": [
    "# for i in essentials.items():\n",
    "#     for j in data_df.category:\n",
    "#         if j in essentials_keys( )"
   ]
  },
  {
   "cell_type": "code",
   "execution_count": 53,
   "metadata": {},
   "outputs": [],
   "source": [
    "data_df['percentage'] = [(i/data_df.amount.sum()*100) for i in data_df.amount]"
   ]
  },
  {
   "cell_type": "code",
   "execution_count": 54,
   "metadata": {},
   "outputs": [
    {
     "data": {
      "text/html": [
       "<div>\n",
       "<style scoped>\n",
       "    .dataframe tbody tr th:only-of-type {\n",
       "        vertical-align: middle;\n",
       "    }\n",
       "\n",
       "    .dataframe tbody tr th {\n",
       "        vertical-align: top;\n",
       "    }\n",
       "\n",
       "    .dataframe thead th {\n",
       "        text-align: right;\n",
       "    }\n",
       "</style>\n",
       "<table border=\"1\" class=\"dataframe\">\n",
       "  <thead>\n",
       "    <tr style=\"text-align: right;\">\n",
       "      <th></th>\n",
       "      <th>date</th>\n",
       "      <th>transaction</th>\n",
       "      <th>amount</th>\n",
       "      <th>identifier</th>\n",
       "      <th>category</th>\n",
       "      <th>priority</th>\n",
       "      <th>percentage</th>\n",
       "    </tr>\n",
       "  </thead>\n",
       "  <tbody>\n",
       "    <tr>\n",
       "      <th>0</th>\n",
       "      <td>03/31/2021</td>\n",
       "      <td>TRELLO.COM, ATLASSIAN 888-942-1573 NY</td>\n",
       "      <td>-69.99</td>\n",
       "      <td>TRELLO.COM,</td>\n",
       "      <td>work</td>\n",
       "      <td>Essential</td>\n",
       "      <td>4.966718</td>\n",
       "    </tr>\n",
       "    <tr>\n",
       "      <th>1</th>\n",
       "      <td>04/05/2021</td>\n",
       "      <td>KROGER #456 MARTINSBURG NC</td>\n",
       "      <td>-229.12</td>\n",
       "      <td>KROGER</td>\n",
       "      <td>food</td>\n",
       "      <td>Essential</td>\n",
       "      <td>16.259101</td>\n",
       "    </tr>\n",
       "    <tr>\n",
       "      <th>2</th>\n",
       "      <td>04/05/2021</td>\n",
       "      <td>HOME DEPOT #11154 MARTINSBURG NC</td>\n",
       "      <td>-20.00</td>\n",
       "      <td>DEPOT</td>\n",
       "      <td>home</td>\n",
       "      <td>Non-Essential</td>\n",
       "      <td>1.419265</td>\n",
       "    </tr>\n",
       "    <tr>\n",
       "      <th>3</th>\n",
       "      <td>04/05/2021</td>\n",
       "      <td>JAPANESE RESTAURANT MARTINSBURG NC</td>\n",
       "      <td>-48.39</td>\n",
       "      <td>RESTAURANT</td>\n",
       "      <td>restaurants</td>\n",
       "      <td>Non-Essential</td>\n",
       "      <td>3.433912</td>\n",
       "    </tr>\n",
       "    <tr>\n",
       "      <th>4</th>\n",
       "      <td>04/06/2021</td>\n",
       "      <td>TRACTOR SUPPLY #5555 NEWARK NY</td>\n",
       "      <td>-27.50</td>\n",
       "      <td>TRACTOR</td>\n",
       "      <td>home</td>\n",
       "      <td>Non-Essential</td>\n",
       "      <td>1.951490</td>\n",
       "    </tr>\n",
       "    <tr>\n",
       "      <th>5</th>\n",
       "      <td>04/06/2021</td>\n",
       "      <td>WALGREENS #8885 MARTINSBURG NC</td>\n",
       "      <td>-6.86</td>\n",
       "      <td>WALGREENS</td>\n",
       "      <td>medical</td>\n",
       "      <td>Essential</td>\n",
       "      <td>0.486808</td>\n",
       "    </tr>\n",
       "    <tr>\n",
       "      <th>6</th>\n",
       "      <td>04/07/2021</td>\n",
       "      <td>MARY SUES VETERINARY -RICKARTON WV</td>\n",
       "      <td>-105.95</td>\n",
       "      <td>VETERINARY</td>\n",
       "      <td>pets</td>\n",
       "      <td>Non-Essential</td>\n",
       "      <td>7.518557</td>\n",
       "    </tr>\n",
       "    <tr>\n",
       "      <th>7</th>\n",
       "      <td>04/08/2021</td>\n",
       "      <td>Adobe Inc 888-198884354 CA</td>\n",
       "      <td>-239.00</td>\n",
       "      <td>Adobe</td>\n",
       "      <td>work</td>\n",
       "      <td>Essential</td>\n",
       "      <td>16.960218</td>\n",
       "    </tr>\n",
       "    <tr>\n",
       "      <th>8</th>\n",
       "      <td>04/08/2021</td>\n",
       "      <td>SQ *LEWIS GINTER GARRichmond WV</td>\n",
       "      <td>-31.84</td>\n",
       "      <td>GINTER</td>\n",
       "      <td>fun</td>\n",
       "      <td>Non-Essential</td>\n",
       "      <td>2.259470</td>\n",
       "    </tr>\n",
       "    <tr>\n",
       "      <th>9</th>\n",
       "      <td>04/08/2021</td>\n",
       "      <td>DOORDASH*BUFFALO WILD WWW.DOORDASH.CA</td>\n",
       "      <td>-49.00</td>\n",
       "      <td>DOORDASH</td>\n",
       "      <td>fast_food</td>\n",
       "      <td>Non-Essential</td>\n",
       "      <td>3.477200</td>\n",
       "    </tr>\n",
       "    <tr>\n",
       "      <th>10</th>\n",
       "      <td>04/09/2021</td>\n",
       "      <td>SAN DIEGO SANITATI 888-1645-8911 CA</td>\n",
       "      <td>-220.50</td>\n",
       "      <td>SANITATI</td>\n",
       "      <td>utilities</td>\n",
       "      <td>Essential</td>\n",
       "      <td>15.647398</td>\n",
       "    </tr>\n",
       "    <tr>\n",
       "      <th>11</th>\n",
       "      <td>04/10/2021</td>\n",
       "      <td>STARBUCKS STORE 56548 APPLEVILLE GA</td>\n",
       "      <td>-22.66</td>\n",
       "      <td>STARBUCKS</td>\n",
       "      <td>fast_food</td>\n",
       "      <td>Non-Essential</td>\n",
       "      <td>1.608027</td>\n",
       "    </tr>\n",
       "    <tr>\n",
       "      <th>12</th>\n",
       "      <td>04/11/2021</td>\n",
       "      <td>PLAZA AZTECA LITTLE ROCK AK</td>\n",
       "      <td>-8.46</td>\n",
       "      <td>AZTECA</td>\n",
       "      <td>restaurants</td>\n",
       "      <td>Non-Essential</td>\n",
       "      <td>0.600349</td>\n",
       "    </tr>\n",
       "    <tr>\n",
       "      <th>13</th>\n",
       "      <td>04/12/2021</td>\n",
       "      <td>VZWRLSS*APOCC VISW 800-922-0204 FL</td>\n",
       "      <td>-7.67</td>\n",
       "      <td>VZWRLSS</td>\n",
       "      <td>utilities</td>\n",
       "      <td>Essential</td>\n",
       "      <td>0.544288</td>\n",
       "    </tr>\n",
       "    <tr>\n",
       "      <th>14</th>\n",
       "      <td>04/13/2021</td>\n",
       "      <td>RITE AID 1574 LITTLE ROCK AK</td>\n",
       "      <td>-49.95</td>\n",
       "      <td>RITE</td>\n",
       "      <td>medical</td>\n",
       "      <td>Essential</td>\n",
       "      <td>3.544615</td>\n",
       "    </tr>\n",
       "    <tr>\n",
       "      <th>15</th>\n",
       "      <td>04/13/2021</td>\n",
       "      <td>PAYPAL *PURCHASE 555-634-1921 CA</td>\n",
       "      <td>-5.09</td>\n",
       "      <td>PAYPAL</td>\n",
       "      <td>online</td>\n",
       "      <td>Unknown</td>\n",
       "      <td>0.361203</td>\n",
       "    </tr>\n",
       "    <tr>\n",
       "      <th>16</th>\n",
       "      <td>04/13/2021</td>\n",
       "      <td>AMZN Mktp US*FB12334 Amzn.com/billWA</td>\n",
       "      <td>-44.27</td>\n",
       "      <td>AMZN</td>\n",
       "      <td>online</td>\n",
       "      <td>Unknown</td>\n",
       "      <td>3.141543</td>\n",
       "    </tr>\n",
       "    <tr>\n",
       "      <th>17</th>\n",
       "      <td>04/14/2021</td>\n",
       "      <td>FOOD LION #8457 CHINA LAKE CA</td>\n",
       "      <td>-16.09</td>\n",
       "      <td>LION</td>\n",
       "      <td>food</td>\n",
       "      <td>Essential</td>\n",
       "      <td>1.141799</td>\n",
       "    </tr>\n",
       "    <tr>\n",
       "      <th>18</th>\n",
       "      <td>04/16/2021</td>\n",
       "      <td>SHELL OIL 45468787999 BOSTON, MA</td>\n",
       "      <td>-39.99</td>\n",
       "      <td>SHELL</td>\n",
       "      <td>gas</td>\n",
       "      <td>Non-Essential</td>\n",
       "      <td>2.837821</td>\n",
       "    </tr>\n",
       "    <tr>\n",
       "      <th>19</th>\n",
       "      <td>04/16/2021</td>\n",
       "      <td>MAPCO 1571 FLOWER, FL</td>\n",
       "      <td>-23.45</td>\n",
       "      <td>MAPCO</td>\n",
       "      <td>gas</td>\n",
       "      <td>Non-Essential</td>\n",
       "      <td>1.664088</td>\n",
       "    </tr>\n",
       "    <tr>\n",
       "      <th>20</th>\n",
       "      <td>05/14/2021</td>\n",
       "      <td>PHYSICIANS OFFICE 888-666-2424 AL</td>\n",
       "      <td>-7.40</td>\n",
       "      <td>PHYSICIANS</td>\n",
       "      <td>medical</td>\n",
       "      <td>Essential</td>\n",
       "      <td>0.525128</td>\n",
       "    </tr>\n",
       "    <tr>\n",
       "      <th>21</th>\n",
       "      <td>05/16/2021</td>\n",
       "      <td>BOJANGLES 1931 ARLINGTON PA</td>\n",
       "      <td>-136.00</td>\n",
       "      <td>BOJANGLES</td>\n",
       "      <td>fast_food</td>\n",
       "      <td>Non-Essential</td>\n",
       "      <td>9.651003</td>\n",
       "    </tr>\n",
       "  </tbody>\n",
       "</table>\n",
       "</div>"
      ],
      "text/plain": [
       "          date                            transaction  amount   identifier  \\\n",
       "0   03/31/2021  TRELLO.COM, ATLASSIAN 888-942-1573 NY  -69.99  TRELLO.COM,   \n",
       "1   04/05/2021             KROGER #456 MARTINSBURG NC -229.12       KROGER   \n",
       "2   04/05/2021       HOME DEPOT #11154 MARTINSBURG NC  -20.00        DEPOT   \n",
       "3   04/05/2021     JAPANESE RESTAURANT MARTINSBURG NC  -48.39   RESTAURANT   \n",
       "4   04/06/2021         TRACTOR SUPPLY #5555 NEWARK NY  -27.50      TRACTOR   \n",
       "5   04/06/2021         WALGREENS #8885 MARTINSBURG NC   -6.86    WALGREENS   \n",
       "6   04/07/2021     MARY SUES VETERINARY -RICKARTON WV -105.95   VETERINARY   \n",
       "7   04/08/2021             Adobe Inc 888-198884354 CA -239.00        Adobe   \n",
       "8   04/08/2021        SQ *LEWIS GINTER GARRichmond WV  -31.84       GINTER   \n",
       "9   04/08/2021  DOORDASH*BUFFALO WILD WWW.DOORDASH.CA  -49.00     DOORDASH   \n",
       "10  04/09/2021    SAN DIEGO SANITATI 888-1645-8911 CA -220.50     SANITATI   \n",
       "11  04/10/2021    STARBUCKS STORE 56548 APPLEVILLE GA  -22.66    STARBUCKS   \n",
       "12  04/11/2021            PLAZA AZTECA LITTLE ROCK AK   -8.46       AZTECA   \n",
       "13  04/12/2021     VZWRLSS*APOCC VISW 800-922-0204 FL   -7.67      VZWRLSS   \n",
       "14  04/13/2021           RITE AID 1574 LITTLE ROCK AK  -49.95         RITE   \n",
       "15  04/13/2021       PAYPAL *PURCHASE 555-634-1921 CA   -5.09       PAYPAL   \n",
       "16  04/13/2021   AMZN Mktp US*FB12334 Amzn.com/billWA  -44.27         AMZN   \n",
       "17  04/14/2021          FOOD LION #8457 CHINA LAKE CA  -16.09         LION   \n",
       "18  04/16/2021       SHELL OIL 45468787999 BOSTON, MA  -39.99        SHELL   \n",
       "19  04/16/2021                  MAPCO 1571 FLOWER, FL  -23.45        MAPCO   \n",
       "20  05/14/2021      PHYSICIANS OFFICE 888-666-2424 AL   -7.40   PHYSICIANS   \n",
       "21  05/16/2021            BOJANGLES 1931 ARLINGTON PA -136.00    BOJANGLES   \n",
       "\n",
       "       category       priority  percentage  \n",
       "0          work      Essential    4.966718  \n",
       "1          food      Essential   16.259101  \n",
       "2          home  Non-Essential    1.419265  \n",
       "3   restaurants  Non-Essential    3.433912  \n",
       "4          home  Non-Essential    1.951490  \n",
       "5       medical      Essential    0.486808  \n",
       "6          pets  Non-Essential    7.518557  \n",
       "7          work      Essential   16.960218  \n",
       "8           fun  Non-Essential    2.259470  \n",
       "9     fast_food  Non-Essential    3.477200  \n",
       "10    utilities      Essential   15.647398  \n",
       "11    fast_food  Non-Essential    1.608027  \n",
       "12  restaurants  Non-Essential    0.600349  \n",
       "13    utilities      Essential    0.544288  \n",
       "14      medical      Essential    3.544615  \n",
       "15       online        Unknown    0.361203  \n",
       "16       online        Unknown    3.141543  \n",
       "17         food      Essential    1.141799  \n",
       "18          gas  Non-Essential    2.837821  \n",
       "19          gas  Non-Essential    1.664088  \n",
       "20      medical      Essential    0.525128  \n",
       "21    fast_food  Non-Essential    9.651003  "
      ]
     },
     "execution_count": 54,
     "metadata": {},
     "output_type": "execute_result"
    }
   ],
   "source": [
    "data_df"
   ]
  },
  {
   "cell_type": "code",
   "execution_count": 55,
   "metadata": {},
   "outputs": [],
   "source": [
    "# essential = data_df.loc[data_df['priority'] == 'Essential']\n",
    "# essential.head()"
   ]
  },
  {
   "cell_type": "code",
   "execution_count": 56,
   "metadata": {},
   "outputs": [],
   "source": [
    "# example = dict(\n",
    "#     child=[\"Essential\", \"Non-Essential\", \"Food\",\"Hobbies\", \"Restaurants\", \"Domicile\", \"Unknown\", \"Online\", \"Medical\"],\n",
    "#     parent=[\"List\", \"List\",\"Essential\", \"Non-Essential\", \"Non-Essential\", \"Essential\", \"Essential\", \"Unknown\", \"Essential\" ],\n",
    "#     value=[10, 14, 12, 10, 2, 6, 6, 4, 4])"
   ]
  },
  {
   "cell_type": "code",
   "execution_count": 57,
   "metadata": {},
   "outputs": [
    {
     "data": {
      "text/html": [
       "<div>\n",
       "<style scoped>\n",
       "    .dataframe tbody tr th:only-of-type {\n",
       "        vertical-align: middle;\n",
       "    }\n",
       "\n",
       "    .dataframe tbody tr th {\n",
       "        vertical-align: top;\n",
       "    }\n",
       "\n",
       "    .dataframe thead th {\n",
       "        text-align: right;\n",
       "    }\n",
       "</style>\n",
       "<table border=\"1\" class=\"dataframe\">\n",
       "  <thead>\n",
       "    <tr style=\"text-align: right;\">\n",
       "      <th></th>\n",
       "      <th>date</th>\n",
       "      <th>transaction</th>\n",
       "      <th>amount</th>\n",
       "      <th>identifier</th>\n",
       "      <th>category</th>\n",
       "      <th>priority</th>\n",
       "      <th>percentage</th>\n",
       "    </tr>\n",
       "  </thead>\n",
       "  <tbody>\n",
       "    <tr>\n",
       "      <th>0</th>\n",
       "      <td>03/31/2021</td>\n",
       "      <td>TRELLO.COM, ATLASSIAN 888-942-1573 NY</td>\n",
       "      <td>-69.99</td>\n",
       "      <td>TRELLO.COM,</td>\n",
       "      <td>work</td>\n",
       "      <td>Essential</td>\n",
       "      <td>4.966718</td>\n",
       "    </tr>\n",
       "    <tr>\n",
       "      <th>1</th>\n",
       "      <td>04/05/2021</td>\n",
       "      <td>KROGER #456 MARTINSBURG NC</td>\n",
       "      <td>-229.12</td>\n",
       "      <td>KROGER</td>\n",
       "      <td>food</td>\n",
       "      <td>Essential</td>\n",
       "      <td>16.259101</td>\n",
       "    </tr>\n",
       "    <tr>\n",
       "      <th>5</th>\n",
       "      <td>04/06/2021</td>\n",
       "      <td>WALGREENS #8885 MARTINSBURG NC</td>\n",
       "      <td>-6.86</td>\n",
       "      <td>WALGREENS</td>\n",
       "      <td>medical</td>\n",
       "      <td>Essential</td>\n",
       "      <td>0.486808</td>\n",
       "    </tr>\n",
       "    <tr>\n",
       "      <th>7</th>\n",
       "      <td>04/08/2021</td>\n",
       "      <td>Adobe Inc 888-198884354 CA</td>\n",
       "      <td>-239.00</td>\n",
       "      <td>Adobe</td>\n",
       "      <td>work</td>\n",
       "      <td>Essential</td>\n",
       "      <td>16.960218</td>\n",
       "    </tr>\n",
       "    <tr>\n",
       "      <th>10</th>\n",
       "      <td>04/09/2021</td>\n",
       "      <td>SAN DIEGO SANITATI 888-1645-8911 CA</td>\n",
       "      <td>-220.50</td>\n",
       "      <td>SANITATI</td>\n",
       "      <td>utilities</td>\n",
       "      <td>Essential</td>\n",
       "      <td>15.647398</td>\n",
       "    </tr>\n",
       "    <tr>\n",
       "      <th>13</th>\n",
       "      <td>04/12/2021</td>\n",
       "      <td>VZWRLSS*APOCC VISW 800-922-0204 FL</td>\n",
       "      <td>-7.67</td>\n",
       "      <td>VZWRLSS</td>\n",
       "      <td>utilities</td>\n",
       "      <td>Essential</td>\n",
       "      <td>0.544288</td>\n",
       "    </tr>\n",
       "    <tr>\n",
       "      <th>14</th>\n",
       "      <td>04/13/2021</td>\n",
       "      <td>RITE AID 1574 LITTLE ROCK AK</td>\n",
       "      <td>-49.95</td>\n",
       "      <td>RITE</td>\n",
       "      <td>medical</td>\n",
       "      <td>Essential</td>\n",
       "      <td>3.544615</td>\n",
       "    </tr>\n",
       "    <tr>\n",
       "      <th>17</th>\n",
       "      <td>04/14/2021</td>\n",
       "      <td>FOOD LION #8457 CHINA LAKE CA</td>\n",
       "      <td>-16.09</td>\n",
       "      <td>LION</td>\n",
       "      <td>food</td>\n",
       "      <td>Essential</td>\n",
       "      <td>1.141799</td>\n",
       "    </tr>\n",
       "    <tr>\n",
       "      <th>20</th>\n",
       "      <td>05/14/2021</td>\n",
       "      <td>PHYSICIANS OFFICE 888-666-2424 AL</td>\n",
       "      <td>-7.40</td>\n",
       "      <td>PHYSICIANS</td>\n",
       "      <td>medical</td>\n",
       "      <td>Essential</td>\n",
       "      <td>0.525128</td>\n",
       "    </tr>\n",
       "  </tbody>\n",
       "</table>\n",
       "</div>"
      ],
      "text/plain": [
       "          date                            transaction  amount   identifier  \\\n",
       "0   03/31/2021  TRELLO.COM, ATLASSIAN 888-942-1573 NY  -69.99  TRELLO.COM,   \n",
       "1   04/05/2021             KROGER #456 MARTINSBURG NC -229.12       KROGER   \n",
       "5   04/06/2021         WALGREENS #8885 MARTINSBURG NC   -6.86    WALGREENS   \n",
       "7   04/08/2021             Adobe Inc 888-198884354 CA -239.00        Adobe   \n",
       "10  04/09/2021    SAN DIEGO SANITATI 888-1645-8911 CA -220.50     SANITATI   \n",
       "13  04/12/2021     VZWRLSS*APOCC VISW 800-922-0204 FL   -7.67      VZWRLSS   \n",
       "14  04/13/2021           RITE AID 1574 LITTLE ROCK AK  -49.95         RITE   \n",
       "17  04/14/2021          FOOD LION #8457 CHINA LAKE CA  -16.09         LION   \n",
       "20  05/14/2021      PHYSICIANS OFFICE 888-666-2424 AL   -7.40   PHYSICIANS   \n",
       "\n",
       "     category   priority  percentage  \n",
       "0        work  Essential    4.966718  \n",
       "1        food  Essential   16.259101  \n",
       "5     medical  Essential    0.486808  \n",
       "7        work  Essential   16.960218  \n",
       "10  utilities  Essential   15.647398  \n",
       "13  utilities  Essential    0.544288  \n",
       "14    medical  Essential    3.544615  \n",
       "17       food  Essential    1.141799  \n",
       "20    medical  Essential    0.525128  "
      ]
     },
     "execution_count": 57,
     "metadata": {},
     "output_type": "execute_result"
    }
   ],
   "source": [
    "data_df.loc[data_df['priority'] == 'Essential']"
   ]
  },
  {
   "cell_type": "code",
   "execution_count": 58,
   "metadata": {},
   "outputs": [
    {
     "data": {
      "text/plain": [
       "60.07607260960275"
      ]
     },
     "execution_count": 58,
     "metadata": {},
     "output_type": "execute_result"
    }
   ],
   "source": [
    "essential_value = sum(data_df.loc[data_df['priority'] == 'Essential'].percentage)\n",
    "essential_value"
   ]
  },
  {
   "cell_type": "code",
   "execution_count": 59,
   "metadata": {},
   "outputs": [
    {
     "data": {
      "text/plain": [
       "36.421181112419994"
      ]
     },
     "execution_count": 59,
     "metadata": {},
     "output_type": "execute_result"
    }
   ],
   "source": [
    "nonessential_value = sum(data_df.loc[data_df['priority'] == 'Non-Essential'].percentage)\n",
    "nonessential_value"
   ]
  },
  {
   "cell_type": "code",
   "execution_count": 60,
   "metadata": {},
   "outputs": [
    {
     "data": {
      "text/plain": [
       "3.5027462779772636"
      ]
     },
     "execution_count": 60,
     "metadata": {},
     "output_type": "execute_result"
    }
   ],
   "source": [
    "unknown = sum(data_df.loc[data_df['priority'] == 'Unknown'].percentage)\n",
    "unknown"
   ]
  },
  {
   "cell_type": "code",
   "execution_count": 61,
   "metadata": {},
   "outputs": [
    {
     "data": {
      "text/plain": [
       "100.00000000000001"
      ]
     },
     "execution_count": 61,
     "metadata": {},
     "output_type": "execute_result"
    }
   ],
   "source": [
    "essential_value+nonessential_value+unknown"
   ]
  },
  {
   "cell_type": "code",
   "execution_count": 62,
   "metadata": {},
   "outputs": [
    {
     "name": "stdout",
     "output_type": "stream",
     "text": [
      "0\n",
      "date                                      03/31/2021\n",
      "transaction    TRELLO.COM, ATLASSIAN 888-942-1573 NY\n",
      "amount                                        -69.99\n",
      "identifier                               TRELLO.COM,\n",
      "category                                        work\n",
      "priority                                   Essential\n",
      "percentage                                   4.96672\n",
      "Name: 0, dtype: object\n",
      "4.966718233298797\n",
      "60.07607260960275\n",
      "0.08267381700489025\n"
     ]
    }
   ],
   "source": [
    "for i, r in data_df.iterrows():\n",
    "    print(i)\n",
    "    print(r)\n",
    "    print(r.percentage)\n",
    "    print(essential_value)\n",
    "    print(r['percentage']/essential_value)\n",
    "    break"
   ]
  },
  {
   "cell_type": "code",
   "execution_count": 63,
   "metadata": {},
   "outputs": [
    {
     "data": {
      "text/plain": [
       "2      3.896812\n",
       "3      9.428338\n",
       "4      5.358117\n",
       "6     20.643364\n",
       "8      6.203725\n",
       "9      9.547190\n",
       "11     4.415088\n",
       "12     1.648352\n",
       "18     7.791676\n",
       "19     4.569013\n",
       "21    26.498324\n",
       "Name: amount, dtype: float64"
      ]
     },
     "execution_count": 63,
     "metadata": {},
     "output_type": "execute_result"
    }
   ],
   "source": [
    "non = sum(data_df.loc[data_df['priority'] == 'Non-Essential'].amount)\n",
    "\n",
    "small_perc = (data_df.loc[data_df['priority'] == 'Non-Essential'].amount/non)*100\n",
    "small_perc"
   ]
  },
  {
   "cell_type": "code",
   "execution_count": 64,
   "metadata": {},
   "outputs": [],
   "source": [
    "sum_non = sum(data_df.loc[data_df['priority'] == 'Non-Essential'].amount)\n",
    "sum_ess = sum(data_df.loc[data_df['priority'] == 'Essential'].amount)\n",
    "sum_unk = sum(data_df.loc[data_df['priority'] == 'Unknown'].amount)\n",
    "percent_of_priority = []\n",
    "for index, row in data_df.iterrows():\n",
    "    if row['priority'] == 'Essential':\n",
    "        val = row['amount']/sum_ess*100\n",
    "        #val = row['percentage']/essential_value*100\n",
    "        percent_of_priority.append(val)\n",
    "        #print(index)\n",
    "        #print(f'e' + str(val))\n",
    "    elif row['priority'] == 'Non-Essential':\n",
    "        #val = row['percentage']/nonessential_value*100\n",
    "        val = row['amount']/sum_non*100\n",
    "        percent_of_priority.append(val)\n",
    "        #print(f'n' + str(val))\n",
    "    elif row['priority'] == 'Unknown':\n",
    "        try:\n",
    "            val = row['amount']/sum_unk*100\n",
    "            #val = row['percentage']/unknown*100\n",
    "            percent_of_priority.append(val)\n",
    "            #print(f'u' + str(val))\n",
    "        except:\n",
    "            percent_of_priority.append(0)\n",
    " \n",
    "    #print(row['percentage'])\n"
   ]
  },
  {
   "cell_type": "code",
   "execution_count": 65,
   "metadata": {},
   "outputs": [],
   "source": [
    "data_df['test'] = percent_of_priority"
   ]
  },
  {
   "cell_type": "code",
   "execution_count": 66,
   "metadata": {},
   "outputs": [
    {
     "data": {
      "text/plain": [
       "60.07607260960275"
      ]
     },
     "execution_count": 66,
     "metadata": {},
     "output_type": "execute_result"
    }
   ],
   "source": [
    "essential_value"
   ]
  },
  {
   "cell_type": "code",
   "execution_count": 67,
   "metadata": {},
   "outputs": [
    {
     "data": {
      "text/plain": [
       "36.421181112419994"
      ]
     },
     "execution_count": 67,
     "metadata": {},
     "output_type": "execute_result"
    }
   ],
   "source": [
    "nonessential_value"
   ]
  },
  {
   "cell_type": "code",
   "execution_count": 68,
   "metadata": {},
   "outputs": [
    {
     "data": {
      "text/plain": [
       "3.5027462779772636"
      ]
     },
     "execution_count": 68,
     "metadata": {},
     "output_type": "execute_result"
    }
   ],
   "source": [
    "unknown"
   ]
  },
  {
   "cell_type": "code",
   "execution_count": 69,
   "metadata": {},
   "outputs": [
    {
     "data": {
      "text/plain": [
       "100.0"
      ]
     },
     "execution_count": 69,
     "metadata": {},
     "output_type": "execute_result"
    }
   ],
   "source": [
    "sum(data_df.loc[data_df['priority'] == 'Essential'].test) "
   ]
  },
  {
   "cell_type": "code",
   "execution_count": 70,
   "metadata": {},
   "outputs": [
    {
     "data": {
      "text/plain": [
       "2      3.896812\n",
       "3      9.428338\n",
       "4      5.358117\n",
       "6     20.643364\n",
       "8      6.203725\n",
       "9      9.547190\n",
       "11     4.415088\n",
       "12     1.648352\n",
       "18     7.791676\n",
       "19     4.569013\n",
       "21    26.498324\n",
       "Name: amount, dtype: float64"
      ]
     },
     "execution_count": 70,
     "metadata": {},
     "output_type": "execute_result"
    }
   ],
   "source": [
    "non = sum(data_df.loc[data_df['priority'] == 'Non-Essential'].amount)\n",
    "\n",
    "small_perc = (data_df.loc[data_df['priority'] == 'Non-Essential'].amount/non)*100\n",
    "small_perc"
   ]
  },
  {
   "cell_type": "code",
   "execution_count": 71,
   "metadata": {},
   "outputs": [
    {
     "name": "stdout",
     "output_type": "stream",
     "text": [
      "846.58\n"
     ]
    }
   ],
   "source": [
    "a = 0\n",
    "for i, r in data_df.iterrows():\n",
    "    if r['priority'] == 'Essential':\n",
    "        amount = r['amount']*-1\n",
    "        a = a + amount\n",
    "        \n",
    "print(a)"
   ]
  },
  {
   "cell_type": "code",
   "execution_count": 72,
   "metadata": {},
   "outputs": [],
   "source": [
    "#percent_of_priority"
   ]
  },
  {
   "cell_type": "code",
   "execution_count": 73,
   "metadata": {},
   "outputs": [],
   "source": [
    "chart = dict(\n",
    "    child=['Essential', 'Non-Essential', 'Unknown'] + list(data_df.category),\n",
    "    parent = ['Needs/Wants', 'Needs/Wants', 'Needs/Wants'] + list(data_df.priority),\n",
    "    value = [essential_value, nonessential_value, unknown] + percent_of_priority\n",
    ")"
   ]
  },
  {
   "cell_type": "markdown",
   "metadata": {},
   "source": [
    "## Note!\n",
    "spacing is a problem, each category should make up a percentage of the total essential etc\n",
    "ie trello is 5/69, which is 7 percent of essential"
   ]
  },
  {
   "cell_type": "code",
   "execution_count": 74,
   "metadata": {},
   "outputs": [
    {
     "data": {
      "text/plain": [
       "25"
      ]
     },
     "execution_count": 74,
     "metadata": {},
     "output_type": "execute_result"
    }
   ],
   "source": [
    "len(chart['value'])"
   ]
  },
  {
   "cell_type": "code",
   "execution_count": 75,
   "metadata": {},
   "outputs": [
    {
     "data": {
      "text/plain": [
       "84"
      ]
     },
     "execution_count": 75,
     "metadata": {},
     "output_type": "execute_result"
    }
   ],
   "source": [
    "25+23+23+6+4+3\n"
   ]
  },
  {
   "cell_type": "code",
   "execution_count": 76,
   "metadata": {},
   "outputs": [
    {
     "data": {
      "text/html": [
       "<div>\n",
       "<style scoped>\n",
       "    .dataframe tbody tr th:only-of-type {\n",
       "        vertical-align: middle;\n",
       "    }\n",
       "\n",
       "    .dataframe tbody tr th {\n",
       "        vertical-align: top;\n",
       "    }\n",
       "\n",
       "    .dataframe thead th {\n",
       "        text-align: right;\n",
       "    }\n",
       "</style>\n",
       "<table border=\"1\" class=\"dataframe\">\n",
       "  <thead>\n",
       "    <tr style=\"text-align: right;\">\n",
       "      <th></th>\n",
       "      <th>date</th>\n",
       "      <th>transaction</th>\n",
       "      <th>amount</th>\n",
       "      <th>identifier</th>\n",
       "      <th>category</th>\n",
       "      <th>priority</th>\n",
       "      <th>percentage</th>\n",
       "      <th>test</th>\n",
       "    </tr>\n",
       "  </thead>\n",
       "  <tbody>\n",
       "    <tr>\n",
       "      <th>0</th>\n",
       "      <td>03/31/2021</td>\n",
       "      <td>TRELLO.COM, ATLASSIAN 888-942-1573 NY</td>\n",
       "      <td>-69.99</td>\n",
       "      <td>TRELLO.COM,</td>\n",
       "      <td>work</td>\n",
       "      <td>Essential</td>\n",
       "      <td>4.966718</td>\n",
       "      <td>8.267382</td>\n",
       "    </tr>\n",
       "    <tr>\n",
       "      <th>1</th>\n",
       "      <td>04/05/2021</td>\n",
       "      <td>KROGER #456 MARTINSBURG NC</td>\n",
       "      <td>-229.12</td>\n",
       "      <td>KROGER</td>\n",
       "      <td>food</td>\n",
       "      <td>Essential</td>\n",
       "      <td>16.259101</td>\n",
       "      <td>27.064188</td>\n",
       "    </tr>\n",
       "    <tr>\n",
       "      <th>2</th>\n",
       "      <td>04/05/2021</td>\n",
       "      <td>HOME DEPOT #11154 MARTINSBURG NC</td>\n",
       "      <td>-20.00</td>\n",
       "      <td>DEPOT</td>\n",
       "      <td>home</td>\n",
       "      <td>Non-Essential</td>\n",
       "      <td>1.419265</td>\n",
       "      <td>3.896812</td>\n",
       "    </tr>\n",
       "    <tr>\n",
       "      <th>3</th>\n",
       "      <td>04/05/2021</td>\n",
       "      <td>JAPANESE RESTAURANT MARTINSBURG NC</td>\n",
       "      <td>-48.39</td>\n",
       "      <td>RESTAURANT</td>\n",
       "      <td>restaurants</td>\n",
       "      <td>Non-Essential</td>\n",
       "      <td>3.433912</td>\n",
       "      <td>9.428338</td>\n",
       "    </tr>\n",
       "    <tr>\n",
       "      <th>4</th>\n",
       "      <td>04/06/2021</td>\n",
       "      <td>TRACTOR SUPPLY #5555 NEWARK NY</td>\n",
       "      <td>-27.50</td>\n",
       "      <td>TRACTOR</td>\n",
       "      <td>home</td>\n",
       "      <td>Non-Essential</td>\n",
       "      <td>1.951490</td>\n",
       "      <td>5.358117</td>\n",
       "    </tr>\n",
       "  </tbody>\n",
       "</table>\n",
       "</div>"
      ],
      "text/plain": [
       "         date                            transaction  amount   identifier  \\\n",
       "0  03/31/2021  TRELLO.COM, ATLASSIAN 888-942-1573 NY  -69.99  TRELLO.COM,   \n",
       "1  04/05/2021             KROGER #456 MARTINSBURG NC -229.12       KROGER   \n",
       "2  04/05/2021       HOME DEPOT #11154 MARTINSBURG NC  -20.00        DEPOT   \n",
       "3  04/05/2021     JAPANESE RESTAURANT MARTINSBURG NC  -48.39   RESTAURANT   \n",
       "4  04/06/2021         TRACTOR SUPPLY #5555 NEWARK NY  -27.50      TRACTOR   \n",
       "\n",
       "      category       priority  percentage       test  \n",
       "0         work      Essential    4.966718   8.267382  \n",
       "1         food      Essential   16.259101  27.064188  \n",
       "2         home  Non-Essential    1.419265   3.896812  \n",
       "3  restaurants  Non-Essential    3.433912   9.428338  \n",
       "4         home  Non-Essential    1.951490   5.358117  "
      ]
     },
     "execution_count": 76,
     "metadata": {},
     "output_type": "execute_result"
    }
   ],
   "source": [
    "data_df.head()"
   ]
  },
  {
   "cell_type": "code",
   "execution_count": 77,
   "metadata": {},
   "outputs": [
    {
     "data": {
      "text/plain": [
       "64"
      ]
     },
     "execution_count": 77,
     "metadata": {},
     "output_type": "execute_result"
    }
   ],
   "source": [
    "colorMapSubset = dict(zip(gradient, gradient))\n",
    "len(colorMapSubset)"
   ]
  },
  {
   "cell_type": "code",
   "execution_count": 78,
   "metadata": {},
   "outputs": [
    {
     "data": {
      "application/vnd.plotly.v1+json": {
       "config": {
        "plotlyServerURL": "https://plot.ly"
       },
       "data": [
        {
         "domain": {
          "x": [
           0,
           1
          ],
          "y": [
           0,
           1
          ]
         },
         "hovertemplate": "child=%{label}<br>value=%{color}<br>parent=%{parent}<extra></extra>",
         "labels": [
          "Essential",
          "Non-Essential",
          "Unknown",
          "work",
          "food",
          "home",
          "restaurants",
          "home",
          "medical",
          "pets",
          "work",
          "fun",
          "fast_food",
          "utilities",
          "fast_food",
          "restaurants",
          "utilities",
          "medical",
          "online",
          "online",
          "food",
          "gas",
          "gas",
          "medical",
          "fast_food"
         ],
         "marker": {
          "coloraxis": "coloraxis",
          "colors": [
           60.07607260960275,
           36.421181112419994,
           3.5027462779772636,
           8.267381700489025,
           27.064187672753903,
           3.8968124074507053,
           9.428337619826982,
           5.35811706024472,
           0.8103191665288574,
           20.643363728470113,
           28.23123626827943,
           6.203725352661523,
           9.547190398254228,
           26.045973209856125,
           4.415088457641649,
           1.6483516483516485,
           0.9059982517895532,
           5.900210257742919,
           10.311993517017829,
           89.68800648298217,
           1.900588249190862,
           7.791676408697685,
           4.569012547735952,
           0.8741052233693213,
           26.498324370664793
          ]
         },
         "name": "",
         "parents": [
          "Needs/Wants",
          "Needs/Wants",
          "Needs/Wants",
          "Essential",
          "Essential",
          "Non-Essential",
          "Non-Essential",
          "Non-Essential",
          "Essential",
          "Non-Essential",
          "Essential",
          "Non-Essential",
          "Non-Essential",
          "Essential",
          "Non-Essential",
          "Non-Essential",
          "Essential",
          "Essential",
          "Unknown",
          "Unknown",
          "Essential",
          "Non-Essential",
          "Non-Essential",
          "Essential",
          "Non-Essential"
         ],
         "type": "sunburst",
         "values": [
          60.07607260960275,
          36.421181112419994,
          3.5027462779772636,
          8.267381700489025,
          27.064187672753903,
          3.8968124074507053,
          9.428337619826982,
          5.35811706024472,
          0.8103191665288574,
          20.643363728470113,
          28.23123626827943,
          6.203725352661523,
          9.547190398254228,
          26.045973209856125,
          4.415088457641649,
          1.6483516483516485,
          0.9059982517895532,
          5.900210257742919,
          10.311993517017829,
          89.68800648298217,
          1.900588249190862,
          7.791676408697685,
          4.569012547735952,
          0.8741052233693213,
          26.498324370664793
         ]
        }
       ],
       "layout": {
        "coloraxis": {
         "colorbar": {
          "title": {
           "text": "value"
          }
         },
         "colorscale": [
          [
           0,
           "#F94144"
          ],
          [
           0.015873015873015872,
           "#F94A40"
          ],
          [
           0.031746031746031744,
           "#F9543C"
          ],
          [
           0.047619047619047616,
           "#F95D37"
          ],
          [
           0.06349206349206349,
           "#F96733"
          ],
          [
           0.07936507936507936,
           "#F8702F"
          ],
          [
           0.09523809523809523,
           "#F87A2B"
          ],
          [
           0.1111111111111111,
           "#F88326"
          ],
          [
           0.12698412698412698,
           "#F88D22"
          ],
          [
           0.14285714285714285,
           "#F8961E"
          ],
          [
           0.15873015873015872,
           "#F89B23"
          ],
          [
           0.1746031746031746,
           "#F8A129"
          ],
          [
           0.19047619047619047,
           "#F8A62E"
          ],
          [
           0.20634920634920634,
           "#F8AC34"
          ],
          [
           0.2222222222222222,
           "#F9B139"
          ],
          [
           0.23809523809523808,
           "#F9B73F"
          ],
          [
           0.25396825396825395,
           "#F9BC44"
          ],
          [
           0.2698412698412698,
           "#F9C24A"
          ],
          [
           0.2857142857142857,
           "#F9C74F"
          ],
          [
           0.30158730158730157,
           "#EDC652"
          ],
          [
           0.31746031746031744,
           "#E2C556"
          ],
          [
           0.3333333333333333,
           "#D6C459"
          ],
          [
           0.3492063492063492,
           "#CAC35C"
          ],
          [
           0.36507936507936506,
           "#BFC260"
          ],
          [
           0.38095238095238093,
           "#B3C163"
          ],
          [
           0.3968253968253968,
           "#A7C066"
          ],
          [
           0.4126984126984127,
           "#9CBF6A"
          ],
          [
           0.42857142857142855,
           "#90BE6D"
          ],
          [
           0.4444444444444444,
           "#88BC70"
          ],
          [
           0.4603174603174603,
           "#87BC70"
          ],
          [
           0.47619047619047616,
           "#7FBA74"
          ],
          [
           0.49206349206349204,
           "#76B777"
          ],
          [
           0.5079365079365079,
           "#6EB57A"
          ],
          [
           0.5238095238095238,
           "#65B37E"
          ],
          [
           0.5396825396825397,
           "#55B082"
          ],
          [
           0.5555555555555556,
           "#54AE84"
          ],
          [
           0.5714285714285714,
           "#4CAC88"
          ],
          [
           0.5873015873015873,
           "#43AA8B"
          ],
          [
           0.6031746031746031,
           "#44A78B"
          ],
          [
           0.6190476190476191,
           "#45A48C"
          ],
          [
           0.6349206349206349,
           "#479E8C"
          ],
          [
           0.6507936507936508,
           "#499C8D"
          ],
          [
           0.6666666666666666,
           "#4A998D"
          ],
          [
           0.6825396825396826,
           "#4B968D"
          ],
          [
           0.6984126984126984,
           "#4C968D"
          ],
          [
           0.7142857142857143,
           "#4D908E"
          ],
          [
           0.7301587301587301,
           "#498E90"
          ],
          [
           0.746031746031746,
           "#458C92"
          ],
          [
           0.7619047619047619,
           "#408A94"
          ],
          [
           0.7777777777777778,
           "#3C8896"
          ],
          [
           0.7936507936507936,
           "#388599"
          ],
          [
           0.8095238095238095,
           "#34839B"
          ],
          [
           0.8253968253968254,
           "#2F819D"
          ],
          [
           0.8412698412698413,
           "#2B7F9F"
          ],
          [
           0.8571428571428571,
           "#277DA1"
          ],
          [
           0.873015873015873,
           "#2C7C9F"
          ],
          [
           0.8888888888888888,
           "#327B9D"
          ],
          [
           0.9047619047619048,
           "#377A9B"
          ],
          [
           0.9206349206349206,
           "#3C7999"
          ],
          [
           0.9365079365079365,
           "#427998"
          ],
          [
           0.9523809523809523,
           "#477896"
          ],
          [
           0.9682539682539683,
           "#4C7794"
          ],
          [
           0.9841269841269841,
           "#527692"
          ],
          [
           1,
           "#577590"
          ]
         ]
        },
        "legend": {
         "tracegroupgap": 0
        },
        "margin": {
         "t": 60
        },
        "template": {
         "data": {
          "bar": [
           {
            "error_x": {
             "color": "#2a3f5f"
            },
            "error_y": {
             "color": "#2a3f5f"
            },
            "marker": {
             "line": {
              "color": "#E5ECF6",
              "width": 0.5
             }
            },
            "type": "bar"
           }
          ],
          "barpolar": [
           {
            "marker": {
             "line": {
              "color": "#E5ECF6",
              "width": 0.5
             }
            },
            "type": "barpolar"
           }
          ],
          "carpet": [
           {
            "aaxis": {
             "endlinecolor": "#2a3f5f",
             "gridcolor": "white",
             "linecolor": "white",
             "minorgridcolor": "white",
             "startlinecolor": "#2a3f5f"
            },
            "baxis": {
             "endlinecolor": "#2a3f5f",
             "gridcolor": "white",
             "linecolor": "white",
             "minorgridcolor": "white",
             "startlinecolor": "#2a3f5f"
            },
            "type": "carpet"
           }
          ],
          "choropleth": [
           {
            "colorbar": {
             "outlinewidth": 0,
             "ticks": ""
            },
            "type": "choropleth"
           }
          ],
          "contour": [
           {
            "colorbar": {
             "outlinewidth": 0,
             "ticks": ""
            },
            "colorscale": [
             [
              0,
              "#0d0887"
             ],
             [
              0.1111111111111111,
              "#46039f"
             ],
             [
              0.2222222222222222,
              "#7201a8"
             ],
             [
              0.3333333333333333,
              "#9c179e"
             ],
             [
              0.4444444444444444,
              "#bd3786"
             ],
             [
              0.5555555555555556,
              "#d8576b"
             ],
             [
              0.6666666666666666,
              "#ed7953"
             ],
             [
              0.7777777777777778,
              "#fb9f3a"
             ],
             [
              0.8888888888888888,
              "#fdca26"
             ],
             [
              1,
              "#f0f921"
             ]
            ],
            "type": "contour"
           }
          ],
          "contourcarpet": [
           {
            "colorbar": {
             "outlinewidth": 0,
             "ticks": ""
            },
            "type": "contourcarpet"
           }
          ],
          "heatmap": [
           {
            "colorbar": {
             "outlinewidth": 0,
             "ticks": ""
            },
            "colorscale": [
             [
              0,
              "#0d0887"
             ],
             [
              0.1111111111111111,
              "#46039f"
             ],
             [
              0.2222222222222222,
              "#7201a8"
             ],
             [
              0.3333333333333333,
              "#9c179e"
             ],
             [
              0.4444444444444444,
              "#bd3786"
             ],
             [
              0.5555555555555556,
              "#d8576b"
             ],
             [
              0.6666666666666666,
              "#ed7953"
             ],
             [
              0.7777777777777778,
              "#fb9f3a"
             ],
             [
              0.8888888888888888,
              "#fdca26"
             ],
             [
              1,
              "#f0f921"
             ]
            ],
            "type": "heatmap"
           }
          ],
          "heatmapgl": [
           {
            "colorbar": {
             "outlinewidth": 0,
             "ticks": ""
            },
            "colorscale": [
             [
              0,
              "#0d0887"
             ],
             [
              0.1111111111111111,
              "#46039f"
             ],
             [
              0.2222222222222222,
              "#7201a8"
             ],
             [
              0.3333333333333333,
              "#9c179e"
             ],
             [
              0.4444444444444444,
              "#bd3786"
             ],
             [
              0.5555555555555556,
              "#d8576b"
             ],
             [
              0.6666666666666666,
              "#ed7953"
             ],
             [
              0.7777777777777778,
              "#fb9f3a"
             ],
             [
              0.8888888888888888,
              "#fdca26"
             ],
             [
              1,
              "#f0f921"
             ]
            ],
            "type": "heatmapgl"
           }
          ],
          "histogram": [
           {
            "marker": {
             "colorbar": {
              "outlinewidth": 0,
              "ticks": ""
             }
            },
            "type": "histogram"
           }
          ],
          "histogram2d": [
           {
            "colorbar": {
             "outlinewidth": 0,
             "ticks": ""
            },
            "colorscale": [
             [
              0,
              "#0d0887"
             ],
             [
              0.1111111111111111,
              "#46039f"
             ],
             [
              0.2222222222222222,
              "#7201a8"
             ],
             [
              0.3333333333333333,
              "#9c179e"
             ],
             [
              0.4444444444444444,
              "#bd3786"
             ],
             [
              0.5555555555555556,
              "#d8576b"
             ],
             [
              0.6666666666666666,
              "#ed7953"
             ],
             [
              0.7777777777777778,
              "#fb9f3a"
             ],
             [
              0.8888888888888888,
              "#fdca26"
             ],
             [
              1,
              "#f0f921"
             ]
            ],
            "type": "histogram2d"
           }
          ],
          "histogram2dcontour": [
           {
            "colorbar": {
             "outlinewidth": 0,
             "ticks": ""
            },
            "colorscale": [
             [
              0,
              "#0d0887"
             ],
             [
              0.1111111111111111,
              "#46039f"
             ],
             [
              0.2222222222222222,
              "#7201a8"
             ],
             [
              0.3333333333333333,
              "#9c179e"
             ],
             [
              0.4444444444444444,
              "#bd3786"
             ],
             [
              0.5555555555555556,
              "#d8576b"
             ],
             [
              0.6666666666666666,
              "#ed7953"
             ],
             [
              0.7777777777777778,
              "#fb9f3a"
             ],
             [
              0.8888888888888888,
              "#fdca26"
             ],
             [
              1,
              "#f0f921"
             ]
            ],
            "type": "histogram2dcontour"
           }
          ],
          "mesh3d": [
           {
            "colorbar": {
             "outlinewidth": 0,
             "ticks": ""
            },
            "type": "mesh3d"
           }
          ],
          "parcoords": [
           {
            "line": {
             "colorbar": {
              "outlinewidth": 0,
              "ticks": ""
             }
            },
            "type": "parcoords"
           }
          ],
          "pie": [
           {
            "automargin": true,
            "type": "pie"
           }
          ],
          "scatter": [
           {
            "marker": {
             "colorbar": {
              "outlinewidth": 0,
              "ticks": ""
             }
            },
            "type": "scatter"
           }
          ],
          "scatter3d": [
           {
            "line": {
             "colorbar": {
              "outlinewidth": 0,
              "ticks": ""
             }
            },
            "marker": {
             "colorbar": {
              "outlinewidth": 0,
              "ticks": ""
             }
            },
            "type": "scatter3d"
           }
          ],
          "scattercarpet": [
           {
            "marker": {
             "colorbar": {
              "outlinewidth": 0,
              "ticks": ""
             }
            },
            "type": "scattercarpet"
           }
          ],
          "scattergeo": [
           {
            "marker": {
             "colorbar": {
              "outlinewidth": 0,
              "ticks": ""
             }
            },
            "type": "scattergeo"
           }
          ],
          "scattergl": [
           {
            "marker": {
             "colorbar": {
              "outlinewidth": 0,
              "ticks": ""
             }
            },
            "type": "scattergl"
           }
          ],
          "scattermapbox": [
           {
            "marker": {
             "colorbar": {
              "outlinewidth": 0,
              "ticks": ""
             }
            },
            "type": "scattermapbox"
           }
          ],
          "scatterpolar": [
           {
            "marker": {
             "colorbar": {
              "outlinewidth": 0,
              "ticks": ""
             }
            },
            "type": "scatterpolar"
           }
          ],
          "scatterpolargl": [
           {
            "marker": {
             "colorbar": {
              "outlinewidth": 0,
              "ticks": ""
             }
            },
            "type": "scatterpolargl"
           }
          ],
          "scatterternary": [
           {
            "marker": {
             "colorbar": {
              "outlinewidth": 0,
              "ticks": ""
             }
            },
            "type": "scatterternary"
           }
          ],
          "surface": [
           {
            "colorbar": {
             "outlinewidth": 0,
             "ticks": ""
            },
            "colorscale": [
             [
              0,
              "#0d0887"
             ],
             [
              0.1111111111111111,
              "#46039f"
             ],
             [
              0.2222222222222222,
              "#7201a8"
             ],
             [
              0.3333333333333333,
              "#9c179e"
             ],
             [
              0.4444444444444444,
              "#bd3786"
             ],
             [
              0.5555555555555556,
              "#d8576b"
             ],
             [
              0.6666666666666666,
              "#ed7953"
             ],
             [
              0.7777777777777778,
              "#fb9f3a"
             ],
             [
              0.8888888888888888,
              "#fdca26"
             ],
             [
              1,
              "#f0f921"
             ]
            ],
            "type": "surface"
           }
          ],
          "table": [
           {
            "cells": {
             "fill": {
              "color": "#EBF0F8"
             },
             "line": {
              "color": "white"
             }
            },
            "header": {
             "fill": {
              "color": "#C8D4E3"
             },
             "line": {
              "color": "white"
             }
            },
            "type": "table"
           }
          ]
         },
         "layout": {
          "annotationdefaults": {
           "arrowcolor": "#2a3f5f",
           "arrowhead": 0,
           "arrowwidth": 1
          },
          "autotypenumbers": "strict",
          "coloraxis": {
           "colorbar": {
            "outlinewidth": 0,
            "ticks": ""
           }
          },
          "colorscale": {
           "diverging": [
            [
             0,
             "#8e0152"
            ],
            [
             0.1,
             "#c51b7d"
            ],
            [
             0.2,
             "#de77ae"
            ],
            [
             0.3,
             "#f1b6da"
            ],
            [
             0.4,
             "#fde0ef"
            ],
            [
             0.5,
             "#f7f7f7"
            ],
            [
             0.6,
             "#e6f5d0"
            ],
            [
             0.7,
             "#b8e186"
            ],
            [
             0.8,
             "#7fbc41"
            ],
            [
             0.9,
             "#4d9221"
            ],
            [
             1,
             "#276419"
            ]
           ],
           "sequential": [
            [
             0,
             "#0d0887"
            ],
            [
             0.1111111111111111,
             "#46039f"
            ],
            [
             0.2222222222222222,
             "#7201a8"
            ],
            [
             0.3333333333333333,
             "#9c179e"
            ],
            [
             0.4444444444444444,
             "#bd3786"
            ],
            [
             0.5555555555555556,
             "#d8576b"
            ],
            [
             0.6666666666666666,
             "#ed7953"
            ],
            [
             0.7777777777777778,
             "#fb9f3a"
            ],
            [
             0.8888888888888888,
             "#fdca26"
            ],
            [
             1,
             "#f0f921"
            ]
           ],
           "sequentialminus": [
            [
             0,
             "#0d0887"
            ],
            [
             0.1111111111111111,
             "#46039f"
            ],
            [
             0.2222222222222222,
             "#7201a8"
            ],
            [
             0.3333333333333333,
             "#9c179e"
            ],
            [
             0.4444444444444444,
             "#bd3786"
            ],
            [
             0.5555555555555556,
             "#d8576b"
            ],
            [
             0.6666666666666666,
             "#ed7953"
            ],
            [
             0.7777777777777778,
             "#fb9f3a"
            ],
            [
             0.8888888888888888,
             "#fdca26"
            ],
            [
             1,
             "#f0f921"
            ]
           ]
          },
          "colorway": [
           "#636efa",
           "#EF553B",
           "#00cc96",
           "#ab63fa",
           "#FFA15A",
           "#19d3f3",
           "#FF6692",
           "#B6E880",
           "#FF97FF",
           "#FECB52"
          ],
          "font": {
           "color": "#2a3f5f"
          },
          "geo": {
           "bgcolor": "white",
           "lakecolor": "white",
           "landcolor": "#E5ECF6",
           "showlakes": true,
           "showland": true,
           "subunitcolor": "white"
          },
          "hoverlabel": {
           "align": "left"
          },
          "hovermode": "closest",
          "mapbox": {
           "style": "light"
          },
          "paper_bgcolor": "white",
          "plot_bgcolor": "#E5ECF6",
          "polar": {
           "angularaxis": {
            "gridcolor": "white",
            "linecolor": "white",
            "ticks": ""
           },
           "bgcolor": "#E5ECF6",
           "radialaxis": {
            "gridcolor": "white",
            "linecolor": "white",
            "ticks": ""
           }
          },
          "scene": {
           "xaxis": {
            "backgroundcolor": "#E5ECF6",
            "gridcolor": "white",
            "gridwidth": 2,
            "linecolor": "white",
            "showbackground": true,
            "ticks": "",
            "zerolinecolor": "white"
           },
           "yaxis": {
            "backgroundcolor": "#E5ECF6",
            "gridcolor": "white",
            "gridwidth": 2,
            "linecolor": "white",
            "showbackground": true,
            "ticks": "",
            "zerolinecolor": "white"
           },
           "zaxis": {
            "backgroundcolor": "#E5ECF6",
            "gridcolor": "white",
            "gridwidth": 2,
            "linecolor": "white",
            "showbackground": true,
            "ticks": "",
            "zerolinecolor": "white"
           }
          },
          "shapedefaults": {
           "line": {
            "color": "#2a3f5f"
           }
          },
          "ternary": {
           "aaxis": {
            "gridcolor": "white",
            "linecolor": "white",
            "ticks": ""
           },
           "baxis": {
            "gridcolor": "white",
            "linecolor": "white",
            "ticks": ""
           },
           "bgcolor": "#E5ECF6",
           "caxis": {
            "gridcolor": "white",
            "linecolor": "white",
            "ticks": ""
           }
          },
          "title": {
           "x": 0.05
          },
          "xaxis": {
           "automargin": true,
           "gridcolor": "white",
           "linecolor": "white",
           "ticks": "",
           "title": {
            "standoff": 15
           },
           "zerolinecolor": "white",
           "zerolinewidth": 2
          },
          "yaxis": {
           "automargin": true,
           "gridcolor": "white",
           "linecolor": "white",
           "ticks": "",
           "title": {
            "standoff": 15
           },
           "zerolinecolor": "white",
           "zerolinewidth": 2
          }
         }
        }
       }
      },
      "text/html": [
       "<div>                            <div id=\"aa4c67fd-547e-4048-9f9f-5b4dd3273961\" class=\"plotly-graph-div\" style=\"height:525px; width:100%;\"></div>            <script type=\"text/javascript\">                require([\"plotly\"], function(Plotly) {                    window.PLOTLYENV=window.PLOTLYENV || {};                                    if (document.getElementById(\"aa4c67fd-547e-4048-9f9f-5b4dd3273961\")) {                    Plotly.newPlot(                        \"aa4c67fd-547e-4048-9f9f-5b4dd3273961\",                        [{\"domain\": {\"x\": [0.0, 1.0], \"y\": [0.0, 1.0]}, \"hovertemplate\": \"child=%{label}<br>value=%{color}<br>parent=%{parent}<extra></extra>\", \"labels\": [\"Essential\", \"Non-Essential\", \"Unknown\", \"work\", \"food\", \"home\", \"restaurants\", \"home\", \"medical\", \"pets\", \"work\", \"fun\", \"fast_food\", \"utilities\", \"fast_food\", \"restaurants\", \"utilities\", \"medical\", \"online\", \"online\", \"food\", \"gas\", \"gas\", \"medical\", \"fast_food\"], \"marker\": {\"coloraxis\": \"coloraxis\", \"colors\": [60.07607260960275, 36.421181112419994, 3.5027462779772636, 8.267381700489025, 27.064187672753903, 3.8968124074507053, 9.428337619826982, 5.35811706024472, 0.8103191665288574, 20.643363728470113, 28.23123626827943, 6.203725352661523, 9.547190398254228, 26.045973209856125, 4.415088457641649, 1.6483516483516485, 0.9059982517895532, 5.900210257742919, 10.311993517017829, 89.68800648298217, 1.900588249190862, 7.791676408697685, 4.569012547735952, 0.8741052233693213, 26.498324370664793]}, \"name\": \"\", \"parents\": [\"Needs/Wants\", \"Needs/Wants\", \"Needs/Wants\", \"Essential\", \"Essential\", \"Non-Essential\", \"Non-Essential\", \"Non-Essential\", \"Essential\", \"Non-Essential\", \"Essential\", \"Non-Essential\", \"Non-Essential\", \"Essential\", \"Non-Essential\", \"Non-Essential\", \"Essential\", \"Essential\", \"Unknown\", \"Unknown\", \"Essential\", \"Non-Essential\", \"Non-Essential\", \"Essential\", \"Non-Essential\"], \"type\": \"sunburst\", \"values\": [60.07607260960275, 36.421181112419994, 3.5027462779772636, 8.267381700489025, 27.064187672753903, 3.8968124074507053, 9.428337619826982, 5.35811706024472, 0.8103191665288574, 20.643363728470113, 28.23123626827943, 6.203725352661523, 9.547190398254228, 26.045973209856125, 4.415088457641649, 1.6483516483516485, 0.9059982517895532, 5.900210257742919, 10.311993517017829, 89.68800648298217, 1.900588249190862, 7.791676408697685, 4.569012547735952, 0.8741052233693213, 26.498324370664793]}],                        {\"coloraxis\": {\"colorbar\": {\"title\": {\"text\": \"value\"}}, \"colorscale\": [[0.0, \"#F94144\"], [0.015873015873015872, \"#F94A40\"], [0.031746031746031744, \"#F9543C\"], [0.047619047619047616, \"#F95D37\"], [0.06349206349206349, \"#F96733\"], [0.07936507936507936, \"#F8702F\"], [0.09523809523809523, \"#F87A2B\"], [0.1111111111111111, \"#F88326\"], [0.12698412698412698, \"#F88D22\"], [0.14285714285714285, \"#F8961E\"], [0.15873015873015872, \"#F89B23\"], [0.1746031746031746, \"#F8A129\"], [0.19047619047619047, \"#F8A62E\"], [0.20634920634920634, \"#F8AC34\"], [0.2222222222222222, \"#F9B139\"], [0.23809523809523808, \"#F9B73F\"], [0.25396825396825395, \"#F9BC44\"], [0.2698412698412698, \"#F9C24A\"], [0.2857142857142857, \"#F9C74F\"], [0.30158730158730157, \"#EDC652\"], [0.31746031746031744, \"#E2C556\"], [0.3333333333333333, \"#D6C459\"], [0.3492063492063492, \"#CAC35C\"], [0.36507936507936506, \"#BFC260\"], [0.38095238095238093, \"#B3C163\"], [0.3968253968253968, \"#A7C066\"], [0.4126984126984127, \"#9CBF6A\"], [0.42857142857142855, \"#90BE6D\"], [0.4444444444444444, \"#88BC70\"], [0.4603174603174603, \"#87BC70\"], [0.47619047619047616, \"#7FBA74\"], [0.49206349206349204, \"#76B777\"], [0.5079365079365079, \"#6EB57A\"], [0.5238095238095238, \"#65B37E\"], [0.5396825396825397, \"#55B082\"], [0.5555555555555556, \"#54AE84\"], [0.5714285714285714, \"#4CAC88\"], [0.5873015873015873, \"#43AA8B\"], [0.6031746031746031, \"#44A78B\"], [0.6190476190476191, \"#45A48C\"], [0.6349206349206349, \"#479E8C\"], [0.6507936507936508, \"#499C8D\"], [0.6666666666666666, \"#4A998D\"], [0.6825396825396826, \"#4B968D\"], [0.6984126984126984, \"#4C968D\"], [0.7142857142857143, \"#4D908E\"], [0.7301587301587301, \"#498E90\"], [0.746031746031746, \"#458C92\"], [0.7619047619047619, \"#408A94\"], [0.7777777777777778, \"#3C8896\"], [0.7936507936507936, \"#388599\"], [0.8095238095238095, \"#34839B\"], [0.8253968253968254, \"#2F819D\"], [0.8412698412698413, \"#2B7F9F\"], [0.8571428571428571, \"#277DA1\"], [0.873015873015873, \"#2C7C9F\"], [0.8888888888888888, \"#327B9D\"], [0.9047619047619048, \"#377A9B\"], [0.9206349206349206, \"#3C7999\"], [0.9365079365079365, \"#427998\"], [0.9523809523809523, \"#477896\"], [0.9682539682539683, \"#4C7794\"], [0.9841269841269841, \"#527692\"], [1.0, \"#577590\"]]}, \"legend\": {\"tracegroupgap\": 0}, \"margin\": {\"t\": 60}, \"template\": {\"data\": {\"bar\": [{\"error_x\": {\"color\": \"#2a3f5f\"}, \"error_y\": {\"color\": \"#2a3f5f\"}, \"marker\": {\"line\": {\"color\": \"#E5ECF6\", \"width\": 0.5}}, \"type\": \"bar\"}], \"barpolar\": [{\"marker\": {\"line\": {\"color\": \"#E5ECF6\", \"width\": 0.5}}, \"type\": \"barpolar\"}], \"carpet\": [{\"aaxis\": {\"endlinecolor\": \"#2a3f5f\", \"gridcolor\": \"white\", \"linecolor\": \"white\", \"minorgridcolor\": \"white\", \"startlinecolor\": \"#2a3f5f\"}, \"baxis\": {\"endlinecolor\": \"#2a3f5f\", \"gridcolor\": \"white\", \"linecolor\": \"white\", \"minorgridcolor\": \"white\", \"startlinecolor\": \"#2a3f5f\"}, \"type\": \"carpet\"}], \"choropleth\": [{\"colorbar\": {\"outlinewidth\": 0, \"ticks\": \"\"}, \"type\": \"choropleth\"}], \"contour\": [{\"colorbar\": {\"outlinewidth\": 0, \"ticks\": \"\"}, \"colorscale\": [[0.0, \"#0d0887\"], [0.1111111111111111, \"#46039f\"], [0.2222222222222222, \"#7201a8\"], [0.3333333333333333, \"#9c179e\"], [0.4444444444444444, \"#bd3786\"], [0.5555555555555556, \"#d8576b\"], [0.6666666666666666, \"#ed7953\"], [0.7777777777777778, \"#fb9f3a\"], [0.8888888888888888, \"#fdca26\"], [1.0, \"#f0f921\"]], \"type\": \"contour\"}], \"contourcarpet\": [{\"colorbar\": {\"outlinewidth\": 0, \"ticks\": \"\"}, \"type\": \"contourcarpet\"}], \"heatmap\": [{\"colorbar\": {\"outlinewidth\": 0, \"ticks\": \"\"}, \"colorscale\": [[0.0, \"#0d0887\"], [0.1111111111111111, \"#46039f\"], [0.2222222222222222, \"#7201a8\"], [0.3333333333333333, \"#9c179e\"], [0.4444444444444444, \"#bd3786\"], [0.5555555555555556, \"#d8576b\"], [0.6666666666666666, \"#ed7953\"], [0.7777777777777778, \"#fb9f3a\"], [0.8888888888888888, \"#fdca26\"], [1.0, \"#f0f921\"]], \"type\": \"heatmap\"}], \"heatmapgl\": [{\"colorbar\": {\"outlinewidth\": 0, \"ticks\": \"\"}, \"colorscale\": [[0.0, \"#0d0887\"], [0.1111111111111111, \"#46039f\"], [0.2222222222222222, \"#7201a8\"], [0.3333333333333333, \"#9c179e\"], [0.4444444444444444, \"#bd3786\"], [0.5555555555555556, \"#d8576b\"], [0.6666666666666666, \"#ed7953\"], [0.7777777777777778, \"#fb9f3a\"], [0.8888888888888888, \"#fdca26\"], [1.0, \"#f0f921\"]], \"type\": \"heatmapgl\"}], \"histogram\": [{\"marker\": {\"colorbar\": {\"outlinewidth\": 0, \"ticks\": \"\"}}, \"type\": \"histogram\"}], \"histogram2d\": [{\"colorbar\": {\"outlinewidth\": 0, \"ticks\": \"\"}, \"colorscale\": [[0.0, \"#0d0887\"], [0.1111111111111111, \"#46039f\"], [0.2222222222222222, \"#7201a8\"], [0.3333333333333333, \"#9c179e\"], [0.4444444444444444, \"#bd3786\"], [0.5555555555555556, \"#d8576b\"], [0.6666666666666666, \"#ed7953\"], [0.7777777777777778, \"#fb9f3a\"], [0.8888888888888888, \"#fdca26\"], [1.0, \"#f0f921\"]], \"type\": \"histogram2d\"}], \"histogram2dcontour\": [{\"colorbar\": {\"outlinewidth\": 0, \"ticks\": \"\"}, \"colorscale\": [[0.0, \"#0d0887\"], [0.1111111111111111, \"#46039f\"], [0.2222222222222222, \"#7201a8\"], [0.3333333333333333, \"#9c179e\"], [0.4444444444444444, \"#bd3786\"], [0.5555555555555556, \"#d8576b\"], [0.6666666666666666, \"#ed7953\"], [0.7777777777777778, \"#fb9f3a\"], [0.8888888888888888, \"#fdca26\"], [1.0, \"#f0f921\"]], \"type\": \"histogram2dcontour\"}], \"mesh3d\": [{\"colorbar\": {\"outlinewidth\": 0, \"ticks\": \"\"}, \"type\": \"mesh3d\"}], \"parcoords\": [{\"line\": {\"colorbar\": {\"outlinewidth\": 0, \"ticks\": \"\"}}, \"type\": \"parcoords\"}], \"pie\": [{\"automargin\": true, \"type\": \"pie\"}], \"scatter\": [{\"marker\": {\"colorbar\": {\"outlinewidth\": 0, \"ticks\": \"\"}}, \"type\": \"scatter\"}], \"scatter3d\": [{\"line\": {\"colorbar\": {\"outlinewidth\": 0, \"ticks\": \"\"}}, \"marker\": {\"colorbar\": {\"outlinewidth\": 0, \"ticks\": \"\"}}, \"type\": \"scatter3d\"}], \"scattercarpet\": [{\"marker\": {\"colorbar\": {\"outlinewidth\": 0, \"ticks\": \"\"}}, \"type\": \"scattercarpet\"}], \"scattergeo\": [{\"marker\": {\"colorbar\": {\"outlinewidth\": 0, \"ticks\": \"\"}}, \"type\": \"scattergeo\"}], \"scattergl\": [{\"marker\": {\"colorbar\": {\"outlinewidth\": 0, \"ticks\": \"\"}}, \"type\": \"scattergl\"}], \"scattermapbox\": [{\"marker\": {\"colorbar\": {\"outlinewidth\": 0, \"ticks\": \"\"}}, \"type\": \"scattermapbox\"}], \"scatterpolar\": [{\"marker\": {\"colorbar\": {\"outlinewidth\": 0, \"ticks\": \"\"}}, \"type\": \"scatterpolar\"}], \"scatterpolargl\": [{\"marker\": {\"colorbar\": {\"outlinewidth\": 0, \"ticks\": \"\"}}, \"type\": \"scatterpolargl\"}], \"scatterternary\": [{\"marker\": {\"colorbar\": {\"outlinewidth\": 0, \"ticks\": \"\"}}, \"type\": \"scatterternary\"}], \"surface\": [{\"colorbar\": {\"outlinewidth\": 0, \"ticks\": \"\"}, \"colorscale\": [[0.0, \"#0d0887\"], [0.1111111111111111, \"#46039f\"], [0.2222222222222222, \"#7201a8\"], [0.3333333333333333, \"#9c179e\"], [0.4444444444444444, \"#bd3786\"], [0.5555555555555556, \"#d8576b\"], [0.6666666666666666, \"#ed7953\"], [0.7777777777777778, \"#fb9f3a\"], [0.8888888888888888, \"#fdca26\"], [1.0, \"#f0f921\"]], \"type\": \"surface\"}], \"table\": [{\"cells\": {\"fill\": {\"color\": \"#EBF0F8\"}, \"line\": {\"color\": \"white\"}}, \"header\": {\"fill\": {\"color\": \"#C8D4E3\"}, \"line\": {\"color\": \"white\"}}, \"type\": \"table\"}]}, \"layout\": {\"annotationdefaults\": {\"arrowcolor\": \"#2a3f5f\", \"arrowhead\": 0, \"arrowwidth\": 1}, \"autotypenumbers\": \"strict\", \"coloraxis\": {\"colorbar\": {\"outlinewidth\": 0, \"ticks\": \"\"}}, \"colorscale\": {\"diverging\": [[0, \"#8e0152\"], [0.1, \"#c51b7d\"], [0.2, \"#de77ae\"], [0.3, \"#f1b6da\"], [0.4, \"#fde0ef\"], [0.5, \"#f7f7f7\"], [0.6, \"#e6f5d0\"], [0.7, \"#b8e186\"], [0.8, \"#7fbc41\"], [0.9, \"#4d9221\"], [1, \"#276419\"]], \"sequential\": [[0.0, \"#0d0887\"], [0.1111111111111111, \"#46039f\"], [0.2222222222222222, \"#7201a8\"], [0.3333333333333333, \"#9c179e\"], [0.4444444444444444, \"#bd3786\"], [0.5555555555555556, \"#d8576b\"], [0.6666666666666666, \"#ed7953\"], [0.7777777777777778, \"#fb9f3a\"], [0.8888888888888888, \"#fdca26\"], [1.0, \"#f0f921\"]], \"sequentialminus\": [[0.0, \"#0d0887\"], [0.1111111111111111, \"#46039f\"], [0.2222222222222222, \"#7201a8\"], [0.3333333333333333, \"#9c179e\"], [0.4444444444444444, \"#bd3786\"], [0.5555555555555556, \"#d8576b\"], [0.6666666666666666, \"#ed7953\"], [0.7777777777777778, \"#fb9f3a\"], [0.8888888888888888, \"#fdca26\"], [1.0, \"#f0f921\"]]}, \"colorway\": [\"#636efa\", \"#EF553B\", \"#00cc96\", \"#ab63fa\", \"#FFA15A\", \"#19d3f3\", \"#FF6692\", \"#B6E880\", \"#FF97FF\", \"#FECB52\"], \"font\": {\"color\": \"#2a3f5f\"}, \"geo\": {\"bgcolor\": \"white\", \"lakecolor\": \"white\", \"landcolor\": \"#E5ECF6\", \"showlakes\": true, \"showland\": true, \"subunitcolor\": \"white\"}, \"hoverlabel\": {\"align\": \"left\"}, \"hovermode\": \"closest\", \"mapbox\": {\"style\": \"light\"}, \"paper_bgcolor\": \"white\", \"plot_bgcolor\": \"#E5ECF6\", \"polar\": {\"angularaxis\": {\"gridcolor\": \"white\", \"linecolor\": \"white\", \"ticks\": \"\"}, \"bgcolor\": \"#E5ECF6\", \"radialaxis\": {\"gridcolor\": \"white\", \"linecolor\": \"white\", \"ticks\": \"\"}}, \"scene\": {\"xaxis\": {\"backgroundcolor\": \"#E5ECF6\", \"gridcolor\": \"white\", \"gridwidth\": 2, \"linecolor\": \"white\", \"showbackground\": true, \"ticks\": \"\", \"zerolinecolor\": \"white\"}, \"yaxis\": {\"backgroundcolor\": \"#E5ECF6\", \"gridcolor\": \"white\", \"gridwidth\": 2, \"linecolor\": \"white\", \"showbackground\": true, \"ticks\": \"\", \"zerolinecolor\": \"white\"}, \"zaxis\": {\"backgroundcolor\": \"#E5ECF6\", \"gridcolor\": \"white\", \"gridwidth\": 2, \"linecolor\": \"white\", \"showbackground\": true, \"ticks\": \"\", \"zerolinecolor\": \"white\"}}, \"shapedefaults\": {\"line\": {\"color\": \"#2a3f5f\"}}, \"ternary\": {\"aaxis\": {\"gridcolor\": \"white\", \"linecolor\": \"white\", \"ticks\": \"\"}, \"baxis\": {\"gridcolor\": \"white\", \"linecolor\": \"white\", \"ticks\": \"\"}, \"bgcolor\": \"#E5ECF6\", \"caxis\": {\"gridcolor\": \"white\", \"linecolor\": \"white\", \"ticks\": \"\"}}, \"title\": {\"x\": 0.05}, \"xaxis\": {\"automargin\": true, \"gridcolor\": \"white\", \"linecolor\": \"white\", \"ticks\": \"\", \"title\": {\"standoff\": 15}, \"zerolinecolor\": \"white\", \"zerolinewidth\": 2}, \"yaxis\": {\"automargin\": true, \"gridcolor\": \"white\", \"linecolor\": \"white\", \"ticks\": \"\", \"title\": {\"standoff\": 15}, \"zerolinecolor\": \"white\", \"zerolinewidth\": 2}}}},                        {\"responsive\": true}                    ).then(function(){\n",
       "                            \n",
       "var gd = document.getElementById('aa4c67fd-547e-4048-9f9f-5b4dd3273961');\n",
       "var x = new MutationObserver(function (mutations, observer) {{\n",
       "        var display = window.getComputedStyle(gd).display;\n",
       "        if (!display || display === 'none') {{\n",
       "            console.log([gd, 'removed!']);\n",
       "            Plotly.purge(gd);\n",
       "            observer.disconnect();\n",
       "        }}\n",
       "}});\n",
       "\n",
       "// Listen for the removal of the full notebook cells\n",
       "var notebookContainer = gd.closest('#notebook-container');\n",
       "if (notebookContainer) {{\n",
       "    x.observe(notebookContainer, {childList: true});\n",
       "}}\n",
       "\n",
       "// Listen for the clearing of the current output cell\n",
       "var outputEl = gd.closest('.output');\n",
       "if (outputEl) {{\n",
       "    x.observe(outputEl, {childList: true});\n",
       "}}\n",
       "\n",
       "                        })                };                });            </script>        </div>"
      ]
     },
     "metadata": {},
     "output_type": "display_data"
    }
   ],
   "source": [
    "import plotly.io as pio\n",
    "fig = px.sunburst(\n",
    "    chart,\n",
    "    names='child',\n",
    "    parents='parent',\n",
    "    values='value',\n",
    "    color='value',\n",
    "    color_continuous_scale=gradient\n",
    ")\n",
    "\n",
    "#can save as an svg\n",
    "pio.write_image(fig, '../images/sunburst.pdf', width=700, height=775)\n",
    "#fig.write_image('../images/sunburst.jpeg')\n",
    "# fig.add_trace(go.Sunburst(\n",
    "#     hovertemplate='<b>%{label} </b> <br> Sales: %{value}<br> Success rate: %{color:.2f}'))\n",
    "fig.write_image('sunburst.svg')\n",
    "fig.show()"
   ]
  },
  {
   "cell_type": "code",
   "execution_count": 38,
   "metadata": {},
   "outputs": [
    {
     "data": {
      "image/svg+xml": [
       "<svg class=\"main-svg\" height=\"500\" style=\"\" viewBox=\"0 0 700 500\" width=\"700\" xmlns=\"http://www.w3.org/2000/svg\" xmlns:xlink=\"http://www.w3.org/1999/xlink\"><rect height=\"500\" style=\"fill: rgb(255, 255, 255); fill-opacity: 1;\" width=\"700\" x=\"0\" y=\"0\"/><defs id=\"defs-291207\"><g class=\"clips\"/><g class=\"gradients\"><linearGradient id=\"g291207-cbcoloraxis\" x1=\"0\" x2=\"0\" y1=\"1\" y2=\"0\"><stop offset=\"0%\" stop-color=\"rgb(249, 65, 68)\" stop-opacity=\"1\"/><stop offset=\"1.5873015873015872%\" stop-color=\"rgb(249, 74, 64)\" stop-opacity=\"1\"/><stop offset=\"3.1746031746031744%\" stop-color=\"rgb(249, 84, 60)\" stop-opacity=\"1\"/><stop offset=\"4.761904761904762%\" stop-color=\"rgb(249, 93, 55)\" stop-opacity=\"1\"/><stop offset=\"6.349206349206349%\" stop-color=\"rgb(249, 103, 51)\" stop-opacity=\"1\"/><stop offset=\"7.936507936507936%\" stop-color=\"rgb(248, 112, 47)\" stop-opacity=\"1\"/><stop offset=\"9.523809523809524%\" stop-color=\"rgb(248, 122, 43)\" stop-opacity=\"1\"/><stop offset=\"11.11111111111111%\" stop-color=\"rgb(248, 131, 38)\" stop-opacity=\"1\"/><stop offset=\"12.698412698412698%\" stop-color=\"rgb(248, 141, 34)\" stop-opacity=\"1\"/><stop offset=\"14.285714285714285%\" stop-color=\"rgb(248, 150, 30)\" stop-opacity=\"1\"/><stop offset=\"15.873015873015872%\" stop-color=\"rgb(248, 155, 35)\" stop-opacity=\"1\"/><stop offset=\"17.46031746031746%\" stop-color=\"rgb(248, 161, 41)\" stop-opacity=\"1\"/><stop offset=\"19.047619047619047%\" stop-color=\"rgb(248, 166, 46)\" stop-opacity=\"1\"/><stop offset=\"20.634920634920633%\" stop-color=\"rgb(248, 172, 52)\" stop-opacity=\"1\"/><stop offset=\"22.22222222222222%\" stop-color=\"rgb(249, 177, 57)\" stop-opacity=\"1\"/><stop offset=\"23.809523809523807%\" stop-color=\"rgb(249, 183, 63)\" stop-opacity=\"1\"/><stop offset=\"25.396825396825395%\" stop-color=\"rgb(249, 188, 68)\" stop-opacity=\"1\"/><stop offset=\"26.984126984126984%\" stop-color=\"rgb(249, 194, 74)\" stop-opacity=\"1\"/><stop offset=\"28.57142857142857%\" stop-color=\"rgb(249, 199, 79)\" stop-opacity=\"1\"/><stop offset=\"30.158730158730158%\" stop-color=\"rgb(237, 198, 82)\" stop-opacity=\"1\"/><stop offset=\"31.746031746031743%\" stop-color=\"rgb(226, 197, 86)\" stop-opacity=\"1\"/><stop offset=\"33.33333333333333%\" stop-color=\"rgb(214, 196, 89)\" stop-opacity=\"1\"/><stop offset=\"34.92063492063492%\" stop-color=\"rgb(202, 195, 92)\" stop-opacity=\"1\"/><stop offset=\"36.507936507936506%\" stop-color=\"rgb(191, 194, 96)\" stop-opacity=\"1\"/><stop offset=\"38.095238095238095%\" stop-color=\"rgb(179, 193, 99)\" stop-opacity=\"1\"/><stop offset=\"39.682539682539684%\" stop-color=\"rgb(167, 192, 102)\" stop-opacity=\"1\"/><stop offset=\"41.269841269841265%\" stop-color=\"rgb(156, 191, 106)\" stop-opacity=\"1\"/><stop offset=\"42.857142857142854%\" stop-color=\"rgb(144, 190, 109)\" stop-opacity=\"1\"/><stop offset=\"44.44444444444444%\" stop-color=\"rgb(136, 188, 112)\" stop-opacity=\"1\"/><stop offset=\"46.03174603174603%\" stop-color=\"rgb(135, 188, 112)\" stop-opacity=\"1\"/><stop offset=\"47.61904761904761%\" stop-color=\"rgb(127, 186, 116)\" stop-opacity=\"1\"/><stop offset=\"49.2063492063492%\" stop-color=\"rgb(118, 183, 119)\" stop-opacity=\"1\"/><stop offset=\"50.79365079365079%\" stop-color=\"rgb(110, 181, 122)\" stop-opacity=\"1\"/><stop offset=\"52.38095238095239%\" stop-color=\"rgb(101, 179, 126)\" stop-opacity=\"1\"/><stop offset=\"53.96825396825397%\" stop-color=\"rgb(85, 176, 130)\" stop-opacity=\"1\"/><stop offset=\"55.55555555555556%\" stop-color=\"rgb(84, 174, 132)\" stop-opacity=\"1\"/><stop offset=\"57.14285714285714%\" stop-color=\"rgb(76, 172, 136)\" stop-opacity=\"1\"/><stop offset=\"58.730158730158735%\" stop-color=\"rgb(67, 170, 139)\" stop-opacity=\"1\"/><stop offset=\"60.317460317460316%\" stop-color=\"rgb(68, 167, 139)\" stop-opacity=\"1\"/><stop offset=\"61.904761904761905%\" stop-color=\"rgb(69, 164, 140)\" stop-opacity=\"1\"/><stop offset=\"63.49206349206349%\" stop-color=\"rgb(71, 158, 140)\" stop-opacity=\"1\"/><stop offset=\"65.07936507936508%\" stop-color=\"rgb(73, 156, 141)\" stop-opacity=\"1\"/><stop offset=\"66.66666666666666%\" stop-color=\"rgb(74, 153, 141)\" stop-opacity=\"1\"/><stop offset=\"68.25396825396825%\" stop-color=\"rgb(75, 150, 141)\" stop-opacity=\"1\"/><stop offset=\"69.84126984126983%\" stop-color=\"rgb(76, 150, 141)\" stop-opacity=\"1\"/><stop offset=\"71.42857142857143%\" stop-color=\"rgb(77, 144, 142)\" stop-opacity=\"1\"/><stop offset=\"73.01587301587301%\" stop-color=\"rgb(73, 142, 144)\" stop-opacity=\"1\"/><stop offset=\"74.60317460317461%\" stop-color=\"rgb(69, 140, 146)\" stop-opacity=\"1\"/><stop offset=\"76.19047619047619%\" stop-color=\"rgb(64, 138, 148)\" stop-opacity=\"1\"/><stop offset=\"77.77777777777779%\" stop-color=\"rgb(60, 136, 150)\" stop-opacity=\"1\"/><stop offset=\"79.36507936507937%\" stop-color=\"rgb(56, 133, 153)\" stop-opacity=\"1\"/><stop offset=\"80.95238095238095%\" stop-color=\"rgb(52, 131, 155)\" stop-opacity=\"1\"/><stop offset=\"82.53968253968253%\" stop-color=\"rgb(47, 129, 157)\" stop-opacity=\"1\"/><stop offset=\"84.12698412698413%\" stop-color=\"rgb(43, 127, 159)\" stop-opacity=\"1\"/><stop offset=\"85.71428571428571%\" stop-color=\"rgb(39, 125, 161)\" stop-opacity=\"1\"/><stop offset=\"87.3015873015873%\" stop-color=\"rgb(44, 124, 159)\" stop-opacity=\"1\"/><stop offset=\"88.88888888888889%\" stop-color=\"rgb(50, 123, 157)\" stop-opacity=\"1\"/><stop offset=\"90.47619047619048%\" stop-color=\"rgb(55, 122, 155)\" stop-opacity=\"1\"/><stop offset=\"92.06349206349206%\" stop-color=\"rgb(60, 121, 153)\" stop-opacity=\"1\"/><stop offset=\"93.65079365079364%\" stop-color=\"rgb(66, 121, 152)\" stop-opacity=\"1\"/><stop offset=\"95.23809523809523%\" stop-color=\"rgb(71, 120, 150)\" stop-opacity=\"1\"/><stop offset=\"96.82539682539682%\" stop-color=\"rgb(76, 119, 148)\" stop-opacity=\"1\"/><stop offset=\"98.4126984126984%\" stop-color=\"rgb(82, 118, 146)\" stop-opacity=\"1\"/><stop offset=\"100%\" stop-color=\"rgb(87, 117, 144)\" stop-opacity=\"1\"/></linearGradient></g></defs><g class=\"bglayer\"/><g class=\"layer-below\"><g class=\"imagelayer\"/><g class=\"shapelayer\"/></g><g class=\"cartesianlayer\"/><g class=\"polarlayer\"/><g class=\"ternarylayer\"/><g class=\"geolayer\"/><g class=\"funnelarealayer\"/><g class=\"pielayer\"/><g class=\"treemaplayer\"/><g class=\"sunburstlayer\"><g class=\"trace sunburst\" stroke-linejoin=\"round\" style=\"opacity: 1;\"><g class=\"slice\"><path class=\"surface\" d=\"M346,240A0,0 0,1,0 346,240A0,0 0,1,0 346,240ZM406,240A60,60 0,1,1 286,240A60,60 0,1,1 406,240.00000000000003Z\" style=\"pointer-events: all; stroke-width: 1; fill: rgb(68, 68, 68); fill-opacity: 1; stroke: rgb(255, 255, 255); stroke-opacity: 1;\"/><g class=\"slicetext\"><text class=\"slicetext\" data-notex=\"1\" style=\"font-family: 'Open Sans', verdana, arial, sans-serif; font-size: 12px; fill: rgb(255, 255, 255); fill-opacity: 1; white-space: pre;\" text-anchor=\"middle\" transform=\"translate(346,244.75)\" x=\"0\" y=\"0\">Needs/Wants</text></g></g><g class=\"slice cursor-pointer\"><path class=\"surface\" d=\"M406,240L466,240A120,120 0,0,0 248.83374542733895,169.58182782604462L297.4168727136695,204.7909139130223A60,60 0,0,1 406,240Z\" style=\"pointer-events: all; stroke-width: 1; fill: rgb(74, 153, 141); fill-opacity: 1; stroke: rgb(255, 255, 255); stroke-opacity: 1;\"/><g class=\"slicetext\"><text class=\"slicetext\" data-notex=\"1\" style=\"font-family: 'Open Sans', verdana, arial, sans-serif; font-size: 12px; fill: rgb(68, 68, 68); fill-opacity: 1; white-space: pre;\" text-anchor=\"middle\" transform=\"translate(373.76038379008276,159.13831217744092)\" x=\"0\" y=\"0\">Essential</text></g></g><g class=\"slice cursor-pointer\"><path class=\"surface\" d=\"M297.4168727136695,204.7909139130223L248.83374542733895,169.58182782604462A120,120 0,0,0 339.4008096259691,359.81840712681543L342.7004048129846,299.90920356340774A60,60 0,0,1 297.4168727136695,204.7909139130223Z\" style=\"pointer-events: all; stroke-width: 1; fill: rgb(164, 192, 103); fill-opacity: 1; stroke: rgb(255, 255, 255); stroke-opacity: 1;\"/><g class=\"slicetext\"><text class=\"slicetext\" data-notex=\"1\" style=\"font-family: 'Open Sans', verdana, arial, sans-serif; font-size: 12px; fill: rgb(68, 68, 68); fill-opacity: 1; white-space: pre;\" text-anchor=\"middle\" transform=\"translate(272.9444879910116,274.7799738120871)rotate(64.54200315076855)\" x=\"0\" y=\"0\">Non-Essential</text></g></g><g class=\"slice cursor-pointer\"><path class=\"surface\" d=\"M342.7004048129846,299.90920356340774L339.4008096259691,359.81840712681543A120,120 0,0,0 466,239.99999999999991L406,239.99999999999997A60,60 0,0,1 342.7004048129846,299.90920356340774Z\" style=\"pointer-events: all; stroke-width: 1; fill: rgb(249, 83, 60); fill-opacity: 1; stroke: rgb(255, 255, 255); stroke-opacity: 1;\"/><g class=\"slicetext\"><text class=\"slicetext\" data-notex=\"1\" style=\"font-family: 'Open Sans', verdana, arial, sans-serif; font-size: 12px; fill: rgb(68, 68, 68); fill-opacity: 1; white-space: pre;\" text-anchor=\"middle\" transform=\"translate(407.86499272509826,310.1160666946049)\" x=\"0\" y=\"0\">Unknown</text></g></g><g class=\"slice\"><path class=\"surface\" d=\"M466,240L526,240A180,180 0,0,0 508.5894189809809,162.7686538028305L454.3929459873206,188.51243586855367A120,120 0,0,1 466,240Z\" style=\"pointer-events: all; stroke-width: 1; fill: rgb(232, 198, 84); fill-opacity: 1; stroke: rgb(255, 255, 255); stroke-opacity: 1; opacity: 1;\"/><g class=\"slicetext\"><text class=\"slicetext\" data-notex=\"1\" style=\"font-family: 'Open Sans', verdana, arial, sans-serif; font-size: 12px; fill: rgb(68, 68, 68); fill-opacity: 1; white-space: pre;\" text-anchor=\"middle\" transform=\"translate(492.32784658536906,211.76270981592012)\" x=\"0\" y=\"0\">work</text></g></g><g class=\"slice\"><path class=\"surface\" d=\"M454.3929459873206,188.51243586855367L508.5894189809809,162.7686538028305A180,180 0,0,0 462.26423164273604,102.58592342658551L423.50948776182406,148.39061561772368A120,120 0,0,1 454.3929459873206,188.51243586855367Z\" style=\"pointer-events: all; stroke-width: 1; fill: rgb(242, 198, 81); fill-opacity: 1; stroke: rgb(255, 255, 255); stroke-opacity: 1; opacity: 1;\"/><g class=\"slicetext\"><text class=\"slicetext\" data-notex=\"1\" style=\"font-family: 'Open Sans', verdana, arial, sans-serif; font-size: 12px; fill: rgb(68, 68, 68); fill-opacity: 1; white-space: pre;\" text-anchor=\"middle\" transform=\"translate(464.86421371624374,153.25519852134147)\" x=\"0\" y=\"0\">food</text></g></g><g class=\"slice\"><path class=\"surface\" d=\"M423.50948776182406,148.39061561772368L462.26423164273604,102.58592342658551A180,180 0,0,0 398.00389623719667,67.67590192851472L380.6692641581311,125.11726795234314A120,120 0,0,1 423.50948776182406,148.39061561772368Z\" style=\"pointer-events: all; stroke-width: 1; fill: rgb(249, 198, 78); fill-opacity: 1; stroke: rgb(255, 255, 255); stroke-opacity: 1; opacity: 1;\"/><g class=\"slicetext\"><text class=\"slicetext\" data-notex=\"1\" style=\"font-family: 'Open Sans', verdana, arial, sans-serif; font-size: 12px; fill: rgb(68, 68, 68); fill-opacity: 1; white-space: pre;\" text-anchor=\"middle\" transform=\"translate(417.60471215146356,112.9442140962467)\" x=\"0\" y=\"0\">utilities</text></g></g><g class=\"slice\"><path class=\"surface\" d=\"M365.50013221047857,121.5949965424862L375.25019831571785,62.392494813729286A180,180 0,0,0 358.6875047028961,60.447703371931254L354.4583364685974,120.29846891462083A120,120 0,0,1 365.50013221047857,121.5949965424862Z\" style=\"pointer-events: all; stroke-width: 1; fill: rgb(249, 99, 53); fill-opacity: 1; stroke: rgb(255, 255, 255); stroke-opacity: 1; opacity: 1;\"/><g class=\"slicetext\"><text class=\"slicetext\" data-notex=\"1\" style=\"font-family: 'Open Sans', verdana, arial, sans-serif; font-size: 12px; fill: rgb(68, 68, 68); fill-opacity: 1; white-space: pre;\" text-anchor=\"middle\" transform=\"translate(368.6270341636437,82.24273447836241)scale(0.8579325140060914)rotate(-83.30299558222498)\" x=\"0\" y=\"0\">medical</text></g></g><g class=\"slice\"><path class=\"surface\" d=\"M248.83374542733895,169.58182782604462L200.25061814100843,134.37274173906692A180,180 0,0,0 169.98785810865687,202.32074965154305L228.65857207243792,214.88049976769537A120,120 0,0,1 248.83374542733895,169.58182782604462Z\" style=\"pointer-events: all; stroke-width: 1; fill: rgb(246, 199, 80); fill-opacity: 1; stroke: rgb(255, 255, 255); stroke-opacity: 1; opacity: 1;\"/><g class=\"slicetext\"><text class=\"slicetext\" data-notex=\"1\" style=\"font-family: 'Open Sans', verdana, arial, sans-serif; font-size: 12px; fill: rgb(68, 68, 68); fill-opacity: 1; white-space: pre;\" text-anchor=\"middle\" transform=\"translate(208.9759437018023,183.722072003153)\" x=\"0\" y=\"0\">fast_food</text></g></g><g class=\"slice\"><path class=\"surface\" d=\"M228.65857207243792,214.88049976769537L169.98785810865687,202.32074965154305A180,180 0,0,0 167.15563840049467,260.36404488468287L226.77042560032976,253.5760299231219A120,120 0,0,1 228.65857207243792,214.88049976769537Z\" style=\"pointer-events: all; stroke-width: 1; fill: rgb(249, 177, 57); fill-opacity: 1; stroke: rgb(255, 255, 255); stroke-opacity: 1; opacity: 1;\"/><g class=\"slicetext\"><text class=\"slicetext\" data-notex=\"1\" style=\"font-family: 'Open Sans', verdana, arial, sans-serif; font-size: 12px; fill: rgb(68, 68, 68); fill-opacity: 1; white-space: pre;\" text-anchor=\"middle\" transform=\"translate(191.20190732529196,237.19663475603446)\" x=\"0\" y=\"0\">pets</text></g></g><g class=\"slice\"><path class=\"surface\" d=\"M230.13698824499482,271.23719749048456L172.20548236749227,286.8557962357268A180,180 0,0,0 181.02197414942248,311.9878530479009L236.01464943294832,287.99190203193393A120,120 0,0,1 230.13698824499482,271.23719749048456Z\" style=\"pointer-events: all; stroke-width: 1; fill: rgb(248, 123, 42); fill-opacity: 1; stroke: rgb(255, 255, 255); stroke-opacity: 1; opacity: 1;\"/><g class=\"slicetext\"><text class=\"slicetext\" data-notex=\"1\" style=\"font-family: 'Open Sans', verdana, arial, sans-serif; font-size: 12px; fill: rgb(68, 68, 68); fill-opacity: 1; white-space: pre;\" text-anchor=\"middle\" transform=\"translate(205.82870377425277,293.3984790650095)scale(0.8394174574559303)rotate(-19.331207925214812)\" x=\"0\" y=\"0\">restaurants</text></g></g><g class=\"slice\"><path class=\"surface\" d=\"M236.01464943294832,287.99190203193393L181.02197414942248,311.9878530479009A180,180 0,0,0 191.04480006999205,331.59086206959324L242.6965333799947,301.0605747130622A120,120 0,0,1 236.01464943294832,287.99190203193393Z\" style=\"pointer-events: all; stroke-width: 1; fill: rgb(248, 112, 47); fill-opacity: 1; stroke: rgb(255, 255, 255); stroke-opacity: 1; opacity: 1;\"/><g class=\"slicetext\"><text class=\"slicetext\" data-notex=\"1\" style=\"font-family: 'Open Sans', verdana, arial, sans-serif; font-size: 12px; fill: rgb(68, 68, 68); fill-opacity: 1; white-space: pre;\" text-anchor=\"middle\" transform=\"translate(200.1437634269473,319.9097211855745)rotate(-27.080214238050985)\" x=\"0\" y=\"0\">gas</text></g></g><g class=\"slice\"><path class=\"surface\" d=\"M242.6965333799947,301.0605747130622L191.04480006999205,331.59086206959324A180,180 0,0,0 200.6911693835945,346.23249853454814L249.12744625572967,310.82166568969876A120,120 0,0,1 242.6965333799947,301.0605747130622Z\" style=\"pointer-events: all; stroke-width: 1; fill: rgb(249, 101, 52); fill-opacity: 1; stroke: rgb(255, 255, 255); stroke-opacity: 1; opacity: 1;\"/><g class=\"slicetext\"><text class=\"slicetext\" data-notex=\"1\" style=\"font-family: 'Open Sans', verdana, arial, sans-serif; font-size: 12px; fill: rgb(68, 68, 68); fill-opacity: 1; white-space: pre;\" text-anchor=\"middle\" transform=\"translate(207.11134647029,337.1924301087608)rotate(-33.37814503066261)\" x=\"0\" y=\"0\">fun</text></g></g><g class=\"slice\"><path class=\"surface\" d=\"M249.12744625572967,310.82166568969876L200.6911693835945,346.23249853454814A180,180 0,0,0 210.1360496111873,358.0719568091689L255.42403307412488,318.71463787277924A120,120 0,0,1 249.12744625572967,310.82166568969876Z\" style=\"pointer-events: all; stroke-width: 1; fill: rgb(249, 95, 54); fill-opacity: 1; stroke: rgb(255, 255, 255); stroke-opacity: 1; opacity: 1;\"/><g class=\"slicetext\"><text class=\"slicetext\" data-notex=\"1\" style=\"font-family: 'Open Sans', verdana, arial, sans-serif; font-size: 12px; fill: rgb(68, 68, 68); fill-opacity: 1; white-space: pre;\" text-anchor=\"middle\" transform=\"translate(219.39250684769775,346.13239155414595)scale(0.8445576001588406)rotate(-38.58097411647043)\" x=\"0\" y=\"0\">home</text></g></g><g class=\"slice\"><path class=\"surface\" d=\"M339.4008096259691,359.81840712681543L336.10121443895366,419.7276106902232A180,180 0,0,0 521.7785389880694,278.75442208599884L463.1856926587129,265.8362813906659A120,120 0,0,1 339.4008096259691,359.81840712681543Z\" style=\"pointer-events: all; stroke-width: 1; fill: rgb(87, 117, 144); fill-opacity: 1; stroke: rgb(255, 255, 255); stroke-opacity: 1; opacity: 1;\"/><g class=\"slicetext\"><text class=\"slicetext\" data-notex=\"1\" style=\"font-family: 'Open Sans', verdana, arial, sans-serif; font-size: 12px; fill: rgb(255, 255, 255); fill-opacity: 1; white-space: pre;\" text-anchor=\"middle\" transform=\"translate(436.7047374327941,364.2181991462493)\" x=\"0\" y=\"0\">online</text></g></g></g></g><g class=\"glimages\"/><defs id=\"topdefs-291207\"><g class=\"clips\"/></defs><g class=\"layer-above\"><g class=\"imagelayer\"/><g class=\"shapelayer\"/></g><g class=\"infolayer\"><g class=\"cbcoloraxis colorbar\" transform=\"translate(80,60)\"><rect class=\"cbbg\" height=\"360\" style=\"fill: rgb(0, 0, 0); fill-opacity: 0; stroke: rgb(68, 68, 68); stroke-opacity: 1; stroke-width: 0;\" width=\"65.28125\" x=\"543\" y=\"0\"/><g class=\"cbfills\" transform=\"translate(0,30)\"><rect class=\"cbfill\" height=\"321\" style=\"fill: url('#g291207-cbcoloraxis');\" width=\"30\" x=\"553\" y=\"0\"/></g><g class=\"cblines\" transform=\"translate(0,30)\"/><g class=\"cbaxis crisp\" transform=\"translate(0,-60)\"><g class=\"ycbcoloraxistick\"><text style=\"font-family: 'Open Sans', verdana, arial, sans-serif; font-size: 12px; fill: rgb(42, 63, 95); fill-opacity: 1; white-space: pre;\" text-anchor=\"start\" transform=\"translate(0,376.86)\" x=\"585.9\" y=\"4.199999999999999\">10</text></g><g class=\"ycbcoloraxistick\"><text style=\"font-family: 'Open Sans', verdana, arial, sans-serif; font-size: 12px; fill: rgb(42, 63, 95); fill-opacity: 1; white-space: pre;\" text-anchor=\"start\" transform=\"translate(0,340.8)\" x=\"585.9\" y=\"4.199999999999999\">20</text></g><g class=\"ycbcoloraxistick\"><text style=\"font-family: 'Open Sans', verdana, arial, sans-serif; font-size: 12px; fill: rgb(42, 63, 95); fill-opacity: 1; white-space: pre;\" text-anchor=\"start\" transform=\"translate(0,304.74)\" x=\"585.9\" y=\"4.199999999999999\">30</text></g><g class=\"ycbcoloraxistick\"><text style=\"font-family: 'Open Sans', verdana, arial, sans-serif; font-size: 12px; fill: rgb(42, 63, 95); fill-opacity: 1; white-space: pre;\" text-anchor=\"start\" transform=\"translate(0,268.68)\" x=\"585.9\" y=\"4.199999999999999\">40</text></g><g class=\"ycbcoloraxistick\"><text style=\"font-family: 'Open Sans', verdana, arial, sans-serif; font-size: 12px; fill: rgb(42, 63, 95); fill-opacity: 1; white-space: pre;\" text-anchor=\"start\" transform=\"translate(0,232.62)\" x=\"585.9\" y=\"4.199999999999999\">50</text></g><g class=\"ycbcoloraxistick\"><text style=\"font-family: 'Open Sans', verdana, arial, sans-serif; font-size: 12px; fill: rgb(42, 63, 95); fill-opacity: 1; white-space: pre;\" text-anchor=\"start\" transform=\"translate(0,196.56)\" x=\"585.9\" y=\"4.199999999999999\">60</text></g><g class=\"ycbcoloraxistick\"><text style=\"font-family: 'Open Sans', verdana, arial, sans-serif; font-size: 12px; fill: rgb(42, 63, 95); fill-opacity: 1; white-space: pre;\" text-anchor=\"start\" transform=\"translate(0,160.5)\" x=\"585.9\" y=\"4.199999999999999\">70</text></g><g class=\"ycbcoloraxistick\"><text style=\"font-family: 'Open Sans', verdana, arial, sans-serif; font-size: 12px; fill: rgb(42, 63, 95); fill-opacity: 1; white-space: pre;\" text-anchor=\"start\" transform=\"translate(0,124.44000000000001)\" x=\"585.9\" y=\"4.199999999999999\">80</text></g></g><g class=\"cbtitleunshift\" transform=\"translate(-80,-60)\"><g class=\"cbtitle\" transform=\"\"><text class=\"ycbcoloraxistitle\" style=\"font-family: 'Open Sans', verdana, arial, sans-serif; font-size: 12px; fill: rgb(42, 63, 95); opacity: 1; font-weight: normal; white-space: pre;\" text-anchor=\"start\" x=\"632.64\" y=\"82\">value</text></g></g><rect class=\"cboutline\" height=\"320.5\" style=\"stroke: rgb(68, 68, 68); stroke-opacity: 1; fill: none; stroke-width: 0;\" width=\"30\" x=\"553\" y=\"29.5\"/></g><g class=\"g-gtitle\"/></g></svg>"
      ],
      "text/plain": [
       "<IPython.core.display.SVG object>"
      ]
     },
     "metadata": {},
     "output_type": "display_data"
    }
   ],
   "source": [
    "show_svg('sunburst')"
   ]
  },
  {
   "cell_type": "markdown",
   "metadata": {},
   "source": [
    "----"
   ]
  },
  {
   "cell_type": "markdown",
   "metadata": {},
   "source": [
    "---"
   ]
  },
  {
   "cell_type": "code",
   "execution_count": 39,
   "metadata": {},
   "outputs": [],
   "source": [
    "# fig =px.sunburst(\n",
    "#     data,\n",
    "#     names='character',\n",
    "#     parents='parent',\n",
    "#     values='value',\n",
    "#     title = 'Expenses'\n",
    "# )\n",
    "# fig.show()"
   ]
  },
  {
   "cell_type": "code",
   "execution_count": 40,
   "metadata": {},
   "outputs": [
    {
     "data": {
      "application/vnd.plotly.v1+json": {
       "config": {
        "plotlyServerURL": "https://plot.ly"
       },
       "data": [
        {
         "domain": {
          "x": [
           0,
           1
          ],
          "y": [
           0,
           1
          ]
         },
         "hovertemplate": "character=%{label}<br>value=%{value}<br>parent=%{parent}<extra></extra>",
         "labels": [
          "savings",
          "savings",
          "debt",
          "housing",
          "transportation",
          "food",
          "utilities",
          "medical",
          "education",
          "childcare",
          "personal"
         ],
         "name": "",
         "parents": [
          "essential",
          "essential",
          "essential",
          "essential",
          "essential",
          "essential",
          "essential",
          "essential",
          "essential",
          "essential",
          "essential"
         ],
         "type": "sunburst",
         "values": [
          2,
          3,
          6,
          7,
          4,
          7,
          10,
          1,
          2,
          40,
          18
         ]
        }
       ],
       "layout": {
        "legend": {
         "tracegroupgap": 0
        },
        "template": {
         "data": {
          "bar": [
           {
            "error_x": {
             "color": "#2a3f5f"
            },
            "error_y": {
             "color": "#2a3f5f"
            },
            "marker": {
             "line": {
              "color": "#E5ECF6",
              "width": 0.5
             }
            },
            "type": "bar"
           }
          ],
          "barpolar": [
           {
            "marker": {
             "line": {
              "color": "#E5ECF6",
              "width": 0.5
             }
            },
            "type": "barpolar"
           }
          ],
          "carpet": [
           {
            "aaxis": {
             "endlinecolor": "#2a3f5f",
             "gridcolor": "white",
             "linecolor": "white",
             "minorgridcolor": "white",
             "startlinecolor": "#2a3f5f"
            },
            "baxis": {
             "endlinecolor": "#2a3f5f",
             "gridcolor": "white",
             "linecolor": "white",
             "minorgridcolor": "white",
             "startlinecolor": "#2a3f5f"
            },
            "type": "carpet"
           }
          ],
          "choropleth": [
           {
            "colorbar": {
             "outlinewidth": 0,
             "ticks": ""
            },
            "type": "choropleth"
           }
          ],
          "contour": [
           {
            "colorbar": {
             "outlinewidth": 0,
             "ticks": ""
            },
            "colorscale": [
             [
              0,
              "#0d0887"
             ],
             [
              0.1111111111111111,
              "#46039f"
             ],
             [
              0.2222222222222222,
              "#7201a8"
             ],
             [
              0.3333333333333333,
              "#9c179e"
             ],
             [
              0.4444444444444444,
              "#bd3786"
             ],
             [
              0.5555555555555556,
              "#d8576b"
             ],
             [
              0.6666666666666666,
              "#ed7953"
             ],
             [
              0.7777777777777778,
              "#fb9f3a"
             ],
             [
              0.8888888888888888,
              "#fdca26"
             ],
             [
              1,
              "#f0f921"
             ]
            ],
            "type": "contour"
           }
          ],
          "contourcarpet": [
           {
            "colorbar": {
             "outlinewidth": 0,
             "ticks": ""
            },
            "type": "contourcarpet"
           }
          ],
          "heatmap": [
           {
            "colorbar": {
             "outlinewidth": 0,
             "ticks": ""
            },
            "colorscale": [
             [
              0,
              "#0d0887"
             ],
             [
              0.1111111111111111,
              "#46039f"
             ],
             [
              0.2222222222222222,
              "#7201a8"
             ],
             [
              0.3333333333333333,
              "#9c179e"
             ],
             [
              0.4444444444444444,
              "#bd3786"
             ],
             [
              0.5555555555555556,
              "#d8576b"
             ],
             [
              0.6666666666666666,
              "#ed7953"
             ],
             [
              0.7777777777777778,
              "#fb9f3a"
             ],
             [
              0.8888888888888888,
              "#fdca26"
             ],
             [
              1,
              "#f0f921"
             ]
            ],
            "type": "heatmap"
           }
          ],
          "heatmapgl": [
           {
            "colorbar": {
             "outlinewidth": 0,
             "ticks": ""
            },
            "colorscale": [
             [
              0,
              "#0d0887"
             ],
             [
              0.1111111111111111,
              "#46039f"
             ],
             [
              0.2222222222222222,
              "#7201a8"
             ],
             [
              0.3333333333333333,
              "#9c179e"
             ],
             [
              0.4444444444444444,
              "#bd3786"
             ],
             [
              0.5555555555555556,
              "#d8576b"
             ],
             [
              0.6666666666666666,
              "#ed7953"
             ],
             [
              0.7777777777777778,
              "#fb9f3a"
             ],
             [
              0.8888888888888888,
              "#fdca26"
             ],
             [
              1,
              "#f0f921"
             ]
            ],
            "type": "heatmapgl"
           }
          ],
          "histogram": [
           {
            "marker": {
             "colorbar": {
              "outlinewidth": 0,
              "ticks": ""
             }
            },
            "type": "histogram"
           }
          ],
          "histogram2d": [
           {
            "colorbar": {
             "outlinewidth": 0,
             "ticks": ""
            },
            "colorscale": [
             [
              0,
              "#0d0887"
             ],
             [
              0.1111111111111111,
              "#46039f"
             ],
             [
              0.2222222222222222,
              "#7201a8"
             ],
             [
              0.3333333333333333,
              "#9c179e"
             ],
             [
              0.4444444444444444,
              "#bd3786"
             ],
             [
              0.5555555555555556,
              "#d8576b"
             ],
             [
              0.6666666666666666,
              "#ed7953"
             ],
             [
              0.7777777777777778,
              "#fb9f3a"
             ],
             [
              0.8888888888888888,
              "#fdca26"
             ],
             [
              1,
              "#f0f921"
             ]
            ],
            "type": "histogram2d"
           }
          ],
          "histogram2dcontour": [
           {
            "colorbar": {
             "outlinewidth": 0,
             "ticks": ""
            },
            "colorscale": [
             [
              0,
              "#0d0887"
             ],
             [
              0.1111111111111111,
              "#46039f"
             ],
             [
              0.2222222222222222,
              "#7201a8"
             ],
             [
              0.3333333333333333,
              "#9c179e"
             ],
             [
              0.4444444444444444,
              "#bd3786"
             ],
             [
              0.5555555555555556,
              "#d8576b"
             ],
             [
              0.6666666666666666,
              "#ed7953"
             ],
             [
              0.7777777777777778,
              "#fb9f3a"
             ],
             [
              0.8888888888888888,
              "#fdca26"
             ],
             [
              1,
              "#f0f921"
             ]
            ],
            "type": "histogram2dcontour"
           }
          ],
          "mesh3d": [
           {
            "colorbar": {
             "outlinewidth": 0,
             "ticks": ""
            },
            "type": "mesh3d"
           }
          ],
          "parcoords": [
           {
            "line": {
             "colorbar": {
              "outlinewidth": 0,
              "ticks": ""
             }
            },
            "type": "parcoords"
           }
          ],
          "pie": [
           {
            "automargin": true,
            "type": "pie"
           }
          ],
          "scatter": [
           {
            "marker": {
             "colorbar": {
              "outlinewidth": 0,
              "ticks": ""
             }
            },
            "type": "scatter"
           }
          ],
          "scatter3d": [
           {
            "line": {
             "colorbar": {
              "outlinewidth": 0,
              "ticks": ""
             }
            },
            "marker": {
             "colorbar": {
              "outlinewidth": 0,
              "ticks": ""
             }
            },
            "type": "scatter3d"
           }
          ],
          "scattercarpet": [
           {
            "marker": {
             "colorbar": {
              "outlinewidth": 0,
              "ticks": ""
             }
            },
            "type": "scattercarpet"
           }
          ],
          "scattergeo": [
           {
            "marker": {
             "colorbar": {
              "outlinewidth": 0,
              "ticks": ""
             }
            },
            "type": "scattergeo"
           }
          ],
          "scattergl": [
           {
            "marker": {
             "colorbar": {
              "outlinewidth": 0,
              "ticks": ""
             }
            },
            "type": "scattergl"
           }
          ],
          "scattermapbox": [
           {
            "marker": {
             "colorbar": {
              "outlinewidth": 0,
              "ticks": ""
             }
            },
            "type": "scattermapbox"
           }
          ],
          "scatterpolar": [
           {
            "marker": {
             "colorbar": {
              "outlinewidth": 0,
              "ticks": ""
             }
            },
            "type": "scatterpolar"
           }
          ],
          "scatterpolargl": [
           {
            "marker": {
             "colorbar": {
              "outlinewidth": 0,
              "ticks": ""
             }
            },
            "type": "scatterpolargl"
           }
          ],
          "scatterternary": [
           {
            "marker": {
             "colorbar": {
              "outlinewidth": 0,
              "ticks": ""
             }
            },
            "type": "scatterternary"
           }
          ],
          "surface": [
           {
            "colorbar": {
             "outlinewidth": 0,
             "ticks": ""
            },
            "colorscale": [
             [
              0,
              "#0d0887"
             ],
             [
              0.1111111111111111,
              "#46039f"
             ],
             [
              0.2222222222222222,
              "#7201a8"
             ],
             [
              0.3333333333333333,
              "#9c179e"
             ],
             [
              0.4444444444444444,
              "#bd3786"
             ],
             [
              0.5555555555555556,
              "#d8576b"
             ],
             [
              0.6666666666666666,
              "#ed7953"
             ],
             [
              0.7777777777777778,
              "#fb9f3a"
             ],
             [
              0.8888888888888888,
              "#fdca26"
             ],
             [
              1,
              "#f0f921"
             ]
            ],
            "type": "surface"
           }
          ],
          "table": [
           {
            "cells": {
             "fill": {
              "color": "#EBF0F8"
             },
             "line": {
              "color": "white"
             }
            },
            "header": {
             "fill": {
              "color": "#C8D4E3"
             },
             "line": {
              "color": "white"
             }
            },
            "type": "table"
           }
          ]
         },
         "layout": {
          "annotationdefaults": {
           "arrowcolor": "#2a3f5f",
           "arrowhead": 0,
           "arrowwidth": 1
          },
          "autotypenumbers": "strict",
          "coloraxis": {
           "colorbar": {
            "outlinewidth": 0,
            "ticks": ""
           }
          },
          "colorscale": {
           "diverging": [
            [
             0,
             "#8e0152"
            ],
            [
             0.1,
             "#c51b7d"
            ],
            [
             0.2,
             "#de77ae"
            ],
            [
             0.3,
             "#f1b6da"
            ],
            [
             0.4,
             "#fde0ef"
            ],
            [
             0.5,
             "#f7f7f7"
            ],
            [
             0.6,
             "#e6f5d0"
            ],
            [
             0.7,
             "#b8e186"
            ],
            [
             0.8,
             "#7fbc41"
            ],
            [
             0.9,
             "#4d9221"
            ],
            [
             1,
             "#276419"
            ]
           ],
           "sequential": [
            [
             0,
             "#0d0887"
            ],
            [
             0.1111111111111111,
             "#46039f"
            ],
            [
             0.2222222222222222,
             "#7201a8"
            ],
            [
             0.3333333333333333,
             "#9c179e"
            ],
            [
             0.4444444444444444,
             "#bd3786"
            ],
            [
             0.5555555555555556,
             "#d8576b"
            ],
            [
             0.6666666666666666,
             "#ed7953"
            ],
            [
             0.7777777777777778,
             "#fb9f3a"
            ],
            [
             0.8888888888888888,
             "#fdca26"
            ],
            [
             1,
             "#f0f921"
            ]
           ],
           "sequentialminus": [
            [
             0,
             "#0d0887"
            ],
            [
             0.1111111111111111,
             "#46039f"
            ],
            [
             0.2222222222222222,
             "#7201a8"
            ],
            [
             0.3333333333333333,
             "#9c179e"
            ],
            [
             0.4444444444444444,
             "#bd3786"
            ],
            [
             0.5555555555555556,
             "#d8576b"
            ],
            [
             0.6666666666666666,
             "#ed7953"
            ],
            [
             0.7777777777777778,
             "#fb9f3a"
            ],
            [
             0.8888888888888888,
             "#fdca26"
            ],
            [
             1,
             "#f0f921"
            ]
           ]
          },
          "colorway": [
           "#636efa",
           "#EF553B",
           "#00cc96",
           "#ab63fa",
           "#FFA15A",
           "#19d3f3",
           "#FF6692",
           "#B6E880",
           "#FF97FF",
           "#FECB52"
          ],
          "font": {
           "color": "#2a3f5f"
          },
          "geo": {
           "bgcolor": "white",
           "lakecolor": "white",
           "landcolor": "#E5ECF6",
           "showlakes": true,
           "showland": true,
           "subunitcolor": "white"
          },
          "hoverlabel": {
           "align": "left"
          },
          "hovermode": "closest",
          "mapbox": {
           "style": "light"
          },
          "paper_bgcolor": "white",
          "plot_bgcolor": "#E5ECF6",
          "polar": {
           "angularaxis": {
            "gridcolor": "white",
            "linecolor": "white",
            "ticks": ""
           },
           "bgcolor": "#E5ECF6",
           "radialaxis": {
            "gridcolor": "white",
            "linecolor": "white",
            "ticks": ""
           }
          },
          "scene": {
           "xaxis": {
            "backgroundcolor": "#E5ECF6",
            "gridcolor": "white",
            "gridwidth": 2,
            "linecolor": "white",
            "showbackground": true,
            "ticks": "",
            "zerolinecolor": "white"
           },
           "yaxis": {
            "backgroundcolor": "#E5ECF6",
            "gridcolor": "white",
            "gridwidth": 2,
            "linecolor": "white",
            "showbackground": true,
            "ticks": "",
            "zerolinecolor": "white"
           },
           "zaxis": {
            "backgroundcolor": "#E5ECF6",
            "gridcolor": "white",
            "gridwidth": 2,
            "linecolor": "white",
            "showbackground": true,
            "ticks": "",
            "zerolinecolor": "white"
           }
          },
          "shapedefaults": {
           "line": {
            "color": "#2a3f5f"
           }
          },
          "ternary": {
           "aaxis": {
            "gridcolor": "white",
            "linecolor": "white",
            "ticks": ""
           },
           "baxis": {
            "gridcolor": "white",
            "linecolor": "white",
            "ticks": ""
           },
           "bgcolor": "#E5ECF6",
           "caxis": {
            "gridcolor": "white",
            "linecolor": "white",
            "ticks": ""
           }
          },
          "title": {
           "x": 0.05
          },
          "xaxis": {
           "automargin": true,
           "gridcolor": "white",
           "linecolor": "white",
           "ticks": "",
           "title": {
            "standoff": 15
           },
           "zerolinecolor": "white",
           "zerolinewidth": 2
          },
          "yaxis": {
           "automargin": true,
           "gridcolor": "white",
           "linecolor": "white",
           "ticks": "",
           "title": {
            "standoff": 15
           },
           "zerolinecolor": "white",
           "zerolinewidth": 2
          }
         }
        },
        "title": {
         "text": "Expenses"
        }
       }
      },
      "text/html": [
       "<div>                            <div id=\"e0307f7a-70c7-46f3-b169-307b89b75f61\" class=\"plotly-graph-div\" style=\"height:525px; width:100%;\"></div>            <script type=\"text/javascript\">                require([\"plotly\"], function(Plotly) {                    window.PLOTLYENV=window.PLOTLYENV || {};                                    if (document.getElementById(\"e0307f7a-70c7-46f3-b169-307b89b75f61\")) {                    Plotly.newPlot(                        \"e0307f7a-70c7-46f3-b169-307b89b75f61\",                        [{\"domain\": {\"x\": [0.0, 1.0], \"y\": [0.0, 1.0]}, \"hovertemplate\": \"character=%{label}<br>value=%{value}<br>parent=%{parent}<extra></extra>\", \"labels\": [\"savings\", \"savings\", \"debt\", \"housing\", \"transportation\", \"food\", \"utilities\", \"medical\", \"education\", \"childcare\", \"personal\"], \"name\": \"\", \"parents\": [\"essential\", \"essential\", \"essential\", \"essential\", \"essential\", \"essential\", \"essential\", \"essential\", \"essential\", \"essential\", \"essential\"], \"type\": \"sunburst\", \"values\": [2, 3, 6, 7, 4, 7, 10, 1, 2, 40, 18]}],                        {\"legend\": {\"tracegroupgap\": 0}, \"template\": {\"data\": {\"bar\": [{\"error_x\": {\"color\": \"#2a3f5f\"}, \"error_y\": {\"color\": \"#2a3f5f\"}, \"marker\": {\"line\": {\"color\": \"#E5ECF6\", \"width\": 0.5}}, \"type\": \"bar\"}], \"barpolar\": [{\"marker\": {\"line\": {\"color\": \"#E5ECF6\", \"width\": 0.5}}, \"type\": \"barpolar\"}], \"carpet\": [{\"aaxis\": {\"endlinecolor\": \"#2a3f5f\", \"gridcolor\": \"white\", \"linecolor\": \"white\", \"minorgridcolor\": \"white\", \"startlinecolor\": \"#2a3f5f\"}, \"baxis\": {\"endlinecolor\": \"#2a3f5f\", \"gridcolor\": \"white\", \"linecolor\": \"white\", \"minorgridcolor\": \"white\", \"startlinecolor\": \"#2a3f5f\"}, \"type\": \"carpet\"}], \"choropleth\": [{\"colorbar\": {\"outlinewidth\": 0, \"ticks\": \"\"}, \"type\": \"choropleth\"}], \"contour\": [{\"colorbar\": {\"outlinewidth\": 0, \"ticks\": \"\"}, \"colorscale\": [[0.0, \"#0d0887\"], [0.1111111111111111, \"#46039f\"], [0.2222222222222222, \"#7201a8\"], [0.3333333333333333, \"#9c179e\"], [0.4444444444444444, \"#bd3786\"], [0.5555555555555556, \"#d8576b\"], [0.6666666666666666, \"#ed7953\"], [0.7777777777777778, \"#fb9f3a\"], [0.8888888888888888, \"#fdca26\"], [1.0, \"#f0f921\"]], \"type\": \"contour\"}], \"contourcarpet\": [{\"colorbar\": {\"outlinewidth\": 0, \"ticks\": \"\"}, \"type\": \"contourcarpet\"}], \"heatmap\": [{\"colorbar\": {\"outlinewidth\": 0, \"ticks\": \"\"}, \"colorscale\": [[0.0, \"#0d0887\"], [0.1111111111111111, \"#46039f\"], [0.2222222222222222, \"#7201a8\"], [0.3333333333333333, \"#9c179e\"], [0.4444444444444444, \"#bd3786\"], [0.5555555555555556, \"#d8576b\"], [0.6666666666666666, \"#ed7953\"], [0.7777777777777778, \"#fb9f3a\"], [0.8888888888888888, \"#fdca26\"], [1.0, \"#f0f921\"]], \"type\": \"heatmap\"}], \"heatmapgl\": [{\"colorbar\": {\"outlinewidth\": 0, \"ticks\": \"\"}, \"colorscale\": [[0.0, \"#0d0887\"], [0.1111111111111111, \"#46039f\"], [0.2222222222222222, \"#7201a8\"], [0.3333333333333333, \"#9c179e\"], [0.4444444444444444, \"#bd3786\"], [0.5555555555555556, \"#d8576b\"], [0.6666666666666666, \"#ed7953\"], [0.7777777777777778, \"#fb9f3a\"], [0.8888888888888888, \"#fdca26\"], [1.0, \"#f0f921\"]], \"type\": \"heatmapgl\"}], \"histogram\": [{\"marker\": {\"colorbar\": {\"outlinewidth\": 0, \"ticks\": \"\"}}, \"type\": \"histogram\"}], \"histogram2d\": [{\"colorbar\": {\"outlinewidth\": 0, \"ticks\": \"\"}, \"colorscale\": [[0.0, \"#0d0887\"], [0.1111111111111111, \"#46039f\"], [0.2222222222222222, \"#7201a8\"], [0.3333333333333333, \"#9c179e\"], [0.4444444444444444, \"#bd3786\"], [0.5555555555555556, \"#d8576b\"], [0.6666666666666666, \"#ed7953\"], [0.7777777777777778, \"#fb9f3a\"], [0.8888888888888888, \"#fdca26\"], [1.0, \"#f0f921\"]], \"type\": \"histogram2d\"}], \"histogram2dcontour\": [{\"colorbar\": {\"outlinewidth\": 0, \"ticks\": \"\"}, \"colorscale\": [[0.0, \"#0d0887\"], [0.1111111111111111, \"#46039f\"], [0.2222222222222222, \"#7201a8\"], [0.3333333333333333, \"#9c179e\"], [0.4444444444444444, \"#bd3786\"], [0.5555555555555556, \"#d8576b\"], [0.6666666666666666, \"#ed7953\"], [0.7777777777777778, \"#fb9f3a\"], [0.8888888888888888, \"#fdca26\"], [1.0, \"#f0f921\"]], \"type\": \"histogram2dcontour\"}], \"mesh3d\": [{\"colorbar\": {\"outlinewidth\": 0, \"ticks\": \"\"}, \"type\": \"mesh3d\"}], \"parcoords\": [{\"line\": {\"colorbar\": {\"outlinewidth\": 0, \"ticks\": \"\"}}, \"type\": \"parcoords\"}], \"pie\": [{\"automargin\": true, \"type\": \"pie\"}], \"scatter\": [{\"marker\": {\"colorbar\": {\"outlinewidth\": 0, \"ticks\": \"\"}}, \"type\": \"scatter\"}], \"scatter3d\": [{\"line\": {\"colorbar\": {\"outlinewidth\": 0, \"ticks\": \"\"}}, \"marker\": {\"colorbar\": {\"outlinewidth\": 0, \"ticks\": \"\"}}, \"type\": \"scatter3d\"}], \"scattercarpet\": [{\"marker\": {\"colorbar\": {\"outlinewidth\": 0, \"ticks\": \"\"}}, \"type\": \"scattercarpet\"}], \"scattergeo\": [{\"marker\": {\"colorbar\": {\"outlinewidth\": 0, \"ticks\": \"\"}}, \"type\": \"scattergeo\"}], \"scattergl\": [{\"marker\": {\"colorbar\": {\"outlinewidth\": 0, \"ticks\": \"\"}}, \"type\": \"scattergl\"}], \"scattermapbox\": [{\"marker\": {\"colorbar\": {\"outlinewidth\": 0, \"ticks\": \"\"}}, \"type\": \"scattermapbox\"}], \"scatterpolar\": [{\"marker\": {\"colorbar\": {\"outlinewidth\": 0, \"ticks\": \"\"}}, \"type\": \"scatterpolar\"}], \"scatterpolargl\": [{\"marker\": {\"colorbar\": {\"outlinewidth\": 0, \"ticks\": \"\"}}, \"type\": \"scatterpolargl\"}], \"scatterternary\": [{\"marker\": {\"colorbar\": {\"outlinewidth\": 0, \"ticks\": \"\"}}, \"type\": \"scatterternary\"}], \"surface\": [{\"colorbar\": {\"outlinewidth\": 0, \"ticks\": \"\"}, \"colorscale\": [[0.0, \"#0d0887\"], [0.1111111111111111, \"#46039f\"], [0.2222222222222222, \"#7201a8\"], [0.3333333333333333, \"#9c179e\"], [0.4444444444444444, \"#bd3786\"], [0.5555555555555556, \"#d8576b\"], [0.6666666666666666, \"#ed7953\"], [0.7777777777777778, \"#fb9f3a\"], [0.8888888888888888, \"#fdca26\"], [1.0, \"#f0f921\"]], \"type\": \"surface\"}], \"table\": [{\"cells\": {\"fill\": {\"color\": \"#EBF0F8\"}, \"line\": {\"color\": \"white\"}}, \"header\": {\"fill\": {\"color\": \"#C8D4E3\"}, \"line\": {\"color\": \"white\"}}, \"type\": \"table\"}]}, \"layout\": {\"annotationdefaults\": {\"arrowcolor\": \"#2a3f5f\", \"arrowhead\": 0, \"arrowwidth\": 1}, \"autotypenumbers\": \"strict\", \"coloraxis\": {\"colorbar\": {\"outlinewidth\": 0, \"ticks\": \"\"}}, \"colorscale\": {\"diverging\": [[0, \"#8e0152\"], [0.1, \"#c51b7d\"], [0.2, \"#de77ae\"], [0.3, \"#f1b6da\"], [0.4, \"#fde0ef\"], [0.5, \"#f7f7f7\"], [0.6, \"#e6f5d0\"], [0.7, \"#b8e186\"], [0.8, \"#7fbc41\"], [0.9, \"#4d9221\"], [1, \"#276419\"]], \"sequential\": [[0.0, \"#0d0887\"], [0.1111111111111111, \"#46039f\"], [0.2222222222222222, \"#7201a8\"], [0.3333333333333333, \"#9c179e\"], [0.4444444444444444, \"#bd3786\"], [0.5555555555555556, \"#d8576b\"], [0.6666666666666666, \"#ed7953\"], [0.7777777777777778, \"#fb9f3a\"], [0.8888888888888888, \"#fdca26\"], [1.0, \"#f0f921\"]], \"sequentialminus\": [[0.0, \"#0d0887\"], [0.1111111111111111, \"#46039f\"], [0.2222222222222222, \"#7201a8\"], [0.3333333333333333, \"#9c179e\"], [0.4444444444444444, \"#bd3786\"], [0.5555555555555556, \"#d8576b\"], [0.6666666666666666, \"#ed7953\"], [0.7777777777777778, \"#fb9f3a\"], [0.8888888888888888, \"#fdca26\"], [1.0, \"#f0f921\"]]}, \"colorway\": [\"#636efa\", \"#EF553B\", \"#00cc96\", \"#ab63fa\", \"#FFA15A\", \"#19d3f3\", \"#FF6692\", \"#B6E880\", \"#FF97FF\", \"#FECB52\"], \"font\": {\"color\": \"#2a3f5f\"}, \"geo\": {\"bgcolor\": \"white\", \"lakecolor\": \"white\", \"landcolor\": \"#E5ECF6\", \"showlakes\": true, \"showland\": true, \"subunitcolor\": \"white\"}, \"hoverlabel\": {\"align\": \"left\"}, \"hovermode\": \"closest\", \"mapbox\": {\"style\": \"light\"}, \"paper_bgcolor\": \"white\", \"plot_bgcolor\": \"#E5ECF6\", \"polar\": {\"angularaxis\": {\"gridcolor\": \"white\", \"linecolor\": \"white\", \"ticks\": \"\"}, \"bgcolor\": \"#E5ECF6\", \"radialaxis\": {\"gridcolor\": \"white\", \"linecolor\": \"white\", \"ticks\": \"\"}}, \"scene\": {\"xaxis\": {\"backgroundcolor\": \"#E5ECF6\", \"gridcolor\": \"white\", \"gridwidth\": 2, \"linecolor\": \"white\", \"showbackground\": true, \"ticks\": \"\", \"zerolinecolor\": \"white\"}, \"yaxis\": {\"backgroundcolor\": \"#E5ECF6\", \"gridcolor\": \"white\", \"gridwidth\": 2, \"linecolor\": \"white\", \"showbackground\": true, \"ticks\": \"\", \"zerolinecolor\": \"white\"}, \"zaxis\": {\"backgroundcolor\": \"#E5ECF6\", \"gridcolor\": \"white\", \"gridwidth\": 2, \"linecolor\": \"white\", \"showbackground\": true, \"ticks\": \"\", \"zerolinecolor\": \"white\"}}, \"shapedefaults\": {\"line\": {\"color\": \"#2a3f5f\"}}, \"ternary\": {\"aaxis\": {\"gridcolor\": \"white\", \"linecolor\": \"white\", \"ticks\": \"\"}, \"baxis\": {\"gridcolor\": \"white\", \"linecolor\": \"white\", \"ticks\": \"\"}, \"bgcolor\": \"#E5ECF6\", \"caxis\": {\"gridcolor\": \"white\", \"linecolor\": \"white\", \"ticks\": \"\"}}, \"title\": {\"x\": 0.05}, \"xaxis\": {\"automargin\": true, \"gridcolor\": \"white\", \"linecolor\": \"white\", \"ticks\": \"\", \"title\": {\"standoff\": 15}, \"zerolinecolor\": \"white\", \"zerolinewidth\": 2}, \"yaxis\": {\"automargin\": true, \"gridcolor\": \"white\", \"linecolor\": \"white\", \"ticks\": \"\", \"title\": {\"standoff\": 15}, \"zerolinecolor\": \"white\", \"zerolinewidth\": 2}}}, \"title\": {\"text\": \"Expenses\"}},                        {\"responsive\": true}                    ).then(function(){\n",
       "                            \n",
       "var gd = document.getElementById('e0307f7a-70c7-46f3-b169-307b89b75f61');\n",
       "var x = new MutationObserver(function (mutations, observer) {{\n",
       "        var display = window.getComputedStyle(gd).display;\n",
       "        if (!display || display === 'none') {{\n",
       "            console.log([gd, 'removed!']);\n",
       "            Plotly.purge(gd);\n",
       "            observer.disconnect();\n",
       "        }}\n",
       "}});\n",
       "\n",
       "// Listen for the removal of the full notebook cells\n",
       "var notebookContainer = gd.closest('#notebook-container');\n",
       "if (notebookContainer) {{\n",
       "    x.observe(notebookContainer, {childList: true});\n",
       "}}\n",
       "\n",
       "// Listen for the clearing of the current output cell\n",
       "var outputEl = gd.closest('.output');\n",
       "if (outputEl) {{\n",
       "    x.observe(outputEl, {childList: true});\n",
       "}}\n",
       "\n",
       "                        })                };                });            </script>        </div>"
      ]
     },
     "metadata": {},
     "output_type": "display_data"
    }
   ],
   "source": [
    "inside = ['savings', 'savings', 'debt', 'housing', 'transportation', 'food', 'utilities', 'medical', 'education', 'childcare', 'personal']\n",
    "\n",
    "outside = ['essential' for i in range(len(inside))]\n",
    "\n",
    "# blues\n",
    "# https://coolors.co/05668d-028090-00a896-02c39a-f0f3bd\n",
    "# rainbow\n",
    "# https://coolors.co/f94144-f3722c-f8961e-f9844a-f9c74f-90be6d-43aa8b-4d908e-577590-277da1\n",
    "\n",
    "import random\n",
    "def constrain_sum(n, total):\n",
    "    # Return an randomly chosen list of n positive intergers summing to 100/total\n",
    "    dividers = sorted(random.sample(range(1, total), n-1))\n",
    "    return [a - b for a,b in zip(dividers + [total], [0]+dividers)]\n",
    "nums = constrain_sum(len(inside), 100)\n",
    "\n",
    "nums\n",
    "\n",
    "import random\n",
    "import plotly.express as px\n",
    "data = dict(\n",
    "    character= inside,\n",
    "    parent = outside,\n",
    "    value= nums)\n",
    "\n",
    "fig =px.sunburst(\n",
    "    data,\n",
    "    names='character',\n",
    "    parents='parent',\n",
    "    values='value',\n",
    "    title = 'Expenses'\n",
    ")\n",
    "fig.show()"
   ]
  },
  {
   "cell_type": "code",
   "execution_count": 41,
   "metadata": {},
   "outputs": [
    {
     "data": {
      "application/vnd.plotly.v1+json": {
       "config": {
        "plotlyServerURL": "https://plot.ly"
       },
       "data": [
        {
         "domain": {
          "x": [
           0,
           1
          ],
          "y": [
           0,
           1
          ]
         },
         "hovertemplate": "character=%{label}<br>value=%{value}<br>parent=%{parent}<extra></extra>",
         "labels": [
          "savings",
          "savings",
          "debt",
          "housing",
          "transportation",
          "food",
          "utilities",
          "medical",
          "education",
          "childcare",
          "personal"
         ],
         "name": "",
         "parents": [
          "essential",
          "essential",
          "essential",
          "essential",
          "essential",
          "essential",
          "essential",
          "essential",
          "essential",
          "essential",
          "essential"
         ],
         "type": "sunburst",
         "values": [
          2,
          3,
          6,
          7,
          4,
          7,
          10,
          1,
          2,
          40,
          18
         ]
        }
       ],
       "layout": {
        "legend": {
         "tracegroupgap": 0
        },
        "template": {
         "data": {
          "bar": [
           {
            "error_x": {
             "color": "#2a3f5f"
            },
            "error_y": {
             "color": "#2a3f5f"
            },
            "marker": {
             "line": {
              "color": "#E5ECF6",
              "width": 0.5
             }
            },
            "type": "bar"
           }
          ],
          "barpolar": [
           {
            "marker": {
             "line": {
              "color": "#E5ECF6",
              "width": 0.5
             }
            },
            "type": "barpolar"
           }
          ],
          "carpet": [
           {
            "aaxis": {
             "endlinecolor": "#2a3f5f",
             "gridcolor": "white",
             "linecolor": "white",
             "minorgridcolor": "white",
             "startlinecolor": "#2a3f5f"
            },
            "baxis": {
             "endlinecolor": "#2a3f5f",
             "gridcolor": "white",
             "linecolor": "white",
             "minorgridcolor": "white",
             "startlinecolor": "#2a3f5f"
            },
            "type": "carpet"
           }
          ],
          "choropleth": [
           {
            "colorbar": {
             "outlinewidth": 0,
             "ticks": ""
            },
            "type": "choropleth"
           }
          ],
          "contour": [
           {
            "colorbar": {
             "outlinewidth": 0,
             "ticks": ""
            },
            "colorscale": [
             [
              0,
              "#0d0887"
             ],
             [
              0.1111111111111111,
              "#46039f"
             ],
             [
              0.2222222222222222,
              "#7201a8"
             ],
             [
              0.3333333333333333,
              "#9c179e"
             ],
             [
              0.4444444444444444,
              "#bd3786"
             ],
             [
              0.5555555555555556,
              "#d8576b"
             ],
             [
              0.6666666666666666,
              "#ed7953"
             ],
             [
              0.7777777777777778,
              "#fb9f3a"
             ],
             [
              0.8888888888888888,
              "#fdca26"
             ],
             [
              1,
              "#f0f921"
             ]
            ],
            "type": "contour"
           }
          ],
          "contourcarpet": [
           {
            "colorbar": {
             "outlinewidth": 0,
             "ticks": ""
            },
            "type": "contourcarpet"
           }
          ],
          "heatmap": [
           {
            "colorbar": {
             "outlinewidth": 0,
             "ticks": ""
            },
            "colorscale": [
             [
              0,
              "#0d0887"
             ],
             [
              0.1111111111111111,
              "#46039f"
             ],
             [
              0.2222222222222222,
              "#7201a8"
             ],
             [
              0.3333333333333333,
              "#9c179e"
             ],
             [
              0.4444444444444444,
              "#bd3786"
             ],
             [
              0.5555555555555556,
              "#d8576b"
             ],
             [
              0.6666666666666666,
              "#ed7953"
             ],
             [
              0.7777777777777778,
              "#fb9f3a"
             ],
             [
              0.8888888888888888,
              "#fdca26"
             ],
             [
              1,
              "#f0f921"
             ]
            ],
            "type": "heatmap"
           }
          ],
          "heatmapgl": [
           {
            "colorbar": {
             "outlinewidth": 0,
             "ticks": ""
            },
            "colorscale": [
             [
              0,
              "#0d0887"
             ],
             [
              0.1111111111111111,
              "#46039f"
             ],
             [
              0.2222222222222222,
              "#7201a8"
             ],
             [
              0.3333333333333333,
              "#9c179e"
             ],
             [
              0.4444444444444444,
              "#bd3786"
             ],
             [
              0.5555555555555556,
              "#d8576b"
             ],
             [
              0.6666666666666666,
              "#ed7953"
             ],
             [
              0.7777777777777778,
              "#fb9f3a"
             ],
             [
              0.8888888888888888,
              "#fdca26"
             ],
             [
              1,
              "#f0f921"
             ]
            ],
            "type": "heatmapgl"
           }
          ],
          "histogram": [
           {
            "marker": {
             "colorbar": {
              "outlinewidth": 0,
              "ticks": ""
             }
            },
            "type": "histogram"
           }
          ],
          "histogram2d": [
           {
            "colorbar": {
             "outlinewidth": 0,
             "ticks": ""
            },
            "colorscale": [
             [
              0,
              "#0d0887"
             ],
             [
              0.1111111111111111,
              "#46039f"
             ],
             [
              0.2222222222222222,
              "#7201a8"
             ],
             [
              0.3333333333333333,
              "#9c179e"
             ],
             [
              0.4444444444444444,
              "#bd3786"
             ],
             [
              0.5555555555555556,
              "#d8576b"
             ],
             [
              0.6666666666666666,
              "#ed7953"
             ],
             [
              0.7777777777777778,
              "#fb9f3a"
             ],
             [
              0.8888888888888888,
              "#fdca26"
             ],
             [
              1,
              "#f0f921"
             ]
            ],
            "type": "histogram2d"
           }
          ],
          "histogram2dcontour": [
           {
            "colorbar": {
             "outlinewidth": 0,
             "ticks": ""
            },
            "colorscale": [
             [
              0,
              "#0d0887"
             ],
             [
              0.1111111111111111,
              "#46039f"
             ],
             [
              0.2222222222222222,
              "#7201a8"
             ],
             [
              0.3333333333333333,
              "#9c179e"
             ],
             [
              0.4444444444444444,
              "#bd3786"
             ],
             [
              0.5555555555555556,
              "#d8576b"
             ],
             [
              0.6666666666666666,
              "#ed7953"
             ],
             [
              0.7777777777777778,
              "#fb9f3a"
             ],
             [
              0.8888888888888888,
              "#fdca26"
             ],
             [
              1,
              "#f0f921"
             ]
            ],
            "type": "histogram2dcontour"
           }
          ],
          "mesh3d": [
           {
            "colorbar": {
             "outlinewidth": 0,
             "ticks": ""
            },
            "type": "mesh3d"
           }
          ],
          "parcoords": [
           {
            "line": {
             "colorbar": {
              "outlinewidth": 0,
              "ticks": ""
             }
            },
            "type": "parcoords"
           }
          ],
          "pie": [
           {
            "automargin": true,
            "type": "pie"
           }
          ],
          "scatter": [
           {
            "marker": {
             "colorbar": {
              "outlinewidth": 0,
              "ticks": ""
             }
            },
            "type": "scatter"
           }
          ],
          "scatter3d": [
           {
            "line": {
             "colorbar": {
              "outlinewidth": 0,
              "ticks": ""
             }
            },
            "marker": {
             "colorbar": {
              "outlinewidth": 0,
              "ticks": ""
             }
            },
            "type": "scatter3d"
           }
          ],
          "scattercarpet": [
           {
            "marker": {
             "colorbar": {
              "outlinewidth": 0,
              "ticks": ""
             }
            },
            "type": "scattercarpet"
           }
          ],
          "scattergeo": [
           {
            "marker": {
             "colorbar": {
              "outlinewidth": 0,
              "ticks": ""
             }
            },
            "type": "scattergeo"
           }
          ],
          "scattergl": [
           {
            "marker": {
             "colorbar": {
              "outlinewidth": 0,
              "ticks": ""
             }
            },
            "type": "scattergl"
           }
          ],
          "scattermapbox": [
           {
            "marker": {
             "colorbar": {
              "outlinewidth": 0,
              "ticks": ""
             }
            },
            "type": "scattermapbox"
           }
          ],
          "scatterpolar": [
           {
            "marker": {
             "colorbar": {
              "outlinewidth": 0,
              "ticks": ""
             }
            },
            "type": "scatterpolar"
           }
          ],
          "scatterpolargl": [
           {
            "marker": {
             "colorbar": {
              "outlinewidth": 0,
              "ticks": ""
             }
            },
            "type": "scatterpolargl"
           }
          ],
          "scatterternary": [
           {
            "marker": {
             "colorbar": {
              "outlinewidth": 0,
              "ticks": ""
             }
            },
            "type": "scatterternary"
           }
          ],
          "surface": [
           {
            "colorbar": {
             "outlinewidth": 0,
             "ticks": ""
            },
            "colorscale": [
             [
              0,
              "#0d0887"
             ],
             [
              0.1111111111111111,
              "#46039f"
             ],
             [
              0.2222222222222222,
              "#7201a8"
             ],
             [
              0.3333333333333333,
              "#9c179e"
             ],
             [
              0.4444444444444444,
              "#bd3786"
             ],
             [
              0.5555555555555556,
              "#d8576b"
             ],
             [
              0.6666666666666666,
              "#ed7953"
             ],
             [
              0.7777777777777778,
              "#fb9f3a"
             ],
             [
              0.8888888888888888,
              "#fdca26"
             ],
             [
              1,
              "#f0f921"
             ]
            ],
            "type": "surface"
           }
          ],
          "table": [
           {
            "cells": {
             "fill": {
              "color": "#EBF0F8"
             },
             "line": {
              "color": "white"
             }
            },
            "header": {
             "fill": {
              "color": "#C8D4E3"
             },
             "line": {
              "color": "white"
             }
            },
            "type": "table"
           }
          ]
         },
         "layout": {
          "annotationdefaults": {
           "arrowcolor": "#2a3f5f",
           "arrowhead": 0,
           "arrowwidth": 1
          },
          "autotypenumbers": "strict",
          "coloraxis": {
           "colorbar": {
            "outlinewidth": 0,
            "ticks": ""
           }
          },
          "colorscale": {
           "diverging": [
            [
             0,
             "#8e0152"
            ],
            [
             0.1,
             "#c51b7d"
            ],
            [
             0.2,
             "#de77ae"
            ],
            [
             0.3,
             "#f1b6da"
            ],
            [
             0.4,
             "#fde0ef"
            ],
            [
             0.5,
             "#f7f7f7"
            ],
            [
             0.6,
             "#e6f5d0"
            ],
            [
             0.7,
             "#b8e186"
            ],
            [
             0.8,
             "#7fbc41"
            ],
            [
             0.9,
             "#4d9221"
            ],
            [
             1,
             "#276419"
            ]
           ],
           "sequential": [
            [
             0,
             "#0d0887"
            ],
            [
             0.1111111111111111,
             "#46039f"
            ],
            [
             0.2222222222222222,
             "#7201a8"
            ],
            [
             0.3333333333333333,
             "#9c179e"
            ],
            [
             0.4444444444444444,
             "#bd3786"
            ],
            [
             0.5555555555555556,
             "#d8576b"
            ],
            [
             0.6666666666666666,
             "#ed7953"
            ],
            [
             0.7777777777777778,
             "#fb9f3a"
            ],
            [
             0.8888888888888888,
             "#fdca26"
            ],
            [
             1,
             "#f0f921"
            ]
           ],
           "sequentialminus": [
            [
             0,
             "#0d0887"
            ],
            [
             0.1111111111111111,
             "#46039f"
            ],
            [
             0.2222222222222222,
             "#7201a8"
            ],
            [
             0.3333333333333333,
             "#9c179e"
            ],
            [
             0.4444444444444444,
             "#bd3786"
            ],
            [
             0.5555555555555556,
             "#d8576b"
            ],
            [
             0.6666666666666666,
             "#ed7953"
            ],
            [
             0.7777777777777778,
             "#fb9f3a"
            ],
            [
             0.8888888888888888,
             "#fdca26"
            ],
            [
             1,
             "#f0f921"
            ]
           ]
          },
          "colorway": [
           "#636efa",
           "#EF553B",
           "#00cc96",
           "#ab63fa",
           "#FFA15A",
           "#19d3f3",
           "#FF6692",
           "#B6E880",
           "#FF97FF",
           "#FECB52"
          ],
          "font": {
           "color": "#2a3f5f"
          },
          "geo": {
           "bgcolor": "white",
           "lakecolor": "white",
           "landcolor": "#E5ECF6",
           "showlakes": true,
           "showland": true,
           "subunitcolor": "white"
          },
          "hoverlabel": {
           "align": "left"
          },
          "hovermode": "closest",
          "mapbox": {
           "style": "light"
          },
          "paper_bgcolor": "white",
          "plot_bgcolor": "#E5ECF6",
          "polar": {
           "angularaxis": {
            "gridcolor": "white",
            "linecolor": "white",
            "ticks": ""
           },
           "bgcolor": "#E5ECF6",
           "radialaxis": {
            "gridcolor": "white",
            "linecolor": "white",
            "ticks": ""
           }
          },
          "scene": {
           "xaxis": {
            "backgroundcolor": "#E5ECF6",
            "gridcolor": "white",
            "gridwidth": 2,
            "linecolor": "white",
            "showbackground": true,
            "ticks": "",
            "zerolinecolor": "white"
           },
           "yaxis": {
            "backgroundcolor": "#E5ECF6",
            "gridcolor": "white",
            "gridwidth": 2,
            "linecolor": "white",
            "showbackground": true,
            "ticks": "",
            "zerolinecolor": "white"
           },
           "zaxis": {
            "backgroundcolor": "#E5ECF6",
            "gridcolor": "white",
            "gridwidth": 2,
            "linecolor": "white",
            "showbackground": true,
            "ticks": "",
            "zerolinecolor": "white"
           }
          },
          "shapedefaults": {
           "line": {
            "color": "#2a3f5f"
           }
          },
          "ternary": {
           "aaxis": {
            "gridcolor": "white",
            "linecolor": "white",
            "ticks": ""
           },
           "baxis": {
            "gridcolor": "white",
            "linecolor": "white",
            "ticks": ""
           },
           "bgcolor": "#E5ECF6",
           "caxis": {
            "gridcolor": "white",
            "linecolor": "white",
            "ticks": ""
           }
          },
          "title": {
           "x": 0.05
          },
          "xaxis": {
           "automargin": true,
           "gridcolor": "white",
           "linecolor": "white",
           "ticks": "",
           "title": {
            "standoff": 15
           },
           "zerolinecolor": "white",
           "zerolinewidth": 2
          },
          "yaxis": {
           "automargin": true,
           "gridcolor": "white",
           "linecolor": "white",
           "ticks": "",
           "title": {
            "standoff": 15
           },
           "zerolinecolor": "white",
           "zerolinewidth": 2
          }
         }
        },
        "title": {
         "text": "Expenses"
        }
       }
      },
      "text/html": [
       "<div>                            <div id=\"23bb0570-e622-4183-a451-6e0aaef7bef0\" class=\"plotly-graph-div\" style=\"height:525px; width:100%;\"></div>            <script type=\"text/javascript\">                require([\"plotly\"], function(Plotly) {                    window.PLOTLYENV=window.PLOTLYENV || {};                                    if (document.getElementById(\"23bb0570-e622-4183-a451-6e0aaef7bef0\")) {                    Plotly.newPlot(                        \"23bb0570-e622-4183-a451-6e0aaef7bef0\",                        [{\"domain\": {\"x\": [0.0, 1.0], \"y\": [0.0, 1.0]}, \"hovertemplate\": \"character=%{label}<br>value=%{value}<br>parent=%{parent}<extra></extra>\", \"labels\": [\"savings\", \"savings\", \"debt\", \"housing\", \"transportation\", \"food\", \"utilities\", \"medical\", \"education\", \"childcare\", \"personal\"], \"name\": \"\", \"parents\": [\"essential\", \"essential\", \"essential\", \"essential\", \"essential\", \"essential\", \"essential\", \"essential\", \"essential\", \"essential\", \"essential\"], \"type\": \"sunburst\", \"values\": [2, 3, 6, 7, 4, 7, 10, 1, 2, 40, 18]}],                        {\"legend\": {\"tracegroupgap\": 0}, \"template\": {\"data\": {\"bar\": [{\"error_x\": {\"color\": \"#2a3f5f\"}, \"error_y\": {\"color\": \"#2a3f5f\"}, \"marker\": {\"line\": {\"color\": \"#E5ECF6\", \"width\": 0.5}}, \"type\": \"bar\"}], \"barpolar\": [{\"marker\": {\"line\": {\"color\": \"#E5ECF6\", \"width\": 0.5}}, \"type\": \"barpolar\"}], \"carpet\": [{\"aaxis\": {\"endlinecolor\": \"#2a3f5f\", \"gridcolor\": \"white\", \"linecolor\": \"white\", \"minorgridcolor\": \"white\", \"startlinecolor\": \"#2a3f5f\"}, \"baxis\": {\"endlinecolor\": \"#2a3f5f\", \"gridcolor\": \"white\", \"linecolor\": \"white\", \"minorgridcolor\": \"white\", \"startlinecolor\": \"#2a3f5f\"}, \"type\": \"carpet\"}], \"choropleth\": [{\"colorbar\": {\"outlinewidth\": 0, \"ticks\": \"\"}, \"type\": \"choropleth\"}], \"contour\": [{\"colorbar\": {\"outlinewidth\": 0, \"ticks\": \"\"}, \"colorscale\": [[0.0, \"#0d0887\"], [0.1111111111111111, \"#46039f\"], [0.2222222222222222, \"#7201a8\"], [0.3333333333333333, \"#9c179e\"], [0.4444444444444444, \"#bd3786\"], [0.5555555555555556, \"#d8576b\"], [0.6666666666666666, \"#ed7953\"], [0.7777777777777778, \"#fb9f3a\"], [0.8888888888888888, \"#fdca26\"], [1.0, \"#f0f921\"]], \"type\": \"contour\"}], \"contourcarpet\": [{\"colorbar\": {\"outlinewidth\": 0, \"ticks\": \"\"}, \"type\": \"contourcarpet\"}], \"heatmap\": [{\"colorbar\": {\"outlinewidth\": 0, \"ticks\": \"\"}, \"colorscale\": [[0.0, \"#0d0887\"], [0.1111111111111111, \"#46039f\"], [0.2222222222222222, \"#7201a8\"], [0.3333333333333333, \"#9c179e\"], [0.4444444444444444, \"#bd3786\"], [0.5555555555555556, \"#d8576b\"], [0.6666666666666666, \"#ed7953\"], [0.7777777777777778, \"#fb9f3a\"], [0.8888888888888888, \"#fdca26\"], [1.0, \"#f0f921\"]], \"type\": \"heatmap\"}], \"heatmapgl\": [{\"colorbar\": {\"outlinewidth\": 0, \"ticks\": \"\"}, \"colorscale\": [[0.0, \"#0d0887\"], [0.1111111111111111, \"#46039f\"], [0.2222222222222222, \"#7201a8\"], [0.3333333333333333, \"#9c179e\"], [0.4444444444444444, \"#bd3786\"], [0.5555555555555556, \"#d8576b\"], [0.6666666666666666, \"#ed7953\"], [0.7777777777777778, \"#fb9f3a\"], [0.8888888888888888, \"#fdca26\"], [1.0, \"#f0f921\"]], \"type\": \"heatmapgl\"}], \"histogram\": [{\"marker\": {\"colorbar\": {\"outlinewidth\": 0, \"ticks\": \"\"}}, \"type\": \"histogram\"}], \"histogram2d\": [{\"colorbar\": {\"outlinewidth\": 0, \"ticks\": \"\"}, \"colorscale\": [[0.0, \"#0d0887\"], [0.1111111111111111, \"#46039f\"], [0.2222222222222222, \"#7201a8\"], [0.3333333333333333, \"#9c179e\"], [0.4444444444444444, \"#bd3786\"], [0.5555555555555556, \"#d8576b\"], [0.6666666666666666, \"#ed7953\"], [0.7777777777777778, \"#fb9f3a\"], [0.8888888888888888, \"#fdca26\"], [1.0, \"#f0f921\"]], \"type\": \"histogram2d\"}], \"histogram2dcontour\": [{\"colorbar\": {\"outlinewidth\": 0, \"ticks\": \"\"}, \"colorscale\": [[0.0, \"#0d0887\"], [0.1111111111111111, \"#46039f\"], [0.2222222222222222, \"#7201a8\"], [0.3333333333333333, \"#9c179e\"], [0.4444444444444444, \"#bd3786\"], [0.5555555555555556, \"#d8576b\"], [0.6666666666666666, \"#ed7953\"], [0.7777777777777778, \"#fb9f3a\"], [0.8888888888888888, \"#fdca26\"], [1.0, \"#f0f921\"]], \"type\": \"histogram2dcontour\"}], \"mesh3d\": [{\"colorbar\": {\"outlinewidth\": 0, \"ticks\": \"\"}, \"type\": \"mesh3d\"}], \"parcoords\": [{\"line\": {\"colorbar\": {\"outlinewidth\": 0, \"ticks\": \"\"}}, \"type\": \"parcoords\"}], \"pie\": [{\"automargin\": true, \"type\": \"pie\"}], \"scatter\": [{\"marker\": {\"colorbar\": {\"outlinewidth\": 0, \"ticks\": \"\"}}, \"type\": \"scatter\"}], \"scatter3d\": [{\"line\": {\"colorbar\": {\"outlinewidth\": 0, \"ticks\": \"\"}}, \"marker\": {\"colorbar\": {\"outlinewidth\": 0, \"ticks\": \"\"}}, \"type\": \"scatter3d\"}], \"scattercarpet\": [{\"marker\": {\"colorbar\": {\"outlinewidth\": 0, \"ticks\": \"\"}}, \"type\": \"scattercarpet\"}], \"scattergeo\": [{\"marker\": {\"colorbar\": {\"outlinewidth\": 0, \"ticks\": \"\"}}, \"type\": \"scattergeo\"}], \"scattergl\": [{\"marker\": {\"colorbar\": {\"outlinewidth\": 0, \"ticks\": \"\"}}, \"type\": \"scattergl\"}], \"scattermapbox\": [{\"marker\": {\"colorbar\": {\"outlinewidth\": 0, \"ticks\": \"\"}}, \"type\": \"scattermapbox\"}], \"scatterpolar\": [{\"marker\": {\"colorbar\": {\"outlinewidth\": 0, \"ticks\": \"\"}}, \"type\": \"scatterpolar\"}], \"scatterpolargl\": [{\"marker\": {\"colorbar\": {\"outlinewidth\": 0, \"ticks\": \"\"}}, \"type\": \"scatterpolargl\"}], \"scatterternary\": [{\"marker\": {\"colorbar\": {\"outlinewidth\": 0, \"ticks\": \"\"}}, \"type\": \"scatterternary\"}], \"surface\": [{\"colorbar\": {\"outlinewidth\": 0, \"ticks\": \"\"}, \"colorscale\": [[0.0, \"#0d0887\"], [0.1111111111111111, \"#46039f\"], [0.2222222222222222, \"#7201a8\"], [0.3333333333333333, \"#9c179e\"], [0.4444444444444444, \"#bd3786\"], [0.5555555555555556, \"#d8576b\"], [0.6666666666666666, \"#ed7953\"], [0.7777777777777778, \"#fb9f3a\"], [0.8888888888888888, \"#fdca26\"], [1.0, \"#f0f921\"]], \"type\": \"surface\"}], \"table\": [{\"cells\": {\"fill\": {\"color\": \"#EBF0F8\"}, \"line\": {\"color\": \"white\"}}, \"header\": {\"fill\": {\"color\": \"#C8D4E3\"}, \"line\": {\"color\": \"white\"}}, \"type\": \"table\"}]}, \"layout\": {\"annotationdefaults\": {\"arrowcolor\": \"#2a3f5f\", \"arrowhead\": 0, \"arrowwidth\": 1}, \"autotypenumbers\": \"strict\", \"coloraxis\": {\"colorbar\": {\"outlinewidth\": 0, \"ticks\": \"\"}}, \"colorscale\": {\"diverging\": [[0, \"#8e0152\"], [0.1, \"#c51b7d\"], [0.2, \"#de77ae\"], [0.3, \"#f1b6da\"], [0.4, \"#fde0ef\"], [0.5, \"#f7f7f7\"], [0.6, \"#e6f5d0\"], [0.7, \"#b8e186\"], [0.8, \"#7fbc41\"], [0.9, \"#4d9221\"], [1, \"#276419\"]], \"sequential\": [[0.0, \"#0d0887\"], [0.1111111111111111, \"#46039f\"], [0.2222222222222222, \"#7201a8\"], [0.3333333333333333, \"#9c179e\"], [0.4444444444444444, \"#bd3786\"], [0.5555555555555556, \"#d8576b\"], [0.6666666666666666, \"#ed7953\"], [0.7777777777777778, \"#fb9f3a\"], [0.8888888888888888, \"#fdca26\"], [1.0, \"#f0f921\"]], \"sequentialminus\": [[0.0, \"#0d0887\"], [0.1111111111111111, \"#46039f\"], [0.2222222222222222, \"#7201a8\"], [0.3333333333333333, \"#9c179e\"], [0.4444444444444444, \"#bd3786\"], [0.5555555555555556, \"#d8576b\"], [0.6666666666666666, \"#ed7953\"], [0.7777777777777778, \"#fb9f3a\"], [0.8888888888888888, \"#fdca26\"], [1.0, \"#f0f921\"]]}, \"colorway\": [\"#636efa\", \"#EF553B\", \"#00cc96\", \"#ab63fa\", \"#FFA15A\", \"#19d3f3\", \"#FF6692\", \"#B6E880\", \"#FF97FF\", \"#FECB52\"], \"font\": {\"color\": \"#2a3f5f\"}, \"geo\": {\"bgcolor\": \"white\", \"lakecolor\": \"white\", \"landcolor\": \"#E5ECF6\", \"showlakes\": true, \"showland\": true, \"subunitcolor\": \"white\"}, \"hoverlabel\": {\"align\": \"left\"}, \"hovermode\": \"closest\", \"mapbox\": {\"style\": \"light\"}, \"paper_bgcolor\": \"white\", \"plot_bgcolor\": \"#E5ECF6\", \"polar\": {\"angularaxis\": {\"gridcolor\": \"white\", \"linecolor\": \"white\", \"ticks\": \"\"}, \"bgcolor\": \"#E5ECF6\", \"radialaxis\": {\"gridcolor\": \"white\", \"linecolor\": \"white\", \"ticks\": \"\"}}, \"scene\": {\"xaxis\": {\"backgroundcolor\": \"#E5ECF6\", \"gridcolor\": \"white\", \"gridwidth\": 2, \"linecolor\": \"white\", \"showbackground\": true, \"ticks\": \"\", \"zerolinecolor\": \"white\"}, \"yaxis\": {\"backgroundcolor\": \"#E5ECF6\", \"gridcolor\": \"white\", \"gridwidth\": 2, \"linecolor\": \"white\", \"showbackground\": true, \"ticks\": \"\", \"zerolinecolor\": \"white\"}, \"zaxis\": {\"backgroundcolor\": \"#E5ECF6\", \"gridcolor\": \"white\", \"gridwidth\": 2, \"linecolor\": \"white\", \"showbackground\": true, \"ticks\": \"\", \"zerolinecolor\": \"white\"}}, \"shapedefaults\": {\"line\": {\"color\": \"#2a3f5f\"}}, \"ternary\": {\"aaxis\": {\"gridcolor\": \"white\", \"linecolor\": \"white\", \"ticks\": \"\"}, \"baxis\": {\"gridcolor\": \"white\", \"linecolor\": \"white\", \"ticks\": \"\"}, \"bgcolor\": \"#E5ECF6\", \"caxis\": {\"gridcolor\": \"white\", \"linecolor\": \"white\", \"ticks\": \"\"}}, \"title\": {\"x\": 0.05}, \"xaxis\": {\"automargin\": true, \"gridcolor\": \"white\", \"linecolor\": \"white\", \"ticks\": \"\", \"title\": {\"standoff\": 15}, \"zerolinecolor\": \"white\", \"zerolinewidth\": 2}, \"yaxis\": {\"automargin\": true, \"gridcolor\": \"white\", \"linecolor\": \"white\", \"ticks\": \"\", \"title\": {\"standoff\": 15}, \"zerolinecolor\": \"white\", \"zerolinewidth\": 2}}}, \"title\": {\"text\": \"Expenses\"}},                        {\"responsive\": true}                    ).then(function(){\n",
       "                            \n",
       "var gd = document.getElementById('23bb0570-e622-4183-a451-6e0aaef7bef0');\n",
       "var x = new MutationObserver(function (mutations, observer) {{\n",
       "        var display = window.getComputedStyle(gd).display;\n",
       "        if (!display || display === 'none') {{\n",
       "            console.log([gd, 'removed!']);\n",
       "            Plotly.purge(gd);\n",
       "            observer.disconnect();\n",
       "        }}\n",
       "}});\n",
       "\n",
       "// Listen for the removal of the full notebook cells\n",
       "var notebookContainer = gd.closest('#notebook-container');\n",
       "if (notebookContainer) {{\n",
       "    x.observe(notebookContainer, {childList: true});\n",
       "}}\n",
       "\n",
       "// Listen for the clearing of the current output cell\n",
       "var outputEl = gd.closest('.output');\n",
       "if (outputEl) {{\n",
       "    x.observe(outputEl, {childList: true});\n",
       "}}\n",
       "\n",
       "                        })                };                });            </script>        </div>"
      ]
     },
     "metadata": {},
     "output_type": "display_data"
    }
   ],
   "source": [
    "data = dict(\n",
    "    character= inside,\n",
    "    parent = outside,\n",
    "    value= nums)\n",
    "\n",
    "fig =px.sunburst(\n",
    "    data,\n",
    "    names='character',\n",
    "    parents='parent',\n",
    "    values='value',\n",
    "    title = 'Expenses'\n",
    ")\n",
    "fig.show()"
   ]
  },
  {
   "cell_type": "code",
   "execution_count": null,
   "metadata": {},
   "outputs": [],
   "source": []
  }
 ],
 "metadata": {
  "kernelspec": {
   "display_name": "Python 3 (ipykernel)",
   "language": "python",
   "name": "python3"
  },
  "language_info": {
   "codemirror_mode": {
    "name": "ipython",
    "version": 3
   },
   "file_extension": ".py",
   "mimetype": "text/x-python",
   "name": "python",
   "nbconvert_exporter": "python",
   "pygments_lexer": "ipython3",
   "version": "3.7.7"
  }
 },
 "nbformat": 4,
 "nbformat_minor": 4
}
