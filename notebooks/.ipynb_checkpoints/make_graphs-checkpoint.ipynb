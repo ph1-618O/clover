{
 "cells": [
  {
   "cell_type": "markdown",
   "metadata": {},
   "source": [
    "# DEPENDENCIES"
   ]
  },
  {
   "cell_type": "markdown",
   "metadata": {},
   "source": [
    "-------------------------------------------------------------------------------------------------------------------"
   ]
  },
  {
   "cell_type": "code",
   "execution_count": 1,
   "metadata": {},
   "outputs": [],
   "source": [
    "#!/usr/bin/env python3\n",
    "# coding: utf-8\n",
    "\n",
    "# color pallet greens https://coolors.co/34463e-a4c3b2-cce3de-eaf4f4-f6fff8\n",
    "# color pallet secondary https://coolors.co/353535-3c6e71-ffffff-d9d9d9-284b63\n",
    "\n",
    "import numpy as np\n",
    "import plotly.graph_objects as go\n",
    "import plotly.io as pio\n",
    "import pandas as pd\n",
    "import os\n",
    "\n",
    "#Orca must be installed?\n",
    "#conda install -c plotly plotly-orca\n",
    "#Kaleido is for exporting images from plotly\n",
    "#pip install -U kaleido"
   ]
  },
  {
   "cell_type": "markdown",
   "metadata": {},
   "source": [
    "# DATA"
   ]
  },
  {
   "cell_type": "markdown",
   "metadata": {},
   "source": [
    "-------------------------------------------------------------------------------------------------------------------"
   ]
  },
  {
   "cell_type": "code",
   "execution_count": 2,
   "metadata": {},
   "outputs": [],
   "source": [
    "data_df = pd.read_csv('../data_local/test/organized.csv')\n",
    "col_names = []\n",
    "for col in data_df.columns:\n",
    "    col_names.append(col)\n",
    "col_data = []\n",
    "for i in col_names:\n",
    "    col_data.append(data_df[i])"
   ]
  },
  {
   "cell_type": "code",
   "execution_count": 3,
   "metadata": {},
   "outputs": [],
   "source": [
    "data_df = data_df.drop(columns = ['date_p', 'account', 'balance'])\n",
    "#data_df.iloc[[300]]"
   ]
  },
  {
   "cell_type": "markdown",
   "metadata": {},
   "source": [
    "# STACKED BAR GRAPH"
   ]
  },
  {
   "cell_type": "markdown",
   "metadata": {},
   "source": [
    "-------------------------------------------------------------------------------------------------------------------"
   ]
  },
  {
   "cell_type": "code",
   "execution_count": 4,
   "metadata": {},
   "outputs": [],
   "source": [
    "# pos_amount = [i*-1 for i in data_df['amount']]\n",
    "# import plotly.express as px\n",
    "# #wide_df = px.data.medals_wide()\n",
    "# fig = px.bar(data_df,\n",
    "#              x=\"date\", y= data_df['category'],\n",
    "#              color = pos_amount,\n",
    "#              title=\"Total Spending by Category by Day\")\n",
    "# fig.show()"
   ]
  },
  {
   "cell_type": "code",
   "execution_count": 5,
   "metadata": {},
   "outputs": [
    {
     "data": {
      "text/plain": [
       "numpy.float64"
      ]
     },
     "execution_count": 5,
     "metadata": {},
     "output_type": "execute_result"
    }
   ],
   "source": [
    "type(data_df['amount'][0])"
   ]
  },
  {
   "cell_type": "code",
   "execution_count": 6,
   "metadata": {},
   "outputs": [],
   "source": [
    "#categories = data_df['category'].unique()\n",
    "# sum_amount = data_df.loc[data_df['category'] == 'food']\n",
    "# sum_amount['amount'].sum().round(2)"
   ]
  },
  {
   "cell_type": "code",
   "execution_count": 7,
   "metadata": {},
   "outputs": [],
   "source": [
    "# Need to make a DF where all the unique categories are summed"
   ]
  },
  {
   "cell_type": "code",
   "execution_count": 8,
   "metadata": {},
   "outputs": [
    {
     "data": {
      "text/html": [
       "<div>\n",
       "<style scoped>\n",
       "    .dataframe tbody tr th:only-of-type {\n",
       "        vertical-align: middle;\n",
       "    }\n",
       "\n",
       "    .dataframe tbody tr th {\n",
       "        vertical-align: top;\n",
       "    }\n",
       "\n",
       "    .dataframe thead th {\n",
       "        text-align: right;\n",
       "    }\n",
       "</style>\n",
       "<table border=\"1\" class=\"dataframe\">\n",
       "  <thead>\n",
       "    <tr style=\"text-align: right;\">\n",
       "      <th></th>\n",
       "      <th></th>\n",
       "      <th>amount</th>\n",
       "    </tr>\n",
       "    <tr>\n",
       "      <th>category</th>\n",
       "      <th>date</th>\n",
       "      <th></th>\n",
       "    </tr>\n",
       "  </thead>\n",
       "  <tbody>\n",
       "    <tr>\n",
       "      <th>take_away</th>\n",
       "      <th>2020-04-30</th>\n",
       "      <td>-16.00</td>\n",
       "    </tr>\n",
       "    <tr>\n",
       "      <th>other</th>\n",
       "      <th>2020-04-30</th>\n",
       "      <td>-1023.29</td>\n",
       "    </tr>\n",
       "    <tr>\n",
       "      <th>payment</th>\n",
       "      <th>2020-05-04</th>\n",
       "      <td>1835.52</td>\n",
       "    </tr>\n",
       "    <tr>\n",
       "      <th>gas</th>\n",
       "      <th>2020-05-09</th>\n",
       "      <td>-411.45</td>\n",
       "    </tr>\n",
       "    <tr>\n",
       "      <th>take_away</th>\n",
       "      <th>2020-05-09</th>\n",
       "      <td>-18.73</td>\n",
       "    </tr>\n",
       "    <tr>\n",
       "      <th>...</th>\n",
       "      <th>...</th>\n",
       "      <td>...</td>\n",
       "    </tr>\n",
       "    <tr>\n",
       "      <th>gas</th>\n",
       "      <th>2021-05-19</th>\n",
       "      <td>-6.24</td>\n",
       "    </tr>\n",
       "    <tr>\n",
       "      <th>take_away</th>\n",
       "      <th>2021-05-20</th>\n",
       "      <td>-34.31</td>\n",
       "    </tr>\n",
       "    <tr>\n",
       "      <th>utility</th>\n",
       "      <th>2021-05-21</th>\n",
       "      <td>-54.99</td>\n",
       "    </tr>\n",
       "    <tr>\n",
       "      <th>home</th>\n",
       "      <th>2021-05-23</th>\n",
       "      <td>-47.47</td>\n",
       "    </tr>\n",
       "    <tr>\n",
       "      <th>online</th>\n",
       "      <th>2021-05-24</th>\n",
       "      <td>-20.13</td>\n",
       "    </tr>\n",
       "  </tbody>\n",
       "</table>\n",
       "<p>662 rows × 1 columns</p>\n",
       "</div>"
      ],
      "text/plain": [
       "                       amount\n",
       "category  date               \n",
       "take_away 2020-04-30   -16.00\n",
       "other     2020-04-30 -1023.29\n",
       "payment   2020-05-04  1835.52\n",
       "gas       2020-05-09  -411.45\n",
       "take_away 2020-05-09   -18.73\n",
       "...                       ...\n",
       "gas       2021-05-19    -6.24\n",
       "take_away 2021-05-20   -34.31\n",
       "utility   2021-05-21   -54.99\n",
       "home      2021-05-23   -47.47\n",
       "online    2021-05-24   -20.13\n",
       "\n",
       "[662 rows x 1 columns]"
      ]
     },
     "execution_count": 8,
     "metadata": {},
     "output_type": "execute_result"
    }
   ],
   "source": [
    "sum_categories = data_df.groupby(['category', 'date']).sum().sort_values(\"date\")\n",
    "# sum_categories = sum_categories.rename(columns={'category':'categories'})\n",
    "sum_categories"
   ]
  },
  {
   "cell_type": "code",
   "execution_count": 9,
   "metadata": {},
   "outputs": [
    {
     "data": {
      "text/html": [
       "<div>\n",
       "<style scoped>\n",
       "    .dataframe tbody tr th:only-of-type {\n",
       "        vertical-align: middle;\n",
       "    }\n",
       "\n",
       "    .dataframe tbody tr th {\n",
       "        vertical-align: top;\n",
       "    }\n",
       "\n",
       "    .dataframe thead th {\n",
       "        text-align: right;\n",
       "    }\n",
       "</style>\n",
       "<table border=\"1\" class=\"dataframe\">\n",
       "  <thead>\n",
       "    <tr style=\"text-align: right;\">\n",
       "      <th></th>\n",
       "      <th>category</th>\n",
       "      <th>amount</th>\n",
       "    </tr>\n",
       "  </thead>\n",
       "  <tbody>\n",
       "    <tr>\n",
       "      <th>0</th>\n",
       "      <td>take_away</td>\n",
       "      <td>16.00</td>\n",
       "    </tr>\n",
       "    <tr>\n",
       "      <th>1</th>\n",
       "      <td>other</td>\n",
       "      <td>1023.29</td>\n",
       "    </tr>\n",
       "    <tr>\n",
       "      <th>2</th>\n",
       "      <td>payment</td>\n",
       "      <td>-1835.52</td>\n",
       "    </tr>\n",
       "    <tr>\n",
       "      <th>3</th>\n",
       "      <td>gas</td>\n",
       "      <td>411.45</td>\n",
       "    </tr>\n",
       "    <tr>\n",
       "      <th>4</th>\n",
       "      <td>take_away</td>\n",
       "      <td>18.73</td>\n",
       "    </tr>\n",
       "    <tr>\n",
       "      <th>...</th>\n",
       "      <td>...</td>\n",
       "      <td>...</td>\n",
       "    </tr>\n",
       "    <tr>\n",
       "      <th>657</th>\n",
       "      <td>gas</td>\n",
       "      <td>6.24</td>\n",
       "    </tr>\n",
       "    <tr>\n",
       "      <th>658</th>\n",
       "      <td>take_away</td>\n",
       "      <td>34.31</td>\n",
       "    </tr>\n",
       "    <tr>\n",
       "      <th>659</th>\n",
       "      <td>utility</td>\n",
       "      <td>54.99</td>\n",
       "    </tr>\n",
       "    <tr>\n",
       "      <th>660</th>\n",
       "      <td>home</td>\n",
       "      <td>47.47</td>\n",
       "    </tr>\n",
       "    <tr>\n",
       "      <th>661</th>\n",
       "      <td>online</td>\n",
       "      <td>20.13</td>\n",
       "    </tr>\n",
       "  </tbody>\n",
       "</table>\n",
       "<p>662 rows × 2 columns</p>\n",
       "</div>"
      ],
      "text/plain": [
       "      category   amount\n",
       "0    take_away    16.00\n",
       "1        other  1023.29\n",
       "2      payment -1835.52\n",
       "3          gas   411.45\n",
       "4    take_away    18.73\n",
       "..         ...      ...\n",
       "657        gas     6.24\n",
       "658  take_away    34.31\n",
       "659    utility    54.99\n",
       "660       home    47.47\n",
       "661     online    20.13\n",
       "\n",
       "[662 rows x 2 columns]"
      ]
     },
     "execution_count": 9,
     "metadata": {},
     "output_type": "execute_result"
    }
   ],
   "source": [
    "#sum_categories['categories'] = sum_categories.index\n",
    "sum_categories.reset_index(inplace = True)\n",
    "sum_categories['amount'] = [i*-1 for i in sum_categories['amount']]\n",
    "sum_categories = sum_categories[['category', 'amount']]\n",
    "sum_categories"
   ]
  },
  {
   "cell_type": "code",
   "execution_count": 10,
   "metadata": {},
   "outputs": [
    {
     "data": {
      "text/plain": [
       "['beauty products',\n",
       " 'clothing',\n",
       " 'conveyance',\n",
       " 'education',\n",
       " 'entertainment',\n",
       " 'fee',\n",
       " 'gas',\n",
       " 'gift',\n",
       " 'groceries',\n",
       " 'holiday',\n",
       " 'home',\n",
       " 'interest',\n",
       " 'medical',\n",
       " 'online',\n",
       " 'other',\n",
       " 'pet',\n",
       " 'restaurant',\n",
       " 'sundries',\n",
       " 'take_away',\n",
       " 'utility',\n",
       " 'work']"
      ]
     },
     "execution_count": 10,
     "metadata": {},
     "output_type": "execute_result"
    }
   ],
   "source": [
    "cats = sorted(list(sum_categories.category.unique()))\n",
    "cats.remove('payment')\n",
    "cats"
   ]
  },
  {
   "cell_type": "code",
   "execution_count": 11,
   "metadata": {},
   "outputs": [],
   "source": [
    "summed_cats = []\n",
    "for i in cats:\n",
    "    summed_cats.append(int(round(sum_categories.loc[sum_categories['category'] == i].amount.sum())))\n",
    "#summed_cats"
   ]
  },
  {
   "cell_type": "code",
   "execution_count": 12,
   "metadata": {},
   "outputs": [
    {
     "data": {
      "text/plain": [
       "[0, 8, 7, 7, 2, 2, 6, 0, 11, 1, 4, 1, 3, 12, 3, 10, 2, 0, 3, 12, 6]"
      ]
     },
     "execution_count": 12,
     "metadata": {},
     "output_type": "execute_result"
    }
   ],
   "source": [
    "total_spending = sum(summed_cats)\n",
    "total_spending\n",
    "percent = []\n",
    "for i in summed_cats:\n",
    "    i = i * -1\n",
    "    percent.append(round(i/(total_spending*-1)*100))\n",
    "percent"
   ]
  },
  {
   "cell_type": "code",
   "execution_count": 13,
   "metadata": {},
   "outputs": [
    {
     "data": {
      "text/html": [
       "<div>\n",
       "<style scoped>\n",
       "    .dataframe tbody tr th:only-of-type {\n",
       "        vertical-align: middle;\n",
       "    }\n",
       "\n",
       "    .dataframe tbody tr th {\n",
       "        vertical-align: top;\n",
       "    }\n",
       "\n",
       "    .dataframe thead th {\n",
       "        text-align: right;\n",
       "    }\n",
       "</style>\n",
       "<table border=\"1\" class=\"dataframe\">\n",
       "  <thead>\n",
       "    <tr style=\"text-align: right;\">\n",
       "      <th></th>\n",
       "      <th>categories</th>\n",
       "      <th>amounts</th>\n",
       "      <th>percent</th>\n",
       "    </tr>\n",
       "  </thead>\n",
       "  <tbody>\n",
       "    <tr>\n",
       "      <th>0</th>\n",
       "      <td>beauty products</td>\n",
       "      <td>122</td>\n",
       "      <td>0</td>\n",
       "    </tr>\n",
       "    <tr>\n",
       "      <th>1</th>\n",
       "      <td>clothing</td>\n",
       "      <td>4459</td>\n",
       "      <td>8</td>\n",
       "    </tr>\n",
       "    <tr>\n",
       "      <th>2</th>\n",
       "      <td>conveyance</td>\n",
       "      <td>3932</td>\n",
       "      <td>7</td>\n",
       "    </tr>\n",
       "    <tr>\n",
       "      <th>3</th>\n",
       "      <td>education</td>\n",
       "      <td>3997</td>\n",
       "      <td>7</td>\n",
       "    </tr>\n",
       "    <tr>\n",
       "      <th>4</th>\n",
       "      <td>entertainment</td>\n",
       "      <td>1303</td>\n",
       "      <td>2</td>\n",
       "    </tr>\n",
       "    <tr>\n",
       "      <th>5</th>\n",
       "      <td>fee</td>\n",
       "      <td>1054</td>\n",
       "      <td>2</td>\n",
       "    </tr>\n",
       "    <tr>\n",
       "      <th>6</th>\n",
       "      <td>gas</td>\n",
       "      <td>3570</td>\n",
       "      <td>6</td>\n",
       "    </tr>\n",
       "    <tr>\n",
       "      <th>7</th>\n",
       "      <td>gift</td>\n",
       "      <td>177</td>\n",
       "      <td>0</td>\n",
       "    </tr>\n",
       "    <tr>\n",
       "      <th>8</th>\n",
       "      <td>groceries</td>\n",
       "      <td>6380</td>\n",
       "      <td>11</td>\n",
       "    </tr>\n",
       "    <tr>\n",
       "      <th>9</th>\n",
       "      <td>holiday</td>\n",
       "      <td>587</td>\n",
       "      <td>1</td>\n",
       "    </tr>\n",
       "    <tr>\n",
       "      <th>10</th>\n",
       "      <td>home</td>\n",
       "      <td>2210</td>\n",
       "      <td>4</td>\n",
       "    </tr>\n",
       "    <tr>\n",
       "      <th>11</th>\n",
       "      <td>interest</td>\n",
       "      <td>326</td>\n",
       "      <td>1</td>\n",
       "    </tr>\n",
       "    <tr>\n",
       "      <th>12</th>\n",
       "      <td>medical</td>\n",
       "      <td>1921</td>\n",
       "      <td>3</td>\n",
       "    </tr>\n",
       "    <tr>\n",
       "      <th>13</th>\n",
       "      <td>online</td>\n",
       "      <td>6945</td>\n",
       "      <td>12</td>\n",
       "    </tr>\n",
       "    <tr>\n",
       "      <th>14</th>\n",
       "      <td>other</td>\n",
       "      <td>1734</td>\n",
       "      <td>3</td>\n",
       "    </tr>\n",
       "    <tr>\n",
       "      <th>15</th>\n",
       "      <td>pet</td>\n",
       "      <td>5738</td>\n",
       "      <td>10</td>\n",
       "    </tr>\n",
       "    <tr>\n",
       "      <th>16</th>\n",
       "      <td>restaurant</td>\n",
       "      <td>1351</td>\n",
       "      <td>2</td>\n",
       "    </tr>\n",
       "    <tr>\n",
       "      <th>17</th>\n",
       "      <td>sundries</td>\n",
       "      <td>231</td>\n",
       "      <td>0</td>\n",
       "    </tr>\n",
       "    <tr>\n",
       "      <th>18</th>\n",
       "      <td>take_away</td>\n",
       "      <td>2039</td>\n",
       "      <td>3</td>\n",
       "    </tr>\n",
       "    <tr>\n",
       "      <th>19</th>\n",
       "      <td>utility</td>\n",
       "      <td>7177</td>\n",
       "      <td>12</td>\n",
       "    </tr>\n",
       "    <tr>\n",
       "      <th>20</th>\n",
       "      <td>work</td>\n",
       "      <td>3394</td>\n",
       "      <td>6</td>\n",
       "    </tr>\n",
       "  </tbody>\n",
       "</table>\n",
       "</div>"
      ],
      "text/plain": [
       "         categories  amounts  percent\n",
       "0   beauty products      122        0\n",
       "1          clothing     4459        8\n",
       "2        conveyance     3932        7\n",
       "3         education     3997        7\n",
       "4     entertainment     1303        2\n",
       "5               fee     1054        2\n",
       "6               gas     3570        6\n",
       "7              gift      177        0\n",
       "8         groceries     6380       11\n",
       "9           holiday      587        1\n",
       "10             home     2210        4\n",
       "11         interest      326        1\n",
       "12          medical     1921        3\n",
       "13           online     6945       12\n",
       "14            other     1734        3\n",
       "15              pet     5738       10\n",
       "16       restaurant     1351        2\n",
       "17         sundries      231        0\n",
       "18        take_away     2039        3\n",
       "19          utility     7177       12\n",
       "20             work     3394        6"
      ]
     },
     "execution_count": 13,
     "metadata": {},
     "output_type": "execute_result"
    }
   ],
   "source": [
    "sum_totals = pd.DataFrame()\n",
    "sum_totals['categories'] = cats\n",
    "sum_totals['amounts'] = summed_cats\n",
    "sum_totals['percent'] = percent\n",
    "sum_totals"
   ]
  },
  {
   "cell_type": "code",
   "execution_count": 14,
   "metadata": {},
   "outputs": [],
   "source": [
    "# import plotly.express as px\n",
    "# #wide_df = px.data.medals_wide()\n",
    "# fig = px.bar(sum_categories,\n",
    "#              x=\"date\", y= sum_categories['category'],\n",
    "#              color = 'amount',\n",
    "#              labels = {'category':'amount'},\n",
    "#              title=\"Total Spending by Category by Day\")\n",
    "# fig.show()"
   ]
  },
  {
   "cell_type": "code",
   "execution_count": 15,
   "metadata": {},
   "outputs": [],
   "source": [
    "# import plotly.express as px\n",
    "# #wide_df = px.data.medals_wide()\n",
    "# fig = px.bar(sum_categories, x=\"date\", y= sum_categories['amount'], color ='amount', title=\"Total Spending by Category by Day\")\n",
    "# fig.show()"
   ]
  },
  {
   "cell_type": "markdown",
   "metadata": {},
   "source": [
    "# ORIGINAL STACKED BAR GRAPH"
   ]
  },
  {
   "cell_type": "markdown",
   "metadata": {},
   "source": [
    "-------------------------------------------------------------------------------------------------------------------"
   ]
  },
  {
   "cell_type": "code",
   "execution_count": 45,
   "metadata": {},
   "outputs": [],
   "source": [
    "# import plotly.express as px\n",
    "# wide_df = px.data.medals_wide()\n",
    "# fig = px.bar(wide_df, x=\"nation\", y=[\"gold\", \"silver\", \"bronze\"], title=\"Wide-Form Input\")\n",
    "# fig.show()"
   ]
  },
  {
   "cell_type": "markdown",
   "metadata": {},
   "source": [
    "# TREEEMAP CHART"
   ]
  },
  {
   "cell_type": "markdown",
   "metadata": {},
   "source": [
    "-------------------------------------------------------------------------------------------------------------------"
   ]
  },
  {
   "cell_type": "code",
   "execution_count": 41,
   "metadata": {},
   "outputs": [],
   "source": [
    "# Need new TreeMap code, this one is not so pretty\n",
    "\n",
    "# essential.keys()\n",
    "\n",
    "# groups = list(essential.keys())\n",
    "# priority = ['Essential' for i in range(len(groups))]\n",
    "# nums = constrain_sum(len(groups), 100)\n",
    "# percentages = [str(nums[i])+'%' for i in range(len(nums))]\n",
    "\n",
    "# groups\n",
    "\n",
    "# df = pd.DataFrame(\n",
    "#     {\n",
    "#         'priority': priority,\n",
    "#         'categories':groups,\n",
    "#         'values': nums,\n",
    "#         'percentages':percentages\n",
    "#                   })\n",
    "\n",
    "# import squarify\n",
    "# import matplotlib.pyplot as plt\n",
    "# # plot it\n",
    "# labels = [df['categories'][i].capitalize()+(' \\n'+ str(nums[i])+'%') for i in range(len(df['categories']))]\n",
    "\n",
    "# squarify.plot(sizes=df['values'], label=labels, alpha=.4, color= rainbow_colors[:len(groups)+1])\n",
    "# plt.axis('off')\n",
    "# plt.show()"
   ]
  },
  {
   "cell_type": "markdown",
   "metadata": {},
   "source": [
    "# ALTERNATE TREEMAP"
   ]
  },
  {
   "cell_type": "markdown",
   "metadata": {},
   "source": [
    "-------------------------------------------------------------------------------------------------------------------"
   ]
  },
  {
   "cell_type": "markdown",
   "metadata": {},
   "source": [
    "- FIX Legend\n",
    "- Change rainbow colors from a list to a dictionary and grab the correct values accordingly'\n",
    "- ie if data 100-90 red, 90-80 orange, 80-70 yellow, 70-60 green, 60-50 blue, 50-40, purple and on until 10-0\n",
    "- fix hover put something relevant"
   ]
  },
  {
   "cell_type": "code",
   "execution_count": 42,
   "metadata": {},
   "outputs": [],
   "source": [
    "groups_all = list(essential.keys()) + list(non_essential)\n",
    "nums_all = constrain_sum(len(groups_all), 100)\n",
    "priority_all = ['Essential' if x in essential.keys() else 'Non Essential' for x in groups_all]\n",
    "percentages_all = [str(nums_all[i])+'%' for i in range(len(nums_all))]\n",
    "# Create a data frame with fake data\n",
    "# df = pd.DataFrame({'nb_people':[8,3,4,2],\n",
    "#                    'group':[\"Housing\\n 40%\",\n",
    "#                             \"Utilities\\n 10%\",\n",
    "#                             \"Food\\n 10%\",\n",
    "#                             \"Entertainment\\n 10%\"]})\n",
    "df_all = pd.DataFrame(\n",
    "    {\n",
    "        'priority': priority_all,\n",
    "        'categories':groups_all,\n",
    "        'values': nums_all,\n",
    "        'percentages':percentages_all\n",
    "                  })"
   ]
  },
  {
   "cell_type": "code",
   "execution_count": 43,
   "metadata": {},
   "outputs": [
    {
     "data": {
      "text/plain": [
       "['#F94144',\n",
       " '#f3722c',\n",
       " '#F9844A',\n",
       " '#f8961e',\n",
       " '#F9C74F',\n",
       " '#90BE6D',\n",
       " '#43AA8B',\n",
       " '#4D908E',\n",
       " '#277DA1',\n",
       " '#577590',\n",
       " '#43AA8B',\n",
       " '#90BE6D',\n",
       " '#F9C74F',\n",
       " '#f8961e',\n",
       " '#F9844A',\n",
       " '#f3722c']"
      ]
     },
     "execution_count": 43,
     "metadata": {},
     "output_type": "execute_result"
    }
   ],
   "source": [
    "colors_all = rainbow_colors[:len(groups_all)+1]\n",
    "counter = len(colors_all)\n",
    "while counter < len(df_all):\n",
    "    colors_all.append(rainbow_colors[len(df_all)-counter])\n",
    "    counter += 1\n",
    "colors_all"
   ]
  },
  {
   "cell_type": "code",
   "execution_count": 44,
   "metadata": {},
   "outputs": [
    {
     "ename": "NameError",
     "evalue": "name 'df' is not defined",
     "output_type": "error",
     "traceback": [
      "\u001b[0;31m---------------------------------------------------------------------------\u001b[0m",
      "\u001b[0;31mNameError\u001b[0m                                 Traceback (most recent call last)",
      "\u001b[0;32m<ipython-input-44-76febf42ee3f>\u001b[0m in \u001b[0;36m<module>\u001b[0;34m\u001b[0m\n\u001b[0;32m----> 1\u001b[0;31m \u001b[0mprint\u001b[0m\u001b[0;34m(\u001b[0m\u001b[0msorted\u001b[0m\u001b[0;34m(\u001b[0m\u001b[0mdf\u001b[0m\u001b[0;34m[\u001b[0m\u001b[0;34m'values'\u001b[0m\u001b[0;34m]\u001b[0m\u001b[0;34m)\u001b[0m\u001b[0;34m)\u001b[0m\u001b[0;34m\u001b[0m\u001b[0;34m\u001b[0m\u001b[0m\n\u001b[0m",
      "\u001b[0;31mNameError\u001b[0m: name 'df' is not defined"
     ]
    }
   ],
   "source": [
    "print(sorted(df['values']))"
   ]
  },
  {
   "cell_type": "code",
   "execution_count": null,
   "metadata": {},
   "outputs": [],
   "source": [
    "df_all"
   ]
  },
  {
   "cell_type": "code",
   "execution_count": null,
   "metadata": {},
   "outputs": [],
   "source": [
    "sorted_df = df_all.sort_values(by=['values', 'categories']).reset_index(drop=True)\n",
    "sorted_df"
   ]
  },
  {
   "cell_type": "code",
   "execution_count": null,
   "metadata": {},
   "outputs": [],
   "source": [
    "import plotly.express as px\n",
    "fig = px.treemap(df_all.sort_values(by=['values','categories']).reset_index(drop=True), path=['priority', 'categories', 'percentages'], \n",
    "                 values='values', \n",
    "                 color='values')\n",
    "fig.update_traces(marker_colors= colors_all, selector=dict(type='treemap')) \n",
    "#fig.update_traces(pathbar_visible=False, selector=dict(type='treemap'))\n",
    "fig.show()"
   ]
  },
  {
   "cell_type": "markdown",
   "metadata": {},
   "source": [
    "## Sample Data"
   ]
  },
  {
   "cell_type": "code",
   "execution_count": null,
   "metadata": {},
   "outputs": [],
   "source": [
    "# px.data.tips()\n",
    "\n",
    "# import plotly.express as px\n",
    "  \n",
    "# df = px.data.tips()\n",
    "  \n",
    "# fig = px.treemap(df, path=['day', 'time', 'tip'], \n",
    "#                  values='total_bill', \n",
    "#                  color='total_bill')\n",
    "\n",
    "# fig.show()\n",
    "\n",
    "# import plotly.express as px\n",
    "\n",
    "# for name in dir(px.data):\n",
    "#     if '__' not in name:\n",
    "#         print(name)\n",
    "\n",
    "# print(px.data.tips())\n",
    "\n",
    "\n",
    "\n"
   ]
  },
  {
   "cell_type": "code",
   "execution_count": null,
   "metadata": {},
   "outputs": [],
   "source": []
  }
 ],
 "metadata": {
  "kernelspec": {
   "display_name": "Python 3",
   "language": "python",
   "name": "python3"
  },
  "language_info": {
   "codemirror_mode": {
    "name": "ipython",
    "version": 3
   },
   "file_extension": ".py",
   "mimetype": "text/x-python",
   "name": "python",
   "nbconvert_exporter": "python",
   "pygments_lexer": "ipython3",
   "version": "3.7.7"
  }
 },
 "nbformat": 4,
 "nbformat_minor": 4
}
