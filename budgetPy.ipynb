{
 "cells": [
  {
   "cell_type": "markdown",
   "metadata": {},
   "source": [
    "# budgetPy\n",
    "- Program that takes a xls file, a csv, or a clipboard copy from a web page and creates a budget\n",
    "- Asks for user input as to other debts, payday loans, student, medical bills, personal loans Car payment, mortgage?\n",
    "- Asks for user input as to what category each grouping of purchases is\n",
    "- Ask for user input if it is a Savings, CC, or Checking account\n",
    "- Tracks Money transfers between accounts\n",
    "- Establishes what the base income is// asks for user input if a certain deposit is their income or other\n",
    "- Splits up purchases by regular bills, irregular bills, groceries, gas, subscriptions, entertainment, clothing, travel, other\n",
    "- Subtract expenses from income to equal zero, if done correctly it will recommend excess to be trans to savings\n",
    "- Creates a debt snowball, by listing debts smallest to largest, kind, total payoff, min payment\n",
    "- Start with the smallest debt and paying it off first\n",
    "- Make estimations on how long certain debts will take to pay off with user guided slider\n",
    "- percentages, giving 10, saving 10, food 10-15, utilities 5 -15, housing 25, transportation 10, health 5-10\n",
    "- insurance 10-25, recreation 5 -10, personal spending 5 - 10, miscellaneous 5 - 10"
   ]
  },
  {
   "cell_type": "code",
   "execution_count": null,
   "metadata": {},
   "outputs": [],
   "source": []
  },
  {
   "cell_type": "markdown",
   "metadata": {},
   "source": [
    "### - Requirements, \n",
    "    - pip install google // conda install google\n",
    "    - pip install beautifulsoup4 // conda install pandas\n",
    "    - pip install pandas // conda install pandas\n",
    "    - pip install numpy // conda install numpy\n",
    "    - pip install requests // conda install requests\n",
    "    - python -m pip install -U matplotlib // conda install matplotlib"
   ]
  },
  {
   "cell_type": "code",
   "execution_count": 1,
   "metadata": {},
   "outputs": [],
   "source": [
    "from datetime import datetime\n",
    "from datetime import date\n",
    "from calendar import month_abbr\n",
    "from pandas import ExcelWriter\n",
    "from pandas import ExcelFile\n",
    "import pandas as pd\n",
    "import numpy as np\n",
    "import matplotlib.pyplot as plt\n",
    "import matplotlib.ticker as ticker\n",
    "from matplotlib.lines import Line2D\n",
    "import requests\n",
    "import re\n",
    "from random import seed\n",
    "from random import randint\n",
    "import random\n",
    "import time\n",
    "from bs4 import BeautifulSoup as soup"
   ]
  },
  {
   "cell_type": "code",
   "execution_count": 2,
   "metadata": {},
   "outputs": [],
   "source": [
    "#adding git push func to avoid command line step\n",
    "def git_push():\n",
    "    msg = input('What is the commit message?')\n",
    "    !git add .\n",
    "    !git commit -m f'{msg}'\n",
    "    !git push"
   ]
  },
  {
   "cell_type": "code",
   "execution_count": 3,
   "metadata": {},
   "outputs": [],
   "source": [
    "#bank_data = pd.read_csv(csvName)"
   ]
  },
  {
   "cell_type": "code",
   "execution_count": 4,
   "metadata": {},
   "outputs": [],
   "source": [
    "# trying to search with google api for the identity of certain purchases\n",
    "# Oops too many requests \n",
    "# HTTPError: HTTP Error 429: Too Many Requests\n",
    "# try:\n",
    "#     from googlesearch import search\n",
    "# except Importerror:\n",
    "#     print(\"No module named 'google' found\")\n",
    "# query = \"HAMPTON ROADS SANITATI 757-460-2261 VA\"\n",
    "# for j in search(query, tld=\"co.in\", num=10, stop=10, pause=2):\n",
    "#     time.sleep(1)\n",
    "#     print(j)"
   ]
  },
  {
   "cell_type": "markdown",
   "metadata": {},
   "source": [
    "# Note\n",
    "- Keep function to import data when test data is ready"
   ]
  },
  {
   "cell_type": "code",
   "execution_count": 6,
   "metadata": {},
   "outputs": [],
   "source": [
    "\n",
    "# row1 = []\n",
    "# for col in bank_data.columns:\n",
    "#     row1.append(col)\n",
    "\n",
    "# #this function splits the dataframe and inserts a row at the designated location\n",
    "# def insertRow(rowNum, df, rowVal):\n",
    "#     df1 = df[0:rowNum]\n",
    "#     df2 = df[rowNum:]\n",
    "#     df1.loc[rowNum] = rowVal\n",
    "#     dfResult = pd.concat([df1, df2])\n",
    "#     return dfResult\n",
    "\n",
    "# #rowNum is the location of insertion, and rowval is the row to be inserted\n",
    "# rowNum = 1\n",
    "# rowVal = row1\n",
    "# df = insertRow(rowNum, bank_data, rowVal)"
   ]
  },
  {
   "cell_type": "markdown",
   "metadata": {},
   "source": [
    "## Budget Rule 50% Needs, 30% Wants, 20% Savings\n",
    "- Avg recommendations 25% housing\n",
    "- 50% car\n",
    "- 15% retirement\n",
    "- 10% left over?\n",
    "- 3 months emergency fund"
   ]
  },
  {
   "cell_type": "code",
   "execution_count": 7,
   "metadata": {},
   "outputs": [],
   "source": [
    "def income(amount = 0):\n",
    "    # assuming that an hourly worker makes more than a poverty wage\n",
    "    if amount > 10000:\n",
    "        i = input(\"The value is greater than 10,000 is this your yearly income?\\n\")\n",
    "        if 'y' in i.lower():\n",
    "            return amount, print(f'\\nYour yearly wage is:: {amount}')\n",
    "    else:\n",
    "        i = input(\"What period is the income, ie monthly, yearly, hourly?\\n\")\n",
    "        if i.lower() == 'bi-monthly' or i.lower() == 'bi monthly':\n",
    "            return amount * 12, print(f'\\nYour yearly wage is:: {amount * 2 * 12}')\n",
    "        elif 'month' in i.lower():\n",
    "            return amount * 12, print(f'\\nYour yearly wage is:: {amount * 12}')\n",
    "        elif 'week' in i.lower():\n",
    "            return amount * 4 * 12, print(f'Your yearly wage is:: {amount * 4 * 12}')\n",
    "        elif 'hour' in i.lower():\n",
    "            h = int(input('How many hours do you work a year\\n'))\n",
    "            return amount * h, print(f'\\nYour yearly wage is:: {amount * h}')\n",
    "        else: \n",
    "            return amount, print(f'\\nYour yearly wage is:: {amount}')"
   ]
  },
  {
   "cell_type": "code",
   "execution_count": 8,
   "metadata": {},
   "outputs": [],
   "source": [
    "def ideal_budget(income):\n",
    "    print('--------------------------------')\n",
    "    print(f'Total income:\\t\\t{income}')#67200\n",
    "    print('--------------------------------')\n",
    "    # savings = int(income * .10/12)\n",
    "    print('Ideal Budget')\n",
    "    print('--------------------------------')\n",
    "    print(f'Home/Mo(25%):\\t\\t{int(income * .25/12)}')\n",
    "    print(f'Lifestyle/Mo(10%):\\t{int(income * .15/12)}')\n",
    "    print(f'Debt/Mo(10%):\\t\\t{int(income * .10/12)}')\n",
    "    print(f'Savings/Mo(10%):\\t{int(income * .10/12)}')\n",
    "    print(f'Food/Mo(10%):\\t\\t{int(income * .10/12)}')\n",
    "    print(f'Transpo/Mo(10%):\\t{int(income * .10/12)}')\n",
    "    print(f'Util/Mo(5%):\\t\\t{int(income * .05/12)}')\n",
    "    print(f'Medical/Mo(5%):\\t\\t{int(income * .05/12)}')"
   ]
  },
  {
   "cell_type": "code",
   "execution_count": 9,
   "metadata": {},
   "outputs": [],
   "source": [
    "def calc_savings():\n",
    "    keys = range(int(input('How many different types of savings do you have?\\n')))\n",
    "    print('--------------------------------')\n",
    "    values = []\n",
    "    counter = 0\n",
    "    for i in keys:\n",
    "        counter += 1\n",
    "        print(f'Savings type {counter} of {len(keys)}')\n",
    "        print('--------------------------------')\n",
    "        values.append(input('What type of savings?\\n').lower())\n",
    "        print('--------------------------------')\n",
    "        if len(values) == len(keys):\n",
    "            break\n",
    "    zips = zip(keys, values)\n",
    "    savings = dict(zips)\n",
    "    return savings"
   ]
  },
  {
   "cell_type": "code",
   "execution_count": 10,
   "metadata": {},
   "outputs": [
    {
     "name": "stdout",
     "output_type": "stream",
     "text": [
      "The value is greater than 10,000 is this your yearly income?\n",
      "yes\n",
      "\n",
      "Your yearly wage is:: 40000\n",
      "--------------------------------\n",
      "Total income:\t\t40000\n",
      "--------------------------------\n",
      "Ideal Budget\n",
      "--------------------------------\n",
      "Home/Mo(25%):\t\t833\n",
      "Lifestyle/Mo(10%):\t500\n",
      "Debt/Mo(10%):\t\t333\n",
      "Savings/Mo(10%):\t333\n",
      "Food/Mo(10%):\t\t333\n",
      "Transpo/Mo(10%):\t333\n",
      "Util/Mo(5%):\t\t166\n",
      "Medical/Mo(5%):\t\t166\n",
      "How many different types of savings do you have?\n",
      "2\n",
      "--------------------------------\n",
      "Savings type 1 of 2\n",
      "--------------------------------\n",
      "What type of savings?\n",
      "sdf\n",
      "--------------------------------\n",
      "Savings type 2 of 2\n",
      "--------------------------------\n",
      "What type of savings?\n",
      "sdf\n",
      "--------------------------------\n"
     ]
    },
    {
     "data": {
      "text/plain": [
       "{0: 'sdf', 1: 'sdf'}"
      ]
     },
     "execution_count": 10,
     "metadata": {},
     "output_type": "execute_result"
    }
   ],
   "source": [
    "get_i = income(40000)[0]\n",
    "ideal_budget(get_i)\n",
    "calc_savings()"
   ]
  },
  {
   "cell_type": "code",
   "execution_count": null,
   "metadata": {},
   "outputs": [],
   "source": [
    "# #Savings 10%\n",
    "# savings_extra_debt_payment = 0\n",
    "# savings_emergency_fund = 0\n",
    "# savings_long_term = 0\n",
    "# savings_short_term = 0\n",
    "# savings_kid_college = 0\n",
    "\n",
    "# #Home 25%\n",
    "# living_mortgage_rent = 0\n",
    "# living_rental_insurance = 0\n",
    "# living_property_taxes = 0\n",
    "# living_day_care=0\n",
    "\n",
    "# #Utilities 5%\n",
    "# util_electric\n",
    "# util_gas\n",
    "# util_water\n",
    "# util_cable\n",
    "# util_phone\n",
    "# util_trash\n",
    "# util_internet\n",
    "\n",
    "# #Food 10%\n",
    "# food_groceries\n",
    "# food_restaurants\n",
    "# food_other\n",
    "\n",
    "# #Lifestyle 15%\n",
    "# style_education\n",
    "# style_laundry\n",
    "# style_clothing\n",
    "# style_fun_money\n",
    "# style_cosmetics\n",
    "# style_toiletries\n",
    "# style_pets\n",
    "# style_lawn_care\n",
    "\n",
    "# #Transportation 10%\n",
    "# transpo_car_loan1 = \n",
    "# transpo_car_loan2 =\n",
    "# transpo_car_insurance = \n",
    "# transpo_gas\n",
    "# transpo_car_maintenance\n",
    "# transpo_car_tax\n",
    "# transpo_tolls\n",
    "\n",
    "# #Medical 5%\n",
    "# med_health_insur\n",
    "# med_payments\n",
    "# med_dental_insur\n",
    "# med_dental_payments\n",
    "# med_optometrist\n",
    "# med_co_pay\n",
    "\n",
    "# #Debt ? 10%\n",
    "# debt_stu_loan\n",
    "# debt_cc1\n",
    "# debt_cc2\n",
    "# debt_other"
   ]
  },
  {
   "cell_type": "markdown",
   "metadata": {},
   "source": [
    "# Input trans type acceptor\n",
    "- Take given transcations scan the known dicts within the DB, then put the transcation in the proper budget category, or if it is not known ask for input from user which budget category it is and what type of trans is it\n",
    "\n",
    "------------------------------------------------------------------------\n",
    "### How?\n",
    "- Start with a sample dict, for something like phone providers search within that dict for a matching value within the values list\n",
    "- If it is not in the list ask if it is a phone, gas, etc trans type, add that trans type to the proper chosen dictionary"
   ]
  },
  {
   "cell_type": "code",
   "execution_count": 11,
   "metadata": {},
   "outputs": [],
   "source": [
    "# Setting up temporary dicts\n",
    "gas = {\n",
    "    '7ELEVEN':['7ELEVEN'],\n",
    "    'SHELL': ['SHELL'],\n",
    "    'BP': ['BP'],\n",
    "    'SHEETZ': ['SHEETZ'],\n",
    "    'WAWA': ['WAWA']}\n",
    "\n",
    "util = {'WATER': ['SANITATION'],\n",
    "             'ELECTRICITY': ['POWER'],\n",
    "             'OIL':['OIL'],\n",
    "            'GAS':['GAS']}\n",
    "grocer ={\n",
    "    \n",
    "}\n",
    "\n",
    "home = {\n",
    "    \n",
    "}\n",
    "\n",
    "fun = {\n",
    "    \n",
    "}\n",
    "\n",
    "restau = {\n",
    "    \n",
    "}"
   ]
  },
  {
   "cell_type": "code",
   "execution_count": 12,
   "metadata": {},
   "outputs": [],
   "source": [
    "phone = {\n",
    "    'AT&T': ['AT&T*BILL','AT&T'],\n",
    "    'Sprint':['SPRT', 'SPRNT'], \n",
    "    'T-Mobile':['TMOBILE', 'T-MOBILE', 'TMBL'],\n",
    "    'Verizon': ['VZWRLSS', 'VERIZON'],\n",
    "    'Spectrum': ['SPECTRUM']}"
   ]
  },
  {
   "cell_type": "code",
   "execution_count": 13,
   "metadata": {},
   "outputs": [],
   "source": [
    "# putting the dicts into a list to cycle through\n",
    "Ttypes = [phone, gas, util, grocer, home, fun, restau]"
   ]
  },
  {
   "cell_type": "code",
   "execution_count": 14,
   "metadata": {},
   "outputs": [
    {
     "data": {
      "text/plain": [
       "{'AT&T': ['at&t*bill', 'at&t'],\n",
       " 'Sprint': ['sprt', 'sprnt'],\n",
       " 'T-Mobile': ['tmobile', 't-mobile', 'tmbl'],\n",
       " 'Verizon': ['vzwrlss', 'verizon'],\n",
       " 'Spectrum': ['spectrum']}"
      ]
     },
     "execution_count": 14,
     "metadata": {},
     "output_type": "execute_result"
    }
   ],
   "source": [
    "#First layer needs to comform values to lower\n",
    "dict_lower = {key: [ele.lower() for ele in phone[key]] for key in phone}\n",
    "dict_lower"
   ]
  },
  {
   "cell_type": "code",
   "execution_count": 15,
   "metadata": {},
   "outputs": [
    {
     "data": {
      "text/plain": [
       "['t-mobile']"
      ]
     },
     "execution_count": 15,
     "metadata": {},
     "output_type": "execute_result"
    }
   ],
   "source": [
    "#Second layer # This returns the value from the dict that matches\n",
    "item = 'TMOBILE'\n",
    "ret = [bit.lower() for bit, vals in dict_lower.items() if item.lower() in vals]\n",
    "ret"
   ]
  },
  {
   "cell_type": "code",
   "execution_count": 18,
   "metadata": {},
   "outputs": [],
   "source": [
    "# Combining layers into func to cycle with loop\n",
    "def search_dicts(search, dicts):\n",
    "    dict_lower = {key: [ele.lower() for ele in dicts[key]] for key in dicts}\n",
    "    ret =  [bit.lower() for bit, vals in dict_lower.items() if search.lower() in vals]\n",
    "    return ret"
   ]
  },
  {
   "cell_type": "code",
   "execution_count": 20,
   "metadata": {},
   "outputs": [
    {
     "name": "stdout",
     "output_type": "stream",
     "text": [
      "What kind of transaction is Prime\n",
      "home\n"
     ]
    }
   ],
   "source": [
    "# Fixed\n",
    "search_val = 'Prime'\n",
    "for dicts in Ttypes:\n",
    "    if search_dicts(search_val, dicts):\n",
    "        print(search_dicts(search_val, dicts))\n",
    "        print('True')\n",
    "    else:\n",
    "        break\n",
    "kind = input(f'What kind of transaction is {search_val}\\n')\n",
    "# need to add key type from kind var into Ttypes list\n"
   ]
  },
  {
   "cell_type": "code",
   "execution_count": null,
   "metadata": {},
   "outputs": [],
   "source": []
  },
  {
   "cell_type": "code",
   "execution_count": null,
   "metadata": {},
   "outputs": [],
   "source": [
    "git_push()"
   ]
  },
  {
   "cell_type": "code",
   "execution_count": null,
   "metadata": {},
   "outputs": [],
   "source": []
  }
 ],
 "metadata": {
  "kernelspec": {
   "display_name": "Python 3",
   "language": "python",
   "name": "python3"
  },
  "language_info": {
   "codemirror_mode": {
    "name": "ipython",
    "version": 3
   },
   "file_extension": ".py",
   "mimetype": "text/x-python",
   "name": "python",
   "nbconvert_exporter": "python",
   "pygments_lexer": "ipython3",
   "version": "3.7.7"
  }
 },
 "nbformat": 4,
 "nbformat_minor": 4
}
