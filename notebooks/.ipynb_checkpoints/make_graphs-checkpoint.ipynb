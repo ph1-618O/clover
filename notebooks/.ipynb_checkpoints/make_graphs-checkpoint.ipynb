{
 "cells": [
  {
   "cell_type": "markdown",
   "metadata": {},
   "source": [
    "# DEPENDENCIES"
   ]
  },
  {
   "cell_type": "markdown",
   "metadata": {},
   "source": [
    "-------------------------------------------------------------------------------------------------------------------"
   ]
  },
  {
   "cell_type": "code",
   "execution_count": null,
   "metadata": {},
   "outputs": [],
   "source": [
    "#!/usr/bin/env python3\n",
    "# coding: utf-8\n",
    "\n",
    "# color pallet greens https://coolors.co/34463e-a4c3b2-cce3de-eaf4f4-f6fff8\n",
    "# color pallet secondary https://coolors.co/353535-3c6e71-ffffff-d9d9d9-284b63\n",
    "\n",
    "import numpy as np\n",
    "import plotly.graph_objects as go\n",
    "import plotly.io as pio\n",
    "import pandas as pd\n",
    "import os\n",
    "\n",
    "#Orca must be installed?\n",
    "#conda install -c plotly plotly-orca\n",
    "#Kaleido is for exporting images from plotly\n",
    "#pip install -U kaleido"
   ]
  },
  {
   "cell_type": "markdown",
   "metadata": {},
   "source": [
    "# DATA"
   ]
  },
  {
   "cell_type": "markdown",
   "metadata": {},
   "source": [
    "-------------------------------------------------------------------------------------------------------------------"
   ]
  },
  {
   "cell_type": "code",
   "execution_count": null,
   "metadata": {},
   "outputs": [],
   "source": [
    "data_df = pd.read_csv('../data_local/organized.csv')\n",
    "col_names = []\n",
    "for col in data_df.columns:\n",
    "    col_names.append(col)\n",
    "col_data = []\n",
    "for i in col_names:\n",
    "    col_data.append(data_df[i])"
   ]
  },
  {
   "cell_type": "code",
   "execution_count": null,
   "metadata": {},
   "outputs": [],
   "source": [
    "data_df = data_df.drop(columns = ['date_p', 'account', 'balance'])\n",
    "#data_df.iloc[[300]]"
   ]
  },
  {
   "cell_type": "markdown",
   "metadata": {},
   "source": [
    "# STACKED BAR GRAPH"
   ]
  },
  {
   "cell_type": "markdown",
   "metadata": {},
   "source": [
    "-------------------------------------------------------------------------------------------------------------------"
   ]
  },
  {
   "cell_type": "code",
   "execution_count": null,
   "metadata": {},
   "outputs": [],
   "source": [
    "# pos_amount = [i*-1 for i in data_df['amount']]\n",
    "# import plotly.express as px\n",
    "# #wide_df = px.data.medals_wide()\n",
    "# fig = px.bar(data_df,\n",
    "#              x=\"date\", y= data_df['category'],\n",
    "#              color = pos_amount,\n",
    "#              title=\"Total Spending by Category by Day\")\n",
    "# fig.show()"
   ]
  },
  {
   "cell_type": "code",
   "execution_count": null,
   "metadata": {},
   "outputs": [],
   "source": [
    "type(data_df['amount'][0])"
   ]
  },
  {
   "cell_type": "code",
   "execution_count": null,
   "metadata": {},
   "outputs": [],
   "source": [
    "#categories = data_df['category'].unique()\n",
    "# sum_amount = data_df.loc[data_df['category'] == 'food']\n",
    "# sum_amount['amount'].sum().round(2)"
   ]
  },
  {
   "cell_type": "code",
   "execution_count": null,
   "metadata": {},
   "outputs": [],
   "source": [
    "# Need to make a DF where all the unique categories are summed"
   ]
  },
  {
   "cell_type": "code",
   "execution_count": null,
   "metadata": {},
   "outputs": [],
   "source": [
    "sum_categories = data_df.groupby(['category', 'date']).sum().sort_values(\"date\")\n",
    "# sum_categories = sum_categories.rename(columns={'category':'categories'})\n",
    "sum_categories"
   ]
  },
  {
   "cell_type": "code",
   "execution_count": null,
   "metadata": {},
   "outputs": [],
   "source": [
    "#sum_categories['categories'] = sum_categories.index\n",
    "sum_categories.reset_index(inplace = True)\n",
    "sum_categories['amount'] = [i*-1 for i in sum_categories['amount']]\n",
    "sum_categories = sum_categories[['category', 'amount']]\n",
    "sum_categories"
   ]
  },
  {
   "cell_type": "code",
   "execution_count": null,
   "metadata": {},
   "outputs": [],
   "source": [
    "cats = sorted(list(sum_categories.category.unique()))\n",
    "cats.remove('payment')\n",
    "cats"
   ]
  },
  {
   "cell_type": "code",
   "execution_count": null,
   "metadata": {},
   "outputs": [],
   "source": [
    "summed_cats = []\n",
    "for i in cats:\n",
    "    summed_cats.append(int(round(sum_categories.loc[sum_categories['category'] == i].amount.sum())))\n",
    "#summed_cats"
   ]
  },
  {
   "cell_type": "code",
   "execution_count": null,
   "metadata": {},
   "outputs": [],
   "source": [
    "total_spending = sum(summed_cats)\n",
    "total_spending\n",
    "percent = []\n",
    "for i in summed_cats:\n",
    "    i = i * -1\n",
    "    percent.append(round(i/(total_spending*-1)*100))\n",
    "percent"
   ]
  },
  {
   "cell_type": "code",
   "execution_count": null,
   "metadata": {},
   "outputs": [],
   "source": [
    "sum_totals = pd.DataFrame()\n",
    "sum_totals['categories'] = cats\n",
    "sum_totals['amounts'] = summed_cats\n",
    "sum_totals['percent'] = percent\n",
    "sum_totals"
   ]
  },
  {
   "cell_type": "code",
   "execution_count": null,
   "metadata": {},
   "outputs": [],
   "source": [
    "# import plotly.express as px\n",
    "# #wide_df = px.data.medals_wide()\n",
    "# fig = px.bar(sum_categories,\n",
    "#              x=\"date\", y= sum_categories['category'],\n",
    "#              color = 'amount',\n",
    "#              labels = {'category':'amount'},\n",
    "#              title=\"Total Spending by Category by Day\")\n",
    "# fig.show()"
   ]
  },
  {
   "cell_type": "code",
   "execution_count": null,
   "metadata": {},
   "outputs": [],
   "source": [
    "# import plotly.express as px\n",
    "# #wide_df = px.data.medals_wide()\n",
    "# fig = px.bar(sum_categories, x=\"date\", y= sum_categories['amount'], color ='amount', title=\"Total Spending by Category by Day\")\n",
    "# fig.show()"
   ]
  },
  {
   "cell_type": "markdown",
   "metadata": {},
   "source": [
    "# ORIGINAL STACKED BAR GRAPH"
   ]
  },
  {
   "cell_type": "markdown",
   "metadata": {},
   "source": [
    "-------------------------------------------------------------------------------------------------------------------"
   ]
  },
  {
   "cell_type": "code",
   "execution_count": null,
   "metadata": {},
   "outputs": [],
   "source": [
    "import plotly.express as px\n",
    "wide_df = px.data.medals_wide()\n",
    "fig = px.bar(wide_df, x=\"nation\", y=[\"gold\", \"silver\", \"bronze\"], title=\"Wide-Form Input\")\n",
    "fig.show()"
   ]
  },
  {
   "cell_type": "markdown",
   "metadata": {},
   "source": [
    "# TABLES"
   ]
  },
  {
   "cell_type": "markdown",
   "metadata": {},
   "source": [
    "-------------------------------------------------------------------------------------------------------------------"
   ]
  },
  {
   "cell_type": "code",
   "execution_count": null,
   "metadata": {},
   "outputs": [],
   "source": [
    "def get_length(df):\n",
    "    col = ''\n",
    "    for i in df.columns:\n",
    "        get_length = df[i].map(len).max()\n",
    "    return get_length"
   ]
  },
  {
   "cell_type": "code",
   "execution_count": null,
   "metadata": {},
   "outputs": [],
   "source": [
    "def convert_str(series):\n",
    "    return [str(i) for i in series]"
   ]
  },
  {
   "cell_type": "code",
   "execution_count": null,
   "metadata": {},
   "outputs": [],
   "source": [
    "#Somehow because this is a jupyter notebook this function reassigns the column data that is not a string,\n",
    "# to string and keeps that value within the imported dataframe\n",
    "def get_max(df):\n",
    "    max_num = 0\n",
    "    max_col = ''\n",
    "    max_list = []\n",
    "    for i in range(len(df.columns)):\n",
    "        if df[df.columns[i]][0] == type('s'):\n",
    "            continue\n",
    "        else:\n",
    "            df[df.columns[i]] = convert_str(df[df.columns[i]])\n",
    "        get_length = df[df.columns[i]].map(len).max()\n",
    "        max_list.append(get_length)\n",
    "        if max_num < get_length:\n",
    "            max_num = get_length\n",
    "            max_col = df.columns[i]\n",
    "            col_num = i\n",
    "    return max_num, max_col, max_list"
   ]
  },
  {
   "cell_type": "code",
   "execution_count": null,
   "metadata": {},
   "outputs": [],
   "source": [
    "def make_table(df, colors, rowOddColor, rowEvenColor):\n",
    "    if not os.path.exists('images'):\n",
    "        os.mkdir('images')\n",
    "    fig = go.Figure(data=[go.Table(\n",
    "        columnorder = [i+1 for i in range(len(df.columns))],\n",
    "        columnwidth = [i*30 for i in get_max(df)[2]],\n",
    "        header=dict(values=list(df.columns),\n",
    "                    fill_color=colors[0],\n",
    "                    align='left',\n",
    "                    font = dict(family=\"Arial\", size=14, color= colors[1])),\n",
    "        cells=dict(values=[df.date, df.transaction, df.amount, df.identifier, df.category],\n",
    "                   fill_color= [[rowOddColor, rowEvenColor, rowOddColor, rowEvenColor]*4],#colors[2],\n",
    "                   align='left',\n",
    "                   font = dict(family=\"Arial\", size=12, color=colors[3])))])\n",
    "\n",
    "    fig.write_image(\"images/table.png\", format=\"png\")#, width=600, height=350, scale=2)\n",
    "    #pdf is higher quality however it omits all the lines below\n",
    "    max_height = len(df) * 50\n",
    "    pio.write_image(fig, 'images/table.pdf', width=700, height=max_height)\n",
    "    fig.show()"
   ]
  },
  {
   "cell_type": "code",
   "execution_count": null,
   "metadata": {},
   "outputs": [],
   "source": [
    "type(data_df['amount'][0])"
   ]
  },
  {
   "cell_type": "code",
   "execution_count": null,
   "metadata": {},
   "outputs": [],
   "source": [
    "len(data_df)"
   ]
  },
  {
   "cell_type": "code",
   "execution_count": null,
   "metadata": {},
   "outputs": [],
   "source": [
    "# colors ['fill_color_header/bkgd', 'font_color_header/light', 'cells_color/light', 'cells_font_color/dk']\n",
    "rowEvenColor = '#cce3de'\n",
    "rowOddColor = '#EAF4F4'\n",
    "green_colors = ['#6b9080', '#f6fff8', '#cce3de', '#34463E']\n",
    "make_table(data_df, green_colors, rowEvenColor, rowOddColor)"
   ]
  },
  {
   "cell_type": "code",
   "execution_count": null,
   "metadata": {
    "scrolled": true
   },
   "outputs": [],
   "source": [
    "# color pallet https://coolors.co/353535-3c6e71-ffffff-d9d9d9-284b63\n",
    "# colors ['fill_color_header/bkgd', 'font_color_header/light', 'cells_color/light', 'cells_font_color/dk']\n",
    "blue_colors = ['#284B63','#FFFFFF', '#D9D9D9', '#353535']\n",
    "white = '#FFFFFF'\n",
    "grey = '#D9D9D9'\n",
    "make_table(data_df, blue_colors, grey, white)"
   ]
  },
  {
   "cell_type": "code",
   "execution_count": null,
   "metadata": {},
   "outputs": [],
   "source": [
    "type(data_df['amount'][1])"
   ]
  },
  {
   "cell_type": "markdown",
   "metadata": {},
   "source": [
    "# DICTIONARY OPTIONS"
   ]
  },
  {
   "cell_type": "markdown",
   "metadata": {},
   "source": [
    "-------------------------------------------------------------------------------------------------------------------"
   ]
  },
  {
   "cell_type": "code",
   "execution_count": null,
   "metadata": {},
   "outputs": [],
   "source": [
    "# Thinking about adding another column based on this data\n",
    "# dataframe might look good like\n",
    "# where parent = budget category\n",
    "# | parent       | type         | priority     | fixed/variable | one-time/re-occuring | identifier    | amount  | date    | transaction                   |\n",
    "# | health       |life insurance| essential    | fixed          | re-occuring          | 'AAA Insurance| -50     | 01/22/21| AAA INSURANCE PAYMENT 48684   |\n",
    "# | entertainment|movies        | non-essential| variable       | one-time             | 'REGAL'       | -15     | 01/12/21| CINEMA REGAL PARK WEST VA 1588|\n",
    "\n",
    "fixed = {\n",
    "    'debt':['car loan', 'student loan/tution'],\n",
    "    'housing':['home//renters insurance', 'rent//mortgage', 'property taxes'],\n",
    "    'utilities':['phone', 'cable//internet', 'garbage'],\n",
    "    'medical':['health insurance'],\n",
    "    'childcare':['daycare', 'child support'],\n",
    "    'entertainment':['streaming services']\n",
    "}\n",
    "\n",
    "essential = {\n",
    "    'savings' : ['life insurance', 'emergency fund', 'ROTH IRA', '401(k)', 'college fund', 'mad money'],\n",
    "    'debt' : ['credit card', 'car loan', 'student loan/tuition', 'pay day loan', 'other' ],\n",
    "    'housing' : ['home//renters insurance', 'rent//mortgage', 'repair//maitenance', 'furnishings', 'property taxes', 'yard', 'cleaning supply', 'kitchen ware','tools'],\n",
    "    'transportation' : ['car insurance','maintenance', 'gas' 'bus/subway/train/ferry fare'],\n",
    "    'food' : ['groceries', 'dining out', 'fast food', 'delivery', 'alcohol'],\n",
    "    'utilities' : ['phone', 'cable//internet', 'water', 'gas', 'electricity', 'garbage'], #oil, wood\n",
    "    'medical' : ['health insurance','doctor', 'prescriptions', 'first aid supply'], #types of doctors, optometrist, dentist, etc\n",
    "    'education' : ['supplies', 'fees', 'books'],\n",
    "    'childcare' : ['daycare', 'camps', 'babysitter', 'child support'],\n",
    "    'personal' : ['clothing', 'toiletries//grooming']\n",
    "}\n",
    "\n",
    "non_essential = {\n",
    "    'food' :['dining out', 'fast food', 'delivery', 'alcohol'],\n",
    "    'gifts' : ['birthday', 'anniversary', 'holiday', 'other'],\n",
    "    'giving': ['tithing', 'charitable', 'other'],\n",
    "    'pets': ['food', 'supplies', 'vet', 'prescriptions'],\n",
    "    'entertainment': ['streaming services','games', 'movies', 'hobbies', 'vacation', 'books'],\n",
    "    'personal': ['salon', 'gym', 'dry cleaning']\n",
    "    \n",
    "}"
   ]
  },
  {
   "cell_type": "markdown",
   "metadata": {},
   "source": [
    "# SUNBURST CHART"
   ]
  },
  {
   "cell_type": "markdown",
   "metadata": {},
   "source": [
    "-------------------------------------------------------------------------------------------------------------------"
   ]
  },
  {
   "cell_type": "code",
   "execution_count": null,
   "metadata": {},
   "outputs": [],
   "source": [
    "inside = ['savings', 'savings', 'debt', 'housing', 'transportation', 'food', 'utilities', 'medical', 'education', 'childcare', 'personal']"
   ]
  },
  {
   "cell_type": "markdown",
   "metadata": {},
   "source": [
    "## Working\n",
    "- go back to coolers.co and grab names of colors make a dictionary with the name as the key and color as value"
   ]
  },
  {
   "cell_type": "code",
   "execution_count": null,
   "metadata": {},
   "outputs": [],
   "source": [
    "# red to blue/purple\n",
    "rainbow_colors = ['#F94144', '#f3722c', '#F9844A', '#f8961e', '#F9C74F', '#90BE6D', '#43AA8B', '#4D908E', '#277DA1', '#577590']"
   ]
  },
  {
   "cell_type": "code",
   "execution_count": null,
   "metadata": {},
   "outputs": [],
   "source": [
    "outside = ['essential' for i in range(len(inside))]"
   ]
  },
  {
   "cell_type": "code",
   "execution_count": null,
   "metadata": {},
   "outputs": [],
   "source": [
    "# blues\n",
    "# https://coolors.co/05668d-028090-00a896-02c39a-f0f3bd\n",
    "# rainbow\n",
    "# https://coolors.co/f94144-f3722c-f8961e-f9844a-f9c74f-90be6d-43aa8b-4d908e-577590-277da1"
   ]
  },
  {
   "cell_type": "code",
   "execution_count": null,
   "metadata": {},
   "outputs": [],
   "source": [
    "sum_totals.head()"
   ]
  },
  {
   "cell_type": "code",
   "execution_count": null,
   "metadata": {},
   "outputs": [],
   "source": [
    "import random\n",
    "def constrain_sum(n, total):\n",
    "    # Return an randomly chosen list of n positive intergers summing to 100/total\n",
    "    dividers = sorted(random.sample(range(1, total), n-1))\n",
    "    return [a - b for a,b in zip(dividers + [total], [0]+dividers)]\n"
   ]
  },
  {
   "cell_type": "code",
   "execution_count": null,
   "metadata": {},
   "outputs": [],
   "source": [
    "inside = list(sum_totals.categories.unique())"
   ]
  },
  {
   "cell_type": "code",
   "execution_count": null,
   "metadata": {},
   "outputs": [],
   "source": [
    "# summed = data_df.groupby(['category', 'amount']).sum().reset_index()\n",
    "# summed"
   ]
  },
  {
   "cell_type": "code",
   "execution_count": null,
   "metadata": {},
   "outputs": [],
   "source": [
    "outside = ['essential' for i in range(len(inside))]"
   ]
  },
  {
   "cell_type": "code",
   "execution_count": null,
   "metadata": {},
   "outputs": [],
   "source": [
    "nums = constrain_sum(len(inside), 100)"
   ]
  },
  {
   "cell_type": "code",
   "execution_count": null,
   "metadata": {},
   "outputs": [],
   "source": [
    "nums = [int(i)*-1 for i in sum_totals.amounts]"
   ]
  },
  {
   "cell_type": "code",
   "execution_count": null,
   "metadata": {},
   "outputs": [],
   "source": [
    "import random\n",
    "import plotly.express as px\n",
    "data = dict(\n",
    "    character= inside,\n",
    "    parent = outside,\n",
    "    value= nums)\n",
    "\n",
    "fig =px.sunburst(\n",
    "    data,\n",
    "    names='character',\n",
    "    parents='parent',\n",
    "    values='value',\n",
    "    title = 'Expenses'\n",
    ")\n",
    "fig.show()"
   ]
  },
  {
   "cell_type": "code",
   "execution_count": null,
   "metadata": {},
   "outputs": [],
   "source": [
    "nums = sum_totals.percent"
   ]
  },
  {
   "cell_type": "code",
   "execution_count": null,
   "metadata": {},
   "outputs": [],
   "source": [
    "import random\n",
    "import plotly.express as px\n",
    "data = dict(\n",
    "    character= inside,\n",
    "    parent = outside,\n",
    "    value= nums)\n",
    "\n",
    "fig =px.sunburst(\n",
    "    data,\n",
    "    names='character',\n",
    "    parents='parent',\n",
    "    values='value',\n",
    "    title = 'Expenses'\n",
    ")\n",
    "fig.show()"
   ]
  },
  {
   "cell_type": "markdown",
   "metadata": {},
   "source": [
    "# TREEEMAP CHART"
   ]
  },
  {
   "cell_type": "markdown",
   "metadata": {},
   "source": [
    "-------------------------------------------------------------------------------------------------------------------"
   ]
  },
  {
   "cell_type": "code",
   "execution_count": null,
   "metadata": {},
   "outputs": [],
   "source": [
    "# Need new TreeMap code, this one is not so pretty"
   ]
  },
  {
   "cell_type": "code",
   "execution_count": null,
   "metadata": {},
   "outputs": [],
   "source": [
    "essential.keys()"
   ]
  },
  {
   "cell_type": "code",
   "execution_count": null,
   "metadata": {},
   "outputs": [],
   "source": [
    "groups = list(essential.keys())\n",
    "priority = ['Essential' for i in range(len(groups))]\n",
    "nums = constrain_sum(len(groups), 100)\n",
    "percentages = [str(nums[i])+'%' for i in range(len(nums))]"
   ]
  },
  {
   "cell_type": "code",
   "execution_count": null,
   "metadata": {},
   "outputs": [],
   "source": [
    "groups"
   ]
  },
  {
   "cell_type": "code",
   "execution_count": null,
   "metadata": {},
   "outputs": [],
   "source": [
    "df = pd.DataFrame(\n",
    "    {\n",
    "        'priority': priority,\n",
    "        'categories':groups,\n",
    "        'values': nums,\n",
    "        'percentages':percentages\n",
    "                  })"
   ]
  },
  {
   "cell_type": "code",
   "execution_count": null,
   "metadata": {},
   "outputs": [],
   "source": [
    "import squarify\n",
    "import matplotlib.pyplot as plt\n",
    "# plot it\n",
    "labels = [df['categories'][i].capitalize()+(' \\n'+ str(nums[i])+'%') for i in range(len(df['categories']))]\n",
    "\n",
    "squarify.plot(sizes=df['values'], label=labels, alpha=.4, color= rainbow_colors[:len(groups)+1])\n",
    "plt.axis('off')\n",
    "plt.show()"
   ]
  },
  {
   "cell_type": "markdown",
   "metadata": {},
   "source": [
    "# ALTERNATE TREEMAP"
   ]
  },
  {
   "cell_type": "markdown",
   "metadata": {},
   "source": [
    "-------------------------------------------------------------------------------------------------------------------"
   ]
  },
  {
   "cell_type": "markdown",
   "metadata": {},
   "source": [
    "- FIX Legend\n",
    "- Change rainbow colors from a list to a dictionary and grab the correct values accordingly'\n",
    "- ie if data 100-90 red, 90-80 orange, 80-70 yellow, 70-60 green, 60-50 blue, 50-40, purple and on until 10-0\n",
    "- fix hover put something relevant"
   ]
  },
  {
   "cell_type": "code",
   "execution_count": null,
   "metadata": {},
   "outputs": [],
   "source": [
    "groups_all = list(essential.keys()) + list(non_essential)\n",
    "nums_all = constrain_sum(len(groups_all), 100)\n",
    "priority_all = ['Essential' if x in essential.keys() else 'Non Essential' for x in groups_all]\n",
    "percentages_all = [str(nums_all[i])+'%' for i in range(len(nums_all))]\n",
    "# Create a data frame with fake data\n",
    "# df = pd.DataFrame({'nb_people':[8,3,4,2],\n",
    "#                    'group':[\"Housing\\n 40%\",\n",
    "#                             \"Utilities\\n 10%\",\n",
    "#                             \"Food\\n 10%\",\n",
    "#                             \"Entertainment\\n 10%\"]})\n",
    "df_all = pd.DataFrame(\n",
    "    {\n",
    "        'priority': priority_all,\n",
    "        'categories':groups_all,\n",
    "        'values': nums_all,\n",
    "        'percentages':percentages_all\n",
    "                  })"
   ]
  },
  {
   "cell_type": "code",
   "execution_count": null,
   "metadata": {},
   "outputs": [],
   "source": [
    "colors_all = rainbow_colors[:len(groups_all)+1]\n",
    "counter = len(colors_all)\n",
    "while counter < len(df_all):\n",
    "    colors_all.append(rainbow_colors[len(df_all)-counter])\n",
    "    counter += 1\n",
    "colors_all"
   ]
  },
  {
   "cell_type": "code",
   "execution_count": null,
   "metadata": {},
   "outputs": [],
   "source": [
    "print(sorted(df['values']))"
   ]
  },
  {
   "cell_type": "code",
   "execution_count": null,
   "metadata": {},
   "outputs": [],
   "source": [
    "df_all"
   ]
  },
  {
   "cell_type": "code",
   "execution_count": null,
   "metadata": {},
   "outputs": [],
   "source": [
    "sorted_df = df_all.sort_values(by=['values', 'categories']).reset_index(drop=True)\n",
    "sorted_df"
   ]
  },
  {
   "cell_type": "code",
   "execution_count": null,
   "metadata": {},
   "outputs": [],
   "source": [
    "import plotly.express as px\n",
    "fig = px.treemap(df_all.sort_values(by=['values','categories']).reset_index(drop=True), path=['priority', 'categories', 'percentages'], \n",
    "                 values='values', \n",
    "                 color='values')\n",
    "fig.update_traces(marker_colors= colors_all, selector=dict(type='treemap')) \n",
    "#fig.update_traces(pathbar_visible=False, selector=dict(type='treemap'))\n",
    "fig.show()"
   ]
  },
  {
   "cell_type": "code",
   "execution_count": null,
   "metadata": {},
   "outputs": [],
   "source": [
    "px.data.tips()"
   ]
  },
  {
   "cell_type": "code",
   "execution_count": null,
   "metadata": {},
   "outputs": [],
   "source": [
    "import plotly.express as px\n",
    "  \n",
    "df = px.data.tips()\n",
    "  \n",
    "fig = px.treemap(df, path=['day', 'time', 'tip'], \n",
    "                 values='total_bill', \n",
    "                 color='total_bill')\n",
    "\n",
    "fig.show()"
   ]
  },
  {
   "cell_type": "code",
   "execution_count": null,
   "metadata": {},
   "outputs": [],
   "source": [
    "import plotly.express as px\n",
    "\n",
    "for name in dir(px.data):\n",
    "    if '__' not in name:\n",
    "        print(name)"
   ]
  },
  {
   "cell_type": "code",
   "execution_count": null,
   "metadata": {},
   "outputs": [],
   "source": [
    "print(px.data.tips())"
   ]
  },
  {
   "cell_type": "code",
   "execution_count": null,
   "metadata": {},
   "outputs": [],
   "source": []
  },
  {
   "cell_type": "code",
   "execution_count": null,
   "metadata": {},
   "outputs": [],
   "source": []
  }
 ],
 "metadata": {
  "kernelspec": {
   "display_name": "Python 3",
   "language": "python",
   "name": "python3"
  },
  "language_info": {
   "codemirror_mode": {
    "name": "ipython",
    "version": 3
   },
   "file_extension": ".py",
   "mimetype": "text/x-python",
   "name": "python",
   "nbconvert_exporter": "python",
   "pygments_lexer": "ipython3",
   "version": "3.7.7"
  }
 },
 "nbformat": 4,
 "nbformat_minor": 4
}
