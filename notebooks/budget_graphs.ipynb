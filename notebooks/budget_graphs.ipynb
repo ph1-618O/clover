{
 "cells": [
  {
   "cell_type": "code",
   "execution_count": 1,
   "id": "9b478dae",
   "metadata": {},
   "outputs": [],
   "source": [
    "#!/usr/bin/env python3su\n",
    "# coding: utf-8"
   ]
  },
  {
   "cell_type": "code",
   "execution_count": 2,
   "id": "b201930a",
   "metadata": {},
   "outputs": [],
   "source": [
    "import pandas as pd"
   ]
  },
  {
   "cell_type": "markdown",
   "id": "d541ff7f",
   "metadata": {},
   "source": [
    "## 50/30/20 Budget Rule\n",
    "---\n",
    "- 50% Needs\n",
    "- 30% Wants\n",
    "- 20% Savings\n",
    "Avg recommendations \n",
    "\n",
    "### Needs - 50 %\n",
    "- Home 20%\n",
    "- Utilities 5%\n",
    "- Food 10%\n",
    "- Transportation 5%\n",
    "- Medical 5%\n",
    "- Debt 5%\n",
    "\n",
    "### Wants - 30 %\n",
    "- Lifestyle 30%\n",
    "\n",
    "### Savings - 20%\n",
    "- Savings 20%"
   ]
  },
  {
   "cell_type": "markdown",
   "id": "055beebd",
   "metadata": {},
   "source": [
    "# Colors\n",
    "---"
   ]
  },
  {
   "cell_type": "code",
   "execution_count": 3,
   "id": "3cc7d761",
   "metadata": {},
   "outputs": [],
   "source": [
    "red = 'tomato'\n",
    "coral = 'FF8360' \n",
    "pastel_pink ='DA9598'\n",
    "rajah = 'FFAA5A'\n",
    "light_red = 'ED6A5A'\n",
    "soft_colors = [light_red, 'lightsalmon', rajah, 'gold', 'lightgreen', 'mediumturquoise', 'lightblue', 'lightgray', 'white']\n",
    "contrast_colors = colors = ['tomato', 'lightsalmon', 'darkorange', 'gold', 'lightgreen', 'mediumturquoise', 'lightblue', 'lightgray', 'white']"
   ]
  },
  {
   "cell_type": "code",
   "execution_count": 4,
   "id": "45b53a2e",
   "metadata": {},
   "outputs": [],
   "source": [
    "def show_svg(filename):\n",
    "    from IPython.display import SVG, display\n",
    "    display(SVG(filename=f'{filename}.svg'))"
   ]
  },
  {
   "cell_type": "code",
   "execution_count": 5,
   "id": "c4a92238",
   "metadata": {},
   "outputs": [],
   "source": [
    "def budget_table(year_tot):\n",
    "    income = year_tot\n",
    "    print(f'Total Yearly income:\\t\\t{income}')\n",
    "    print('---------------------------------------')\n",
    "    # savings = int(income * .10/12)\n",
    "    print('Monthly Ideal amounts')\n",
    "    print('---------------------------------------')\n",
    "    print('---------------------------------------')\n",
    "    print('Category\\tPercent\\t\\tAmount')\n",
    "    print('---------------------------------------')\n",
    "    income_dict = {}\n",
    "    print(f'Home\\t\\t(25%)\\t\\t{int(income * .25/12)}')\n",
    "    income_dict['home'] = [30, int(income * .30/12)]\n",
    "\n",
    "\n",
    "    print(f'Lifestyle\\t(30%)\\t\\t{int(income * .30/12)}')\n",
    "    income_dict['lifestyle'] = [15, int(income * .15/12)]\n",
    "\n",
    "\n",
    "    print(f'Debt\\t\\t( 5%)\\t\\t{int(income * .05/12)}')\n",
    "    income_dict['debt'] = [10, int(income * .10/12)]\n",
    "\n",
    "\n",
    "    print(f'Savings\\t\\t(20%)\\t\\t{int(income * .20/12)}')\n",
    "    income_dict['savings'] = [20, int(income * .10/12)]\n",
    "\n",
    "\n",
    "    print(f'Food\\t\\t(10%)\\t\\t{int(income * .10/12)}')\n",
    "    income_dict['food'] = [10, int(income * .15/12)]\n",
    "\n",
    "    print(f'Transpo\\t\\t( 5%)\\t\\t{int(income * .05/12)}')\n",
    "    income_dict['transportation'] = [10, int(income * .10/12)]\n",
    "\n",
    "\n",
    "    print(f'Util\\t\\t( 5%)\\t\\t{int(income * .05/12)}')\n",
    "    income_dict['utility'] = [5, int(income * .10/12)]\n",
    "    return income_dict"
   ]
  },
  {
   "cell_type": "code",
   "execution_count": 6,
   "id": "1cdb5cc4",
   "metadata": {},
   "outputs": [
    {
     "name": "stdout",
     "output_type": "stream",
     "text": [
      "Total Yearly income:\t\t100000\n",
      "---------------------------------------\n",
      "Monthly Ideal amounts\n",
      "---------------------------------------\n",
      "---------------------------------------\n",
      "Category\tPercent\t\tAmount\n",
      "---------------------------------------\n",
      "Home\t\t(25%)\t\t2083\n",
      "Lifestyle\t(30%)\t\t2500\n",
      "Debt\t\t( 5%)\t\t416\n",
      "Savings\t\t(20%)\t\t1666\n",
      "Food\t\t(10%)\t\t833\n",
      "Transpo\t\t( 5%)\t\t416\n",
      "Util\t\t( 5%)\t\t416\n"
     ]
    }
   ],
   "source": [
    "income = 100000\n",
    "income_dict = budget_table(income)"
   ]
  },
  {
   "cell_type": "code",
   "execution_count": 7,
   "id": "8a4ceca8",
   "metadata": {},
   "outputs": [
    {
     "data": {
      "text/plain": [
       "{'home': [30, 2500],\n",
       " 'lifestyle': [15, 1250],\n",
       " 'debt': [10, 833],\n",
       " 'savings': [20, 833],\n",
       " 'food': [10, 1250],\n",
       " 'transportation': [10, 833],\n",
       " 'utility': [5, 833]}"
      ]
     },
     "execution_count": 7,
     "metadata": {},
     "output_type": "execute_result"
    }
   ],
   "source": [
    "income_dict"
   ]
  },
  {
   "cell_type": "code",
   "execution_count": 8,
   "id": "f24f5b3a",
   "metadata": {},
   "outputs": [],
   "source": [
    "ideal_dict = pd.DataFrame.from_dict(income_dict)"
   ]
  },
  {
   "cell_type": "code",
   "execution_count": 9,
   "id": "bf29a2dc",
   "metadata": {},
   "outputs": [],
   "source": [
    "ideal_frame = ideal_dict.T.reset_index().rename(columns={'index':'category', 0:'percent_ideal', 1:'allocated'})"
   ]
  },
  {
   "cell_type": "code",
   "execution_count": 10,
   "id": "b4ab8de2",
   "metadata": {},
   "outputs": [],
   "source": [
    "percent = [i[0] for i in income_dict.values()]\n",
    "val = [i[1] for i in income_dict.values()]"
   ]
  },
  {
   "cell_type": "code",
   "execution_count": 11,
   "id": "2664f8e9",
   "metadata": {},
   "outputs": [
    {
     "data": {
      "text/plain": [
       "[2500, 1250, 833, 833, 1250, 833, 833]"
      ]
     },
     "execution_count": 11,
     "metadata": {},
     "output_type": "execute_result"
    }
   ],
   "source": [
    "val"
   ]
  },
  {
   "cell_type": "code",
   "execution_count": 12,
   "id": "d04bad61",
   "metadata": {},
   "outputs": [
    {
     "data": {
      "text/plain": [
       "['home', 'lifestyle', 'debt', 'savings', 'food', 'transportation', 'utility']"
      ]
     },
     "execution_count": 12,
     "metadata": {},
     "output_type": "execute_result"
    }
   ],
   "source": [
    "list(income_dict.keys())"
   ]
  },
  {
   "cell_type": "code",
   "execution_count": 13,
   "id": "7582fd46",
   "metadata": {},
   "outputs": [
    {
     "data": {
      "text/plain": [
       "home              2500\n",
       "food              1250\n",
       "lifestyle         1250\n",
       "utility            833\n",
       "transportation     833\n",
       "savings            833\n",
       "debt               833\n",
       "dtype: int64"
      ]
     },
     "execution_count": 13,
     "metadata": {},
     "output_type": "execute_result"
    }
   ],
   "source": [
    "ordered_ideal_budget = pd.Series(val, index= list(income_dict.keys())).sort_values(ascending=False)\n",
    "ordered_ideal_budget"
   ]
  },
  {
   "cell_type": "code",
   "execution_count": 14,
   "id": "b899ca72",
   "metadata": {},
   "outputs": [
    {
     "data": {
      "text/plain": [
       "Index(['home', 'food', 'lifestyle', 'utility', 'transportation', 'savings',\n",
       "       'debt'],\n",
       "      dtype='object')"
      ]
     },
     "execution_count": 14,
     "metadata": {},
     "output_type": "execute_result"
    }
   ],
   "source": [
    "ordered_ideal_budget.index"
   ]
  },
  {
   "cell_type": "code",
   "execution_count": 15,
   "id": "63cf7db3",
   "metadata": {},
   "outputs": [
    {
     "data": {
      "image/svg+xml": [
       "<svg class=\"main-svg\" height=\"500\" style=\"\" viewBox=\"0 0 700 500\" width=\"700\" xmlns=\"http://www.w3.org/2000/svg\" xmlns:xlink=\"http://www.w3.org/1999/xlink\"><rect height=\"500\" style=\"fill: rgb(255, 255, 255); fill-opacity: 1;\" width=\"700\" x=\"0\" y=\"0\"/><defs id=\"defs-eea0b1\"><g class=\"clips\"/><g class=\"gradients\"/></defs><g class=\"bglayer\"/><g class=\"layer-below\"><g class=\"imagelayer\"/><g class=\"shapelayer\"/></g><g class=\"cartesianlayer\"/><g class=\"polarlayer\"/><g class=\"ternarylayer\"/><g class=\"geolayer\"/><g class=\"funnelarealayer\"/><g class=\"pielayer\"><g class=\"trace\" stroke-linejoin=\"round\" style=\"opacity: 1;\"><g class=\"slice\"><path class=\"surface\" d=\"M314,260l0,-160a160,160 0 0 1 152.1541217257081,209.4886172960854Z\" style=\"pointer-events: all; stroke-width: 1; fill: rgb(255, 99, 71); fill-opacity: 1; stroke: rgb(211, 211, 211); stroke-opacity: 1;\"/><g class=\"slicetext\"><text class=\"slicetext\" data-notex=\"1\" style=\"font-family: 'Open Sans', verdana, arial, sans-serif; font-size: 10px; fill: rgb(68, 68, 68); fill-opacity: 1; white-space: pre;\" text-anchor=\"middle\" transform=\"translate(385.55850886795974,205.52618772638598)\" x=\"0\" y=\"0\"><tspan class=\"line\" dy=\"0em\" x=\"0\" y=\"0\">home</tspan><tspan class=\"line\" dy=\"1.3em\" x=\"0\" y=\"0\">30%</tspan></text></g></g><g class=\"slice\"><path class=\"surface\" d=\"M314,260l-129.45690164563197,-94.02611667145021a160,160 0 0 1 129.45690164563197,-65.97388332854979Z\" style=\"pointer-events: all; stroke-width: 1; fill: rgb(255, 160, 122); fill-opacity: 1; stroke: rgb(211, 211, 211); stroke-opacity: 1;\"/><g class=\"slicetext\"><text class=\"slicetext\" data-notex=\"1\" style=\"font-family: 'Open Sans', verdana, arial, sans-serif; font-size: 10px; fill: rgb(68, 68, 68); fill-opacity: 1; white-space: pre;\" text-anchor=\"middle\" transform=\"translate(264.03689960478306,159.46017200376895)\" x=\"0\" y=\"0\"><tspan class=\"line\" dy=\"0em\" x=\"0\" y=\"0\">food</tspan><tspan class=\"line\" dy=\"1.3em\" x=\"0\" y=\"0\">15%</tspan></text></g></g><g class=\"slice\"><path class=\"surface\" d=\"M314,260l-152.1541217257081,49.488617296085415a160,160 0 0 1 22.697220080076136,-143.51473396753562Z\" style=\"pointer-events: all; stroke-width: 1; fill: rgb(255, 140, 0); fill-opacity: 1; stroke: rgb(211, 211, 211); stroke-opacity: 1;\"/><g class=\"slicetext\"><text class=\"slicetext\" data-notex=\"1\" style=\"font-family: 'Open Sans', verdana, arial, sans-serif; font-size: 10px; fill: rgb(68, 68, 68); fill-opacity: 1; white-space: pre;\" text-anchor=\"middle\" transform=\"translate(205.31394576693242,240.3110241759494)\" x=\"0\" y=\"0\"><tspan class=\"line\" dy=\"0em\" x=\"0\" y=\"0\">lifestyle</tspan><tspan class=\"line\" dy=\"1.3em\" x=\"0\" y=\"0\">15%</tspan></text></g></g><g class=\"slice\"><path class=\"surface\" d=\"M314,260l-94.02611667145024,129.45690164563194a160,160 0 0 1 -58.12800505425787,-79.96828434954654Z\" style=\"pointer-events: all; stroke-width: 1; fill: rgb(255, 215, 0); fill-opacity: 1; stroke: rgb(211, 211, 211); stroke-opacity: 1;\"/><g class=\"slicetext\"><text class=\"slicetext\" data-notex=\"1\" style=\"font-family: 'Open Sans', verdana, arial, sans-serif; font-size: 10px; fill: rgb(68, 68, 68); fill-opacity: 1; white-space: pre;\" text-anchor=\"middle\" transform=\"translate(215.12540048333517,329.37078311346824)\" x=\"0\" y=\"0\"><tspan class=\"line\" dy=\"0em\" x=\"0\" y=\"0\">utility</tspan><tspan class=\"line\" dy=\"1.3em\" x=\"0\" y=\"0\">10%</tspan></text></g></g><g class=\"slice\"><path class=\"surface\" d=\"M314,260l-9.064862236236767e-14,160a160,160 0 0 1 -94.02611667145015,-30.543098354368055Z\" style=\"pointer-events: all; stroke-width: 1; fill: rgb(144, 238, 144); fill-opacity: 1; stroke: rgb(211, 211, 211); stroke-opacity: 1;\"/><g class=\"slicetext\"><text class=\"slicetext\" data-notex=\"1\" style=\"font-family: 'Open Sans', verdana, arial, sans-serif; font-size: 10px; fill: rgb(68, 68, 68); fill-opacity: 1; white-space: pre;\" text-anchor=\"middle\" transform=\"translate(278.46211240501646,361.3103945815253)rotate(-72.00432069131057)\" x=\"0\" y=\"0\"><tspan class=\"line\" dy=\"0em\" x=\"0\" y=\"0\">transportation</tspan><tspan class=\"line\" dy=\"1.3em\" x=\"0\" y=\"0\">10%</tspan></text></g></g><g class=\"slice\"><path class=\"surface\" d=\"M314,260l94.0261166714501,129.45690164563206a160,160 0 0 1 -94.02611667145018,30.54309835436794Z\" style=\"pointer-events: all; stroke-width: 1; fill: rgb(72, 209, 204); fill-opacity: 1; stroke: rgb(211, 211, 211); stroke-opacity: 1;\"/><g class=\"slicetext\"><text class=\"slicetext\" data-notex=\"1\" style=\"font-family: 'Open Sans', verdana, arial, sans-serif; font-size: 10px; fill: rgb(68, 68, 68); fill-opacity: 1; white-space: pre;\" text-anchor=\"middle\" transform=\"translate(351.7641791661541,373.7560220669478)\" x=\"0\" y=\"0\"><tspan class=\"line\" dy=\"0em\" x=\"0\" y=\"0\">savings</tspan><tspan class=\"line\" dy=\"1.3em\" x=\"0\" y=\"0\">10%</tspan></text></g></g><g class=\"slice\"><path class=\"surface\" d=\"M314,260l152.15412172570805,49.48861729608552a160,160 0 0 1 -58.128005054257954,79.96828434954654Z\" style=\"pointer-events: all; stroke-width: 1; fill: rgb(173, 216, 230); fill-opacity: 1; stroke: rgb(211, 211, 211); stroke-opacity: 1;\"/><g class=\"slicetext\"><text class=\"slicetext\" data-notex=\"1\" style=\"font-family: 'Open Sans', verdana, arial, sans-serif; font-size: 10px; fill: rgb(68, 68, 68); fill-opacity: 1; white-space: pre;\" text-anchor=\"middle\" transform=\"translate(412.8745995166648,329.37078311346835)\" x=\"0\" y=\"0\"><tspan class=\"line\" dy=\"0em\" x=\"0\" y=\"0\">debt</tspan><tspan class=\"line\" dy=\"1.3em\" x=\"0\" y=\"0\">10%</tspan></text></g></g></g></g><g class=\"treemaplayer\"/><g class=\"sunburstlayer\"/><g class=\"glimages\"/><defs id=\"topdefs-eea0b1\"><g class=\"clips\"/><clipPath id=\"legendeea0b1\"><rect height=\"143\" width=\"131\" x=\"0\" y=\"0\"/></clipPath></defs><g class=\"layer-above\"><g class=\"imagelayer\"/><g class=\"shapelayer\"/></g><g class=\"infolayer\"><g class=\"legend\" pointer-events=\"all\" transform=\"translate(557.36,100)\"><rect class=\"bg\" height=\"143\" shape-rendering=\"crispEdges\" style=\"stroke: rgb(68, 68, 68); stroke-opacity: 1; fill: rgb(255, 255, 255); fill-opacity: 1; stroke-width: 0px;\" width=\"131\" x=\"0\" y=\"0\"/><g class=\"scrollbox\" clip-path=\"url('#legendeea0b1')\" transform=\"\"><g class=\"groups\"><g class=\"traces\" style=\"opacity: 1;\" transform=\"translate(0,14.5)\"><text class=\"legendtext\" style=\"font-family: 'Open Sans', verdana, arial, sans-serif; font-size: 12px; fill: rgb(42, 63, 95); fill-opacity: 1; white-space: pre;\" text-anchor=\"start\" x=\"40\" y=\"4.680000000000001\">home</text><g class=\"layers\" style=\"opacity: 1;\"><g class=\"legendfill\"/><g class=\"legendlines\"/><g class=\"legendsymbols\"><g class=\"legendpoints\"><path class=\"legendpie\" d=\"M6,6H-6V-6H6Z\" style=\"stroke-width: 1; fill: rgb(255, 99, 71); fill-opacity: 1; stroke: rgb(211, 211, 211); stroke-opacity: 1;\" transform=\"translate(20,0)\"/></g></g></g><rect class=\"legendtoggle\" height=\"19\" style=\"fill: rgb(0, 0, 0); fill-opacity: 0;\" width=\"125.625\" x=\"0\" y=\"-9.5\"/></g><g class=\"traces\" style=\"opacity: 1;\" transform=\"translate(0,33.5)\"><text class=\"legendtext\" style=\"font-family: 'Open Sans', verdana, arial, sans-serif; font-size: 12px; fill: rgb(42, 63, 95); fill-opacity: 1; white-space: pre;\" text-anchor=\"start\" x=\"40\" y=\"4.680000000000001\">food</text><g class=\"layers\" style=\"opacity: 1;\"><g class=\"legendfill\"/><g class=\"legendlines\"/><g class=\"legendsymbols\"><g class=\"legendpoints\"><path class=\"legendpie\" d=\"M6,6H-6V-6H6Z\" style=\"stroke-width: 1; fill: rgb(255, 160, 122); fill-opacity: 1; stroke: rgb(211, 211, 211); stroke-opacity: 1;\" transform=\"translate(20,0)\"/></g></g></g><rect class=\"legendtoggle\" height=\"19\" style=\"fill: rgb(0, 0, 0); fill-opacity: 0;\" width=\"125.625\" x=\"0\" y=\"-9.5\"/></g><g class=\"traces\" style=\"opacity: 1;\" transform=\"translate(0,52.5)\"><text class=\"legendtext\" style=\"font-family: 'Open Sans', verdana, arial, sans-serif; font-size: 12px; fill: rgb(42, 63, 95); fill-opacity: 1; white-space: pre;\" text-anchor=\"start\" x=\"40\" y=\"4.680000000000001\">lifestyle</text><g class=\"layers\" style=\"opacity: 1;\"><g class=\"legendfill\"/><g class=\"legendlines\"/><g class=\"legendsymbols\"><g class=\"legendpoints\"><path class=\"legendpie\" d=\"M6,6H-6V-6H6Z\" style=\"stroke-width: 1; fill: rgb(255, 140, 0); fill-opacity: 1; stroke: rgb(211, 211, 211); stroke-opacity: 1;\" transform=\"translate(20,0)\"/></g></g></g><rect class=\"legendtoggle\" height=\"19\" style=\"fill: rgb(0, 0, 0); fill-opacity: 0;\" width=\"125.625\" x=\"0\" y=\"-9.5\"/></g><g class=\"traces\" style=\"opacity: 1;\" transform=\"translate(0,71.5)\"><text class=\"legendtext\" style=\"font-family: 'Open Sans', verdana, arial, sans-serif; font-size: 12px; fill: rgb(42, 63, 95); fill-opacity: 1; white-space: pre;\" text-anchor=\"start\" x=\"40\" y=\"4.680000000000001\">utility</text><g class=\"layers\" style=\"opacity: 1;\"><g class=\"legendfill\"/><g class=\"legendlines\"/><g class=\"legendsymbols\"><g class=\"legendpoints\"><path class=\"legendpie\" d=\"M6,6H-6V-6H6Z\" style=\"stroke-width: 1; fill: rgb(255, 215, 0); fill-opacity: 1; stroke: rgb(211, 211, 211); stroke-opacity: 1;\" transform=\"translate(20,0)\"/></g></g></g><rect class=\"legendtoggle\" height=\"19\" style=\"fill: rgb(0, 0, 0); fill-opacity: 0;\" width=\"125.625\" x=\"0\" y=\"-9.5\"/></g><g class=\"traces\" style=\"opacity: 1;\" transform=\"translate(0,90.5)\"><text class=\"legendtext\" style=\"font-family: 'Open Sans', verdana, arial, sans-serif; font-size: 12px; fill: rgb(42, 63, 95); fill-opacity: 1; white-space: pre;\" text-anchor=\"start\" x=\"40\" y=\"4.680000000000001\">transportation</text><g class=\"layers\" style=\"opacity: 1;\"><g class=\"legendfill\"/><g class=\"legendlines\"/><g class=\"legendsymbols\"><g class=\"legendpoints\"><path class=\"legendpie\" d=\"M6,6H-6V-6H6Z\" style=\"stroke-width: 1; fill: rgb(144, 238, 144); fill-opacity: 1; stroke: rgb(211, 211, 211); stroke-opacity: 1;\" transform=\"translate(20,0)\"/></g></g></g><rect class=\"legendtoggle\" height=\"19\" style=\"fill: rgb(0, 0, 0); fill-opacity: 0;\" width=\"125.625\" x=\"0\" y=\"-9.5\"/></g><g class=\"traces\" style=\"opacity: 1;\" transform=\"translate(0,109.5)\"><text class=\"legendtext\" style=\"font-family: 'Open Sans', verdana, arial, sans-serif; font-size: 12px; fill: rgb(42, 63, 95); fill-opacity: 1; white-space: pre;\" text-anchor=\"start\" x=\"40\" y=\"4.680000000000001\">savings</text><g class=\"layers\" style=\"opacity: 1;\"><g class=\"legendfill\"/><g class=\"legendlines\"/><g class=\"legendsymbols\"><g class=\"legendpoints\"><path class=\"legendpie\" d=\"M6,6H-6V-6H6Z\" style=\"stroke-width: 1; fill: rgb(72, 209, 204); fill-opacity: 1; stroke: rgb(211, 211, 211); stroke-opacity: 1;\" transform=\"translate(20,0)\"/></g></g></g><rect class=\"legendtoggle\" height=\"19\" style=\"fill: rgb(0, 0, 0); fill-opacity: 0;\" width=\"125.625\" x=\"0\" y=\"-9.5\"/></g><g class=\"traces\" style=\"opacity: 1;\" transform=\"translate(0,128.5)\"><text class=\"legendtext\" style=\"font-family: 'Open Sans', verdana, arial, sans-serif; font-size: 12px; fill: rgb(42, 63, 95); fill-opacity: 1; white-space: pre;\" text-anchor=\"start\" x=\"40\" y=\"4.680000000000001\">debt</text><g class=\"layers\" style=\"opacity: 1;\"><g class=\"legendfill\"/><g class=\"legendlines\"/><g class=\"legendsymbols\"><g class=\"legendpoints\"><path class=\"legendpie\" d=\"M6,6H-6V-6H6Z\" style=\"stroke-width: 1; fill: rgb(173, 216, 230); fill-opacity: 1; stroke: rgb(211, 211, 211); stroke-opacity: 1;\" transform=\"translate(20,0)\"/></g></g></g><rect class=\"legendtoggle\" height=\"19\" style=\"fill: rgb(0, 0, 0); fill-opacity: 0;\" width=\"125.625\" x=\"0\" y=\"-9.5\"/></g></g></g><rect class=\"scrollbar\" height=\"0\" rx=\"20\" ry=\"3\" style=\"fill: rgb(128, 139, 164); fill-opacity: 1;\" width=\"0\" x=\"0\" y=\"0\"/></g><g class=\"g-gtitle\"><text class=\"gtitle\" dy=\"0em\" style=\"font-family: 'Open Sans', verdana, arial, sans-serif; font-size: 17px; fill: rgb(42, 63, 95); opacity: 1; font-weight: normal; white-space: pre;\" text-anchor=\"start\" x=\"35\" y=\"50\">Ideal Budget</text></g></g></svg>"
      ],
      "text/plain": [
       "<IPython.core.display.SVG object>"
      ]
     },
     "metadata": {},
     "output_type": "display_data"
    }
   ],
   "source": [
    "import plotly.graph_objects as go\n",
    "\n",
    "fig = go.Figure(data=[go.Pie(\n",
    "    #rotation = -100,\n",
    "    labels= ordered_ideal_budget.index,\n",
    "    values= ordered_ideal_budget.values\n",
    ")])\n",
    "\n",
    "fig.update_traces(hoverinfo='label + value', textinfo='label + percent', textfont_size=10,\n",
    "                  marker=dict(colors=contrast_colors, line=dict(color='lightgrey', width=1)))\n",
    "fig.update_layout(title_text=\"Ideal Budget\")\n",
    "fig.write_image('pie_ideal_budget.svg')\n",
    "#fig.show()\n",
    "show_svg('pie_ideal_budget')"
   ]
  },
  {
   "cell_type": "code",
   "execution_count": null,
   "id": "79d3bf7c",
   "metadata": {},
   "outputs": [],
   "source": []
  },
  {
   "cell_type": "code",
   "execution_count": 16,
   "id": "5beb6cd1",
   "metadata": {},
   "outputs": [],
   "source": [
    "#def get_spending(item):\n",
    "    #return input(f'How much do you spend monthly on {item.capitalize()}?\\n')"
   ]
  },
  {
   "cell_type": "code",
   "execution_count": 17,
   "id": "4c9cb499",
   "metadata": {},
   "outputs": [],
   "source": [
    "seed_answers = [2500, 1500, 500, 500, 800, 200, 500]\n",
    "actual = seed_answers"
   ]
  },
  {
   "cell_type": "code",
   "execution_count": 18,
   "id": "cffd55c9",
   "metadata": {},
   "outputs": [],
   "source": [
    "categories = list(ideal_frame['category'])\n",
    "#actual = []\n",
    "# for category in categories:\n",
    "#         actual.append(int(get_spending(category))\n",
    "ideal_frame['actual'] = actual\n",
    "extra = pd.Series(['unspent', 0, 0, 0], index=ideal_frame.columns)\n",
    "ideal_frame = ideal_frame.append(extra, ignore_index=True)\n",
    "overage = pd.Series(['overage', 0, 0, 0], index=ideal_frame.columns)\n",
    "ideal_frame = ideal_frame.append(overage, ignore_index=True)"
   ]
  },
  {
   "cell_type": "code",
   "execution_count": 19,
   "id": "6850ba2d",
   "metadata": {},
   "outputs": [
    {
     "name": "stdout",
     "output_type": "stream",
     "text": [
      "You make $8333 a month\n",
      "You spend $6500 a month\n",
      "You spend $-1832 over or under your budget\n"
     ]
    }
   ],
   "source": [
    "total_spent = sum(ideal_frame.actual)\n",
    "spending_difference = sum(ideal_frame.actual) - sum(ideal_frame.allocated)\n",
    "print(f'You make ${int(income/12)} a month')\n",
    "print(f'You spend ${total_spent} a month')\n",
    "print(f'You spend ${spending_difference} over or under your budget')"
   ]
  },
  {
   "cell_type": "code",
   "execution_count": 20,
   "id": "083e3e53",
   "metadata": {},
   "outputs": [
    {
     "name": "stderr",
     "output_type": "stream",
     "text": [
      "/Users/Jen/anaconda3/lib/python3.7/site-packages/ipykernel_launcher.py:2: SettingWithCopyWarning:\n",
      "\n",
      "\n",
      "A value is trying to be set on a copy of a slice from a DataFrame\n",
      "\n",
      "See the caveats in the documentation: https://pandas.pydata.org/pandas-docs/stable/user_guide/indexing.html#returning-a-view-versus-a-copy\n",
      "\n"
     ]
    }
   ],
   "source": [
    "if spending_difference < 1:\n",
    "    ideal_frame['actual'][7] = spending_difference*-1\n",
    "elif spending_difference > 1:\n",
    "    ideal_frame['actual'][8] = spending_difference*-1"
   ]
  },
  {
   "cell_type": "code",
   "execution_count": 21,
   "id": "fcd2505a",
   "metadata": {},
   "outputs": [
    {
     "data": {
      "text/html": [
       "<div>\n",
       "<style scoped>\n",
       "    .dataframe tbody tr th:only-of-type {\n",
       "        vertical-align: middle;\n",
       "    }\n",
       "\n",
       "    .dataframe tbody tr th {\n",
       "        vertical-align: top;\n",
       "    }\n",
       "\n",
       "    .dataframe thead th {\n",
       "        text-align: right;\n",
       "    }\n",
       "</style>\n",
       "<table border=\"1\" class=\"dataframe\">\n",
       "  <thead>\n",
       "    <tr style=\"text-align: right;\">\n",
       "      <th></th>\n",
       "      <th>category</th>\n",
       "      <th>percent_ideal</th>\n",
       "      <th>allocated</th>\n",
       "      <th>actual</th>\n",
       "    </tr>\n",
       "  </thead>\n",
       "  <tbody>\n",
       "    <tr>\n",
       "      <th>0</th>\n",
       "      <td>home</td>\n",
       "      <td>30</td>\n",
       "      <td>2500</td>\n",
       "      <td>2500</td>\n",
       "    </tr>\n",
       "    <tr>\n",
       "      <th>7</th>\n",
       "      <td>unspent</td>\n",
       "      <td>0</td>\n",
       "      <td>0</td>\n",
       "      <td>1832</td>\n",
       "    </tr>\n",
       "    <tr>\n",
       "      <th>1</th>\n",
       "      <td>lifestyle</td>\n",
       "      <td>15</td>\n",
       "      <td>1250</td>\n",
       "      <td>1500</td>\n",
       "    </tr>\n",
       "    <tr>\n",
       "      <th>4</th>\n",
       "      <td>food</td>\n",
       "      <td>10</td>\n",
       "      <td>1250</td>\n",
       "      <td>800</td>\n",
       "    </tr>\n",
       "    <tr>\n",
       "      <th>2</th>\n",
       "      <td>debt</td>\n",
       "      <td>10</td>\n",
       "      <td>833</td>\n",
       "      <td>500</td>\n",
       "    </tr>\n",
       "    <tr>\n",
       "      <th>3</th>\n",
       "      <td>savings</td>\n",
       "      <td>20</td>\n",
       "      <td>833</td>\n",
       "      <td>500</td>\n",
       "    </tr>\n",
       "    <tr>\n",
       "      <th>6</th>\n",
       "      <td>utility</td>\n",
       "      <td>5</td>\n",
       "      <td>833</td>\n",
       "      <td>500</td>\n",
       "    </tr>\n",
       "    <tr>\n",
       "      <th>5</th>\n",
       "      <td>transportation</td>\n",
       "      <td>10</td>\n",
       "      <td>833</td>\n",
       "      <td>200</td>\n",
       "    </tr>\n",
       "    <tr>\n",
       "      <th>8</th>\n",
       "      <td>overage</td>\n",
       "      <td>0</td>\n",
       "      <td>0</td>\n",
       "      <td>0</td>\n",
       "    </tr>\n",
       "  </tbody>\n",
       "</table>\n",
       "</div>"
      ],
      "text/plain": [
       "         category  percent_ideal  allocated  actual\n",
       "0            home             30       2500    2500\n",
       "7         unspent              0          0    1832\n",
       "1       lifestyle             15       1250    1500\n",
       "4            food             10       1250     800\n",
       "2            debt             10        833     500\n",
       "3         savings             20        833     500\n",
       "6         utility              5        833     500\n",
       "5  transportation             10        833     200\n",
       "8         overage              0          0       0"
      ]
     },
     "execution_count": 21,
     "metadata": {},
     "output_type": "execute_result"
    }
   ],
   "source": [
    "pie_group = ideal_frame.sort_values(['actual'], ascending=False)\n",
    "pie_group"
   ]
  },
  {
   "cell_type": "code",
   "execution_count": 22,
   "id": "b41b5664",
   "metadata": {},
   "outputs": [],
   "source": [
    "red = 'tomato'\n",
    "coral = 'FF8360' \n",
    "pastel_pink ='DA9598'\n",
    "rajah = 'FFAA5A'\n",
    "light_red = 'ED6A5A'"
   ]
  },
  {
   "cell_type": "code",
   "execution_count": 23,
   "id": "49e3da57",
   "metadata": {},
   "outputs": [
    {
     "data": {
      "image/svg+xml": [
       "<svg class=\"main-svg\" height=\"500\" style=\"\" viewBox=\"0 0 700 500\" width=\"700\" xmlns=\"http://www.w3.org/2000/svg\" xmlns:xlink=\"http://www.w3.org/1999/xlink\"><rect height=\"500\" style=\"fill: rgb(255, 255, 255); fill-opacity: 1;\" width=\"700\" x=\"0\" y=\"0\"/><defs id=\"defs-f79ffb\"><g class=\"clips\"/><g class=\"gradients\"/></defs><g class=\"bglayer\"/><g class=\"layer-below\"><g class=\"imagelayer\"/><g class=\"shapelayer\"/></g><g class=\"cartesianlayer\"/><g class=\"polarlayer\"/><g class=\"ternarylayer\"/><g class=\"geolayer\"/><g class=\"funnelarealayer\"/><g class=\"pielayer\"><g class=\"trace\" stroke-linejoin=\"round\" style=\"opacity: 1;\"><g class=\"slice\"><path class=\"surface\" d=\"M315,260l157.56924048195327,27.78370842670885a160,160 0 0 1 -232.72730044317376,113.46524209281037Z\" style=\"pointer-events: all; stroke-width: 1; fill: rgb(237, 106, 90); fill-opacity: 1; stroke: rgb(211, 211, 211); stroke-opacity: 1;\"/><g class=\"slicetext\"><text class=\"slicetext\" data-notex=\"1\" style=\"font-family: 'Open Sans', verdana, arial, sans-serif; font-size: 10px; fill: rgb(68, 68, 68); fill-opacity: 1; white-space: pre;\" text-anchor=\"middle\" transform=\"translate(353.758208619172,336.99653211487583)\" x=\"0\" y=\"0\"><tspan class=\"line\" dy=\"0em\" x=\"0\" y=\"0\">home</tspan><tspan class=\"line\" dy=\"1.3em\" x=\"0\" y=\"0\">30%</tspan></text></g></g><g class=\"slice\"><path class=\"surface\" d=\"M315,260l56.93440096984655,-149.5275024408712a160,160 0 0 1 100.63483951210672,177.31121086758003Z\" style=\"pointer-events: all; stroke-width: 1; fill: rgb(255, 160, 122); fill-opacity: 1; stroke: rgb(211, 211, 211); stroke-opacity: 1;\"/><g class=\"slicetext\"><text class=\"slicetext\" data-notex=\"1\" style=\"font-family: 'Open Sans', verdana, arial, sans-serif; font-size: 10px; fill: rgb(68, 68, 68); fill-opacity: 1; white-space: pre;\" text-anchor=\"middle\" transform=\"translate(399.9968333999908,209.25915472917615)\" x=\"0\" y=\"0\"><tspan class=\"line\" dy=\"0em\" x=\"0\" y=\"0\">unspent</tspan><tspan class=\"line\" dy=\"1.3em\" x=\"0\" y=\"0\">22%</tspan></text></g></g><g class=\"slice\"><path class=\"surface\" d=\"M315,260l-111.07588465523978,-115.16139912338627a160,160 0 0 1 168.01028562508634,-34.366103317484914Z\" style=\"pointer-events: all; stroke-width: 1; fill: rgb(255, 170, 90); fill-opacity: 1; stroke: rgb(211, 211, 211); stroke-opacity: 1;\"/><g class=\"slicetext\"><text class=\"slicetext\" data-notex=\"1\" style=\"font-family: 'Open Sans', verdana, arial, sans-serif; font-size: 10px; fill: rgb(68, 68, 68); fill-opacity: 1; white-space: pre;\" text-anchor=\"middle\" transform=\"translate(294.1238647245959,155.4399724791005)\" x=\"0\" y=\"0\"><tspan class=\"line\" dy=\"0em\" x=\"0\" y=\"0\">lifestyle</tspan><tspan class=\"line\" dy=\"1.3em\" x=\"0\" y=\"0\">18%</tspan></text></g></g><g class=\"slice\"><path class=\"surface\" d=\"M315,260l-156.80516927952343,-31.814130307459315a160,160 0 0 1 45.72928462428365,-83.34726881592695Z\" style=\"pointer-events: all; stroke-width: 1; fill: rgb(255, 215, 0); fill-opacity: 1; stroke: rgb(211, 211, 211); stroke-opacity: 1;\"/><g class=\"slicetext\"><text class=\"slicetext\" data-notex=\"1\" style=\"font-family: 'Open Sans', verdana, arial, sans-serif; font-size: 10px; fill: rgb(68, 68, 68); fill-opacity: 1; white-space: pre;\" text-anchor=\"middle\" transform=\"translate(206.85475548116392,198.16506632285012)\" x=\"0\" y=\"0\"><tspan class=\"line\" dy=\"0em\" x=\"0\" y=\"0\">food</tspan><tspan class=\"line\" dy=\"1.3em\" x=\"0\" y=\"0\">9.6%</tspan></text></g></g><g class=\"slice\"><path class=\"surface\" d=\"M315,260l-157.50362359786146,28.15330448709663a160,160 0 0 1 0.6984543183380367,-59.96743479455594Z\" style=\"pointer-events: all; stroke-width: 1; fill: rgb(144, 238, 144); fill-opacity: 1; stroke: rgb(211, 211, 211); stroke-opacity: 1;\"/><g class=\"slicetext\"><text class=\"slicetext\" data-notex=\"1\" style=\"font-family: 'Open Sans', verdana, arial, sans-serif; font-size: 10px; fill: rgb(68, 68, 68); fill-opacity: 1; white-space: pre;\" text-anchor=\"middle\" transform=\"translate(180.26219146207163,255.93067817492732)\" x=\"0\" y=\"0\"><tspan class=\"line\" dy=\"0em\" x=\"0\" y=\"0\">debt</tspan><tspan class=\"line\" dy=\"1.3em\" x=\"0\" y=\"0\">6%</tspan></text></g></g><g class=\"slice\"><path class=\"surface\" d=\"M315,260l-136.07416573800953,84.16544076225537a160,160 0 0 1 -21.429457859851937,-56.01213627515874Z\" style=\"pointer-events: all; stroke-width: 1; fill: rgb(72, 209, 204); fill-opacity: 1; stroke: rgb(211, 211, 211); stroke-opacity: 1;\"/><g class=\"slicetext\"><text class=\"slicetext\" data-notex=\"1\" style=\"font-family: 'Open Sans', verdana, arial, sans-serif; font-size: 10px; fill: rgb(68, 68, 68); fill-opacity: 1; white-space: pre;\" text-anchor=\"middle\" transform=\"translate(189.14915246753512,305.64876941266897)\" x=\"0\" y=\"0\"><tspan class=\"line\" dy=\"0em\" x=\"0\" y=\"0\">savings</tspan><tspan class=\"line\" dy=\"1.3em\" x=\"0\" y=\"0\">6%</tspan></text></g></g><g class=\"slice\"><path class=\"surface\" d=\"M315,260l-95.52745126913547,128.35305237516928a160,160 0 0 1 -40.54671446887406,-44.18761161291391Z\" style=\"pointer-events: all; stroke-width: 1; fill: rgb(173, 216, 230); fill-opacity: 1; stroke: rgb(211, 211, 211); stroke-opacity: 1;\"/><g class=\"slicetext\"><text class=\"slicetext\" data-notex=\"1\" style=\"font-family: 'Open Sans', verdana, arial, sans-serif; font-size: 10px; fill: rgb(68, 68, 68); fill-opacity: 1; white-space: pre;\" text-anchor=\"middle\" transform=\"translate(215.71708130177285,348.6023703059109)\" x=\"0\" y=\"0\"><tspan class=\"line\" dy=\"0em\" x=\"0\" y=\"0\">utility</tspan><tspan class=\"line\" dy=\"1.3em\" x=\"0\" y=\"0\">6%</tspan></text></g></g><g class=\"slice\"><path class=\"surface\" d=\"M315,260l-75.15805996122042,141.24895051951924a160,160 0 0 1 -20.369391307915052,-12.895898144349957Z\" style=\"pointer-events: all; stroke-width: 1; fill: rgb(211, 211, 211); fill-opacity: 1; stroke: rgb(211, 211, 211); stroke-opacity: 1;\"/><g class=\"slicetext\"><text class=\"slicetext\" data-notex=\"1\" style=\"font-family: 'Open Sans', verdana, arial, sans-serif; font-size: 10px; fill: rgb(42, 63, 95); fill-opacity: 1; white-space: pre;\" text-anchor=\"middle\" transform=\"translate(187.4765082535153,401.60855736261647)\" x=\"0\" y=\"0\"><tspan class=\"line\" dy=\"0em\" x=\"0\" y=\"0\">transportation</tspan><tspan class=\"line\" dy=\"1.3em\" x=\"0\" y=\"0\">2.4%</tspan></text></g></g><g class=\"slice\"><path class=\"surface\" d=\"M315,260l-75.15805996122042,141.24895051951924a160,160 0 0 1 0,0Z\" style=\"pointer-events: all; stroke-width: 1; fill: rgb(255, 255, 255); fill-opacity: 1; stroke: rgb(211, 211, 211); stroke-opacity: 1;\"/><g class=\"slicetext\"><text class=\"slicetext\" data-notex=\"1\" style=\"font-family: 'Open Sans', verdana, arial, sans-serif; font-size: 10px; fill: rgb(42, 63, 95); fill-opacity: 1; white-space: pre;\" text-anchor=\"middle\" transform=\"translate(213.38881503877957,426.60855736261647)\" x=\"0\" y=\"0\"><tspan class=\"line\" dy=\"0em\" x=\"0\" y=\"0\">overage</tspan><tspan class=\"line\" dy=\"1.3em\" x=\"0\" y=\"0\">0%</tspan></text></g><path class=\"textline\" d=\"M239.84194003877957,401.2489505195192V429.10855736261647h-6.25\" fill=\"none\" stroke-width=\"1.25\" style=\"stroke: rgb(42, 63, 95); stroke-opacity: 1;\"/></g></g></g><g class=\"treemaplayer\"/><g class=\"sunburstlayer\"/><g class=\"glimages\"/><defs id=\"topdefs-f79ffb\"><g class=\"clips\"/><clipPath id=\"legendf79ffb\"><rect height=\"181\" width=\"131\" x=\"0\" y=\"0\"/></clipPath></defs><g class=\"layer-above\"><g class=\"imagelayer\"/><g class=\"shapelayer\"/></g><g class=\"infolayer\"><g class=\"legend\" pointer-events=\"all\" transform=\"translate(557.3199999999999,100)\"><rect class=\"bg\" height=\"181\" shape-rendering=\"crispEdges\" style=\"stroke: rgb(68, 68, 68); stroke-opacity: 1; fill: rgb(255, 255, 255); fill-opacity: 1; stroke-width: 0px;\" width=\"131\" x=\"0\" y=\"0\"/><g class=\"scrollbox\" clip-path=\"url('#legendf79ffb')\" transform=\"\"><g class=\"groups\"><g class=\"traces\" style=\"opacity: 1;\" transform=\"translate(0,14.5)\"><text class=\"legendtext\" style=\"font-family: 'Open Sans', verdana, arial, sans-serif; font-size: 12px; fill: rgb(42, 63, 95); fill-opacity: 1; white-space: pre;\" text-anchor=\"start\" x=\"40\" y=\"4.680000000000001\">home</text><g class=\"layers\" style=\"opacity: 1;\"><g class=\"legendfill\"/><g class=\"legendlines\"/><g class=\"legendsymbols\"><g class=\"legendpoints\"><path class=\"legendpie\" d=\"M6,6H-6V-6H6Z\" style=\"stroke-width: 1; fill: rgb(237, 106, 90); fill-opacity: 1; stroke: rgb(211, 211, 211); stroke-opacity: 1;\" transform=\"translate(20,0)\"/></g></g></g><rect class=\"legendtoggle\" height=\"19\" style=\"fill: rgb(0, 0, 0); fill-opacity: 0;\" width=\"125.625\" x=\"0\" y=\"-9.5\"/></g><g class=\"traces\" style=\"opacity: 1;\" transform=\"translate(0,33.5)\"><text class=\"legendtext\" style=\"font-family: 'Open Sans', verdana, arial, sans-serif; font-size: 12px; fill: rgb(42, 63, 95); fill-opacity: 1; white-space: pre;\" text-anchor=\"start\" x=\"40\" y=\"4.680000000000001\">unspent</text><g class=\"layers\" style=\"opacity: 1;\"><g class=\"legendfill\"/><g class=\"legendlines\"/><g class=\"legendsymbols\"><g class=\"legendpoints\"><path class=\"legendpie\" d=\"M6,6H-6V-6H6Z\" style=\"stroke-width: 1; fill: rgb(255, 160, 122); fill-opacity: 1; stroke: rgb(211, 211, 211); stroke-opacity: 1;\" transform=\"translate(20,0)\"/></g></g></g><rect class=\"legendtoggle\" height=\"19\" style=\"fill: rgb(0, 0, 0); fill-opacity: 0;\" width=\"125.625\" x=\"0\" y=\"-9.5\"/></g><g class=\"traces\" style=\"opacity: 1;\" transform=\"translate(0,52.5)\"><text class=\"legendtext\" style=\"font-family: 'Open Sans', verdana, arial, sans-serif; font-size: 12px; fill: rgb(42, 63, 95); fill-opacity: 1; white-space: pre;\" text-anchor=\"start\" x=\"40\" y=\"4.680000000000001\">lifestyle</text><g class=\"layers\" style=\"opacity: 1;\"><g class=\"legendfill\"/><g class=\"legendlines\"/><g class=\"legendsymbols\"><g class=\"legendpoints\"><path class=\"legendpie\" d=\"M6,6H-6V-6H6Z\" style=\"stroke-width: 1; fill: rgb(255, 170, 90); fill-opacity: 1; stroke: rgb(211, 211, 211); stroke-opacity: 1;\" transform=\"translate(20,0)\"/></g></g></g><rect class=\"legendtoggle\" height=\"19\" style=\"fill: rgb(0, 0, 0); fill-opacity: 0;\" width=\"125.625\" x=\"0\" y=\"-9.5\"/></g><g class=\"traces\" style=\"opacity: 1;\" transform=\"translate(0,71.5)\"><text class=\"legendtext\" style=\"font-family: 'Open Sans', verdana, arial, sans-serif; font-size: 12px; fill: rgb(42, 63, 95); fill-opacity: 1; white-space: pre;\" text-anchor=\"start\" x=\"40\" y=\"4.680000000000001\">food</text><g class=\"layers\" style=\"opacity: 1;\"><g class=\"legendfill\"/><g class=\"legendlines\"/><g class=\"legendsymbols\"><g class=\"legendpoints\"><path class=\"legendpie\" d=\"M6,6H-6V-6H6Z\" style=\"stroke-width: 1; fill: rgb(255, 215, 0); fill-opacity: 1; stroke: rgb(211, 211, 211); stroke-opacity: 1;\" transform=\"translate(20,0)\"/></g></g></g><rect class=\"legendtoggle\" height=\"19\" style=\"fill: rgb(0, 0, 0); fill-opacity: 0;\" width=\"125.625\" x=\"0\" y=\"-9.5\"/></g><g class=\"traces\" style=\"opacity: 1;\" transform=\"translate(0,90.5)\"><text class=\"legendtext\" style=\"font-family: 'Open Sans', verdana, arial, sans-serif; font-size: 12px; fill: rgb(42, 63, 95); fill-opacity: 1; white-space: pre;\" text-anchor=\"start\" x=\"40\" y=\"4.680000000000001\">debt</text><g class=\"layers\" style=\"opacity: 1;\"><g class=\"legendfill\"/><g class=\"legendlines\"/><g class=\"legendsymbols\"><g class=\"legendpoints\"><path class=\"legendpie\" d=\"M6,6H-6V-6H6Z\" style=\"stroke-width: 1; fill: rgb(144, 238, 144); fill-opacity: 1; stroke: rgb(211, 211, 211); stroke-opacity: 1;\" transform=\"translate(20,0)\"/></g></g></g><rect class=\"legendtoggle\" height=\"19\" style=\"fill: rgb(0, 0, 0); fill-opacity: 0;\" width=\"125.625\" x=\"0\" y=\"-9.5\"/></g><g class=\"traces\" style=\"opacity: 1;\" transform=\"translate(0,109.5)\"><text class=\"legendtext\" style=\"font-family: 'Open Sans', verdana, arial, sans-serif; font-size: 12px; fill: rgb(42, 63, 95); fill-opacity: 1; white-space: pre;\" text-anchor=\"start\" x=\"40\" y=\"4.680000000000001\">savings</text><g class=\"layers\" style=\"opacity: 1;\"><g class=\"legendfill\"/><g class=\"legendlines\"/><g class=\"legendsymbols\"><g class=\"legendpoints\"><path class=\"legendpie\" d=\"M6,6H-6V-6H6Z\" style=\"stroke-width: 1; fill: rgb(72, 209, 204); fill-opacity: 1; stroke: rgb(211, 211, 211); stroke-opacity: 1;\" transform=\"translate(20,0)\"/></g></g></g><rect class=\"legendtoggle\" height=\"19\" style=\"fill: rgb(0, 0, 0); fill-opacity: 0;\" width=\"125.625\" x=\"0\" y=\"-9.5\"/></g><g class=\"traces\" style=\"opacity: 1;\" transform=\"translate(0,128.5)\"><text class=\"legendtext\" style=\"font-family: 'Open Sans', verdana, arial, sans-serif; font-size: 12px; fill: rgb(42, 63, 95); fill-opacity: 1; white-space: pre;\" text-anchor=\"start\" x=\"40\" y=\"4.680000000000001\">utility</text><g class=\"layers\" style=\"opacity: 1;\"><g class=\"legendfill\"/><g class=\"legendlines\"/><g class=\"legendsymbols\"><g class=\"legendpoints\"><path class=\"legendpie\" d=\"M6,6H-6V-6H6Z\" style=\"stroke-width: 1; fill: rgb(173, 216, 230); fill-opacity: 1; stroke: rgb(211, 211, 211); stroke-opacity: 1;\" transform=\"translate(20,0)\"/></g></g></g><rect class=\"legendtoggle\" height=\"19\" style=\"fill: rgb(0, 0, 0); fill-opacity: 0;\" width=\"125.625\" x=\"0\" y=\"-9.5\"/></g><g class=\"traces\" style=\"opacity: 1;\" transform=\"translate(0,147.5)\"><text class=\"legendtext\" style=\"font-family: 'Open Sans', verdana, arial, sans-serif; font-size: 12px; fill: rgb(42, 63, 95); fill-opacity: 1; white-space: pre;\" text-anchor=\"start\" x=\"40\" y=\"4.680000000000001\">transportation</text><g class=\"layers\" style=\"opacity: 1;\"><g class=\"legendfill\"/><g class=\"legendlines\"/><g class=\"legendsymbols\"><g class=\"legendpoints\"><path class=\"legendpie\" d=\"M6,6H-6V-6H6Z\" style=\"stroke-width: 1; fill: rgb(211, 211, 211); fill-opacity: 1; stroke: rgb(211, 211, 211); stroke-opacity: 1;\" transform=\"translate(20,0)\"/></g></g></g><rect class=\"legendtoggle\" height=\"19\" style=\"fill: rgb(0, 0, 0); fill-opacity: 0;\" width=\"125.625\" x=\"0\" y=\"-9.5\"/></g><g class=\"traces\" style=\"opacity: 1;\" transform=\"translate(0,166.5)\"><text class=\"legendtext\" style=\"font-family: 'Open Sans', verdana, arial, sans-serif; font-size: 12px; fill: rgb(42, 63, 95); fill-opacity: 1; white-space: pre;\" text-anchor=\"start\" x=\"40\" y=\"4.680000000000001\">overage</text><g class=\"layers\" style=\"opacity: 1;\"><g class=\"legendfill\"/><g class=\"legendlines\"/><g class=\"legendsymbols\"><g class=\"legendpoints\"><path class=\"legendpie\" d=\"M6,6H-6V-6H6Z\" style=\"stroke-width: 1; fill: rgb(255, 255, 255); fill-opacity: 1; stroke: rgb(211, 211, 211); stroke-opacity: 1;\" transform=\"translate(20,0)\"/></g></g></g><rect class=\"legendtoggle\" height=\"19\" style=\"fill: rgb(0, 0, 0); fill-opacity: 0;\" width=\"125.625\" x=\"0\" y=\"-9.5\"/></g></g></g><rect class=\"scrollbar\" height=\"0\" rx=\"20\" ry=\"3\" style=\"fill: rgb(128, 139, 164); fill-opacity: 1;\" width=\"0\" x=\"0\" y=\"0\"/></g><g class=\"g-gtitle\"><text class=\"gtitle\" dy=\"0em\" style=\"font-family: 'Open Sans', verdana, arial, sans-serif; font-size: 17px; fill: rgb(42, 63, 95); opacity: 1; font-weight: normal; white-space: pre;\" text-anchor=\"start\" x=\"35\" y=\"50\">Actual Spending</text></g></g></svg>"
      ],
      "text/plain": [
       "<IPython.core.display.SVG object>"
      ]
     },
     "metadata": {},
     "output_type": "display_data"
    }
   ],
   "source": [
    "import plotly.graph_objects as go\n",
    "\n",
    "fig = go.Figure(data=[\n",
    "    go.Pie\n",
    "    (\n",
    "        rotation = 100,\n",
    "        labels=pie_group.category,\n",
    "        values= pie_group.actual\n",
    "    )\n",
    "])\n",
    "                                                               \n",
    "fig.update_traces(hoverinfo='label + value', textinfo='label + percent', textfont_size=10,\n",
    "                  marker=dict(colors=soft_colors, line=dict(color='lightgrey', width=1)))\n",
    "fig.update_layout(title_text=\"Actual Spending\")\n",
    "fig.write_image('pie_actual_spending.svg')\n",
    "#fig.show()\n",
    "show_svg('pie_actual_spending')"
   ]
  },
  {
   "cell_type": "code",
   "execution_count": null,
   "id": "5ba1676a",
   "metadata": {},
   "outputs": [],
   "source": []
  },
  {
   "cell_type": "code",
   "execution_count": 24,
   "id": "5ff604ea",
   "metadata": {},
   "outputs": [
    {
     "data": {
      "text/html": [
       "<div>\n",
       "<style scoped>\n",
       "    .dataframe tbody tr th:only-of-type {\n",
       "        vertical-align: middle;\n",
       "    }\n",
       "\n",
       "    .dataframe tbody tr th {\n",
       "        vertical-align: top;\n",
       "    }\n",
       "\n",
       "    .dataframe thead th {\n",
       "        text-align: right;\n",
       "    }\n",
       "</style>\n",
       "<table border=\"1\" class=\"dataframe\">\n",
       "  <thead>\n",
       "    <tr style=\"text-align: right;\">\n",
       "      <th></th>\n",
       "      <th>category</th>\n",
       "      <th>percent_ideal</th>\n",
       "      <th>allocated</th>\n",
       "      <th>actual</th>\n",
       "    </tr>\n",
       "  </thead>\n",
       "  <tbody>\n",
       "    <tr>\n",
       "      <th>0</th>\n",
       "      <td>home</td>\n",
       "      <td>30</td>\n",
       "      <td>2500</td>\n",
       "      <td>2500</td>\n",
       "    </tr>\n",
       "    <tr>\n",
       "      <th>7</th>\n",
       "      <td>unspent</td>\n",
       "      <td>0</td>\n",
       "      <td>0</td>\n",
       "      <td>1832</td>\n",
       "    </tr>\n",
       "    <tr>\n",
       "      <th>1</th>\n",
       "      <td>lifestyle</td>\n",
       "      <td>15</td>\n",
       "      <td>1250</td>\n",
       "      <td>1500</td>\n",
       "    </tr>\n",
       "    <tr>\n",
       "      <th>4</th>\n",
       "      <td>food</td>\n",
       "      <td>10</td>\n",
       "      <td>1250</td>\n",
       "      <td>800</td>\n",
       "    </tr>\n",
       "    <tr>\n",
       "      <th>2</th>\n",
       "      <td>debt</td>\n",
       "      <td>10</td>\n",
       "      <td>833</td>\n",
       "      <td>500</td>\n",
       "    </tr>\n",
       "    <tr>\n",
       "      <th>3</th>\n",
       "      <td>savings</td>\n",
       "      <td>20</td>\n",
       "      <td>833</td>\n",
       "      <td>500</td>\n",
       "    </tr>\n",
       "    <tr>\n",
       "      <th>6</th>\n",
       "      <td>utility</td>\n",
       "      <td>5</td>\n",
       "      <td>833</td>\n",
       "      <td>500</td>\n",
       "    </tr>\n",
       "    <tr>\n",
       "      <th>5</th>\n",
       "      <td>transportation</td>\n",
       "      <td>10</td>\n",
       "      <td>833</td>\n",
       "      <td>200</td>\n",
       "    </tr>\n",
       "    <tr>\n",
       "      <th>8</th>\n",
       "      <td>overage</td>\n",
       "      <td>0</td>\n",
       "      <td>0</td>\n",
       "      <td>0</td>\n",
       "    </tr>\n",
       "  </tbody>\n",
       "</table>\n",
       "</div>"
      ],
      "text/plain": [
       "         category  percent_ideal  allocated  actual\n",
       "0            home             30       2500    2500\n",
       "7         unspent              0          0    1832\n",
       "1       lifestyle             15       1250    1500\n",
       "4            food             10       1250     800\n",
       "2            debt             10        833     500\n",
       "3         savings             20        833     500\n",
       "6         utility              5        833     500\n",
       "5  transportation             10        833     200\n",
       "8         overage              0          0       0"
      ]
     },
     "execution_count": 24,
     "metadata": {},
     "output_type": "execute_result"
    }
   ],
   "source": [
    "pie_group"
   ]
  },
  {
   "cell_type": "code",
   "execution_count": 25,
   "id": "91fe70ff",
   "metadata": {},
   "outputs": [
    {
     "data": {
      "image/svg+xml": [
       "<svg class=\"main-svg\" height=\"500\" style=\"\" viewBox=\"0 0 700 500\" width=\"700\" xmlns=\"http://www.w3.org/2000/svg\" xmlns:xlink=\"http://www.w3.org/1999/xlink\"><rect height=\"500\" style=\"fill: rgb(255, 255, 255); fill-opacity: 1;\" width=\"700\" x=\"0\" y=\"0\"/><defs id=\"defs-28e046\"><g class=\"clips\"/><g class=\"gradients\"/></defs><g class=\"bglayer\"/><g class=\"layer-below\"><g class=\"imagelayer\"/><g class=\"shapelayer\"/></g><g class=\"cartesianlayer\"/><g class=\"polarlayer\"/><g class=\"ternarylayer\"/><g class=\"geolayer\"/><g class=\"funnelarealayer\"/><g class=\"pielayer\"><g class=\"trace\" stroke-linejoin=\"round\" style=\"opacity: 1;\"><g class=\"slice\"><path class=\"surface\" d=\"M225.35457254429267,258.0278785031945a42.120000000000005,42.120000000000005 0 0 0 -40.054572544292654,-55.14787850319449l0,-63.17999999999999a105.3,105.3 0 0 1 100.13643136073163,137.86969625798622Z\" style=\"pointer-events: all; stroke-width: 1; fill: rgb(237, 106, 90); fill-opacity: 1; stroke: rgb(211, 211, 211); stroke-opacity: 1;\"/><g class=\"slicetext\"><text class=\"slicetext\" data-notex=\"1\" style=\"font-family: 'Open Sans', verdana, arial, sans-serif; font-size: 12px; fill: rgb(68, 68, 68); fill-opacity: 1; white-space: pre;\" text-anchor=\"middle\" transform=\"translate(244.9391763768721,198.62865587592128)\" x=\"0\" y=\"0\"><tspan class=\"line\" dy=\"0em\" x=\"0\" y=\"0\">home</tspan><tspan class=\"line\" dy=\"1.3em\" x=\"0\" y=\"0\">30%</tspan></text></g></g><g class=\"slice\"><path class=\"surface\" d=\"M185.3,202.88a42.120000000000005,42.120000000000005 0 0 0 -34.07952935821262,17.367624786240736l-51.11929403731893,-37.1285628206389a105.3,105.3 0 0 1 85.19882339553155,-43.419061965601834Z\" style=\"pointer-events: all; stroke-width: 1; fill: rgb(255, 170, 90); fill-opacity: 1; stroke: rgb(211, 211, 211); stroke-opacity: 1;\"/><g class=\"slicetext\"><text class=\"slicetext\" data-notex=\"1\" style=\"font-family: 'Open Sans', verdana, arial, sans-serif; font-size: 12px; fill: rgb(68, 68, 68); fill-opacity: 1; white-space: pre;\" text-anchor=\"middle\" transform=\"translate(151.83140770633491,176.2717452915681)\" x=\"0\" y=\"0\"><tspan class=\"line\" dy=\"0em\" x=\"0\" y=\"0\">lifestyle</tspan><tspan class=\"line\" dy=\"1.3em\" x=\"0\" y=\"0\">15%</tspan></text></g></g><g class=\"slice\"><path class=\"surface\" d=\"M151.2204706417874,220.24762478624075a42.120000000000005,42.120000000000005 0 0 0 -5.975043186080035,37.78025371695375l-60.08185881643898,19.54181775479173a105.3,105.3 0 0 1 14.937607965200087,-94.45063429238438Z\" style=\"pointer-events: all; stroke-width: 1; fill: rgb(255, 215, 0); fill-opacity: 1; stroke: rgb(211, 211, 211); stroke-opacity: 1;\"/><g class=\"slicetext\"><text class=\"slicetext\" data-notex=\"1\" style=\"font-family: 'Open Sans', verdana, arial, sans-serif; font-size: 12px; fill: rgb(68, 68, 68); fill-opacity: 1; white-space: pre;\" text-anchor=\"middle\" transform=\"translate(112.494885658418,230.4309985513026)\" x=\"0\" y=\"0\"><tspan class=\"line\" dy=\"0em\" x=\"0\" y=\"0\">food</tspan><tspan class=\"line\" dy=\"1.3em\" x=\"0\" y=\"0\">15%</tspan></text></g></g><g class=\"slice\"><path class=\"surface\" d=\"M145.24542745570736,258.0278785031945a42.120000000000005,42.120000000000005 0 0 0 15.302197330533382,21.051650855018128l-37.12856282063891,51.119294037318916a105.3,105.3 0 0 1 -38.25549332633345,-52.62912713754532Z\" style=\"pointer-events: all; stroke-width: 1; fill: rgb(144, 238, 144); fill-opacity: 1; stroke: rgb(211, 211, 211); stroke-opacity: 1;\"/><g class=\"slicetext\"><text class=\"slicetext\" data-notex=\"1\" style=\"font-family: 'Open Sans', verdana, arial, sans-serif; font-size: 12px; fill: rgb(68, 68, 68); fill-opacity: 1; white-space: pre;\" text-anchor=\"middle\" transform=\"translate(120.22815419309497,289.24527163655125)\" x=\"0\" y=\"0\"><tspan class=\"line\" dy=\"0em\" x=\"0\" y=\"0\">debt</tspan><tspan class=\"line\" dy=\"1.3em\" x=\"0\" y=\"0\">10%</tspan></text></g></g><g class=\"slice\"><path class=\"surface\" d=\"M160.54762478624073,279.0795293582126a42.120000000000005,42.120000000000005 0 0 0 24.75237521375925,8.040470641787385l-3.579487475533994e-14,63.17999999999999a105.3,105.3 0 0 1 -61.88093803439813,-20.101176604468463Z\" style=\"pointer-events: all; stroke-width: 1; fill: rgb(72, 209, 204); fill-opacity: 1; stroke: rgb(211, 211, 211); stroke-opacity: 1;\"/><g class=\"slicetext\"><text class=\"slicetext\" data-notex=\"1\" style=\"font-family: 'Open Sans', verdana, arial, sans-serif; font-size: 12px; fill: rgb(68, 68, 68); fill-opacity: 1; white-space: pre;\" text-anchor=\"middle\" transform=\"translate(158.21469841667803,318.4939099932743)rotate(-72.00432069131057)\" x=\"0\" y=\"0\"><tspan class=\"line\" dy=\"0em\" x=\"0\" y=\"0\">savings</tspan><tspan class=\"line\" dy=\"1.3em\" x=\"0\" y=\"0\">10%</tspan></text></g></g><g class=\"slice\"><path class=\"surface\" d=\"M185.29999999999998,287.12a42.120000000000005,42.120000000000005 0 0 0 24.75237521375926,-8.040470641787357l37.128562820638855,51.11929403731896a105.3,105.3 0 0 1 -61.88093803439815,20.101176604468392Z\" style=\"pointer-events: all; stroke-width: 1; fill: rgb(173, 216, 230); fill-opacity: 1; stroke: rgb(211, 211, 211); stroke-opacity: 1;\"/><g class=\"slicetext\"><text class=\"slicetext\" data-notex=\"1\" style=\"font-family: 'Open Sans', verdana, arial, sans-serif; font-size: 12px; fill: rgb(68, 68, 68); fill-opacity: 1; white-space: pre;\" text-anchor=\"middle\" transform=\"translate(210.15355041372518,318.45630702281005)\" x=\"0\" y=\"0\"><tspan class=\"line\" dy=\"0em\" x=\"0\" y=\"0\">utility</tspan><tspan class=\"line\" dy=\"1.3em\" x=\"0\" y=\"0\">10%</tspan></text></g></g><g class=\"slice\"><path class=\"surface\" d=\"M210.05237521375926,279.07952935821265a42.120000000000005,42.120000000000005 0 0 0 15.302197330533412,-21.05165085501813l60.08185881643897,19.54181775479177a105.3,105.3 0 0 1 -38.25549332633353,52.629127137545325Z\" style=\"pointer-events: all; stroke-width: 1; fill: rgb(211, 211, 211); fill-opacity: 1; stroke: rgb(211, 211, 211); stroke-opacity: 1;\"/><g class=\"slicetext\"><text class=\"slicetext\" data-notex=\"1\" style=\"font-family: 'Open Sans', verdana, arial, sans-serif; font-size: 12px; fill: rgb(42, 63, 95); fill-opacity: 1; white-space: pre;\" text-anchor=\"middle\" transform=\"translate(320.8153287926134,336.17402379921543)\" x=\"0\" y=\"0\"><tspan class=\"line\" dy=\"0em\" x=\"0\" y=\"0\">transportation</tspan><tspan class=\"line\" dy=\"1.3em\" x=\"0\" y=\"0\">10%</tspan></text></g><path class=\"textline\" d=\"M270.4754850426134,306.9130579745141V339.22871129921543h7.52734375\" fill=\"none\" stroke-width=\"1.5\" style=\"stroke: rgb(42, 63, 95); stroke-opacity: 1;\"/></g><g class=\"slice\"><path class=\"surface\" d=\"M225.35457254429267,258.02787850319453a42.120000000000005,42.120000000000005 0 0 0 0,0l60.08185881643897,19.54181775479177a105.3,105.3 0 0 1 0,0Z\" style=\"pointer-events: all; stroke-width: 1; fill: rgb(255, 160, 122); fill-opacity: 1; stroke: rgb(211, 211, 211); stroke-opacity: 1;\"/><g class=\"slicetext\"><text class=\"slicetext\" data-notex=\"1\" style=\"font-family: 'Open Sans', verdana, arial, sans-serif; font-size: 12px; fill: rgb(42, 63, 95); fill-opacity: 1; white-space: pre;\" text-anchor=\"middle\" transform=\"translate(317.1669001107316,275.95527379921543)\" x=\"0\" y=\"0\"><tspan class=\"line\" dy=\"0em\" x=\"0\" y=\"0\">unspent</tspan><tspan class=\"line\" dy=\"1.3em\" x=\"0\" y=\"0\">0%</tspan></text></g></g><g class=\"slice\"><path class=\"surface\" d=\"M225.35457254429267,258.02787850319453a42.120000000000005,42.120000000000005 0 0 0 0,0l60.08185881643897,19.54181775479177a105.3,105.3 0 0 1 0,0Z\" style=\"pointer-events: all; stroke-width: 1; fill: rgb(255, 255, 255); fill-opacity: 1; stroke: rgb(211, 211, 211); stroke-opacity: 1;\"/><g class=\"slicetext\"><text class=\"slicetext\" data-notex=\"1\" style=\"font-family: 'Open Sans', verdana, arial, sans-serif; font-size: 12px; fill: rgb(42, 63, 95); fill-opacity: 1; white-space: pre;\" text-anchor=\"middle\" transform=\"translate(317.2137751107316,306.06464879921543)\" x=\"0\" y=\"0\"><tspan class=\"line\" dy=\"0em\" x=\"0\" y=\"0\">overage</tspan><tspan class=\"line\" dy=\"1.3em\" x=\"0\" y=\"0\">0%</tspan></text></g><path class=\"textline\" d=\"M285.4364313607316,277.56969625798627V309.11933629921543h7.52734375\" fill=\"none\" stroke-width=\"1.5\" style=\"stroke: rgb(42, 63, 95); stroke-opacity: 1;\"/></g></g><g class=\"trace\" stroke-linejoin=\"round\" style=\"opacity: 1;\"><g class=\"slice\"><path class=\"surface\" d=\"M482.7545725442926,258.0278785031945a42.12,42.12 0 0 0 -40.054572544292654,-55.14787850319448l0,-63.179999999999986a105.29999999999998,105.29999999999998 0 0 1 100.13643136073162,137.8696962579862Z\" style=\"pointer-events: all; stroke-width: 1; fill: rgb(237, 106, 90); fill-opacity: 1; stroke: rgb(211, 211, 211); stroke-opacity: 1;\"/><g class=\"slicetext\"><text class=\"slicetext\" data-notex=\"1\" style=\"font-family: 'Open Sans', verdana, arial, sans-serif; font-size: 12px; fill: rgb(68, 68, 68); fill-opacity: 1; white-space: pre;\" text-anchor=\"middle\" transform=\"translate(502.33917637687205,198.6286558759213)\" x=\"0\" y=\"0\"><tspan class=\"line\" dy=\"0em\" x=\"0\" y=\"0\">home</tspan><tspan class=\"line\" dy=\"1.3em\" x=\"0\" y=\"0\">30%</tspan></text></g></g><g class=\"slice\"><path class=\"surface\" d=\"M442.7,202.88a42.12,42.12 0 0 0 -41.367736449165136,34.195053244821494l-62.05160467374769,-11.887420132767755a105.29999999999998,105.29999999999998 0 0 1 103.41934112291283,-85.48763311205373Z\" style=\"pointer-events: all; stroke-width: 1; fill: rgb(255, 160, 122); fill-opacity: 1; stroke: rgb(211, 211, 211); stroke-opacity: 1;\"/><g class=\"slicetext\"><text class=\"slicetext\" data-notex=\"1\" style=\"font-family: 'Open Sans', verdana, arial, sans-serif; font-size: 12px; fill: rgb(68, 68, 68); fill-opacity: 1; white-space: pre;\" text-anchor=\"middle\" transform=\"translate(395.7377523659555,185.13236153669692)\" x=\"0\" y=\"0\"><tspan class=\"line\" dy=\"0em\" x=\"0\" y=\"0\">unspent</tspan><tspan class=\"line\" dy=\"1.3em\" x=\"0\" y=\"0\">22%</tspan></text></g></g><g class=\"slice\"><path class=\"surface\" d=\"M401.33226355083485,237.0750532448215a42.12,42.12 0 0 0 16.589668804130262,41.98580058737237l-37.1671014675523,51.09128074829079a105.29999999999998,105.29999999999998 0 0 1 -41.47417201032565,-104.96450146843091Z\" style=\"pointer-events: all; stroke-width: 1; fill: rgb(255, 170, 90); fill-opacity: 1; stroke: rgb(211, 211, 211); stroke-opacity: 1;\"/><g class=\"slicetext\"><text class=\"slicetext\" data-notex=\"1\" style=\"font-family: 'Open Sans', verdana, arial, sans-serif; font-size: 12px; fill: rgb(68, 68, 68); fill-opacity: 1; white-space: pre;\" text-anchor=\"middle\" transform=\"translate(374.147366518798,269.03221972086925)\" x=\"0\" y=\"0\"><tspan class=\"line\" dy=\"0em\" x=\"0\" y=\"0\">lifestyle</tspan><tspan class=\"line\" dy=\"1.3em\" x=\"0\" y=\"0\">18%</tspan></text></g></g><g class=\"slice\"><path class=\"surface\" d=\"M417.9219323549651,279.06085383219386a42.12,42.12 0 0 0 23.698250291723383,8.04530242177317l-1.6197260299672334,63.159234380950544a105.29999999999998,105.29999999999998 0 0 1 -59.24562572930845,-20.113256054432924Z\" style=\"pointer-events: all; stroke-width: 1; fill: rgb(255, 215, 0); fill-opacity: 1; stroke: rgb(211, 211, 211); stroke-opacity: 1;\"/><g class=\"slicetext\"><text class=\"slicetext\" data-notex=\"1\" style=\"font-family: 'Open Sans', verdana, arial, sans-serif; font-size: 12px; fill: rgb(68, 68, 68); fill-opacity: 1; white-space: pre;\" text-anchor=\"middle\" transform=\"translate(416.60252824144186,318.8180495697378)\" x=\"0\" y=\"0\"><tspan class=\"line\" dy=\"0em\" x=\"0\" y=\"0\">food</tspan><tspan class=\"line\" dy=\"1.3em\" x=\"0\" y=\"0\">9.6%</tspan></text></g></g><g class=\"slice\"><path class=\"surface\" d=\"M441.6201826466885,287.106156253967a42.12,42.12 0 0 0 15.578524268817754,-2.5602095871055783l21.748060373259396,59.31892000029218a105.29999999999998,105.29999999999998 0 0 1 -38.94631067204438,6.400523967763945Z\" style=\"pointer-events: all; stroke-width: 1; fill: rgb(144, 238, 144); fill-opacity: 1; stroke: rgb(211, 211, 211); stroke-opacity: 1;\"/><g class=\"slicetext\"><text class=\"slicetext\" data-notex=\"1\" style=\"font-family: 'Open Sans', verdana, arial, sans-serif; font-size: 12px; fill: rgb(42, 63, 95); fill-opacity: 1; white-space: pre;\" text-anchor=\"middle\" transform=\"translate(480.72539322517736,396.3927737992154)\" x=\"0\" y=\"0\"><tspan class=\"line\" dy=\"0em\" x=\"0\" y=\"0\">debt</tspan><tspan class=\"line\" dy=\"1.3em\" x=\"0\" y=\"0\">6%</tspan></text></g><path class=\"textline\" d=\"M459.77617447517736,348.90618011116226V399.4474612992154h7.52734375\" fill=\"none\" stroke-width=\"1.5\" style=\"stroke: rgb(42, 63, 95); stroke-opacity: 1;\"/></g><g class=\"slice\"><path class=\"surface\" d=\"M457.19870691550625,284.5459466668615a42.12,42.12 0 0 0 13.541579937030363,-8.116076905319948l42.06043027880494,47.14480464231226a105.29999999999998,105.29999999999998 0 0 1 -33.85394984257591,20.290192263299872Z\" style=\"pointer-events: all; stroke-width: 1; fill: rgb(72, 209, 204); fill-opacity: 1; stroke: rgb(211, 211, 211); stroke-opacity: 1;\"/><g class=\"slicetext\"><text class=\"slicetext\" data-notex=\"1\" style=\"font-family: 'Open Sans', verdana, arial, sans-serif; font-size: 12px; fill: rgb(42, 63, 95); fill-opacity: 1; white-space: pre;\" text-anchor=\"middle\" transform=\"translate(526.9539842708438,366.2833987992154)\" x=\"0\" y=\"0\"><tspan class=\"line\" dy=\"0em\" x=\"0\" y=\"0\">savings</tspan><tspan class=\"line\" dy=\"1.3em\" x=\"0\" y=\"0\">6%</tspan></text></g><path class=\"textline\" d=\"M496.83289052084376,335.3200983384005V369.3380862992154h7.52734375\" fill=\"none\" stroke-width=\"1.5\" style=\"stroke: rgb(42, 63, 95); stroke-opacity: 1;\"/></g><g class=\"slice\"><path class=\"surface\" d=\"M470.7402868525366,276.4298697615415a42.12,42.12 0 0 0 9.602159428786189,-12.53170482529107l56.46366942198422,28.347247404375654a105.29999999999998,105.29999999999998 0 0 1 -24.005398571965472,31.329262063227674Z\" style=\"pointer-events: all; stroke-width: 1; fill: rgb(173, 216, 230); fill-opacity: 1; stroke: rgb(211, 211, 211); stroke-opacity: 1;\"/><g class=\"slicetext\"><text class=\"slicetext\" data-notex=\"1\" style=\"font-family: 'Open Sans', verdana, arial, sans-serif; font-size: 12px; fill: rgb(42, 63, 95); fill-opacity: 1; white-space: pre;\" text-anchor=\"middle\" transform=\"translate(550.827367131236,336.1740237992154)\" x=\"0\" y=\"0\"><tspan class=\"line\" dy=\"0em\" x=\"0\" y=\"0\">utility</tspan><tspan class=\"line\" dy=\"1.3em\" x=\"0\" y=\"0\">6%</tspan></text></g><path class=\"textline\" d=\"M526.284398381236,309.04481514726103V339.2287112992154h7.52734375\" fill=\"none\" stroke-width=\"1.5\" style=\"stroke: rgb(42, 63, 95); stroke-opacity: 1;\"/></g><g class=\"slice\"><path class=\"surface\" d=\"M480.3424462813228,263.89816493625045a42.12,42.12 0 0 0 2.4121262629698323,-5.870286433055961l60.08185881643897,19.541817754791712a105.29999999999998,105.29999999999998 0 0 1 -6.03031565742458,14.675716082639902Z\" style=\"pointer-events: all; stroke-width: 1; fill: rgb(211, 211, 211); fill-opacity: 1; stroke: rgb(211, 211, 211); stroke-opacity: 1;\"/><g class=\"slicetext\"><text class=\"slicetext\" data-notex=\"1\" style=\"font-family: 'Open Sans', verdana, arial, sans-serif; font-size: 12px; fill: rgb(42, 63, 95); fill-opacity: 1; white-space: pre;\" text-anchor=\"middle\" transform=\"translate(590.4379234698583,306.0646487992154)\" x=\"0\" y=\"0\"><tspan class=\"line\" dy=\"0em\" x=\"0\" y=\"0\">transportation</tspan><tspan class=\"line\" dy=\"1.3em\" x=\"0\" y=\"0\">2.4%</tspan></text></g><path class=\"textline\" d=\"M540.0980797198583,285.02129516749943V309.1193362992154h7.52734375\" fill=\"none\" stroke-width=\"1.5\" style=\"stroke: rgb(42, 63, 95); stroke-opacity: 1;\"/></g><g class=\"slice\"><path class=\"surface\" d=\"M482.7545725442926,258.0278785031945a42.12,42.12 0 0 0 0,0l60.08185881643897,19.541817754791712a105.29999999999998,105.29999999999998 0 0 1 0,0Z\" style=\"pointer-events: all; stroke-width: 1; fill: rgb(255, 255, 255); fill-opacity: 1; stroke: rgb(211, 211, 211); stroke-opacity: 1;\"/><g class=\"slicetext\"><text class=\"slicetext\" data-notex=\"1\" style=\"font-family: 'Open Sans', verdana, arial, sans-serif; font-size: 12px; fill: rgb(42, 63, 95); fill-opacity: 1; white-space: pre;\" text-anchor=\"middle\" transform=\"translate(574.6137751107316,275.9552737992154)\" x=\"0\" y=\"0\"><tspan class=\"line\" dy=\"0em\" x=\"0\" y=\"0\">overage</tspan><tspan class=\"line\" dy=\"1.3em\" x=\"0\" y=\"0\">0%</tspan></text></g></g></g></g><g class=\"treemaplayer\"/><g class=\"sunburstlayer\"/><g class=\"glimages\"/><defs id=\"topdefs-28e046\"><g class=\"clips\"/><clipPath id=\"legend28e046\"><rect height=\"181\" width=\"131\" x=\"0\" y=\"0\"/></clipPath></defs><g class=\"layer-above\"><g class=\"imagelayer\"/><g class=\"shapelayer\"/></g><g class=\"infolayer\"><g class=\"legend\" pointer-events=\"all\" transform=\"translate(557.36,100)\"><rect class=\"bg\" height=\"181\" shape-rendering=\"crispEdges\" style=\"stroke: rgb(68, 68, 68); stroke-opacity: 1; fill: rgb(255, 255, 255); fill-opacity: 1; stroke-width: 0px;\" width=\"131\" x=\"0\" y=\"0\"/><g class=\"scrollbox\" clip-path=\"url('#legend28e046')\" transform=\"\"><g class=\"groups\"><g class=\"traces\" style=\"opacity: 1;\" transform=\"translate(0,14.5)\"><text class=\"legendtext\" style=\"font-family: 'Open Sans', verdana, arial, sans-serif; font-size: 12px; fill: rgb(42, 63, 95); fill-opacity: 1; white-space: pre;\" text-anchor=\"start\" x=\"40\" y=\"4.680000000000001\">home</text><g class=\"layers\" style=\"opacity: 1;\"><g class=\"legendfill\"/><g class=\"legendlines\"/><g class=\"legendsymbols\"><g class=\"legendpoints\"><path class=\"legendpie\" d=\"M6,6H-6V-6H6Z\" style=\"stroke-width: 1; fill: rgb(237, 106, 90); fill-opacity: 1; stroke: rgb(211, 211, 211); stroke-opacity: 1;\" transform=\"translate(20,0)\"/></g></g></g><rect class=\"legendtoggle\" height=\"19\" style=\"fill: rgb(0, 0, 0); fill-opacity: 0;\" width=\"125.625\" x=\"0\" y=\"-9.5\"/></g><g class=\"traces\" style=\"opacity: 1;\" transform=\"translate(0,33.5)\"><text class=\"legendtext\" style=\"font-family: 'Open Sans', verdana, arial, sans-serif; font-size: 12px; fill: rgb(42, 63, 95); fill-opacity: 1; white-space: pre;\" text-anchor=\"start\" x=\"40\" y=\"4.680000000000001\">lifestyle</text><g class=\"layers\" style=\"opacity: 1;\"><g class=\"legendfill\"/><g class=\"legendlines\"/><g class=\"legendsymbols\"><g class=\"legendpoints\"><path class=\"legendpie\" d=\"M6,6H-6V-6H6Z\" style=\"stroke-width: 1; fill: rgb(255, 170, 90); fill-opacity: 1; stroke: rgb(211, 211, 211); stroke-opacity: 1;\" transform=\"translate(20,0)\"/></g></g></g><rect class=\"legendtoggle\" height=\"19\" style=\"fill: rgb(0, 0, 0); fill-opacity: 0;\" width=\"125.625\" x=\"0\" y=\"-9.5\"/></g><g class=\"traces\" style=\"opacity: 1;\" transform=\"translate(0,52.5)\"><text class=\"legendtext\" style=\"font-family: 'Open Sans', verdana, arial, sans-serif; font-size: 12px; fill: rgb(42, 63, 95); fill-opacity: 1; white-space: pre;\" text-anchor=\"start\" x=\"40\" y=\"4.680000000000001\">food</text><g class=\"layers\" style=\"opacity: 1;\"><g class=\"legendfill\"/><g class=\"legendlines\"/><g class=\"legendsymbols\"><g class=\"legendpoints\"><path class=\"legendpie\" d=\"M6,6H-6V-6H6Z\" style=\"stroke-width: 1; fill: rgb(255, 215, 0); fill-opacity: 1; stroke: rgb(211, 211, 211); stroke-opacity: 1;\" transform=\"translate(20,0)\"/></g></g></g><rect class=\"legendtoggle\" height=\"19\" style=\"fill: rgb(0, 0, 0); fill-opacity: 0;\" width=\"125.625\" x=\"0\" y=\"-9.5\"/></g><g class=\"traces\" style=\"opacity: 1;\" transform=\"translate(0,71.5)\"><text class=\"legendtext\" style=\"font-family: 'Open Sans', verdana, arial, sans-serif; font-size: 12px; fill: rgb(42, 63, 95); fill-opacity: 1; white-space: pre;\" text-anchor=\"start\" x=\"40\" y=\"4.680000000000001\">debt</text><g class=\"layers\" style=\"opacity: 1;\"><g class=\"legendfill\"/><g class=\"legendlines\"/><g class=\"legendsymbols\"><g class=\"legendpoints\"><path class=\"legendpie\" d=\"M6,6H-6V-6H6Z\" style=\"stroke-width: 1; fill: rgb(144, 238, 144); fill-opacity: 1; stroke: rgb(211, 211, 211); stroke-opacity: 1;\" transform=\"translate(20,0)\"/></g></g></g><rect class=\"legendtoggle\" height=\"19\" style=\"fill: rgb(0, 0, 0); fill-opacity: 0;\" width=\"125.625\" x=\"0\" y=\"-9.5\"/></g><g class=\"traces\" style=\"opacity: 1;\" transform=\"translate(0,90.5)\"><text class=\"legendtext\" style=\"font-family: 'Open Sans', verdana, arial, sans-serif; font-size: 12px; fill: rgb(42, 63, 95); fill-opacity: 1; white-space: pre;\" text-anchor=\"start\" x=\"40\" y=\"4.680000000000001\">savings</text><g class=\"layers\" style=\"opacity: 1;\"><g class=\"legendfill\"/><g class=\"legendlines\"/><g class=\"legendsymbols\"><g class=\"legendpoints\"><path class=\"legendpie\" d=\"M6,6H-6V-6H6Z\" style=\"stroke-width: 1; fill: rgb(72, 209, 204); fill-opacity: 1; stroke: rgb(211, 211, 211); stroke-opacity: 1;\" transform=\"translate(20,0)\"/></g></g></g><rect class=\"legendtoggle\" height=\"19\" style=\"fill: rgb(0, 0, 0); fill-opacity: 0;\" width=\"125.625\" x=\"0\" y=\"-9.5\"/></g><g class=\"traces\" style=\"opacity: 1;\" transform=\"translate(0,109.5)\"><text class=\"legendtext\" style=\"font-family: 'Open Sans', verdana, arial, sans-serif; font-size: 12px; fill: rgb(42, 63, 95); fill-opacity: 1; white-space: pre;\" text-anchor=\"start\" x=\"40\" y=\"4.680000000000001\">utility</text><g class=\"layers\" style=\"opacity: 1;\"><g class=\"legendfill\"/><g class=\"legendlines\"/><g class=\"legendsymbols\"><g class=\"legendpoints\"><path class=\"legendpie\" d=\"M6,6H-6V-6H6Z\" style=\"stroke-width: 1; fill: rgb(173, 216, 230); fill-opacity: 1; stroke: rgb(211, 211, 211); stroke-opacity: 1;\" transform=\"translate(20,0)\"/></g></g></g><rect class=\"legendtoggle\" height=\"19\" style=\"fill: rgb(0, 0, 0); fill-opacity: 0;\" width=\"125.625\" x=\"0\" y=\"-9.5\"/></g><g class=\"traces\" style=\"opacity: 1;\" transform=\"translate(0,128.5)\"><text class=\"legendtext\" style=\"font-family: 'Open Sans', verdana, arial, sans-serif; font-size: 12px; fill: rgb(42, 63, 95); fill-opacity: 1; white-space: pre;\" text-anchor=\"start\" x=\"40\" y=\"4.680000000000001\">transportation</text><g class=\"layers\" style=\"opacity: 1;\"><g class=\"legendfill\"/><g class=\"legendlines\"/><g class=\"legendsymbols\"><g class=\"legendpoints\"><path class=\"legendpie\" d=\"M6,6H-6V-6H6Z\" style=\"stroke-width: 1; fill: rgb(211, 211, 211); fill-opacity: 1; stroke: rgb(211, 211, 211); stroke-opacity: 1;\" transform=\"translate(20,0)\"/></g></g></g><rect class=\"legendtoggle\" height=\"19\" style=\"fill: rgb(0, 0, 0); fill-opacity: 0;\" width=\"125.625\" x=\"0\" y=\"-9.5\"/></g><g class=\"traces\" style=\"opacity: 1;\" transform=\"translate(0,147.5)\"><text class=\"legendtext\" style=\"font-family: 'Open Sans', verdana, arial, sans-serif; font-size: 12px; fill: rgb(42, 63, 95); fill-opacity: 1; white-space: pre;\" text-anchor=\"start\" x=\"40\" y=\"4.680000000000001\">unspent</text><g class=\"layers\" style=\"opacity: 1;\"><g class=\"legendfill\"/><g class=\"legendlines\"/><g class=\"legendsymbols\"><g class=\"legendpoints\"><path class=\"legendpie\" d=\"M6,6H-6V-6H6Z\" style=\"stroke-width: 1; fill: rgb(255, 160, 122); fill-opacity: 1; stroke: rgb(211, 211, 211); stroke-opacity: 1;\" transform=\"translate(20,0)\"/></g></g></g><rect class=\"legendtoggle\" height=\"19\" style=\"fill: rgb(0, 0, 0); fill-opacity: 0;\" width=\"125.625\" x=\"0\" y=\"-9.5\"/></g><g class=\"traces\" style=\"opacity: 1;\" transform=\"translate(0,166.5)\"><text class=\"legendtext\" style=\"font-family: 'Open Sans', verdana, arial, sans-serif; font-size: 12px; fill: rgb(42, 63, 95); fill-opacity: 1; white-space: pre;\" text-anchor=\"start\" x=\"40\" y=\"4.680000000000001\">overage</text><g class=\"layers\" style=\"opacity: 1;\"><g class=\"legendfill\"/><g class=\"legendlines\"/><g class=\"legendsymbols\"><g class=\"legendpoints\"><path class=\"legendpie\" d=\"M6,6H-6V-6H6Z\" style=\"stroke-width: 1; fill: rgb(255, 255, 255); fill-opacity: 1; stroke: rgb(211, 211, 211); stroke-opacity: 1;\" transform=\"translate(20,0)\"/></g></g></g><rect class=\"legendtoggle\" height=\"19\" style=\"fill: rgb(0, 0, 0); fill-opacity: 0;\" width=\"125.625\" x=\"0\" y=\"-9.5\"/></g></g></g><rect class=\"scrollbar\" height=\"0\" rx=\"20\" ry=\"3\" style=\"fill: rgb(128, 139, 164); fill-opacity: 1;\" width=\"0\" x=\"0\" y=\"0\"/></g><g class=\"g-gtitle\"><text class=\"gtitle\" dy=\"0em\" style=\"font-family: 'Open Sans', verdana, arial, sans-serif; font-size: 17px; fill: rgb(42, 63, 95); opacity: 1; font-weight: normal; white-space: pre;\" text-anchor=\"start\" x=\"35\" y=\"50\">Budget vs Actual</text></g><g class=\"annotation\" data-index=\"0\" style=\"opacity: 1;\"><g class=\"annotation-text-g\" transform=\"rotate(0,193.60000000000002,245)\"><g class=\"cursor-pointer\" transform=\"translate(174,237)\"><rect class=\"bg\" height=\"15\" style=\"stroke-width: 1px; stroke: rgb(0, 0, 0); stroke-opacity: 0; fill: rgb(0, 0, 0); fill-opacity: 0;\" width=\"39\" x=\"0.5\" y=\"0.5\"/><text class=\"annotation-text\" style=\"font-family: 'Open Sans', verdana, arial, sans-serif; font-size: 10px; fill: rgb(42, 63, 95); fill-opacity: 1; white-space: pre;\" text-anchor=\"middle\" x=\"19.78125\" y=\"12\">Budget</text></g></g></g><g class=\"annotation\" data-index=\"1\" style=\"opacity: 1;\"><g class=\"annotation-text-g\" transform=\"rotate(0,436.90000000000003,245)\"><g class=\"cursor-pointer\" transform=\"translate(419,237)\"><rect class=\"bg\" height=\"15\" style=\"stroke-width: 1px; stroke: rgb(0, 0, 0); stroke-opacity: 0; fill: rgb(0, 0, 0); fill-opacity: 0;\" width=\"34\" x=\"0.5\" y=\"0.5\"/><text class=\"annotation-text\" style=\"font-family: 'Open Sans', verdana, arial, sans-serif; font-size: 10px; fill: rgb(42, 63, 95); fill-opacity: 1; white-space: pre;\" text-anchor=\"middle\" x=\"17.546875\" y=\"12\">Actual</text></g></g></g></g></svg>"
      ],
      "text/plain": [
       "<IPython.core.display.SVG object>"
      ]
     },
     "metadata": {},
     "output_type": "display_data"
    }
   ],
   "source": [
    "import plotly.graph_objects as go\n",
    "from plotly.subplots import make_subplots\n",
    "\n",
    "labels = pie_group.category\n",
    "\n",
    "# Create subplots: use 'domain' type for Pie subplot\n",
    "fig = make_subplots(rows=1, cols=2, specs=[[{'type':'domain'}, {'type':'domain'}]])\n",
    "\n",
    "fig.add_trace(go.Pie(\n",
    "    labels=pie_group.category,\n",
    "    values=pie_group.allocated,\n",
    "    name=\"Essential\"),\n",
    "              1, 1)\n",
    "fig.add_trace(go.Pie(\n",
    "    labels=pie_group.category, \n",
    "    values=list(pie_group.actual), \n",
    "    name=\"Non-Essential\"),\n",
    "              1, 2)\n",
    "\n",
    "# Use `hole` to create a donut-like pie chart\n",
    "fig.update_traces(hole=.4, hoverinfo=\"label+percent+name\", textinfo='label + percent', marker=dict(colors=soft_colors[:len(labels)], line=dict(color='lightgrey', width=1)))\n",
    "\n",
    "fig.update_layout(\n",
    "    title_text=\"Budget vs Actual\",\n",
    "    # Add annotations in the center of the donut pies.\n",
    "    annotations=[dict(text='Budget', x=0.20, y=0.5, font_size=10, showarrow=False),\n",
    "                 dict(text='Actual', x=0.80, y=0.5, font_size=10, showarrow=False)])\n",
    "fig.write_image('donut_budget_V_actual.svg')\n",
    "#fig.show()\n",
    "show_svg('donut_budget_V_actual')"
   ]
  },
  {
   "cell_type": "code",
   "execution_count": null,
   "id": "1346e904",
   "metadata": {},
   "outputs": [],
   "source": []
  }
 ],
 "metadata": {
  "kernelspec": {
   "display_name": "Python 3 (ipykernel)",
   "language": "python",
   "name": "python3"
  },
  "language_info": {
   "codemirror_mode": {
    "name": "ipython",
    "version": 3
   },
   "file_extension": ".py",
   "mimetype": "text/x-python",
   "name": "python",
   "nbconvert_exporter": "python",
   "pygments_lexer": "ipython3",
   "version": "3.7.7"
  }
 },
 "nbformat": 4,
 "nbformat_minor": 5
}
