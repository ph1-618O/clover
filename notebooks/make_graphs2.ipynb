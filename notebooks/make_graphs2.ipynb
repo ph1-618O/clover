{
 "cells": [
  {
   "cell_type": "markdown",
   "metadata": {},
   "source": [
    "# DEPENDENCIES"
   ]
  },
  {
   "cell_type": "markdown",
   "metadata": {},
   "source": [
    "-------------------------------------------------------------------------------------------------------------------"
   ]
  },
  {
   "cell_type": "code",
   "execution_count": 1,
   "metadata": {},
   "outputs": [],
   "source": [
    "#!/usr/bin/env python3\n",
    "# coding: utf-8\n",
    "\n",
    "# color pallet greens https://coolors.co/34463e-a4c3b2-cce3de-eaf4f4-f6fff8\n",
    "# color pallet secondary https://coolors.co/353535-3c6e71-ffffff-d9d9d9-284b63\n",
    "\n",
    "import numpy as np\n",
    "import plotly.graph_objects as go\n",
    "import plotly.io as pio\n",
    "import pandas as pd\n",
    "import os\n",
    "import datetime\n",
    "from colour import Color\n",
    "from colr import color\n",
    "\n",
    "#Orca must be installed?\n",
    "#conda install -c plotly plotly-orca\n",
    "#Kaleido is for exporting images from plotly\n",
    "#pip install -U kaleido"
   ]
  },
  {
   "cell_type": "markdown",
   "metadata": {},
   "source": [
    "# Colors"
   ]
  },
  {
   "cell_type": "markdown",
   "metadata": {},
   "source": [
    "----"
   ]
  },
  {
   "cell_type": "code",
   "execution_count": 2,
   "metadata": {},
   "outputs": [
    {
     "name": "stdout",
     "output_type": "stream",
     "text": [
      "10\n"
     ]
    }
   ],
   "source": [
    "rainbow_colors = ['#F94144', '#f3722c', '#F9844A', '#f8961e', '#F9C74F', '#90BE6D', '#43AA8B', '#4D908E', '#277DA1', '#577590']\n",
    "print(len(rainbow_colors))"
   ]
  },
  {
   "cell_type": "code",
   "execution_count": 3,
   "metadata": {},
   "outputs": [
    {
     "name": "stdout",
     "output_type": "stream",
     "text": [
      "64\n"
     ]
    }
   ],
   "source": [
    "red_orange = ['#F94144' ,'#F94A40', '#F9543C', '#F95D37', '#F96733', '#F8702F', '#F87A2B', '#F88326', '#F88D22', '#F8961E']\n",
    "orange_yellow = ['#F89B23', '#F8A129', '#F8A62E', '#F8AC34', '#F9B139', '#F9B73F', '#F9BC44', '#F9C24A', '#F9C74F']\n",
    "yellow_green = ['#EDC652', '#E2C556','#D6C459', '#CAC35C', '#BFC260', '#B3C163', '#A7C066', '#9CBF6A', '#90BE6D',]\n",
    "green_cyan = ['#88BC70', '#87BC70', '#7FBA74', '#76B777', '#6EB57A', '#65B37E','#55B082', '#54AE84', '#4CAC88']\n",
    "cyan_deepcyan = ['#43AA8B', '#44A78B', '#45A48C', '#479E8C', '#499C8D', '#4A998D', '#4B968D', '#4C968D', '#4D908E']\n",
    "deepcyan_blue = ['#498E90','#458C92', '#408A94', '#3C8896', '#388599', '#34839B', '#2F819D', '#2B7F9F', '#277DA1']\n",
    "blue_darkblue = ['#2C7C9F', '#327B9D', '#377A9B', '#3C7999', '#427998', '#477896', '#4C7794', '#527692', '#577590']\n",
    "\n",
    "gradient = red_orange + orange_yellow + yellow_green + green_cyan + cyan_deepcyan + deepcyan_blue + blue_darkblue\n",
    "print(len(gradient))\n",
    "# gradient = red_orange + orange_yellow + yellow_green + cyan_deepcyan + deepcyan_blue + blue_darkblue\n",
    "# print(len(gradient))"
   ]
  },
  {
   "cell_type": "code",
   "execution_count": 4,
   "metadata": {},
   "outputs": [],
   "source": [
    "def convert_date(df):\n",
    "    import datetime\n",
    "    list_cols = [i.lower() for i in df.columns.tolist()]\n",
    "    test_cols = [\"date\", \"day\", \"time\", \"occurrence\"]\n",
    "    verified_cols = []\n",
    "    for col in list_cols:\n",
    "        for test in test_cols:\n",
    "            if test in col:\n",
    "                verified_cols.append(col)\n",
    "    for tested in verified_cols:\n",
    "        search_dates = df[tested].apply(\n",
    "            lambda x: 'True' if isinstance(x, datetime.date) else 'False')\n",
    "        if not search_dates.any():\n",
    "            p_slash()\n",
    "            print('ALL DATES ARE IN DATETIME SKIPPING')\n",
    "            p_slash()\n",
    "            continue\n",
    "        elif (df[tested].map(type) == str).all():\n",
    "            date_time = []\n",
    "            for j in df[tested]:\n",
    "                if len(j) == 10 and '/' in j:\n",
    "                    date_time.append(\n",
    "                        datetime.datetime.strptime(j, \"%m/%d/%Y\"))\n",
    "                elif len(j) == 8 and '/' in j:\n",
    "                    date_time.append(\n",
    "                        datetime.datetime.strptime(j, \"%m/%d/%y\"))\n",
    "                elif len(j) == 10 and '-' in j:\n",
    "                    date_time.append(\n",
    "                        datetime.datetime.strptime(j, \"%Y-%m-%d\"))\n",
    "                else:\n",
    "                    print(\"UNKNOWN DATE FORMAT SKIPPING FORMATTING\")\n",
    "                    return df\n",
    "            df[tested] = date_time\n",
    "            df[tested] = pd.to_datetime(df[tested]).apply(lambda x: x.date())\n",
    "            df = df.sort_values(\n",
    "                by=[tested]).reset_index(drop=True)\n",
    "            # Want to use sort_values by tested, however, because its a loop it wont choose the primary date col\n",
    "            # df = df.sort_values(\n",
    "            #     by=['date', 'transaction', 'amount']).reset_index(drop=True)\n",
    "            # (by=['date', 'category', 'identifier', 'amount']\n",
    "        else:\n",
    "            print('your dates are a mess, see your programmer')\n",
    "    return df"
   ]
  },
  {
   "cell_type": "markdown",
   "metadata": {},
   "source": [
    "# DATA"
   ]
  },
  {
   "cell_type": "markdown",
   "metadata": {},
   "source": [
    "-------------------------------------------------------------------------------------------------------------------"
   ]
  },
  {
   "cell_type": "code",
   "execution_count": 5,
   "metadata": {},
   "outputs": [],
   "source": [
    "# data_df = pd.read_csv('sample_data_month_categories.csv')\n",
    "data_df = pd.read_csv('../../data/sample.csv')\n",
    "col_names = []\n",
    "for col in data_df.columns:\n",
    "    col_names.append(col)\n",
    "col_data = []\n",
    "for i in col_names:\n",
    "    col_data.append(data_df[i])"
   ]
  },
  {
   "cell_type": "markdown",
   "metadata": {},
   "source": [
    "# Removing Payment Col"
   ]
  },
  {
   "cell_type": "markdown",
   "metadata": {},
   "source": [
    "----"
   ]
  },
  {
   "cell_type": "markdown",
   "metadata": {},
   "source": [
    "- Payment col is a positive float, this messes up graphs later"
   ]
  },
  {
   "cell_type": "code",
   "execution_count": 7,
   "metadata": {},
   "outputs": [
    {
     "data": {
      "text/html": [
       "<div>\n",
       "<style scoped>\n",
       "    .dataframe tbody tr th:only-of-type {\n",
       "        vertical-align: middle;\n",
       "    }\n",
       "\n",
       "    .dataframe tbody tr th {\n",
       "        vertical-align: top;\n",
       "    }\n",
       "\n",
       "    .dataframe thead th {\n",
       "        text-align: right;\n",
       "    }\n",
       "</style>\n",
       "<table border=\"1\" class=\"dataframe\">\n",
       "  <thead>\n",
       "    <tr style=\"text-align: right;\">\n",
       "      <th></th>\n",
       "      <th>Date</th>\n",
       "      <th>Date2</th>\n",
       "      <th>Transaction</th>\n",
       "      <th>Amount</th>\n",
       "    </tr>\n",
       "  </thead>\n",
       "  <tbody>\n",
       "    <tr>\n",
       "      <th>0</th>\n",
       "      <td>04/19/2021</td>\n",
       "      <td>04/16/2021</td>\n",
       "      <td>BOJANGLES 1931 ARLINGTON PA</td>\n",
       "      <td>-$20.00</td>\n",
       "    </tr>\n",
       "    <tr>\n",
       "      <th>1</th>\n",
       "      <td>04/19/2021</td>\n",
       "      <td>04/16/2021</td>\n",
       "      <td>SHELL OIL 45468787999 BOSTON, MA</td>\n",
       "      <td>-$8.46</td>\n",
       "    </tr>\n",
       "    <tr>\n",
       "      <th>2</th>\n",
       "      <td>04/19/2021</td>\n",
       "      <td>04/16/2021</td>\n",
       "      <td>MAPCO 1571 FLOWER, FL</td>\n",
       "      <td>-$7.67</td>\n",
       "    </tr>\n",
       "    <tr>\n",
       "      <th>3</th>\n",
       "      <td>04/16/2021</td>\n",
       "      <td>04/14/2021</td>\n",
       "      <td>PHYSICIANS OFFICE 888-666-2424 AL</td>\n",
       "      <td>-$49.95</td>\n",
       "    </tr>\n",
       "    <tr>\n",
       "      <th>4</th>\n",
       "      <td>04/15/2021</td>\n",
       "      <td>04/14/2021</td>\n",
       "      <td>FOOD LION #8457 CHINA LAKE CA</td>\n",
       "      <td>-$69.99</td>\n",
       "    </tr>\n",
       "    <tr>\n",
       "      <th>5</th>\n",
       "      <td>04/15/2021</td>\n",
       "      <td>04/13/2021</td>\n",
       "      <td>PAYPAL *PURCHASE 555-634-1921 CA</td>\n",
       "      <td>-$39.99</td>\n",
       "    </tr>\n",
       "    <tr>\n",
       "      <th>6</th>\n",
       "      <td>04/14/2021</td>\n",
       "      <td>04/13/2021</td>\n",
       "      <td>AMZN Mktp US*FB12334 Amzn.com/billWA</td>\n",
       "      <td>-$23.45</td>\n",
       "    </tr>\n",
       "    <tr>\n",
       "      <th>7</th>\n",
       "      <td>04/14/2021</td>\n",
       "      <td>04/13/2021</td>\n",
       "      <td>RITE AID 1574 LITTLE ROCK AK</td>\n",
       "      <td>-$5.09</td>\n",
       "    </tr>\n",
       "    <tr>\n",
       "      <th>8</th>\n",
       "      <td>04/14/2021</td>\n",
       "      <td>04/12/2021</td>\n",
       "      <td>TRELLO.COM, ATLASSIAN 888-942-1573 NY</td>\n",
       "      <td>-$7.40</td>\n",
       "    </tr>\n",
       "    <tr>\n",
       "      <th>9</th>\n",
       "      <td>04/13/2021</td>\n",
       "      <td>04/12/2021</td>\n",
       "      <td>VZWRLSS*APOCC VISW 800-922-0204 FL</td>\n",
       "      <td>-$220.50</td>\n",
       "    </tr>\n",
       "    <tr>\n",
       "      <th>10</th>\n",
       "      <td>04/12/2021</td>\n",
       "      <td>04/11/2021</td>\n",
       "      <td>PLAZA AZTECA LITTLE ROCK AK</td>\n",
       "      <td>-$31.84</td>\n",
       "    </tr>\n",
       "    <tr>\n",
       "      <th>11</th>\n",
       "      <td>04/12/2021</td>\n",
       "      <td>04/10/2021</td>\n",
       "      <td>STARBUCKS STORE 56548 APPLEVILLE GA</td>\n",
       "      <td>-$48.39</td>\n",
       "    </tr>\n",
       "    <tr>\n",
       "      <th>12</th>\n",
       "      <td>04/12/2021</td>\n",
       "      <td>04/09/2021</td>\n",
       "      <td>SAN DIEGO SANITATI 888-1645-8911 CA</td>\n",
       "      <td>-$22.66</td>\n",
       "    </tr>\n",
       "    <tr>\n",
       "      <th>13</th>\n",
       "      <td>04/12/2021</td>\n",
       "      <td>04/08/2021</td>\n",
       "      <td>SQ *LEWIS GINTER GARRichmond WV</td>\n",
       "      <td>-$16.09</td>\n",
       "    </tr>\n",
       "    <tr>\n",
       "      <th>14</th>\n",
       "      <td>04/09/2021</td>\n",
       "      <td>04/08/2021</td>\n",
       "      <td>Adobe Inc 888-198884354 CA</td>\n",
       "      <td>-$136.00</td>\n",
       "    </tr>\n",
       "    <tr>\n",
       "      <th>15</th>\n",
       "      <td>04/09/2021</td>\n",
       "      <td>04/08/2021</td>\n",
       "      <td>DOORDASH*BUFFALO WILD WWW.DOORDASH.CA</td>\n",
       "      <td>-$27.50</td>\n",
       "    </tr>\n",
       "    <tr>\n",
       "      <th>16</th>\n",
       "      <td>04/08/2021</td>\n",
       "      <td>04/07/2021</td>\n",
       "      <td>MARY SUES VETERINARY -RICKARTON WV</td>\n",
       "      <td>-$239.00</td>\n",
       "    </tr>\n",
       "    <tr>\n",
       "      <th>17</th>\n",
       "      <td>04/08/2021</td>\n",
       "      <td>04/06/2021</td>\n",
       "      <td>TRACTOR SUPPLY #5555 NEWARK NY</td>\n",
       "      <td>-$6.86</td>\n",
       "    </tr>\n",
       "    <tr>\n",
       "      <th>18</th>\n",
       "      <td>04/07/2021</td>\n",
       "      <td>04/06/2021</td>\n",
       "      <td>WALGREENS #8885 MARTINSBURG NC</td>\n",
       "      <td>-$44.27</td>\n",
       "    </tr>\n",
       "    <tr>\n",
       "      <th>19</th>\n",
       "      <td>04/07/2021</td>\n",
       "      <td>04/05/2021</td>\n",
       "      <td>JAPANESE RESTAURANT MARTINSBURG NC</td>\n",
       "      <td>-$49.00</td>\n",
       "    </tr>\n",
       "    <tr>\n",
       "      <th>20</th>\n",
       "      <td>04/06/2021</td>\n",
       "      <td>04/05/2021</td>\n",
       "      <td>HOME DEPOT #11154 MARTINSBURG NC</td>\n",
       "      <td>-$105.95</td>\n",
       "    </tr>\n",
       "    <tr>\n",
       "      <th>21</th>\n",
       "      <td>04/06/2021</td>\n",
       "      <td>04/05/2021</td>\n",
       "      <td>KROGER #456 MARTINSBURG NC</td>\n",
       "      <td>-$229.12</td>\n",
       "    </tr>\n",
       "    <tr>\n",
       "      <th>22</th>\n",
       "      <td>06/19/2021</td>\n",
       "      <td>06/19/2021</td>\n",
       "      <td>BOJANGLES 1931 ARLINGTON PA</td>\n",
       "      <td>-$20.00</td>\n",
       "    </tr>\n",
       "    <tr>\n",
       "      <th>23</th>\n",
       "      <td>06/19/2021</td>\n",
       "      <td>06/19/2021</td>\n",
       "      <td>SHELL OIL 45468787999 BOSTON, MA</td>\n",
       "      <td>-$8.46</td>\n",
       "    </tr>\n",
       "    <tr>\n",
       "      <th>24</th>\n",
       "      <td>06/19/2021</td>\n",
       "      <td>06/19/2021</td>\n",
       "      <td>MAPCO 1571 FLOWER, FL</td>\n",
       "      <td>-$7.67</td>\n",
       "    </tr>\n",
       "    <tr>\n",
       "      <th>25</th>\n",
       "      <td>06/16/2021</td>\n",
       "      <td>06/16/2021</td>\n",
       "      <td>PHYSICIANS OFFICE 888-666-2424 AL</td>\n",
       "      <td>-$49.95</td>\n",
       "    </tr>\n",
       "    <tr>\n",
       "      <th>26</th>\n",
       "      <td>06/15/2021</td>\n",
       "      <td>06/15/2021</td>\n",
       "      <td>FOOD LION #8457 CHINA LAKE CA</td>\n",
       "      <td>-$69.99</td>\n",
       "    </tr>\n",
       "    <tr>\n",
       "      <th>27</th>\n",
       "      <td>06/15/2021</td>\n",
       "      <td>06/15/2021</td>\n",
       "      <td>PAYPAL *PURCHASE 555-634-1921 CA</td>\n",
       "      <td>-$39.99</td>\n",
       "    </tr>\n",
       "    <tr>\n",
       "      <th>28</th>\n",
       "      <td>05/14/2021</td>\n",
       "      <td>05/14/2021</td>\n",
       "      <td>AMZN Mktp US*FB12334 Amzn.com/billWA</td>\n",
       "      <td>-$23.45</td>\n",
       "    </tr>\n",
       "    <tr>\n",
       "      <th>29</th>\n",
       "      <td>05/14/2021</td>\n",
       "      <td>05/14/2021</td>\n",
       "      <td>BOJANGLES 1931 ARLINGTON PA</td>\n",
       "      <td>-$20.00</td>\n",
       "    </tr>\n",
       "    <tr>\n",
       "      <th>30</th>\n",
       "      <td>05/31/2021</td>\n",
       "      <td>05/31/2021</td>\n",
       "      <td>RITE AID 1574 LITTLE ROCK AK</td>\n",
       "      <td>-$5.09</td>\n",
       "    </tr>\n",
       "    <tr>\n",
       "      <th>31</th>\n",
       "      <td>06/13/2021</td>\n",
       "      <td>06/13/2021</td>\n",
       "      <td>TRELLO.COM, ATLASSIAN 888-942-1573 NY</td>\n",
       "      <td>-$7.40</td>\n",
       "    </tr>\n",
       "    <tr>\n",
       "      <th>32</th>\n",
       "      <td>05/12/2021</td>\n",
       "      <td>05/12/2021</td>\n",
       "      <td>VZWRLSS*APOCC VISW 800-922-0204 FL</td>\n",
       "      <td>-$220.50</td>\n",
       "    </tr>\n",
       "    <tr>\n",
       "      <th>33</th>\n",
       "      <td>05/12/2021</td>\n",
       "      <td>05/12/2021</td>\n",
       "      <td>PLAZA AZTECA LITTLE ROCK AK</td>\n",
       "      <td>-$31.84</td>\n",
       "    </tr>\n",
       "    <tr>\n",
       "      <th>34</th>\n",
       "      <td>05/12/2021</td>\n",
       "      <td>05/12/2021</td>\n",
       "      <td>STARBUCKS STORE 56548 APPLEVILLE GA</td>\n",
       "      <td>-$48.39</td>\n",
       "    </tr>\n",
       "    <tr>\n",
       "      <th>35</th>\n",
       "      <td>05/12/2021</td>\n",
       "      <td>05/12/2021</td>\n",
       "      <td>BOJANGLES 1931 ARLINGTON PA</td>\n",
       "      <td>-$20.00</td>\n",
       "    </tr>\n",
       "    <tr>\n",
       "      <th>36</th>\n",
       "      <td>05/09/2021</td>\n",
       "      <td>05/09/2021</td>\n",
       "      <td>VZWRLSS*APOCC VISW 800-922-0204 FL</td>\n",
       "      <td>-$220.50</td>\n",
       "    </tr>\n",
       "    <tr>\n",
       "      <th>37</th>\n",
       "      <td>05/09/2021</td>\n",
       "      <td>05/09/2021</td>\n",
       "      <td>PLAZA AZTECA LITTLE ROCK AK</td>\n",
       "      <td>-$31.84</td>\n",
       "    </tr>\n",
       "    <tr>\n",
       "      <th>38</th>\n",
       "      <td>05/08/2021</td>\n",
       "      <td>05/08/2021</td>\n",
       "      <td>STARBUCKS STORE 56548 APPLEVILLE GA</td>\n",
       "      <td>-$48.39</td>\n",
       "    </tr>\n",
       "    <tr>\n",
       "      <th>39</th>\n",
       "      <td>05/08/2021</td>\n",
       "      <td>05/08/2021</td>\n",
       "      <td>SAN DIEGO SANITATI 888-1645-8911 CA</td>\n",
       "      <td>-$22.66</td>\n",
       "    </tr>\n",
       "    <tr>\n",
       "      <th>40</th>\n",
       "      <td>05/07/2021</td>\n",
       "      <td>05/07/2021</td>\n",
       "      <td>SQ *LEWIS GINTER GARRichmond WV</td>\n",
       "      <td>-$16.09</td>\n",
       "    </tr>\n",
       "    <tr>\n",
       "      <th>41</th>\n",
       "      <td>06/07/2021</td>\n",
       "      <td>06/07/2021</td>\n",
       "      <td>Adobe Inc 888-198884354 CA</td>\n",
       "      <td>-$136.00</td>\n",
       "    </tr>\n",
       "    <tr>\n",
       "      <th>42</th>\n",
       "      <td>06/06/2021</td>\n",
       "      <td>06/06/2021</td>\n",
       "      <td>DOORDASH*BUFFALO WILD WWW.DOORDASH.CA</td>\n",
       "      <td>-$27.50</td>\n",
       "    </tr>\n",
       "    <tr>\n",
       "      <th>43</th>\n",
       "      <td>06/06/2021</td>\n",
       "      <td>06/06/2021</td>\n",
       "      <td>MARY SUES VETERINARY -RICKARTON WV</td>\n",
       "      <td>-$239.00</td>\n",
       "    </tr>\n",
       "  </tbody>\n",
       "</table>\n",
       "</div>"
      ],
      "text/plain": [
       "          Date       Date2                            Transaction    Amount\n",
       "0   04/19/2021  04/16/2021            BOJANGLES 1931 ARLINGTON PA   -$20.00\n",
       "1   04/19/2021  04/16/2021       SHELL OIL 45468787999 BOSTON, MA    -$8.46\n",
       "2   04/19/2021  04/16/2021                  MAPCO 1571 FLOWER, FL    -$7.67\n",
       "3   04/16/2021  04/14/2021      PHYSICIANS OFFICE 888-666-2424 AL   -$49.95\n",
       "4   04/15/2021  04/14/2021          FOOD LION #8457 CHINA LAKE CA   -$69.99\n",
       "5   04/15/2021  04/13/2021       PAYPAL *PURCHASE 555-634-1921 CA   -$39.99\n",
       "6   04/14/2021  04/13/2021   AMZN Mktp US*FB12334 Amzn.com/billWA   -$23.45\n",
       "7   04/14/2021  04/13/2021           RITE AID 1574 LITTLE ROCK AK    -$5.09\n",
       "8   04/14/2021  04/12/2021  TRELLO.COM, ATLASSIAN 888-942-1573 NY    -$7.40\n",
       "9   04/13/2021  04/12/2021     VZWRLSS*APOCC VISW 800-922-0204 FL  -$220.50\n",
       "10  04/12/2021  04/11/2021            PLAZA AZTECA LITTLE ROCK AK   -$31.84\n",
       "11  04/12/2021  04/10/2021    STARBUCKS STORE 56548 APPLEVILLE GA   -$48.39\n",
       "12  04/12/2021  04/09/2021    SAN DIEGO SANITATI 888-1645-8911 CA   -$22.66\n",
       "13  04/12/2021  04/08/2021        SQ *LEWIS GINTER GARRichmond WV   -$16.09\n",
       "14  04/09/2021  04/08/2021             Adobe Inc 888-198884354 CA  -$136.00\n",
       "15  04/09/2021  04/08/2021  DOORDASH*BUFFALO WILD WWW.DOORDASH.CA   -$27.50\n",
       "16  04/08/2021  04/07/2021     MARY SUES VETERINARY -RICKARTON WV  -$239.00\n",
       "17  04/08/2021  04/06/2021         TRACTOR SUPPLY #5555 NEWARK NY    -$6.86\n",
       "18  04/07/2021  04/06/2021         WALGREENS #8885 MARTINSBURG NC   -$44.27\n",
       "19  04/07/2021  04/05/2021     JAPANESE RESTAURANT MARTINSBURG NC   -$49.00\n",
       "20  04/06/2021  04/05/2021       HOME DEPOT #11154 MARTINSBURG NC  -$105.95\n",
       "21  04/06/2021  04/05/2021             KROGER #456 MARTINSBURG NC  -$229.12\n",
       "22  06/19/2021  06/19/2021            BOJANGLES 1931 ARLINGTON PA   -$20.00\n",
       "23  06/19/2021  06/19/2021       SHELL OIL 45468787999 BOSTON, MA    -$8.46\n",
       "24  06/19/2021  06/19/2021                  MAPCO 1571 FLOWER, FL    -$7.67\n",
       "25  06/16/2021  06/16/2021      PHYSICIANS OFFICE 888-666-2424 AL   -$49.95\n",
       "26  06/15/2021  06/15/2021          FOOD LION #8457 CHINA LAKE CA   -$69.99\n",
       "27  06/15/2021  06/15/2021       PAYPAL *PURCHASE 555-634-1921 CA   -$39.99\n",
       "28  05/14/2021  05/14/2021   AMZN Mktp US*FB12334 Amzn.com/billWA   -$23.45\n",
       "29  05/14/2021  05/14/2021            BOJANGLES 1931 ARLINGTON PA   -$20.00\n",
       "30  05/31/2021  05/31/2021           RITE AID 1574 LITTLE ROCK AK    -$5.09\n",
       "31  06/13/2021  06/13/2021  TRELLO.COM, ATLASSIAN 888-942-1573 NY    -$7.40\n",
       "32  05/12/2021  05/12/2021     VZWRLSS*APOCC VISW 800-922-0204 FL  -$220.50\n",
       "33  05/12/2021  05/12/2021            PLAZA AZTECA LITTLE ROCK AK   -$31.84\n",
       "34  05/12/2021  05/12/2021    STARBUCKS STORE 56548 APPLEVILLE GA   -$48.39\n",
       "35  05/12/2021  05/12/2021            BOJANGLES 1931 ARLINGTON PA   -$20.00\n",
       "36  05/09/2021  05/09/2021     VZWRLSS*APOCC VISW 800-922-0204 FL  -$220.50\n",
       "37  05/09/2021  05/09/2021            PLAZA AZTECA LITTLE ROCK AK   -$31.84\n",
       "38  05/08/2021  05/08/2021    STARBUCKS STORE 56548 APPLEVILLE GA   -$48.39\n",
       "39  05/08/2021  05/08/2021    SAN DIEGO SANITATI 888-1645-8911 CA   -$22.66\n",
       "40  05/07/2021  05/07/2021        SQ *LEWIS GINTER GARRichmond WV   -$16.09\n",
       "41  06/07/2021  06/07/2021             Adobe Inc 888-198884354 CA  -$136.00\n",
       "42  06/06/2021  06/06/2021  DOORDASH*BUFFALO WILD WWW.DOORDASH.CA   -$27.50\n",
       "43  06/06/2021  06/06/2021     MARY SUES VETERINARY -RICKARTON WV  -$239.00"
      ]
     },
     "execution_count": 7,
     "metadata": {},
     "output_type": "execute_result"
    }
   ],
   "source": [
    "data_df"
   ]
  },
  {
   "cell_type": "code",
   "execution_count": 6,
   "metadata": {
    "scrolled": true
   },
   "outputs": [
    {
     "ename": "KeyError",
     "evalue": "'date'",
     "output_type": "error",
     "traceback": [
      "\u001b[0;31m---------------------------------------------------------------------------\u001b[0m",
      "\u001b[0;31mKeyError\u001b[0m                                  Traceback (most recent call last)",
      "\u001b[0;32m~/anaconda3/lib/python3.7/site-packages/pandas/core/indexes/base.py\u001b[0m in \u001b[0;36mget_loc\u001b[0;34m(self, key, method, tolerance)\u001b[0m\n\u001b[1;32m   2894\u001b[0m             \u001b[0;32mtry\u001b[0m\u001b[0;34m:\u001b[0m\u001b[0;34m\u001b[0m\u001b[0;34m\u001b[0m\u001b[0m\n\u001b[0;32m-> 2895\u001b[0;31m                 \u001b[0;32mreturn\u001b[0m \u001b[0mself\u001b[0m\u001b[0;34m.\u001b[0m\u001b[0m_engine\u001b[0m\u001b[0;34m.\u001b[0m\u001b[0mget_loc\u001b[0m\u001b[0;34m(\u001b[0m\u001b[0mcasted_key\u001b[0m\u001b[0;34m)\u001b[0m\u001b[0;34m\u001b[0m\u001b[0;34m\u001b[0m\u001b[0m\n\u001b[0m\u001b[1;32m   2896\u001b[0m             \u001b[0;32mexcept\u001b[0m \u001b[0mKeyError\u001b[0m \u001b[0;32mas\u001b[0m \u001b[0merr\u001b[0m\u001b[0;34m:\u001b[0m\u001b[0;34m\u001b[0m\u001b[0;34m\u001b[0m\u001b[0m\n",
      "\u001b[0;32mpandas/_libs/index.pyx\u001b[0m in \u001b[0;36mpandas._libs.index.IndexEngine.get_loc\u001b[0;34m()\u001b[0m\n",
      "\u001b[0;32mpandas/_libs/index.pyx\u001b[0m in \u001b[0;36mpandas._libs.index.IndexEngine.get_loc\u001b[0;34m()\u001b[0m\n",
      "\u001b[0;32mpandas/_libs/hashtable_class_helper.pxi\u001b[0m in \u001b[0;36mpandas._libs.hashtable.PyObjectHashTable.get_item\u001b[0;34m()\u001b[0m\n",
      "\u001b[0;32mpandas/_libs/hashtable_class_helper.pxi\u001b[0m in \u001b[0;36mpandas._libs.hashtable.PyObjectHashTable.get_item\u001b[0;34m()\u001b[0m\n",
      "\u001b[0;31mKeyError\u001b[0m: 'date'",
      "\nThe above exception was the direct cause of the following exception:\n",
      "\u001b[0;31mKeyError\u001b[0m                                  Traceback (most recent call last)",
      "\u001b[0;32m<ipython-input-6-e419afb8acfa>\u001b[0m in \u001b[0;36m<module>\u001b[0;34m\u001b[0m\n\u001b[0;32m----> 1\u001b[0;31m \u001b[0mdata_df\u001b[0m \u001b[0;34m=\u001b[0m \u001b[0mconvert_date\u001b[0m\u001b[0;34m(\u001b[0m\u001b[0mdata_df\u001b[0m\u001b[0;34m)\u001b[0m\u001b[0;34m\u001b[0m\u001b[0;34m\u001b[0m\u001b[0m\n\u001b[0m\u001b[1;32m      2\u001b[0m \u001b[0mdata_df\u001b[0m \u001b[0;34m=\u001b[0m \u001b[0mdata_df\u001b[0m\u001b[0;34m.\u001b[0m\u001b[0mloc\u001b[0m\u001b[0;34m[\u001b[0m\u001b[0mdata_df\u001b[0m\u001b[0;34m[\u001b[0m\u001b[0;34m'category'\u001b[0m\u001b[0;34m]\u001b[0m \u001b[0;34m!=\u001b[0m \u001b[0;34m'payment'\u001b[0m\u001b[0;34m]\u001b[0m\u001b[0;34m\u001b[0m\u001b[0;34m\u001b[0m\u001b[0m\n\u001b[1;32m      3\u001b[0m \u001b[0mdata_df\u001b[0m \u001b[0;34m=\u001b[0m \u001b[0mdata_df\u001b[0m\u001b[0;34m.\u001b[0m\u001b[0mloc\u001b[0m\u001b[0;34m[\u001b[0m\u001b[0mdata_df\u001b[0m\u001b[0;34m[\u001b[0m\u001b[0;34m'category'\u001b[0m\u001b[0;34m]\u001b[0m \u001b[0;34m!=\u001b[0m \u001b[0;34m'interest'\u001b[0m\u001b[0;34m]\u001b[0m\u001b[0;34m\u001b[0m\u001b[0;34m\u001b[0m\u001b[0m\n\u001b[1;32m      4\u001b[0m \u001b[0mdata_df\u001b[0m\u001b[0;34m\u001b[0m\u001b[0;34m\u001b[0m\u001b[0m\n",
      "\u001b[0;32m<ipython-input-4-749f424a3644>\u001b[0m in \u001b[0;36mconvert_date\u001b[0;34m(df)\u001b[0m\n\u001b[1;32m      9\u001b[0m                 \u001b[0mverified_cols\u001b[0m\u001b[0;34m.\u001b[0m\u001b[0mappend\u001b[0m\u001b[0;34m(\u001b[0m\u001b[0mcol\u001b[0m\u001b[0;34m)\u001b[0m\u001b[0;34m\u001b[0m\u001b[0;34m\u001b[0m\u001b[0m\n\u001b[1;32m     10\u001b[0m     \u001b[0;32mfor\u001b[0m \u001b[0mtested\u001b[0m \u001b[0;32min\u001b[0m \u001b[0mverified_cols\u001b[0m\u001b[0;34m:\u001b[0m\u001b[0;34m\u001b[0m\u001b[0;34m\u001b[0m\u001b[0m\n\u001b[0;32m---> 11\u001b[0;31m         search_dates = df[tested].apply(\n\u001b[0m\u001b[1;32m     12\u001b[0m             lambda x: 'True' if isinstance(x, datetime.date) else 'False')\n\u001b[1;32m     13\u001b[0m         \u001b[0;32mif\u001b[0m \u001b[0;32mnot\u001b[0m \u001b[0msearch_dates\u001b[0m\u001b[0;34m.\u001b[0m\u001b[0many\u001b[0m\u001b[0;34m(\u001b[0m\u001b[0;34m)\u001b[0m\u001b[0;34m:\u001b[0m\u001b[0;34m\u001b[0m\u001b[0;34m\u001b[0m\u001b[0m\n",
      "\u001b[0;32m~/anaconda3/lib/python3.7/site-packages/pandas/core/frame.py\u001b[0m in \u001b[0;36m__getitem__\u001b[0;34m(self, key)\u001b[0m\n\u001b[1;32m   2900\u001b[0m             \u001b[0;32mif\u001b[0m \u001b[0mself\u001b[0m\u001b[0;34m.\u001b[0m\u001b[0mcolumns\u001b[0m\u001b[0;34m.\u001b[0m\u001b[0mnlevels\u001b[0m \u001b[0;34m>\u001b[0m \u001b[0;36m1\u001b[0m\u001b[0;34m:\u001b[0m\u001b[0;34m\u001b[0m\u001b[0;34m\u001b[0m\u001b[0m\n\u001b[1;32m   2901\u001b[0m                 \u001b[0;32mreturn\u001b[0m \u001b[0mself\u001b[0m\u001b[0;34m.\u001b[0m\u001b[0m_getitem_multilevel\u001b[0m\u001b[0;34m(\u001b[0m\u001b[0mkey\u001b[0m\u001b[0;34m)\u001b[0m\u001b[0;34m\u001b[0m\u001b[0;34m\u001b[0m\u001b[0m\n\u001b[0;32m-> 2902\u001b[0;31m             \u001b[0mindexer\u001b[0m \u001b[0;34m=\u001b[0m \u001b[0mself\u001b[0m\u001b[0;34m.\u001b[0m\u001b[0mcolumns\u001b[0m\u001b[0;34m.\u001b[0m\u001b[0mget_loc\u001b[0m\u001b[0;34m(\u001b[0m\u001b[0mkey\u001b[0m\u001b[0;34m)\u001b[0m\u001b[0;34m\u001b[0m\u001b[0;34m\u001b[0m\u001b[0m\n\u001b[0m\u001b[1;32m   2903\u001b[0m             \u001b[0;32mif\u001b[0m \u001b[0mis_integer\u001b[0m\u001b[0;34m(\u001b[0m\u001b[0mindexer\u001b[0m\u001b[0;34m)\u001b[0m\u001b[0;34m:\u001b[0m\u001b[0;34m\u001b[0m\u001b[0;34m\u001b[0m\u001b[0m\n\u001b[1;32m   2904\u001b[0m                 \u001b[0mindexer\u001b[0m \u001b[0;34m=\u001b[0m \u001b[0;34m[\u001b[0m\u001b[0mindexer\u001b[0m\u001b[0;34m]\u001b[0m\u001b[0;34m\u001b[0m\u001b[0;34m\u001b[0m\u001b[0m\n",
      "\u001b[0;32m~/anaconda3/lib/python3.7/site-packages/pandas/core/indexes/base.py\u001b[0m in \u001b[0;36mget_loc\u001b[0;34m(self, key, method, tolerance)\u001b[0m\n\u001b[1;32m   2895\u001b[0m                 \u001b[0;32mreturn\u001b[0m \u001b[0mself\u001b[0m\u001b[0;34m.\u001b[0m\u001b[0m_engine\u001b[0m\u001b[0;34m.\u001b[0m\u001b[0mget_loc\u001b[0m\u001b[0;34m(\u001b[0m\u001b[0mcasted_key\u001b[0m\u001b[0;34m)\u001b[0m\u001b[0;34m\u001b[0m\u001b[0;34m\u001b[0m\u001b[0m\n\u001b[1;32m   2896\u001b[0m             \u001b[0;32mexcept\u001b[0m \u001b[0mKeyError\u001b[0m \u001b[0;32mas\u001b[0m \u001b[0merr\u001b[0m\u001b[0;34m:\u001b[0m\u001b[0;34m\u001b[0m\u001b[0;34m\u001b[0m\u001b[0m\n\u001b[0;32m-> 2897\u001b[0;31m                 \u001b[0;32mraise\u001b[0m \u001b[0mKeyError\u001b[0m\u001b[0;34m(\u001b[0m\u001b[0mkey\u001b[0m\u001b[0;34m)\u001b[0m \u001b[0;32mfrom\u001b[0m \u001b[0merr\u001b[0m\u001b[0;34m\u001b[0m\u001b[0;34m\u001b[0m\u001b[0m\n\u001b[0m\u001b[1;32m   2898\u001b[0m \u001b[0;34m\u001b[0m\u001b[0m\n\u001b[1;32m   2899\u001b[0m         \u001b[0;32mif\u001b[0m \u001b[0mtolerance\u001b[0m \u001b[0;32mis\u001b[0m \u001b[0;32mnot\u001b[0m \u001b[0;32mNone\u001b[0m\u001b[0;34m:\u001b[0m\u001b[0;34m\u001b[0m\u001b[0;34m\u001b[0m\u001b[0m\n",
      "\u001b[0;31mKeyError\u001b[0m: 'date'"
     ]
    }
   ],
   "source": [
    "data_df = convert_date(data_df)\n",
    "data_df = data_df.loc[data_df['category'] != 'payment']\n",
    "data_df = data_df.loc[data_df['category'] != 'interest']\n",
    "data_df"
   ]
  },
  {
   "cell_type": "markdown",
   "metadata": {},
   "source": [
    "# Adding Month and Day Num Cols "
   ]
  },
  {
   "cell_type": "markdown",
   "metadata": {},
   "source": [
    "---"
   ]
  },
  {
   "cell_type": "code",
   "execution_count": null,
   "metadata": {},
   "outputs": [],
   "source": [
    "# Adding a numerical day for data, and a word value for day of week\n",
    "data_df['day'] = pd.DatetimeIndex(data_df['date']).day\n",
    "data_df['long_day'] = list(map(lambda x: datetime.datetime.strptime(str(x), \"%d\").strftime(\"%A\"), data_df['day']))"
   ]
  },
  {
   "cell_type": "code",
   "execution_count": null,
   "metadata": {},
   "outputs": [],
   "source": [
    "# Adding a numerical value col for month and a word value for mo\n",
    "data_df['month'] = pd.DatetimeIndex(data_df['date']).month\n",
    "data_df['long_month'] = list(map(lambda x: datetime.datetime.strptime(str(x), \"%m\").strftime(\"%B\"), data_df['month']))"
   ]
  },
  {
   "cell_type": "code",
   "execution_count": null,
   "metadata": {},
   "outputs": [],
   "source": [
    "# Fixing order\n",
    "reorder = data_df[['month', 'day']].copy(deep=True)\n",
    "data_df = data_df.drop(columns=['month','day'])\n",
    "data_df['month'] = reorder['month']\n",
    "data_df['day'] = reorder['day']"
   ]
  },
  {
   "cell_type": "code",
   "execution_count": null,
   "metadata": {},
   "outputs": [],
   "source": [
    "data_df.head()"
   ]
  },
  {
   "cell_type": "markdown",
   "metadata": {},
   "source": [
    "# Seed Data"
   ]
  },
  {
   "cell_type": "markdown",
   "metadata": {},
   "source": [
    "---"
   ]
  },
  {
   "cell_type": "code",
   "execution_count": null,
   "metadata": {},
   "outputs": [],
   "source": [
    "# Add this in after each run of data\n",
    "#making seed data\n",
    "seed_data = {}\n",
    "for index, row in data_df.iterrows():\n",
    "    if row['category'] not in seed_data.keys():\n",
    "        seed_data[row['category']] = []#[row['identifier']]\n",
    "    if row['identifier'] not in seed_data[row['category']]:\n",
    "        seed_data[row['category']].append(row['identifier'])"
   ]
  },
  {
   "cell_type": "code",
   "execution_count": null,
   "metadata": {},
   "outputs": [],
   "source": [
    "#seed_data"
   ]
  },
  {
   "cell_type": "code",
   "execution_count": null,
   "metadata": {},
   "outputs": [],
   "source": [
    "# How to pull out each category for graphing\n",
    "#data_df.loc[data_df['category'] == 'groceries']"
   ]
  },
  {
   "cell_type": "markdown",
   "metadata": {},
   "source": [
    "# Whole month total for spending"
   ]
  },
  {
   "cell_type": "markdown",
   "metadata": {},
   "source": [
    "---"
   ]
  },
  {
   "cell_type": "code",
   "execution_count": null,
   "metadata": {},
   "outputs": [],
   "source": [
    "month_sum = (data_df.groupby(['month', 'long_month'])['amount'].sum()).to_frame(name='month_sum').reset_index()\n",
    "month_categories = (data_df.groupby(['month', 'category', 'long_month'])['amount'].sum()).to_frame(name='month_sum').reset_index()"
   ]
  },
  {
   "cell_type": "code",
   "execution_count": null,
   "metadata": {},
   "outputs": [],
   "source": [
    "month_sum"
   ]
  },
  {
   "cell_type": "markdown",
   "metadata": {},
   "source": [
    "# Spending by Category summed into Months"
   ]
  },
  {
   "cell_type": "markdown",
   "metadata": {},
   "source": [
    "----"
   ]
  },
  {
   "cell_type": "code",
   "execution_count": null,
   "metadata": {},
   "outputs": [],
   "source": [
    "month_categories = month_categories.loc[month_categories['category'] != 'payment']\n",
    "month_categories = month_categories.sort_values(by=['month', 'month_sum']).reset_index(drop=True)\n",
    "month_categories.head()"
   ]
  },
  {
   "cell_type": "markdown",
   "metadata": {},
   "source": [
    "# STACKED BAR GRAPH"
   ]
  },
  {
   "cell_type": "markdown",
   "metadata": {},
   "source": [
    "-------------------------------------------------------------------------------------------------------------------"
   ]
  },
  {
   "cell_type": "code",
   "execution_count": null,
   "metadata": {},
   "outputs": [],
   "source": [
    "data_df.head()"
   ]
  },
  {
   "cell_type": "code",
   "execution_count": null,
   "metadata": {},
   "outputs": [],
   "source": [
    "type(data_df['amount'][0])"
   ]
  },
  {
   "cell_type": "markdown",
   "metadata": {},
   "source": [
    "# Beginning Month Splitting"
   ]
  },
  {
   "cell_type": "markdown",
   "metadata": {},
   "source": [
    "---"
   ]
  },
  {
   "cell_type": "markdown",
   "metadata": {},
   "source": [
    "- Starting with April"
   ]
  },
  {
   "cell_type": "code",
   "execution_count": null,
   "metadata": {},
   "outputs": [],
   "source": [
    "test = data_df.loc[data_df['month'] == 4]\n",
    "test.tail()"
   ]
  },
  {
   "cell_type": "code",
   "execution_count": null,
   "metadata": {},
   "outputs": [],
   "source": [
    "test = test.sort_values(by=['amount', 'day', 'category']).reset_index(drop=True)"
   ]
  },
  {
   "cell_type": "code",
   "execution_count": null,
   "metadata": {},
   "outputs": [],
   "source": [
    "len(test['category'])"
   ]
  },
  {
   "cell_type": "code",
   "execution_count": null,
   "metadata": {},
   "outputs": [],
   "source": [
    "len(gradient[:len(test['category'])])"
   ]
  },
  {
   "cell_type": "code",
   "execution_count": null,
   "metadata": {},
   "outputs": [],
   "source": [
    "#gradient[:len(test['category'])][::-1]"
   ]
  },
  {
   "cell_type": "code",
   "execution_count": null,
   "metadata": {},
   "outputs": [],
   "source": [
    "# Not enough color values to match len(test['category'] == 73) not sure why i cant reverse it yellow to red"
   ]
  },
  {
   "cell_type": "code",
   "execution_count": null,
   "metadata": {},
   "outputs": [],
   "source": [
    "pos_amount = [float(i)*-1 for i in test['amount']]\n",
    "gradient[:len(test['category'])]\n",
    "import plotly.express as px\n",
    "#wide_df = px.data.medals_wide()\n",
    "fig = px.bar(test,\n",
    "             x=\"day\", y= pos_amount,\n",
    "             color = 'category',\n",
    "             #color_continuous_scale = gradient[:len(test['category'])],#[::-1],\n",
    "             color_discrete_sequence = gradient[:len(test['category'])],\n",
    "             labels={\n",
    "                     \"day\": \"Day of Month\",\n",
    "                     \"y\": \"Amount\",\n",
    "                 },\n",
    "             title=\"Total Spending by Category by Day in April\")\n",
    "fig.update_traces(marker_line_color='grey',\n",
    "                  marker_line_width=0.5, opacity=1)\n",
    "fig.update_layout(\n",
    "        bargap = 0.1)\n",
    "fig.show()"
   ]
  },
  {
   "cell_type": "code",
   "execution_count": null,
   "metadata": {},
   "outputs": [],
   "source": [
    "len(gradient)"
   ]
  },
  {
   "cell_type": "code",
   "execution_count": null,
   "metadata": {},
   "outputs": [],
   "source": [
    "# num_colors = len(cat_order['category'])\n",
    "# num_colors"
   ]
  },
  {
   "cell_type": "code",
   "execution_count": null,
   "metadata": {},
   "outputs": [],
   "source": [
    "rainbow_colors = ['#F94144', '#f3722c', '#F9844A', '#f8961e', '#F9C74F', '#90BE6D', '#43AA8B', '#4D908E', '#277DA1', '#577590']\n",
    "# color= rainbow_colors[:len(cat_order['category'])+1]\n",
    "# num_colors = len(cat_order['category'])"
   ]
  },
  {
   "cell_type": "code",
   "execution_count": null,
   "metadata": {},
   "outputs": [],
   "source": [
    "# len(cat_order['category'])\n",
    "# sym = ['x', '+', '.']\n",
    "# patterns = (len(cat_order['category'])-((round(len(cat_order['category'])/len(sym))) * len(sym))) + (round(len(cat_order['category'])/len(sym))) * len(sym))"
   ]
  },
  {
   "cell_type": "code",
   "execution_count": null,
   "metadata": {},
   "outputs": [],
   "source": [
    "cat_order = month_categories.sort_values(by=['month','category']).reset_index(drop=True)\n",
    "pos_amount = [i*-1 for i in cat_order['month_sum']]\n",
    "import plotly.express as px\n",
    "fig = px.bar(month_categories,\n",
    "             x= cat_order['long_month'], y= pos_amount,\n",
    "             color= cat_order['category'],\n",
    "             color_discrete_sequence = gradient[:len(cat_order['category'])][::-1],\n",
    "             labels={\n",
    "                     \"x\": \"Month\",\n",
    "                     \"color\": 'Category',\n",
    "                     \"y\": \"Amount\",\n",
    "                 },\n",
    "             title=\"Total Spending by Category by Month\")\n",
    "fig.update_layout(\n",
    "        bargap = 0.15)\n",
    "fig.show()"
   ]
  },
  {
   "cell_type": "code",
   "execution_count": null,
   "metadata": {},
   "outputs": [],
   "source": [
    "type(data_df['amount'][0])"
   ]
  },
  {
   "cell_type": "code",
   "execution_count": null,
   "metadata": {},
   "outputs": [],
   "source": [
    "#categories = data_df['category'].unique()\n",
    "# sum_amount = data_df.loc[data_df['category'] == 'food']\n",
    "# sum_amount['amount'].sum().round(2)"
   ]
  },
  {
   "cell_type": "code",
   "execution_count": null,
   "metadata": {},
   "outputs": [],
   "source": [
    "# Need to make a DF where all the unique categories are summed"
   ]
  },
  {
   "cell_type": "code",
   "execution_count": null,
   "metadata": {},
   "outputs": [],
   "source": [
    "# Make the date sum by month"
   ]
  },
  {
   "cell_type": "code",
   "execution_count": null,
   "metadata": {},
   "outputs": [],
   "source": [
    "sum_categories = data_df.groupby(['category', 'date']).sum().sort_values(\"date\")\n",
    "sum_categories = sum_categories.rename(columns={'category':'categories'})\n",
    "sum_categories"
   ]
  },
  {
   "cell_type": "code",
   "execution_count": null,
   "metadata": {},
   "outputs": [],
   "source": [
    "#type(sum_categories['date'][0])"
   ]
  },
  {
   "cell_type": "code",
   "execution_count": null,
   "metadata": {},
   "outputs": [],
   "source": [
    "#sum_categories['categories'] = sum_categories.index\n",
    "sum_categories.reset_index(inplace = True)\n",
    "sum_categories['amount'] = [i*-1 for i in sum_categories['amount']]\n",
    "sum_categories"
   ]
  },
  {
   "cell_type": "code",
   "execution_count": null,
   "metadata": {},
   "outputs": [],
   "source": [
    "import plotly.express as px\n",
    "#wide_df = px.data.medals_wide()\n",
    "fig = px.bar(sum_categories,\n",
    "             x=\"date\", y= sum_categories['category'],\n",
    "             color = 'amount',\n",
    "             labels = {'category':'amount'},\n",
    "             title=\"Total Spending by Category by Day\")\n",
    "fig.show()"
   ]
  },
  {
   "cell_type": "code",
   "execution_count": null,
   "metadata": {},
   "outputs": [],
   "source": [
    "import plotly.express as px\n",
    "#wide_df = px.data.medals_wide()\n",
    "fig = px.bar(sum_categories, x=\"date\", y= sum_categories['amount'], color ='amount', title=\"Total Spending by Category by Day\")\n",
    "fig.show()"
   ]
  },
  {
   "cell_type": "markdown",
   "metadata": {},
   "source": [
    "# ORIGINAL STACKED BAR GRAPH"
   ]
  },
  {
   "cell_type": "markdown",
   "metadata": {},
   "source": [
    "-------------------------------------------------------------------------------------------------------------------"
   ]
  },
  {
   "cell_type": "code",
   "execution_count": null,
   "metadata": {},
   "outputs": [],
   "source": [
    "import plotly.express as px\n",
    "wide_df = px.data.medals_wide()\n",
    "fig = px.bar(wide_df, x=\"nation\", y=[\"gold\", \"silver\", \"bronze\"], title=\"Wide-Form Input\")\n",
    "fig.show()"
   ]
  },
  {
   "cell_type": "code",
   "execution_count": null,
   "metadata": {},
   "outputs": [],
   "source": [
    "print(px.data.medals_wide())"
   ]
  },
  {
   "cell_type": "code",
   "execution_count": null,
   "metadata": {},
   "outputs": [],
   "source": [
    "month_categories.head()"
   ]
  },
  {
   "cell_type": "code",
   "execution_count": null,
   "metadata": {},
   "outputs": [],
   "source": [
    "# import plotly.express as px\n",
    "# fig = px.bar(month_categories, x=\"month\", y='month_sum', title=\"Wide-Form Input\", color = 'category')\n",
    "# fig.show()"
   ]
  },
  {
   "cell_type": "markdown",
   "metadata": {},
   "source": [
    "# TABLES"
   ]
  },
  {
   "cell_type": "markdown",
   "metadata": {},
   "source": [
    "-------------------------------------------------------------------------------------------------------------------"
   ]
  },
  {
   "cell_type": "code",
   "execution_count": null,
   "metadata": {},
   "outputs": [],
   "source": [
    "def get_length(df):\n",
    "    col = ''\n",
    "    for i in df.columns:\n",
    "        get_length = df[i].map(len).max()\n",
    "    return get_length"
   ]
  },
  {
   "cell_type": "code",
   "execution_count": null,
   "metadata": {},
   "outputs": [],
   "source": [
    "def convert_str(series):\n",
    "    return [str(i) for i in series]"
   ]
  },
  {
   "cell_type": "code",
   "execution_count": null,
   "metadata": {},
   "outputs": [],
   "source": [
    "#Somehow because this is a jupyter notebook this function reassigns the column data that is not a string,\n",
    "# to string and keeps that value within the imported dataframe\n",
    "def get_max(df):\n",
    "    max_num = 0\n",
    "    max_col = ''\n",
    "    max_list = []\n",
    "    for i in range(len(df.columns)):\n",
    "        if df[df.columns[i]][0] == type('s'):\n",
    "            continue\n",
    "        else:\n",
    "            df[df.columns[i]] = convert_str(df[df.columns[i]])\n",
    "        get_length = df[df.columns[i]].map(len).max()\n",
    "        max_list.append(get_length)\n",
    "        if max_num < get_length:\n",
    "            max_num = get_length\n",
    "            max_col = df.columns[i]\n",
    "            col_num = i\n",
    "#         if max_num < len(df.columns[i]):\n",
    "#             max_num = len(df.columns[i])\n",
    "    return max_num, max_col, max_list"
   ]
  },
  {
   "cell_type": "code",
   "execution_count": null,
   "metadata": {},
   "outputs": [],
   "source": [
    "def make_table(df, colors, rowOddColor, rowEvenColor):\n",
    "    if not os.path.exists('images'):\n",
    "        os.mkdir('images')\n",
    "    fig = go.Figure(data=[go.Table(\n",
    "        columnorder = [i+1 for i in range(len(df.columns))],\n",
    "        columnwidth = [i*30 for i in get_max(df)[2]],\n",
    "        header=dict(values=list(df.columns[:8]),\n",
    "                    fill_color=colors[0],\n",
    "                    align='left',\n",
    "                    font = dict(family=\"Arial\", size=14, color= colors[1])),\n",
    "        cells=dict(values=[df.date_p, df.date, df.transaction, df.account, df.amount, df.balance, df.identifier, df.category],\n",
    "                   #fill_color= [[rowOddColor, rowEvenColor, rowOddColor, rowEvenColor]*4],#colors[2],\n",
    "                   align='left',\n",
    "                   font = dict(family=\"Arial\", size=12, color=colors[3])))])\n",
    "\n",
    "    fig.write_image(\"images/table.png\", format=\"png\")#, width=600, height=350, scale=2)\n",
    "    #pdf is higher quality however it omits all the lines below\n",
    "    max_height = len(df) * 50\n",
    "    pio.write_image(fig, 'images/table.pdf', width=700, height=max_height)\n",
    "    fig.show()"
   ]
  },
  {
   "cell_type": "code",
   "execution_count": null,
   "metadata": {},
   "outputs": [],
   "source": [
    "type(data_df['amount'][0])"
   ]
  },
  {
   "cell_type": "code",
   "execution_count": null,
   "metadata": {},
   "outputs": [],
   "source": [
    "len(data_df)"
   ]
  },
  {
   "cell_type": "code",
   "execution_count": null,
   "metadata": {},
   "outputs": [],
   "source": [
    "data_df.head()"
   ]
  },
  {
   "cell_type": "code",
   "execution_count": null,
   "metadata": {},
   "outputs": [],
   "source": [
    "# colors ['fill_color_header/bkgd', 'font_color_header/light', 'cells_color/light', 'cells_font_color/dk']\n",
    "rowEvenColor = '#cce3de'\n",
    "rowOddColor = '#EAF4F4'\n",
    "green_colors = ['#6b9080', '#f6fff8', '#cce3de', '#34463E']\n",
    "make_table(data_df.head(50), green_colors, rowEvenColor, rowOddColor)"
   ]
  },
  {
   "cell_type": "code",
   "execution_count": null,
   "metadata": {},
   "outputs": [],
   "source": [
    "# color pallet https://coolors.co/353535-3c6e71-ffffff-d9d9d9-284b63\n",
    "# colors ['fill_color_header/bkgd', 'font_color_header/light', 'cells_color/light', 'cells_font_color/dk']\n",
    "blue_colors = ['#284B63','#FFFFFF', '#D9D9D9', '#353535']\n",
    "white = '#FFFFFF'\n",
    "grey = '#D9D9D9'\n",
    "make_table(data_df.head(50), blue_colors, grey, white)"
   ]
  },
  {
   "cell_type": "code",
   "execution_count": null,
   "metadata": {},
   "outputs": [],
   "source": [
    "type(data_df['amount'][1])"
   ]
  },
  {
   "cell_type": "markdown",
   "metadata": {},
   "source": [
    "# DICTIONARY OPTIONS"
   ]
  },
  {
   "cell_type": "markdown",
   "metadata": {},
   "source": [
    "-------------------------------------------------------------------------------------------------------------------"
   ]
  },
  {
   "cell_type": "markdown",
   "metadata": {},
   "source": [
    " |   |   |   |   |   | |||\n",
    "|---|---|---|---|---|---|---|---|\n",
    " | **parent**       | **type**         | **priority**     | **fixed/variable** | **one-time/re-occuring** | **identifier**    | **amount**  | **date**    | **transaction**                   |\n",
    " | health       |life insurance| essential    | fixed          | re-occuring          | 'AAA Insurance| -50     | 01/22/21| AAA INSURANCE PAYMENT 48684   |\n",
    " | entertainment|movies        | non-essential| variable       | one-time             | 'REGAL'       | -15     | 01/12/21| CINEMA REGAL PARK WEST VA 1588|\n"
   ]
  },
  {
   "cell_type": "code",
   "execution_count": null,
   "metadata": {},
   "outputs": [],
   "source": [
    "# Thinking about adding another column based on this data\n",
    "# dataframe might look good like\n",
    "# where parent = budget category\n",
    "# | parent       | type         | priority     | fixed/variable | one-time/re-occuring | identifier    | amount  | date    | transaction                   |\n",
    "# | health       |life insurance| essential    | fixed          | re-occuring          | 'AAA Insurance'| -50     | 01/22/21| AAA INSURANCE PAYMENT 48684   |\n",
    "# | entertainment|movies        | non-essential| variable       | one-time             | 'REGAL'       | -15     | 01/12/21| CINEMA REGAL PARK WEST VA 1588|\n",
    "\n",
    "fixed = {\n",
    "    'debt':['car loan', 'student loan/tution'],\n",
    "    'housing':['home owners insurance', 'renters insurance', 'rent', 'mortgage', 'property taxes'],\n",
    "    'utilities':['cable', 'internet', 'garbage'],\n",
    "    'medical':['health insurance'],\n",
    "    'childcare':['daycare', 'child support'],\n",
    "    'entertainment':['streaming services']\n",
    "}\n",
    "\n",
    "variable = {\n",
    "    'utilities':['water', 'electricity', 'gas', 'phone']\n",
    "}\n",
    "\n",
    "essentials = {\n",
    "    'savings' : ['life insurance', 'emergency fund', 'ROTH IRA', '401(k)', 'college fund', 'mad money'],\n",
    "    'debt' : ['credit card', 'car loan', 'student loan', 'tuition', 'pay day loan', 'other' ],\n",
    "    'domicile' : ['home', 'renters insurance', 'home insurance', 'rent', 'mortgage', 'repair', 'maitenance', 'furnishings', 'property taxes', 'yard', 'cleaning supply', 'kitchen ware','tools'],\n",
    "    'transportation' : ['car insurance','maintenance', 'gas' 'bus', 'subway', 'train', 'ferry fare'],\n",
    "    'food' : ['groceries', 'dining out', 'fast food', 'delivery', 'alcohol'],\n",
    "    'utilities' : ['phone', 'cable', 'internet', 'water', 'gas', 'electricity', 'garbage', 'utility'], #oil, wood\n",
    "    'medical' : ['health insurance','doctor', 'prescriptions', 'first aid supply'], #types of doctors, optometrist, dentist, etc\n",
    "    'education' : ['supplies', 'fees', 'books'],\n",
    "    'childcare' : ['daycare', 'camps', 'babysitter', 'child support'],\n",
    "    'personal' : ['clothing', 'toiletries', 'grooming']\n",
    "}\n",
    "\n",
    "non_essentials = {\n",
    "    'food' :['dining out', 'fast food', 'delivery', 'alcohol'],\n",
    "    'gifts' : ['birthday', 'anniversary', 'holiday', 'other'],\n",
    "    'giving': ['tithing', 'charitable', 'other'],\n",
    "    'pets': ['food', 'supplies', 'vet', 'prescriptions'],\n",
    "    'entertainment': ['streaming services','games', 'movies', 'hobbies', 'vacation', 'books'],\n",
    "    'personal': ['salon', 'gym', 'dry cleaning']\n",
    "    \n",
    "}\n",
    "#'domicile' : {'home': ['home insurance', 'mortgage', 'mortgage payment', 'home maitenance', 'home repair', 'property taxes', 'yard'],\n",
    "#                'rental':['renters insurance', 'rent', 'rent payment', 'rental repair'],\n",
    "#                 'furnishings':['furnishings', 'cleaning supply', 'kitchen ware','tools']},"
   ]
  },
  {
   "cell_type": "markdown",
   "metadata": {},
   "source": [
    "# SUNBURST CHART"
   ]
  },
  {
   "cell_type": "markdown",
   "metadata": {},
   "source": [
    "-------------------------------------------------------------------------------------------------------------------"
   ]
  },
  {
   "cell_type": "code",
   "execution_count": null,
   "metadata": {},
   "outputs": [],
   "source": [
    "inside = ['savings', 'savings', 'debt', 'housing', 'transportation', 'food', 'utilities', 'medical', 'education', 'childcare', 'personal']"
   ]
  },
  {
   "cell_type": "markdown",
   "metadata": {},
   "source": [
    "## Working\n",
    "- go back to coolers.co and grab names of colors make a dictionary with the name as the key and color as value"
   ]
  },
  {
   "cell_type": "code",
   "execution_count": null,
   "metadata": {},
   "outputs": [],
   "source": [
    "# red to blue/purple\n",
    "rainbow_colors = ['#F94144', '#f3722c', '#F9844A', '#f8961e', '#F9C74F', '#90BE6D', '#43AA8B', '#4D908E', '#277DA1', '#577590']"
   ]
  },
  {
   "cell_type": "code",
   "execution_count": null,
   "metadata": {},
   "outputs": [],
   "source": [
    "outside = ['essential' for i in range(len(inside))]"
   ]
  },
  {
   "cell_type": "code",
   "execution_count": null,
   "metadata": {},
   "outputs": [],
   "source": [
    "# blues\n",
    "# https://coolors.co/05668d-028090-00a896-02c39a-f0f3bd\n",
    "# rainbow\n",
    "# https://coolors.co/f94144-f3722c-f8961e-f9844a-f9c74f-90be6d-43aa8b-4d908e-577590-277da1"
   ]
  },
  {
   "cell_type": "code",
   "execution_count": null,
   "metadata": {},
   "outputs": [],
   "source": [
    "import random\n",
    "def constrain_sum(n, total):\n",
    "    # Return an randomly chosen list of n positive intergers summing to 100/total\n",
    "    dividers = sorted(random.sample(range(1, total), n-1))\n",
    "    return [a - b for a,b in zip(dividers + [total], [0]+dividers)]\n",
    "nums = constrain_sum(len(inside), 100)"
   ]
  },
  {
   "cell_type": "code",
   "execution_count": null,
   "metadata": {},
   "outputs": [],
   "source": [
    "import random\n",
    "import plotly.express as px\n",
    "data = dict(\n",
    "    character= inside,\n",
    "    parent = outside,\n",
    "    value= nums)\n",
    "\n",
    "fig =px.sunburst(\n",
    "    data,\n",
    "    names='character',\n",
    "    parents='parent',\n",
    "    values='value',\n",
    "    title = 'Expenses'\n",
    ")\n",
    "fig.show()"
   ]
  },
  {
   "cell_type": "markdown",
   "metadata": {},
   "source": [
    "# TREEEMAP CHART"
   ]
  },
  {
   "cell_type": "markdown",
   "metadata": {},
   "source": [
    "-------------------------------------------------------------------------------------------------------------------"
   ]
  },
  {
   "cell_type": "code",
   "execution_count": null,
   "metadata": {},
   "outputs": [],
   "source": [
    "# Need new TreeMap code, this one is not so pretty"
   ]
  },
  {
   "cell_type": "code",
   "execution_count": null,
   "metadata": {},
   "outputs": [],
   "source": [
    "essentials.keys()"
   ]
  },
  {
   "cell_type": "code",
   "execution_count": null,
   "metadata": {},
   "outputs": [],
   "source": [
    "groups = list(essentials.keys())\n",
    "priority = ['Essential' for i in range(len(groups))]\n",
    "nums = constrain_sum(len(groups), 100)\n",
    "percentages = [str(nums[i])+'%' for i in range(len(nums))]"
   ]
  },
  {
   "cell_type": "code",
   "execution_count": null,
   "metadata": {},
   "outputs": [],
   "source": [
    "groups"
   ]
  },
  {
   "cell_type": "code",
   "execution_count": null,
   "metadata": {},
   "outputs": [],
   "source": [
    "df = pd.DataFrame(\n",
    "    {\n",
    "        'priority': priority,\n",
    "        'categories':groups,\n",
    "        'values': nums,\n",
    "        'percentages':percentages\n",
    "                  })"
   ]
  },
  {
   "cell_type": "code",
   "execution_count": null,
   "metadata": {},
   "outputs": [],
   "source": [
    "import squarify\n",
    "import matplotlib.pyplot as plt\n",
    "# plot it\n",
    "labels = [df['categories'][i].capitalize()+(' \\n'+ str(nums[i])+'%') for i in range(len(df['categories']))]\n",
    "\n",
    "squarify.plot(sizes=df['values'], label=labels, alpha=.4, color= rainbow_colors[:len(groups)+1])\n",
    "plt.axis('off')\n",
    "plt.show()"
   ]
  },
  {
   "cell_type": "markdown",
   "metadata": {},
   "source": [
    "# ALTERNATE TREEMAP"
   ]
  },
  {
   "cell_type": "markdown",
   "metadata": {},
   "source": [
    "-------------------------------------------------------------------------------------------------------------------"
   ]
  },
  {
   "cell_type": "markdown",
   "metadata": {},
   "source": [
    "- FIX Legend\n",
    "- Change rainbow colors from a list to a dictionary and grab the correct values accordingly'\n",
    "- ie if data 100-90 red, 90-80 orange, 80-70 yellow, 70-60 green, 60-50 blue, 50-40, purple and on until 10-0\n",
    "- fix hover put something relevant"
   ]
  },
  {
   "cell_type": "code",
   "execution_count": null,
   "metadata": {},
   "outputs": [],
   "source": [
    "groups_all = list(essentials.keys()) + list(non_essentials)\n",
    "nums_all = constrain_sum(len(groups_all), 100)\n",
    "priority_all = ['Essential' if x in essentials.keys() else 'Non Essential' for x in groups_all]\n",
    "percentages_all = [str(nums_all[i])+'%' for i in range(len(nums_all))]\n",
    "# Create a data frame with fake data\n",
    "# df = pd.DataFrame({'nb_people':[8,3,4,2],\n",
    "#                    'group':[\"Housing\\n 40%\",\n",
    "#                             \"Utilities\\n 10%\",\n",
    "#                             \"Food\\n 10%\",\n",
    "#                             \"Entertainment\\n 10%\"]})\n",
    "df_all = pd.DataFrame(\n",
    "    {\n",
    "        'priority': priority_all,\n",
    "        'categories':groups_all,\n",
    "        'values': nums_all,\n",
    "        'percentages':percentages_all\n",
    "                  })"
   ]
  },
  {
   "cell_type": "code",
   "execution_count": null,
   "metadata": {},
   "outputs": [],
   "source": [
    "colors_all = rainbow_colors[:len(groups_all)+1]\n",
    "counter = len(colors_all)\n",
    "while counter < len(df_all):\n",
    "    colors_all.append(rainbow_colors[len(df_all)-counter])\n",
    "    counter += 1\n",
    "colors_all"
   ]
  },
  {
   "cell_type": "code",
   "execution_count": null,
   "metadata": {},
   "outputs": [],
   "source": [
    "df_all"
   ]
  },
  {
   "cell_type": "code",
   "execution_count": null,
   "metadata": {},
   "outputs": [],
   "source": [
    "sorted_df = df_all.sort_values(by=['values', 'categories']).reset_index(drop=True)\n",
    "sorted_df"
   ]
  },
  {
   "cell_type": "code",
   "execution_count": null,
   "metadata": {},
   "outputs": [],
   "source": [
    "import plotly.express as px\n",
    "fig = px.treemap(df_all.sort_values(by=['values','categories']).reset_index(drop=True),\n",
    "                 path=['priority', 'categories', 'percentages'], \n",
    "                 values='values', \n",
    "                 color='values')\n",
    "fig.update_traces(marker_colors= colors_all, selector=dict(type='treemap')) \n",
    "#fig.update_traces(pathbar_visible=False, selector=dict(type='treemap'))\n",
    "fig.show()"
   ]
  },
  {
   "cell_type": "code",
   "execution_count": null,
   "metadata": {},
   "outputs": [],
   "source": [
    "month_categories.head()"
   ]
  },
  {
   "cell_type": "code",
   "execution_count": null,
   "metadata": {},
   "outputs": [],
   "source": [
    "months = month_categories['month'].unique()\n",
    "months = list(months)"
   ]
  },
  {
   "cell_type": "code",
   "execution_count": null,
   "metadata": {},
   "outputs": [],
   "source": [
    "###\n",
    "def get_percentage(month_num):\n",
    "    perc = []\n",
    "    mo_slice = month_categories[month_categories['month'] == month_num]\n",
    "    sum_mo_1 = mo_slice['month_sum'].sum()\n",
    "    for i in range(len(month_categories)):\n",
    "        if month_categories['month'][i] == month_num:\n",
    "            #print(round(month_categories['month_sum'][i], 2))\n",
    "            #print(round(sum_mo_1)*100)\n",
    "            amount = round(month_categories['month_sum'][i]/round(sum_mo_1)*100, 2)\n",
    "            #print(amount)\n",
    "            #break\n",
    "            perc.append(amount)\n",
    "    return perc"
   ]
  },
  {
   "cell_type": "code",
   "execution_count": null,
   "metadata": {},
   "outputs": [],
   "source": [
    "percentage = []\n",
    "final = []\n",
    "for month in months:\n",
    "    percentage.append(get_percentage(month))\n",
    "final = [a for b in percentage for a in b]\n",
    "month_categories['values'] = final"
   ]
  },
  {
   "cell_type": "code",
   "execution_count": null,
   "metadata": {},
   "outputs": [],
   "source": [
    "january = month_categories.loc[month_categories['month'] == 1]"
   ]
  },
  {
   "cell_type": "code",
   "execution_count": null,
   "metadata": {},
   "outputs": [],
   "source": [
    "def search_values(cat, cat_dict):\n",
    "    for value in essentials.values():\n",
    "        if cat in value:\n",
    "            return True"
   ]
  },
  {
   "cell_type": "code",
   "execution_count": null,
   "metadata": {},
   "outputs": [],
   "source": [
    "priority = []\n",
    "for cat in january.category:\n",
    "        if cat in essentials.keys() or search_values(cat, essentials):\n",
    "            priority.append('Essential')\n",
    "        else:\n",
    "             priority.append('Non-Essential')\n",
    "\n",
    "#            for entry in kind:\n",
    "#               if cat in kind:\n",
    "#                   priority.append('Essential')\n",
    "#              else:      "
   ]
  },
  {
   "cell_type": "code",
   "execution_count": null,
   "metadata": {},
   "outputs": [],
   "source": [
    "january['priority'] = priority"
   ]
  },
  {
   "cell_type": "code",
   "execution_count": null,
   "metadata": {},
   "outputs": [],
   "source": [
    "january"
   ]
  },
  {
   "cell_type": "code",
   "execution_count": null,
   "metadata": {},
   "outputs": [],
   "source": []
  },
  {
   "cell_type": "code",
   "execution_count": null,
   "metadata": {},
   "outputs": [],
   "source": []
  },
  {
   "cell_type": "code",
   "execution_count": null,
   "metadata": {},
   "outputs": [],
   "source": [
    "january['month_sum'] = january['month_sum'].apply(lambda x: x*-1)\n",
    "january['percentages'] = january['values'].apply(lambda x : str(x)+'%')\n",
    "january['month_sum'] = january['month_sum'].apply(lambda x : round(x, 2))\n",
    "january"
   ]
  },
  {
   "cell_type": "code",
   "execution_count": null,
   "metadata": {},
   "outputs": [],
   "source": [
    "type(january.month_sum[1])"
   ]
  },
  {
   "cell_type": "code",
   "execution_count": null,
   "metadata": {},
   "outputs": [],
   "source": [
    "#colors_all"
   ]
  },
  {
   "cell_type": "code",
   "execution_count": null,
   "metadata": {},
   "outputs": [],
   "source": [
    "from colour import Color\n",
    "start = Color(\"#F94144\")\n",
    "colors = list(start.range_to(Color(\"#CAC35C\"),20))\n",
    "str(colors[1])\n"
   ]
  },
  {
   "cell_type": "code",
   "execution_count": null,
   "metadata": {},
   "outputs": [],
   "source": [
    "color_list = []\n",
    "for i in range(len(colors)):\n",
    "    color_list.append(str(colors[i]))"
   ]
  },
  {
   "cell_type": "code",
   "execution_count": null,
   "metadata": {},
   "outputs": [],
   "source": [
    "color"
   ]
  },
  {
   "cell_type": "code",
   "execution_count": null,
   "metadata": {},
   "outputs": [],
   "source": [
    "from colr import color\n",
    "print(color('test', fore='F94144', back='000'))"
   ]
  },
  {
   "cell_type": "code",
   "execution_count": null,
   "metadata": {},
   "outputs": [],
   "source": [
    "for i in gradient:\n",
    "    print(color('■', fore=i, back='000'), end='')\n"
   ]
  },
  {
   "cell_type": "code",
   "execution_count": null,
   "metadata": {},
   "outputs": [],
   "source": [
    "for i in gradient:\n",
    "    print(color(f'{i}', fore=i, back='000'), end='')\n"
   ]
  },
  {
   "cell_type": "code",
   "execution_count": null,
   "metadata": {},
   "outputs": [],
   "source": [
    "#help('colour')"
   ]
  },
  {
   "cell_type": "code",
   "execution_count": null,
   "metadata": {},
   "outputs": [],
   "source": [
    "for i in colors:\n",
    "    print(color('■', fore=str(i), back='000'), end='')"
   ]
  },
  {
   "cell_type": "code",
   "execution_count": null,
   "metadata": {},
   "outputs": [],
   "source": [
    "def make_treemap(df):\n",
    "    import plotly.express as px\n",
    "    df['month_sum_s'] = [f'${str(i)}' for i in df.month_sum]\n",
    "    fig = px.treemap(df.sort_values(by=['values', 'category']).reset_index(drop=True), \n",
    "                     title= f\"{df['long_month'][0]} Spending\",\n",
    "                     path=['priority','category','percentages'],\n",
    "                     values='values', \n",
    "                     color= 'month_sum',\n",
    "                     color_continuous_scale= gradient[::-1],\n",
    "                     color_continuous_midpoint=np.average(df['month_sum'], weights=df['values']),\n",
    "                     hover_name='month_sum')\n",
    "    #fig.update_traces(marker_colors = colors_all, selector=dict(type='treemap'))\n",
    "    fig.update_traces(hovertemplate='month_sum={month_sum}')\n",
    "    fig.update_layout(margin = dict(t=50, l=25, r=25, b=25))\n",
    "    fig.show()\n",
    "    \n",
    "#px.colors.sequential.Viridis"
   ]
  },
  {
   "cell_type": "code",
   "execution_count": null,
   "metadata": {},
   "outputs": [],
   "source": [
    "make_treemap(january)"
   ]
  },
  {
   "cell_type": "code",
   "execution_count": null,
   "metadata": {},
   "outputs": [],
   "source": [
    "january.head()"
   ]
  },
  {
   "cell_type": "code",
   "execution_count": null,
   "metadata": {},
   "outputs": [],
   "source": [
    "import plotly.express as px\n",
    "fig = px.treemap(january.sort_values(by=['values', 'category']).reset_index(drop=True), \n",
    "                 path=['priority','percentages', 'category'], \n",
    "                 values='values', \n",
    "                 color='values',)\n",
    "                 #title= f\"{df['long_month'][0]} Spending\",)\n",
    "fig.update_traces(marker_colors= colors_all, selector=dict(type='treemap')) \n",
    "#fig.update_traces(pathbar_visible=False, selector=dict(type='treemap'))\n",
    "#fig.update_traces(hovertemplate='category: '+f\"{labels}\" + '<br><extra></extra>')\n",
    "fig.update_traces(marker_cmax=100, marker_cmid=50, marker_cmin=0, selector=dict(type='treemap'))\n",
    "fig.show()"
   ]
  },
  {
   "cell_type": "code",
   "execution_count": null,
   "metadata": {},
   "outputs": [],
   "source": [
    "import plotly.express as px\n",
    "fig = px.treemap(df_all.sort_values(by=['values','categories']).reset_index(drop=True), \n",
    "                 path=['priority', 'categories', 'percentages'], \n",
    "                 values='values', \n",
    "                 color='values')\n",
    "fig.update_traces(marker_colors= colors_all, selector=dict(type='treemap')) \n",
    "#fig.update_traces(pathbar_visible=False, selector=dict(type='treemap'))\n",
    "fig.show()"
   ]
  },
  {
   "cell_type": "code",
   "execution_count": null,
   "metadata": {},
   "outputs": [],
   "source": [
    "px.data.tips()"
   ]
  },
  {
   "cell_type": "code",
   "execution_count": null,
   "metadata": {},
   "outputs": [],
   "source": [
    "import plotly.express as px\n",
    "  \n",
    "df = px.data.tips()\n",
    "df.head()"
   ]
  },
  {
   "cell_type": "code",
   "execution_count": null,
   "metadata": {},
   "outputs": [],
   "source": [
    "fig = px.treemap(df, path=['day', 'time', 'tip'], \n",
    "                 values='total_bill', \n",
    "                 color='total_bill')\n",
    "\n",
    "fig.show()"
   ]
  },
  {
   "cell_type": "code",
   "execution_count": null,
   "metadata": {},
   "outputs": [],
   "source": [
    "import plotly.express as px\n",
    "\n",
    "for name in dir(px.data):\n",
    "    if '__' not in name:\n",
    "        print(name)"
   ]
  },
  {
   "cell_type": "code",
   "execution_count": null,
   "metadata": {},
   "outputs": [],
   "source": [
    "print(px.data.tips())"
   ]
  },
  {
   "cell_type": "code",
   "execution_count": null,
   "metadata": {},
   "outputs": [],
   "source": []
  },
  {
   "cell_type": "code",
   "execution_count": null,
   "metadata": {},
   "outputs": [],
   "source": []
  },
  {
   "cell_type": "code",
   "execution_count": null,
   "metadata": {},
   "outputs": [],
   "source": []
  },
  {
   "cell_type": "code",
   "execution_count": null,
   "metadata": {},
   "outputs": [],
   "source": []
  }
 ],
 "metadata": {
  "kernelspec": {
   "display_name": "Python 3",
   "language": "python",
   "name": "python3"
  },
  "language_info": {
   "codemirror_mode": {
    "name": "ipython",
    "version": 3
   },
   "file_extension": ".py",
   "mimetype": "text/x-python",
   "name": "python",
   "nbconvert_exporter": "python",
   "pygments_lexer": "ipython3",
   "version": "3.7.7"
  }
 },
 "nbformat": 4,
 "nbformat_minor": 4
}
