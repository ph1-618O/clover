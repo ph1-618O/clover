{
 "cells": [
  {
   "cell_type": "markdown",
   "metadata": {},
   "source": [
    "# budgetPy\n",
    "- Program that takes a xls file, a csv, or a clipboard copy from a web page and creates a budget (will later add database conn and auto update feature)\n",
    "- Asks for user input as to other debts, payday loans, student, medical bills, personal loans Car payment, mortgage?\n",
    "- Asks for user input as to what category each grouping of purchases is\n",
    "- Ask for user input if it is a Savings, CC, or Checking account\n",
    "- Tracks Deposits and Money transfers between accounts\n",
    "- Establishes what the base income is// asks for user input if a certain deposit is their income or other\n",
    "- Splits up purchases by regular bills, irregular bills, groceries, gas, subscriptions, entertainment, clothing, travel, other\n",
    "- Subtract expenses from income to equal zero, if done correctly it will recommend excess to be trans to savings\n",
    "- Creates a debt snowball, by listing debts smallest to largest, kind, total payoff, min payment\n",
    "- Start with the smallest debt and paying it off first\n",
    "- Make estimations on how long certain debts will take to pay off with user guided slider\n",
    "- percentages, giving 10, saving 10, food 10-15, utilities 5 -15, housing 25, transportation 10, health 5-10\n",
    "- insurance 10-25, recreation 5 -10, personal spending 5 - 10, miscellaneous 5 - 10"
   ]
  },
  {
   "cell_type": "markdown",
   "metadata": {},
   "source": [
    "### - Requirements, \n",
    "   - pip install fastnumbers \n",
    "        - this handles clearing the inputs of floats and ints\n",
    "   - pip install google // conda install google\n",
    "        - this was for verifying the transaction type, does not work, HTTP Error 429\n",
    "        - example \"TAYLOR S DO IT CENTER ARLINGTON VA\" the type of purchase is not clear\n",
    "        - need another way to access google api, will add later\n",
    "   - pip install beautifulsoup4 // conda install pandas\n",
    "        - this helped the googlesearch scrape the data, also does not work\n",
    "        - pip install requests // conda install requests\n",
    "   - pip install pandas // conda install pandas\n",
    "        - for dataframes\n",
    "   - pip install numpy // conda install numpy\n",
    "        - also for dataframes\n",
    "   - python -m pip install -U matplotlib // conda install matplotlib\n",
    "        - this is for graphing purchase data"
   ]
  },
  {
   "cell_type": "code",
   "execution_count": 1,
   "metadata": {},
   "outputs": [],
   "source": [
    "# working with dates, month abbrev, and the time it takes to run prg\n",
    "from datetime import datetime\n",
    "from datetime import date\n",
    "from calendar import month_abbr\n",
    "import time\n",
    "\n",
    "# for importing from excel to pandas\n",
    "from pandas import ExcelWriter\n",
    "from pandas import ExcelFile\n",
    "import pandas as pd\n",
    "import numpy as np\n",
    "\n",
    "# graphing\n",
    "import matplotlib.pyplot as plt\n",
    "import matplotlib.ticker as ticker\n",
    "from matplotlib.lines import Line2D\n",
    "\n",
    "# for generating random data from original to test and share to github\n",
    "from random import seed\n",
    "from random import randint\n",
    "import random\n",
    "\n",
    "# Dealing with number input inconsistencies, avoids VALUE ERROR, ATTRIBUTE ERROR\n",
    "from fastnumbers import fast_float\n",
    "\n",
    "# trying to grab the trans data from google, need another way to do it\n",
    "from googlesearch import search\n",
    "from bs4 import BeautifulSoup as soup\n",
    "import requests\n",
    "import re"
   ]
  },
  {
   "cell_type": "code",
   "execution_count": 63,
   "metadata": {},
   "outputs": [],
   "source": [
    "#adding git push func to avoid command line step\n",
    "def git_push():\n",
    "    msg = input('What is the commit message?\\n')\n",
    "    !git add .\n",
    "    !git commit -m f'\\\\ {msg}'\n",
    "    !git push"
   ]
  },
  {
   "cell_type": "code",
   "execution_count": 64,
   "metadata": {},
   "outputs": [
    {
     "name": "stdout",
     "output_type": "stream",
     "text": [
      "What is the commit message?\n",
      "trying to make git push more readable\n",
      "[main df625e0] f\\\\ trying to make git push more readable\n",
      " 1 file changed, 31 insertions(+), 2 deletions(-)\n",
      "Enumerating objects: 5, done.\n",
      "Counting objects: 100% (5/5), done.\n",
      "Delta compression using up to 6 threads\n",
      "Compressing objects: 100% (3/3), done.\n",
      "Writing objects: 100% (3/3), 484 bytes | 484.00 KiB/s, done.\n",
      "Total 3 (delta 2), reused 0 (delta 0)\n",
      "remote: Resolving deltas: 100% (2/2), completed with 2 local objects.\u001b[K\n",
      "To https://github.com/ph1-618O/clover.git\n",
      "   6681c2b..df625e0  main -> main\n"
     ]
    }
   ],
   "source": [
    "git_push()"
   ]
  },
  {
   "cell_type": "code",
   "execution_count": 3,
   "metadata": {},
   "outputs": [],
   "source": [
    "#bank_data = pd.read_csv(csvName)"
   ]
  },
  {
   "cell_type": "code",
   "execution_count": 4,
   "metadata": {},
   "outputs": [],
   "source": [
    "# trying to search with google api for the identity of certain purchases\n",
    "# Oops too many requests \n",
    "# HTTPError: HTTP Error 429: Too Many Requests\n",
    "# try:\n",
    "#     from googlesearch import search\n",
    "# except Importerror:\n",
    "#     print(\"No module named 'google' found\")\n",
    "# query = \"HAMPTON ROADS SANITATI 757-460-2261 VA\"\n",
    "# for j in search(query, tld=\"co.in\", num=10, stop=10, pause=2):\n",
    "#     time.sleep(1)\n",
    "#     print(j)"
   ]
  },
  {
   "cell_type": "markdown",
   "metadata": {},
   "source": [
    "# Note\n",
    "- Keep function to import data when test data is ready"
   ]
  },
  {
   "cell_type": "code",
   "execution_count": 5,
   "metadata": {},
   "outputs": [],
   "source": [
    "# row1 = []\n",
    "# for col in bank_data.columns:\n",
    "#     row1.append(col)\n",
    "\n",
    "# #this function splits the dataframe and inserts a row at the designated location\n",
    "# def insertRow(rowNum, df, rowVal):\n",
    "#     df1 = df[0:rowNum]\n",
    "#     df2 = df[rowNum:]\n",
    "#     df1.loc[rowNum] = rowVal\n",
    "#     dfResult = pd.concat([df1, df2])\n",
    "#     return dfResult\n",
    "\n",
    "# #rowNum is the location of insertion, and rowval is the row to be inserted\n",
    "# rowNum = 1\n",
    "# rowVal = row1\n",
    "# df = insertRow(rowNum, bank_data, rowVal)"
   ]
  },
  {
   "cell_type": "markdown",
   "metadata": {},
   "source": [
    "## Budget Rule 50% Needs, 30% Wants, 20% Savings\n",
    "- Avg recommendations 25% housing\n",
    "- 50% car\n",
    "- 15% retirement\n",
    "- 10% left over?\n",
    "- 3 months emergency fund"
   ]
  },
  {
   "cell_type": "code",
   "execution_count": 6,
   "metadata": {},
   "outputs": [],
   "source": [
    "# # This deals with getting a numerical value only\n",
    "# from fastnumbers import fast_float\n",
    "# def get_num(choice):\n",
    "#     if choice == 'income':\n",
    "#         get_i = input('What is your income\\n')\n",
    "#         if type(fast_float(get_i)) == float:\n",
    "#             return float(get_i)\n",
    "#         else:\n",
    "#             return False\n",
    "#     elif choice == 'savings':\n",
    "#         get_savings = input('What % of income for savings type\\n')\n",
    "#         if type(fast_float(get_savings)) == float:\n",
    "#                 return float(get_savings)\n",
    "#         else:\n",
    "#             return False\n",
    "#     elif choice == 'type':\n",
    "#         get_type = input('What % of income for savings type\\n')\n",
    "#         if type(fast_float(get_type)) == float:\n",
    "#                 return float(get_type)\n",
    "#         else:\n",
    "#             return False\n",
    "#     else:\n",
    "#         print('::ERROR INPUT NOT ACCEPTED::')"
   ]
  },
  {
   "cell_type": "code",
   "execution_count": 23,
   "metadata": {},
   "outputs": [],
   "source": [
    "# OLD\n",
    "# This deals with getting a numerical value only\n",
    "from fastnumbers import fast_float\n",
    "def get_num(choice):\n",
    "    if choice == 'income':\n",
    "        get_i = input('What is your income\\n')\n",
    "        if type(fast_float(get_i)) == float:\n",
    "            return float(get_i)\n",
    "        else:\n",
    "            return False\n",
    "        \n",
    "    elif choice == 'savings_percent':\n",
    "        get_savings = input('What % of income for savings type\\n')\n",
    "        if type(fast_float(get_savings)) == float:\n",
    "                return float(get_savings)\n",
    "        else:\n",
    "            return False\n",
    "        \n",
    "    elif choice == 'type':\n",
    "        get_type = input('How many different types of savings do you have?\\n')\n",
    "        if type(fast_float(get_type)) == float:\n",
    "                return float(get_type)\n",
    "        else:\n",
    "            return False\n",
    "    else:\n",
    "        print('::ERROR INPUT NOT ACCEPTED::')"
   ]
  },
  {
   "cell_type": "code",
   "execution_count": 69,
   "metadata": {},
   "outputs": [],
   "source": [
    "# Need to add weekly, and bi-weekly\n",
    "def income():\n",
    "    # assuming that an hourly worker makes more than a poverty wage\n",
    "    amount = get_num('income')\n",
    "    if amount:\n",
    "        if amount > 10000:\n",
    "            i = input(\"The value is greater than 10,000 is this your yearly income?\\n\")\n",
    "            if 'y' in i.lower():\n",
    "                return amount, print(f'\\nYour estimated yearly wage is:: ${amount} dollars')\n",
    "        else:\n",
    "            i = input(\"What period is the income? \\nChoose monthly, yearly, weekly, bi-weekly or hourly::\\n\\n\")\n",
    "            if i.lower() == 'bi-monthly' or i.lower() == 'bi monthly':\n",
    "                print(f'\\nYour estimated yearly wage is:: ${amount * 2 * 12} dollars')\n",
    "                return amount * 12\n",
    "            elif 'm' in i.lower():\n",
    "                print(f'\\nYour estimated yearly wage is:: ${amount * 12}')\n",
    "                return amount * 12\n",
    "            elif 'w' in i.lower():\n",
    "                if 'b' in i.lower():\n",
    "                    print(f'Your estimated yearly wage is:: ${amount * 4 * 12} dollars')\n",
    "                    return amount * 2 * 12\n",
    "                else:\n",
    "                    print(f'Your estimated yearly wage is:: ${amount * 4 * 12} dollars')\n",
    "                    return amount * 4 * 12\n",
    "            elif 'h' in i.lower():\n",
    "                h = int(input('How many hours do you work a week?\\n'))\n",
    "                print(f'\\nYour estimated yearly wage is:: ${amount * h * 52}')\n",
    "                return amount * h * 52\n",
    "            else:\n",
    "                print(f'\\nYour estimated yearly wage is:: ${amount} dollars')\n",
    "                return amount\n",
    "    else:\n",
    "        print('ERROR:: VALUE NOT A NUMBER')"
   ]
  },
  {
   "cell_type": "code",
   "execution_count": 70,
   "metadata": {},
   "outputs": [],
   "source": [
    "# This will only work with a numercial value as income\n",
    "def ideal_budget(income):\n",
    "    print('----------------------------------------')\n",
    "    print(f'Total income:\\t\\t\\t${income}')#67200\n",
    "    print('----------------------------------------')\n",
    "    # savings = int(income * .10/12)\n",
    "    print('Ideal Monthly Budget')\n",
    "    print('----------------------------------------')\n",
    "    print(f'Home/Mo(25%):\\t\\t\\t${int(income * .25/12)}')\n",
    "    print(f'Lifestyle/Mo(10%):\\t\\t${int(income * .15/12)}')\n",
    "    print(f'Debt/Mo(10%):\\t\\t\\t${int(income * .10/12)}')\n",
    "    print(f'Savings/Mo(10%):\\t\\t${int(income * .10/12)}')\n",
    "    print(f'Food/Mo(10%):\\t\\t\\t${int(income * .10/12)}')\n",
    "    print(f'Transpo/Mo(10%):\\t\\t${int(income * .10/12)}')\n",
    "    print(f'Util/Mo(5%):\\t\\t\\t${int(income * .05/12)}')\n",
    "    print(f'Medical/Mo(5%):\\t\\t\\t${int(income * .05/12)}')"
   ]
  },
  {
   "cell_type": "code",
   "execution_count": 71,
   "metadata": {},
   "outputs": [
    {
     "name": "stdout",
     "output_type": "stream",
     "text": [
      "What is your income\n",
      "20\n",
      "What period is the income? \n",
      "Choose monthly, yearly, weekly, bi-weekly or hourly.\n",
      "\n",
      "hour\n",
      "How many hours do you work a week?\n",
      "40\n",
      "\n",
      "Your estimated yearly wage is:: $41600.0\n",
      "----------------------------------------\n",
      "Total income:\t\t\t$41600.0\n",
      "----------------------------------------\n",
      "Ideal Monthly Budget\n",
      "----------------------------------------\n",
      "Home/Mo(25%):\t\t\t$866\n",
      "Lifestyle/Mo(10%):\t\t$520\n",
      "Debt/Mo(10%):\t\t\t$346\n",
      "Savings/Mo(10%):\t\t$346\n",
      "Food/Mo(10%):\t\t\t$346\n",
      "Transpo/Mo(10%):\t\t$346\n",
      "Util/Mo(5%):\t\t\t$173\n",
      "Medical/Mo(5%):\t\t\t$173\n"
     ]
    }
   ],
   "source": [
    "get_i= income()\n",
    "ideal_budget(get_i)"
   ]
  },
  {
   "cell_type": "code",
   "execution_count": 56,
   "metadata": {},
   "outputs": [
    {
     "name": "stdout",
     "output_type": "stream",
     "text": [
      "What is the commit message?\n",
      "moving\n",
      "[main 6b6255d] fmoving\n",
      " 1 file changed, 29 insertions(+), 9 deletions(-)\n",
      "Enumerating objects: 5, done.\n",
      "Counting objects: 100% (5/5), done.\n",
      "Delta compression using up to 6 threads\n",
      "Compressing objects: 100% (3/3), done.\n",
      "Writing objects: 100% (3/3), 688 bytes | 688.00 KiB/s, done.\n",
      "Total 3 (delta 2), reused 0 (delta 0)\n",
      "remote: Resolving deltas: 100% (2/2), completed with 2 local objects.\u001b[K\n",
      "To https://github.com/ph1-618O/clover.git\n",
      "   62ffbe4..6b6255d  main -> main\n"
     ]
    }
   ],
   "source": [
    "git_push()"
   ]
  },
  {
   "cell_type": "markdown",
   "metadata": {},
   "source": [
    "# Working\n",
    "- fix the getting input section for the percent of savings"
   ]
  },
  {
   "cell_type": "code",
   "execution_count": null,
   "metadata": {},
   "outputs": [],
   "source": [
    "def convert_perc(prcnt):\n",
    "        prcnt = int(prcnt)\n",
    "        if prcnt > 1:\n",
    "            prcnt = prcnt / 100"
   ]
  },
  {
   "cell_type": "code",
   "execution_count": null,
   "metadata": {},
   "outputs": [],
   "source": [
    "while True:\n",
    "    n = int(input('Give me an integer: '))\n",
    "    if n == 0:\n",
    "        break\n",
    "    print(str(n) + '*' + str(n) + '=' + str(n*n))\n",
    "print('done')"
   ]
  },
  {
   "cell_type": "code",
   "execution_count": null,
   "metadata": {},
   "outputs": [],
   "source": [
    "# This deals with getting a numerical value only\n",
    "from fastnumbers import fast_float\n",
    "def get_num(choice):\n",
    "    if choice == 'income':\n",
    "        get_i = input('What is your income\\n')\n",
    "        if type(fast_float(get_i)) == float:\n",
    "            return float(get_i)\n",
    "        else:\n",
    "            return False\n",
    "        \n",
    "    elif choice == 'savings_percent':\n",
    "        get_savings = input('What % of income for savings type\\n')\n",
    "        if type(fast_float(get_savings)) == float:\n",
    "                return float(get_savings)\n",
    "        else:\n",
    "            return False\n",
    "        \n",
    "    elif choice == 'type':\n",
    "        get_type = input('How many different types of savings do you have?\\n')\n",
    "        if type(fast_float(get_type)) == float:\n",
    "                return float(get_type)\n",
    "        else:\n",
    "            return False\n",
    "    else:\n",
    "        print('::ERROR INPUT NOT ACCEPTED::')"
   ]
  },
  {
   "cell_type": "code",
   "execution_count": null,
   "metadata": {},
   "outputs": [],
   "source": [
    "# I broke the calc savings, trying to create a inf loop, until user wants to exit or\n",
    "#they give an integer or float answer\n",
    "def calc_savings():\n",
    "    keys = range(int(get_num('type')))\n",
    "    if keys:\n",
    "        print('--------------------------------')\n",
    "        values = []\n",
    "        counter = 0\n",
    "\n",
    "        for i in keys:\n",
    "            counter += 1\n",
    "            print(f'Savings type {counter} of {len(keys)}')\n",
    "            print('--------------------------------')\n",
    "            \n",
    "            type_s = input('What type of savings?\\n').lower()\n",
    "            print('--------------------------------')\n",
    "\n",
    "            prcnt = get_num('savings_percent')\n",
    "            if prcnt:\n",
    "                print('True')\n",
    "                print(prcnt)\n",
    "                prcnt = convert_perc(prcnt)\n",
    "                print(prcnt)\n",
    "                values.append({type_s:prcnt})\n",
    "                \n",
    "            # Add infinite loop with break statement\n",
    "            else:\n",
    "                print('--------------------------------')\n",
    "                print('ERROR:: NON NUMERIC VALUE')\n",
    "                print('--------------------------------')\n",
    "                prcnt = get_num('savings_percent')\n",
    "                values.append({type_s:prcnt})    \n",
    "                print('--------------------------------')\n",
    "\n",
    "            if len(values) == len(keys):\n",
    "                break\n",
    "        zips = zip(keys, values)\n",
    "        savings = dict(zips)\n",
    "        return savings"
   ]
  },
  {
   "cell_type": "code",
   "execution_count": null,
   "metadata": {},
   "outputs": [],
   "source": [
    "calc_savings()"
   ]
  },
  {
   "cell_type": "code",
   "execution_count": null,
   "metadata": {},
   "outputs": [],
   "source": [
    "# I broke the calc savings, trying to create a inf loop, until user wants to exit or\n",
    "#they give an integer or float answer\n",
    "def calc_savings():\n",
    "    \n",
    "    keys = range(int(input('How many different types of savings do you have?\\n')))\n",
    "    print('--------------------------------')\n",
    "    values = []\n",
    "    counter = 0\n",
    "    \n",
    "    for i in keys:\n",
    "        counter += 1\n",
    "        print(f'Savings type {counter} of {len(keys)}')\n",
    "        print('--------------------------------')\n",
    "        type_s = input('What type of savings?\\n').lower()\n",
    "        print('--------------------------------')\n",
    "        \n",
    "        prcnt = input(\"What % of income for savings type\\n\")\n",
    "        \n",
    "        if verify_int(prcnt):\n",
    "            prcnt = convert_perc(prcnt)\n",
    "            values.append({type_s:prcnt}) \n",
    "        else:\n",
    "            print('ERROR:: NON NUMERIC VALUE')\n",
    "            print('--------------------------------')\n",
    "            prcnt = input(\"What % of income for savings type\\n\")\n",
    "            values.append({type_s:prcnt})    \n",
    "            print('--------------------------------')\n",
    "            \n",
    "        if len(values) == len(keys):\n",
    "            break\n",
    "    zips = zip(keys, values)\n",
    "    savings = dict(zips)\n",
    "    return savings"
   ]
  },
  {
   "cell_type": "code",
   "execution_count": null,
   "metadata": {},
   "outputs": [],
   "source": [
    "get_i = income()\n",
    "ideal_budget(get_i)\n",
    "calc_savings()"
   ]
  },
  {
   "cell_type": "code",
   "execution_count": null,
   "metadata": {},
   "outputs": [],
   "source": [
    "# #Savings 10%\n",
    "# savings_extra_debt_payment = 0\n",
    "# savings_emergency_fund = 0\n",
    "# savings_long_term = 0\n",
    "# savings_short_term = 0\n",
    "# savings_kid_college = 0\n",
    "\n",
    "# #Home 25%\n",
    "# living_mortgage_rent = 0\n",
    "# living_rental_insurance = 0\n",
    "# living_property_taxes = 0\n",
    "# living_day_care=0\n",
    "\n",
    "# #Utilities 5%\n",
    "# util_electric\n",
    "# util_gas\n",
    "# util_water\n",
    "# util_cable\n",
    "# util_phone\n",
    "# util_trash\n",
    "# util_internet\n",
    "\n",
    "# #Food 10%\n",
    "# food_groceries\n",
    "# food_restaurants\n",
    "# food_other\n",
    "\n",
    "# #Lifestyle 15%\n",
    "# style_education\n",
    "# style_laundry\n",
    "# style_clothing\n",
    "# style_fun_money\n",
    "# style_cosmetics\n",
    "# style_toiletries\n",
    "# style_pets\n",
    "# style_lawn_care\n",
    "\n",
    "# #Transportation 10%\n",
    "# transpo_car_loan1 = \n",
    "# transpo_car_loan2 =\n",
    "# transpo_car_insurance = \n",
    "# transpo_gas\n",
    "# transpo_car_maintenance\n",
    "# transpo_car_tax\n",
    "# transpo_tolls\n",
    "\n",
    "# #Medical 5%\n",
    "# med_health_insur\n",
    "# med_payments\n",
    "# med_dental_insur\n",
    "# med_dental_payments\n",
    "# med_optometrist\n",
    "# med_co_pay\n",
    "\n",
    "# #Debt ? 10%\n",
    "# debt_stu_loan\n",
    "# debt_cc1\n",
    "# debt_cc2\n",
    "# debt_other"
   ]
  },
  {
   "cell_type": "markdown",
   "metadata": {},
   "source": [
    "# Input trans type acceptor\n",
    "- Take given transcations scan the known dicts within the DB, then put the transcation in the proper budget category, or if it is not known ask for input from user which budget category it is and what type of trans is it\n",
    "\n",
    "------------------------------------------------------------------------\n",
    "### How?\n",
    "- Start with a sample dict, for something like phone providers search within that dict for a matching value within the values list\n",
    "- If it is not in the list ask if it is a phone, gas, etc trans type, add that trans type to the proper chosen dictionary"
   ]
  },
  {
   "cell_type": "code",
   "execution_count": null,
   "metadata": {},
   "outputs": [],
   "source": [
    "# Setting up temporary dicts\n",
    "gas = {\n",
    "    '7ELEVEN':['7ELEVEN'],\n",
    "    'SHELL': ['SHELL'],\n",
    "    'BP': ['BP'],\n",
    "    'SHEETZ': ['SHEETZ'],\n",
    "    'WAWA': ['WAWA']}\n",
    "\n",
    "util = {'WATER': ['SANITATION'],\n",
    "             'ELECTRICITY': ['POWER'],\n",
    "             'OIL':['OIL'],\n",
    "            'GAS':['GAS']}\n",
    "grocer ={\n",
    "    \n",
    "}\n",
    "\n",
    "home = {\n",
    "    \n",
    "}\n",
    "\n",
    "fun = {\n",
    "    \n",
    "}\n",
    "\n",
    "restau = {\n",
    "    \n",
    "}"
   ]
  },
  {
   "cell_type": "code",
   "execution_count": null,
   "metadata": {},
   "outputs": [],
   "source": [
    "phone = {\n",
    "    'AT&T': ['AT&T*BILL','AT&T'],\n",
    "    'Sprint':['SPRT', 'SPRNT'], \n",
    "    'T-Mobile':['TMOBILE', 'T-MOBILE', 'TMBL'],\n",
    "    'Verizon': ['VZWRLSS', 'VERIZON'],\n",
    "    'Spectrum': ['SPECTRUM']}"
   ]
  },
  {
   "cell_type": "code",
   "execution_count": null,
   "metadata": {},
   "outputs": [],
   "source": [
    "# putting the dicts into a list to cycle through\n",
    "Ttypes = [phone, gas, util, grocer, home, fun, restau]"
   ]
  },
  {
   "cell_type": "code",
   "execution_count": null,
   "metadata": {},
   "outputs": [],
   "source": [
    "#First layer needs to comform values to lower\n",
    "dict_lower = {key: [ele.lower() for ele in phone[key]] for key in phone}\n",
    "dict_lower"
   ]
  },
  {
   "cell_type": "code",
   "execution_count": null,
   "metadata": {},
   "outputs": [],
   "source": [
    "#Second layer # This returns the value from the dict that matches\n",
    "item = 'TMOBILE'\n",
    "ret = [bit.lower() for bit, vals in dict_lower.items() if item.lower() in vals]\n",
    "ret"
   ]
  },
  {
   "cell_type": "code",
   "execution_count": null,
   "metadata": {},
   "outputs": [],
   "source": [
    "# Combining layers into func to cycle with loop\n",
    "def search_dicts(search, dicts):\n",
    "    dict_lower = {key: [ele.lower() for ele in dicts[key]] for key in dicts}\n",
    "    ret =  [bit.lower() for bit, vals in dict_lower.items() if search.lower() in vals]\n",
    "    return ret"
   ]
  },
  {
   "cell_type": "code",
   "execution_count": null,
   "metadata": {},
   "outputs": [],
   "source": [
    "# Fixed\n",
    "search_val = 'Prime'\n",
    "for dicts in Ttypes:\n",
    "    if search_dicts(search_val, dicts):\n",
    "        print(search_dicts(search_val, dicts))\n",
    "        print('True')\n",
    "    else:\n",
    "        break\n",
    "kind = input(f'What kind of transaction is {search_val}\\n')\n",
    "# need to add key type from kind var into Ttypes list\n"
   ]
  },
  {
   "cell_type": "code",
   "execution_count": null,
   "metadata": {},
   "outputs": [],
   "source": []
  },
  {
   "cell_type": "code",
   "execution_count": null,
   "metadata": {},
   "outputs": [],
   "source": [
    "git_push()"
   ]
  },
  {
   "cell_type": "code",
   "execution_count": null,
   "metadata": {},
   "outputs": [],
   "source": []
  }
 ],
 "metadata": {
  "kernelspec": {
   "display_name": "Python 3",
   "language": "python",
   "name": "python3"
  },
  "language_info": {
   "codemirror_mode": {
    "name": "ipython",
    "version": 3
   },
   "file_extension": ".py",
   "mimetype": "text/x-python",
   "name": "python",
   "nbconvert_exporter": "python",
   "pygments_lexer": "ipython3",
   "version": "3.7.7"
  }
 },
 "nbformat": 4,
 "nbformat_minor": 4
}
