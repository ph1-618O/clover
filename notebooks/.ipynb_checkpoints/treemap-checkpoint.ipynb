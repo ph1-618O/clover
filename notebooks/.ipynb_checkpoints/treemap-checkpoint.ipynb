{
 "cells": [
  {
   "cell_type": "markdown",
   "id": "43b4164f",
   "metadata": {},
   "source": [
    "# DEPENDENCIES\n",
    "---"
   ]
  },
  {
   "cell_type": "code",
   "execution_count": 1,
   "id": "48a72196",
   "metadata": {},
   "outputs": [],
   "source": [
    "#!/usr/bin/env python3\n",
    "# coding: utf-8\n",
    "\n",
    "# color pallet greens https://coolors.co/34463e-a4c3b2-cce3de-eaf4f4-f6fff8\n",
    "# color pallet secondary https://coolors.co/353535-3c6e71-ffffff-d9d9d9-284b63\n",
    "\n",
    "import numpy as np\n",
    "import plotly.graph_objects as go\n",
    "import plotly.io as pio\n",
    "import pandas as pd\n",
    "import os\n",
    "import datetime\n",
    "from colour import Color\n",
    "from colr import color\n",
    "\n",
    "#Orca must be installed?\n",
    "#conda install -c plotly plotly-orca\n",
    "#Kaleido is for exporting images from plotly\n",
    "#pip install -U kaleido"
   ]
  },
  {
   "cell_type": "code",
   "execution_count": null,
   "id": "6d9ef54f",
   "metadata": {},
   "outputs": [],
   "source": [
    "def show_svg(filename):\n",
    "    from IPython.display import SVG, display\n",
    "    display(SVG(filename=f'fig{filename}.svg'))"
   ]
  },
  {
   "cell_type": "markdown",
   "id": "a136c873",
   "metadata": {},
   "source": [
    "# Colors\n",
    "----"
   ]
  },
  {
   "cell_type": "code",
   "execution_count": 2,
   "id": "f42991f1",
   "metadata": {},
   "outputs": [
    {
     "name": "stdout",
     "output_type": "stream",
     "text": [
      "10\n"
     ]
    }
   ],
   "source": [
    "rainbow_colors = ['#F94144', '#f3722c', '#F9844A', '#f8961e', '#F9C74F', '#90BE6D', '#43AA8B', '#4D908E', '#277DA1', '#577590']\n",
    "print(len(rainbow_colors))"
   ]
  },
  {
   "cell_type": "code",
   "execution_count": 3,
   "id": "fc3c798d",
   "metadata": {},
   "outputs": [
    {
     "name": "stdout",
     "output_type": "stream",
     "text": [
      "64\n"
     ]
    }
   ],
   "source": [
    "red_orange = ['#F94144' ,'#F94A40', '#F9543C', '#F95D37', '#F96733', '#F8702F', '#F87A2B', '#F88326', '#F88D22', '#F8961E']\n",
    "orange_yellow = ['#F89B23', '#F8A129', '#F8A62E', '#F8AC34', '#F9B139', '#F9B73F', '#F9BC44', '#F9C24A', '#F9C74F']\n",
    "yellow_green = ['#EDC652', '#E2C556','#D6C459', '#CAC35C', '#BFC260', '#B3C163', '#A7C066', '#9CBF6A', '#90BE6D',]\n",
    "green_cyan = ['#88BC70', '#87BC70', '#7FBA74', '#76B777', '#6EB57A', '#65B37E','#55B082', '#54AE84', '#4CAC88']\n",
    "cyan_deepcyan = ['#43AA8B', '#44A78B', '#45A48C', '#479E8C', '#499C8D', '#4A998D', '#4B968D', '#4C968D', '#4D908E']\n",
    "deepcyan_blue = ['#498E90','#458C92', '#408A94', '#3C8896', '#388599', '#34839B', '#2F819D', '#2B7F9F', '#277DA1']\n",
    "blue_darkblue = ['#2C7C9F', '#327B9D', '#377A9B', '#3C7999', '#427998', '#477896', '#4C7794', '#527692', '#577590']\n",
    "\n",
    "gradient = red_orange + orange_yellow + yellow_green + green_cyan + cyan_deepcyan + deepcyan_blue + blue_darkblue\n",
    "print(len(gradient))\n",
    "# gradient = red_orange + orange_yellow + yellow_green + cyan_deepcyan + deepcyan_blue + blue_darkblue\n",
    "# print(len(gradient))"
   ]
  },
  {
   "cell_type": "code",
   "execution_count": 4,
   "id": "a6c62e4c",
   "metadata": {},
   "outputs": [],
   "source": [
    "from colour import Color\n",
    "start = Color(\"#F94144\")\n",
    "colors = list(start.range_to(Color(\"#CAC35C\"),20))\n",
    "str(colors[1])\n",
    "\n",
    "\n",
    "color_list = []\n",
    "for i in range(len(colors)):\n",
    "    color_list.append(str(colors[i]))"
   ]
  },
  {
   "cell_type": "code",
   "execution_count": 5,
   "id": "bda581ad",
   "metadata": {},
   "outputs": [
    {
     "data": {
      "text/plain": [
       "<bound method Colr.color of ''>"
      ]
     },
     "execution_count": 5,
     "metadata": {},
     "output_type": "execute_result"
    }
   ],
   "source": [
    "color"
   ]
  },
  {
   "cell_type": "code",
   "execution_count": 6,
   "id": "1614d955",
   "metadata": {},
   "outputs": [
    {
     "name": "stdout",
     "output_type": "stream",
     "text": [
      "\u001b[48;5;16m\u001b[38;5;203mtest\u001b[0m\n"
     ]
    }
   ],
   "source": [
    "from colr import color\n",
    "print(color('test', fore='F94144', back='000'))"
   ]
  },
  {
   "cell_type": "code",
   "execution_count": 7,
   "id": "68bda3cf",
   "metadata": {},
   "outputs": [
    {
     "name": "stdout",
     "output_type": "stream",
     "text": [
      "\u001b[48;5;16m\u001b[38;5;203m■\u001b[0m\u001b[48;5;16m\u001b[38;5;203m■\u001b[0m\u001b[48;5;16m\u001b[38;5;203m■\u001b[0m\u001b[48;5;16m\u001b[38;5;203m■\u001b[0m\u001b[48;5;16m\u001b[38;5;203m■\u001b[0m\u001b[48;5;16m\u001b[38;5;202m■\u001b[0m\u001b[48;5;16m\u001b[38;5;208m■\u001b[0m\u001b[48;5;16m\u001b[38;5;208m■\u001b[0m\u001b[48;5;16m\u001b[38;5;208m■\u001b[0m\u001b[48;5;16m\u001b[38;5;208m■\u001b[0m\u001b[48;5;16m\u001b[38;5;214m■\u001b[0m\u001b[48;5;16m\u001b[38;5;214m■\u001b[0m\u001b[48;5;16m\u001b[38;5;214m■\u001b[0m\u001b[48;5;16m\u001b[38;5;215m■\u001b[0m\u001b[48;5;16m\u001b[38;5;215m■\u001b[0m\u001b[48;5;16m\u001b[38;5;215m■\u001b[0m\u001b[48;5;16m\u001b[38;5;215m■\u001b[0m\u001b[48;5;16m\u001b[38;5;215m■\u001b[0m\u001b[48;5;16m\u001b[38;5;221m■\u001b[0m\u001b[48;5;16m\u001b[38;5;221m■\u001b[0m\u001b[48;5;16m\u001b[38;5;185m■\u001b[0m\u001b[48;5;16m\u001b[38;5;185m■\u001b[0m\u001b[48;5;16m\u001b[38;5;185m■\u001b[0m\u001b[48;5;16m\u001b[38;5;143m■\u001b[0m\u001b[48;5;16m\u001b[38;5;143m■\u001b[0m\u001b[48;5;16m\u001b[38;5;143m■\u001b[0m\u001b[48;5;16m\u001b[38;5;143m■\u001b[0m\u001b[48;5;16m\u001b[38;5;107m■\u001b[0m\u001b[48;5;16m\u001b[38;5;107m■\u001b[0m\u001b[48;5;16m\u001b[38;5;107m■\u001b[0m\u001b[48;5;16m\u001b[38;5;108m■\u001b[0m\u001b[48;5;16m\u001b[38;5;108m■\u001b[0m\u001b[48;5;16m\u001b[38;5;72m■\u001b[0m\u001b[48;5;16m\u001b[38;5;72m■\u001b[0m\u001b[48;5;16m\u001b[38;5;72m■\u001b[0m\u001b[48;5;16m\u001b[38;5;72m■\u001b[0m\u001b[48;5;16m\u001b[38;5;72m■\u001b[0m\u001b[48;5;16m\u001b[38;5;72m■\u001b[0m\u001b[48;5;16m\u001b[38;5;72m■\u001b[0m\u001b[48;5;16m\u001b[38;5;72m■\u001b[0m\u001b[48;5;16m\u001b[38;5;72m■\u001b[0m\u001b[48;5;16m\u001b[38;5;72m■\u001b[0m\u001b[48;5;16m\u001b[38;5;66m■\u001b[0m\u001b[48;5;16m\u001b[38;5;66m■\u001b[0m\u001b[48;5;16m\u001b[38;5;66m■\u001b[0m\u001b[48;5;16m\u001b[38;5;66m■\u001b[0m\u001b[48;5;16m\u001b[38;5;66m■\u001b[0m\u001b[48;5;16m\u001b[38;5;66m■\u001b[0m\u001b[48;5;16m\u001b[38;5;66m■\u001b[0m\u001b[48;5;16m\u001b[38;5;66m■\u001b[0m\u001b[48;5;16m\u001b[38;5;66m■\u001b[0m\u001b[48;5;16m\u001b[38;5;67m■\u001b[0m\u001b[48;5;16m\u001b[38;5;31m■\u001b[0m\u001b[48;5;16m\u001b[38;5;31m■\u001b[0m\u001b[48;5;16m\u001b[38;5;31m■\u001b[0m\u001b[48;5;16m\u001b[38;5;31m■\u001b[0m\u001b[48;5;16m\u001b[38;5;67m■\u001b[0m\u001b[48;5;16m\u001b[38;5;67m■\u001b[0m\u001b[48;5;16m\u001b[38;5;66m■\u001b[0m\u001b[48;5;16m\u001b[38;5;66m■\u001b[0m\u001b[48;5;16m\u001b[38;5;66m■\u001b[0m\u001b[48;5;16m\u001b[38;5;66m■\u001b[0m\u001b[48;5;16m\u001b[38;5;66m■\u001b[0m\u001b[48;5;16m\u001b[38;5;66m■\u001b[0m"
     ]
    }
   ],
   "source": [
    "for i in gradient:\n",
    "    print(color('■', fore=i, back='000'), end='')"
   ]
  },
  {
   "cell_type": "code",
   "execution_count": 8,
   "id": "249237bb",
   "metadata": {},
   "outputs": [
    {
     "name": "stdout",
     "output_type": "stream",
     "text": [
      "\u001b[48;5;16m\u001b[38;5;203m#F94144\u001b[0m\u001b[48;5;16m\u001b[38;5;203m#F94A40\u001b[0m\u001b[48;5;16m\u001b[38;5;203m#F9543C\u001b[0m\u001b[48;5;16m\u001b[38;5;203m#F95D37\u001b[0m\u001b[48;5;16m\u001b[38;5;203m#F96733\u001b[0m\u001b[48;5;16m\u001b[38;5;202m#F8702F\u001b[0m\u001b[48;5;16m\u001b[38;5;208m#F87A2B\u001b[0m\u001b[48;5;16m\u001b[38;5;208m#F88326\u001b[0m\u001b[48;5;16m\u001b[38;5;208m#F88D22\u001b[0m\u001b[48;5;16m\u001b[38;5;208m#F8961E\u001b[0m\u001b[48;5;16m\u001b[38;5;214m#F89B23\u001b[0m\u001b[48;5;16m\u001b[38;5;214m#F8A129\u001b[0m\u001b[48;5;16m\u001b[38;5;214m#F8A62E\u001b[0m\u001b[48;5;16m\u001b[38;5;215m#F8AC34\u001b[0m\u001b[48;5;16m\u001b[38;5;215m#F9B139\u001b[0m\u001b[48;5;16m\u001b[38;5;215m#F9B73F\u001b[0m\u001b[48;5;16m\u001b[38;5;215m#F9BC44\u001b[0m\u001b[48;5;16m\u001b[38;5;215m#F9C24A\u001b[0m\u001b[48;5;16m\u001b[38;5;221m#F9C74F\u001b[0m\u001b[48;5;16m\u001b[38;5;221m#EDC652\u001b[0m\u001b[48;5;16m\u001b[38;5;185m#E2C556\u001b[0m\u001b[48;5;16m\u001b[38;5;185m#D6C459\u001b[0m\u001b[48;5;16m\u001b[38;5;185m#CAC35C\u001b[0m\u001b[48;5;16m\u001b[38;5;143m#BFC260\u001b[0m\u001b[48;5;16m\u001b[38;5;143m#B3C163\u001b[0m\u001b[48;5;16m\u001b[38;5;143m#A7C066\u001b[0m\u001b[48;5;16m\u001b[38;5;143m#9CBF6A\u001b[0m\u001b[48;5;16m\u001b[38;5;107m#90BE6D\u001b[0m\u001b[48;5;16m\u001b[38;5;107m#88BC70\u001b[0m\u001b[48;5;16m\u001b[38;5;107m#87BC70\u001b[0m\u001b[48;5;16m\u001b[38;5;108m#7FBA74\u001b[0m\u001b[48;5;16m\u001b[38;5;108m#76B777\u001b[0m\u001b[48;5;16m\u001b[38;5;72m#6EB57A\u001b[0m\u001b[48;5;16m\u001b[38;5;72m#65B37E\u001b[0m\u001b[48;5;16m\u001b[38;5;72m#55B082\u001b[0m\u001b[48;5;16m\u001b[38;5;72m#54AE84\u001b[0m\u001b[48;5;16m\u001b[38;5;72m#4CAC88\u001b[0m\u001b[48;5;16m\u001b[38;5;72m#43AA8B\u001b[0m\u001b[48;5;16m\u001b[38;5;72m#44A78B\u001b[0m\u001b[48;5;16m\u001b[38;5;72m#45A48C\u001b[0m\u001b[48;5;16m\u001b[38;5;72m#479E8C\u001b[0m\u001b[48;5;16m\u001b[38;5;72m#499C8D\u001b[0m\u001b[48;5;16m\u001b[38;5;66m#4A998D\u001b[0m\u001b[48;5;16m\u001b[38;5;66m#4B968D\u001b[0m\u001b[48;5;16m\u001b[38;5;66m#4C968D\u001b[0m\u001b[48;5;16m\u001b[38;5;66m#4D908E\u001b[0m\u001b[48;5;16m\u001b[38;5;66m#498E90\u001b[0m\u001b[48;5;16m\u001b[38;5;66m#458C92\u001b[0m\u001b[48;5;16m\u001b[38;5;66m#408A94\u001b[0m\u001b[48;5;16m\u001b[38;5;66m#3C8896\u001b[0m\u001b[48;5;16m\u001b[38;5;66m#388599\u001b[0m\u001b[48;5;16m\u001b[38;5;67m#34839B\u001b[0m\u001b[48;5;16m\u001b[38;5;31m#2F819D\u001b[0m\u001b[48;5;16m\u001b[38;5;31m#2B7F9F\u001b[0m\u001b[48;5;16m\u001b[38;5;31m#277DA1\u001b[0m\u001b[48;5;16m\u001b[38;5;31m#2C7C9F\u001b[0m\u001b[48;5;16m\u001b[38;5;67m#327B9D\u001b[0m\u001b[48;5;16m\u001b[38;5;67m#377A9B\u001b[0m\u001b[48;5;16m\u001b[38;5;66m#3C7999\u001b[0m\u001b[48;5;16m\u001b[38;5;66m#427998\u001b[0m\u001b[48;5;16m\u001b[38;5;66m#477896\u001b[0m\u001b[48;5;16m\u001b[38;5;66m#4C7794\u001b[0m\u001b[48;5;16m\u001b[38;5;66m#527692\u001b[0m\u001b[48;5;16m\u001b[38;5;66m#577590\u001b[0m"
     ]
    }
   ],
   "source": [
    "for i in gradient:\n",
    "    print(color(f'{i}', fore=i, back='000'), end='')"
   ]
  },
  {
   "cell_type": "code",
   "execution_count": 9,
   "id": "fe227f4a",
   "metadata": {},
   "outputs": [
    {
     "name": "stdout",
     "output_type": "stream",
     "text": [
      "\u001b[48;5;16m\u001b[38;5;203m■\u001b[0m\u001b[48;5;16m\u001b[38;5;204m■\u001b[0m\u001b[48;5;16m\u001b[38;5;205m■\u001b[0m\u001b[48;5;16m\u001b[38;5;206m■\u001b[0m\u001b[48;5;16m\u001b[38;5;171m■\u001b[0m\u001b[48;5;16m\u001b[38;5;135m■\u001b[0m\u001b[48;5;16m\u001b[38;5;99m■\u001b[0m\u001b[48;5;16m\u001b[38;5;62m■\u001b[0m\u001b[48;5;16m\u001b[38;5;62m■\u001b[0m\u001b[48;5;16m\u001b[38;5;68m■\u001b[0m\u001b[48;5;16m\u001b[38;5;74m■\u001b[0m\u001b[48;5;16m\u001b[38;5;80m■\u001b[0m\u001b[48;5;16m\u001b[38;5;79m■\u001b[0m\u001b[48;5;16m\u001b[38;5;78m■\u001b[0m\u001b[48;5;16m\u001b[38;5;78m■\u001b[0m\u001b[48;5;16m\u001b[38;5;77m■\u001b[0m\u001b[48;5;16m\u001b[38;5;113m■\u001b[0m\u001b[48;5;16m\u001b[38;5;113m■\u001b[0m\u001b[48;5;16m\u001b[38;5;149m■\u001b[0m\u001b[48;5;16m\u001b[38;5;185m■\u001b[0m"
     ]
    }
   ],
   "source": [
    "#help('colour')\n",
    "\n",
    "for i in colors:\n",
    "    print(color('■', fore=str(i), back='000'), end='')"
   ]
  },
  {
   "cell_type": "code",
   "execution_count": 10,
   "id": "e78c005a",
   "metadata": {},
   "outputs": [],
   "source": [
    "rainbow_colors = ['#F94144', '#f3722c', '#F9844A', '#f8961e', '#F9C74F', '#90BE6D', '#43AA8B', '#4D908E', '#277DA1', '#577590']\n",
    "# color= rainbow_colors[:len(cat_order['category'])+1]"
   ]
  },
  {
   "cell_type": "markdown",
   "id": "22c44a0b",
   "metadata": {},
   "source": [
    "# DATA"
   ]
  },
  {
   "cell_type": "code",
   "execution_count": 12,
   "id": "4ffdceee",
   "metadata": {},
   "outputs": [],
   "source": [
    "# data_df = pd.read_csv('sample_data_month_categories.csv')\n",
    "data_df = pd.read_csv('../data/sample_data_month_categories.csv')\n",
    "#data_df = pd.read_csv('../test/organized.csv')\n",
    "col_names = []\n",
    "for col in data_df.columns:\n",
    "    col_names.append(col)\n",
    "col_data = []\n",
    "for i in col_names:\n",
    "    col_data.append(data_df[i])"
   ]
  },
  {
   "cell_type": "code",
   "execution_count": 13,
   "id": "85a0548b",
   "metadata": {},
   "outputs": [
    {
     "data": {
      "text/html": [
       "<div>\n",
       "<style scoped>\n",
       "    .dataframe tbody tr th:only-of-type {\n",
       "        vertical-align: middle;\n",
       "    }\n",
       "\n",
       "    .dataframe tbody tr th {\n",
       "        vertical-align: top;\n",
       "    }\n",
       "\n",
       "    .dataframe thead th {\n",
       "        text-align: right;\n",
       "    }\n",
       "</style>\n",
       "<table border=\"1\" class=\"dataframe\">\n",
       "  <thead>\n",
       "    <tr style=\"text-align: right;\">\n",
       "      <th></th>\n",
       "      <th>date</th>\n",
       "      <th>transaction</th>\n",
       "      <th>amount</th>\n",
       "      <th>identifier</th>\n",
       "      <th>category</th>\n",
       "    </tr>\n",
       "  </thead>\n",
       "  <tbody>\n",
       "    <tr>\n",
       "      <th>0</th>\n",
       "      <td>03/31/2021</td>\n",
       "      <td>TRELLO.COM, ATLASSIAN 888-942-1573 NY</td>\n",
       "      <td>-69.99</td>\n",
       "      <td>TRELLO.COM,</td>\n",
       "      <td>work</td>\n",
       "    </tr>\n",
       "    <tr>\n",
       "      <th>1</th>\n",
       "      <td>04/05/2021</td>\n",
       "      <td>KROGER #456 MARTINSBURG NC</td>\n",
       "      <td>-229.12</td>\n",
       "      <td>KROGER</td>\n",
       "      <td>food</td>\n",
       "    </tr>\n",
       "    <tr>\n",
       "      <th>2</th>\n",
       "      <td>04/05/2021</td>\n",
       "      <td>HOME DEPOT #11154 MARTINSBURG NC</td>\n",
       "      <td>-20.00</td>\n",
       "      <td>DEPOT</td>\n",
       "      <td>home</td>\n",
       "    </tr>\n",
       "    <tr>\n",
       "      <th>3</th>\n",
       "      <td>04/05/2021</td>\n",
       "      <td>JAPANESE RESTAURANT MARTINSBURG NC</td>\n",
       "      <td>-48.39</td>\n",
       "      <td>RESTAURANT</td>\n",
       "      <td>restaurants</td>\n",
       "    </tr>\n",
       "    <tr>\n",
       "      <th>4</th>\n",
       "      <td>04/06/2021</td>\n",
       "      <td>TRACTOR SUPPLY #5555 NEWARK NY</td>\n",
       "      <td>-27.50</td>\n",
       "      <td>TRACTOR</td>\n",
       "      <td>home</td>\n",
       "    </tr>\n",
       "  </tbody>\n",
       "</table>\n",
       "</div>"
      ],
      "text/plain": [
       "         date                            transaction  amount   identifier  \\\n",
       "0  03/31/2021  TRELLO.COM, ATLASSIAN 888-942-1573 NY  -69.99  TRELLO.COM,   \n",
       "1  04/05/2021             KROGER #456 MARTINSBURG NC -229.12       KROGER   \n",
       "2  04/05/2021       HOME DEPOT #11154 MARTINSBURG NC  -20.00        DEPOT   \n",
       "3  04/05/2021     JAPANESE RESTAURANT MARTINSBURG NC  -48.39   RESTAURANT   \n",
       "4  04/06/2021         TRACTOR SUPPLY #5555 NEWARK NY  -27.50      TRACTOR   \n",
       "\n",
       "      category  \n",
       "0         work  \n",
       "1         food  \n",
       "2         home  \n",
       "3  restaurants  \n",
       "4         home  "
      ]
     },
     "execution_count": 13,
     "metadata": {},
     "output_type": "execute_result"
    }
   ],
   "source": [
    "data_df.head()"
   ]
  },
  {
   "cell_type": "code",
   "execution_count": 14,
   "id": "be4d4b65",
   "metadata": {},
   "outputs": [],
   "source": [
    "def make_num(df, col_name):\n",
    "    newCol = []\n",
    "    for i in range(len(df)):\n",
    "        newCol.append(convert_amount(df[col_name][i]))\n",
    "    df[col_name] = newCol\n",
    "    return df.reset_index(drop=True)\n",
    "\n",
    "def convert_amount(entry):\n",
    "    # there are entries where there is no balance listed\n",
    "    entry = str(entry).strip()\n",
    "    if \"--\" in entry:\n",
    "        return 0\n",
    "    # making the float negative\n",
    "    if \"-\" in entry:\n",
    "        return float(entry.translate({ord(i): None for i in \"$-,\"})) * -1\n",
    "    else:\n",
    "        return float(entry.translate({ord(i): None for i in \"$-,\"}))\n",
    "\n",
    "def convert_date(original_df):\n",
    "    import datetime\n",
    "    df = original_df.rename(str.lower, axis='columns')\n",
    "    list_cols = [i.lower() for i in df.columns.tolist()]\n",
    "    test_cols = [\"date\", \"day\", \"time\", \"occurrence\"]\n",
    "    verified_cols = []\n",
    "    for col in list_cols:\n",
    "        for test in test_cols:\n",
    "            if test in col:\n",
    "                verified_cols.append(col.lower())\n",
    "    for tested in verified_cols:\n",
    "        search_dates = df[tested].apply(\n",
    "            lambda x: 'True' if isinstance(x, datetime.date) else 'False')\n",
    "        if not search_dates.any():\n",
    "            p_slash()\n",
    "            print('ALL DATES ARE IN DATETIME SKIPPING')\n",
    "            p_slash()\n",
    "            continue\n",
    "        elif (df[tested].map(type) == str).all():\n",
    "            date_time = []\n",
    "            for j in df[tested]:\n",
    "                if len(j) == 10 and '/' in j:\n",
    "                    date_time.append(\n",
    "                        datetime.datetime.strptime(j, \"%m/%d/%Y\"))\n",
    "                elif len(j) == 8 and '/' in j:\n",
    "                    date_time.append(\n",
    "                        datetime.datetime.strptime(j, \"%m/%d/%y\"))\n",
    "                elif len(j) == 10 and '-' in j:\n",
    "                    date_time.append(\n",
    "                        datetime.datetime.strptime(j, \"%Y-%m-%d\"))\n",
    "                else:\n",
    "                    print(\"UNKNOWN DATE FORMAT SKIPPING FORMATTING\")\n",
    "                    return df\n",
    "            df[tested] = date_time\n",
    "            df[tested] = pd.to_datetime(df[tested]).apply(lambda x: x.date())\n",
    "            df = df.sort_values(\n",
    "                by=[tested]).reset_index(drop=True)\n",
    "            # Want to use sort_values by tested, however, because its a loop it wont choose the primary date col\n",
    "            # df = df.sort_values(\n",
    "            #     by=['date', 'transaction', 'amount']).reset_index(drop=True)\n",
    "            # (by=['date', 'category', 'identifier', 'amount']\n",
    "        else:\n",
    "            print('your dates are a mess, see your programmer')\n",
    "    return df"
   ]
  },
  {
   "cell_type": "code",
   "execution_count": 15,
   "id": "e86b571b",
   "metadata": {},
   "outputs": [],
   "source": [
    "if 'Date2' in data_df.columns:\n",
    "    data_df=data_df.drop('Date2', axis=1)\n",
    "    data_df.head()"
   ]
  },
  {
   "cell_type": "code",
   "execution_count": 16,
   "id": "dbce0484",
   "metadata": {},
   "outputs": [],
   "source": [
    "data_df = convert_date(data_df)\n",
    "#data_df = make_num(data_df, 'amount')"
   ]
  },
  {
   "cell_type": "code",
   "execution_count": 17,
   "id": "11ea7103",
   "metadata": {},
   "outputs": [],
   "source": [
    "if 'category' in data_df.columns:\n",
    "    data_df = data_df.loc[data_df['category'] != 'payment']\n",
    "    data_df = data_df.loc[data_df['category'] != 'interest']"
   ]
  },
  {
   "cell_type": "markdown",
   "id": "66e8a269",
   "metadata": {},
   "source": [
    "# Adding Month and Day Num Cols \n",
    "---"
   ]
  },
  {
   "cell_type": "code",
   "execution_count": 18,
   "id": "69d36af1",
   "metadata": {},
   "outputs": [
    {
     "data": {
      "text/html": [
       "<div>\n",
       "<style scoped>\n",
       "    .dataframe tbody tr th:only-of-type {\n",
       "        vertical-align: middle;\n",
       "    }\n",
       "\n",
       "    .dataframe tbody tr th {\n",
       "        vertical-align: top;\n",
       "    }\n",
       "\n",
       "    .dataframe thead th {\n",
       "        text-align: right;\n",
       "    }\n",
       "</style>\n",
       "<table border=\"1\" class=\"dataframe\">\n",
       "  <thead>\n",
       "    <tr style=\"text-align: right;\">\n",
       "      <th></th>\n",
       "      <th>date</th>\n",
       "      <th>transaction</th>\n",
       "      <th>amount</th>\n",
       "      <th>identifier</th>\n",
       "      <th>category</th>\n",
       "      <th>long_day</th>\n",
       "      <th>long_month</th>\n",
       "      <th>month</th>\n",
       "      <th>day</th>\n",
       "    </tr>\n",
       "  </thead>\n",
       "  <tbody>\n",
       "    <tr>\n",
       "      <th>0</th>\n",
       "      <td>2021-03-31</td>\n",
       "      <td>TRELLO.COM, ATLASSIAN 888-942-1573 NY</td>\n",
       "      <td>-69.99</td>\n",
       "      <td>TRELLO.COM,</td>\n",
       "      <td>work</td>\n",
       "      <td>Wednesday</td>\n",
       "      <td>March</td>\n",
       "      <td>3</td>\n",
       "      <td>31</td>\n",
       "    </tr>\n",
       "    <tr>\n",
       "      <th>1</th>\n",
       "      <td>2021-04-05</td>\n",
       "      <td>KROGER #456 MARTINSBURG NC</td>\n",
       "      <td>-229.12</td>\n",
       "      <td>KROGER</td>\n",
       "      <td>food</td>\n",
       "      <td>Friday</td>\n",
       "      <td>April</td>\n",
       "      <td>4</td>\n",
       "      <td>5</td>\n",
       "    </tr>\n",
       "    <tr>\n",
       "      <th>2</th>\n",
       "      <td>2021-04-05</td>\n",
       "      <td>HOME DEPOT #11154 MARTINSBURG NC</td>\n",
       "      <td>-20.00</td>\n",
       "      <td>DEPOT</td>\n",
       "      <td>home</td>\n",
       "      <td>Friday</td>\n",
       "      <td>April</td>\n",
       "      <td>4</td>\n",
       "      <td>5</td>\n",
       "    </tr>\n",
       "    <tr>\n",
       "      <th>3</th>\n",
       "      <td>2021-04-05</td>\n",
       "      <td>JAPANESE RESTAURANT MARTINSBURG NC</td>\n",
       "      <td>-48.39</td>\n",
       "      <td>RESTAURANT</td>\n",
       "      <td>restaurants</td>\n",
       "      <td>Friday</td>\n",
       "      <td>April</td>\n",
       "      <td>4</td>\n",
       "      <td>5</td>\n",
       "    </tr>\n",
       "    <tr>\n",
       "      <th>4</th>\n",
       "      <td>2021-04-06</td>\n",
       "      <td>TRACTOR SUPPLY #5555 NEWARK NY</td>\n",
       "      <td>-27.50</td>\n",
       "      <td>TRACTOR</td>\n",
       "      <td>home</td>\n",
       "      <td>Saturday</td>\n",
       "      <td>April</td>\n",
       "      <td>4</td>\n",
       "      <td>6</td>\n",
       "    </tr>\n",
       "  </tbody>\n",
       "</table>\n",
       "</div>"
      ],
      "text/plain": [
       "         date                            transaction  amount   identifier  \\\n",
       "0  2021-03-31  TRELLO.COM, ATLASSIAN 888-942-1573 NY  -69.99  TRELLO.COM,   \n",
       "1  2021-04-05             KROGER #456 MARTINSBURG NC -229.12       KROGER   \n",
       "2  2021-04-05       HOME DEPOT #11154 MARTINSBURG NC  -20.00        DEPOT   \n",
       "3  2021-04-05     JAPANESE RESTAURANT MARTINSBURG NC  -48.39   RESTAURANT   \n",
       "4  2021-04-06         TRACTOR SUPPLY #5555 NEWARK NY  -27.50      TRACTOR   \n",
       "\n",
       "      category   long_day long_month  month  day  \n",
       "0         work  Wednesday      March      3   31  \n",
       "1         food     Friday      April      4    5  \n",
       "2         home     Friday      April      4    5  \n",
       "3  restaurants     Friday      April      4    5  \n",
       "4         home   Saturday      April      4    6  "
      ]
     },
     "execution_count": 18,
     "metadata": {},
     "output_type": "execute_result"
    }
   ],
   "source": [
    "# Adding a numerical day for data, and a word value for day of week\n",
    "data_df['day'] = pd.DatetimeIndex(data_df['date']).day\n",
    "data_df['long_day'] = list(map(lambda x: datetime.datetime.strptime(str(x), \"%d\").strftime(\"%A\"), data_df['day']))\n",
    "\n",
    "# Adding a numerical value col for month and a word value for mo\n",
    "data_df['month'] = pd.DatetimeIndex(data_df['date']).month\n",
    "data_df['long_month'] = list(map(lambda x: datetime.datetime.strptime(str(x), \"%m\").strftime(\"%B\"), data_df['month']))\n",
    "\n",
    "# Fixing order\n",
    "reorder = data_df[['month', 'day']].copy(deep=True)\n",
    "data_df = data_df.drop(columns=['month','day'])\n",
    "data_df['month'] = reorder['month']\n",
    "data_df['day'] = reorder['day']\n",
    "\n",
    "data_df.head()"
   ]
  },
  {
   "cell_type": "markdown",
   "id": "69286750",
   "metadata": {},
   "source": [
    "# ******Whole month total for spending\n",
    "\n",
    "---"
   ]
  },
  {
   "cell_type": "code",
   "execution_count": 19,
   "id": "a18e85eb",
   "metadata": {},
   "outputs": [
    {
     "data": {
      "text/html": [
       "<div>\n",
       "<style scoped>\n",
       "    .dataframe tbody tr th:only-of-type {\n",
       "        vertical-align: middle;\n",
       "    }\n",
       "\n",
       "    .dataframe tbody tr th {\n",
       "        vertical-align: top;\n",
       "    }\n",
       "\n",
       "    .dataframe thead th {\n",
       "        text-align: right;\n",
       "    }\n",
       "</style>\n",
       "<table border=\"1\" class=\"dataframe\">\n",
       "  <thead>\n",
       "    <tr style=\"text-align: right;\">\n",
       "      <th></th>\n",
       "      <th>month</th>\n",
       "      <th>long_month</th>\n",
       "      <th>month_sum</th>\n",
       "    </tr>\n",
       "  </thead>\n",
       "  <tbody>\n",
       "    <tr>\n",
       "      <th>0</th>\n",
       "      <td>3</td>\n",
       "      <td>March</td>\n",
       "      <td>-69.99</td>\n",
       "    </tr>\n",
       "    <tr>\n",
       "      <th>1</th>\n",
       "      <td>4</td>\n",
       "      <td>April</td>\n",
       "      <td>-1195.79</td>\n",
       "    </tr>\n",
       "    <tr>\n",
       "      <th>2</th>\n",
       "      <td>5</td>\n",
       "      <td>May</td>\n",
       "      <td>-143.40</td>\n",
       "    </tr>\n",
       "  </tbody>\n",
       "</table>\n",
       "</div>"
      ],
      "text/plain": [
       "   month long_month  month_sum\n",
       "0      3      March     -69.99\n",
       "1      4      April   -1195.79\n",
       "2      5        May    -143.40"
      ]
     },
     "execution_count": 19,
     "metadata": {},
     "output_type": "execute_result"
    }
   ],
   "source": [
    "if 'category' in data_df.columns:\n",
    "    month_sum = (data_df.groupby(['month', 'long_month'])['amount'].sum()).to_frame(name='month_sum').reset_index()\n",
    "    month_categories = (data_df.groupby(['month', 'category', 'long_month'])['amount'].sum()).to_frame(name='month_sum').reset_index()\n",
    "else:\n",
    "    month_sum = (data_df.groupby(['month', 'long_month'])['amount'].sum()).to_frame(name='month_sum').reset_index()\n",
    "    month_categories = (data_df.groupby(['month', 'long_month'])['amount'].sum()).to_frame(name='month_sum').reset_index()\n",
    "\n",
    "month_sum"
   ]
  },
  {
   "cell_type": "markdown",
   "id": "f09c5aba",
   "metadata": {},
   "source": [
    "# Spending by Category summed into Months\n",
    "\n",
    "----"
   ]
  },
  {
   "cell_type": "markdown",
   "id": "7addedd7",
   "metadata": {},
   "source": [
    "# Removing Payment category"
   ]
  },
  {
   "cell_type": "code",
   "execution_count": 20,
   "id": "8a6eb771",
   "metadata": {},
   "outputs": [],
   "source": [
    "if 'category' in data_df.columns:\n",
    "    month_categories = month_categories.loc[month_categories['category'] != 'payment']\n",
    "    month_categories = month_categories.sort_values(by=['month', 'month_sum']).reset_index(drop=True)\n",
    "    month_categories.head()"
   ]
  },
  {
   "cell_type": "markdown",
   "id": "ff88b26c",
   "metadata": {},
   "source": [
    "# DICTIONARY OPTIONS\n",
    "\n",
    "-------------------------------------------------------------------------------------------------------------------"
   ]
  },
  {
   "cell_type": "markdown",
   "id": "a3f1dbd9",
   "metadata": {},
   "source": [
    " |   |   |   |   |   | |||\n",
    "|---|---|---|---|---|---|---|---|\n",
    " | **parent**       | **type**         | **priority**     | **fixed/variable** | **one-time/re-occuring** | **identifier**    | **amount**  | **date**    | **transaction**                   |\n",
    " | health       |life insurance| essential    | fixed          | re-occuring          | 'AAA Insurance| -50     | 01/22/21| AAA INSURANCE PAYMENT 48684   |\n",
    " | entertainment|movies        | non-essential| variable       | one-time             | 'REGAL'       | -15     | 01/12/21| CINEMA REGAL PARK WEST VA 1588|"
   ]
  },
  {
   "cell_type": "code",
   "execution_count": 21,
   "id": "f68cf135",
   "metadata": {},
   "outputs": [],
   "source": [
    "# Thinking about adding another column based on this data\n",
    "# dataframe might look good like\n",
    "# where parent = budget category\n",
    "# | parent       | type         | priority     | fixed/variable | one-time/re-occuring | identifier    | amount  | date    | transaction                   |\n",
    "# | health       |life insurance| essential    | fixed          | re-occuring          | 'AAA Insurance'| -50     | 01/22/21| AAA INSURANCE PAYMENT 48684   |\n",
    "# | entertainment|movies        | non-essential| variable       | one-time             | 'REGAL'       | -15     | 01/12/21| CINEMA REGAL PARK WEST VA 1588|\n",
    "\n",
    "fixed = {\n",
    "    'debt':['car loan', 'student loan/tution'],\n",
    "    'housing':['home owners insurance', 'renters insurance', 'rent', 'mortgage', 'property taxes'],\n",
    "    'utilities':['cable', 'internet', 'garbage'],\n",
    "    'medical':['health insurance'],\n",
    "    'childcare':['daycare', 'child support'],\n",
    "    'entertainment':['streaming services']\n",
    "}\n",
    "\n",
    "variable = {\n",
    "    'utilities':['water', 'electricity', 'gas', 'phone']\n",
    "}\n",
    "\n",
    "essentials = {\n",
    "    'savings' : ['life insurance', 'emergency fund', 'ROTH IRA', '401(k)', 'college fund', 'mad money'],\n",
    "    'debt' : ['credit card', 'car loan', 'student loan', 'tuition', 'pay day loan', 'other' ],\n",
    "    'domicile' : ['home', 'renters insurance', 'home insurance', 'rent', 'mortgage', 'repair', 'maitenance', 'furnishings', 'property taxes', 'yard', 'cleaning supply', 'kitchen ware','tools'],\n",
    "    'transportation' : ['car insurance','maintenance', 'gas' 'bus', 'subway', 'train', 'ferry fare'],\n",
    "    'food' : ['groceries', 'dining out', 'fast food', 'delivery', 'alcohol'],\n",
    "    'utilities' : ['phone', 'cable', 'internet', 'water', 'gas', 'electricity', 'garbage', 'utility'], #oil, wood\n",
    "    'medical' : ['health insurance','doctor', 'prescriptions', 'first aid supply'], #types of doctors, optometrist, dentist, etc\n",
    "    'education' : ['supplies', 'fees', 'books'],\n",
    "    'childcare' : ['daycare', 'camps', 'babysitter', 'child support'],\n",
    "    'personal' : ['clothing', 'toiletries', 'grooming']\n",
    "}\n",
    "\n",
    "non_essentials = {\n",
    "    'food' :['dining out', 'fast food', 'delivery', 'alcohol'],\n",
    "    'gifts' : ['birthday', 'anniversary', 'holiday', 'other'],\n",
    "    'giving': ['tithing', 'charitable', 'other'],\n",
    "    'pets': ['food', 'supplies', 'vet', 'prescriptions'],\n",
    "    'entertainment': ['streaming services','games', 'movies', 'hobbies', 'vacation', 'books'],\n",
    "    'personal': ['salon', 'gym', 'dry cleaning']\n",
    "    \n",
    "}\n",
    "#'domicile' : {'home': ['home insurance', 'mortgage', 'mortgage payment', 'home maitenance', 'home repair', 'property taxes', 'yard'],\n",
    "#                'rental':['renters insurance', 'rent', 'rent payment', 'rental repair'],\n",
    "#                 'furnishings':['furnishings', 'cleaning supply', 'kitchen ware','tools']},"
   ]
  },
  {
   "cell_type": "code",
   "execution_count": 22,
   "id": "7e32278d",
   "metadata": {},
   "outputs": [],
   "source": [
    "inside = ['savings', 'savings', 'debt', 'housing', 'transportation', 'food', 'utilities', 'medical', 'education', 'childcare', 'personal']"
   ]
  },
  {
   "cell_type": "code",
   "execution_count": 23,
   "id": "7bf9dd26",
   "metadata": {},
   "outputs": [],
   "source": [
    "outside = ['essential' for i in range(len(inside))]"
   ]
  },
  {
   "cell_type": "code",
   "execution_count": 24,
   "id": "5bcf06fc",
   "metadata": {},
   "outputs": [],
   "source": [
    "# red to blue/purple\n",
    "rainbow_colors = ['#F94144', '#f3722c', '#F9844A', '#f8961e', '#F9C74F', '#90BE6D', '#43AA8B', '#4D908E', '#277DA1', '#577590']"
   ]
  },
  {
   "cell_type": "markdown",
   "id": "8716216f",
   "metadata": {},
   "source": [
    "# PRETTY TREEMAP\n",
    "\n",
    "-------------------------------------------------------------------------------------------------------------------\n",
    "\n",
    "- FIX Legend\n",
    "- Change rainbow colors from a list to a dictionary and grab the correct values accordingly'\n",
    "- ie if data 100-90 red, 90-80 orange, 80-70 yellow, 70-60 green, 60-50 blue, 50-40, purple and on until 10-0\n",
    "- fix hover put something relevant\n",
    "\n",
    "# TreeMap for all Months consolidated"
   ]
  },
  {
   "cell_type": "code",
   "execution_count": 25,
   "id": "e73e8643",
   "metadata": {},
   "outputs": [],
   "source": [
    "#Making random data to create treemap\n",
    "\n",
    "import random\n",
    "def constrain_sum(n, total):\n",
    "    # Return an randomly chosen list of n positive intergers summing to 100/total\n",
    "    dividers = sorted(random.sample(range(1, total), n-1))\n",
    "    return [a - b for a,b in zip(dividers + [total], [0]+dividers)]\n",
    "nums = constrain_sum(len(inside), 100)"
   ]
  },
  {
   "cell_type": "code",
   "execution_count": 26,
   "id": "160f3ce1",
   "metadata": {},
   "outputs": [],
   "source": [
    "groups_all = list(essentials.keys()) + list(non_essentials)\n",
    "nums_all = constrain_sum(len(groups_all), 100)\n",
    "priority_all = ['Essential' if x in essentials.keys() else 'Non Essential' for x in groups_all]\n",
    "percentages_all = [str(nums_all[i])+'%' for i in range(len(nums_all))]\n",
    "# Create a data frame with fake data\n",
    "# df = pd.DataFrame({'nb_people':[8,3,4,2],\n",
    "#                    'group':[\"Housing\\n 40%\",\n",
    "#                             \"Utilities\\n 10%\",\n",
    "#                             \"Food\\n 10%\",\n",
    "#                             \"Entertainment\\n 10%\"]})\n",
    "df_all = pd.DataFrame(\n",
    "    {\n",
    "        'priority': priority_all,\n",
    "        'categories':groups_all,\n",
    "        'values': nums_all,\n",
    "        'percentages':percentages_all\n",
    "                  })"
   ]
  },
  {
   "cell_type": "code",
   "execution_count": 27,
   "id": "7851f60a",
   "metadata": {},
   "outputs": [],
   "source": [
    "colors_all = rainbow_colors[:len(groups_all)+1]\n",
    "counter = len(colors_all)\n",
    "while counter < len(df_all):\n",
    "    colors_all.append(rainbow_colors[len(df_all)-counter])\n",
    "    counter += 1\n",
    "#colors_all"
   ]
  },
  {
   "cell_type": "code",
   "execution_count": 28,
   "id": "05f627ab",
   "metadata": {},
   "outputs": [
    {
     "data": {
      "text/html": [
       "<div>\n",
       "<style scoped>\n",
       "    .dataframe tbody tr th:only-of-type {\n",
       "        vertical-align: middle;\n",
       "    }\n",
       "\n",
       "    .dataframe tbody tr th {\n",
       "        vertical-align: top;\n",
       "    }\n",
       "\n",
       "    .dataframe thead th {\n",
       "        text-align: right;\n",
       "    }\n",
       "</style>\n",
       "<table border=\"1\" class=\"dataframe\">\n",
       "  <thead>\n",
       "    <tr style=\"text-align: right;\">\n",
       "      <th></th>\n",
       "      <th>priority</th>\n",
       "      <th>categories</th>\n",
       "      <th>values</th>\n",
       "      <th>percentages</th>\n",
       "    </tr>\n",
       "  </thead>\n",
       "  <tbody>\n",
       "    <tr>\n",
       "      <th>0</th>\n",
       "      <td>Essential</td>\n",
       "      <td>savings</td>\n",
       "      <td>16</td>\n",
       "      <td>16%</td>\n",
       "    </tr>\n",
       "    <tr>\n",
       "      <th>1</th>\n",
       "      <td>Essential</td>\n",
       "      <td>debt</td>\n",
       "      <td>7</td>\n",
       "      <td>7%</td>\n",
       "    </tr>\n",
       "    <tr>\n",
       "      <th>2</th>\n",
       "      <td>Essential</td>\n",
       "      <td>domicile</td>\n",
       "      <td>1</td>\n",
       "      <td>1%</td>\n",
       "    </tr>\n",
       "    <tr>\n",
       "      <th>3</th>\n",
       "      <td>Essential</td>\n",
       "      <td>transportation</td>\n",
       "      <td>8</td>\n",
       "      <td>8%</td>\n",
       "    </tr>\n",
       "    <tr>\n",
       "      <th>4</th>\n",
       "      <td>Essential</td>\n",
       "      <td>food</td>\n",
       "      <td>2</td>\n",
       "      <td>2%</td>\n",
       "    </tr>\n",
       "  </tbody>\n",
       "</table>\n",
       "</div>"
      ],
      "text/plain": [
       "    priority      categories  values percentages\n",
       "0  Essential         savings      16         16%\n",
       "1  Essential            debt       7          7%\n",
       "2  Essential        domicile       1          1%\n",
       "3  Essential  transportation       8          8%\n",
       "4  Essential            food       2          2%"
      ]
     },
     "execution_count": 28,
     "metadata": {},
     "output_type": "execute_result"
    }
   ],
   "source": [
    "df_all.head()"
   ]
  },
  {
   "cell_type": "code",
   "execution_count": 29,
   "id": "265e204b",
   "metadata": {},
   "outputs": [
    {
     "data": {
      "text/html": [
       "<div>\n",
       "<style scoped>\n",
       "    .dataframe tbody tr th:only-of-type {\n",
       "        vertical-align: middle;\n",
       "    }\n",
       "\n",
       "    .dataframe tbody tr th {\n",
       "        vertical-align: top;\n",
       "    }\n",
       "\n",
       "    .dataframe thead th {\n",
       "        text-align: right;\n",
       "    }\n",
       "</style>\n",
       "<table border=\"1\" class=\"dataframe\">\n",
       "  <thead>\n",
       "    <tr style=\"text-align: right;\">\n",
       "      <th></th>\n",
       "      <th>priority</th>\n",
       "      <th>categories</th>\n",
       "      <th>values</th>\n",
       "      <th>percentages</th>\n",
       "    </tr>\n",
       "  </thead>\n",
       "  <tbody>\n",
       "    <tr>\n",
       "      <th>0</th>\n",
       "      <td>Essential</td>\n",
       "      <td>domicile</td>\n",
       "      <td>1</td>\n",
       "      <td>1%</td>\n",
       "    </tr>\n",
       "    <tr>\n",
       "      <th>1</th>\n",
       "      <td>Essential</td>\n",
       "      <td>education</td>\n",
       "      <td>1</td>\n",
       "      <td>1%</td>\n",
       "    </tr>\n",
       "    <tr>\n",
       "      <th>2</th>\n",
       "      <td>Non Essential</td>\n",
       "      <td>entertainment</td>\n",
       "      <td>1</td>\n",
       "      <td>1%</td>\n",
       "    </tr>\n",
       "    <tr>\n",
       "      <th>3</th>\n",
       "      <td>Essential</td>\n",
       "      <td>utilities</td>\n",
       "      <td>1</td>\n",
       "      <td>1%</td>\n",
       "    </tr>\n",
       "    <tr>\n",
       "      <th>4</th>\n",
       "      <td>Essential</td>\n",
       "      <td>food</td>\n",
       "      <td>2</td>\n",
       "      <td>2%</td>\n",
       "    </tr>\n",
       "  </tbody>\n",
       "</table>\n",
       "</div>"
      ],
      "text/plain": [
       "        priority     categories  values percentages\n",
       "0      Essential       domicile       1          1%\n",
       "1      Essential      education       1          1%\n",
       "2  Non Essential  entertainment       1          1%\n",
       "3      Essential      utilities       1          1%\n",
       "4      Essential           food       2          2%"
      ]
     },
     "execution_count": 29,
     "metadata": {},
     "output_type": "execute_result"
    }
   ],
   "source": [
    "sorted_df = df_all.sort_values(by=['values', 'categories']).reset_index(drop=True)\n",
    "sorted_df.head()"
   ]
  },
  {
   "cell_type": "code",
   "execution_count": 41,
   "id": "81b6404f",
   "metadata": {},
   "outputs": [
    {
     "data": {
      "application/vnd.plotly.v1+json": {
       "config": {
        "plotlyServerURL": "https://plot.ly"
       },
       "data": [
        {
         "branchvalues": "total",
         "customdata": [
          [
           1
          ],
          [
           1
          ],
          [
           1
          ],
          [
           1
          ],
          [
           11
          ],
          [
           14
          ],
          [
           16
          ],
          [
           18
          ],
          [
           2
          ],
          [
           2
          ],
          [
           3
          ],
          [
           6
          ],
          [
           7
          ],
          [
           7
          ],
          [
           8
          ],
          [
           11
          ],
          [
           7
          ],
          [
           1
          ],
          [
           1
          ],
          [
           1
          ],
          [
           2
          ],
          [
           18
          ],
          [
           3
          ],
          [
           2
          ],
          [
           6.538461538461538
          ],
          [
           14
          ],
          [
           16
          ],
          [
           8
          ],
          [
           1
          ],
          [
           9.21875
          ],
          [
           14.722222222222221
          ]
         ],
         "domain": {
          "x": [
           0,
           1
          ],
          "y": [
           0,
           1
          ]
         },
         "hovertemplate": "labels=%{label}<br>values_sum=%{value}<br>parent=%{parent}<br>id=%{id}<br>values=%{color}<extra></extra>",
         "ids": [
          "Essential/domicile/1%",
          "Essential/education/1%",
          "Non Essential/entertainment/1%",
          "Essential/utilities/1%",
          "Essential/childcare/11%",
          "Non Essential/pets/14%",
          "Essential/savings/16%",
          "Non Essential/gifts/18%",
          "Essential/food/2%",
          "Essential/medical/2%",
          "Non Essential/giving/3%",
          "Essential/personal/6%",
          "Essential/debt/7%",
          "Essential/personal/7%",
          "Essential/transportation/8%",
          "Essential/childcare",
          "Essential/debt",
          "Essential/domicile",
          "Essential/education",
          "Non Essential/entertainment",
          "Essential/food",
          "Non Essential/gifts",
          "Non Essential/giving",
          "Essential/medical",
          "Essential/personal",
          "Non Essential/pets",
          "Essential/savings",
          "Essential/transportation",
          "Essential/utilities",
          "Essential",
          "Non Essential"
         ],
         "labels": [
          "1%",
          "1%",
          "1%",
          "1%",
          "11%",
          "14%",
          "16%",
          "18%",
          "2%",
          "2%",
          "3%",
          "6%",
          "7%",
          "7%",
          "8%",
          "childcare",
          "debt",
          "domicile",
          "education",
          "entertainment",
          "food",
          "gifts",
          "giving",
          "medical",
          "personal",
          "pets",
          "savings",
          "transportation",
          "utilities",
          "Essential",
          "Non Essential"
         ],
         "marker": {
          "coloraxis": "coloraxis",
          "colors": [
           "#F94144",
           "#f3722c",
           "#F9844A",
           "#f8961e",
           "#F9C74F",
           "#90BE6D",
           "#43AA8B",
           "#4D908E",
           "#277DA1",
           "#577590",
           "#43AA8B",
           "#90BE6D",
           "#F9C74F",
           "#f8961e",
           "#F9844A",
           "#f3722c"
          ]
         },
         "name": "",
         "parents": [
          "Essential/domicile",
          "Essential/education",
          "Non Essential/entertainment",
          "Essential/utilities",
          "Essential/childcare",
          "Non Essential/pets",
          "Essential/savings",
          "Non Essential/gifts",
          "Essential/food",
          "Essential/medical",
          "Non Essential/giving",
          "Essential/personal",
          "Essential/debt",
          "Essential/personal",
          "Essential/transportation",
          "Essential",
          "Essential",
          "Essential",
          "Essential",
          "Non Essential",
          "Essential",
          "Non Essential",
          "Non Essential",
          "Essential",
          "Essential",
          "Non Essential",
          "Essential",
          "Essential",
          "Essential",
          "",
          ""
         ],
         "type": "treemap",
         "values": [
          1,
          1,
          1,
          1,
          11,
          14,
          16,
          18,
          4,
          2,
          3,
          6,
          7,
          7,
          8,
          11,
          7,
          1,
          1,
          1,
          4,
          18,
          3,
          2,
          13,
          14,
          16,
          8,
          1,
          64,
          36
         ]
        }
       ],
       "layout": {
        "coloraxis": {
         "colorbar": {
          "title": {
           "text": "values"
          }
         },
         "colorscale": [
          [
           0,
           "#0d0887"
          ],
          [
           0.1111111111111111,
           "#46039f"
          ],
          [
           0.2222222222222222,
           "#7201a8"
          ],
          [
           0.3333333333333333,
           "#9c179e"
          ],
          [
           0.4444444444444444,
           "#bd3786"
          ],
          [
           0.5555555555555556,
           "#d8576b"
          ],
          [
           0.6666666666666666,
           "#ed7953"
          ],
          [
           0.7777777777777778,
           "#fb9f3a"
          ],
          [
           0.8888888888888888,
           "#fdca26"
          ],
          [
           1,
           "#f0f921"
          ]
         ]
        },
        "legend": {
         "tracegroupgap": 0
        },
        "margin": {
         "t": 60
        },
        "template": {
         "data": {
          "bar": [
           {
            "error_x": {
             "color": "#2a3f5f"
            },
            "error_y": {
             "color": "#2a3f5f"
            },
            "marker": {
             "line": {
              "color": "#E5ECF6",
              "width": 0.5
             }
            },
            "type": "bar"
           }
          ],
          "barpolar": [
           {
            "marker": {
             "line": {
              "color": "#E5ECF6",
              "width": 0.5
             }
            },
            "type": "barpolar"
           }
          ],
          "carpet": [
           {
            "aaxis": {
             "endlinecolor": "#2a3f5f",
             "gridcolor": "white",
             "linecolor": "white",
             "minorgridcolor": "white",
             "startlinecolor": "#2a3f5f"
            },
            "baxis": {
             "endlinecolor": "#2a3f5f",
             "gridcolor": "white",
             "linecolor": "white",
             "minorgridcolor": "white",
             "startlinecolor": "#2a3f5f"
            },
            "type": "carpet"
           }
          ],
          "choropleth": [
           {
            "colorbar": {
             "outlinewidth": 0,
             "ticks": ""
            },
            "type": "choropleth"
           }
          ],
          "contour": [
           {
            "colorbar": {
             "outlinewidth": 0,
             "ticks": ""
            },
            "colorscale": [
             [
              0,
              "#0d0887"
             ],
             [
              0.1111111111111111,
              "#46039f"
             ],
             [
              0.2222222222222222,
              "#7201a8"
             ],
             [
              0.3333333333333333,
              "#9c179e"
             ],
             [
              0.4444444444444444,
              "#bd3786"
             ],
             [
              0.5555555555555556,
              "#d8576b"
             ],
             [
              0.6666666666666666,
              "#ed7953"
             ],
             [
              0.7777777777777778,
              "#fb9f3a"
             ],
             [
              0.8888888888888888,
              "#fdca26"
             ],
             [
              1,
              "#f0f921"
             ]
            ],
            "type": "contour"
           }
          ],
          "contourcarpet": [
           {
            "colorbar": {
             "outlinewidth": 0,
             "ticks": ""
            },
            "type": "contourcarpet"
           }
          ],
          "heatmap": [
           {
            "colorbar": {
             "outlinewidth": 0,
             "ticks": ""
            },
            "colorscale": [
             [
              0,
              "#0d0887"
             ],
             [
              0.1111111111111111,
              "#46039f"
             ],
             [
              0.2222222222222222,
              "#7201a8"
             ],
             [
              0.3333333333333333,
              "#9c179e"
             ],
             [
              0.4444444444444444,
              "#bd3786"
             ],
             [
              0.5555555555555556,
              "#d8576b"
             ],
             [
              0.6666666666666666,
              "#ed7953"
             ],
             [
              0.7777777777777778,
              "#fb9f3a"
             ],
             [
              0.8888888888888888,
              "#fdca26"
             ],
             [
              1,
              "#f0f921"
             ]
            ],
            "type": "heatmap"
           }
          ],
          "heatmapgl": [
           {
            "colorbar": {
             "outlinewidth": 0,
             "ticks": ""
            },
            "colorscale": [
             [
              0,
              "#0d0887"
             ],
             [
              0.1111111111111111,
              "#46039f"
             ],
             [
              0.2222222222222222,
              "#7201a8"
             ],
             [
              0.3333333333333333,
              "#9c179e"
             ],
             [
              0.4444444444444444,
              "#bd3786"
             ],
             [
              0.5555555555555556,
              "#d8576b"
             ],
             [
              0.6666666666666666,
              "#ed7953"
             ],
             [
              0.7777777777777778,
              "#fb9f3a"
             ],
             [
              0.8888888888888888,
              "#fdca26"
             ],
             [
              1,
              "#f0f921"
             ]
            ],
            "type": "heatmapgl"
           }
          ],
          "histogram": [
           {
            "marker": {
             "colorbar": {
              "outlinewidth": 0,
              "ticks": ""
             }
            },
            "type": "histogram"
           }
          ],
          "histogram2d": [
           {
            "colorbar": {
             "outlinewidth": 0,
             "ticks": ""
            },
            "colorscale": [
             [
              0,
              "#0d0887"
             ],
             [
              0.1111111111111111,
              "#46039f"
             ],
             [
              0.2222222222222222,
              "#7201a8"
             ],
             [
              0.3333333333333333,
              "#9c179e"
             ],
             [
              0.4444444444444444,
              "#bd3786"
             ],
             [
              0.5555555555555556,
              "#d8576b"
             ],
             [
              0.6666666666666666,
              "#ed7953"
             ],
             [
              0.7777777777777778,
              "#fb9f3a"
             ],
             [
              0.8888888888888888,
              "#fdca26"
             ],
             [
              1,
              "#f0f921"
             ]
            ],
            "type": "histogram2d"
           }
          ],
          "histogram2dcontour": [
           {
            "colorbar": {
             "outlinewidth": 0,
             "ticks": ""
            },
            "colorscale": [
             [
              0,
              "#0d0887"
             ],
             [
              0.1111111111111111,
              "#46039f"
             ],
             [
              0.2222222222222222,
              "#7201a8"
             ],
             [
              0.3333333333333333,
              "#9c179e"
             ],
             [
              0.4444444444444444,
              "#bd3786"
             ],
             [
              0.5555555555555556,
              "#d8576b"
             ],
             [
              0.6666666666666666,
              "#ed7953"
             ],
             [
              0.7777777777777778,
              "#fb9f3a"
             ],
             [
              0.8888888888888888,
              "#fdca26"
             ],
             [
              1,
              "#f0f921"
             ]
            ],
            "type": "histogram2dcontour"
           }
          ],
          "mesh3d": [
           {
            "colorbar": {
             "outlinewidth": 0,
             "ticks": ""
            },
            "type": "mesh3d"
           }
          ],
          "parcoords": [
           {
            "line": {
             "colorbar": {
              "outlinewidth": 0,
              "ticks": ""
             }
            },
            "type": "parcoords"
           }
          ],
          "pie": [
           {
            "automargin": true,
            "type": "pie"
           }
          ],
          "scatter": [
           {
            "marker": {
             "colorbar": {
              "outlinewidth": 0,
              "ticks": ""
             }
            },
            "type": "scatter"
           }
          ],
          "scatter3d": [
           {
            "line": {
             "colorbar": {
              "outlinewidth": 0,
              "ticks": ""
             }
            },
            "marker": {
             "colorbar": {
              "outlinewidth": 0,
              "ticks": ""
             }
            },
            "type": "scatter3d"
           }
          ],
          "scattercarpet": [
           {
            "marker": {
             "colorbar": {
              "outlinewidth": 0,
              "ticks": ""
             }
            },
            "type": "scattercarpet"
           }
          ],
          "scattergeo": [
           {
            "marker": {
             "colorbar": {
              "outlinewidth": 0,
              "ticks": ""
             }
            },
            "type": "scattergeo"
           }
          ],
          "scattergl": [
           {
            "marker": {
             "colorbar": {
              "outlinewidth": 0,
              "ticks": ""
             }
            },
            "type": "scattergl"
           }
          ],
          "scattermapbox": [
           {
            "marker": {
             "colorbar": {
              "outlinewidth": 0,
              "ticks": ""
             }
            },
            "type": "scattermapbox"
           }
          ],
          "scatterpolar": [
           {
            "marker": {
             "colorbar": {
              "outlinewidth": 0,
              "ticks": ""
             }
            },
            "type": "scatterpolar"
           }
          ],
          "scatterpolargl": [
           {
            "marker": {
             "colorbar": {
              "outlinewidth": 0,
              "ticks": ""
             }
            },
            "type": "scatterpolargl"
           }
          ],
          "scatterternary": [
           {
            "marker": {
             "colorbar": {
              "outlinewidth": 0,
              "ticks": ""
             }
            },
            "type": "scatterternary"
           }
          ],
          "surface": [
           {
            "colorbar": {
             "outlinewidth": 0,
             "ticks": ""
            },
            "colorscale": [
             [
              0,
              "#0d0887"
             ],
             [
              0.1111111111111111,
              "#46039f"
             ],
             [
              0.2222222222222222,
              "#7201a8"
             ],
             [
              0.3333333333333333,
              "#9c179e"
             ],
             [
              0.4444444444444444,
              "#bd3786"
             ],
             [
              0.5555555555555556,
              "#d8576b"
             ],
             [
              0.6666666666666666,
              "#ed7953"
             ],
             [
              0.7777777777777778,
              "#fb9f3a"
             ],
             [
              0.8888888888888888,
              "#fdca26"
             ],
             [
              1,
              "#f0f921"
             ]
            ],
            "type": "surface"
           }
          ],
          "table": [
           {
            "cells": {
             "fill": {
              "color": "#EBF0F8"
             },
             "line": {
              "color": "white"
             }
            },
            "header": {
             "fill": {
              "color": "#C8D4E3"
             },
             "line": {
              "color": "white"
             }
            },
            "type": "table"
           }
          ]
         },
         "layout": {
          "annotationdefaults": {
           "arrowcolor": "#2a3f5f",
           "arrowhead": 0,
           "arrowwidth": 1
          },
          "autotypenumbers": "strict",
          "coloraxis": {
           "colorbar": {
            "outlinewidth": 0,
            "ticks": ""
           }
          },
          "colorscale": {
           "diverging": [
            [
             0,
             "#8e0152"
            ],
            [
             0.1,
             "#c51b7d"
            ],
            [
             0.2,
             "#de77ae"
            ],
            [
             0.3,
             "#f1b6da"
            ],
            [
             0.4,
             "#fde0ef"
            ],
            [
             0.5,
             "#f7f7f7"
            ],
            [
             0.6,
             "#e6f5d0"
            ],
            [
             0.7,
             "#b8e186"
            ],
            [
             0.8,
             "#7fbc41"
            ],
            [
             0.9,
             "#4d9221"
            ],
            [
             1,
             "#276419"
            ]
           ],
           "sequential": [
            [
             0,
             "#0d0887"
            ],
            [
             0.1111111111111111,
             "#46039f"
            ],
            [
             0.2222222222222222,
             "#7201a8"
            ],
            [
             0.3333333333333333,
             "#9c179e"
            ],
            [
             0.4444444444444444,
             "#bd3786"
            ],
            [
             0.5555555555555556,
             "#d8576b"
            ],
            [
             0.6666666666666666,
             "#ed7953"
            ],
            [
             0.7777777777777778,
             "#fb9f3a"
            ],
            [
             0.8888888888888888,
             "#fdca26"
            ],
            [
             1,
             "#f0f921"
            ]
           ],
           "sequentialminus": [
            [
             0,
             "#0d0887"
            ],
            [
             0.1111111111111111,
             "#46039f"
            ],
            [
             0.2222222222222222,
             "#7201a8"
            ],
            [
             0.3333333333333333,
             "#9c179e"
            ],
            [
             0.4444444444444444,
             "#bd3786"
            ],
            [
             0.5555555555555556,
             "#d8576b"
            ],
            [
             0.6666666666666666,
             "#ed7953"
            ],
            [
             0.7777777777777778,
             "#fb9f3a"
            ],
            [
             0.8888888888888888,
             "#fdca26"
            ],
            [
             1,
             "#f0f921"
            ]
           ]
          },
          "colorway": [
           "#636efa",
           "#EF553B",
           "#00cc96",
           "#ab63fa",
           "#FFA15A",
           "#19d3f3",
           "#FF6692",
           "#B6E880",
           "#FF97FF",
           "#FECB52"
          ],
          "font": {
           "color": "#2a3f5f"
          },
          "geo": {
           "bgcolor": "white",
           "lakecolor": "white",
           "landcolor": "#E5ECF6",
           "showlakes": true,
           "showland": true,
           "subunitcolor": "white"
          },
          "hoverlabel": {
           "align": "left"
          },
          "hovermode": "closest",
          "mapbox": {
           "style": "light"
          },
          "paper_bgcolor": "white",
          "plot_bgcolor": "#E5ECF6",
          "polar": {
           "angularaxis": {
            "gridcolor": "white",
            "linecolor": "white",
            "ticks": ""
           },
           "bgcolor": "#E5ECF6",
           "radialaxis": {
            "gridcolor": "white",
            "linecolor": "white",
            "ticks": ""
           }
          },
          "scene": {
           "xaxis": {
            "backgroundcolor": "#E5ECF6",
            "gridcolor": "white",
            "gridwidth": 2,
            "linecolor": "white",
            "showbackground": true,
            "ticks": "",
            "zerolinecolor": "white"
           },
           "yaxis": {
            "backgroundcolor": "#E5ECF6",
            "gridcolor": "white",
            "gridwidth": 2,
            "linecolor": "white",
            "showbackground": true,
            "ticks": "",
            "zerolinecolor": "white"
           },
           "zaxis": {
            "backgroundcolor": "#E5ECF6",
            "gridcolor": "white",
            "gridwidth": 2,
            "linecolor": "white",
            "showbackground": true,
            "ticks": "",
            "zerolinecolor": "white"
           }
          },
          "shapedefaults": {
           "line": {
            "color": "#2a3f5f"
           }
          },
          "ternary": {
           "aaxis": {
            "gridcolor": "white",
            "linecolor": "white",
            "ticks": ""
           },
           "baxis": {
            "gridcolor": "white",
            "linecolor": "white",
            "ticks": ""
           },
           "bgcolor": "#E5ECF6",
           "caxis": {
            "gridcolor": "white",
            "linecolor": "white",
            "ticks": ""
           }
          },
          "title": {
           "x": 0.05
          },
          "xaxis": {
           "automargin": true,
           "gridcolor": "white",
           "linecolor": "white",
           "ticks": "",
           "title": {
            "standoff": 15
           },
           "zerolinecolor": "white",
           "zerolinewidth": 2
          },
          "yaxis": {
           "automargin": true,
           "gridcolor": "white",
           "linecolor": "white",
           "ticks": "",
           "title": {
            "standoff": 15
           },
           "zerolinecolor": "white",
           "zerolinewidth": 2
          }
         }
        }
       }
      },
      "text/html": [
       "<div>                            <div id=\"150baee7-f628-47e5-82e0-8f645644aac8\" class=\"plotly-graph-div\" style=\"height:525px; width:100%;\"></div>            <script type=\"text/javascript\">                require([\"plotly\"], function(Plotly) {                    window.PLOTLYENV=window.PLOTLYENV || {};                                    if (document.getElementById(\"150baee7-f628-47e5-82e0-8f645644aac8\")) {                    Plotly.newPlot(                        \"150baee7-f628-47e5-82e0-8f645644aac8\",                        [{\"branchvalues\": \"total\", \"customdata\": [[1.0], [1.0], [1.0], [1.0], [11.0], [14.0], [16.0], [18.0], [2.0], [2.0], [3.0], [6.0], [7.0], [7.0], [8.0], [11.0], [7.0], [1.0], [1.0], [1.0], [2.0], [18.0], [3.0], [2.0], [6.538461538461538], [14.0], [16.0], [8.0], [1.0], [9.21875], [14.722222222222221]], \"domain\": {\"x\": [0.0, 1.0], \"y\": [0.0, 1.0]}, \"hovertemplate\": \"labels=%{label}<br>values_sum=%{value}<br>parent=%{parent}<br>id=%{id}<br>values=%{color}<extra></extra>\", \"ids\": [\"Essential/domicile/1%\", \"Essential/education/1%\", \"Non Essential/entertainment/1%\", \"Essential/utilities/1%\", \"Essential/childcare/11%\", \"Non Essential/pets/14%\", \"Essential/savings/16%\", \"Non Essential/gifts/18%\", \"Essential/food/2%\", \"Essential/medical/2%\", \"Non Essential/giving/3%\", \"Essential/personal/6%\", \"Essential/debt/7%\", \"Essential/personal/7%\", \"Essential/transportation/8%\", \"Essential/childcare\", \"Essential/debt\", \"Essential/domicile\", \"Essential/education\", \"Non Essential/entertainment\", \"Essential/food\", \"Non Essential/gifts\", \"Non Essential/giving\", \"Essential/medical\", \"Essential/personal\", \"Non Essential/pets\", \"Essential/savings\", \"Essential/transportation\", \"Essential/utilities\", \"Essential\", \"Non Essential\"], \"labels\": [\"1%\", \"1%\", \"1%\", \"1%\", \"11%\", \"14%\", \"16%\", \"18%\", \"2%\", \"2%\", \"3%\", \"6%\", \"7%\", \"7%\", \"8%\", \"childcare\", \"debt\", \"domicile\", \"education\", \"entertainment\", \"food\", \"gifts\", \"giving\", \"medical\", \"personal\", \"pets\", \"savings\", \"transportation\", \"utilities\", \"Essential\", \"Non Essential\"], \"marker\": {\"coloraxis\": \"coloraxis\", \"colors\": [\"#F94144\", \"#f3722c\", \"#F9844A\", \"#f8961e\", \"#F9C74F\", \"#90BE6D\", \"#43AA8B\", \"#4D908E\", \"#277DA1\", \"#577590\", \"#43AA8B\", \"#90BE6D\", \"#F9C74F\", \"#f8961e\", \"#F9844A\", \"#f3722c\"]}, \"name\": \"\", \"parents\": [\"Essential/domicile\", \"Essential/education\", \"Non Essential/entertainment\", \"Essential/utilities\", \"Essential/childcare\", \"Non Essential/pets\", \"Essential/savings\", \"Non Essential/gifts\", \"Essential/food\", \"Essential/medical\", \"Non Essential/giving\", \"Essential/personal\", \"Essential/debt\", \"Essential/personal\", \"Essential/transportation\", \"Essential\", \"Essential\", \"Essential\", \"Essential\", \"Non Essential\", \"Essential\", \"Non Essential\", \"Non Essential\", \"Essential\", \"Essential\", \"Non Essential\", \"Essential\", \"Essential\", \"Essential\", \"\", \"\"], \"type\": \"treemap\", \"values\": [1, 1, 1, 1, 11, 14, 16, 18, 4, 2, 3, 6, 7, 7, 8, 11, 7, 1, 1, 1, 4, 18, 3, 2, 13, 14, 16, 8, 1, 64, 36]}],                        {\"coloraxis\": {\"colorbar\": {\"title\": {\"text\": \"values\"}}, \"colorscale\": [[0.0, \"#0d0887\"], [0.1111111111111111, \"#46039f\"], [0.2222222222222222, \"#7201a8\"], [0.3333333333333333, \"#9c179e\"], [0.4444444444444444, \"#bd3786\"], [0.5555555555555556, \"#d8576b\"], [0.6666666666666666, \"#ed7953\"], [0.7777777777777778, \"#fb9f3a\"], [0.8888888888888888, \"#fdca26\"], [1.0, \"#f0f921\"]]}, \"legend\": {\"tracegroupgap\": 0}, \"margin\": {\"t\": 60}, \"template\": {\"data\": {\"bar\": [{\"error_x\": {\"color\": \"#2a3f5f\"}, \"error_y\": {\"color\": \"#2a3f5f\"}, \"marker\": {\"line\": {\"color\": \"#E5ECF6\", \"width\": 0.5}}, \"type\": \"bar\"}], \"barpolar\": [{\"marker\": {\"line\": {\"color\": \"#E5ECF6\", \"width\": 0.5}}, \"type\": \"barpolar\"}], \"carpet\": [{\"aaxis\": {\"endlinecolor\": \"#2a3f5f\", \"gridcolor\": \"white\", \"linecolor\": \"white\", \"minorgridcolor\": \"white\", \"startlinecolor\": \"#2a3f5f\"}, \"baxis\": {\"endlinecolor\": \"#2a3f5f\", \"gridcolor\": \"white\", \"linecolor\": \"white\", \"minorgridcolor\": \"white\", \"startlinecolor\": \"#2a3f5f\"}, \"type\": \"carpet\"}], \"choropleth\": [{\"colorbar\": {\"outlinewidth\": 0, \"ticks\": \"\"}, \"type\": \"choropleth\"}], \"contour\": [{\"colorbar\": {\"outlinewidth\": 0, \"ticks\": \"\"}, \"colorscale\": [[0.0, \"#0d0887\"], [0.1111111111111111, \"#46039f\"], [0.2222222222222222, \"#7201a8\"], [0.3333333333333333, \"#9c179e\"], [0.4444444444444444, \"#bd3786\"], [0.5555555555555556, \"#d8576b\"], [0.6666666666666666, \"#ed7953\"], [0.7777777777777778, \"#fb9f3a\"], [0.8888888888888888, \"#fdca26\"], [1.0, \"#f0f921\"]], \"type\": \"contour\"}], \"contourcarpet\": [{\"colorbar\": {\"outlinewidth\": 0, \"ticks\": \"\"}, \"type\": \"contourcarpet\"}], \"heatmap\": [{\"colorbar\": {\"outlinewidth\": 0, \"ticks\": \"\"}, \"colorscale\": [[0.0, \"#0d0887\"], [0.1111111111111111, \"#46039f\"], [0.2222222222222222, \"#7201a8\"], [0.3333333333333333, \"#9c179e\"], [0.4444444444444444, \"#bd3786\"], [0.5555555555555556, \"#d8576b\"], [0.6666666666666666, \"#ed7953\"], [0.7777777777777778, \"#fb9f3a\"], [0.8888888888888888, \"#fdca26\"], [1.0, \"#f0f921\"]], \"type\": \"heatmap\"}], \"heatmapgl\": [{\"colorbar\": {\"outlinewidth\": 0, \"ticks\": \"\"}, \"colorscale\": [[0.0, \"#0d0887\"], [0.1111111111111111, \"#46039f\"], [0.2222222222222222, \"#7201a8\"], [0.3333333333333333, \"#9c179e\"], [0.4444444444444444, \"#bd3786\"], [0.5555555555555556, \"#d8576b\"], [0.6666666666666666, \"#ed7953\"], [0.7777777777777778, \"#fb9f3a\"], [0.8888888888888888, \"#fdca26\"], [1.0, \"#f0f921\"]], \"type\": \"heatmapgl\"}], \"histogram\": [{\"marker\": {\"colorbar\": {\"outlinewidth\": 0, \"ticks\": \"\"}}, \"type\": \"histogram\"}], \"histogram2d\": [{\"colorbar\": {\"outlinewidth\": 0, \"ticks\": \"\"}, \"colorscale\": [[0.0, \"#0d0887\"], [0.1111111111111111, \"#46039f\"], [0.2222222222222222, \"#7201a8\"], [0.3333333333333333, \"#9c179e\"], [0.4444444444444444, \"#bd3786\"], [0.5555555555555556, \"#d8576b\"], [0.6666666666666666, \"#ed7953\"], [0.7777777777777778, \"#fb9f3a\"], [0.8888888888888888, \"#fdca26\"], [1.0, \"#f0f921\"]], \"type\": \"histogram2d\"}], \"histogram2dcontour\": [{\"colorbar\": {\"outlinewidth\": 0, \"ticks\": \"\"}, \"colorscale\": [[0.0, \"#0d0887\"], [0.1111111111111111, \"#46039f\"], [0.2222222222222222, \"#7201a8\"], [0.3333333333333333, \"#9c179e\"], [0.4444444444444444, \"#bd3786\"], [0.5555555555555556, \"#d8576b\"], [0.6666666666666666, \"#ed7953\"], [0.7777777777777778, \"#fb9f3a\"], [0.8888888888888888, \"#fdca26\"], [1.0, \"#f0f921\"]], \"type\": \"histogram2dcontour\"}], \"mesh3d\": [{\"colorbar\": {\"outlinewidth\": 0, \"ticks\": \"\"}, \"type\": \"mesh3d\"}], \"parcoords\": [{\"line\": {\"colorbar\": {\"outlinewidth\": 0, \"ticks\": \"\"}}, \"type\": \"parcoords\"}], \"pie\": [{\"automargin\": true, \"type\": \"pie\"}], \"scatter\": [{\"marker\": {\"colorbar\": {\"outlinewidth\": 0, \"ticks\": \"\"}}, \"type\": \"scatter\"}], \"scatter3d\": [{\"line\": {\"colorbar\": {\"outlinewidth\": 0, \"ticks\": \"\"}}, \"marker\": {\"colorbar\": {\"outlinewidth\": 0, \"ticks\": \"\"}}, \"type\": \"scatter3d\"}], \"scattercarpet\": [{\"marker\": {\"colorbar\": {\"outlinewidth\": 0, \"ticks\": \"\"}}, \"type\": \"scattercarpet\"}], \"scattergeo\": [{\"marker\": {\"colorbar\": {\"outlinewidth\": 0, \"ticks\": \"\"}}, \"type\": \"scattergeo\"}], \"scattergl\": [{\"marker\": {\"colorbar\": {\"outlinewidth\": 0, \"ticks\": \"\"}}, \"type\": \"scattergl\"}], \"scattermapbox\": [{\"marker\": {\"colorbar\": {\"outlinewidth\": 0, \"ticks\": \"\"}}, \"type\": \"scattermapbox\"}], \"scatterpolar\": [{\"marker\": {\"colorbar\": {\"outlinewidth\": 0, \"ticks\": \"\"}}, \"type\": \"scatterpolar\"}], \"scatterpolargl\": [{\"marker\": {\"colorbar\": {\"outlinewidth\": 0, \"ticks\": \"\"}}, \"type\": \"scatterpolargl\"}], \"scatterternary\": [{\"marker\": {\"colorbar\": {\"outlinewidth\": 0, \"ticks\": \"\"}}, \"type\": \"scatterternary\"}], \"surface\": [{\"colorbar\": {\"outlinewidth\": 0, \"ticks\": \"\"}, \"colorscale\": [[0.0, \"#0d0887\"], [0.1111111111111111, \"#46039f\"], [0.2222222222222222, \"#7201a8\"], [0.3333333333333333, \"#9c179e\"], [0.4444444444444444, \"#bd3786\"], [0.5555555555555556, \"#d8576b\"], [0.6666666666666666, \"#ed7953\"], [0.7777777777777778, \"#fb9f3a\"], [0.8888888888888888, \"#fdca26\"], [1.0, \"#f0f921\"]], \"type\": \"surface\"}], \"table\": [{\"cells\": {\"fill\": {\"color\": \"#EBF0F8\"}, \"line\": {\"color\": \"white\"}}, \"header\": {\"fill\": {\"color\": \"#C8D4E3\"}, \"line\": {\"color\": \"white\"}}, \"type\": \"table\"}]}, \"layout\": {\"annotationdefaults\": {\"arrowcolor\": \"#2a3f5f\", \"arrowhead\": 0, \"arrowwidth\": 1}, \"autotypenumbers\": \"strict\", \"coloraxis\": {\"colorbar\": {\"outlinewidth\": 0, \"ticks\": \"\"}}, \"colorscale\": {\"diverging\": [[0, \"#8e0152\"], [0.1, \"#c51b7d\"], [0.2, \"#de77ae\"], [0.3, \"#f1b6da\"], [0.4, \"#fde0ef\"], [0.5, \"#f7f7f7\"], [0.6, \"#e6f5d0\"], [0.7, \"#b8e186\"], [0.8, \"#7fbc41\"], [0.9, \"#4d9221\"], [1, \"#276419\"]], \"sequential\": [[0.0, \"#0d0887\"], [0.1111111111111111, \"#46039f\"], [0.2222222222222222, \"#7201a8\"], [0.3333333333333333, \"#9c179e\"], [0.4444444444444444, \"#bd3786\"], [0.5555555555555556, \"#d8576b\"], [0.6666666666666666, \"#ed7953\"], [0.7777777777777778, \"#fb9f3a\"], [0.8888888888888888, \"#fdca26\"], [1.0, \"#f0f921\"]], \"sequentialminus\": [[0.0, \"#0d0887\"], [0.1111111111111111, \"#46039f\"], [0.2222222222222222, \"#7201a8\"], [0.3333333333333333, \"#9c179e\"], [0.4444444444444444, \"#bd3786\"], [0.5555555555555556, \"#d8576b\"], [0.6666666666666666, \"#ed7953\"], [0.7777777777777778, \"#fb9f3a\"], [0.8888888888888888, \"#fdca26\"], [1.0, \"#f0f921\"]]}, \"colorway\": [\"#636efa\", \"#EF553B\", \"#00cc96\", \"#ab63fa\", \"#FFA15A\", \"#19d3f3\", \"#FF6692\", \"#B6E880\", \"#FF97FF\", \"#FECB52\"], \"font\": {\"color\": \"#2a3f5f\"}, \"geo\": {\"bgcolor\": \"white\", \"lakecolor\": \"white\", \"landcolor\": \"#E5ECF6\", \"showlakes\": true, \"showland\": true, \"subunitcolor\": \"white\"}, \"hoverlabel\": {\"align\": \"left\"}, \"hovermode\": \"closest\", \"mapbox\": {\"style\": \"light\"}, \"paper_bgcolor\": \"white\", \"plot_bgcolor\": \"#E5ECF6\", \"polar\": {\"angularaxis\": {\"gridcolor\": \"white\", \"linecolor\": \"white\", \"ticks\": \"\"}, \"bgcolor\": \"#E5ECF6\", \"radialaxis\": {\"gridcolor\": \"white\", \"linecolor\": \"white\", \"ticks\": \"\"}}, \"scene\": {\"xaxis\": {\"backgroundcolor\": \"#E5ECF6\", \"gridcolor\": \"white\", \"gridwidth\": 2, \"linecolor\": \"white\", \"showbackground\": true, \"ticks\": \"\", \"zerolinecolor\": \"white\"}, \"yaxis\": {\"backgroundcolor\": \"#E5ECF6\", \"gridcolor\": \"white\", \"gridwidth\": 2, \"linecolor\": \"white\", \"showbackground\": true, \"ticks\": \"\", \"zerolinecolor\": \"white\"}, \"zaxis\": {\"backgroundcolor\": \"#E5ECF6\", \"gridcolor\": \"white\", \"gridwidth\": 2, \"linecolor\": \"white\", \"showbackground\": true, \"ticks\": \"\", \"zerolinecolor\": \"white\"}}, \"shapedefaults\": {\"line\": {\"color\": \"#2a3f5f\"}}, \"ternary\": {\"aaxis\": {\"gridcolor\": \"white\", \"linecolor\": \"white\", \"ticks\": \"\"}, \"baxis\": {\"gridcolor\": \"white\", \"linecolor\": \"white\", \"ticks\": \"\"}, \"bgcolor\": \"#E5ECF6\", \"caxis\": {\"gridcolor\": \"white\", \"linecolor\": \"white\", \"ticks\": \"\"}}, \"title\": {\"x\": 0.05}, \"xaxis\": {\"automargin\": true, \"gridcolor\": \"white\", \"linecolor\": \"white\", \"ticks\": \"\", \"title\": {\"standoff\": 15}, \"zerolinecolor\": \"white\", \"zerolinewidth\": 2}, \"yaxis\": {\"automargin\": true, \"gridcolor\": \"white\", \"linecolor\": \"white\", \"ticks\": \"\", \"title\": {\"standoff\": 15}, \"zerolinecolor\": \"white\", \"zerolinewidth\": 2}}}},                        {\"responsive\": true}                    ).then(function(){\n",
       "                            \n",
       "var gd = document.getElementById('150baee7-f628-47e5-82e0-8f645644aac8');\n",
       "var x = new MutationObserver(function (mutations, observer) {{\n",
       "        var display = window.getComputedStyle(gd).display;\n",
       "        if (!display || display === 'none') {{\n",
       "            console.log([gd, 'removed!']);\n",
       "            Plotly.purge(gd);\n",
       "            observer.disconnect();\n",
       "        }}\n",
       "}});\n",
       "\n",
       "// Listen for the removal of the full notebook cells\n",
       "var notebookContainer = gd.closest('#notebook-container');\n",
       "if (notebookContainer) {{\n",
       "    x.observe(notebookContainer, {childList: true});\n",
       "}}\n",
       "\n",
       "// Listen for the clearing of the current output cell\n",
       "var outputEl = gd.closest('.output');\n",
       "if (outputEl) {{\n",
       "    x.observe(outputEl, {childList: true});\n",
       "}}\n",
       "\n",
       "                        })                };                });            </script>        </div>"
      ]
     },
     "metadata": {},
     "output_type": "display_data"
    }
   ],
   "source": [
    "import plotly.express as px\n",
    "fig = px.treemap(df_all.sort_values(by=['values','categories']).reset_index(drop=True),\n",
    "                 path=['priority', 'categories', 'percentages'], \n",
    "                 values='values', \n",
    "                 color='values')\n",
    "fig.update_traces(marker_colors= colors_all, selector=dict(type='treemap')) \n",
    "#fig.update_traces(pathbar_visible=False, selector=dict(type='treemap'))\n",
    "fig.write_image('fig_total.svg')\n",
    "fig.show()"
   ]
  },
  {
   "cell_type": "code",
   "execution_count": 43,
   "id": "6d7347d0",
   "metadata": {},
   "outputs": [
    {
     "data": {
      "image/svg+xml": [
       "<svg class=\"main-svg\" height=\"500\" style=\"\" viewBox=\"0 0 700 500\" width=\"700\" xmlns=\"http://www.w3.org/2000/svg\" xmlns:xlink=\"http://www.w3.org/1999/xlink\"><rect height=\"500\" style=\"fill: rgb(255, 255, 255); fill-opacity: 1;\" width=\"700\" x=\"0\" y=\"0\"/><defs id=\"defs-5815a9\"><g class=\"clips\"/><g class=\"gradients\"><linearGradient id=\"g5815a9-cbcoloraxis\" x1=\"0\" x2=\"0\" y1=\"1\" y2=\"0\"><stop offset=\"0%\" stop-color=\"rgb(13, 8, 135)\" stop-opacity=\"1\"/><stop offset=\"11.11111111111111%\" stop-color=\"rgb(70, 3, 159)\" stop-opacity=\"1\"/><stop offset=\"22.22222222222222%\" stop-color=\"rgb(114, 1, 168)\" stop-opacity=\"1\"/><stop offset=\"33.33333333333333%\" stop-color=\"rgb(156, 23, 158)\" stop-opacity=\"1\"/><stop offset=\"44.44444444444444%\" stop-color=\"rgb(189, 55, 134)\" stop-opacity=\"1\"/><stop offset=\"55.55555555555556%\" stop-color=\"rgb(216, 87, 107)\" stop-opacity=\"1\"/><stop offset=\"66.66666666666666%\" stop-color=\"rgb(237, 121, 83)\" stop-opacity=\"1\"/><stop offset=\"77.77777777777779%\" stop-color=\"rgb(251, 159, 58)\" stop-opacity=\"1\"/><stop offset=\"88.88888888888889%\" stop-color=\"rgb(253, 202, 38)\" stop-opacity=\"1\"/><stop offset=\"100%\" stop-color=\"rgb(240, 249, 33)\" stop-opacity=\"1\"/></linearGradient></g></defs><g class=\"bglayer\"/><g class=\"layer-below\"><g class=\"imagelayer\"/><g class=\"shapelayer\"/></g><g class=\"cartesianlayer\"/><g class=\"polarlayer\"/><g class=\"ternarylayer\"/><g class=\"geolayer\"/><g class=\"funnelarealayer\"/><g class=\"pielayer\"/><g class=\"treemaplayer\"><g class=\"trace treemap\" style=\"opacity: 1;\"><g class=\"slice cursor-pointer\"><path class=\"surface\" d=\"M80,60L610,60L610,420L80,420Z\" style=\"pointer-events: all; stroke-width: 1; fill: rgb(68, 68, 68); fill-opacity: 1; stroke: rgb(255, 255, 255); stroke-opacity: 1; opacity: 1;\"/><g class=\"slicetext\"><text class=\"slicetext\" data-notex=\"1\" style=\"font-family: 'Open Sans', verdana, arial, sans-serif; font-size: 12px; fill: rgb(255, 255, 255); fill-opacity: 1; white-space: pre;\" text-anchor=\"start\" transform=\"translate(86,75)\" x=\"0\" y=\"0\"> </text></g></g><g class=\"slice cursor-pointer\"><path class=\"surface\" d=\"M86,84L416.44,84L416.44,414L86,414Z\" style=\"pointer-events: all; stroke-width: 1; fill: rgb(68, 68, 68); fill-opacity: 1; stroke: rgb(255, 255, 255); stroke-opacity: 1; opacity: 1;\"/><g class=\"slicetext\"><text class=\"slicetext\" data-notex=\"1\" style=\"font-family: 'Open Sans', verdana, arial, sans-serif; font-size: 12px; fill: rgb(255, 255, 255); fill-opacity: 1; white-space: pre;\" text-anchor=\"start\" transform=\"translate(92,99)\" x=\"0\" y=\"0\">Essential</text></g></g><g class=\"slice cursor-pointer\"><path class=\"surface\" d=\"M419.44,84L604,84L604,414L419.44,414Z\" style=\"pointer-events: all; stroke-width: 1; fill: rgb(68, 68, 68); fill-opacity: 1; stroke: rgb(255, 255, 255); stroke-opacity: 1; opacity: 1;\"/><g class=\"slicetext\"><text class=\"slicetext\" data-notex=\"1\" style=\"font-family: 'Open Sans', verdana, arial, sans-serif; font-size: 12px; fill: rgb(255, 255, 255); fill-opacity: 1; white-space: pre;\" text-anchor=\"start\" transform=\"translate(425.44,99)\" x=\"0\" y=\"0\">Non Essential</text></g></g><g class=\"slice cursor-pointer\"><path class=\"surface\" d=\"M92,108L234.6525,108L234.6525,272.1724137931035L92,272.1724137931035Z\" style=\"pointer-events: all; stroke-width: 1; fill: rgb(68, 68, 68); fill-opacity: 1; stroke: rgb(255, 255, 255); stroke-opacity: 1; opacity: 1;\"/><g class=\"slicetext\"><text class=\"slicetext\" data-notex=\"1\" style=\"font-family: 'Open Sans', verdana, arial, sans-serif; font-size: 12px; fill: rgb(255, 255, 255); fill-opacity: 1; white-space: pre;\" text-anchor=\"start\" transform=\"translate(98,123)\" x=\"0\" y=\"0\">savings</text></g></g><g class=\"slice cursor-pointer\"><path class=\"surface\" d=\"M92,275.1724137931035L234.6525,275.1724137931035L234.6525,408L92,408Z\" style=\"pointer-events: all; stroke-width: 1; fill: rgb(68, 68, 68); fill-opacity: 1; stroke: rgb(255, 255, 255); stroke-opacity: 1; opacity: 1;\"/><g class=\"slicetext\"><text class=\"slicetext\" data-notex=\"1\" style=\"font-family: 'Open Sans', verdana, arial, sans-serif; font-size: 12px; fill: rgb(255, 255, 255); fill-opacity: 1; white-space: pre;\" text-anchor=\"start\" transform=\"translate(98,290.1724137931035)\" x=\"0\" y=\"0\">personal</text></g></g><g class=\"slice cursor-pointer\"><path class=\"surface\" d=\"M237.6525,108L410.44,108L410.44,200.22857142857143L237.6525,200.22857142857143Z\" style=\"pointer-events: all; stroke-width: 1; fill: rgb(243, 114, 44); fill-opacity: 1; stroke: rgb(255, 255, 255); stroke-opacity: 1; opacity: 1;\"/><g class=\"slicetext\"><text class=\"slicetext\" data-notex=\"1\" style=\"font-family: 'Open Sans', verdana, arial, sans-serif; font-size: 12px; fill: rgb(68, 68, 68); fill-opacity: 1; white-space: pre;\" text-anchor=\"start\" transform=\"translate(243.6525,123)\" x=\"0\" y=\"0\">childcare</text></g></g><g class=\"slice cursor-pointer\"><path class=\"surface\" d=\"M237.6525,203.22857142857143L328.40583333333336,203.22857142857143L328.40583333333336,330.0857142857143L237.6525,330.0857142857143Z\" style=\"pointer-events: all; stroke-width: 1; fill: rgb(68, 68, 68); fill-opacity: 1; stroke: rgb(255, 255, 255); stroke-opacity: 1; opacity: 1;\"/><g class=\"slicetext\"><text class=\"slicetext\" data-notex=\"1\" style=\"font-family: 'Open Sans', verdana, arial, sans-serif; font-size: 12px; fill: rgb(255, 255, 255); fill-opacity: 1; white-space: pre;\" text-anchor=\"start\" transform=\"translate(243.6525,217.26553493222107)scale(0.9197469586374696)\" x=\"0\" y=\"0\">transportation</text></g></g><g class=\"slice cursor-pointer\"><path class=\"surface\" d=\"M331.40583333333336,203.22857142857143L410.44,203.22857142857143L410.44,330.0857142857143L331.40583333333336,330.0857142857143Z\" style=\"pointer-events: all; stroke-width: 1; fill: rgb(68, 68, 68); fill-opacity: 1; stroke: rgb(255, 255, 255); stroke-opacity: 1; opacity: 1;\"/><g class=\"slicetext\"><text class=\"slicetext\" data-notex=\"1\" style=\"font-family: 'Open Sans', verdana, arial, sans-serif; font-size: 12px; fill: rgb(255, 255, 255); fill-opacity: 1; white-space: pre;\" text-anchor=\"start\" transform=\"translate(337.40583333333336,218.22857142857143)\" x=\"0\" y=\"0\">debt</text></g></g><g class=\"slice cursor-pointer\"><path class=\"surface\" d=\"M237.6525,333.0857142857143L312.78027777777777,333.0857142857143L312.78027777777777,408L237.6525,408Z\" style=\"pointer-events: all; stroke-width: 1; fill: rgb(68, 68, 68); fill-opacity: 1; stroke: rgb(255, 255, 255); stroke-opacity: 1; opacity: 1;\"/><g class=\"slicetext\"><text class=\"slicetext\" data-notex=\"1\" style=\"font-family: 'Open Sans', verdana, arial, sans-serif; font-size: 12px; fill: rgb(255, 255, 255); fill-opacity: 1; white-space: pre;\" text-anchor=\"start\" transform=\"translate(243.6525,348.0857142857143)\" x=\"0\" y=\"0\">food</text></g></g><g class=\"slice cursor-pointer\"><path class=\"surface\" d=\"M315.78027777777777,333.0857142857143L351.84416666666664,333.0857142857143L351.84416666666664,408L315.78027777777777,408Z\" style=\"pointer-events: all; stroke-width: 1; fill: rgb(68, 68, 68); fill-opacity: 1; stroke: rgb(255, 255, 255); stroke-opacity: 1; opacity: 1;\"/><g class=\"slicetext\"><text class=\"slicetext\" data-notex=\"1\" style=\"font-family: 'Open Sans', verdana, arial, sans-serif; font-size: 12px; fill: rgb(255, 255, 255); fill-opacity: 1; white-space: pre;\" text-anchor=\"start\" transform=\"translate(321.78027777777777,342.31668753813057)scale(0.519247771034689)\" x=\"0\" y=\"0\">medical</text></g></g><g class=\"slice cursor-pointer\"><path class=\"surface\" d=\"M354.84416666666664,333.0857142857143L381.1420833333333,333.0857142857143L381.1420833333333,382.0285714285714L354.84416666666664,382.0285714285714Z\" style=\"pointer-events: all; stroke-width: 1; fill: rgb(68, 68, 68); fill-opacity: 1; stroke: rgb(255, 255, 255); stroke-opacity: 1; opacity: 1;\"/><g class=\"slicetext\"><text class=\"slicetext\" data-notex=\"1\" style=\"font-family: 'Open Sans', verdana, arial, sans-serif; font-size: 12px; fill: rgb(255, 255, 255); fill-opacity: 1; white-space: pre;\" text-anchor=\"start\" transform=\"translate(360.84416666666664,339.53662566220703)scale(0.287575948041064)\" x=\"0\" y=\"0\">domicile</text></g></g><g class=\"slice cursor-pointer\"><path class=\"surface\" d=\"M384.1420833333333,333.0857142857143L410.43999999999994,333.0857142857143L410.43999999999994,382.0285714285714L384.1420833333333,382.0285714285714Z\" style=\"pointer-events: all; stroke-width: 1; fill: rgb(68, 68, 68); fill-opacity: 1; stroke: rgb(255, 255, 255); stroke-opacity: 1; opacity: 1;\"/><g class=\"slicetext\"><text class=\"slicetext\" data-notex=\"1\" style=\"font-family: 'Open Sans', verdana, arial, sans-serif; font-size: 12px; fill: rgb(255, 255, 255); fill-opacity: 1; white-space: pre;\" text-anchor=\"start\" transform=\"translate(390.1420833333333,339.0147086842206)scale(0.24408286654218878)\" x=\"0\" y=\"0\">education</text></g></g><g class=\"slice cursor-pointer\"><path class=\"surface\" d=\"M354.84416666666664,385.0285714285714L410.44,385.0285714285714L410.44,408L354.84416666666664,408Z\" style=\"pointer-events: all; stroke-width: 1; fill: rgb(68, 68, 68); fill-opacity: 1; stroke: rgb(255, 255, 255); stroke-opacity: 1; opacity: 1;\"/><g class=\"slicetext\"><text class=\"slicetext\" data-notex=\"1\" style=\"font-family: 'Open Sans', verdana, arial, sans-serif; font-size: 12px; fill: rgb(255, 255, 255); fill-opacity: 1; white-space: pre;\" text-anchor=\"start\" transform=\"translate(360.84416666666664,400.0205485059353)scale(0.9993314231136586)\" x=\"0\" y=\"0\">utilities</text></g></g><g class=\"slice cursor-pointer\"><path class=\"surface\" d=\"M425.44,108L598,108L598,256.5L425.44,256.5Z\" style=\"pointer-events: all; stroke-width: 1; fill: rgb(68, 68, 68); fill-opacity: 1; stroke: rgb(255, 255, 255); stroke-opacity: 1; opacity: 1;\"/><g class=\"slicetext\"><text class=\"slicetext\" data-notex=\"1\" style=\"font-family: 'Open Sans', verdana, arial, sans-serif; font-size: 12px; fill: rgb(255, 255, 255); fill-opacity: 1; white-space: pre;\" text-anchor=\"start\" transform=\"translate(431.44,123)\" x=\"0\" y=\"0\">gifts</text></g></g><g class=\"slice cursor-pointer\"><path class=\"surface\" d=\"M425.44,259.5L558.9866666666667,259.5L558.9866666666667,408L425.44,408Z\" style=\"pointer-events: all; stroke-width: 1; fill: rgb(68, 68, 68); fill-opacity: 1; stroke: rgb(255, 255, 255); stroke-opacity: 1; opacity: 1;\"/><g class=\"slicetext\"><text class=\"slicetext\" data-notex=\"1\" style=\"font-family: 'Open Sans', verdana, arial, sans-serif; font-size: 12px; fill: rgb(255, 255, 255); fill-opacity: 1; white-space: pre;\" text-anchor=\"start\" transform=\"translate(431.44,274.5)\" x=\"0\" y=\"0\">pets</text></g></g><g class=\"slice cursor-pointer\"><path class=\"surface\" d=\"M561.9866666666667,259.5L598,259.5L598,370.125L561.9866666666667,370.125Z\" style=\"pointer-events: all; stroke-width: 1; fill: rgb(68, 68, 68); fill-opacity: 1; stroke: rgb(255, 255, 255); stroke-opacity: 1; opacity: 1;\"/><g class=\"slicetext\"><text class=\"slicetext\" data-notex=\"1\" style=\"font-family: 'Open Sans', verdana, arial, sans-serif; font-size: 12px; fill: rgb(255, 255, 255); fill-opacity: 1; white-space: pre;\" text-anchor=\"start\" transform=\"translate(567.9866666666667,270.4526692539888)scale(0.6627224378323987)\" x=\"0\" y=\"0\">giving</text></g></g><g class=\"slice cursor-pointer\"><path class=\"surface\" d=\"M561.9866666666667,373.125L598,373.125L598,408L561.9866666666667,408Z\" style=\"pointer-events: all; stroke-width: 1; fill: rgb(68, 68, 68); fill-opacity: 1; stroke: rgb(255, 255, 255); stroke-opacity: 1; opacity: 1;\"/><g class=\"slicetext\"><text class=\"slicetext\" data-notex=\"1\" style=\"font-family: 'Open Sans', verdana, arial, sans-serif; font-size: 12px; fill: rgb(255, 255, 255); fill-opacity: 1; white-space: pre;\" text-anchor=\"start\" transform=\"translate(567.9866666666667,379.48669157856364)scale(0.2801409648803012)\" x=\"0\" y=\"0\">entertainment</text></g></g><g class=\"slice cursor-pointer\"><path class=\"surface\" d=\"M98,132L228.6525,132L228.6525,266.1724137931035L98,266.1724137931035Z\" style=\"pointer-events: all; stroke-width: 1; fill: rgb(67, 170, 139); fill-opacity: 1; stroke: rgb(255, 255, 255); stroke-opacity: 1; opacity: 1;\"/><g class=\"slicetext\"><text class=\"slicetext\" data-notex=\"1\" style=\"font-family: 'Open Sans', verdana, arial, sans-serif; font-size: 12px; fill: rgb(68, 68, 68); fill-opacity: 1; white-space: pre;\" text-anchor=\"start\" transform=\"translate(101,147)\" x=\"0\" y=\"0\">16%</text></g></g><g class=\"slice cursor-pointer\"><path class=\"surface\" d=\"M98,299.1724137931035L166.96673076923076,299.1724137931035L166.96673076923076,402L98,402Z\" style=\"pointer-events: all; stroke-width: 1; fill: rgb(248, 150, 30); fill-opacity: 1; stroke: rgb(255, 255, 255); stroke-opacity: 1; opacity: 1;\"/><g class=\"slicetext\"><text class=\"slicetext\" data-notex=\"1\" style=\"font-family: 'Open Sans', verdana, arial, sans-serif; font-size: 12px; fill: rgb(68, 68, 68); fill-opacity: 1; white-space: pre;\" text-anchor=\"start\" transform=\"translate(101,314.1724137931035)\" x=\"0\" y=\"0\">7%</text></g></g><g class=\"slice cursor-pointer\"><path class=\"surface\" d=\"M169.96673076923076,299.1724137931035L228.6525,299.1724137931035L228.6525,402L169.96673076923076,402Z\" style=\"pointer-events: all; stroke-width: 1; fill: rgb(144, 190, 109); fill-opacity: 1; stroke: rgb(255, 255, 255); stroke-opacity: 1; opacity: 1;\"/><g class=\"slicetext\"><text class=\"slicetext\" data-notex=\"1\" style=\"font-family: 'Open Sans', verdana, arial, sans-serif; font-size: 12px; fill: rgb(68, 68, 68); fill-opacity: 1; white-space: pre;\" text-anchor=\"start\" transform=\"translate(172.96673076923076,314.1724137931035)\" x=\"0\" y=\"0\">6%</text></g></g><g class=\"slice cursor-pointer\"><path class=\"surface\" d=\"M243.6525,132L404.44,132L404.44,194.22857142857143L243.6525,194.22857142857143Z\" style=\"pointer-events: all; stroke-width: 1; fill: rgb(249, 199, 79); fill-opacity: 1; stroke: rgb(255, 255, 255); stroke-opacity: 1; opacity: 1;\"/><g class=\"slicetext\"><text class=\"slicetext\" data-notex=\"1\" style=\"font-family: 'Open Sans', verdana, arial, sans-serif; font-size: 12px; fill: rgb(68, 68, 68); fill-opacity: 1; white-space: pre;\" text-anchor=\"start\" transform=\"translate(246.6525,147)\" x=\"0\" y=\"0\">11%</text></g></g><g class=\"slice cursor-pointer\"><path class=\"surface\" d=\"M243.6525,227.22857142857143L322.40583333333336,227.22857142857143L322.40583333333336,324.0857142857143L243.6525,324.0857142857143Z\" style=\"pointer-events: all; stroke-width: 1; fill: rgb(249, 132, 74); fill-opacity: 1; stroke: rgb(255, 255, 255); stroke-opacity: 1; opacity: 1;\"/><g class=\"slicetext\"><text class=\"slicetext\" data-notex=\"1\" style=\"font-family: 'Open Sans', verdana, arial, sans-serif; font-size: 12px; fill: rgb(68, 68, 68); fill-opacity: 1; white-space: pre;\" text-anchor=\"start\" transform=\"translate(246.6525,242.22857142857143)\" x=\"0\" y=\"0\">8%</text></g></g><g class=\"slice cursor-pointer\"><path class=\"surface\" d=\"M337.40583333333336,227.22857142857143L404.44,227.22857142857143L404.44,324.0857142857143L337.40583333333336,324.0857142857143Z\" style=\"pointer-events: all; stroke-width: 1; fill: rgb(249, 199, 79); fill-opacity: 1; stroke: rgb(255, 255, 255); stroke-opacity: 1; opacity: 1;\"/><g class=\"slicetext\"><text class=\"slicetext\" data-notex=\"1\" style=\"font-family: 'Open Sans', verdana, arial, sans-serif; font-size: 12px; fill: rgb(68, 68, 68); fill-opacity: 1; white-space: pre;\" text-anchor=\"start\" transform=\"translate(340.40583333333336,242.22857142857143)\" x=\"0\" y=\"0\">7%</text></g></g><g class=\"slice cursor-pointer\"><path class=\"surface\" d=\"M243.6525,357.0857142857143L306.78027777777777,357.0857142857143L306.78027777777777,402L243.6525,402Z\" style=\"pointer-events: all; stroke-width: 1; fill: rgb(39, 125, 161); fill-opacity: 1; stroke: rgb(255, 255, 255); stroke-opacity: 1; opacity: 1;\"/><g class=\"slicetext\"><text class=\"slicetext\" data-notex=\"1\" style=\"font-family: 'Open Sans', verdana, arial, sans-serif; font-size: 12px; fill: rgb(255, 255, 255); fill-opacity: 1; white-space: pre;\" text-anchor=\"start\" transform=\"translate(246.6525,372.0857142857143)\" x=\"0\" y=\"0\">2%</text></g></g><g class=\"slice cursor-pointer\"><path class=\"surface\" d=\"M321.78027777777777,357.0857142857143L345.84416666666664,357.0857142857143L345.84416666666664,402L321.78027777777777,402Z\" style=\"pointer-events: all; stroke-width: 1; fill: rgb(87, 117, 144); fill-opacity: 1; stroke: rgb(255, 255, 255); stroke-opacity: 1; opacity: 1;\"/><g class=\"slicetext\"><text class=\"slicetext\" data-notex=\"1\" style=\"font-family: 'Open Sans', verdana, arial, sans-serif; font-size: 12px; fill: rgb(255, 255, 255); fill-opacity: 1; white-space: pre;\" text-anchor=\"start\" transform=\"translate(324.78027777777777,370.63557486873077)scale(0.8791550485847054)\" x=\"0\" y=\"0\">2%</text></g></g><g class=\"slice cursor-pointer\"><path class=\"surface\" d=\"M360.84416666666664,357.0857142857143L375.1420833333333,357.0857142857143L375.1420833333333,376.0285714285714L360.84416666666664,376.0285714285714Z\" style=\"pointer-events: all; stroke-width: 1; fill: rgb(249, 65, 68); fill-opacity: 1; stroke: rgb(255, 255, 255); stroke-opacity: 1; opacity: 1;\"/><g class=\"slicetext\"><text class=\"slicetext\" data-notex=\"1\" style=\"font-family: 'Open Sans', verdana, arial, sans-serif; font-size: 12px; fill: rgb(255, 255, 255); fill-opacity: 1; white-space: pre;\" text-anchor=\"start\" transform=\"translate(363.84416666666664,364.93195002715913)scale(0.4038529784537382)\" x=\"0\" y=\"0\">1%</text></g></g><g class=\"slice cursor-pointer\"><path class=\"surface\" d=\"M390.1420833333333,357.0857142857143L404.43999999999994,357.0857142857143L404.43999999999994,376.0285714285714L390.1420833333333,376.0285714285714Z\" style=\"pointer-events: all; stroke-width: 1; fill: rgb(243, 114, 44); fill-opacity: 1; stroke: rgb(255, 255, 255); stroke-opacity: 1; opacity: 1;\"/><g class=\"slicetext\"><text class=\"slicetext\" data-notex=\"1\" style=\"font-family: 'Open Sans', verdana, arial, sans-serif; font-size: 12px; fill: rgb(68, 68, 68); fill-opacity: 1; white-space: pre;\" text-anchor=\"start\" transform=\"translate(393.1420833333333,364.93195002715913)scale(0.4038529784537382)\" x=\"0\" y=\"0\">1%</text></g></g><g class=\"slice cursor-pointer\"><path class=\"surface\" d=\"\" style=\"pointer-events: all; stroke-width: 1; fill: rgb(248, 150, 30); fill-opacity: 1; stroke: rgb(255, 255, 255); stroke-opacity: 1; opacity: 1;\"/><g class=\"slicetext\"><text class=\"slicetext\" data-notex=\"1\" style=\"font-family: 'Open Sans', verdana, arial, sans-serif; font-size: 12px; fill: rgb(68, 68, 68); fill-opacity: 1; white-space: pre;\" text-anchor=\"start\" transform=\"translate(363.84416666666664,405.51428571428573)scale(0)\" x=\"0\" y=\"0\"> </text></g></g><g class=\"slice cursor-pointer\"><path class=\"surface\" d=\"M431.44,132L592,132L592,250.5L431.44,250.5Z\" style=\"pointer-events: all; stroke-width: 1; fill: rgb(77, 144, 142); fill-opacity: 1; stroke: rgb(255, 255, 255); stroke-opacity: 1; opacity: 1;\"/><g class=\"slicetext\"><text class=\"slicetext\" data-notex=\"1\" style=\"font-family: 'Open Sans', verdana, arial, sans-serif; font-size: 12px; fill: rgb(255, 255, 255); fill-opacity: 1; white-space: pre;\" text-anchor=\"start\" transform=\"translate(434.44,147)\" x=\"0\" y=\"0\">18%</text></g></g><g class=\"slice cursor-pointer\"><path class=\"surface\" d=\"M431.44,283.5L552.9866666666667,283.5L552.9866666666667,402L431.44,402Z\" style=\"pointer-events: all; stroke-width: 1; fill: rgb(144, 190, 109); fill-opacity: 1; stroke: rgb(255, 255, 255); stroke-opacity: 1; opacity: 1;\"/><g class=\"slicetext\"><text class=\"slicetext\" data-notex=\"1\" style=\"font-family: 'Open Sans', verdana, arial, sans-serif; font-size: 12px; fill: rgb(68, 68, 68); fill-opacity: 1; white-space: pre;\" text-anchor=\"start\" transform=\"translate(434.44,298.5)\" x=\"0\" y=\"0\">14%</text></g></g><g class=\"slice cursor-pointer\"><path class=\"surface\" d=\"M567.9866666666667,283.5L592,283.5L592,364.125L567.9866666666667,364.125Z\" style=\"pointer-events: all; stroke-width: 1; fill: rgb(67, 170, 139); fill-opacity: 1; stroke: rgb(255, 255, 255); stroke-opacity: 1; opacity: 1;\"/><g class=\"slicetext\"><text class=\"slicetext\" data-notex=\"1\" style=\"font-family: 'Open Sans', verdana, arial, sans-serif; font-size: 12px; fill: rgb(68, 68, 68); fill-opacity: 1; white-space: pre;\" text-anchor=\"start\" transform=\"translate(570.9866666666667,297.02033460076046)scale(0.8766945500633707)\" x=\"0\" y=\"0\">3%</text></g></g><g class=\"slice cursor-pointer\"><path class=\"surface\" d=\"M567.9866666666667,397.125L592,397.125L592,402L567.9866666666667,402Z\" style=\"pointer-events: all; stroke-width: 1; fill: rgb(249, 132, 74); fill-opacity: 1; stroke: rgb(255, 255, 255); stroke-opacity: 1; opacity: 1;\"/><g class=\"slicetext\"><text class=\"slicetext\" data-notex=\"1\" style=\"font-family: 'Open Sans', verdana, arial, sans-serif; font-size: 12px; fill: rgb(68, 68, 68); fill-opacity: 1; white-space: pre;\" text-anchor=\"start\" transform=\"translate(570.9866666666667,401.1594827586207)scale(0.33620689655172414)\" x=\"0\" y=\"0\">1%</text></g></g></g></g><g class=\"sunburstlayer\"/><g class=\"glimages\"/><defs id=\"topdefs-5815a9\"><g class=\"clips\"/></defs><g class=\"layer-above\"><g class=\"imagelayer\"/><g class=\"shapelayer\"/></g><g class=\"infolayer\"><g class=\"cbcoloraxis colorbar\" transform=\"translate(80,60)\"><rect class=\"cbbg\" height=\"360\" style=\"fill: rgb(0, 0, 0); fill-opacity: 0; stroke: rgb(68, 68, 68); stroke-opacity: 1; stroke-width: 0;\" width=\"67.46875\" x=\"541\" y=\"0\"/><g class=\"cbfills\" transform=\"translate(0,30)\"><rect class=\"cbfill\" height=\"NaN\" style=\"fill: url('#g5815a9-cbcoloraxis');\" width=\"30\" x=\"551\"/></g><g class=\"cblines\" transform=\"translate(0,30)\"/><g class=\"cbaxis crisp\" transform=\"translate(0,-60)\"><g class=\"ycbcoloraxistick\"><text style=\"font-family: 'Open Sans', verdana, arial, sans-serif; font-size: 12px; fill: rgb(42, 63, 95); fill-opacity: 1; white-space: pre;\" text-anchor=\"start\" transform=\"translate(0,410)\" x=\"583.9\" y=\"4.199999999999999\">−1</text></g><g class=\"ycbcoloraxistick\"><text style=\"font-family: 'Open Sans', verdana, arial, sans-serif; font-size: 12px; fill: rgb(42, 63, 95); fill-opacity: 1; white-space: pre;\" text-anchor=\"start\" transform=\"translate(0,345.9)\" x=\"583.9\" y=\"4.199999999999999\">0</text></g><g class=\"ycbcoloraxistick\"><text style=\"font-family: 'Open Sans', verdana, arial, sans-serif; font-size: 12px; fill: rgb(42, 63, 95); fill-opacity: 1; white-space: pre;\" text-anchor=\"start\" transform=\"translate(0,281.8)\" x=\"583.9\" y=\"4.199999999999999\">1</text></g><g class=\"ycbcoloraxistick\"><text style=\"font-family: 'Open Sans', verdana, arial, sans-serif; font-size: 12px; fill: rgb(42, 63, 95); fill-opacity: 1; white-space: pre;\" text-anchor=\"start\" transform=\"translate(0,217.7)\" x=\"583.9\" y=\"4.199999999999999\">2</text></g><g class=\"ycbcoloraxistick\"><text style=\"font-family: 'Open Sans', verdana, arial, sans-serif; font-size: 12px; fill: rgb(42, 63, 95); fill-opacity: 1; white-space: pre;\" text-anchor=\"start\" transform=\"translate(0,153.60000000000002)\" x=\"583.9\" y=\"4.199999999999999\">3</text></g><g class=\"ycbcoloraxistick\"><text style=\"font-family: 'Open Sans', verdana, arial, sans-serif; font-size: 12px; fill: rgb(42, 63, 95); fill-opacity: 1; white-space: pre;\" text-anchor=\"start\" transform=\"translate(0,89.50000000000001)\" x=\"583.9\" y=\"4.199999999999999\">4</text></g></g><g class=\"cbtitleunshift\" transform=\"translate(-80,-60)\"><g class=\"cbtitle\" transform=\"\"><text class=\"ycbcoloraxistitle\" style=\"font-family: 'Open Sans', verdana, arial, sans-serif; font-size: 12px; fill: rgb(42, 63, 95); opacity: 1; font-weight: normal; white-space: pre;\" text-anchor=\"start\" x=\"630.6\" y=\"82\">values</text></g></g><rect class=\"cboutline\" height=\"320.5\" style=\"stroke: rgb(68, 68, 68); stroke-opacity: 1; fill: none; stroke-width: 0;\" width=\"30\" x=\"551\" y=\"29.5\"/></g><g class=\"g-gtitle\"/></g></svg>"
      ],
      "text/plain": [
       "<IPython.core.display.SVG object>"
      ]
     },
     "metadata": {},
     "output_type": "display_data"
    }
   ],
   "source": [
    "show_svg('_total')"
   ]
  },
  {
   "cell_type": "markdown",
   "id": "4e98fe9f",
   "metadata": {},
   "source": [
    "# TreeMap with Data\n",
    "---"
   ]
  },
  {
   "cell_type": "code",
   "execution_count": 31,
   "id": "aea9f3c3",
   "metadata": {},
   "outputs": [],
   "source": [
    "month_sum = (data_df.groupby(['month', 'long_month'])['amount'].sum()).to_frame(name='month_sum').reset_index()\n",
    "month_categories = (data_df.groupby(['month', 'category', 'long_month'])['amount'].sum()).to_frame(name='month_sum').reset_index()\n",
    "\n",
    "#month_categories.head(40)\n",
    "\n",
    "month_categories.head()\n",
    "\n",
    "months = month_categories['month'].unique()\n",
    "months = list(months)\n",
    "months\n",
    "\n",
    "###\n",
    "def get_percentage(month_num):\n",
    "    perc = []\n",
    "    mo_slice = month_categories[month_categories['month'] == month_num]\n",
    "    sum_mo_1 = mo_slice['month_sum'].sum()\n",
    "    for i in range(len(month_categories)):\n",
    "        if month_categories['month'][i] == month_num:\n",
    "            #print(round(month_categories['month_sum'][i], 2))\n",
    "            #print(round(sum_mo_1)*100)\n",
    "            amount = round(month_categories['month_sum'][i]/round(sum_mo_1)*100, 2)\n",
    "            #print(amount)\n",
    "            #break\n",
    "            perc.append(amount)\n",
    "    return perc\n",
    "\n",
    "percentage = []\n",
    "final = []\n",
    "for month in months:\n",
    "    percentage.append(get_percentage(month))\n",
    "final = [a for b in percentage for a in b]\n",
    "month_categories['values'] = final"
   ]
  },
  {
   "cell_type": "code",
   "execution_count": 32,
   "id": "dcf3c1f4",
   "metadata": {},
   "outputs": [
    {
     "data": {
      "text/html": [
       "<div>\n",
       "<style scoped>\n",
       "    .dataframe tbody tr th:only-of-type {\n",
       "        vertical-align: middle;\n",
       "    }\n",
       "\n",
       "    .dataframe tbody tr th {\n",
       "        vertical-align: top;\n",
       "    }\n",
       "\n",
       "    .dataframe thead th {\n",
       "        text-align: right;\n",
       "    }\n",
       "</style>\n",
       "<table border=\"1\" class=\"dataframe\">\n",
       "  <thead>\n",
       "    <tr style=\"text-align: right;\">\n",
       "      <th></th>\n",
       "      <th>month</th>\n",
       "      <th>category</th>\n",
       "      <th>long_month</th>\n",
       "      <th>month_sum</th>\n",
       "      <th>values</th>\n",
       "    </tr>\n",
       "  </thead>\n",
       "  <tbody>\n",
       "    <tr>\n",
       "      <th>0</th>\n",
       "      <td>3</td>\n",
       "      <td>work</td>\n",
       "      <td>March</td>\n",
       "      <td>-69.99</td>\n",
       "      <td>99.99</td>\n",
       "    </tr>\n",
       "    <tr>\n",
       "      <th>1</th>\n",
       "      <td>4</td>\n",
       "      <td>fast_food</td>\n",
       "      <td>April</td>\n",
       "      <td>-71.66</td>\n",
       "      <td>5.99</td>\n",
       "    </tr>\n",
       "    <tr>\n",
       "      <th>2</th>\n",
       "      <td>4</td>\n",
       "      <td>food</td>\n",
       "      <td>April</td>\n",
       "      <td>-245.21</td>\n",
       "      <td>20.50</td>\n",
       "    </tr>\n",
       "    <tr>\n",
       "      <th>3</th>\n",
       "      <td>4</td>\n",
       "      <td>fun</td>\n",
       "      <td>April</td>\n",
       "      <td>-31.84</td>\n",
       "      <td>2.66</td>\n",
       "    </tr>\n",
       "    <tr>\n",
       "      <th>4</th>\n",
       "      <td>4</td>\n",
       "      <td>gas</td>\n",
       "      <td>April</td>\n",
       "      <td>-63.44</td>\n",
       "      <td>5.30</td>\n",
       "    </tr>\n",
       "  </tbody>\n",
       "</table>\n",
       "</div>"
      ],
      "text/plain": [
       "   month   category long_month  month_sum  values\n",
       "0      3       work      March     -69.99   99.99\n",
       "1      4  fast_food      April     -71.66    5.99\n",
       "2      4       food      April    -245.21   20.50\n",
       "3      4        fun      April     -31.84    2.66\n",
       "4      4        gas      April     -63.44    5.30"
      ]
     },
     "execution_count": 32,
     "metadata": {},
     "output_type": "execute_result"
    }
   ],
   "source": [
    "month_categories.head()"
   ]
  },
  {
   "cell_type": "markdown",
   "id": "16fb1571",
   "metadata": {},
   "source": [
    "# Looped Treemap by Month\n",
    "\n",
    "---\n",
    "\n",
    "###  - remember to toggle cell to remove slider"
   ]
  },
  {
   "cell_type": "code",
   "execution_count": 33,
   "id": "491c9b7a",
   "metadata": {},
   "outputs": [],
   "source": [
    "def search_values(cat, cat_dict, df):\n",
    "    for value in essentials.values():\n",
    "        if cat in value:\n",
    "            return True\n",
    "\n",
    "    from plotly.subplots import make_subplots\n",
    "    import plotly.graph_objects as go\n",
    "    fig = make_subplots(rows = 6, cols = 6,\n",
    "                        column_widths = [0.4 for i in range(6)],\n",
    "                        subplot_titles= (df.long_month.unique()))\n",
    "\n",
    "def make_treemap(df, months):\n",
    "    import plotly.express as px\n",
    "    df['month_sum_s'] = [f'${str(i)}' for i in df.month_sum]\n",
    "    fig = px.treemap(df.sort_values(by=['values']).reset_index(drop=True), \n",
    "                     title= f\"{df['long_month'][0]} Spending\",\n",
    "                     path=['priority','category'],\n",
    "                     values='values', \n",
    "                     color= 'month_sum',\n",
    "                     color_continuous_scale= gradient[::-1],\n",
    "                     color_continuous_midpoint=np.average(df['month_sum'], weights=df['values']),\n",
    "                     hover_name='month_sum',\n",
    "                     custom_data = ['month_sum_s','percentages'])\n",
    "    #fig.update_traces(marker_colors = colors_all, selector=dict(type='treemap'))\n",
    "    #visual = df.loc[df['long_month'] == month]['month_sum_s']\n",
    "    #fig.update_traces(hovertemplate='%{month_sum}')\n",
    "    fig.data[0].hovertemplate = '%{label}'\n",
    "    fig.update_traces(\n",
    "    hovertemplate=\"<br>\".join([\n",
    "        \"Dollars: %{customdata[0]}\",\n",
    "        \"Percentage: %{customdata[1]}\"\n",
    "    ])\n",
    ")\n",
    "    fig.update_layout(margin = dict(t=50, l=25, r=25, b=25))\n",
    "    fig.write_image(f'fig{months}.svg')\n",
    "    fig.show()\n",
    "\n",
    "def loop_plots(months, df):\n",
    "    for i, month in enumerate(months):\n",
    "        i = i+1\n",
    "        split_month_df = df.loc[df['month'] == month].reset_index(drop=True)\n",
    "        priority = []\n",
    "        for cat in split_month_df.category:\n",
    "                if cat in essentials.keys() or search_values(cat, essentials, df):\n",
    "                    priority.append('Essential')\n",
    "                else:\n",
    "                     priority.append('Non-Essential')\n",
    "        split_month_df['priority'] = priority\n",
    "        split_month_df['values'] = split_month_df['values'].apply(lambda x: x*-1 if x < 0 else x)\n",
    "        split_month_df['month_sum'] = split_month_df['month_sum'].apply(lambda x: round(x*-1) if x < 0 else round(x))\n",
    "        split_month_df['percentages'] = split_month_df['values'].apply(lambda x : str(x*-1)+'%' if x < 0 else str(x)+'%')\n",
    "        split_month_df['month_sum'] = split_month_df['month_sum'].apply(lambda x : round(x, 2))\n",
    "        make_treemap(split_month_df, month)"
   ]
  },
  {
   "cell_type": "code",
   "execution_count": 34,
   "id": "87e55538",
   "metadata": {},
   "outputs": [],
   "source": [
    "# from plotly.subplots import make_subplots\n",
    "# import plotly.graph_objects as go\n",
    "# fig = make_subplots(rows = 6, cols = 6,\n",
    "#                     column_widths = [0.4 for i in range(6)],\n",
    "#                     subplot_titles= (month_categories.long_month.unique()))\n",
    "\n",
    "    #specs = [{'type':'treemap', 'rowspan': len(months/2)}, 'type':'treemap']]\n",
    "    "
   ]
  },
  {
   "cell_type": "code",
   "execution_count": 35,
   "id": "99a5fb76",
   "metadata": {},
   "outputs": [
    {
     "data": {
      "text/plain": [
       "[3, 4, 5]"
      ]
     },
     "execution_count": 35,
     "metadata": {},
     "output_type": "execute_result"
    }
   ],
   "source": [
    "months"
   ]
  },
  {
   "cell_type": "code",
   "execution_count": 36,
   "id": "c846d2e1",
   "metadata": {},
   "outputs": [],
   "source": [
    "#Need to add a if you want to see one month, all months or some months query"
   ]
  },
  {
   "cell_type": "code",
   "execution_count": 37,
   "id": "d35a8868",
   "metadata": {},
   "outputs": [
    {
     "data": {
      "application/vnd.plotly.v1+json": {
       "config": {
        "plotlyServerURL": "https://plot.ly"
       },
       "data": [
        {
         "branchvalues": "total",
         "customdata": [
          [
           "$70",
           70
          ],
          [
           "$70",
           70
          ],
          [
           "$70",
           70
          ]
         ],
         "domain": {
          "x": [
           0,
           1
          ],
          "y": [
           0,
           1
          ]
         },
         "hovertemplate": "<b>%{hovertext}</b><br><br>labels=%{label}<br>value=%{value}<br>parent=%{parent}<br>id=%{id}<br>month_sum=%{color}<extra></extra>",
         "hovertext": [
          70,
          70,
          70
         ],
         "ids": [
          "Non-Essential/work/99.99%",
          "Non-Essential/work",
          "Non-Essential"
         ],
         "labels": [
          "99.99%",
          "work",
          "Non-Essential"
         ],
         "marker": {
          "coloraxis": "coloraxis",
          "colors": [
           70,
           70,
           70
          ]
         },
         "name": "",
         "parents": [
          "Non-Essential/work",
          "Non-Essential",
          ""
         ],
         "type": "treemap",
         "values": [
          99.99,
          99.99,
          99.99
         ]
        }
       ],
       "layout": {
        "coloraxis": {
         "cmid": 70,
         "colorbar": {
          "title": {
           "text": "month_sum"
          }
         },
         "colorscale": [
          [
           0,
           "#577590"
          ],
          [
           0.015873015873015872,
           "#527692"
          ],
          [
           0.031746031746031744,
           "#4C7794"
          ],
          [
           0.047619047619047616,
           "#477896"
          ],
          [
           0.06349206349206349,
           "#427998"
          ],
          [
           0.07936507936507936,
           "#3C7999"
          ],
          [
           0.09523809523809523,
           "#377A9B"
          ],
          [
           0.1111111111111111,
           "#327B9D"
          ],
          [
           0.12698412698412698,
           "#2C7C9F"
          ],
          [
           0.14285714285714285,
           "#277DA1"
          ],
          [
           0.15873015873015872,
           "#2B7F9F"
          ],
          [
           0.1746031746031746,
           "#2F819D"
          ],
          [
           0.19047619047619047,
           "#34839B"
          ],
          [
           0.20634920634920634,
           "#388599"
          ],
          [
           0.2222222222222222,
           "#3C8896"
          ],
          [
           0.23809523809523808,
           "#408A94"
          ],
          [
           0.25396825396825395,
           "#458C92"
          ],
          [
           0.2698412698412698,
           "#498E90"
          ],
          [
           0.2857142857142857,
           "#4D908E"
          ],
          [
           0.30158730158730157,
           "#4C968D"
          ],
          [
           0.31746031746031744,
           "#4B968D"
          ],
          [
           0.3333333333333333,
           "#4A998D"
          ],
          [
           0.3492063492063492,
           "#499C8D"
          ],
          [
           0.36507936507936506,
           "#479E8C"
          ],
          [
           0.38095238095238093,
           "#45A48C"
          ],
          [
           0.3968253968253968,
           "#44A78B"
          ],
          [
           0.4126984126984127,
           "#43AA8B"
          ],
          [
           0.42857142857142855,
           "#4CAC88"
          ],
          [
           0.4444444444444444,
           "#54AE84"
          ],
          [
           0.4603174603174603,
           "#55B082"
          ],
          [
           0.47619047619047616,
           "#65B37E"
          ],
          [
           0.49206349206349204,
           "#6EB57A"
          ],
          [
           0.5079365079365079,
           "#76B777"
          ],
          [
           0.5238095238095238,
           "#7FBA74"
          ],
          [
           0.5396825396825397,
           "#87BC70"
          ],
          [
           0.5555555555555556,
           "#88BC70"
          ],
          [
           0.5714285714285714,
           "#90BE6D"
          ],
          [
           0.5873015873015873,
           "#9CBF6A"
          ],
          [
           0.6031746031746031,
           "#A7C066"
          ],
          [
           0.6190476190476191,
           "#B3C163"
          ],
          [
           0.6349206349206349,
           "#BFC260"
          ],
          [
           0.6507936507936508,
           "#CAC35C"
          ],
          [
           0.6666666666666666,
           "#D6C459"
          ],
          [
           0.6825396825396826,
           "#E2C556"
          ],
          [
           0.6984126984126984,
           "#EDC652"
          ],
          [
           0.7142857142857143,
           "#F9C74F"
          ],
          [
           0.7301587301587301,
           "#F9C24A"
          ],
          [
           0.746031746031746,
           "#F9BC44"
          ],
          [
           0.7619047619047619,
           "#F9B73F"
          ],
          [
           0.7777777777777778,
           "#F9B139"
          ],
          [
           0.7936507936507936,
           "#F8AC34"
          ],
          [
           0.8095238095238095,
           "#F8A62E"
          ],
          [
           0.8253968253968254,
           "#F8A129"
          ],
          [
           0.8412698412698413,
           "#F89B23"
          ],
          [
           0.8571428571428571,
           "#F8961E"
          ],
          [
           0.873015873015873,
           "#F88D22"
          ],
          [
           0.8888888888888888,
           "#F88326"
          ],
          [
           0.9047619047619048,
           "#F87A2B"
          ],
          [
           0.9206349206349206,
           "#F8702F"
          ],
          [
           0.9365079365079365,
           "#F96733"
          ],
          [
           0.9523809523809523,
           "#F95D37"
          ],
          [
           0.9682539682539683,
           "#F9543C"
          ],
          [
           0.9841269841269841,
           "#F94A40"
          ],
          [
           1,
           "#F94144"
          ]
         ]
        },
        "legend": {
         "tracegroupgap": 0
        },
        "margin": {
         "b": 25,
         "l": 25,
         "r": 25,
         "t": 50
        },
        "template": {
         "data": {
          "bar": [
           {
            "error_x": {
             "color": "#2a3f5f"
            },
            "error_y": {
             "color": "#2a3f5f"
            },
            "marker": {
             "line": {
              "color": "#E5ECF6",
              "width": 0.5
             }
            },
            "type": "bar"
           }
          ],
          "barpolar": [
           {
            "marker": {
             "line": {
              "color": "#E5ECF6",
              "width": 0.5
             }
            },
            "type": "barpolar"
           }
          ],
          "carpet": [
           {
            "aaxis": {
             "endlinecolor": "#2a3f5f",
             "gridcolor": "white",
             "linecolor": "white",
             "minorgridcolor": "white",
             "startlinecolor": "#2a3f5f"
            },
            "baxis": {
             "endlinecolor": "#2a3f5f",
             "gridcolor": "white",
             "linecolor": "white",
             "minorgridcolor": "white",
             "startlinecolor": "#2a3f5f"
            },
            "type": "carpet"
           }
          ],
          "choropleth": [
           {
            "colorbar": {
             "outlinewidth": 0,
             "ticks": ""
            },
            "type": "choropleth"
           }
          ],
          "contour": [
           {
            "colorbar": {
             "outlinewidth": 0,
             "ticks": ""
            },
            "colorscale": [
             [
              0,
              "#0d0887"
             ],
             [
              0.1111111111111111,
              "#46039f"
             ],
             [
              0.2222222222222222,
              "#7201a8"
             ],
             [
              0.3333333333333333,
              "#9c179e"
             ],
             [
              0.4444444444444444,
              "#bd3786"
             ],
             [
              0.5555555555555556,
              "#d8576b"
             ],
             [
              0.6666666666666666,
              "#ed7953"
             ],
             [
              0.7777777777777778,
              "#fb9f3a"
             ],
             [
              0.8888888888888888,
              "#fdca26"
             ],
             [
              1,
              "#f0f921"
             ]
            ],
            "type": "contour"
           }
          ],
          "contourcarpet": [
           {
            "colorbar": {
             "outlinewidth": 0,
             "ticks": ""
            },
            "type": "contourcarpet"
           }
          ],
          "heatmap": [
           {
            "colorbar": {
             "outlinewidth": 0,
             "ticks": ""
            },
            "colorscale": [
             [
              0,
              "#0d0887"
             ],
             [
              0.1111111111111111,
              "#46039f"
             ],
             [
              0.2222222222222222,
              "#7201a8"
             ],
             [
              0.3333333333333333,
              "#9c179e"
             ],
             [
              0.4444444444444444,
              "#bd3786"
             ],
             [
              0.5555555555555556,
              "#d8576b"
             ],
             [
              0.6666666666666666,
              "#ed7953"
             ],
             [
              0.7777777777777778,
              "#fb9f3a"
             ],
             [
              0.8888888888888888,
              "#fdca26"
             ],
             [
              1,
              "#f0f921"
             ]
            ],
            "type": "heatmap"
           }
          ],
          "heatmapgl": [
           {
            "colorbar": {
             "outlinewidth": 0,
             "ticks": ""
            },
            "colorscale": [
             [
              0,
              "#0d0887"
             ],
             [
              0.1111111111111111,
              "#46039f"
             ],
             [
              0.2222222222222222,
              "#7201a8"
             ],
             [
              0.3333333333333333,
              "#9c179e"
             ],
             [
              0.4444444444444444,
              "#bd3786"
             ],
             [
              0.5555555555555556,
              "#d8576b"
             ],
             [
              0.6666666666666666,
              "#ed7953"
             ],
             [
              0.7777777777777778,
              "#fb9f3a"
             ],
             [
              0.8888888888888888,
              "#fdca26"
             ],
             [
              1,
              "#f0f921"
             ]
            ],
            "type": "heatmapgl"
           }
          ],
          "histogram": [
           {
            "marker": {
             "colorbar": {
              "outlinewidth": 0,
              "ticks": ""
             }
            },
            "type": "histogram"
           }
          ],
          "histogram2d": [
           {
            "colorbar": {
             "outlinewidth": 0,
             "ticks": ""
            },
            "colorscale": [
             [
              0,
              "#0d0887"
             ],
             [
              0.1111111111111111,
              "#46039f"
             ],
             [
              0.2222222222222222,
              "#7201a8"
             ],
             [
              0.3333333333333333,
              "#9c179e"
             ],
             [
              0.4444444444444444,
              "#bd3786"
             ],
             [
              0.5555555555555556,
              "#d8576b"
             ],
             [
              0.6666666666666666,
              "#ed7953"
             ],
             [
              0.7777777777777778,
              "#fb9f3a"
             ],
             [
              0.8888888888888888,
              "#fdca26"
             ],
             [
              1,
              "#f0f921"
             ]
            ],
            "type": "histogram2d"
           }
          ],
          "histogram2dcontour": [
           {
            "colorbar": {
             "outlinewidth": 0,
             "ticks": ""
            },
            "colorscale": [
             [
              0,
              "#0d0887"
             ],
             [
              0.1111111111111111,
              "#46039f"
             ],
             [
              0.2222222222222222,
              "#7201a8"
             ],
             [
              0.3333333333333333,
              "#9c179e"
             ],
             [
              0.4444444444444444,
              "#bd3786"
             ],
             [
              0.5555555555555556,
              "#d8576b"
             ],
             [
              0.6666666666666666,
              "#ed7953"
             ],
             [
              0.7777777777777778,
              "#fb9f3a"
             ],
             [
              0.8888888888888888,
              "#fdca26"
             ],
             [
              1,
              "#f0f921"
             ]
            ],
            "type": "histogram2dcontour"
           }
          ],
          "mesh3d": [
           {
            "colorbar": {
             "outlinewidth": 0,
             "ticks": ""
            },
            "type": "mesh3d"
           }
          ],
          "parcoords": [
           {
            "line": {
             "colorbar": {
              "outlinewidth": 0,
              "ticks": ""
             }
            },
            "type": "parcoords"
           }
          ],
          "pie": [
           {
            "automargin": true,
            "type": "pie"
           }
          ],
          "scatter": [
           {
            "marker": {
             "colorbar": {
              "outlinewidth": 0,
              "ticks": ""
             }
            },
            "type": "scatter"
           }
          ],
          "scatter3d": [
           {
            "line": {
             "colorbar": {
              "outlinewidth": 0,
              "ticks": ""
             }
            },
            "marker": {
             "colorbar": {
              "outlinewidth": 0,
              "ticks": ""
             }
            },
            "type": "scatter3d"
           }
          ],
          "scattercarpet": [
           {
            "marker": {
             "colorbar": {
              "outlinewidth": 0,
              "ticks": ""
             }
            },
            "type": "scattercarpet"
           }
          ],
          "scattergeo": [
           {
            "marker": {
             "colorbar": {
              "outlinewidth": 0,
              "ticks": ""
             }
            },
            "type": "scattergeo"
           }
          ],
          "scattergl": [
           {
            "marker": {
             "colorbar": {
              "outlinewidth": 0,
              "ticks": ""
             }
            },
            "type": "scattergl"
           }
          ],
          "scattermapbox": [
           {
            "marker": {
             "colorbar": {
              "outlinewidth": 0,
              "ticks": ""
             }
            },
            "type": "scattermapbox"
           }
          ],
          "scatterpolar": [
           {
            "marker": {
             "colorbar": {
              "outlinewidth": 0,
              "ticks": ""
             }
            },
            "type": "scatterpolar"
           }
          ],
          "scatterpolargl": [
           {
            "marker": {
             "colorbar": {
              "outlinewidth": 0,
              "ticks": ""
             }
            },
            "type": "scatterpolargl"
           }
          ],
          "scatterternary": [
           {
            "marker": {
             "colorbar": {
              "outlinewidth": 0,
              "ticks": ""
             }
            },
            "type": "scatterternary"
           }
          ],
          "surface": [
           {
            "colorbar": {
             "outlinewidth": 0,
             "ticks": ""
            },
            "colorscale": [
             [
              0,
              "#0d0887"
             ],
             [
              0.1111111111111111,
              "#46039f"
             ],
             [
              0.2222222222222222,
              "#7201a8"
             ],
             [
              0.3333333333333333,
              "#9c179e"
             ],
             [
              0.4444444444444444,
              "#bd3786"
             ],
             [
              0.5555555555555556,
              "#d8576b"
             ],
             [
              0.6666666666666666,
              "#ed7953"
             ],
             [
              0.7777777777777778,
              "#fb9f3a"
             ],
             [
              0.8888888888888888,
              "#fdca26"
             ],
             [
              1,
              "#f0f921"
             ]
            ],
            "type": "surface"
           }
          ],
          "table": [
           {
            "cells": {
             "fill": {
              "color": "#EBF0F8"
             },
             "line": {
              "color": "white"
             }
            },
            "header": {
             "fill": {
              "color": "#C8D4E3"
             },
             "line": {
              "color": "white"
             }
            },
            "type": "table"
           }
          ]
         },
         "layout": {
          "annotationdefaults": {
           "arrowcolor": "#2a3f5f",
           "arrowhead": 0,
           "arrowwidth": 1
          },
          "autotypenumbers": "strict",
          "coloraxis": {
           "colorbar": {
            "outlinewidth": 0,
            "ticks": ""
           }
          },
          "colorscale": {
           "diverging": [
            [
             0,
             "#8e0152"
            ],
            [
             0.1,
             "#c51b7d"
            ],
            [
             0.2,
             "#de77ae"
            ],
            [
             0.3,
             "#f1b6da"
            ],
            [
             0.4,
             "#fde0ef"
            ],
            [
             0.5,
             "#f7f7f7"
            ],
            [
             0.6,
             "#e6f5d0"
            ],
            [
             0.7,
             "#b8e186"
            ],
            [
             0.8,
             "#7fbc41"
            ],
            [
             0.9,
             "#4d9221"
            ],
            [
             1,
             "#276419"
            ]
           ],
           "sequential": [
            [
             0,
             "#0d0887"
            ],
            [
             0.1111111111111111,
             "#46039f"
            ],
            [
             0.2222222222222222,
             "#7201a8"
            ],
            [
             0.3333333333333333,
             "#9c179e"
            ],
            [
             0.4444444444444444,
             "#bd3786"
            ],
            [
             0.5555555555555556,
             "#d8576b"
            ],
            [
             0.6666666666666666,
             "#ed7953"
            ],
            [
             0.7777777777777778,
             "#fb9f3a"
            ],
            [
             0.8888888888888888,
             "#fdca26"
            ],
            [
             1,
             "#f0f921"
            ]
           ],
           "sequentialminus": [
            [
             0,
             "#0d0887"
            ],
            [
             0.1111111111111111,
             "#46039f"
            ],
            [
             0.2222222222222222,
             "#7201a8"
            ],
            [
             0.3333333333333333,
             "#9c179e"
            ],
            [
             0.4444444444444444,
             "#bd3786"
            ],
            [
             0.5555555555555556,
             "#d8576b"
            ],
            [
             0.6666666666666666,
             "#ed7953"
            ],
            [
             0.7777777777777778,
             "#fb9f3a"
            ],
            [
             0.8888888888888888,
             "#fdca26"
            ],
            [
             1,
             "#f0f921"
            ]
           ]
          },
          "colorway": [
           "#636efa",
           "#EF553B",
           "#00cc96",
           "#ab63fa",
           "#FFA15A",
           "#19d3f3",
           "#FF6692",
           "#B6E880",
           "#FF97FF",
           "#FECB52"
          ],
          "font": {
           "color": "#2a3f5f"
          },
          "geo": {
           "bgcolor": "white",
           "lakecolor": "white",
           "landcolor": "#E5ECF6",
           "showlakes": true,
           "showland": true,
           "subunitcolor": "white"
          },
          "hoverlabel": {
           "align": "left"
          },
          "hovermode": "closest",
          "mapbox": {
           "style": "light"
          },
          "paper_bgcolor": "white",
          "plot_bgcolor": "#E5ECF6",
          "polar": {
           "angularaxis": {
            "gridcolor": "white",
            "linecolor": "white",
            "ticks": ""
           },
           "bgcolor": "#E5ECF6",
           "radialaxis": {
            "gridcolor": "white",
            "linecolor": "white",
            "ticks": ""
           }
          },
          "scene": {
           "xaxis": {
            "backgroundcolor": "#E5ECF6",
            "gridcolor": "white",
            "gridwidth": 2,
            "linecolor": "white",
            "showbackground": true,
            "ticks": "",
            "zerolinecolor": "white"
           },
           "yaxis": {
            "backgroundcolor": "#E5ECF6",
            "gridcolor": "white",
            "gridwidth": 2,
            "linecolor": "white",
            "showbackground": true,
            "ticks": "",
            "zerolinecolor": "white"
           },
           "zaxis": {
            "backgroundcolor": "#E5ECF6",
            "gridcolor": "white",
            "gridwidth": 2,
            "linecolor": "white",
            "showbackground": true,
            "ticks": "",
            "zerolinecolor": "white"
           }
          },
          "shapedefaults": {
           "line": {
            "color": "#2a3f5f"
           }
          },
          "ternary": {
           "aaxis": {
            "gridcolor": "white",
            "linecolor": "white",
            "ticks": ""
           },
           "baxis": {
            "gridcolor": "white",
            "linecolor": "white",
            "ticks": ""
           },
           "bgcolor": "#E5ECF6",
           "caxis": {
            "gridcolor": "white",
            "linecolor": "white",
            "ticks": ""
           }
          },
          "title": {
           "x": 0.05
          },
          "xaxis": {
           "automargin": true,
           "gridcolor": "white",
           "linecolor": "white",
           "ticks": "",
           "title": {
            "standoff": 15
           },
           "zerolinecolor": "white",
           "zerolinewidth": 2
          },
          "yaxis": {
           "automargin": true,
           "gridcolor": "white",
           "linecolor": "white",
           "ticks": "",
           "title": {
            "standoff": 15
           },
           "zerolinecolor": "white",
           "zerolinewidth": 2
          }
         }
        },
        "title": {
         "text": "March Spending"
        }
       }
      },
      "text/html": [
       "<div>                            <div id=\"5934f50d-d1ea-4801-859b-52e1cb3cc301\" class=\"plotly-graph-div\" style=\"height:525px; width:100%;\"></div>            <script type=\"text/javascript\">                require([\"plotly\"], function(Plotly) {                    window.PLOTLYENV=window.PLOTLYENV || {};                                    if (document.getElementById(\"5934f50d-d1ea-4801-859b-52e1cb3cc301\")) {                    Plotly.newPlot(                        \"5934f50d-d1ea-4801-859b-52e1cb3cc301\",                        [{\"branchvalues\": \"total\", \"customdata\": [[\"$70\", 70], [\"$70\", 70], [\"$70\", 70]], \"domain\": {\"x\": [0.0, 1.0], \"y\": [0.0, 1.0]}, \"hovertemplate\": \"<b>%{hovertext}</b><br><br>labels=%{label}<br>value=%{value}<br>parent=%{parent}<br>id=%{id}<br>month_sum=%{color}<extra></extra>\", \"hovertext\": [70.0, 70.0, 70.0], \"ids\": [\"Non-Essential/work/99.99%\", \"Non-Essential/work\", \"Non-Essential\"], \"labels\": [\"99.99%\", \"work\", \"Non-Essential\"], \"marker\": {\"coloraxis\": \"coloraxis\", \"colors\": [70, 70, 70]}, \"name\": \"\", \"parents\": [\"Non-Essential/work\", \"Non-Essential\", \"\"], \"type\": \"treemap\", \"values\": [99.99, 99.99, 99.99]}],                        {\"coloraxis\": {\"cmid\": 70.0, \"colorbar\": {\"title\": {\"text\": \"month_sum\"}}, \"colorscale\": [[0.0, \"#577590\"], [0.015873015873015872, \"#527692\"], [0.031746031746031744, \"#4C7794\"], [0.047619047619047616, \"#477896\"], [0.06349206349206349, \"#427998\"], [0.07936507936507936, \"#3C7999\"], [0.09523809523809523, \"#377A9B\"], [0.1111111111111111, \"#327B9D\"], [0.12698412698412698, \"#2C7C9F\"], [0.14285714285714285, \"#277DA1\"], [0.15873015873015872, \"#2B7F9F\"], [0.1746031746031746, \"#2F819D\"], [0.19047619047619047, \"#34839B\"], [0.20634920634920634, \"#388599\"], [0.2222222222222222, \"#3C8896\"], [0.23809523809523808, \"#408A94\"], [0.25396825396825395, \"#458C92\"], [0.2698412698412698, \"#498E90\"], [0.2857142857142857, \"#4D908E\"], [0.30158730158730157, \"#4C968D\"], [0.31746031746031744, \"#4B968D\"], [0.3333333333333333, \"#4A998D\"], [0.3492063492063492, \"#499C8D\"], [0.36507936507936506, \"#479E8C\"], [0.38095238095238093, \"#45A48C\"], [0.3968253968253968, \"#44A78B\"], [0.4126984126984127, \"#43AA8B\"], [0.42857142857142855, \"#4CAC88\"], [0.4444444444444444, \"#54AE84\"], [0.4603174603174603, \"#55B082\"], [0.47619047619047616, \"#65B37E\"], [0.49206349206349204, \"#6EB57A\"], [0.5079365079365079, \"#76B777\"], [0.5238095238095238, \"#7FBA74\"], [0.5396825396825397, \"#87BC70\"], [0.5555555555555556, \"#88BC70\"], [0.5714285714285714, \"#90BE6D\"], [0.5873015873015873, \"#9CBF6A\"], [0.6031746031746031, \"#A7C066\"], [0.6190476190476191, \"#B3C163\"], [0.6349206349206349, \"#BFC260\"], [0.6507936507936508, \"#CAC35C\"], [0.6666666666666666, \"#D6C459\"], [0.6825396825396826, \"#E2C556\"], [0.6984126984126984, \"#EDC652\"], [0.7142857142857143, \"#F9C74F\"], [0.7301587301587301, \"#F9C24A\"], [0.746031746031746, \"#F9BC44\"], [0.7619047619047619, \"#F9B73F\"], [0.7777777777777778, \"#F9B139\"], [0.7936507936507936, \"#F8AC34\"], [0.8095238095238095, \"#F8A62E\"], [0.8253968253968254, \"#F8A129\"], [0.8412698412698413, \"#F89B23\"], [0.8571428571428571, \"#F8961E\"], [0.873015873015873, \"#F88D22\"], [0.8888888888888888, \"#F88326\"], [0.9047619047619048, \"#F87A2B\"], [0.9206349206349206, \"#F8702F\"], [0.9365079365079365, \"#F96733\"], [0.9523809523809523, \"#F95D37\"], [0.9682539682539683, \"#F9543C\"], [0.9841269841269841, \"#F94A40\"], [1.0, \"#F94144\"]]}, \"legend\": {\"tracegroupgap\": 0}, \"margin\": {\"b\": 25, \"l\": 25, \"r\": 25, \"t\": 50}, \"template\": {\"data\": {\"bar\": [{\"error_x\": {\"color\": \"#2a3f5f\"}, \"error_y\": {\"color\": \"#2a3f5f\"}, \"marker\": {\"line\": {\"color\": \"#E5ECF6\", \"width\": 0.5}}, \"type\": \"bar\"}], \"barpolar\": [{\"marker\": {\"line\": {\"color\": \"#E5ECF6\", \"width\": 0.5}}, \"type\": \"barpolar\"}], \"carpet\": [{\"aaxis\": {\"endlinecolor\": \"#2a3f5f\", \"gridcolor\": \"white\", \"linecolor\": \"white\", \"minorgridcolor\": \"white\", \"startlinecolor\": \"#2a3f5f\"}, \"baxis\": {\"endlinecolor\": \"#2a3f5f\", \"gridcolor\": \"white\", \"linecolor\": \"white\", \"minorgridcolor\": \"white\", \"startlinecolor\": \"#2a3f5f\"}, \"type\": \"carpet\"}], \"choropleth\": [{\"colorbar\": {\"outlinewidth\": 0, \"ticks\": \"\"}, \"type\": \"choropleth\"}], \"contour\": [{\"colorbar\": {\"outlinewidth\": 0, \"ticks\": \"\"}, \"colorscale\": [[0.0, \"#0d0887\"], [0.1111111111111111, \"#46039f\"], [0.2222222222222222, \"#7201a8\"], [0.3333333333333333, \"#9c179e\"], [0.4444444444444444, \"#bd3786\"], [0.5555555555555556, \"#d8576b\"], [0.6666666666666666, \"#ed7953\"], [0.7777777777777778, \"#fb9f3a\"], [0.8888888888888888, \"#fdca26\"], [1.0, \"#f0f921\"]], \"type\": \"contour\"}], \"contourcarpet\": [{\"colorbar\": {\"outlinewidth\": 0, \"ticks\": \"\"}, \"type\": \"contourcarpet\"}], \"heatmap\": [{\"colorbar\": {\"outlinewidth\": 0, \"ticks\": \"\"}, \"colorscale\": [[0.0, \"#0d0887\"], [0.1111111111111111, \"#46039f\"], [0.2222222222222222, \"#7201a8\"], [0.3333333333333333, \"#9c179e\"], [0.4444444444444444, \"#bd3786\"], [0.5555555555555556, \"#d8576b\"], [0.6666666666666666, \"#ed7953\"], [0.7777777777777778, \"#fb9f3a\"], [0.8888888888888888, \"#fdca26\"], [1.0, \"#f0f921\"]], \"type\": \"heatmap\"}], \"heatmapgl\": [{\"colorbar\": {\"outlinewidth\": 0, \"ticks\": \"\"}, \"colorscale\": [[0.0, \"#0d0887\"], [0.1111111111111111, \"#46039f\"], [0.2222222222222222, \"#7201a8\"], [0.3333333333333333, \"#9c179e\"], [0.4444444444444444, \"#bd3786\"], [0.5555555555555556, \"#d8576b\"], [0.6666666666666666, \"#ed7953\"], [0.7777777777777778, \"#fb9f3a\"], [0.8888888888888888, \"#fdca26\"], [1.0, \"#f0f921\"]], \"type\": \"heatmapgl\"}], \"histogram\": [{\"marker\": {\"colorbar\": {\"outlinewidth\": 0, \"ticks\": \"\"}}, \"type\": \"histogram\"}], \"histogram2d\": [{\"colorbar\": {\"outlinewidth\": 0, \"ticks\": \"\"}, \"colorscale\": [[0.0, \"#0d0887\"], [0.1111111111111111, \"#46039f\"], [0.2222222222222222, \"#7201a8\"], [0.3333333333333333, \"#9c179e\"], [0.4444444444444444, \"#bd3786\"], [0.5555555555555556, \"#d8576b\"], [0.6666666666666666, \"#ed7953\"], [0.7777777777777778, \"#fb9f3a\"], [0.8888888888888888, \"#fdca26\"], [1.0, \"#f0f921\"]], \"type\": \"histogram2d\"}], \"histogram2dcontour\": [{\"colorbar\": {\"outlinewidth\": 0, \"ticks\": \"\"}, \"colorscale\": [[0.0, \"#0d0887\"], [0.1111111111111111, \"#46039f\"], [0.2222222222222222, \"#7201a8\"], [0.3333333333333333, \"#9c179e\"], [0.4444444444444444, \"#bd3786\"], [0.5555555555555556, \"#d8576b\"], [0.6666666666666666, \"#ed7953\"], [0.7777777777777778, \"#fb9f3a\"], [0.8888888888888888, \"#fdca26\"], [1.0, \"#f0f921\"]], \"type\": \"histogram2dcontour\"}], \"mesh3d\": [{\"colorbar\": {\"outlinewidth\": 0, \"ticks\": \"\"}, \"type\": \"mesh3d\"}], \"parcoords\": [{\"line\": {\"colorbar\": {\"outlinewidth\": 0, \"ticks\": \"\"}}, \"type\": \"parcoords\"}], \"pie\": [{\"automargin\": true, \"type\": \"pie\"}], \"scatter\": [{\"marker\": {\"colorbar\": {\"outlinewidth\": 0, \"ticks\": \"\"}}, \"type\": \"scatter\"}], \"scatter3d\": [{\"line\": {\"colorbar\": {\"outlinewidth\": 0, \"ticks\": \"\"}}, \"marker\": {\"colorbar\": {\"outlinewidth\": 0, \"ticks\": \"\"}}, \"type\": \"scatter3d\"}], \"scattercarpet\": [{\"marker\": {\"colorbar\": {\"outlinewidth\": 0, \"ticks\": \"\"}}, \"type\": \"scattercarpet\"}], \"scattergeo\": [{\"marker\": {\"colorbar\": {\"outlinewidth\": 0, \"ticks\": \"\"}}, \"type\": \"scattergeo\"}], \"scattergl\": [{\"marker\": {\"colorbar\": {\"outlinewidth\": 0, \"ticks\": \"\"}}, \"type\": \"scattergl\"}], \"scattermapbox\": [{\"marker\": {\"colorbar\": {\"outlinewidth\": 0, \"ticks\": \"\"}}, \"type\": \"scattermapbox\"}], \"scatterpolar\": [{\"marker\": {\"colorbar\": {\"outlinewidth\": 0, \"ticks\": \"\"}}, \"type\": \"scatterpolar\"}], \"scatterpolargl\": [{\"marker\": {\"colorbar\": {\"outlinewidth\": 0, \"ticks\": \"\"}}, \"type\": \"scatterpolargl\"}], \"scatterternary\": [{\"marker\": {\"colorbar\": {\"outlinewidth\": 0, \"ticks\": \"\"}}, \"type\": \"scatterternary\"}], \"surface\": [{\"colorbar\": {\"outlinewidth\": 0, \"ticks\": \"\"}, \"colorscale\": [[0.0, \"#0d0887\"], [0.1111111111111111, \"#46039f\"], [0.2222222222222222, \"#7201a8\"], [0.3333333333333333, \"#9c179e\"], [0.4444444444444444, \"#bd3786\"], [0.5555555555555556, \"#d8576b\"], [0.6666666666666666, \"#ed7953\"], [0.7777777777777778, \"#fb9f3a\"], [0.8888888888888888, \"#fdca26\"], [1.0, \"#f0f921\"]], \"type\": \"surface\"}], \"table\": [{\"cells\": {\"fill\": {\"color\": \"#EBF0F8\"}, \"line\": {\"color\": \"white\"}}, \"header\": {\"fill\": {\"color\": \"#C8D4E3\"}, \"line\": {\"color\": \"white\"}}, \"type\": \"table\"}]}, \"layout\": {\"annotationdefaults\": {\"arrowcolor\": \"#2a3f5f\", \"arrowhead\": 0, \"arrowwidth\": 1}, \"autotypenumbers\": \"strict\", \"coloraxis\": {\"colorbar\": {\"outlinewidth\": 0, \"ticks\": \"\"}}, \"colorscale\": {\"diverging\": [[0, \"#8e0152\"], [0.1, \"#c51b7d\"], [0.2, \"#de77ae\"], [0.3, \"#f1b6da\"], [0.4, \"#fde0ef\"], [0.5, \"#f7f7f7\"], [0.6, \"#e6f5d0\"], [0.7, \"#b8e186\"], [0.8, \"#7fbc41\"], [0.9, \"#4d9221\"], [1, \"#276419\"]], \"sequential\": [[0.0, \"#0d0887\"], [0.1111111111111111, \"#46039f\"], [0.2222222222222222, \"#7201a8\"], [0.3333333333333333, \"#9c179e\"], [0.4444444444444444, \"#bd3786\"], [0.5555555555555556, \"#d8576b\"], [0.6666666666666666, \"#ed7953\"], [0.7777777777777778, \"#fb9f3a\"], [0.8888888888888888, \"#fdca26\"], [1.0, \"#f0f921\"]], \"sequentialminus\": [[0.0, \"#0d0887\"], [0.1111111111111111, \"#46039f\"], [0.2222222222222222, \"#7201a8\"], [0.3333333333333333, \"#9c179e\"], [0.4444444444444444, \"#bd3786\"], [0.5555555555555556, \"#d8576b\"], [0.6666666666666666, \"#ed7953\"], [0.7777777777777778, \"#fb9f3a\"], [0.8888888888888888, \"#fdca26\"], [1.0, \"#f0f921\"]]}, \"colorway\": [\"#636efa\", \"#EF553B\", \"#00cc96\", \"#ab63fa\", \"#FFA15A\", \"#19d3f3\", \"#FF6692\", \"#B6E880\", \"#FF97FF\", \"#FECB52\"], \"font\": {\"color\": \"#2a3f5f\"}, \"geo\": {\"bgcolor\": \"white\", \"lakecolor\": \"white\", \"landcolor\": \"#E5ECF6\", \"showlakes\": true, \"showland\": true, \"subunitcolor\": \"white\"}, \"hoverlabel\": {\"align\": \"left\"}, \"hovermode\": \"closest\", \"mapbox\": {\"style\": \"light\"}, \"paper_bgcolor\": \"white\", \"plot_bgcolor\": \"#E5ECF6\", \"polar\": {\"angularaxis\": {\"gridcolor\": \"white\", \"linecolor\": \"white\", \"ticks\": \"\"}, \"bgcolor\": \"#E5ECF6\", \"radialaxis\": {\"gridcolor\": \"white\", \"linecolor\": \"white\", \"ticks\": \"\"}}, \"scene\": {\"xaxis\": {\"backgroundcolor\": \"#E5ECF6\", \"gridcolor\": \"white\", \"gridwidth\": 2, \"linecolor\": \"white\", \"showbackground\": true, \"ticks\": \"\", \"zerolinecolor\": \"white\"}, \"yaxis\": {\"backgroundcolor\": \"#E5ECF6\", \"gridcolor\": \"white\", \"gridwidth\": 2, \"linecolor\": \"white\", \"showbackground\": true, \"ticks\": \"\", \"zerolinecolor\": \"white\"}, \"zaxis\": {\"backgroundcolor\": \"#E5ECF6\", \"gridcolor\": \"white\", \"gridwidth\": 2, \"linecolor\": \"white\", \"showbackground\": true, \"ticks\": \"\", \"zerolinecolor\": \"white\"}}, \"shapedefaults\": {\"line\": {\"color\": \"#2a3f5f\"}}, \"ternary\": {\"aaxis\": {\"gridcolor\": \"white\", \"linecolor\": \"white\", \"ticks\": \"\"}, \"baxis\": {\"gridcolor\": \"white\", \"linecolor\": \"white\", \"ticks\": \"\"}, \"bgcolor\": \"#E5ECF6\", \"caxis\": {\"gridcolor\": \"white\", \"linecolor\": \"white\", \"ticks\": \"\"}}, \"title\": {\"x\": 0.05}, \"xaxis\": {\"automargin\": true, \"gridcolor\": \"white\", \"linecolor\": \"white\", \"ticks\": \"\", \"title\": {\"standoff\": 15}, \"zerolinecolor\": \"white\", \"zerolinewidth\": 2}, \"yaxis\": {\"automargin\": true, \"gridcolor\": \"white\", \"linecolor\": \"white\", \"ticks\": \"\", \"title\": {\"standoff\": 15}, \"zerolinecolor\": \"white\", \"zerolinewidth\": 2}}}, \"title\": {\"text\": \"March Spending\"}},                        {\"responsive\": true}                    ).then(function(){\n",
       "                            \n",
       "var gd = document.getElementById('5934f50d-d1ea-4801-859b-52e1cb3cc301');\n",
       "var x = new MutationObserver(function (mutations, observer) {{\n",
       "        var display = window.getComputedStyle(gd).display;\n",
       "        if (!display || display === 'none') {{\n",
       "            console.log([gd, 'removed!']);\n",
       "            Plotly.purge(gd);\n",
       "            observer.disconnect();\n",
       "        }}\n",
       "}});\n",
       "\n",
       "// Listen for the removal of the full notebook cells\n",
       "var notebookContainer = gd.closest('#notebook-container');\n",
       "if (notebookContainer) {{\n",
       "    x.observe(notebookContainer, {childList: true});\n",
       "}}\n",
       "\n",
       "// Listen for the clearing of the current output cell\n",
       "var outputEl = gd.closest('.output');\n",
       "if (outputEl) {{\n",
       "    x.observe(outputEl, {childList: true});\n",
       "}}\n",
       "\n",
       "                        })                };                });            </script>        </div>"
      ]
     },
     "metadata": {},
     "output_type": "display_data"
    },
    {
     "data": {
      "application/vnd.plotly.v1+json": {
       "config": {
        "plotlyServerURL": "https://plot.ly"
       },
       "data": [
        {
         "branchvalues": "total",
         "customdata": [
          [
           "$228",
           228
          ],
          [
           "$239",
           239
          ],
          [
           "$32",
           32
          ],
          [
           "$245",
           245
          ],
          [
           "$48",
           48
          ],
          [
           "$49",
           49
          ],
          [
           "$57",
           57
          ],
          [
           "$57",
           57
          ],
          [
           "$63",
           63
          ],
          [
           "$72",
           72
          ],
          [
           "$106",
           106
          ],
          [
           "$72",
           72
          ],
          [
           "$245",
           245
          ],
          [
           "$32",
           32
          ],
          [
           "$63",
           63
          ],
          [
           "$48",
           48
          ],
          [
           "$57",
           57
          ],
          [
           "$49",
           49
          ],
          [
           "$106",
           106
          ],
          [
           "$57",
           57
          ],
          [
           "$228",
           228
          ],
          [
           "$239",
           239
          ],
          [
           "(?)",
           189.70055970149258
          ],
          [
           "(?)",
           144.5740780677162
          ]
         ],
         "domain": {
          "x": [
           0,
           1
          ],
          "y": [
           0,
           1
          ]
         },
         "hovertemplate": "<b>%{hovertext}</b><br><br>labels=%{label}<br>value=%{value}<br>parent=%{parent}<br>id=%{id}<br>month_sum=%{color}<extra></extra>",
         "hovertext": [
          228,
          239,
          32,
          245,
          48,
          49,
          57,
          57,
          63,
          72,
          106,
          72,
          245,
          32,
          63,
          48,
          57,
          49,
          106,
          57,
          228,
          239,
          189.70055970149258,
          144.5740780677162
         ],
         "ids": [
          "Essential/utilities/19.08%",
          "Non-Essential/work/19.98%",
          "Non-Essential/fun/2.66%",
          "Essential/food/20.5%",
          "Essential/home/3.97%",
          "Non-Essential/online/4.13%",
          "Essential/medical/4.75%",
          "Non-Essential/restaurants/4.75%",
          "Essential/gas/5.3%",
          "Non-Essential/fast_food/5.99%",
          "Non-Essential/pets/8.86%",
          "Non-Essential/fast_food",
          "Essential/food",
          "Non-Essential/fun",
          "Essential/gas",
          "Essential/home",
          "Essential/medical",
          "Non-Essential/online",
          "Non-Essential/pets",
          "Non-Essential/restaurants",
          "Essential/utilities",
          "Non-Essential/work",
          "Essential",
          "Non-Essential"
         ],
         "labels": [
          "19.08%",
          "19.98%",
          "2.66%",
          "20.5%",
          "3.97%",
          "4.13%",
          "4.75%",
          "4.75%",
          "5.3%",
          "5.99%",
          "8.86%",
          "fast_food",
          "food",
          "fun",
          "gas",
          "home",
          "medical",
          "online",
          "pets",
          "restaurants",
          "utilities",
          "work",
          "Essential",
          "Non-Essential"
         ],
         "marker": {
          "coloraxis": "coloraxis",
          "colors": [
           228,
           239,
           32,
           245,
           48,
           49,
           57,
           57,
           63,
           72,
           106,
           72,
           245,
           32,
           63,
           48,
           57,
           49,
           106,
           57,
           228,
           239,
           189.70055970149258,
           144.5740780677162
          ]
         },
         "name": "",
         "parents": [
          "Essential/utilities",
          "Non-Essential/work",
          "Non-Essential/fun",
          "Essential/food",
          "Essential/home",
          "Non-Essential/online",
          "Essential/medical",
          "Non-Essential/restaurants",
          "Essential/gas",
          "Non-Essential/fast_food",
          "Non-Essential/pets",
          "Non-Essential",
          "Essential",
          "Non-Essential",
          "Essential",
          "Essential",
          "Essential",
          "Non-Essential",
          "Non-Essential",
          "Non-Essential",
          "Essential",
          "Non-Essential",
          "",
          ""
         ],
         "type": "treemap",
         "values": [
          19.08,
          19.98,
          2.66,
          20.5,
          3.97,
          4.13,
          4.75,
          4.75,
          5.3,
          5.99,
          8.86,
          5.99,
          20.5,
          2.66,
          5.3,
          3.97,
          4.75,
          4.13,
          8.86,
          4.75,
          19.08,
          19.98,
          53.599999999999994,
          46.370000000000005
         ]
        }
       ],
       "layout": {
        "coloraxis": {
         "cmid": 168.76913073922174,
         "colorbar": {
          "title": {
           "text": "month_sum"
          }
         },
         "colorscale": [
          [
           0,
           "#577590"
          ],
          [
           0.015873015873015872,
           "#527692"
          ],
          [
           0.031746031746031744,
           "#4C7794"
          ],
          [
           0.047619047619047616,
           "#477896"
          ],
          [
           0.06349206349206349,
           "#427998"
          ],
          [
           0.07936507936507936,
           "#3C7999"
          ],
          [
           0.09523809523809523,
           "#377A9B"
          ],
          [
           0.1111111111111111,
           "#327B9D"
          ],
          [
           0.12698412698412698,
           "#2C7C9F"
          ],
          [
           0.14285714285714285,
           "#277DA1"
          ],
          [
           0.15873015873015872,
           "#2B7F9F"
          ],
          [
           0.1746031746031746,
           "#2F819D"
          ],
          [
           0.19047619047619047,
           "#34839B"
          ],
          [
           0.20634920634920634,
           "#388599"
          ],
          [
           0.2222222222222222,
           "#3C8896"
          ],
          [
           0.23809523809523808,
           "#408A94"
          ],
          [
           0.25396825396825395,
           "#458C92"
          ],
          [
           0.2698412698412698,
           "#498E90"
          ],
          [
           0.2857142857142857,
           "#4D908E"
          ],
          [
           0.30158730158730157,
           "#4C968D"
          ],
          [
           0.31746031746031744,
           "#4B968D"
          ],
          [
           0.3333333333333333,
           "#4A998D"
          ],
          [
           0.3492063492063492,
           "#499C8D"
          ],
          [
           0.36507936507936506,
           "#479E8C"
          ],
          [
           0.38095238095238093,
           "#45A48C"
          ],
          [
           0.3968253968253968,
           "#44A78B"
          ],
          [
           0.4126984126984127,
           "#43AA8B"
          ],
          [
           0.42857142857142855,
           "#4CAC88"
          ],
          [
           0.4444444444444444,
           "#54AE84"
          ],
          [
           0.4603174603174603,
           "#55B082"
          ],
          [
           0.47619047619047616,
           "#65B37E"
          ],
          [
           0.49206349206349204,
           "#6EB57A"
          ],
          [
           0.5079365079365079,
           "#76B777"
          ],
          [
           0.5238095238095238,
           "#7FBA74"
          ],
          [
           0.5396825396825397,
           "#87BC70"
          ],
          [
           0.5555555555555556,
           "#88BC70"
          ],
          [
           0.5714285714285714,
           "#90BE6D"
          ],
          [
           0.5873015873015873,
           "#9CBF6A"
          ],
          [
           0.6031746031746031,
           "#A7C066"
          ],
          [
           0.6190476190476191,
           "#B3C163"
          ],
          [
           0.6349206349206349,
           "#BFC260"
          ],
          [
           0.6507936507936508,
           "#CAC35C"
          ],
          [
           0.6666666666666666,
           "#D6C459"
          ],
          [
           0.6825396825396826,
           "#E2C556"
          ],
          [
           0.6984126984126984,
           "#EDC652"
          ],
          [
           0.7142857142857143,
           "#F9C74F"
          ],
          [
           0.7301587301587301,
           "#F9C24A"
          ],
          [
           0.746031746031746,
           "#F9BC44"
          ],
          [
           0.7619047619047619,
           "#F9B73F"
          ],
          [
           0.7777777777777778,
           "#F9B139"
          ],
          [
           0.7936507936507936,
           "#F8AC34"
          ],
          [
           0.8095238095238095,
           "#F8A62E"
          ],
          [
           0.8253968253968254,
           "#F8A129"
          ],
          [
           0.8412698412698413,
           "#F89B23"
          ],
          [
           0.8571428571428571,
           "#F8961E"
          ],
          [
           0.873015873015873,
           "#F88D22"
          ],
          [
           0.8888888888888888,
           "#F88326"
          ],
          [
           0.9047619047619048,
           "#F87A2B"
          ],
          [
           0.9206349206349206,
           "#F8702F"
          ],
          [
           0.9365079365079365,
           "#F96733"
          ],
          [
           0.9523809523809523,
           "#F95D37"
          ],
          [
           0.9682539682539683,
           "#F9543C"
          ],
          [
           0.9841269841269841,
           "#F94A40"
          ],
          [
           1,
           "#F94144"
          ]
         ]
        },
        "legend": {
         "tracegroupgap": 0
        },
        "margin": {
         "b": 25,
         "l": 25,
         "r": 25,
         "t": 50
        },
        "template": {
         "data": {
          "bar": [
           {
            "error_x": {
             "color": "#2a3f5f"
            },
            "error_y": {
             "color": "#2a3f5f"
            },
            "marker": {
             "line": {
              "color": "#E5ECF6",
              "width": 0.5
             }
            },
            "type": "bar"
           }
          ],
          "barpolar": [
           {
            "marker": {
             "line": {
              "color": "#E5ECF6",
              "width": 0.5
             }
            },
            "type": "barpolar"
           }
          ],
          "carpet": [
           {
            "aaxis": {
             "endlinecolor": "#2a3f5f",
             "gridcolor": "white",
             "linecolor": "white",
             "minorgridcolor": "white",
             "startlinecolor": "#2a3f5f"
            },
            "baxis": {
             "endlinecolor": "#2a3f5f",
             "gridcolor": "white",
             "linecolor": "white",
             "minorgridcolor": "white",
             "startlinecolor": "#2a3f5f"
            },
            "type": "carpet"
           }
          ],
          "choropleth": [
           {
            "colorbar": {
             "outlinewidth": 0,
             "ticks": ""
            },
            "type": "choropleth"
           }
          ],
          "contour": [
           {
            "colorbar": {
             "outlinewidth": 0,
             "ticks": ""
            },
            "colorscale": [
             [
              0,
              "#0d0887"
             ],
             [
              0.1111111111111111,
              "#46039f"
             ],
             [
              0.2222222222222222,
              "#7201a8"
             ],
             [
              0.3333333333333333,
              "#9c179e"
             ],
             [
              0.4444444444444444,
              "#bd3786"
             ],
             [
              0.5555555555555556,
              "#d8576b"
             ],
             [
              0.6666666666666666,
              "#ed7953"
             ],
             [
              0.7777777777777778,
              "#fb9f3a"
             ],
             [
              0.8888888888888888,
              "#fdca26"
             ],
             [
              1,
              "#f0f921"
             ]
            ],
            "type": "contour"
           }
          ],
          "contourcarpet": [
           {
            "colorbar": {
             "outlinewidth": 0,
             "ticks": ""
            },
            "type": "contourcarpet"
           }
          ],
          "heatmap": [
           {
            "colorbar": {
             "outlinewidth": 0,
             "ticks": ""
            },
            "colorscale": [
             [
              0,
              "#0d0887"
             ],
             [
              0.1111111111111111,
              "#46039f"
             ],
             [
              0.2222222222222222,
              "#7201a8"
             ],
             [
              0.3333333333333333,
              "#9c179e"
             ],
             [
              0.4444444444444444,
              "#bd3786"
             ],
             [
              0.5555555555555556,
              "#d8576b"
             ],
             [
              0.6666666666666666,
              "#ed7953"
             ],
             [
              0.7777777777777778,
              "#fb9f3a"
             ],
             [
              0.8888888888888888,
              "#fdca26"
             ],
             [
              1,
              "#f0f921"
             ]
            ],
            "type": "heatmap"
           }
          ],
          "heatmapgl": [
           {
            "colorbar": {
             "outlinewidth": 0,
             "ticks": ""
            },
            "colorscale": [
             [
              0,
              "#0d0887"
             ],
             [
              0.1111111111111111,
              "#46039f"
             ],
             [
              0.2222222222222222,
              "#7201a8"
             ],
             [
              0.3333333333333333,
              "#9c179e"
             ],
             [
              0.4444444444444444,
              "#bd3786"
             ],
             [
              0.5555555555555556,
              "#d8576b"
             ],
             [
              0.6666666666666666,
              "#ed7953"
             ],
             [
              0.7777777777777778,
              "#fb9f3a"
             ],
             [
              0.8888888888888888,
              "#fdca26"
             ],
             [
              1,
              "#f0f921"
             ]
            ],
            "type": "heatmapgl"
           }
          ],
          "histogram": [
           {
            "marker": {
             "colorbar": {
              "outlinewidth": 0,
              "ticks": ""
             }
            },
            "type": "histogram"
           }
          ],
          "histogram2d": [
           {
            "colorbar": {
             "outlinewidth": 0,
             "ticks": ""
            },
            "colorscale": [
             [
              0,
              "#0d0887"
             ],
             [
              0.1111111111111111,
              "#46039f"
             ],
             [
              0.2222222222222222,
              "#7201a8"
             ],
             [
              0.3333333333333333,
              "#9c179e"
             ],
             [
              0.4444444444444444,
              "#bd3786"
             ],
             [
              0.5555555555555556,
              "#d8576b"
             ],
             [
              0.6666666666666666,
              "#ed7953"
             ],
             [
              0.7777777777777778,
              "#fb9f3a"
             ],
             [
              0.8888888888888888,
              "#fdca26"
             ],
             [
              1,
              "#f0f921"
             ]
            ],
            "type": "histogram2d"
           }
          ],
          "histogram2dcontour": [
           {
            "colorbar": {
             "outlinewidth": 0,
             "ticks": ""
            },
            "colorscale": [
             [
              0,
              "#0d0887"
             ],
             [
              0.1111111111111111,
              "#46039f"
             ],
             [
              0.2222222222222222,
              "#7201a8"
             ],
             [
              0.3333333333333333,
              "#9c179e"
             ],
             [
              0.4444444444444444,
              "#bd3786"
             ],
             [
              0.5555555555555556,
              "#d8576b"
             ],
             [
              0.6666666666666666,
              "#ed7953"
             ],
             [
              0.7777777777777778,
              "#fb9f3a"
             ],
             [
              0.8888888888888888,
              "#fdca26"
             ],
             [
              1,
              "#f0f921"
             ]
            ],
            "type": "histogram2dcontour"
           }
          ],
          "mesh3d": [
           {
            "colorbar": {
             "outlinewidth": 0,
             "ticks": ""
            },
            "type": "mesh3d"
           }
          ],
          "parcoords": [
           {
            "line": {
             "colorbar": {
              "outlinewidth": 0,
              "ticks": ""
             }
            },
            "type": "parcoords"
           }
          ],
          "pie": [
           {
            "automargin": true,
            "type": "pie"
           }
          ],
          "scatter": [
           {
            "marker": {
             "colorbar": {
              "outlinewidth": 0,
              "ticks": ""
             }
            },
            "type": "scatter"
           }
          ],
          "scatter3d": [
           {
            "line": {
             "colorbar": {
              "outlinewidth": 0,
              "ticks": ""
             }
            },
            "marker": {
             "colorbar": {
              "outlinewidth": 0,
              "ticks": ""
             }
            },
            "type": "scatter3d"
           }
          ],
          "scattercarpet": [
           {
            "marker": {
             "colorbar": {
              "outlinewidth": 0,
              "ticks": ""
             }
            },
            "type": "scattercarpet"
           }
          ],
          "scattergeo": [
           {
            "marker": {
             "colorbar": {
              "outlinewidth": 0,
              "ticks": ""
             }
            },
            "type": "scattergeo"
           }
          ],
          "scattergl": [
           {
            "marker": {
             "colorbar": {
              "outlinewidth": 0,
              "ticks": ""
             }
            },
            "type": "scattergl"
           }
          ],
          "scattermapbox": [
           {
            "marker": {
             "colorbar": {
              "outlinewidth": 0,
              "ticks": ""
             }
            },
            "type": "scattermapbox"
           }
          ],
          "scatterpolar": [
           {
            "marker": {
             "colorbar": {
              "outlinewidth": 0,
              "ticks": ""
             }
            },
            "type": "scatterpolar"
           }
          ],
          "scatterpolargl": [
           {
            "marker": {
             "colorbar": {
              "outlinewidth": 0,
              "ticks": ""
             }
            },
            "type": "scatterpolargl"
           }
          ],
          "scatterternary": [
           {
            "marker": {
             "colorbar": {
              "outlinewidth": 0,
              "ticks": ""
             }
            },
            "type": "scatterternary"
           }
          ],
          "surface": [
           {
            "colorbar": {
             "outlinewidth": 0,
             "ticks": ""
            },
            "colorscale": [
             [
              0,
              "#0d0887"
             ],
             [
              0.1111111111111111,
              "#46039f"
             ],
             [
              0.2222222222222222,
              "#7201a8"
             ],
             [
              0.3333333333333333,
              "#9c179e"
             ],
             [
              0.4444444444444444,
              "#bd3786"
             ],
             [
              0.5555555555555556,
              "#d8576b"
             ],
             [
              0.6666666666666666,
              "#ed7953"
             ],
             [
              0.7777777777777778,
              "#fb9f3a"
             ],
             [
              0.8888888888888888,
              "#fdca26"
             ],
             [
              1,
              "#f0f921"
             ]
            ],
            "type": "surface"
           }
          ],
          "table": [
           {
            "cells": {
             "fill": {
              "color": "#EBF0F8"
             },
             "line": {
              "color": "white"
             }
            },
            "header": {
             "fill": {
              "color": "#C8D4E3"
             },
             "line": {
              "color": "white"
             }
            },
            "type": "table"
           }
          ]
         },
         "layout": {
          "annotationdefaults": {
           "arrowcolor": "#2a3f5f",
           "arrowhead": 0,
           "arrowwidth": 1
          },
          "autotypenumbers": "strict",
          "coloraxis": {
           "colorbar": {
            "outlinewidth": 0,
            "ticks": ""
           }
          },
          "colorscale": {
           "diverging": [
            [
             0,
             "#8e0152"
            ],
            [
             0.1,
             "#c51b7d"
            ],
            [
             0.2,
             "#de77ae"
            ],
            [
             0.3,
             "#f1b6da"
            ],
            [
             0.4,
             "#fde0ef"
            ],
            [
             0.5,
             "#f7f7f7"
            ],
            [
             0.6,
             "#e6f5d0"
            ],
            [
             0.7,
             "#b8e186"
            ],
            [
             0.8,
             "#7fbc41"
            ],
            [
             0.9,
             "#4d9221"
            ],
            [
             1,
             "#276419"
            ]
           ],
           "sequential": [
            [
             0,
             "#0d0887"
            ],
            [
             0.1111111111111111,
             "#46039f"
            ],
            [
             0.2222222222222222,
             "#7201a8"
            ],
            [
             0.3333333333333333,
             "#9c179e"
            ],
            [
             0.4444444444444444,
             "#bd3786"
            ],
            [
             0.5555555555555556,
             "#d8576b"
            ],
            [
             0.6666666666666666,
             "#ed7953"
            ],
            [
             0.7777777777777778,
             "#fb9f3a"
            ],
            [
             0.8888888888888888,
             "#fdca26"
            ],
            [
             1,
             "#f0f921"
            ]
           ],
           "sequentialminus": [
            [
             0,
             "#0d0887"
            ],
            [
             0.1111111111111111,
             "#46039f"
            ],
            [
             0.2222222222222222,
             "#7201a8"
            ],
            [
             0.3333333333333333,
             "#9c179e"
            ],
            [
             0.4444444444444444,
             "#bd3786"
            ],
            [
             0.5555555555555556,
             "#d8576b"
            ],
            [
             0.6666666666666666,
             "#ed7953"
            ],
            [
             0.7777777777777778,
             "#fb9f3a"
            ],
            [
             0.8888888888888888,
             "#fdca26"
            ],
            [
             1,
             "#f0f921"
            ]
           ]
          },
          "colorway": [
           "#636efa",
           "#EF553B",
           "#00cc96",
           "#ab63fa",
           "#FFA15A",
           "#19d3f3",
           "#FF6692",
           "#B6E880",
           "#FF97FF",
           "#FECB52"
          ],
          "font": {
           "color": "#2a3f5f"
          },
          "geo": {
           "bgcolor": "white",
           "lakecolor": "white",
           "landcolor": "#E5ECF6",
           "showlakes": true,
           "showland": true,
           "subunitcolor": "white"
          },
          "hoverlabel": {
           "align": "left"
          },
          "hovermode": "closest",
          "mapbox": {
           "style": "light"
          },
          "paper_bgcolor": "white",
          "plot_bgcolor": "#E5ECF6",
          "polar": {
           "angularaxis": {
            "gridcolor": "white",
            "linecolor": "white",
            "ticks": ""
           },
           "bgcolor": "#E5ECF6",
           "radialaxis": {
            "gridcolor": "white",
            "linecolor": "white",
            "ticks": ""
           }
          },
          "scene": {
           "xaxis": {
            "backgroundcolor": "#E5ECF6",
            "gridcolor": "white",
            "gridwidth": 2,
            "linecolor": "white",
            "showbackground": true,
            "ticks": "",
            "zerolinecolor": "white"
           },
           "yaxis": {
            "backgroundcolor": "#E5ECF6",
            "gridcolor": "white",
            "gridwidth": 2,
            "linecolor": "white",
            "showbackground": true,
            "ticks": "",
            "zerolinecolor": "white"
           },
           "zaxis": {
            "backgroundcolor": "#E5ECF6",
            "gridcolor": "white",
            "gridwidth": 2,
            "linecolor": "white",
            "showbackground": true,
            "ticks": "",
            "zerolinecolor": "white"
           }
          },
          "shapedefaults": {
           "line": {
            "color": "#2a3f5f"
           }
          },
          "ternary": {
           "aaxis": {
            "gridcolor": "white",
            "linecolor": "white",
            "ticks": ""
           },
           "baxis": {
            "gridcolor": "white",
            "linecolor": "white",
            "ticks": ""
           },
           "bgcolor": "#E5ECF6",
           "caxis": {
            "gridcolor": "white",
            "linecolor": "white",
            "ticks": ""
           }
          },
          "title": {
           "x": 0.05
          },
          "xaxis": {
           "automargin": true,
           "gridcolor": "white",
           "linecolor": "white",
           "ticks": "",
           "title": {
            "standoff": 15
           },
           "zerolinecolor": "white",
           "zerolinewidth": 2
          },
          "yaxis": {
           "automargin": true,
           "gridcolor": "white",
           "linecolor": "white",
           "ticks": "",
           "title": {
            "standoff": 15
           },
           "zerolinecolor": "white",
           "zerolinewidth": 2
          }
         }
        },
        "title": {
         "text": "April Spending"
        }
       }
      },
      "text/html": [
       "<div>                            <div id=\"4f4e19cf-d77d-4e8d-add2-5bf2afbaeb0f\" class=\"plotly-graph-div\" style=\"height:525px; width:100%;\"></div>            <script type=\"text/javascript\">                require([\"plotly\"], function(Plotly) {                    window.PLOTLYENV=window.PLOTLYENV || {};                                    if (document.getElementById(\"4f4e19cf-d77d-4e8d-add2-5bf2afbaeb0f\")) {                    Plotly.newPlot(                        \"4f4e19cf-d77d-4e8d-add2-5bf2afbaeb0f\",                        [{\"branchvalues\": \"total\", \"customdata\": [[\"$228\", 228.0], [\"$239\", 239.0], [\"$32\", 32.0], [\"$245\", 245.0], [\"$48\", 48.0], [\"$49\", 49.0], [\"$57\", 57.0], [\"$57\", 57.0], [\"$63\", 63.0], [\"$72\", 72.0], [\"$106\", 106.0], [\"$72\", 72.0], [\"$245\", 245.0], [\"$32\", 32.0], [\"$63\", 63.0], [\"$48\", 48.0], [\"$57\", 57.0], [\"$49\", 49.0], [\"$106\", 106.0], [\"$57\", 57.0], [\"$228\", 228.0], [\"$239\", 239.0], [\"(?)\", 189.70055970149258], [\"(?)\", 144.5740780677162]], \"domain\": {\"x\": [0.0, 1.0], \"y\": [0.0, 1.0]}, \"hovertemplate\": \"<b>%{hovertext}</b><br><br>labels=%{label}<br>value=%{value}<br>parent=%{parent}<br>id=%{id}<br>month_sum=%{color}<extra></extra>\", \"hovertext\": [228.0, 239.0, 32.0, 245.0, 48.0, 49.0, 57.0, 57.0, 63.0, 72.0, 106.0, 72.0, 245.0, 32.0, 63.0, 48.0, 57.0, 49.0, 106.0, 57.0, 228.0, 239.0, 189.70055970149258, 144.5740780677162], \"ids\": [\"Essential/utilities/19.08%\", \"Non-Essential/work/19.98%\", \"Non-Essential/fun/2.66%\", \"Essential/food/20.5%\", \"Essential/home/3.97%\", \"Non-Essential/online/4.13%\", \"Essential/medical/4.75%\", \"Non-Essential/restaurants/4.75%\", \"Essential/gas/5.3%\", \"Non-Essential/fast_food/5.99%\", \"Non-Essential/pets/8.86%\", \"Non-Essential/fast_food\", \"Essential/food\", \"Non-Essential/fun\", \"Essential/gas\", \"Essential/home\", \"Essential/medical\", \"Non-Essential/online\", \"Non-Essential/pets\", \"Non-Essential/restaurants\", \"Essential/utilities\", \"Non-Essential/work\", \"Essential\", \"Non-Essential\"], \"labels\": [\"19.08%\", \"19.98%\", \"2.66%\", \"20.5%\", \"3.97%\", \"4.13%\", \"4.75%\", \"4.75%\", \"5.3%\", \"5.99%\", \"8.86%\", \"fast_food\", \"food\", \"fun\", \"gas\", \"home\", \"medical\", \"online\", \"pets\", \"restaurants\", \"utilities\", \"work\", \"Essential\", \"Non-Essential\"], \"marker\": {\"coloraxis\": \"coloraxis\", \"colors\": [228.0, 239.0, 32.0, 245.0, 48.0, 49.0, 57.0, 57.0, 63.0, 72.0, 106.0, 72.0, 245.0, 32.0, 63.0, 48.0, 57.0, 49.0, 106.0, 57.0, 228.0, 239.0, 189.70055970149258, 144.5740780677162]}, \"name\": \"\", \"parents\": [\"Essential/utilities\", \"Non-Essential/work\", \"Non-Essential/fun\", \"Essential/food\", \"Essential/home\", \"Non-Essential/online\", \"Essential/medical\", \"Non-Essential/restaurants\", \"Essential/gas\", \"Non-Essential/fast_food\", \"Non-Essential/pets\", \"Non-Essential\", \"Essential\", \"Non-Essential\", \"Essential\", \"Essential\", \"Essential\", \"Non-Essential\", \"Non-Essential\", \"Non-Essential\", \"Essential\", \"Non-Essential\", \"\", \"\"], \"type\": \"treemap\", \"values\": [19.08, 19.98, 2.66, 20.5, 3.97, 4.13, 4.75, 4.75, 5.3, 5.99, 8.86, 5.99, 20.5, 2.66, 5.3, 3.97, 4.75, 4.13, 8.86, 4.75, 19.08, 19.98, 53.599999999999994, 46.370000000000005]}],                        {\"coloraxis\": {\"cmid\": 168.76913073922174, \"colorbar\": {\"title\": {\"text\": \"month_sum\"}}, \"colorscale\": [[0.0, \"#577590\"], [0.015873015873015872, \"#527692\"], [0.031746031746031744, \"#4C7794\"], [0.047619047619047616, \"#477896\"], [0.06349206349206349, \"#427998\"], [0.07936507936507936, \"#3C7999\"], [0.09523809523809523, \"#377A9B\"], [0.1111111111111111, \"#327B9D\"], [0.12698412698412698, \"#2C7C9F\"], [0.14285714285714285, \"#277DA1\"], [0.15873015873015872, \"#2B7F9F\"], [0.1746031746031746, \"#2F819D\"], [0.19047619047619047, \"#34839B\"], [0.20634920634920634, \"#388599\"], [0.2222222222222222, \"#3C8896\"], [0.23809523809523808, \"#408A94\"], [0.25396825396825395, \"#458C92\"], [0.2698412698412698, \"#498E90\"], [0.2857142857142857, \"#4D908E\"], [0.30158730158730157, \"#4C968D\"], [0.31746031746031744, \"#4B968D\"], [0.3333333333333333, \"#4A998D\"], [0.3492063492063492, \"#499C8D\"], [0.36507936507936506, \"#479E8C\"], [0.38095238095238093, \"#45A48C\"], [0.3968253968253968, \"#44A78B\"], [0.4126984126984127, \"#43AA8B\"], [0.42857142857142855, \"#4CAC88\"], [0.4444444444444444, \"#54AE84\"], [0.4603174603174603, \"#55B082\"], [0.47619047619047616, \"#65B37E\"], [0.49206349206349204, \"#6EB57A\"], [0.5079365079365079, \"#76B777\"], [0.5238095238095238, \"#7FBA74\"], [0.5396825396825397, \"#87BC70\"], [0.5555555555555556, \"#88BC70\"], [0.5714285714285714, \"#90BE6D\"], [0.5873015873015873, \"#9CBF6A\"], [0.6031746031746031, \"#A7C066\"], [0.6190476190476191, \"#B3C163\"], [0.6349206349206349, \"#BFC260\"], [0.6507936507936508, \"#CAC35C\"], [0.6666666666666666, \"#D6C459\"], [0.6825396825396826, \"#E2C556\"], [0.6984126984126984, \"#EDC652\"], [0.7142857142857143, \"#F9C74F\"], [0.7301587301587301, \"#F9C24A\"], [0.746031746031746, \"#F9BC44\"], [0.7619047619047619, \"#F9B73F\"], [0.7777777777777778, \"#F9B139\"], [0.7936507936507936, \"#F8AC34\"], [0.8095238095238095, \"#F8A62E\"], [0.8253968253968254, \"#F8A129\"], [0.8412698412698413, \"#F89B23\"], [0.8571428571428571, \"#F8961E\"], [0.873015873015873, \"#F88D22\"], [0.8888888888888888, \"#F88326\"], [0.9047619047619048, \"#F87A2B\"], [0.9206349206349206, \"#F8702F\"], [0.9365079365079365, \"#F96733\"], [0.9523809523809523, \"#F95D37\"], [0.9682539682539683, \"#F9543C\"], [0.9841269841269841, \"#F94A40\"], [1.0, \"#F94144\"]]}, \"legend\": {\"tracegroupgap\": 0}, \"margin\": {\"b\": 25, \"l\": 25, \"r\": 25, \"t\": 50}, \"template\": {\"data\": {\"bar\": [{\"error_x\": {\"color\": \"#2a3f5f\"}, \"error_y\": {\"color\": \"#2a3f5f\"}, \"marker\": {\"line\": {\"color\": \"#E5ECF6\", \"width\": 0.5}}, \"type\": \"bar\"}], \"barpolar\": [{\"marker\": {\"line\": {\"color\": \"#E5ECF6\", \"width\": 0.5}}, \"type\": \"barpolar\"}], \"carpet\": [{\"aaxis\": {\"endlinecolor\": \"#2a3f5f\", \"gridcolor\": \"white\", \"linecolor\": \"white\", \"minorgridcolor\": \"white\", \"startlinecolor\": \"#2a3f5f\"}, \"baxis\": {\"endlinecolor\": \"#2a3f5f\", \"gridcolor\": \"white\", \"linecolor\": \"white\", \"minorgridcolor\": \"white\", \"startlinecolor\": \"#2a3f5f\"}, \"type\": \"carpet\"}], \"choropleth\": [{\"colorbar\": {\"outlinewidth\": 0, \"ticks\": \"\"}, \"type\": \"choropleth\"}], \"contour\": [{\"colorbar\": {\"outlinewidth\": 0, \"ticks\": \"\"}, \"colorscale\": [[0.0, \"#0d0887\"], [0.1111111111111111, \"#46039f\"], [0.2222222222222222, \"#7201a8\"], [0.3333333333333333, \"#9c179e\"], [0.4444444444444444, \"#bd3786\"], [0.5555555555555556, \"#d8576b\"], [0.6666666666666666, \"#ed7953\"], [0.7777777777777778, \"#fb9f3a\"], [0.8888888888888888, \"#fdca26\"], [1.0, \"#f0f921\"]], \"type\": \"contour\"}], \"contourcarpet\": [{\"colorbar\": {\"outlinewidth\": 0, \"ticks\": \"\"}, \"type\": \"contourcarpet\"}], \"heatmap\": [{\"colorbar\": {\"outlinewidth\": 0, \"ticks\": \"\"}, \"colorscale\": [[0.0, \"#0d0887\"], [0.1111111111111111, \"#46039f\"], [0.2222222222222222, \"#7201a8\"], [0.3333333333333333, \"#9c179e\"], [0.4444444444444444, \"#bd3786\"], [0.5555555555555556, \"#d8576b\"], [0.6666666666666666, \"#ed7953\"], [0.7777777777777778, \"#fb9f3a\"], [0.8888888888888888, \"#fdca26\"], [1.0, \"#f0f921\"]], \"type\": \"heatmap\"}], \"heatmapgl\": [{\"colorbar\": {\"outlinewidth\": 0, \"ticks\": \"\"}, \"colorscale\": [[0.0, \"#0d0887\"], [0.1111111111111111, \"#46039f\"], [0.2222222222222222, \"#7201a8\"], [0.3333333333333333, \"#9c179e\"], [0.4444444444444444, \"#bd3786\"], [0.5555555555555556, \"#d8576b\"], [0.6666666666666666, \"#ed7953\"], [0.7777777777777778, \"#fb9f3a\"], [0.8888888888888888, \"#fdca26\"], [1.0, \"#f0f921\"]], \"type\": \"heatmapgl\"}], \"histogram\": [{\"marker\": {\"colorbar\": {\"outlinewidth\": 0, \"ticks\": \"\"}}, \"type\": \"histogram\"}], \"histogram2d\": [{\"colorbar\": {\"outlinewidth\": 0, \"ticks\": \"\"}, \"colorscale\": [[0.0, \"#0d0887\"], [0.1111111111111111, \"#46039f\"], [0.2222222222222222, \"#7201a8\"], [0.3333333333333333, \"#9c179e\"], [0.4444444444444444, \"#bd3786\"], [0.5555555555555556, \"#d8576b\"], [0.6666666666666666, \"#ed7953\"], [0.7777777777777778, \"#fb9f3a\"], [0.8888888888888888, \"#fdca26\"], [1.0, \"#f0f921\"]], \"type\": \"histogram2d\"}], \"histogram2dcontour\": [{\"colorbar\": {\"outlinewidth\": 0, \"ticks\": \"\"}, \"colorscale\": [[0.0, \"#0d0887\"], [0.1111111111111111, \"#46039f\"], [0.2222222222222222, \"#7201a8\"], [0.3333333333333333, \"#9c179e\"], [0.4444444444444444, \"#bd3786\"], [0.5555555555555556, \"#d8576b\"], [0.6666666666666666, \"#ed7953\"], [0.7777777777777778, \"#fb9f3a\"], [0.8888888888888888, \"#fdca26\"], [1.0, \"#f0f921\"]], \"type\": \"histogram2dcontour\"}], \"mesh3d\": [{\"colorbar\": {\"outlinewidth\": 0, \"ticks\": \"\"}, \"type\": \"mesh3d\"}], \"parcoords\": [{\"line\": {\"colorbar\": {\"outlinewidth\": 0, \"ticks\": \"\"}}, \"type\": \"parcoords\"}], \"pie\": [{\"automargin\": true, \"type\": \"pie\"}], \"scatter\": [{\"marker\": {\"colorbar\": {\"outlinewidth\": 0, \"ticks\": \"\"}}, \"type\": \"scatter\"}], \"scatter3d\": [{\"line\": {\"colorbar\": {\"outlinewidth\": 0, \"ticks\": \"\"}}, \"marker\": {\"colorbar\": {\"outlinewidth\": 0, \"ticks\": \"\"}}, \"type\": \"scatter3d\"}], \"scattercarpet\": [{\"marker\": {\"colorbar\": {\"outlinewidth\": 0, \"ticks\": \"\"}}, \"type\": \"scattercarpet\"}], \"scattergeo\": [{\"marker\": {\"colorbar\": {\"outlinewidth\": 0, \"ticks\": \"\"}}, \"type\": \"scattergeo\"}], \"scattergl\": [{\"marker\": {\"colorbar\": {\"outlinewidth\": 0, \"ticks\": \"\"}}, \"type\": \"scattergl\"}], \"scattermapbox\": [{\"marker\": {\"colorbar\": {\"outlinewidth\": 0, \"ticks\": \"\"}}, \"type\": \"scattermapbox\"}], \"scatterpolar\": [{\"marker\": {\"colorbar\": {\"outlinewidth\": 0, \"ticks\": \"\"}}, \"type\": \"scatterpolar\"}], \"scatterpolargl\": [{\"marker\": {\"colorbar\": {\"outlinewidth\": 0, \"ticks\": \"\"}}, \"type\": \"scatterpolargl\"}], \"scatterternary\": [{\"marker\": {\"colorbar\": {\"outlinewidth\": 0, \"ticks\": \"\"}}, \"type\": \"scatterternary\"}], \"surface\": [{\"colorbar\": {\"outlinewidth\": 0, \"ticks\": \"\"}, \"colorscale\": [[0.0, \"#0d0887\"], [0.1111111111111111, \"#46039f\"], [0.2222222222222222, \"#7201a8\"], [0.3333333333333333, \"#9c179e\"], [0.4444444444444444, \"#bd3786\"], [0.5555555555555556, \"#d8576b\"], [0.6666666666666666, \"#ed7953\"], [0.7777777777777778, \"#fb9f3a\"], [0.8888888888888888, \"#fdca26\"], [1.0, \"#f0f921\"]], \"type\": \"surface\"}], \"table\": [{\"cells\": {\"fill\": {\"color\": \"#EBF0F8\"}, \"line\": {\"color\": \"white\"}}, \"header\": {\"fill\": {\"color\": \"#C8D4E3\"}, \"line\": {\"color\": \"white\"}}, \"type\": \"table\"}]}, \"layout\": {\"annotationdefaults\": {\"arrowcolor\": \"#2a3f5f\", \"arrowhead\": 0, \"arrowwidth\": 1}, \"autotypenumbers\": \"strict\", \"coloraxis\": {\"colorbar\": {\"outlinewidth\": 0, \"ticks\": \"\"}}, \"colorscale\": {\"diverging\": [[0, \"#8e0152\"], [0.1, \"#c51b7d\"], [0.2, \"#de77ae\"], [0.3, \"#f1b6da\"], [0.4, \"#fde0ef\"], [0.5, \"#f7f7f7\"], [0.6, \"#e6f5d0\"], [0.7, \"#b8e186\"], [0.8, \"#7fbc41\"], [0.9, \"#4d9221\"], [1, \"#276419\"]], \"sequential\": [[0.0, \"#0d0887\"], [0.1111111111111111, \"#46039f\"], [0.2222222222222222, \"#7201a8\"], [0.3333333333333333, \"#9c179e\"], [0.4444444444444444, \"#bd3786\"], [0.5555555555555556, \"#d8576b\"], [0.6666666666666666, \"#ed7953\"], [0.7777777777777778, \"#fb9f3a\"], [0.8888888888888888, \"#fdca26\"], [1.0, \"#f0f921\"]], \"sequentialminus\": [[0.0, \"#0d0887\"], [0.1111111111111111, \"#46039f\"], [0.2222222222222222, \"#7201a8\"], [0.3333333333333333, \"#9c179e\"], [0.4444444444444444, \"#bd3786\"], [0.5555555555555556, \"#d8576b\"], [0.6666666666666666, \"#ed7953\"], [0.7777777777777778, \"#fb9f3a\"], [0.8888888888888888, \"#fdca26\"], [1.0, \"#f0f921\"]]}, \"colorway\": [\"#636efa\", \"#EF553B\", \"#00cc96\", \"#ab63fa\", \"#FFA15A\", \"#19d3f3\", \"#FF6692\", \"#B6E880\", \"#FF97FF\", \"#FECB52\"], \"font\": {\"color\": \"#2a3f5f\"}, \"geo\": {\"bgcolor\": \"white\", \"lakecolor\": \"white\", \"landcolor\": \"#E5ECF6\", \"showlakes\": true, \"showland\": true, \"subunitcolor\": \"white\"}, \"hoverlabel\": {\"align\": \"left\"}, \"hovermode\": \"closest\", \"mapbox\": {\"style\": \"light\"}, \"paper_bgcolor\": \"white\", \"plot_bgcolor\": \"#E5ECF6\", \"polar\": {\"angularaxis\": {\"gridcolor\": \"white\", \"linecolor\": \"white\", \"ticks\": \"\"}, \"bgcolor\": \"#E5ECF6\", \"radialaxis\": {\"gridcolor\": \"white\", \"linecolor\": \"white\", \"ticks\": \"\"}}, \"scene\": {\"xaxis\": {\"backgroundcolor\": \"#E5ECF6\", \"gridcolor\": \"white\", \"gridwidth\": 2, \"linecolor\": \"white\", \"showbackground\": true, \"ticks\": \"\", \"zerolinecolor\": \"white\"}, \"yaxis\": {\"backgroundcolor\": \"#E5ECF6\", \"gridcolor\": \"white\", \"gridwidth\": 2, \"linecolor\": \"white\", \"showbackground\": true, \"ticks\": \"\", \"zerolinecolor\": \"white\"}, \"zaxis\": {\"backgroundcolor\": \"#E5ECF6\", \"gridcolor\": \"white\", \"gridwidth\": 2, \"linecolor\": \"white\", \"showbackground\": true, \"ticks\": \"\", \"zerolinecolor\": \"white\"}}, \"shapedefaults\": {\"line\": {\"color\": \"#2a3f5f\"}}, \"ternary\": {\"aaxis\": {\"gridcolor\": \"white\", \"linecolor\": \"white\", \"ticks\": \"\"}, \"baxis\": {\"gridcolor\": \"white\", \"linecolor\": \"white\", \"ticks\": \"\"}, \"bgcolor\": \"#E5ECF6\", \"caxis\": {\"gridcolor\": \"white\", \"linecolor\": \"white\", \"ticks\": \"\"}}, \"title\": {\"x\": 0.05}, \"xaxis\": {\"automargin\": true, \"gridcolor\": \"white\", \"linecolor\": \"white\", \"ticks\": \"\", \"title\": {\"standoff\": 15}, \"zerolinecolor\": \"white\", \"zerolinewidth\": 2}, \"yaxis\": {\"automargin\": true, \"gridcolor\": \"white\", \"linecolor\": \"white\", \"ticks\": \"\", \"title\": {\"standoff\": 15}, \"zerolinecolor\": \"white\", \"zerolinewidth\": 2}}}, \"title\": {\"text\": \"April Spending\"}},                        {\"responsive\": true}                    ).then(function(){\n",
       "                            \n",
       "var gd = document.getElementById('4f4e19cf-d77d-4e8d-add2-5bf2afbaeb0f');\n",
       "var x = new MutationObserver(function (mutations, observer) {{\n",
       "        var display = window.getComputedStyle(gd).display;\n",
       "        if (!display || display === 'none') {{\n",
       "            console.log([gd, 'removed!']);\n",
       "            Plotly.purge(gd);\n",
       "            observer.disconnect();\n",
       "        }}\n",
       "}});\n",
       "\n",
       "// Listen for the removal of the full notebook cells\n",
       "var notebookContainer = gd.closest('#notebook-container');\n",
       "if (notebookContainer) {{\n",
       "    x.observe(notebookContainer, {childList: true});\n",
       "}}\n",
       "\n",
       "// Listen for the clearing of the current output cell\n",
       "var outputEl = gd.closest('.output');\n",
       "if (outputEl) {{\n",
       "    x.observe(outputEl, {childList: true});\n",
       "}}\n",
       "\n",
       "                        })                };                });            </script>        </div>"
      ]
     },
     "metadata": {},
     "output_type": "display_data"
    },
    {
     "data": {
      "application/vnd.plotly.v1+json": {
       "config": {
        "plotlyServerURL": "https://plot.ly"
       },
       "data": [
        {
         "branchvalues": "total",
         "customdata": [
          [
           "$7",
           7
          ],
          [
           "$136",
           136
          ],
          [
           "$136",
           136
          ],
          [
           "$7",
           7
          ],
          [
           "$7",
           7
          ],
          [
           "$136",
           136
          ]
         ],
         "domain": {
          "x": [
           0,
           1
          ],
          "y": [
           0,
           1
          ]
         },
         "hovertemplate": "<b>%{hovertext}</b><br><br>labels=%{label}<br>value=%{value}<br>parent=%{parent}<br>id=%{id}<br>month_sum=%{color}<extra></extra>",
         "hovertext": [
          7,
          136,
          136,
          7,
          7,
          136
         ],
         "ids": [
          "Essential/medical/5.17%",
          "Non-Essential/fast_food/95.1%",
          "Non-Essential/fast_food",
          "Essential/medical",
          "Essential",
          "Non-Essential"
         ],
         "labels": [
          "5.17%",
          "95.1%",
          "fast_food",
          "medical",
          "Essential",
          "Non-Essential"
         ],
         "marker": {
          "coloraxis": "coloraxis",
          "colors": [
           7,
           136,
           136,
           7,
           7,
           136
          ]
         },
         "name": "",
         "parents": [
          "Essential/medical",
          "Non-Essential/fast_food",
          "Non-Essential",
          "Essential",
          "",
          ""
         ],
         "type": "treemap",
         "values": [
          5.17,
          95.1,
          95.1,
          5.17,
          5.17,
          95.1
         ]
        }
       ],
       "layout": {
        "coloraxis": {
         "cmid": 129.34865862172134,
         "colorbar": {
          "title": {
           "text": "month_sum"
          }
         },
         "colorscale": [
          [
           0,
           "#577590"
          ],
          [
           0.015873015873015872,
           "#527692"
          ],
          [
           0.031746031746031744,
           "#4C7794"
          ],
          [
           0.047619047619047616,
           "#477896"
          ],
          [
           0.06349206349206349,
           "#427998"
          ],
          [
           0.07936507936507936,
           "#3C7999"
          ],
          [
           0.09523809523809523,
           "#377A9B"
          ],
          [
           0.1111111111111111,
           "#327B9D"
          ],
          [
           0.12698412698412698,
           "#2C7C9F"
          ],
          [
           0.14285714285714285,
           "#277DA1"
          ],
          [
           0.15873015873015872,
           "#2B7F9F"
          ],
          [
           0.1746031746031746,
           "#2F819D"
          ],
          [
           0.19047619047619047,
           "#34839B"
          ],
          [
           0.20634920634920634,
           "#388599"
          ],
          [
           0.2222222222222222,
           "#3C8896"
          ],
          [
           0.23809523809523808,
           "#408A94"
          ],
          [
           0.25396825396825395,
           "#458C92"
          ],
          [
           0.2698412698412698,
           "#498E90"
          ],
          [
           0.2857142857142857,
           "#4D908E"
          ],
          [
           0.30158730158730157,
           "#4C968D"
          ],
          [
           0.31746031746031744,
           "#4B968D"
          ],
          [
           0.3333333333333333,
           "#4A998D"
          ],
          [
           0.3492063492063492,
           "#499C8D"
          ],
          [
           0.36507936507936506,
           "#479E8C"
          ],
          [
           0.38095238095238093,
           "#45A48C"
          ],
          [
           0.3968253968253968,
           "#44A78B"
          ],
          [
           0.4126984126984127,
           "#43AA8B"
          ],
          [
           0.42857142857142855,
           "#4CAC88"
          ],
          [
           0.4444444444444444,
           "#54AE84"
          ],
          [
           0.4603174603174603,
           "#55B082"
          ],
          [
           0.47619047619047616,
           "#65B37E"
          ],
          [
           0.49206349206349204,
           "#6EB57A"
          ],
          [
           0.5079365079365079,
           "#76B777"
          ],
          [
           0.5238095238095238,
           "#7FBA74"
          ],
          [
           0.5396825396825397,
           "#87BC70"
          ],
          [
           0.5555555555555556,
           "#88BC70"
          ],
          [
           0.5714285714285714,
           "#90BE6D"
          ],
          [
           0.5873015873015873,
           "#9CBF6A"
          ],
          [
           0.6031746031746031,
           "#A7C066"
          ],
          [
           0.6190476190476191,
           "#B3C163"
          ],
          [
           0.6349206349206349,
           "#BFC260"
          ],
          [
           0.6507936507936508,
           "#CAC35C"
          ],
          [
           0.6666666666666666,
           "#D6C459"
          ],
          [
           0.6825396825396826,
           "#E2C556"
          ],
          [
           0.6984126984126984,
           "#EDC652"
          ],
          [
           0.7142857142857143,
           "#F9C74F"
          ],
          [
           0.7301587301587301,
           "#F9C24A"
          ],
          [
           0.746031746031746,
           "#F9BC44"
          ],
          [
           0.7619047619047619,
           "#F9B73F"
          ],
          [
           0.7777777777777778,
           "#F9B139"
          ],
          [
           0.7936507936507936,
           "#F8AC34"
          ],
          [
           0.8095238095238095,
           "#F8A62E"
          ],
          [
           0.8253968253968254,
           "#F8A129"
          ],
          [
           0.8412698412698413,
           "#F89B23"
          ],
          [
           0.8571428571428571,
           "#F8961E"
          ],
          [
           0.873015873015873,
           "#F88D22"
          ],
          [
           0.8888888888888888,
           "#F88326"
          ],
          [
           0.9047619047619048,
           "#F87A2B"
          ],
          [
           0.9206349206349206,
           "#F8702F"
          ],
          [
           0.9365079365079365,
           "#F96733"
          ],
          [
           0.9523809523809523,
           "#F95D37"
          ],
          [
           0.9682539682539683,
           "#F9543C"
          ],
          [
           0.9841269841269841,
           "#F94A40"
          ],
          [
           1,
           "#F94144"
          ]
         ]
        },
        "legend": {
         "tracegroupgap": 0
        },
        "margin": {
         "b": 25,
         "l": 25,
         "r": 25,
         "t": 50
        },
        "template": {
         "data": {
          "bar": [
           {
            "error_x": {
             "color": "#2a3f5f"
            },
            "error_y": {
             "color": "#2a3f5f"
            },
            "marker": {
             "line": {
              "color": "#E5ECF6",
              "width": 0.5
             }
            },
            "type": "bar"
           }
          ],
          "barpolar": [
           {
            "marker": {
             "line": {
              "color": "#E5ECF6",
              "width": 0.5
             }
            },
            "type": "barpolar"
           }
          ],
          "carpet": [
           {
            "aaxis": {
             "endlinecolor": "#2a3f5f",
             "gridcolor": "white",
             "linecolor": "white",
             "minorgridcolor": "white",
             "startlinecolor": "#2a3f5f"
            },
            "baxis": {
             "endlinecolor": "#2a3f5f",
             "gridcolor": "white",
             "linecolor": "white",
             "minorgridcolor": "white",
             "startlinecolor": "#2a3f5f"
            },
            "type": "carpet"
           }
          ],
          "choropleth": [
           {
            "colorbar": {
             "outlinewidth": 0,
             "ticks": ""
            },
            "type": "choropleth"
           }
          ],
          "contour": [
           {
            "colorbar": {
             "outlinewidth": 0,
             "ticks": ""
            },
            "colorscale": [
             [
              0,
              "#0d0887"
             ],
             [
              0.1111111111111111,
              "#46039f"
             ],
             [
              0.2222222222222222,
              "#7201a8"
             ],
             [
              0.3333333333333333,
              "#9c179e"
             ],
             [
              0.4444444444444444,
              "#bd3786"
             ],
             [
              0.5555555555555556,
              "#d8576b"
             ],
             [
              0.6666666666666666,
              "#ed7953"
             ],
             [
              0.7777777777777778,
              "#fb9f3a"
             ],
             [
              0.8888888888888888,
              "#fdca26"
             ],
             [
              1,
              "#f0f921"
             ]
            ],
            "type": "contour"
           }
          ],
          "contourcarpet": [
           {
            "colorbar": {
             "outlinewidth": 0,
             "ticks": ""
            },
            "type": "contourcarpet"
           }
          ],
          "heatmap": [
           {
            "colorbar": {
             "outlinewidth": 0,
             "ticks": ""
            },
            "colorscale": [
             [
              0,
              "#0d0887"
             ],
             [
              0.1111111111111111,
              "#46039f"
             ],
             [
              0.2222222222222222,
              "#7201a8"
             ],
             [
              0.3333333333333333,
              "#9c179e"
             ],
             [
              0.4444444444444444,
              "#bd3786"
             ],
             [
              0.5555555555555556,
              "#d8576b"
             ],
             [
              0.6666666666666666,
              "#ed7953"
             ],
             [
              0.7777777777777778,
              "#fb9f3a"
             ],
             [
              0.8888888888888888,
              "#fdca26"
             ],
             [
              1,
              "#f0f921"
             ]
            ],
            "type": "heatmap"
           }
          ],
          "heatmapgl": [
           {
            "colorbar": {
             "outlinewidth": 0,
             "ticks": ""
            },
            "colorscale": [
             [
              0,
              "#0d0887"
             ],
             [
              0.1111111111111111,
              "#46039f"
             ],
             [
              0.2222222222222222,
              "#7201a8"
             ],
             [
              0.3333333333333333,
              "#9c179e"
             ],
             [
              0.4444444444444444,
              "#bd3786"
             ],
             [
              0.5555555555555556,
              "#d8576b"
             ],
             [
              0.6666666666666666,
              "#ed7953"
             ],
             [
              0.7777777777777778,
              "#fb9f3a"
             ],
             [
              0.8888888888888888,
              "#fdca26"
             ],
             [
              1,
              "#f0f921"
             ]
            ],
            "type": "heatmapgl"
           }
          ],
          "histogram": [
           {
            "marker": {
             "colorbar": {
              "outlinewidth": 0,
              "ticks": ""
             }
            },
            "type": "histogram"
           }
          ],
          "histogram2d": [
           {
            "colorbar": {
             "outlinewidth": 0,
             "ticks": ""
            },
            "colorscale": [
             [
              0,
              "#0d0887"
             ],
             [
              0.1111111111111111,
              "#46039f"
             ],
             [
              0.2222222222222222,
              "#7201a8"
             ],
             [
              0.3333333333333333,
              "#9c179e"
             ],
             [
              0.4444444444444444,
              "#bd3786"
             ],
             [
              0.5555555555555556,
              "#d8576b"
             ],
             [
              0.6666666666666666,
              "#ed7953"
             ],
             [
              0.7777777777777778,
              "#fb9f3a"
             ],
             [
              0.8888888888888888,
              "#fdca26"
             ],
             [
              1,
              "#f0f921"
             ]
            ],
            "type": "histogram2d"
           }
          ],
          "histogram2dcontour": [
           {
            "colorbar": {
             "outlinewidth": 0,
             "ticks": ""
            },
            "colorscale": [
             [
              0,
              "#0d0887"
             ],
             [
              0.1111111111111111,
              "#46039f"
             ],
             [
              0.2222222222222222,
              "#7201a8"
             ],
             [
              0.3333333333333333,
              "#9c179e"
             ],
             [
              0.4444444444444444,
              "#bd3786"
             ],
             [
              0.5555555555555556,
              "#d8576b"
             ],
             [
              0.6666666666666666,
              "#ed7953"
             ],
             [
              0.7777777777777778,
              "#fb9f3a"
             ],
             [
              0.8888888888888888,
              "#fdca26"
             ],
             [
              1,
              "#f0f921"
             ]
            ],
            "type": "histogram2dcontour"
           }
          ],
          "mesh3d": [
           {
            "colorbar": {
             "outlinewidth": 0,
             "ticks": ""
            },
            "type": "mesh3d"
           }
          ],
          "parcoords": [
           {
            "line": {
             "colorbar": {
              "outlinewidth": 0,
              "ticks": ""
             }
            },
            "type": "parcoords"
           }
          ],
          "pie": [
           {
            "automargin": true,
            "type": "pie"
           }
          ],
          "scatter": [
           {
            "marker": {
             "colorbar": {
              "outlinewidth": 0,
              "ticks": ""
             }
            },
            "type": "scatter"
           }
          ],
          "scatter3d": [
           {
            "line": {
             "colorbar": {
              "outlinewidth": 0,
              "ticks": ""
             }
            },
            "marker": {
             "colorbar": {
              "outlinewidth": 0,
              "ticks": ""
             }
            },
            "type": "scatter3d"
           }
          ],
          "scattercarpet": [
           {
            "marker": {
             "colorbar": {
              "outlinewidth": 0,
              "ticks": ""
             }
            },
            "type": "scattercarpet"
           }
          ],
          "scattergeo": [
           {
            "marker": {
             "colorbar": {
              "outlinewidth": 0,
              "ticks": ""
             }
            },
            "type": "scattergeo"
           }
          ],
          "scattergl": [
           {
            "marker": {
             "colorbar": {
              "outlinewidth": 0,
              "ticks": ""
             }
            },
            "type": "scattergl"
           }
          ],
          "scattermapbox": [
           {
            "marker": {
             "colorbar": {
              "outlinewidth": 0,
              "ticks": ""
             }
            },
            "type": "scattermapbox"
           }
          ],
          "scatterpolar": [
           {
            "marker": {
             "colorbar": {
              "outlinewidth": 0,
              "ticks": ""
             }
            },
            "type": "scatterpolar"
           }
          ],
          "scatterpolargl": [
           {
            "marker": {
             "colorbar": {
              "outlinewidth": 0,
              "ticks": ""
             }
            },
            "type": "scatterpolargl"
           }
          ],
          "scatterternary": [
           {
            "marker": {
             "colorbar": {
              "outlinewidth": 0,
              "ticks": ""
             }
            },
            "type": "scatterternary"
           }
          ],
          "surface": [
           {
            "colorbar": {
             "outlinewidth": 0,
             "ticks": ""
            },
            "colorscale": [
             [
              0,
              "#0d0887"
             ],
             [
              0.1111111111111111,
              "#46039f"
             ],
             [
              0.2222222222222222,
              "#7201a8"
             ],
             [
              0.3333333333333333,
              "#9c179e"
             ],
             [
              0.4444444444444444,
              "#bd3786"
             ],
             [
              0.5555555555555556,
              "#d8576b"
             ],
             [
              0.6666666666666666,
              "#ed7953"
             ],
             [
              0.7777777777777778,
              "#fb9f3a"
             ],
             [
              0.8888888888888888,
              "#fdca26"
             ],
             [
              1,
              "#f0f921"
             ]
            ],
            "type": "surface"
           }
          ],
          "table": [
           {
            "cells": {
             "fill": {
              "color": "#EBF0F8"
             },
             "line": {
              "color": "white"
             }
            },
            "header": {
             "fill": {
              "color": "#C8D4E3"
             },
             "line": {
              "color": "white"
             }
            },
            "type": "table"
           }
          ]
         },
         "layout": {
          "annotationdefaults": {
           "arrowcolor": "#2a3f5f",
           "arrowhead": 0,
           "arrowwidth": 1
          },
          "autotypenumbers": "strict",
          "coloraxis": {
           "colorbar": {
            "outlinewidth": 0,
            "ticks": ""
           }
          },
          "colorscale": {
           "diverging": [
            [
             0,
             "#8e0152"
            ],
            [
             0.1,
             "#c51b7d"
            ],
            [
             0.2,
             "#de77ae"
            ],
            [
             0.3,
             "#f1b6da"
            ],
            [
             0.4,
             "#fde0ef"
            ],
            [
             0.5,
             "#f7f7f7"
            ],
            [
             0.6,
             "#e6f5d0"
            ],
            [
             0.7,
             "#b8e186"
            ],
            [
             0.8,
             "#7fbc41"
            ],
            [
             0.9,
             "#4d9221"
            ],
            [
             1,
             "#276419"
            ]
           ],
           "sequential": [
            [
             0,
             "#0d0887"
            ],
            [
             0.1111111111111111,
             "#46039f"
            ],
            [
             0.2222222222222222,
             "#7201a8"
            ],
            [
             0.3333333333333333,
             "#9c179e"
            ],
            [
             0.4444444444444444,
             "#bd3786"
            ],
            [
             0.5555555555555556,
             "#d8576b"
            ],
            [
             0.6666666666666666,
             "#ed7953"
            ],
            [
             0.7777777777777778,
             "#fb9f3a"
            ],
            [
             0.8888888888888888,
             "#fdca26"
            ],
            [
             1,
             "#f0f921"
            ]
           ],
           "sequentialminus": [
            [
             0,
             "#0d0887"
            ],
            [
             0.1111111111111111,
             "#46039f"
            ],
            [
             0.2222222222222222,
             "#7201a8"
            ],
            [
             0.3333333333333333,
             "#9c179e"
            ],
            [
             0.4444444444444444,
             "#bd3786"
            ],
            [
             0.5555555555555556,
             "#d8576b"
            ],
            [
             0.6666666666666666,
             "#ed7953"
            ],
            [
             0.7777777777777778,
             "#fb9f3a"
            ],
            [
             0.8888888888888888,
             "#fdca26"
            ],
            [
             1,
             "#f0f921"
            ]
           ]
          },
          "colorway": [
           "#636efa",
           "#EF553B",
           "#00cc96",
           "#ab63fa",
           "#FFA15A",
           "#19d3f3",
           "#FF6692",
           "#B6E880",
           "#FF97FF",
           "#FECB52"
          ],
          "font": {
           "color": "#2a3f5f"
          },
          "geo": {
           "bgcolor": "white",
           "lakecolor": "white",
           "landcolor": "#E5ECF6",
           "showlakes": true,
           "showland": true,
           "subunitcolor": "white"
          },
          "hoverlabel": {
           "align": "left"
          },
          "hovermode": "closest",
          "mapbox": {
           "style": "light"
          },
          "paper_bgcolor": "white",
          "plot_bgcolor": "#E5ECF6",
          "polar": {
           "angularaxis": {
            "gridcolor": "white",
            "linecolor": "white",
            "ticks": ""
           },
           "bgcolor": "#E5ECF6",
           "radialaxis": {
            "gridcolor": "white",
            "linecolor": "white",
            "ticks": ""
           }
          },
          "scene": {
           "xaxis": {
            "backgroundcolor": "#E5ECF6",
            "gridcolor": "white",
            "gridwidth": 2,
            "linecolor": "white",
            "showbackground": true,
            "ticks": "",
            "zerolinecolor": "white"
           },
           "yaxis": {
            "backgroundcolor": "#E5ECF6",
            "gridcolor": "white",
            "gridwidth": 2,
            "linecolor": "white",
            "showbackground": true,
            "ticks": "",
            "zerolinecolor": "white"
           },
           "zaxis": {
            "backgroundcolor": "#E5ECF6",
            "gridcolor": "white",
            "gridwidth": 2,
            "linecolor": "white",
            "showbackground": true,
            "ticks": "",
            "zerolinecolor": "white"
           }
          },
          "shapedefaults": {
           "line": {
            "color": "#2a3f5f"
           }
          },
          "ternary": {
           "aaxis": {
            "gridcolor": "white",
            "linecolor": "white",
            "ticks": ""
           },
           "baxis": {
            "gridcolor": "white",
            "linecolor": "white",
            "ticks": ""
           },
           "bgcolor": "#E5ECF6",
           "caxis": {
            "gridcolor": "white",
            "linecolor": "white",
            "ticks": ""
           }
          },
          "title": {
           "x": 0.05
          },
          "xaxis": {
           "automargin": true,
           "gridcolor": "white",
           "linecolor": "white",
           "ticks": "",
           "title": {
            "standoff": 15
           },
           "zerolinecolor": "white",
           "zerolinewidth": 2
          },
          "yaxis": {
           "automargin": true,
           "gridcolor": "white",
           "linecolor": "white",
           "ticks": "",
           "title": {
            "standoff": 15
           },
           "zerolinecolor": "white",
           "zerolinewidth": 2
          }
         }
        },
        "title": {
         "text": "May Spending"
        }
       }
      },
      "text/html": [
       "<div>                            <div id=\"1fe1d92f-5eb3-4d17-955c-29e8fa752358\" class=\"plotly-graph-div\" style=\"height:525px; width:100%;\"></div>            <script type=\"text/javascript\">                require([\"plotly\"], function(Plotly) {                    window.PLOTLYENV=window.PLOTLYENV || {};                                    if (document.getElementById(\"1fe1d92f-5eb3-4d17-955c-29e8fa752358\")) {                    Plotly.newPlot(                        \"1fe1d92f-5eb3-4d17-955c-29e8fa752358\",                        [{\"branchvalues\": \"total\", \"customdata\": [[\"$7\", 7], [\"$136\", 136], [\"$136\", 136], [\"$7\", 7], [\"$7\", 7], [\"$136\", 136]], \"domain\": {\"x\": [0.0, 1.0], \"y\": [0.0, 1.0]}, \"hovertemplate\": \"<b>%{hovertext}</b><br><br>labels=%{label}<br>value=%{value}<br>parent=%{parent}<br>id=%{id}<br>month_sum=%{color}<extra></extra>\", \"hovertext\": [7.0, 136.0, 136.0, 7.0, 7.0, 136.0], \"ids\": [\"Essential/medical/5.17%\", \"Non-Essential/fast_food/95.1%\", \"Non-Essential/fast_food\", \"Essential/medical\", \"Essential\", \"Non-Essential\"], \"labels\": [\"5.17%\", \"95.1%\", \"fast_food\", \"medical\", \"Essential\", \"Non-Essential\"], \"marker\": {\"coloraxis\": \"coloraxis\", \"colors\": [7, 136, 136, 7, 7, 136]}, \"name\": \"\", \"parents\": [\"Essential/medical\", \"Non-Essential/fast_food\", \"Non-Essential\", \"Essential\", \"\", \"\"], \"type\": \"treemap\", \"values\": [5.17, 95.1, 95.1, 5.17, 5.17, 95.1]}],                        {\"coloraxis\": {\"cmid\": 129.34865862172134, \"colorbar\": {\"title\": {\"text\": \"month_sum\"}}, \"colorscale\": [[0.0, \"#577590\"], [0.015873015873015872, \"#527692\"], [0.031746031746031744, \"#4C7794\"], [0.047619047619047616, \"#477896\"], [0.06349206349206349, \"#427998\"], [0.07936507936507936, \"#3C7999\"], [0.09523809523809523, \"#377A9B\"], [0.1111111111111111, \"#327B9D\"], [0.12698412698412698, \"#2C7C9F\"], [0.14285714285714285, \"#277DA1\"], [0.15873015873015872, \"#2B7F9F\"], [0.1746031746031746, \"#2F819D\"], [0.19047619047619047, \"#34839B\"], [0.20634920634920634, \"#388599\"], [0.2222222222222222, \"#3C8896\"], [0.23809523809523808, \"#408A94\"], [0.25396825396825395, \"#458C92\"], [0.2698412698412698, \"#498E90\"], [0.2857142857142857, \"#4D908E\"], [0.30158730158730157, \"#4C968D\"], [0.31746031746031744, \"#4B968D\"], [0.3333333333333333, \"#4A998D\"], [0.3492063492063492, \"#499C8D\"], [0.36507936507936506, \"#479E8C\"], [0.38095238095238093, \"#45A48C\"], [0.3968253968253968, \"#44A78B\"], [0.4126984126984127, \"#43AA8B\"], [0.42857142857142855, \"#4CAC88\"], [0.4444444444444444, \"#54AE84\"], [0.4603174603174603, \"#55B082\"], [0.47619047619047616, \"#65B37E\"], [0.49206349206349204, \"#6EB57A\"], [0.5079365079365079, \"#76B777\"], [0.5238095238095238, \"#7FBA74\"], [0.5396825396825397, \"#87BC70\"], [0.5555555555555556, \"#88BC70\"], [0.5714285714285714, \"#90BE6D\"], [0.5873015873015873, \"#9CBF6A\"], [0.6031746031746031, \"#A7C066\"], [0.6190476190476191, \"#B3C163\"], [0.6349206349206349, \"#BFC260\"], [0.6507936507936508, \"#CAC35C\"], [0.6666666666666666, \"#D6C459\"], [0.6825396825396826, \"#E2C556\"], [0.6984126984126984, \"#EDC652\"], [0.7142857142857143, \"#F9C74F\"], [0.7301587301587301, \"#F9C24A\"], [0.746031746031746, \"#F9BC44\"], [0.7619047619047619, \"#F9B73F\"], [0.7777777777777778, \"#F9B139\"], [0.7936507936507936, \"#F8AC34\"], [0.8095238095238095, \"#F8A62E\"], [0.8253968253968254, \"#F8A129\"], [0.8412698412698413, \"#F89B23\"], [0.8571428571428571, \"#F8961E\"], [0.873015873015873, \"#F88D22\"], [0.8888888888888888, \"#F88326\"], [0.9047619047619048, \"#F87A2B\"], [0.9206349206349206, \"#F8702F\"], [0.9365079365079365, \"#F96733\"], [0.9523809523809523, \"#F95D37\"], [0.9682539682539683, \"#F9543C\"], [0.9841269841269841, \"#F94A40\"], [1.0, \"#F94144\"]]}, \"legend\": {\"tracegroupgap\": 0}, \"margin\": {\"b\": 25, \"l\": 25, \"r\": 25, \"t\": 50}, \"template\": {\"data\": {\"bar\": [{\"error_x\": {\"color\": \"#2a3f5f\"}, \"error_y\": {\"color\": \"#2a3f5f\"}, \"marker\": {\"line\": {\"color\": \"#E5ECF6\", \"width\": 0.5}}, \"type\": \"bar\"}], \"barpolar\": [{\"marker\": {\"line\": {\"color\": \"#E5ECF6\", \"width\": 0.5}}, \"type\": \"barpolar\"}], \"carpet\": [{\"aaxis\": {\"endlinecolor\": \"#2a3f5f\", \"gridcolor\": \"white\", \"linecolor\": \"white\", \"minorgridcolor\": \"white\", \"startlinecolor\": \"#2a3f5f\"}, \"baxis\": {\"endlinecolor\": \"#2a3f5f\", \"gridcolor\": \"white\", \"linecolor\": \"white\", \"minorgridcolor\": \"white\", \"startlinecolor\": \"#2a3f5f\"}, \"type\": \"carpet\"}], \"choropleth\": [{\"colorbar\": {\"outlinewidth\": 0, \"ticks\": \"\"}, \"type\": \"choropleth\"}], \"contour\": [{\"colorbar\": {\"outlinewidth\": 0, \"ticks\": \"\"}, \"colorscale\": [[0.0, \"#0d0887\"], [0.1111111111111111, \"#46039f\"], [0.2222222222222222, \"#7201a8\"], [0.3333333333333333, \"#9c179e\"], [0.4444444444444444, \"#bd3786\"], [0.5555555555555556, \"#d8576b\"], [0.6666666666666666, \"#ed7953\"], [0.7777777777777778, \"#fb9f3a\"], [0.8888888888888888, \"#fdca26\"], [1.0, \"#f0f921\"]], \"type\": \"contour\"}], \"contourcarpet\": [{\"colorbar\": {\"outlinewidth\": 0, \"ticks\": \"\"}, \"type\": \"contourcarpet\"}], \"heatmap\": [{\"colorbar\": {\"outlinewidth\": 0, \"ticks\": \"\"}, \"colorscale\": [[0.0, \"#0d0887\"], [0.1111111111111111, \"#46039f\"], [0.2222222222222222, \"#7201a8\"], [0.3333333333333333, \"#9c179e\"], [0.4444444444444444, \"#bd3786\"], [0.5555555555555556, \"#d8576b\"], [0.6666666666666666, \"#ed7953\"], [0.7777777777777778, \"#fb9f3a\"], [0.8888888888888888, \"#fdca26\"], [1.0, \"#f0f921\"]], \"type\": \"heatmap\"}], \"heatmapgl\": [{\"colorbar\": {\"outlinewidth\": 0, \"ticks\": \"\"}, \"colorscale\": [[0.0, \"#0d0887\"], [0.1111111111111111, \"#46039f\"], [0.2222222222222222, \"#7201a8\"], [0.3333333333333333, \"#9c179e\"], [0.4444444444444444, \"#bd3786\"], [0.5555555555555556, \"#d8576b\"], [0.6666666666666666, \"#ed7953\"], [0.7777777777777778, \"#fb9f3a\"], [0.8888888888888888, \"#fdca26\"], [1.0, \"#f0f921\"]], \"type\": \"heatmapgl\"}], \"histogram\": [{\"marker\": {\"colorbar\": {\"outlinewidth\": 0, \"ticks\": \"\"}}, \"type\": \"histogram\"}], \"histogram2d\": [{\"colorbar\": {\"outlinewidth\": 0, \"ticks\": \"\"}, \"colorscale\": [[0.0, \"#0d0887\"], [0.1111111111111111, \"#46039f\"], [0.2222222222222222, \"#7201a8\"], [0.3333333333333333, \"#9c179e\"], [0.4444444444444444, \"#bd3786\"], [0.5555555555555556, \"#d8576b\"], [0.6666666666666666, \"#ed7953\"], [0.7777777777777778, \"#fb9f3a\"], [0.8888888888888888, \"#fdca26\"], [1.0, \"#f0f921\"]], \"type\": \"histogram2d\"}], \"histogram2dcontour\": [{\"colorbar\": {\"outlinewidth\": 0, \"ticks\": \"\"}, \"colorscale\": [[0.0, \"#0d0887\"], [0.1111111111111111, \"#46039f\"], [0.2222222222222222, \"#7201a8\"], [0.3333333333333333, \"#9c179e\"], [0.4444444444444444, \"#bd3786\"], [0.5555555555555556, \"#d8576b\"], [0.6666666666666666, \"#ed7953\"], [0.7777777777777778, \"#fb9f3a\"], [0.8888888888888888, \"#fdca26\"], [1.0, \"#f0f921\"]], \"type\": \"histogram2dcontour\"}], \"mesh3d\": [{\"colorbar\": {\"outlinewidth\": 0, \"ticks\": \"\"}, \"type\": \"mesh3d\"}], \"parcoords\": [{\"line\": {\"colorbar\": {\"outlinewidth\": 0, \"ticks\": \"\"}}, \"type\": \"parcoords\"}], \"pie\": [{\"automargin\": true, \"type\": \"pie\"}], \"scatter\": [{\"marker\": {\"colorbar\": {\"outlinewidth\": 0, \"ticks\": \"\"}}, \"type\": \"scatter\"}], \"scatter3d\": [{\"line\": {\"colorbar\": {\"outlinewidth\": 0, \"ticks\": \"\"}}, \"marker\": {\"colorbar\": {\"outlinewidth\": 0, \"ticks\": \"\"}}, \"type\": \"scatter3d\"}], \"scattercarpet\": [{\"marker\": {\"colorbar\": {\"outlinewidth\": 0, \"ticks\": \"\"}}, \"type\": \"scattercarpet\"}], \"scattergeo\": [{\"marker\": {\"colorbar\": {\"outlinewidth\": 0, \"ticks\": \"\"}}, \"type\": \"scattergeo\"}], \"scattergl\": [{\"marker\": {\"colorbar\": {\"outlinewidth\": 0, \"ticks\": \"\"}}, \"type\": \"scattergl\"}], \"scattermapbox\": [{\"marker\": {\"colorbar\": {\"outlinewidth\": 0, \"ticks\": \"\"}}, \"type\": \"scattermapbox\"}], \"scatterpolar\": [{\"marker\": {\"colorbar\": {\"outlinewidth\": 0, \"ticks\": \"\"}}, \"type\": \"scatterpolar\"}], \"scatterpolargl\": [{\"marker\": {\"colorbar\": {\"outlinewidth\": 0, \"ticks\": \"\"}}, \"type\": \"scatterpolargl\"}], \"scatterternary\": [{\"marker\": {\"colorbar\": {\"outlinewidth\": 0, \"ticks\": \"\"}}, \"type\": \"scatterternary\"}], \"surface\": [{\"colorbar\": {\"outlinewidth\": 0, \"ticks\": \"\"}, \"colorscale\": [[0.0, \"#0d0887\"], [0.1111111111111111, \"#46039f\"], [0.2222222222222222, \"#7201a8\"], [0.3333333333333333, \"#9c179e\"], [0.4444444444444444, \"#bd3786\"], [0.5555555555555556, \"#d8576b\"], [0.6666666666666666, \"#ed7953\"], [0.7777777777777778, \"#fb9f3a\"], [0.8888888888888888, \"#fdca26\"], [1.0, \"#f0f921\"]], \"type\": \"surface\"}], \"table\": [{\"cells\": {\"fill\": {\"color\": \"#EBF0F8\"}, \"line\": {\"color\": \"white\"}}, \"header\": {\"fill\": {\"color\": \"#C8D4E3\"}, \"line\": {\"color\": \"white\"}}, \"type\": \"table\"}]}, \"layout\": {\"annotationdefaults\": {\"arrowcolor\": \"#2a3f5f\", \"arrowhead\": 0, \"arrowwidth\": 1}, \"autotypenumbers\": \"strict\", \"coloraxis\": {\"colorbar\": {\"outlinewidth\": 0, \"ticks\": \"\"}}, \"colorscale\": {\"diverging\": [[0, \"#8e0152\"], [0.1, \"#c51b7d\"], [0.2, \"#de77ae\"], [0.3, \"#f1b6da\"], [0.4, \"#fde0ef\"], [0.5, \"#f7f7f7\"], [0.6, \"#e6f5d0\"], [0.7, \"#b8e186\"], [0.8, \"#7fbc41\"], [0.9, \"#4d9221\"], [1, \"#276419\"]], \"sequential\": [[0.0, \"#0d0887\"], [0.1111111111111111, \"#46039f\"], [0.2222222222222222, \"#7201a8\"], [0.3333333333333333, \"#9c179e\"], [0.4444444444444444, \"#bd3786\"], [0.5555555555555556, \"#d8576b\"], [0.6666666666666666, \"#ed7953\"], [0.7777777777777778, \"#fb9f3a\"], [0.8888888888888888, \"#fdca26\"], [1.0, \"#f0f921\"]], \"sequentialminus\": [[0.0, \"#0d0887\"], [0.1111111111111111, \"#46039f\"], [0.2222222222222222, \"#7201a8\"], [0.3333333333333333, \"#9c179e\"], [0.4444444444444444, \"#bd3786\"], [0.5555555555555556, \"#d8576b\"], [0.6666666666666666, \"#ed7953\"], [0.7777777777777778, \"#fb9f3a\"], [0.8888888888888888, \"#fdca26\"], [1.0, \"#f0f921\"]]}, \"colorway\": [\"#636efa\", \"#EF553B\", \"#00cc96\", \"#ab63fa\", \"#FFA15A\", \"#19d3f3\", \"#FF6692\", \"#B6E880\", \"#FF97FF\", \"#FECB52\"], \"font\": {\"color\": \"#2a3f5f\"}, \"geo\": {\"bgcolor\": \"white\", \"lakecolor\": \"white\", \"landcolor\": \"#E5ECF6\", \"showlakes\": true, \"showland\": true, \"subunitcolor\": \"white\"}, \"hoverlabel\": {\"align\": \"left\"}, \"hovermode\": \"closest\", \"mapbox\": {\"style\": \"light\"}, \"paper_bgcolor\": \"white\", \"plot_bgcolor\": \"#E5ECF6\", \"polar\": {\"angularaxis\": {\"gridcolor\": \"white\", \"linecolor\": \"white\", \"ticks\": \"\"}, \"bgcolor\": \"#E5ECF6\", \"radialaxis\": {\"gridcolor\": \"white\", \"linecolor\": \"white\", \"ticks\": \"\"}}, \"scene\": {\"xaxis\": {\"backgroundcolor\": \"#E5ECF6\", \"gridcolor\": \"white\", \"gridwidth\": 2, \"linecolor\": \"white\", \"showbackground\": true, \"ticks\": \"\", \"zerolinecolor\": \"white\"}, \"yaxis\": {\"backgroundcolor\": \"#E5ECF6\", \"gridcolor\": \"white\", \"gridwidth\": 2, \"linecolor\": \"white\", \"showbackground\": true, \"ticks\": \"\", \"zerolinecolor\": \"white\"}, \"zaxis\": {\"backgroundcolor\": \"#E5ECF6\", \"gridcolor\": \"white\", \"gridwidth\": 2, \"linecolor\": \"white\", \"showbackground\": true, \"ticks\": \"\", \"zerolinecolor\": \"white\"}}, \"shapedefaults\": {\"line\": {\"color\": \"#2a3f5f\"}}, \"ternary\": {\"aaxis\": {\"gridcolor\": \"white\", \"linecolor\": \"white\", \"ticks\": \"\"}, \"baxis\": {\"gridcolor\": \"white\", \"linecolor\": \"white\", \"ticks\": \"\"}, \"bgcolor\": \"#E5ECF6\", \"caxis\": {\"gridcolor\": \"white\", \"linecolor\": \"white\", \"ticks\": \"\"}}, \"title\": {\"x\": 0.05}, \"xaxis\": {\"automargin\": true, \"gridcolor\": \"white\", \"linecolor\": \"white\", \"ticks\": \"\", \"title\": {\"standoff\": 15}, \"zerolinecolor\": \"white\", \"zerolinewidth\": 2}, \"yaxis\": {\"automargin\": true, \"gridcolor\": \"white\", \"linecolor\": \"white\", \"ticks\": \"\", \"title\": {\"standoff\": 15}, \"zerolinecolor\": \"white\", \"zerolinewidth\": 2}}}, \"title\": {\"text\": \"May Spending\"}},                        {\"responsive\": true}                    ).then(function(){\n",
       "                            \n",
       "var gd = document.getElementById('1fe1d92f-5eb3-4d17-955c-29e8fa752358');\n",
       "var x = new MutationObserver(function (mutations, observer) {{\n",
       "        var display = window.getComputedStyle(gd).display;\n",
       "        if (!display || display === 'none') {{\n",
       "            console.log([gd, 'removed!']);\n",
       "            Plotly.purge(gd);\n",
       "            observer.disconnect();\n",
       "        }}\n",
       "}});\n",
       "\n",
       "// Listen for the removal of the full notebook cells\n",
       "var notebookContainer = gd.closest('#notebook-container');\n",
       "if (notebookContainer) {{\n",
       "    x.observe(notebookContainer, {childList: true});\n",
       "}}\n",
       "\n",
       "// Listen for the clearing of the current output cell\n",
       "var outputEl = gd.closest('.output');\n",
       "if (outputEl) {{\n",
       "    x.observe(outputEl, {childList: true});\n",
       "}}\n",
       "\n",
       "                        })                };                });            </script>        </div>"
      ]
     },
     "metadata": {},
     "output_type": "display_data"
    }
   ],
   "source": [
    "loop_plots(months, month_categories)"
   ]
  },
  {
   "cell_type": "markdown",
   "id": "d32763ff",
   "metadata": {},
   "source": [
    "# Displaying Looped Treemap Results on Notebook"
   ]
  },
  {
   "cell_type": "code",
   "execution_count": 38,
   "id": "f4943eea",
   "metadata": {},
   "outputs": [],
   "source": [
    "def show_svg(filename):\n",
    "    from IPython.display import SVG, display\n",
    "    display(SVG(filename=f'fig{filename}.svg'))"
   ]
  },
  {
   "cell_type": "code",
   "execution_count": 39,
   "id": "59fe29c6",
   "metadata": {},
   "outputs": [
    {
     "data": {
      "image/svg+xml": [
       "<svg class=\"main-svg\" height=\"500\" style=\"\" viewBox=\"0 0 700 500\" width=\"700\" xmlns=\"http://www.w3.org/2000/svg\" xmlns:xlink=\"http://www.w3.org/1999/xlink\"><rect height=\"500\" style=\"fill: rgb(255, 255, 255); fill-opacity: 1;\" width=\"700\" x=\"0\" y=\"0\"/><defs id=\"defs-01fa24\"><g class=\"clips\"/><g class=\"gradients\"><linearGradient id=\"g01fa24-cbcoloraxis\" x1=\"0\" x2=\"0\" y1=\"1\" y2=\"0\"><stop offset=\"0%\" stop-color=\"rgb(87, 117, 144)\" stop-opacity=\"1\"/><stop offset=\"1.5873015873015872%\" stop-color=\"rgb(82, 118, 146)\" stop-opacity=\"1\"/><stop offset=\"3.1746031746031744%\" stop-color=\"rgb(76, 119, 148)\" stop-opacity=\"1\"/><stop offset=\"4.761904761904762%\" stop-color=\"rgb(71, 120, 150)\" stop-opacity=\"1\"/><stop offset=\"6.349206349206349%\" stop-color=\"rgb(66, 121, 152)\" stop-opacity=\"1\"/><stop offset=\"7.936507936507936%\" stop-color=\"rgb(60, 121, 153)\" stop-opacity=\"1\"/><stop offset=\"9.523809523809524%\" stop-color=\"rgb(55, 122, 155)\" stop-opacity=\"1\"/><stop offset=\"11.11111111111111%\" stop-color=\"rgb(50, 123, 157)\" stop-opacity=\"1\"/><stop offset=\"12.698412698412698%\" stop-color=\"rgb(44, 124, 159)\" stop-opacity=\"1\"/><stop offset=\"14.285714285714285%\" stop-color=\"rgb(39, 125, 161)\" stop-opacity=\"1\"/><stop offset=\"15.873015873015872%\" stop-color=\"rgb(43, 127, 159)\" stop-opacity=\"1\"/><stop offset=\"17.46031746031746%\" stop-color=\"rgb(47, 129, 157)\" stop-opacity=\"1\"/><stop offset=\"19.047619047619047%\" stop-color=\"rgb(52, 131, 155)\" stop-opacity=\"1\"/><stop offset=\"20.634920634920633%\" stop-color=\"rgb(56, 133, 153)\" stop-opacity=\"1\"/><stop offset=\"22.22222222222222%\" stop-color=\"rgb(60, 136, 150)\" stop-opacity=\"1\"/><stop offset=\"23.809523809523807%\" stop-color=\"rgb(64, 138, 148)\" stop-opacity=\"1\"/><stop offset=\"25.396825396825395%\" stop-color=\"rgb(69, 140, 146)\" stop-opacity=\"1\"/><stop offset=\"26.984126984126984%\" stop-color=\"rgb(73, 142, 144)\" stop-opacity=\"1\"/><stop offset=\"28.57142857142857%\" stop-color=\"rgb(77, 144, 142)\" stop-opacity=\"1\"/><stop offset=\"30.158730158730158%\" stop-color=\"rgb(76, 150, 141)\" stop-opacity=\"1\"/><stop offset=\"31.746031746031743%\" stop-color=\"rgb(75, 150, 141)\" stop-opacity=\"1\"/><stop offset=\"33.33333333333333%\" stop-color=\"rgb(74, 153, 141)\" stop-opacity=\"1\"/><stop offset=\"34.92063492063492%\" stop-color=\"rgb(73, 156, 141)\" stop-opacity=\"1\"/><stop offset=\"36.507936507936506%\" stop-color=\"rgb(71, 158, 140)\" stop-opacity=\"1\"/><stop offset=\"38.095238095238095%\" stop-color=\"rgb(69, 164, 140)\" stop-opacity=\"1\"/><stop offset=\"39.682539682539684%\" stop-color=\"rgb(68, 167, 139)\" stop-opacity=\"1\"/><stop offset=\"41.269841269841265%\" stop-color=\"rgb(67, 170, 139)\" stop-opacity=\"1\"/><stop offset=\"42.857142857142854%\" stop-color=\"rgb(76, 172, 136)\" stop-opacity=\"1\"/><stop offset=\"44.44444444444444%\" stop-color=\"rgb(84, 174, 132)\" stop-opacity=\"1\"/><stop offset=\"46.03174603174603%\" stop-color=\"rgb(85, 176, 130)\" stop-opacity=\"1\"/><stop offset=\"47.61904761904761%\" stop-color=\"rgb(101, 179, 126)\" stop-opacity=\"1\"/><stop offset=\"49.2063492063492%\" stop-color=\"rgb(110, 181, 122)\" stop-opacity=\"1\"/><stop offset=\"50.79365079365079%\" stop-color=\"rgb(118, 183, 119)\" stop-opacity=\"1\"/><stop offset=\"52.38095238095239%\" stop-color=\"rgb(127, 186, 116)\" stop-opacity=\"1\"/><stop offset=\"53.96825396825397%\" stop-color=\"rgb(135, 188, 112)\" stop-opacity=\"1\"/><stop offset=\"55.55555555555556%\" stop-color=\"rgb(136, 188, 112)\" stop-opacity=\"1\"/><stop offset=\"57.14285714285714%\" stop-color=\"rgb(144, 190, 109)\" stop-opacity=\"1\"/><stop offset=\"58.730158730158735%\" stop-color=\"rgb(156, 191, 106)\" stop-opacity=\"1\"/><stop offset=\"60.317460317460316%\" stop-color=\"rgb(167, 192, 102)\" stop-opacity=\"1\"/><stop offset=\"61.904761904761905%\" stop-color=\"rgb(179, 193, 99)\" stop-opacity=\"1\"/><stop offset=\"63.49206349206349%\" stop-color=\"rgb(191, 194, 96)\" stop-opacity=\"1\"/><stop offset=\"65.07936507936508%\" stop-color=\"rgb(202, 195, 92)\" stop-opacity=\"1\"/><stop offset=\"66.66666666666666%\" stop-color=\"rgb(214, 196, 89)\" stop-opacity=\"1\"/><stop offset=\"68.25396825396825%\" stop-color=\"rgb(226, 197, 86)\" stop-opacity=\"1\"/><stop offset=\"69.84126984126983%\" stop-color=\"rgb(237, 198, 82)\" stop-opacity=\"1\"/><stop offset=\"71.42857142857143%\" stop-color=\"rgb(249, 199, 79)\" stop-opacity=\"1\"/><stop offset=\"73.01587301587301%\" stop-color=\"rgb(249, 194, 74)\" stop-opacity=\"1\"/><stop offset=\"74.60317460317461%\" stop-color=\"rgb(249, 188, 68)\" stop-opacity=\"1\"/><stop offset=\"76.19047619047619%\" stop-color=\"rgb(249, 183, 63)\" stop-opacity=\"1\"/><stop offset=\"77.77777777777779%\" stop-color=\"rgb(249, 177, 57)\" stop-opacity=\"1\"/><stop offset=\"79.36507936507937%\" stop-color=\"rgb(248, 172, 52)\" stop-opacity=\"1\"/><stop offset=\"80.95238095238095%\" stop-color=\"rgb(248, 166, 46)\" stop-opacity=\"1\"/><stop offset=\"82.53968253968253%\" stop-color=\"rgb(248, 161, 41)\" stop-opacity=\"1\"/><stop offset=\"84.12698412698413%\" stop-color=\"rgb(248, 155, 35)\" stop-opacity=\"1\"/><stop offset=\"85.71428571428571%\" stop-color=\"rgb(248, 150, 30)\" stop-opacity=\"1\"/><stop offset=\"87.3015873015873%\" stop-color=\"rgb(248, 141, 34)\" stop-opacity=\"1\"/><stop offset=\"88.88888888888889%\" stop-color=\"rgb(248, 131, 38)\" stop-opacity=\"1\"/><stop offset=\"90.47619047619048%\" stop-color=\"rgb(248, 122, 43)\" stop-opacity=\"1\"/><stop offset=\"92.06349206349206%\" stop-color=\"rgb(248, 112, 47)\" stop-opacity=\"1\"/><stop offset=\"93.65079365079364%\" stop-color=\"rgb(249, 103, 51)\" stop-opacity=\"1\"/><stop offset=\"95.23809523809523%\" stop-color=\"rgb(249, 93, 55)\" stop-opacity=\"1\"/><stop offset=\"96.82539682539682%\" stop-color=\"rgb(249, 84, 60)\" stop-opacity=\"1\"/><stop offset=\"98.4126984126984%\" stop-color=\"rgb(249, 74, 64)\" stop-opacity=\"1\"/><stop offset=\"100%\" stop-color=\"rgb(249, 65, 68)\" stop-opacity=\"1\"/></linearGradient></g></defs><g class=\"bglayer\"/><g class=\"layer-below\"><g class=\"imagelayer\"/><g class=\"shapelayer\"/></g><g class=\"cartesianlayer\"/><g class=\"polarlayer\"/><g class=\"ternarylayer\"/><g class=\"geolayer\"/><g class=\"funnelarealayer\"/><g class=\"pielayer\"/><g class=\"treemaplayer\"><g class=\"trace treemap\" style=\"opacity: 1;\"><g class=\"slice cursor-pointer\"><path class=\"surface\" d=\"M25,50L585,50L585,475L25,475Z\" style=\"pointer-events: all; stroke-width: 1; fill: rgb(114, 182, 121); fill-opacity: 1; stroke: rgb(255, 255, 255); stroke-opacity: 1; opacity: 1;\"/><g class=\"slicetext\"><text class=\"slicetext\" data-notex=\"1\" style=\"font-family: 'Open Sans', verdana, arial, sans-serif; font-size: 12px; fill: rgb(68, 68, 68); fill-opacity: 1; white-space: pre;\" text-anchor=\"start\" transform=\"translate(31,65)\" x=\"0\" y=\"0\">Non-Essential</text></g></g><g class=\"slice cursor-pointer\"><path class=\"surface\" d=\"M31,74L579,74L579,469L31,469Z\" style=\"pointer-events: all; stroke-width: 1; fill: rgb(114, 182, 121); fill-opacity: 1; stroke: rgb(255, 255, 255); stroke-opacity: 1; opacity: 1;\"/><g class=\"slicetext\"><text class=\"slicetext\" data-notex=\"1\" style=\"font-family: 'Open Sans', verdana, arial, sans-serif; font-size: 12px; fill: rgb(68, 68, 68); fill-opacity: 1; white-space: pre;\" text-anchor=\"start\" transform=\"translate(37,89)\" x=\"0\" y=\"0\">work</text></g></g><g class=\"slice cursor-pointer\"><path class=\"surface\" d=\"M37,98L573,98L573,463L37,463Z\" style=\"pointer-events: all; stroke-width: 1; fill: rgb(114, 182, 121); fill-opacity: 1; stroke: rgb(255, 255, 255); stroke-opacity: 1; opacity: 1;\"/><g class=\"slicetext\"><text class=\"slicetext\" data-notex=\"1\" style=\"font-family: 'Open Sans', verdana, arial, sans-serif; font-size: 12px; fill: rgb(68, 68, 68); fill-opacity: 1; white-space: pre;\" text-anchor=\"start\" transform=\"translate(40,113)\" x=\"0\" y=\"0\">99.99%</text></g></g></g></g><g class=\"sunburstlayer\"/><g class=\"glimages\"/><defs id=\"topdefs-01fa24\"><g class=\"clips\"/></defs><g class=\"layer-above\"><g class=\"imagelayer\"/><g class=\"shapelayer\"/></g><g class=\"infolayer\"><g class=\"cbcoloraxis colorbar\" transform=\"translate(25,50)\"><rect class=\"cbbg\" height=\"425\" style=\"fill: rgb(0, 0, 0); fill-opacity: 0; stroke: rgb(68, 68, 68); stroke-opacity: 1; stroke-width: 0;\" width=\"92.21875\" x=\"571\" y=\"0\"/><g class=\"cbfills\" transform=\"translate(0,30)\"><rect class=\"cbfill\" height=\"386\" style=\"fill: url('#g01fa24-cbcoloraxis');\" width=\"30\" x=\"581\" y=\"0\"/></g><g class=\"cblines\" transform=\"translate(0,30)\"/><g class=\"cbaxis crisp\" transform=\"translate(0,-50)\"><g class=\"ycbcoloraxistick\"><text style=\"font-family: 'Open Sans', verdana, arial, sans-serif; font-size: 12px; fill: rgb(42, 63, 95); fill-opacity: 1; white-space: pre;\" text-anchor=\"start\" transform=\"translate(0,426.45)\" x=\"613.9\" y=\"4.199999999999999\">69.6</text></g><g class=\"ycbcoloraxistick\"><text style=\"font-family: 'Open Sans', verdana, arial, sans-serif; font-size: 12px; fill: rgb(42, 63, 95); fill-opacity: 1; white-space: pre;\" text-anchor=\"start\" transform=\"translate(0,349.35)\" x=\"613.9\" y=\"4.199999999999999\">69.8</text></g><g class=\"ycbcoloraxistick\"><text style=\"font-family: 'Open Sans', verdana, arial, sans-serif; font-size: 12px; fill: rgb(42, 63, 95); fill-opacity: 1; white-space: pre;\" text-anchor=\"start\" transform=\"translate(0,272.25)\" x=\"613.9\" y=\"4.199999999999999\">70</text></g><g class=\"ycbcoloraxistick\"><text style=\"font-family: 'Open Sans', verdana, arial, sans-serif; font-size: 12px; fill: rgb(42, 63, 95); fill-opacity: 1; white-space: pre;\" text-anchor=\"start\" transform=\"translate(0,195.15000000000003)\" x=\"613.9\" y=\"4.199999999999999\">70.2</text></g><g class=\"ycbcoloraxistick\"><text style=\"font-family: 'Open Sans', verdana, arial, sans-serif; font-size: 12px; fill: rgb(42, 63, 95); fill-opacity: 1; white-space: pre;\" text-anchor=\"start\" transform=\"translate(0,118.05000000000001)\" x=\"613.9\" y=\"4.199999999999999\">70.4</text></g></g><g class=\"cbtitleunshift\" transform=\"translate(-25,-50)\"><g class=\"cbtitle\" transform=\"\"><text class=\"ycbcoloraxistitle\" style=\"font-family: 'Open Sans', verdana, arial, sans-serif; font-size: 12px; fill: rgb(42, 63, 95); opacity: 1; font-weight: normal; white-space: pre;\" text-anchor=\"start\" x=\"606.1999999999999\" y=\"72.00000000000001\">month_sum</text></g></g><rect class=\"cboutline\" height=\"385.5\" style=\"stroke: rgb(68, 68, 68); stroke-opacity: 1; fill: none; stroke-width: 0;\" width=\"30\" x=\"581\" y=\"29.5\"/></g><g class=\"g-gtitle\"><text class=\"gtitle\" dy=\"0em\" style=\"font-family: 'Open Sans', verdana, arial, sans-serif; font-size: 17px; fill: rgb(42, 63, 95); opacity: 1; font-weight: normal; white-space: pre;\" text-anchor=\"start\" x=\"35\" y=\"25\">March Spending</text></g></g></svg>"
      ],
      "text/plain": [
       "<IPython.core.display.SVG object>"
      ]
     },
     "metadata": {},
     "output_type": "display_data"
    },
    {
     "data": {
      "image/svg+xml": [
       "<svg class=\"main-svg\" height=\"500\" style=\"\" viewBox=\"0 0 700 500\" width=\"700\" xmlns=\"http://www.w3.org/2000/svg\" xmlns:xlink=\"http://www.w3.org/1999/xlink\"><rect height=\"500\" style=\"fill: rgb(255, 255, 255); fill-opacity: 1;\" width=\"700\" x=\"0\" y=\"0\"/><defs id=\"defs-741abb\"><g class=\"clips\"/><g class=\"gradients\"><linearGradient id=\"g741abb-cbcoloraxis\" x1=\"0\" x2=\"0\" y1=\"1\" y2=\"0\"><stop offset=\"0%\" stop-color=\"rgb(87, 117, 144)\" stop-opacity=\"1\"/><stop offset=\"1.5873015873015872%\" stop-color=\"rgb(82, 118, 146)\" stop-opacity=\"1\"/><stop offset=\"3.1746031746031744%\" stop-color=\"rgb(76, 119, 148)\" stop-opacity=\"1\"/><stop offset=\"4.761904761904762%\" stop-color=\"rgb(71, 120, 150)\" stop-opacity=\"1\"/><stop offset=\"6.349206349206349%\" stop-color=\"rgb(66, 121, 152)\" stop-opacity=\"1\"/><stop offset=\"7.936507936507936%\" stop-color=\"rgb(60, 121, 153)\" stop-opacity=\"1\"/><stop offset=\"9.523809523809524%\" stop-color=\"rgb(55, 122, 155)\" stop-opacity=\"1\"/><stop offset=\"11.11111111111111%\" stop-color=\"rgb(50, 123, 157)\" stop-opacity=\"1\"/><stop offset=\"12.698412698412698%\" stop-color=\"rgb(44, 124, 159)\" stop-opacity=\"1\"/><stop offset=\"14.285714285714285%\" stop-color=\"rgb(39, 125, 161)\" stop-opacity=\"1\"/><stop offset=\"15.873015873015872%\" stop-color=\"rgb(43, 127, 159)\" stop-opacity=\"1\"/><stop offset=\"17.46031746031746%\" stop-color=\"rgb(47, 129, 157)\" stop-opacity=\"1\"/><stop offset=\"19.047619047619047%\" stop-color=\"rgb(52, 131, 155)\" stop-opacity=\"1\"/><stop offset=\"20.634920634920633%\" stop-color=\"rgb(56, 133, 153)\" stop-opacity=\"1\"/><stop offset=\"22.22222222222222%\" stop-color=\"rgb(60, 136, 150)\" stop-opacity=\"1\"/><stop offset=\"23.809523809523807%\" stop-color=\"rgb(64, 138, 148)\" stop-opacity=\"1\"/><stop offset=\"25.396825396825395%\" stop-color=\"rgb(69, 140, 146)\" stop-opacity=\"1\"/><stop offset=\"26.984126984126984%\" stop-color=\"rgb(73, 142, 144)\" stop-opacity=\"1\"/><stop offset=\"28.57142857142857%\" stop-color=\"rgb(77, 144, 142)\" stop-opacity=\"1\"/><stop offset=\"30.158730158730158%\" stop-color=\"rgb(76, 150, 141)\" stop-opacity=\"1\"/><stop offset=\"31.746031746031743%\" stop-color=\"rgb(75, 150, 141)\" stop-opacity=\"1\"/><stop offset=\"33.33333333333333%\" stop-color=\"rgb(74, 153, 141)\" stop-opacity=\"1\"/><stop offset=\"34.92063492063492%\" stop-color=\"rgb(73, 156, 141)\" stop-opacity=\"1\"/><stop offset=\"36.507936507936506%\" stop-color=\"rgb(71, 158, 140)\" stop-opacity=\"1\"/><stop offset=\"38.095238095238095%\" stop-color=\"rgb(69, 164, 140)\" stop-opacity=\"1\"/><stop offset=\"39.682539682539684%\" stop-color=\"rgb(68, 167, 139)\" stop-opacity=\"1\"/><stop offset=\"41.269841269841265%\" stop-color=\"rgb(67, 170, 139)\" stop-opacity=\"1\"/><stop offset=\"42.857142857142854%\" stop-color=\"rgb(76, 172, 136)\" stop-opacity=\"1\"/><stop offset=\"44.44444444444444%\" stop-color=\"rgb(84, 174, 132)\" stop-opacity=\"1\"/><stop offset=\"46.03174603174603%\" stop-color=\"rgb(85, 176, 130)\" stop-opacity=\"1\"/><stop offset=\"47.61904761904761%\" stop-color=\"rgb(101, 179, 126)\" stop-opacity=\"1\"/><stop offset=\"49.2063492063492%\" stop-color=\"rgb(110, 181, 122)\" stop-opacity=\"1\"/><stop offset=\"50.79365079365079%\" stop-color=\"rgb(118, 183, 119)\" stop-opacity=\"1\"/><stop offset=\"52.38095238095239%\" stop-color=\"rgb(127, 186, 116)\" stop-opacity=\"1\"/><stop offset=\"53.96825396825397%\" stop-color=\"rgb(135, 188, 112)\" stop-opacity=\"1\"/><stop offset=\"55.55555555555556%\" stop-color=\"rgb(136, 188, 112)\" stop-opacity=\"1\"/><stop offset=\"57.14285714285714%\" stop-color=\"rgb(144, 190, 109)\" stop-opacity=\"1\"/><stop offset=\"58.730158730158735%\" stop-color=\"rgb(156, 191, 106)\" stop-opacity=\"1\"/><stop offset=\"60.317460317460316%\" stop-color=\"rgb(167, 192, 102)\" stop-opacity=\"1\"/><stop offset=\"61.904761904761905%\" stop-color=\"rgb(179, 193, 99)\" stop-opacity=\"1\"/><stop offset=\"63.49206349206349%\" stop-color=\"rgb(191, 194, 96)\" stop-opacity=\"1\"/><stop offset=\"65.07936507936508%\" stop-color=\"rgb(202, 195, 92)\" stop-opacity=\"1\"/><stop offset=\"66.66666666666666%\" stop-color=\"rgb(214, 196, 89)\" stop-opacity=\"1\"/><stop offset=\"68.25396825396825%\" stop-color=\"rgb(226, 197, 86)\" stop-opacity=\"1\"/><stop offset=\"69.84126984126983%\" stop-color=\"rgb(237, 198, 82)\" stop-opacity=\"1\"/><stop offset=\"71.42857142857143%\" stop-color=\"rgb(249, 199, 79)\" stop-opacity=\"1\"/><stop offset=\"73.01587301587301%\" stop-color=\"rgb(249, 194, 74)\" stop-opacity=\"1\"/><stop offset=\"74.60317460317461%\" stop-color=\"rgb(249, 188, 68)\" stop-opacity=\"1\"/><stop offset=\"76.19047619047619%\" stop-color=\"rgb(249, 183, 63)\" stop-opacity=\"1\"/><stop offset=\"77.77777777777779%\" stop-color=\"rgb(249, 177, 57)\" stop-opacity=\"1\"/><stop offset=\"79.36507936507937%\" stop-color=\"rgb(248, 172, 52)\" stop-opacity=\"1\"/><stop offset=\"80.95238095238095%\" stop-color=\"rgb(248, 166, 46)\" stop-opacity=\"1\"/><stop offset=\"82.53968253968253%\" stop-color=\"rgb(248, 161, 41)\" stop-opacity=\"1\"/><stop offset=\"84.12698412698413%\" stop-color=\"rgb(248, 155, 35)\" stop-opacity=\"1\"/><stop offset=\"85.71428571428571%\" stop-color=\"rgb(248, 150, 30)\" stop-opacity=\"1\"/><stop offset=\"87.3015873015873%\" stop-color=\"rgb(248, 141, 34)\" stop-opacity=\"1\"/><stop offset=\"88.88888888888889%\" stop-color=\"rgb(248, 131, 38)\" stop-opacity=\"1\"/><stop offset=\"90.47619047619048%\" stop-color=\"rgb(248, 122, 43)\" stop-opacity=\"1\"/><stop offset=\"92.06349206349206%\" stop-color=\"rgb(248, 112, 47)\" stop-opacity=\"1\"/><stop offset=\"93.65079365079364%\" stop-color=\"rgb(249, 103, 51)\" stop-opacity=\"1\"/><stop offset=\"95.23809523809523%\" stop-color=\"rgb(249, 93, 55)\" stop-opacity=\"1\"/><stop offset=\"96.82539682539682%\" stop-color=\"rgb(249, 84, 60)\" stop-opacity=\"1\"/><stop offset=\"98.4126984126984%\" stop-color=\"rgb(249, 74, 64)\" stop-opacity=\"1\"/><stop offset=\"100%\" stop-color=\"rgb(249, 65, 68)\" stop-opacity=\"1\"/></linearGradient></g></defs><g class=\"bglayer\"/><g class=\"layer-below\"><g class=\"imagelayer\"/><g class=\"shapelayer\"/></g><g class=\"cartesianlayer\"/><g class=\"polarlayer\"/><g class=\"ternarylayer\"/><g class=\"geolayer\"/><g class=\"funnelarealayer\"/><g class=\"pielayer\"/><g class=\"treemaplayer\"><g class=\"trace treemap\" style=\"opacity: 1;\"><g class=\"slice cursor-pointer\"><path class=\"surface\" d=\"M25,50L585,50L585,475L25,475Z\" style=\"pointer-events: all; stroke-width: 1; fill: rgb(68, 68, 68); fill-opacity: 1; stroke: rgb(255, 255, 255); stroke-opacity: 1; opacity: 1;\"/><g class=\"slicetext\"><text class=\"slicetext\" data-notex=\"1\" style=\"font-family: 'Open Sans', verdana, arial, sans-serif; font-size: 12px; fill: rgb(255, 255, 255); fill-opacity: 1; white-space: pre;\" text-anchor=\"start\" transform=\"translate(31,65)\" x=\"0\" y=\"0\"> </text></g></g><g class=\"slice cursor-pointer\"><path class=\"surface\" d=\"M31,74L323.42462738821644,74L323.42462738821644,469L31,469Z\" style=\"pointer-events: all; stroke-width: 1; fill: rgb(148, 190, 108); fill-opacity: 1; stroke: rgb(255, 255, 255); stroke-opacity: 1; opacity: 1;\"/><g class=\"slicetext\"><text class=\"slicetext\" data-notex=\"1\" style=\"font-family: 'Open Sans', verdana, arial, sans-serif; font-size: 12px; fill: rgb(68, 68, 68); fill-opacity: 1; white-space: pre;\" text-anchor=\"start\" transform=\"translate(37,89)\" x=\"0\" y=\"0\">Essential</text></g></g><g class=\"slice cursor-pointer\"><path class=\"surface\" d=\"M326.42462738821644,74L579,74L579,469L326.42462738821644,469Z\" style=\"pointer-events: all; stroke-width: 1; fill: rgb(67, 170, 139); fill-opacity: 1; stroke: rgb(255, 255, 255); stroke-opacity: 1; opacity: 1;\"/><g class=\"slicetext\"><text class=\"slicetext\" data-notex=\"1\" style=\"font-family: 'Open Sans', verdana, arial, sans-serif; font-size: 12px; fill: rgb(68, 68, 68); fill-opacity: 1; white-space: pre;\" text-anchor=\"start\" transform=\"translate(332.42462738821644,89)\" x=\"0\" y=\"0\">Non-Essential</text></g></g><g class=\"slice cursor-pointer\"><path class=\"surface\" d=\"M37,98L180.79648462502368,98L180.79648462502368,366.74328358208953L37,366.74328358208953Z\" style=\"pointer-events: all; stroke-width: 1; fill: rgb(249, 177, 57); fill-opacity: 1; stroke: rgb(255, 255, 255); stroke-opacity: 1; opacity: 1;\"/><g class=\"slicetext\"><text class=\"slicetext\" data-notex=\"1\" style=\"font-family: 'Open Sans', verdana, arial, sans-serif; font-size: 12px; fill: rgb(68, 68, 68); fill-opacity: 1; white-space: pre;\" text-anchor=\"start\" transform=\"translate(43,113)\" x=\"0\" y=\"0\">food</text></g></g><g class=\"slice cursor-pointer\"><path class=\"surface\" d=\"M183.79648462502368,98L317.42462738821644,98L317.42462738821644,366.74328358208953L183.79648462502368,366.74328358208953Z\" style=\"pointer-events: all; stroke-width: 1; fill: rgb(249, 198, 78); fill-opacity: 1; stroke: rgb(255, 255, 255); stroke-opacity: 1; opacity: 1;\"/><g class=\"slicetext\"><text class=\"slicetext\" data-notex=\"1\" style=\"font-family: 'Open Sans', verdana, arial, sans-serif; font-size: 12px; fill: rgb(68, 68, 68); fill-opacity: 1; white-space: pre;\" text-anchor=\"start\" transform=\"translate(189.79648462502368,113)\" x=\"0\" y=\"0\">utilities</text></g></g><g class=\"slice cursor-pointer\"><path class=\"surface\" d=\"M37,369.74328358208953L141.1434040768579,369.74328358208953L141.1434040768579,463L37,463Z\" style=\"pointer-events: all; stroke-width: 1; fill: rgb(49, 123, 157); fill-opacity: 1; stroke: rgb(255, 255, 255); stroke-opacity: 1; opacity: 1;\"/><g class=\"slicetext\"><text class=\"slicetext\" data-notex=\"1\" style=\"font-family: 'Open Sans', verdana, arial, sans-serif; font-size: 12px; fill: rgb(255, 255, 255); fill-opacity: 1; white-space: pre;\" text-anchor=\"start\" transform=\"translate(43,384.74328358208953)\" x=\"0\" y=\"0\">gas</text></g></g><g class=\"slice cursor-pointer\"><path class=\"surface\" d=\"M144.1434040768579,369.74328358208953L237.1681530136645,369.74328358208953L237.1681530136645,463L144.1434040768579,463Z\" style=\"pointer-events: all; stroke-width: 1; fill: rgb(56, 122, 155); fill-opacity: 1; stroke: rgb(255, 255, 255); stroke-opacity: 1; opacity: 1;\"/><g class=\"slicetext\"><text class=\"slicetext\" data-notex=\"1\" style=\"font-family: 'Open Sans', verdana, arial, sans-serif; font-size: 12px; fill: rgb(255, 255, 255); fill-opacity: 1; white-space: pre;\" text-anchor=\"start\" transform=\"translate(150.1434040768579,384.74328358208953)\" x=\"0\" y=\"0\">medical</text></g></g><g class=\"slice cursor-pointer\"><path class=\"surface\" d=\"M240.1681530136645,369.74328358208953L317.42462738821644,369.74328358208953L317.42462738821644,463.0000000000001L240.1681530136645,463.0000000000001Z\" style=\"pointer-events: all; stroke-width: 1; fill: rgb(68, 121, 151); fill-opacity: 1; stroke: rgb(255, 255, 255); stroke-opacity: 1; opacity: 1;\"/><g class=\"slicetext\"><text class=\"slicetext\" data-notex=\"1\" style=\"font-family: 'Open Sans', verdana, arial, sans-serif; font-size: 12px; fill: rgb(255, 255, 255); fill-opacity: 1; white-space: pre;\" text-anchor=\"start\" transform=\"translate(246.1681530136645,384.74328358208953)\" x=\"0\" y=\"0\">home</text></g></g><g class=\"slice cursor-pointer\"><path class=\"surface\" d=\"M332.42462738821644,98L573,98L573,253.56458917403492L332.42462738821644,253.56458917403492Z\" style=\"pointer-events: all; stroke-width: 1; fill: rgb(249, 185, 65); fill-opacity: 1; stroke: rgb(255, 255, 255); stroke-opacity: 1; opacity: 1;\"/><g class=\"slicetext\"><text class=\"slicetext\" data-notex=\"1\" style=\"font-family: 'Open Sans', verdana, arial, sans-serif; font-size: 12px; fill: rgb(68, 68, 68); fill-opacity: 1; white-space: pre;\" text-anchor=\"start\" transform=\"translate(338.42462738821644,113)\" x=\"0\" y=\"0\">work</text></g></g><g class=\"slice cursor-pointer\"><path class=\"surface\" d=\"M332.42462738821644,256.56458917403495L466.4876923099666,256.56458917403495L466.4876923099666,378.5206659361932L332.42462738821644,378.5206659361932Z\" style=\"pointer-events: all; stroke-width: 1; fill: rgb(73, 142, 144); fill-opacity: 1; stroke: rgb(255, 255, 255); stroke-opacity: 1; opacity: 1;\"/><g class=\"slicetext\"><text class=\"slicetext\" data-notex=\"1\" style=\"font-family: 'Open Sans', verdana, arial, sans-serif; font-size: 12px; fill: rgb(255, 255, 255); fill-opacity: 1; white-space: pre;\" text-anchor=\"start\" transform=\"translate(338.42462738821644,271.56458917403495)\" x=\"0\" y=\"0\">pets</text></g></g><g class=\"slice cursor-pointer\"><path class=\"surface\" d=\"M332.42462738821644,381.5206659361932L466.4876923099666,381.5206659361932L466.4876923099666,463L332.42462738821644,463Z\" style=\"pointer-events: all; stroke-width: 1; fill: rgb(40, 125, 161); fill-opacity: 1; stroke: rgb(255, 255, 255); stroke-opacity: 1; opacity: 1;\"/><g class=\"slicetext\"><text class=\"slicetext\" data-notex=\"1\" style=\"font-family: 'Open Sans', verdana, arial, sans-serif; font-size: 12px; fill: rgb(255, 255, 255); fill-opacity: 1; white-space: pre;\" text-anchor=\"start\" transform=\"translate(338.42462738821644,396.5206659361932)\" x=\"0\" y=\"0\">fast_food</text></g></g><g class=\"slice cursor-pointer\"><path class=\"surface\" d=\"M469.4876923099666,256.56458917403495L573,256.56458917403495L573,339.7706724862822L469.4876923099666,339.7706724862822Z\" style=\"pointer-events: all; stroke-width: 1; fill: rgb(56, 122, 155); fill-opacity: 1; stroke: rgb(255, 255, 255); stroke-opacity: 1; opacity: 1;\"/><g class=\"slicetext\"><text class=\"slicetext\" data-notex=\"1\" style=\"font-family: 'Open Sans', verdana, arial, sans-serif; font-size: 12px; fill: rgb(255, 255, 255); fill-opacity: 1; white-space: pre;\" text-anchor=\"start\" transform=\"translate(475.4876923099666,271.56458917403495)\" x=\"0\" y=\"0\">restaurants</text></g></g><g class=\"slice cursor-pointer\"><path class=\"surface\" d=\"M469.4876923099666,342.7706724862822L573,342.7706724862822L573,414.72459334514144L469.4876923099666,414.72459334514144Z\" style=\"pointer-events: all; stroke-width: 1; fill: rgb(66, 121, 152); fill-opacity: 1; stroke: rgb(255, 255, 255); stroke-opacity: 1; opacity: 1;\"/><g class=\"slicetext\"><text class=\"slicetext\" data-notex=\"1\" style=\"font-family: 'Open Sans', verdana, arial, sans-serif; font-size: 12px; fill: rgb(255, 255, 255); fill-opacity: 1; white-space: pre;\" text-anchor=\"start\" transform=\"translate(475.4876923099666,357.7706724862822)\" x=\"0\" y=\"0\">online</text></g></g><g class=\"slice cursor-pointer\"><path class=\"surface\" d=\"M469.4876923099666,417.72459334514144L572.9999999999999,417.72459334514144L572.9999999999999,463L469.4876923099666,463Z\" style=\"pointer-events: all; stroke-width: 1; fill: rgb(87, 117, 144); fill-opacity: 1; stroke: rgb(255, 255, 255); stroke-opacity: 1; opacity: 1;\"/><g class=\"slicetext\"><text class=\"slicetext\" data-notex=\"1\" style=\"font-family: 'Open Sans', verdana, arial, sans-serif; font-size: 12px; fill: rgb(255, 255, 255); fill-opacity: 1; white-space: pre;\" text-anchor=\"start\" transform=\"translate(475.4876923099666,432.72459334514144)\" x=\"0\" y=\"0\">fun</text></g></g><g class=\"slice cursor-pointer\"><path class=\"surface\" d=\"M43,122L174.79648462502368,122L174.79648462502368,360.74328358208953L43,360.74328358208953Z\" style=\"pointer-events: all; stroke-width: 1; fill: rgb(249, 177, 57); fill-opacity: 1; stroke: rgb(255, 255, 255); stroke-opacity: 1; opacity: 1;\"/><g class=\"slicetext\"><text class=\"slicetext\" data-notex=\"1\" style=\"font-family: 'Open Sans', verdana, arial, sans-serif; font-size: 12px; fill: rgb(68, 68, 68); fill-opacity: 1; white-space: pre;\" text-anchor=\"start\" transform=\"translate(46,137)\" x=\"0\" y=\"0\">20.5%</text></g></g><g class=\"slice cursor-pointer\"><path class=\"surface\" d=\"M189.79648462502368,122L311.42462738821644,122L311.42462738821644,360.7432835820896L189.79648462502368,360.7432835820896Z\" style=\"pointer-events: all; stroke-width: 1; fill: rgb(249, 198, 78); fill-opacity: 1; stroke: rgb(255, 255, 255); stroke-opacity: 1; opacity: 1;\"/><g class=\"slicetext\"><text class=\"slicetext\" data-notex=\"1\" style=\"font-family: 'Open Sans', verdana, arial, sans-serif; font-size: 12px; fill: rgb(68, 68, 68); fill-opacity: 1; white-space: pre;\" text-anchor=\"start\" transform=\"translate(192.79648462502368,137)\" x=\"0\" y=\"0\">19.08%</text></g></g><g class=\"slice cursor-pointer\"><path class=\"surface\" d=\"M43,393.74328358208953L135.1434040768579,393.74328358208953L135.1434040768579,457L43,457Z\" style=\"pointer-events: all; stroke-width: 1; fill: rgb(49, 123, 157); fill-opacity: 1; stroke: rgb(255, 255, 255); stroke-opacity: 1; opacity: 1;\"/><g class=\"slicetext\"><text class=\"slicetext\" data-notex=\"1\" style=\"font-family: 'Open Sans', verdana, arial, sans-serif; font-size: 12px; fill: rgb(255, 255, 255); fill-opacity: 1; white-space: pre;\" text-anchor=\"start\" transform=\"translate(46,408.74328358208953)\" x=\"0\" y=\"0\">5.3%</text></g></g><g class=\"slice cursor-pointer\"><path class=\"surface\" d=\"M150.1434040768579,393.74328358208953L231.1681530136645,393.74328358208953L231.1681530136645,457L150.1434040768579,457Z\" style=\"pointer-events: all; stroke-width: 1; fill: rgb(56, 122, 155); fill-opacity: 1; stroke: rgb(255, 255, 255); stroke-opacity: 1; opacity: 1;\"/><g class=\"slicetext\"><text class=\"slicetext\" data-notex=\"1\" style=\"font-family: 'Open Sans', verdana, arial, sans-serif; font-size: 12px; fill: rgb(255, 255, 255); fill-opacity: 1; white-space: pre;\" text-anchor=\"start\" transform=\"translate(153.1434040768579,408.74328358208953)\" x=\"0\" y=\"0\">4.75%</text></g></g><g class=\"slice cursor-pointer\"><path class=\"surface\" d=\"M246.1681530136645,393.74328358208953L311.42462738821644,393.74328358208953L311.42462738821644,457.0000000000001L246.1681530136645,457.0000000000001Z\" style=\"pointer-events: all; stroke-width: 1; fill: rgb(68, 121, 151); fill-opacity: 1; stroke: rgb(255, 255, 255); stroke-opacity: 1; opacity: 1;\"/><g class=\"slicetext\"><text class=\"slicetext\" data-notex=\"1\" style=\"font-family: 'Open Sans', verdana, arial, sans-serif; font-size: 12px; fill: rgb(255, 255, 255); fill-opacity: 1; white-space: pre;\" text-anchor=\"start\" transform=\"translate(249.1681530136645,408.74328358208953)\" x=\"0\" y=\"0\">3.97%</text></g></g><g class=\"slice cursor-pointer\"><path class=\"surface\" d=\"M338.42462738821644,122L567,122L567,247.56458917403492L338.42462738821644,247.56458917403492Z\" style=\"pointer-events: all; stroke-width: 1; fill: rgb(249, 185, 65); fill-opacity: 1; stroke: rgb(255, 255, 255); stroke-opacity: 1; opacity: 1;\"/><g class=\"slicetext\"><text class=\"slicetext\" data-notex=\"1\" style=\"font-family: 'Open Sans', verdana, arial, sans-serif; font-size: 12px; fill: rgb(68, 68, 68); fill-opacity: 1; white-space: pre;\" text-anchor=\"start\" transform=\"translate(341.42462738821644,137)\" x=\"0\" y=\"0\">19.98%</text></g></g><g class=\"slice cursor-pointer\"><path class=\"surface\" d=\"M338.42462738821644,280.56458917403495L460.4876923099666,280.56458917403495L460.4876923099666,372.5206659361932L338.42462738821644,372.5206659361932Z\" style=\"pointer-events: all; stroke-width: 1; fill: rgb(73, 142, 144); fill-opacity: 1; stroke: rgb(255, 255, 255); stroke-opacity: 1; opacity: 1;\"/><g class=\"slicetext\"><text class=\"slicetext\" data-notex=\"1\" style=\"font-family: 'Open Sans', verdana, arial, sans-serif; font-size: 12px; fill: rgb(255, 255, 255); fill-opacity: 1; white-space: pre;\" text-anchor=\"start\" transform=\"translate(341.42462738821644,295.56458917403495)\" x=\"0\" y=\"0\">8.86%</text></g></g><g class=\"slice cursor-pointer\"><path class=\"surface\" d=\"M338.42462738821644,405.5206659361932L460.4876923099666,405.5206659361932L460.4876923099666,457L338.42462738821644,457Z\" style=\"pointer-events: all; stroke-width: 1; fill: rgb(40, 125, 161); fill-opacity: 1; stroke: rgb(255, 255, 255); stroke-opacity: 1; opacity: 1;\"/><g class=\"slicetext\"><text class=\"slicetext\" data-notex=\"1\" style=\"font-family: 'Open Sans', verdana, arial, sans-serif; font-size: 12px; fill: rgb(255, 255, 255); fill-opacity: 1; white-space: pre;\" text-anchor=\"start\" transform=\"translate(341.42462738821644,420.5206659361932)\" x=\"0\" y=\"0\">5.99%</text></g></g><g class=\"slice cursor-pointer\"><path class=\"surface\" d=\"M475.4876923099666,280.56458917403495L567,280.56458917403495L567,333.7706724862822L475.4876923099666,333.7706724862822Z\" style=\"pointer-events: all; stroke-width: 1; fill: rgb(56, 122, 155); fill-opacity: 1; stroke: rgb(255, 255, 255); stroke-opacity: 1; opacity: 1;\"/><g class=\"slicetext\"><text class=\"slicetext\" data-notex=\"1\" style=\"font-family: 'Open Sans', verdana, arial, sans-serif; font-size: 12px; fill: rgb(255, 255, 255); fill-opacity: 1; white-space: pre;\" text-anchor=\"start\" transform=\"translate(478.4876923099666,295.56458917403495)\" x=\"0\" y=\"0\">4.75%</text></g></g><g class=\"slice cursor-pointer\"><path class=\"surface\" d=\"M475.4876923099666,366.7706724862822L567,366.7706724862822L567,408.72459334514144L475.4876923099666,408.72459334514144Z\" style=\"pointer-events: all; stroke-width: 1; fill: rgb(66, 121, 152); fill-opacity: 1; stroke: rgb(255, 255, 255); stroke-opacity: 1; opacity: 1;\"/><g class=\"slicetext\"><text class=\"slicetext\" data-notex=\"1\" style=\"font-family: 'Open Sans', verdana, arial, sans-serif; font-size: 12px; fill: rgb(255, 255, 255); fill-opacity: 1; white-space: pre;\" text-anchor=\"start\" transform=\"translate(478.4876923099666,381.7706724862822)\" x=\"0\" y=\"0\">4.13%</text></g></g><g class=\"slice cursor-pointer\"><path class=\"surface\" d=\"M475.4876923099666,441.72459334514144L566.9999999999999,441.72459334514144L566.9999999999999,457L475.4876923099666,457Z\" style=\"pointer-events: all; stroke-width: 1; fill: rgb(87, 117, 144); fill-opacity: 1; stroke: rgb(255, 255, 255); stroke-opacity: 1; opacity: 1;\"/><g class=\"slicetext\"><text class=\"slicetext\" data-notex=\"1\" style=\"font-family: 'Open Sans', verdana, arial, sans-serif; font-size: 12px; fill: rgb(255, 255, 255); fill-opacity: 1; white-space: pre;\" text-anchor=\"start\" transform=\"translate(478.4876923099666,452.40079195605887)scale(0.6396832175764522)\" x=\"0\" y=\"0\">2.66%</text></g></g></g></g><g class=\"sunburstlayer\"/><g class=\"glimages\"/><defs id=\"topdefs-741abb\"><g class=\"clips\"/></defs><g class=\"layer-above\"><g class=\"imagelayer\"/><g class=\"shapelayer\"/></g><g class=\"infolayer\"><g class=\"cbcoloraxis colorbar\" transform=\"translate(25,50)\"><rect class=\"cbbg\" height=\"425\" style=\"fill: rgb(0, 0, 0); fill-opacity: 0; stroke: rgb(68, 68, 68); stroke-opacity: 1; stroke-width: 0;\" width=\"92.21875\" x=\"571\" y=\"0\"/><g class=\"cbfills\" transform=\"translate(0,30)\"><rect class=\"cbfill\" height=\"386\" style=\"fill: url('#g741abb-cbcoloraxis');\" width=\"30\" x=\"581\" y=\"0\"/></g><g class=\"cblines\" transform=\"translate(0,30)\"/><g class=\"cbaxis crisp\" transform=\"translate(0,-50)\"><g class=\"ycbcoloraxistick\"><text style=\"font-family: 'Open Sans', verdana, arial, sans-serif; font-size: 12px; fill: rgb(42, 63, 95); fill-opacity: 1; white-space: pre;\" text-anchor=\"start\" transform=\"translate(0,439.63)\" x=\"613.9\" y=\"4.199999999999999\">50</text></g><g class=\"ycbcoloraxistick\"><text style=\"font-family: 'Open Sans', verdana, arial, sans-serif; font-size: 12px; fill: rgb(42, 63, 95); fill-opacity: 1; white-space: pre;\" text-anchor=\"start\" transform=\"translate(0,369.17)\" x=\"613.9\" y=\"4.199999999999999\">100</text></g><g class=\"ycbcoloraxistick\"><text style=\"font-family: 'Open Sans', verdana, arial, sans-serif; font-size: 12px; fill: rgb(42, 63, 95); fill-opacity: 1; white-space: pre;\" text-anchor=\"start\" transform=\"translate(0,298.7)\" x=\"613.9\" y=\"4.199999999999999\">150</text></g><g class=\"ycbcoloraxistick\"><text style=\"font-family: 'Open Sans', verdana, arial, sans-serif; font-size: 12px; fill: rgb(42, 63, 95); fill-opacity: 1; white-space: pre;\" text-anchor=\"start\" transform=\"translate(0,228.24)\" x=\"613.9\" y=\"4.199999999999999\">200</text></g><g class=\"ycbcoloraxistick\"><text style=\"font-family: 'Open Sans', verdana, arial, sans-serif; font-size: 12px; fill: rgb(42, 63, 95); fill-opacity: 1; white-space: pre;\" text-anchor=\"start\" transform=\"translate(0,157.77)\" x=\"613.9\" y=\"4.199999999999999\">250</text></g><g class=\"ycbcoloraxistick\"><text style=\"font-family: 'Open Sans', verdana, arial, sans-serif; font-size: 12px; fill: rgb(42, 63, 95); fill-opacity: 1; white-space: pre;\" text-anchor=\"start\" transform=\"translate(0,87.31000000000002)\" x=\"613.9\" y=\"4.199999999999999\">300</text></g></g><g class=\"cbtitleunshift\" transform=\"translate(-25,-50)\"><g class=\"cbtitle\" transform=\"\"><text class=\"ycbcoloraxistitle\" style=\"font-family: 'Open Sans', verdana, arial, sans-serif; font-size: 12px; fill: rgb(42, 63, 95); opacity: 1; font-weight: normal; white-space: pre;\" text-anchor=\"start\" x=\"606.1999999999999\" y=\"72.00000000000001\">month_sum</text></g></g><rect class=\"cboutline\" height=\"385.5\" style=\"stroke: rgb(68, 68, 68); stroke-opacity: 1; fill: none; stroke-width: 0;\" width=\"30\" x=\"581\" y=\"29.5\"/></g><g class=\"g-gtitle\"><text class=\"gtitle\" dy=\"0em\" style=\"font-family: 'Open Sans', verdana, arial, sans-serif; font-size: 17px; fill: rgb(42, 63, 95); opacity: 1; font-weight: normal; white-space: pre;\" text-anchor=\"start\" x=\"35\" y=\"25\">April Spending</text></g></g></svg>"
      ],
      "text/plain": [
       "<IPython.core.display.SVG object>"
      ]
     },
     "metadata": {},
     "output_type": "display_data"
    },
    {
     "data": {
      "image/svg+xml": [
       "<svg class=\"main-svg\" height=\"500\" style=\"\" viewBox=\"0 0 700 500\" width=\"700\" xmlns=\"http://www.w3.org/2000/svg\" xmlns:xlink=\"http://www.w3.org/1999/xlink\"><rect height=\"500\" style=\"fill: rgb(255, 255, 255); fill-opacity: 1;\" width=\"700\" x=\"0\" y=\"0\"/><defs id=\"defs-0cb4f3\"><g class=\"clips\"/><g class=\"gradients\"><linearGradient id=\"g0cb4f3-cbcoloraxis\" x1=\"0\" x2=\"0\" y1=\"1\" y2=\"0\"><stop offset=\"0%\" stop-color=\"rgb(87, 117, 144)\" stop-opacity=\"1\"/><stop offset=\"1.5873015873015872%\" stop-color=\"rgb(82, 118, 146)\" stop-opacity=\"1\"/><stop offset=\"3.1746031746031744%\" stop-color=\"rgb(76, 119, 148)\" stop-opacity=\"1\"/><stop offset=\"4.761904761904762%\" stop-color=\"rgb(71, 120, 150)\" stop-opacity=\"1\"/><stop offset=\"6.349206349206349%\" stop-color=\"rgb(66, 121, 152)\" stop-opacity=\"1\"/><stop offset=\"7.936507936507936%\" stop-color=\"rgb(60, 121, 153)\" stop-opacity=\"1\"/><stop offset=\"9.523809523809524%\" stop-color=\"rgb(55, 122, 155)\" stop-opacity=\"1\"/><stop offset=\"11.11111111111111%\" stop-color=\"rgb(50, 123, 157)\" stop-opacity=\"1\"/><stop offset=\"12.698412698412698%\" stop-color=\"rgb(44, 124, 159)\" stop-opacity=\"1\"/><stop offset=\"14.285714285714285%\" stop-color=\"rgb(39, 125, 161)\" stop-opacity=\"1\"/><stop offset=\"15.873015873015872%\" stop-color=\"rgb(43, 127, 159)\" stop-opacity=\"1\"/><stop offset=\"17.46031746031746%\" stop-color=\"rgb(47, 129, 157)\" stop-opacity=\"1\"/><stop offset=\"19.047619047619047%\" stop-color=\"rgb(52, 131, 155)\" stop-opacity=\"1\"/><stop offset=\"20.634920634920633%\" stop-color=\"rgb(56, 133, 153)\" stop-opacity=\"1\"/><stop offset=\"22.22222222222222%\" stop-color=\"rgb(60, 136, 150)\" stop-opacity=\"1\"/><stop offset=\"23.809523809523807%\" stop-color=\"rgb(64, 138, 148)\" stop-opacity=\"1\"/><stop offset=\"25.396825396825395%\" stop-color=\"rgb(69, 140, 146)\" stop-opacity=\"1\"/><stop offset=\"26.984126984126984%\" stop-color=\"rgb(73, 142, 144)\" stop-opacity=\"1\"/><stop offset=\"28.57142857142857%\" stop-color=\"rgb(77, 144, 142)\" stop-opacity=\"1\"/><stop offset=\"30.158730158730158%\" stop-color=\"rgb(76, 150, 141)\" stop-opacity=\"1\"/><stop offset=\"31.746031746031743%\" stop-color=\"rgb(75, 150, 141)\" stop-opacity=\"1\"/><stop offset=\"33.33333333333333%\" stop-color=\"rgb(74, 153, 141)\" stop-opacity=\"1\"/><stop offset=\"34.92063492063492%\" stop-color=\"rgb(73, 156, 141)\" stop-opacity=\"1\"/><stop offset=\"36.507936507936506%\" stop-color=\"rgb(71, 158, 140)\" stop-opacity=\"1\"/><stop offset=\"38.095238095238095%\" stop-color=\"rgb(69, 164, 140)\" stop-opacity=\"1\"/><stop offset=\"39.682539682539684%\" stop-color=\"rgb(68, 167, 139)\" stop-opacity=\"1\"/><stop offset=\"41.269841269841265%\" stop-color=\"rgb(67, 170, 139)\" stop-opacity=\"1\"/><stop offset=\"42.857142857142854%\" stop-color=\"rgb(76, 172, 136)\" stop-opacity=\"1\"/><stop offset=\"44.44444444444444%\" stop-color=\"rgb(84, 174, 132)\" stop-opacity=\"1\"/><stop offset=\"46.03174603174603%\" stop-color=\"rgb(85, 176, 130)\" stop-opacity=\"1\"/><stop offset=\"47.61904761904761%\" stop-color=\"rgb(101, 179, 126)\" stop-opacity=\"1\"/><stop offset=\"49.2063492063492%\" stop-color=\"rgb(110, 181, 122)\" stop-opacity=\"1\"/><stop offset=\"50.79365079365079%\" stop-color=\"rgb(118, 183, 119)\" stop-opacity=\"1\"/><stop offset=\"52.38095238095239%\" stop-color=\"rgb(127, 186, 116)\" stop-opacity=\"1\"/><stop offset=\"53.96825396825397%\" stop-color=\"rgb(135, 188, 112)\" stop-opacity=\"1\"/><stop offset=\"55.55555555555556%\" stop-color=\"rgb(136, 188, 112)\" stop-opacity=\"1\"/><stop offset=\"57.14285714285714%\" stop-color=\"rgb(144, 190, 109)\" stop-opacity=\"1\"/><stop offset=\"58.730158730158735%\" stop-color=\"rgb(156, 191, 106)\" stop-opacity=\"1\"/><stop offset=\"60.317460317460316%\" stop-color=\"rgb(167, 192, 102)\" stop-opacity=\"1\"/><stop offset=\"61.904761904761905%\" stop-color=\"rgb(179, 193, 99)\" stop-opacity=\"1\"/><stop offset=\"63.49206349206349%\" stop-color=\"rgb(191, 194, 96)\" stop-opacity=\"1\"/><stop offset=\"65.07936507936508%\" stop-color=\"rgb(202, 195, 92)\" stop-opacity=\"1\"/><stop offset=\"66.66666666666666%\" stop-color=\"rgb(214, 196, 89)\" stop-opacity=\"1\"/><stop offset=\"68.25396825396825%\" stop-color=\"rgb(226, 197, 86)\" stop-opacity=\"1\"/><stop offset=\"69.84126984126983%\" stop-color=\"rgb(237, 198, 82)\" stop-opacity=\"1\"/><stop offset=\"71.42857142857143%\" stop-color=\"rgb(249, 199, 79)\" stop-opacity=\"1\"/><stop offset=\"73.01587301587301%\" stop-color=\"rgb(249, 194, 74)\" stop-opacity=\"1\"/><stop offset=\"74.60317460317461%\" stop-color=\"rgb(249, 188, 68)\" stop-opacity=\"1\"/><stop offset=\"76.19047619047619%\" stop-color=\"rgb(249, 183, 63)\" stop-opacity=\"1\"/><stop offset=\"77.77777777777779%\" stop-color=\"rgb(249, 177, 57)\" stop-opacity=\"1\"/><stop offset=\"79.36507936507937%\" stop-color=\"rgb(248, 172, 52)\" stop-opacity=\"1\"/><stop offset=\"80.95238095238095%\" stop-color=\"rgb(248, 166, 46)\" stop-opacity=\"1\"/><stop offset=\"82.53968253968253%\" stop-color=\"rgb(248, 161, 41)\" stop-opacity=\"1\"/><stop offset=\"84.12698412698413%\" stop-color=\"rgb(248, 155, 35)\" stop-opacity=\"1\"/><stop offset=\"85.71428571428571%\" stop-color=\"rgb(248, 150, 30)\" stop-opacity=\"1\"/><stop offset=\"87.3015873015873%\" stop-color=\"rgb(248, 141, 34)\" stop-opacity=\"1\"/><stop offset=\"88.88888888888889%\" stop-color=\"rgb(248, 131, 38)\" stop-opacity=\"1\"/><stop offset=\"90.47619047619048%\" stop-color=\"rgb(248, 122, 43)\" stop-opacity=\"1\"/><stop offset=\"92.06349206349206%\" stop-color=\"rgb(248, 112, 47)\" stop-opacity=\"1\"/><stop offset=\"93.65079365079364%\" stop-color=\"rgb(249, 103, 51)\" stop-opacity=\"1\"/><stop offset=\"95.23809523809523%\" stop-color=\"rgb(249, 93, 55)\" stop-opacity=\"1\"/><stop offset=\"96.82539682539682%\" stop-color=\"rgb(249, 84, 60)\" stop-opacity=\"1\"/><stop offset=\"98.4126984126984%\" stop-color=\"rgb(249, 74, 64)\" stop-opacity=\"1\"/><stop offset=\"100%\" stop-color=\"rgb(249, 65, 68)\" stop-opacity=\"1\"/></linearGradient></g></defs><g class=\"bglayer\"/><g class=\"layer-below\"><g class=\"imagelayer\"/><g class=\"shapelayer\"/></g><g class=\"cartesianlayer\"/><g class=\"polarlayer\"/><g class=\"ternarylayer\"/><g class=\"geolayer\"/><g class=\"funnelarealayer\"/><g class=\"pielayer\"/><g class=\"treemaplayer\"><g class=\"trace treemap\" style=\"opacity: 1;\"><g class=\"slice cursor-pointer\"><path class=\"surface\" d=\"M25,50L585,50L585,475L25,475Z\" style=\"pointer-events: all; stroke-width: 1; fill: rgb(68, 68, 68); fill-opacity: 1; stroke: rgb(255, 255, 255); stroke-opacity: 1; opacity: 1;\"/><g class=\"slicetext\"><text class=\"slicetext\" data-notex=\"1\" style=\"font-family: 'Open Sans', verdana, arial, sans-serif; font-size: 12px; fill: rgb(255, 255, 255); fill-opacity: 1; white-space: pre;\" text-anchor=\"start\" transform=\"translate(31,65)\" x=\"0\" y=\"0\"> </text></g></g><g class=\"slice cursor-pointer\"><path class=\"surface\" d=\"M31,74L550.5900069811509,74L550.5900069811509,469.00000000000006L31,469.00000000000006Z\" style=\"pointer-events: all; stroke-width: 1; fill: rgb(129, 186, 115); fill-opacity: 1; stroke: rgb(255, 255, 255); stroke-opacity: 1; opacity: 1;\"/><g class=\"slicetext\"><text class=\"slicetext\" data-notex=\"1\" style=\"font-family: 'Open Sans', verdana, arial, sans-serif; font-size: 12px; fill: rgb(68, 68, 68); fill-opacity: 1; white-space: pre;\" text-anchor=\"start\" transform=\"translate(37,89)\" x=\"0\" y=\"0\">Non-Essential</text></g></g><g class=\"slice cursor-pointer\"><path class=\"surface\" d=\"M553.5900069811509,74L579,74L579,468.99999999999983L553.5900069811509,468.99999999999983Z\" style=\"pointer-events: all; stroke-width: 1; fill: rgb(87, 117, 144); fill-opacity: 1; stroke: rgb(255, 255, 255); stroke-opacity: 1; opacity: 1;\"/><g class=\"slicetext\"><text class=\"slicetext\" data-notex=\"1\" style=\"font-family: 'Open Sans', verdana, arial, sans-serif; font-size: 12px; fill: rgb(255, 255, 255); fill-opacity: 1; white-space: pre;\" text-anchor=\"start\" transform=\"translate(559.5900069811509,80.01577588242347)scale(0.2513146568686224)\" x=\"0\" y=\"0\">Essential</text></g></g><g class=\"slice cursor-pointer\"><path class=\"surface\" d=\"M37,98L544.590006981151,98L544.590006981151,463.00000000000006L37,463.00000000000006Z\" style=\"pointer-events: all; stroke-width: 1; fill: rgb(129, 186, 115); fill-opacity: 1; stroke: rgb(255, 255, 255); stroke-opacity: 1; opacity: 1;\"/><g class=\"slicetext\"><text class=\"slicetext\" data-notex=\"1\" style=\"font-family: 'Open Sans', verdana, arial, sans-serif; font-size: 12px; fill: rgb(68, 68, 68); fill-opacity: 1; white-space: pre;\" text-anchor=\"start\" transform=\"translate(43,113)\" x=\"0\" y=\"0\">fast_food</text></g></g><g class=\"slice cursor-pointer\"><path class=\"surface\" d=\"M559.5900069811509,98L573,98L573,462.99999999999983L559.5900069811509,462.99999999999983Z\" style=\"pointer-events: all; stroke-width: 1; fill: rgb(87, 117, 144); fill-opacity: 1; stroke: rgb(255, 255, 255); stroke-opacity: 1; opacity: 1;\"/><g class=\"slicetext\"><text class=\"slicetext\" data-notex=\"1\" style=\"font-family: 'Open Sans', verdana, arial, sans-serif; font-size: 12px; fill: rgb(255, 255, 255); fill-opacity: 1; white-space: pre;\" text-anchor=\"start\" transform=\"translate(565.5900069811509,101.3650959671194)scale(0.030424663926616854)\" x=\"0\" y=\"0\">medical</text></g></g><g class=\"slice cursor-pointer\"><path class=\"surface\" d=\"M43,122L538.590006981151,122L538.590006981151,457.00000000000006L43,457.00000000000006Z\" style=\"pointer-events: all; stroke-width: 1; fill: rgb(129, 186, 115); fill-opacity: 1; stroke: rgb(255, 255, 255); stroke-opacity: 1; opacity: 1;\"/><g class=\"slicetext\"><text class=\"slicetext\" data-notex=\"1\" style=\"font-family: 'Open Sans', verdana, arial, sans-serif; font-size: 12px; fill: rgb(68, 68, 68); fill-opacity: 1; white-space: pre;\" text-anchor=\"start\" transform=\"translate(46,137)\" x=\"0\" y=\"0\">95.1%</text></g></g><g class=\"slice cursor-pointer\"><path class=\"surface\" d=\"M565.5900069811509,122L567,122L567,456.99999999999983L565.5900069811509,456.99999999999983Z\" style=\"pointer-events: all; stroke-width: 1; fill: rgb(87, 117, 144); fill-opacity: 1; stroke: rgb(255, 255, 255); stroke-opacity: 1; opacity: 1;\"/><g class=\"slicetext\"><text class=\"slicetext\" data-notex=\"1\" style=\"font-family: 'Open Sans', verdana, arial, sans-serif; font-size: 12px; fill: rgb(255, 255, 255); fill-opacity: 1; white-space: pre;\" text-anchor=\"start\" transform=\"translate(568.5900069811509,122.42118811298178)scale(0.035099009415148034)\" x=\"0\" y=\"0\">5.17%</text></g></g></g></g><g class=\"sunburstlayer\"/><g class=\"glimages\"/><defs id=\"topdefs-0cb4f3\"><g class=\"clips\"/></defs><g class=\"layer-above\"><g class=\"imagelayer\"/><g class=\"shapelayer\"/></g><g class=\"infolayer\"><g class=\"cbcoloraxis colorbar\" transform=\"translate(25,50)\"><rect class=\"cbbg\" height=\"425\" style=\"fill: rgb(0, 0, 0); fill-opacity: 0; stroke: rgb(68, 68, 68); stroke-opacity: 1; stroke-width: 0;\" width=\"92.21875\" x=\"571\" y=\"0\"/><g class=\"cbfills\" transform=\"translate(0,30)\"><rect class=\"cbfill\" height=\"386\" style=\"fill: url('#g0cb4f3-cbcoloraxis');\" width=\"30\" x=\"581\" y=\"0\"/></g><g class=\"cblines\" transform=\"translate(0,30)\"/><g class=\"cbaxis crisp\" transform=\"translate(0,-50)\"><g class=\"ycbcoloraxistick\"><text style=\"font-family: 'Open Sans', verdana, arial, sans-serif; font-size: 12px; fill: rgb(42, 63, 95); fill-opacity: 1; white-space: pre;\" text-anchor=\"start\" transform=\"translate(0,397.26)\" x=\"613.9\" y=\"4.199999999999999\">50</text></g><g class=\"ycbcoloraxistick\"><text style=\"font-family: 'Open Sans', verdana, arial, sans-serif; font-size: 12px; fill: rgb(42, 63, 95); fill-opacity: 1; white-space: pre;\" text-anchor=\"start\" transform=\"translate(0,318.49)\" x=\"613.9\" y=\"4.199999999999999\">100</text></g><g class=\"ycbcoloraxistick\"><text style=\"font-family: 'Open Sans', verdana, arial, sans-serif; font-size: 12px; fill: rgb(42, 63, 95); fill-opacity: 1; white-space: pre;\" text-anchor=\"start\" transform=\"translate(0,239.72000000000003)\" x=\"613.9\" y=\"4.199999999999999\">150</text></g><g class=\"ycbcoloraxistick\"><text style=\"font-family: 'Open Sans', verdana, arial, sans-serif; font-size: 12px; fill: rgb(42, 63, 95); fill-opacity: 1; white-space: pre;\" text-anchor=\"start\" transform=\"translate(0,160.94)\" x=\"613.9\" y=\"4.199999999999999\">200</text></g><g class=\"ycbcoloraxistick\"><text style=\"font-family: 'Open Sans', verdana, arial, sans-serif; font-size: 12px; fill: rgb(42, 63, 95); fill-opacity: 1; white-space: pre;\" text-anchor=\"start\" transform=\"translate(0,82.17000000000002)\" x=\"613.9\" y=\"4.199999999999999\">250</text></g></g><g class=\"cbtitleunshift\" transform=\"translate(-25,-50)\"><g class=\"cbtitle\" transform=\"\"><text class=\"ycbcoloraxistitle\" style=\"font-family: 'Open Sans', verdana, arial, sans-serif; font-size: 12px; fill: rgb(42, 63, 95); opacity: 1; font-weight: normal; white-space: pre;\" text-anchor=\"start\" x=\"606.1999999999999\" y=\"72.00000000000001\">month_sum</text></g></g><rect class=\"cboutline\" height=\"385.5\" style=\"stroke: rgb(68, 68, 68); stroke-opacity: 1; fill: none; stroke-width: 0;\" width=\"30\" x=\"581\" y=\"29.5\"/></g><g class=\"g-gtitle\"><text class=\"gtitle\" dy=\"0em\" style=\"font-family: 'Open Sans', verdana, arial, sans-serif; font-size: 17px; fill: rgb(42, 63, 95); opacity: 1; font-weight: normal; white-space: pre;\" text-anchor=\"start\" x=\"35\" y=\"25\">May Spending</text></g></g></svg>"
      ],
      "text/plain": [
       "<IPython.core.display.SVG object>"
      ]
     },
     "metadata": {},
     "output_type": "display_data"
    }
   ],
   "source": [
    "for i in months:\n",
    "    show_svg(i)"
   ]
  },
  {
   "cell_type": "code",
   "execution_count": null,
   "id": "6bb6c84d",
   "metadata": {},
   "outputs": [],
   "source": []
  }
 ],
 "metadata": {
  "kernelspec": {
   "display_name": "Python 3 (ipykernel)",
   "language": "python",
   "name": "python3"
  },
  "language_info": {
   "codemirror_mode": {
    "name": "ipython",
    "version": 3
   },
   "file_extension": ".py",
   "mimetype": "text/x-python",
   "name": "python",
   "nbconvert_exporter": "python",
   "pygments_lexer": "ipython3",
   "version": "3.7.7"
  }
 },
 "nbformat": 4,
 "nbformat_minor": 5
}
