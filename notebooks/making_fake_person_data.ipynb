{
 "cells": [
  {
   "cell_type": "code",
   "execution_count": 1,
   "id": "f0a879bd",
   "metadata": {},
   "outputs": [],
   "source": [
    "import pandas as pd\n",
    "import datetime\n",
    "import random"
   ]
  },
  {
   "cell_type": "markdown",
   "id": "974e2a8b",
   "metadata": {},
   "source": [
    "# Generating Seed Data\n",
    "---\n",
    "- Making selected identifiers and transactions for sample data"
   ]
  },
  {
   "cell_type": "code",
   "execution_count": 2,
   "id": "1d6ebb69",
   "metadata": {},
   "outputs": [],
   "source": [
    "transaction_dict = {\n",
    "    'gas':['QuikTrip 0000 00000000 ATLANTA GA',\n",
    "       'SHELL OIL 00000000000 EAST POINT GA',\n",
    "       'EXXON 000000-00 ATLANTA, GA'],\n",
    "    \n",
    "'groceries' : ['KROGER #000 STONE MOUNTAIN GA',\n",
    "            'PUBLIX SUPERMAR #0000 DECATOR, GA',\n",
    "            'WHOLE FOODS 000000 ATLANTA, GA',\n",
    "            'COSTCO 000 000000000000 DULUTH, GA'],\n",
    "\n",
    "'grooming' : ['CRAFTED HAIR SALON JUo000 LAWRENCEVILLE GA',\n",
    "           'BATH AND BODY WORKS 0000 LAWRENCEVILLE GA'],\n",
    "\n",
    "'homeimprov':['LOWES #00000* BUFORD GA',\n",
    "             'TRACTOR SUPPLY CO #0000 GRAYSON GA',\n",
    "             'THE HOME DEPOT #0000 NORCROSS GA'],\n",
    "\n",
    "'medical' : ['CVS/PHARMACY #0000 SUWANEE GA', \n",
    "          'WALGREENS #00000 WINDER GA',\n",
    "          'DRROBERTPARK OPTOMETRIST & ASSoc SNELLVILLE, GA',\n",
    "          'GREATER ATLANTA PEDIATRICS STONEMOUNTAIN GA',\n",
    "          'EMORYUNV HOSPITAL 78979879 ATLANTA GA',\n",
    "             'ATLANTA GYO&OB *0000000 DECATUR GA '],\n",
    "\n",
    "'conveyance' :['E ZPASS MD CSC0000000 000-0000000 MD',\n",
    "              'AUTOZONE 0000 STONEMOUNTAIN GA',\n",
    "              'ADVANCE AUTO PARTS #0000 LITHONIA GA',\n",
    "             'EXPRESSOILCHANGE 00*0000000-0 SNELLVILLE, GA',\n",
    "             'NORTHERN TOOL 00 000000 000 SNELLVILLE, GA'],\n",
    "\n",
    "'takeaway': ['PANERA BREAD #000000 P ATLANTA GA', \n",
    "        'CHICK-FIL-A #00000 TUCKER GA',\n",
    "        \"WENDY'S LOGAN LOGANVILLE GA\",\n",
    "        'BOJANGLES 0000 DULUTH GA',\n",
    "        'COOK OUT LITHONIA GA 0 LITHONIA GA',\n",
    "        'TROPICAL SMOOTHIE CAFE GA DECATUR GA',\n",
    "        'HARDEES 0000 LILBURN GA',\n",
    "        'PANDA EXPRESS 00000H TUCKER GA',\n",
    "        'KFC G00000 DECATUR GA',\n",
    "        'Subway 00000 Lithonia GA',\n",
    "        'STARBUCKS STORE 0000 ATLANTA GA'],\n",
    "\n",
    "'utility' :['COX INTERNET 1233456 GA',\n",
    "           'VZWRLSS*APOCC VISW 000-000-0000 FL',\n",
    "          'T-MOBILE 0000 00000 00000 ATLANTA GA',\n",
    "          'GEORGIAPOWERCO 000000 ATLANTA GA',\n",
    "          'CITYOFDECATUR PUBLIC WORKS 0000000 GA'],\n",
    "\n",
    "'clothing' : ['ROSS STORES # 0000 TUCKER GA',\n",
    "           'BATH AND BODY WORKS 0000 STONECREST GA',\n",
    "           'WAL-MART #0000 STONEMOUNTAIN GA',\n",
    "           \"KOHL'S #0000 SNELLVILLE GA\",\n",
    "           'TARGET 00000000 TUCKER GA',\n",
    "           'WM SUPERCENTER #0000 CHAMBLEE GA'],\n",
    "\n",
    "'holiday' : [\n",
    "    'AMERICAN AIR 00-00000000000 MINNEAPOLIS, MN',\n",
    "    'EXPEDIA 00000000000000 EXPEDIA.COM WA',\n",
    "    'UNITED 000000000000 000-000-0000 TX'\n",
    "    'SANDALSOCHI JAMAICA *008900088899 JAMAICA'],\n",
    "\n",
    "'streaming' : ['Disney PLUS Burbank CA',\n",
    "             'AMZN Mktp US*0A0000000 Amzn.com/bill WA',\n",
    "             'APPLE.COM/BILL 000-000-0000 CA'],\n",
    "\n",
    "'work': ['PAYPAL *LINKEDIN 000-000-0000 CA',\n",
    "       'OFFICEMAX/DEPOT 0000 peachtree corners GA',\n",
    "        'BEST BUY 000000 TUCKER GA'],\n",
    "  \n",
    "'gift':['Etsy.com - leatherwork00 000-0000000 NY', \n",
    "      'SHUTTERFLY, INC. 000-000000000 CA',\n",
    "     'PeachTree FLOWERS 0000000 ATLANTA, GA'],\n",
    "\n",
    "'baby': ['buybuy BABY 000000 Snellville Ga',\n",
    "       'POTTERYBARN KIDS 000 000000 ATL GA',\n",
    "       'CARTERS KIDS 00 00 00000 LAWERENCEVILLE GA',\n",
    "       'BABYGAP 0-0000-000 Atlanta GA'],\n",
    "\n",
    "'wedding' : ['TIFFANY&CO *90-000009- ATLANTA GA',\n",
    "          'helzbergDiamonds 70000-000 ATLANTA GA',\n",
    "          'BrianneMcMullan Events llc *999*9999****** GA',\n",
    "          'ATLBOTANICALGAR ATLANTA GA',\n",
    "          'the White Magnolia Bridal ATLANTA GA',\n",
    "          'RACHMAKESCAKES ATL GA'],\n",
    "\n",
    "'furniture':['IKEACO 88888888888 ATLANTA GA',\n",
    "           'BEDBATHBEYOND 898098098 snellville, GA',\n",
    "            'ASHLEY FURNITURE 8****9999 ATHENS GA']}"
   ]
  },
  {
   "cell_type": "markdown",
   "id": "1b8ef7d7",
   "metadata": {},
   "source": [
    "# Putting Dict into a DF\n",
    "---"
   ]
  },
  {
   "cell_type": "code",
   "execution_count": 3,
   "id": "58bce29d",
   "metadata": {},
   "outputs": [],
   "source": [
    "temp_df = pd.DataFrame()\n",
    "for key, value in transaction_dict.items():\n",
    "    temp_df[key] = pd.Series(value)"
   ]
  },
  {
   "cell_type": "code",
   "execution_count": 4,
   "id": "01e0e9b9",
   "metadata": {},
   "outputs": [
    {
     "data": {
      "text/html": [
       "<div>\n",
       "<style scoped>\n",
       "    .dataframe tbody tr th:only-of-type {\n",
       "        vertical-align: middle;\n",
       "    }\n",
       "\n",
       "    .dataframe tbody tr th {\n",
       "        vertical-align: top;\n",
       "    }\n",
       "\n",
       "    .dataframe thead th {\n",
       "        text-align: right;\n",
       "    }\n",
       "</style>\n",
       "<table border=\"1\" class=\"dataframe\">\n",
       "  <thead>\n",
       "    <tr style=\"text-align: right;\">\n",
       "      <th></th>\n",
       "      <th>gas</th>\n",
       "      <th>groceries</th>\n",
       "      <th>grooming</th>\n",
       "      <th>homeimprov</th>\n",
       "      <th>medical</th>\n",
       "      <th>conveyance</th>\n",
       "      <th>takeaway</th>\n",
       "      <th>utility</th>\n",
       "      <th>clothing</th>\n",
       "      <th>holiday</th>\n",
       "      <th>streaming</th>\n",
       "      <th>work</th>\n",
       "      <th>gift</th>\n",
       "      <th>baby</th>\n",
       "      <th>wedding</th>\n",
       "      <th>furniture</th>\n",
       "    </tr>\n",
       "  </thead>\n",
       "  <tbody>\n",
       "    <tr>\n",
       "      <th>0</th>\n",
       "      <td>QuikTrip 0000 00000000 ATLANTA GA</td>\n",
       "      <td>KROGER #000 STONE MOUNTAIN GA</td>\n",
       "      <td>CRAFTED HAIR SALON JUo000 LAWRENCEVILLE GA</td>\n",
       "      <td>LOWES #00000* BUFORD GA</td>\n",
       "      <td>CVS/PHARMACY #0000 SUWANEE GA</td>\n",
       "      <td>E ZPASS MD CSC0000000 000-0000000 MD</td>\n",
       "      <td>PANERA BREAD #000000 P ATLANTA GA</td>\n",
       "      <td>COX INTERNET 1233456 GA</td>\n",
       "      <td>ROSS STORES # 0000 TUCKER GA</td>\n",
       "      <td>AMERICAN AIR 00-00000000000 MINNEAPOLIS, MN</td>\n",
       "      <td>Disney PLUS Burbank CA</td>\n",
       "      <td>PAYPAL *LINKEDIN 000-000-0000 CA</td>\n",
       "      <td>Etsy.com - leatherwork00 000-0000000 NY</td>\n",
       "      <td>buybuy BABY 000000 Snellville Ga</td>\n",
       "      <td>TIFFANY&amp;CO *90-000009- ATLANTA GA</td>\n",
       "      <td>IKEACO 88888888888 ATLANTA GA</td>\n",
       "    </tr>\n",
       "    <tr>\n",
       "      <th>1</th>\n",
       "      <td>SHELL OIL 00000000000 EAST POINT GA</td>\n",
       "      <td>PUBLIX SUPERMAR #0000 DECATOR, GA</td>\n",
       "      <td>BATH AND BODY WORKS 0000 LAWRENCEVILLE GA</td>\n",
       "      <td>TRACTOR SUPPLY CO #0000 GRAYSON GA</td>\n",
       "      <td>WALGREENS #00000 WINDER GA</td>\n",
       "      <td>AUTOZONE 0000 STONEMOUNTAIN GA</td>\n",
       "      <td>CHICK-FIL-A #00000 TUCKER GA</td>\n",
       "      <td>VZWRLSS*APOCC VISW 000-000-0000 FL</td>\n",
       "      <td>BATH AND BODY WORKS 0000 STONECREST GA</td>\n",
       "      <td>EXPEDIA 00000000000000 EXPEDIA.COM WA</td>\n",
       "      <td>AMZN Mktp US*0A0000000 Amzn.com/bill WA</td>\n",
       "      <td>OFFICEMAX/DEPOT 0000 peachtree corners GA</td>\n",
       "      <td>SHUTTERFLY, INC. 000-000000000 CA</td>\n",
       "      <td>POTTERYBARN KIDS 000 000000 ATL GA</td>\n",
       "      <td>helzbergDiamonds 70000-000 ATLANTA GA</td>\n",
       "      <td>BEDBATHBEYOND 898098098 snellville, GA</td>\n",
       "    </tr>\n",
       "    <tr>\n",
       "      <th>2</th>\n",
       "      <td>EXXON 000000-00 ATLANTA, GA</td>\n",
       "      <td>WHOLE FOODS 000000 ATLANTA, GA</td>\n",
       "      <td>NaN</td>\n",
       "      <td>THE HOME DEPOT #0000 NORCROSS GA</td>\n",
       "      <td>DRROBERTPARK OPTOMETRIST &amp; ASSoc SNELLVILLE, GA</td>\n",
       "      <td>ADVANCE AUTO PARTS #0000 LITHONIA GA</td>\n",
       "      <td>WENDY'S LOGAN LOGANVILLE GA</td>\n",
       "      <td>T-MOBILE 0000 00000 00000 ATLANTA GA</td>\n",
       "      <td>WAL-MART #0000 STONEMOUNTAIN GA</td>\n",
       "      <td>UNITED 000000000000 000-000-0000 TXSANDALSOCHI...</td>\n",
       "      <td>APPLE.COM/BILL 000-000-0000 CA</td>\n",
       "      <td>BEST BUY 000000 TUCKER GA</td>\n",
       "      <td>PeachTree FLOWERS 0000000 ATLANTA, GA</td>\n",
       "      <td>CARTERS KIDS 00 00 00000 LAWERENCEVILLE GA</td>\n",
       "      <td>BrianneMcMullan Events llc *999*9999****** GA</td>\n",
       "      <td>ASHLEY FURNITURE 8****9999 ATHENS GA</td>\n",
       "    </tr>\n",
       "  </tbody>\n",
       "</table>\n",
       "</div>"
      ],
      "text/plain": [
       "                                   gas                          groceries  \\\n",
       "0    QuikTrip 0000 00000000 ATLANTA GA      KROGER #000 STONE MOUNTAIN GA   \n",
       "1  SHELL OIL 00000000000 EAST POINT GA  PUBLIX SUPERMAR #0000 DECATOR, GA   \n",
       "2          EXXON 000000-00 ATLANTA, GA     WHOLE FOODS 000000 ATLANTA, GA   \n",
       "\n",
       "                                     grooming  \\\n",
       "0  CRAFTED HAIR SALON JUo000 LAWRENCEVILLE GA   \n",
       "1   BATH AND BODY WORKS 0000 LAWRENCEVILLE GA   \n",
       "2                                         NaN   \n",
       "\n",
       "                           homeimprov  \\\n",
       "0             LOWES #00000* BUFORD GA   \n",
       "1  TRACTOR SUPPLY CO #0000 GRAYSON GA   \n",
       "2    THE HOME DEPOT #0000 NORCROSS GA   \n",
       "\n",
       "                                           medical  \\\n",
       "0                    CVS/PHARMACY #0000 SUWANEE GA   \n",
       "1                       WALGREENS #00000 WINDER GA   \n",
       "2  DRROBERTPARK OPTOMETRIST & ASSoc SNELLVILLE, GA   \n",
       "\n",
       "                             conveyance                           takeaway  \\\n",
       "0  E ZPASS MD CSC0000000 000-0000000 MD  PANERA BREAD #000000 P ATLANTA GA   \n",
       "1        AUTOZONE 0000 STONEMOUNTAIN GA       CHICK-FIL-A #00000 TUCKER GA   \n",
       "2  ADVANCE AUTO PARTS #0000 LITHONIA GA        WENDY'S LOGAN LOGANVILLE GA   \n",
       "\n",
       "                                utility  \\\n",
       "0               COX INTERNET 1233456 GA   \n",
       "1    VZWRLSS*APOCC VISW 000-000-0000 FL   \n",
       "2  T-MOBILE 0000 00000 00000 ATLANTA GA   \n",
       "\n",
       "                                 clothing  \\\n",
       "0            ROSS STORES # 0000 TUCKER GA   \n",
       "1  BATH AND BODY WORKS 0000 STONECREST GA   \n",
       "2         WAL-MART #0000 STONEMOUNTAIN GA   \n",
       "\n",
       "                                             holiday  \\\n",
       "0        AMERICAN AIR 00-00000000000 MINNEAPOLIS, MN   \n",
       "1              EXPEDIA 00000000000000 EXPEDIA.COM WA   \n",
       "2  UNITED 000000000000 000-000-0000 TXSANDALSOCHI...   \n",
       "\n",
       "                                 streaming  \\\n",
       "0                   Disney PLUS Burbank CA   \n",
       "1  AMZN Mktp US*0A0000000 Amzn.com/bill WA   \n",
       "2           APPLE.COM/BILL 000-000-0000 CA   \n",
       "\n",
       "                                        work  \\\n",
       "0           PAYPAL *LINKEDIN 000-000-0000 CA   \n",
       "1  OFFICEMAX/DEPOT 0000 peachtree corners GA   \n",
       "2                  BEST BUY 000000 TUCKER GA   \n",
       "\n",
       "                                      gift  \\\n",
       "0  Etsy.com - leatherwork00 000-0000000 NY   \n",
       "1        SHUTTERFLY, INC. 000-000000000 CA   \n",
       "2    PeachTree FLOWERS 0000000 ATLANTA, GA   \n",
       "\n",
       "                                         baby  \\\n",
       "0            buybuy BABY 000000 Snellville Ga   \n",
       "1          POTTERYBARN KIDS 000 000000 ATL GA   \n",
       "2  CARTERS KIDS 00 00 00000 LAWERENCEVILLE GA   \n",
       "\n",
       "                                         wedding  \\\n",
       "0              TIFFANY&CO *90-000009- ATLANTA GA   \n",
       "1          helzbergDiamonds 70000-000 ATLANTA GA   \n",
       "2  BrianneMcMullan Events llc *999*9999****** GA   \n",
       "\n",
       "                                furniture  \n",
       "0           IKEACO 88888888888 ATLANTA GA  \n",
       "1  BEDBATHBEYOND 898098098 snellville, GA  \n",
       "2    ASHLEY FURNITURE 8****9999 ATHENS GA  "
      ]
     },
     "execution_count": 4,
     "metadata": {},
     "output_type": "execute_result"
    }
   ],
   "source": [
    "temp_df.head()"
   ]
  },
  {
   "cell_type": "markdown",
   "id": "5c016f17",
   "metadata": {},
   "source": [
    "# Flipping DF\n",
    "---"
   ]
  },
  {
   "cell_type": "code",
   "execution_count": 5,
   "id": "8857975d",
   "metadata": {},
   "outputs": [
    {
     "data": {
      "text/html": [
       "<div>\n",
       "<style scoped>\n",
       "    .dataframe tbody tr th:only-of-type {\n",
       "        vertical-align: middle;\n",
       "    }\n",
       "\n",
       "    .dataframe tbody tr th {\n",
       "        vertical-align: top;\n",
       "    }\n",
       "\n",
       "    .dataframe thead th {\n",
       "        text-align: right;\n",
       "    }\n",
       "</style>\n",
       "<table border=\"1\" class=\"dataframe\">\n",
       "  <thead>\n",
       "    <tr style=\"text-align: right;\">\n",
       "      <th></th>\n",
       "      <th>identifier</th>\n",
       "      <th>transaction</th>\n",
       "    </tr>\n",
       "  </thead>\n",
       "  <tbody>\n",
       "    <tr>\n",
       "      <th>0</th>\n",
       "      <td>gas</td>\n",
       "      <td>QuikTrip 0000 00000000 ATLANTA GA</td>\n",
       "    </tr>\n",
       "    <tr>\n",
       "      <th>1</th>\n",
       "      <td>groceries</td>\n",
       "      <td>KROGER #000 STONE MOUNTAIN GA</td>\n",
       "    </tr>\n",
       "    <tr>\n",
       "      <th>2</th>\n",
       "      <td>grooming</td>\n",
       "      <td>CRAFTED HAIR SALON JUo000 LAWRENCEVILLE GA</td>\n",
       "    </tr>\n",
       "    <tr>\n",
       "      <th>3</th>\n",
       "      <td>homeimprov</td>\n",
       "      <td>LOWES #00000* BUFORD GA</td>\n",
       "    </tr>\n",
       "    <tr>\n",
       "      <th>4</th>\n",
       "      <td>medical</td>\n",
       "      <td>CVS/PHARMACY #0000 SUWANEE GA</td>\n",
       "    </tr>\n",
       "  </tbody>\n",
       "</table>\n",
       "</div>"
      ],
      "text/plain": [
       "   identifier                                 transaction\n",
       "0         gas           QuikTrip 0000 00000000 ATLANTA GA\n",
       "1   groceries               KROGER #000 STONE MOUNTAIN GA\n",
       "2    grooming  CRAFTED HAIR SALON JUo000 LAWRENCEVILLE GA\n",
       "3  homeimprov                     LOWES #00000* BUFORD GA\n",
       "4     medical               CVS/PHARMACY #0000 SUWANEE GA"
      ]
     },
     "execution_count": 5,
     "metadata": {},
     "output_type": "execute_result"
    }
   ],
   "source": [
    "temp_df.columns = temp_df.columns.str.split(\"_\", expand =True)\n",
    "temp_df = temp_df.stack(level=0).rename_axis((None, 'identifier')).reset_index('identifier').reset_index(drop=True)\n",
    "temp_df = temp_df.rename(columns={temp_df.columns[1]: 'transaction'})\n",
    "temp_df.head()"
   ]
  },
  {
   "cell_type": "markdown",
   "id": "8ce75936",
   "metadata": {},
   "source": [
    "# Adding Random Dates\n",
    "---"
   ]
  },
  {
   "cell_type": "code",
   "execution_count": 6,
   "id": "95e3e0ed",
   "metadata": {},
   "outputs": [],
   "source": [
    "def generate_ran_date(year, month, first_day, end_day):\n",
    "    start = datetime.date(year, month, first_day)\n",
    "    end = datetime.date(year, month, end_day)\n",
    "    time_btw = end - start\n",
    "    days_btw = time_btw.days\n",
    "    rand_num = random.randrange(days_btw)\n",
    "    rand_date = start + datetime.timedelta(days=rand_num)\n",
    "    return rand_date"
   ]
  },
  {
   "cell_type": "code",
   "execution_count": 7,
   "id": "aa3e4998",
   "metadata": {},
   "outputs": [],
   "source": [
    "dates = []\n",
    "for i in range(len(temp_df)):\n",
    "    dates.append(generate_ran_date(2018, 1, 1, 31))\n",
    "temp_df['date'] = dates"
   ]
  },
  {
   "cell_type": "code",
   "execution_count": 8,
   "id": "a88b01c8",
   "metadata": {},
   "outputs": [
    {
     "data": {
      "text/html": [
       "<div>\n",
       "<style scoped>\n",
       "    .dataframe tbody tr th:only-of-type {\n",
       "        vertical-align: middle;\n",
       "    }\n",
       "\n",
       "    .dataframe tbody tr th {\n",
       "        vertical-align: top;\n",
       "    }\n",
       "\n",
       "    .dataframe thead th {\n",
       "        text-align: right;\n",
       "    }\n",
       "</style>\n",
       "<table border=\"1\" class=\"dataframe\">\n",
       "  <thead>\n",
       "    <tr style=\"text-align: right;\">\n",
       "      <th></th>\n",
       "      <th>identifier</th>\n",
       "      <th>transaction</th>\n",
       "      <th>date</th>\n",
       "    </tr>\n",
       "  </thead>\n",
       "  <tbody>\n",
       "    <tr>\n",
       "      <th>0</th>\n",
       "      <td>gas</td>\n",
       "      <td>QuikTrip 0000 00000000 ATLANTA GA</td>\n",
       "      <td>2018-01-11</td>\n",
       "    </tr>\n",
       "    <tr>\n",
       "      <th>1</th>\n",
       "      <td>groceries</td>\n",
       "      <td>KROGER #000 STONE MOUNTAIN GA</td>\n",
       "      <td>2018-01-29</td>\n",
       "    </tr>\n",
       "    <tr>\n",
       "      <th>2</th>\n",
       "      <td>grooming</td>\n",
       "      <td>CRAFTED HAIR SALON JUo000 LAWRENCEVILLE GA</td>\n",
       "      <td>2018-01-20</td>\n",
       "    </tr>\n",
       "    <tr>\n",
       "      <th>3</th>\n",
       "      <td>homeimprov</td>\n",
       "      <td>LOWES #00000* BUFORD GA</td>\n",
       "      <td>2018-01-17</td>\n",
       "    </tr>\n",
       "    <tr>\n",
       "      <th>4</th>\n",
       "      <td>medical</td>\n",
       "      <td>CVS/PHARMACY #0000 SUWANEE GA</td>\n",
       "      <td>2018-01-27</td>\n",
       "    </tr>\n",
       "  </tbody>\n",
       "</table>\n",
       "</div>"
      ],
      "text/plain": [
       "   identifier                                 transaction        date\n",
       "0         gas           QuikTrip 0000 00000000 ATLANTA GA  2018-01-11\n",
       "1   groceries               KROGER #000 STONE MOUNTAIN GA  2018-01-29\n",
       "2    grooming  CRAFTED HAIR SALON JUo000 LAWRENCEVILLE GA  2018-01-20\n",
       "3  homeimprov                     LOWES #00000* BUFORD GA  2018-01-17\n",
       "4     medical               CVS/PHARMACY #0000 SUWANEE GA  2018-01-27"
      ]
     },
     "execution_count": 8,
     "metadata": {},
     "output_type": "execute_result"
    }
   ],
   "source": [
    "temp_df.head()"
   ]
  },
  {
   "cell_type": "markdown",
   "id": "d14c0050",
   "metadata": {},
   "source": [
    "# Adding Transaction Amounts\n",
    "---\n",
    "- Making a sensible pattern to spending"
   ]
  },
  {
   "cell_type": "code",
   "execution_count": 9,
   "id": "856e56e9",
   "metadata": {},
   "outputs": [
    {
     "data": {
      "text/plain": [
       "array(['gas', 'groceries', 'grooming', 'homeimprov', 'medical',\n",
       "       'conveyance', 'takeaway', 'utility', 'clothing', 'holiday',\n",
       "       'streaming', 'work', 'gift', 'baby', 'wedding', 'furniture'],\n",
       "      dtype=object)"
      ]
     },
     "execution_count": 9,
     "metadata": {},
     "output_type": "execute_result"
    }
   ],
   "source": [
    "temp_df['identifier'].unique()"
   ]
  },
  {
   "cell_type": "code",
   "execution_count": 10,
   "id": "06379ea0",
   "metadata": {},
   "outputs": [
    {
     "data": {
      "text/plain": [
       "1188.5833333333333"
      ]
     },
     "execution_count": 10,
     "metadata": {},
     "output_type": "execute_result"
    }
   ],
   "source": [
    "14263/12"
   ]
  },
  {
   "cell_type": "code",
   "execution_count": 11,
   "id": "8ab4fa49",
   "metadata": {},
   "outputs": [
    {
     "data": {
      "text/plain": [
       "12.385416666666666"
      ]
     },
     "execution_count": 11,
     "metadata": {},
     "output_type": "execute_result"
    }
   ],
   "source": [
    "297.25/24"
   ]
  },
  {
   "cell_type": "markdown",
   "id": "8aca8e2b",
   "metadata": {},
   "source": [
    "Average person drives \n",
    "- 14,263 miles/yr divided by 12 == 1189 miles/mo divided by 4 weeks == 297.25 miles/wk\n",
    "- 297.25 miles divided by 24 miles per gallon == 12.39\n",
    "- Average cost of gas in 2018 == $2.81\n",
    "- [Historical Gas Prices](https://www.eia.gov/dnav/pet/hist/LeafHandler.ashx?n=pet&s=emm_epmr_pte_nus_dpg&f=m)"
   ]
  },
  {
   "cell_type": "code",
   "execution_count": 12,
   "id": "38941c32",
   "metadata": {},
   "outputs": [],
   "source": [
    "gas_prices_by_mo = [2.671, 2.705, 2.709, 2.873, 2.987, 2.928, 2.928, 2.914, 2.915, 2.943, 2.736, 2.457]\n",
    "#sum(gas_prices_by_mo)/12"
   ]
  },
  {
   "cell_type": "code",
   "execution_count": 13,
   "id": "fbf34012",
   "metadata": {},
   "outputs": [],
   "source": [
    "def gen_ran_num(start, stop):\n",
    "    return random.randint(start, stop)\n",
    "def gen_ran_float(start, stop):\n",
    "    return random.uniform(start, stop)"
   ]
  },
  {
   "cell_type": "code",
   "execution_count": 14,
   "id": "966781c1",
   "metadata": {},
   "outputs": [],
   "source": [
    "# gas = temp_df.loc[temp_df['identifier'] == 'gas'].reset_index(drop=True)\n",
    "# #multiplying jan gas prices by average gallons bought by week\n",
    "# gas['amount'] = [gas_prices_by_mo[0]*gen_ran_float(11, 14) for i in range(len(gas))]"
   ]
  },
  {
   "cell_type": "code",
   "execution_count": 15,
   "id": "f7822a56",
   "metadata": {},
   "outputs": [],
   "source": [
    "#gas"
   ]
  },
  {
   "cell_type": "code",
   "execution_count": 16,
   "id": "f1bb7920",
   "metadata": {},
   "outputs": [],
   "source": [
    "# #doubling a line randomly to get 4 rows\n",
    "# gas = gas.append(gas.iloc[gen_ran_num(0, len(gas)-1)]).reset_index(drop=True)\n",
    "# #subbing random date for that row\n",
    "# gas.date[3] = generate_ran_date(2018, 1, 1, 31)\n",
    "# gas.amount[3] = gas_prices_by_mo[0]*gen_ran_float(11, 14)\n",
    "# gas"
   ]
  },
  {
   "cell_type": "code",
   "execution_count": 17,
   "id": "2faf5cd3",
   "metadata": {},
   "outputs": [],
   "source": [
    "# # Specifying Randomly how many rows of gas purchases per month\n",
    "# random_gas_purchases = gen_ran_num(1, 6)\n",
    "# print(random_gas_purchases)\n",
    "# if random_gas_purchases < len(gas):\n",
    "#     gas = gas[:random_gas_purchases]\n",
    "# else:\n",
    "#     to_append = random_gas_purchases - len(gas)\n",
    "#     for i in range(to_append):\n",
    "#         gas = gas.append(gas.iloc[gen_ran_num(0, len(gas)-1)]).reset_index(drop=True)\n",
    "#         gas.date[i] = generate_ran_date(2018, 1, 1, 31)\n",
    "#         gas.amount[i] =gas_prices_by_mo[0]*gen_ran_float(11, 14)"
   ]
  },
  {
   "cell_type": "code",
   "execution_count": 18,
   "id": "0271d5cd",
   "metadata": {},
   "outputs": [],
   "source": [
    "#gas"
   ]
  },
  {
   "cell_type": "code",
   "execution_count": 34,
   "id": "2ed4065d",
   "metadata": {},
   "outputs": [],
   "source": [
    "gas = temp_df.loc[temp_df['identifier'] == 'gas'].reset_index(drop=True)\n",
    "#multiplying jan gas prices by average gallons bought by week\n",
    "gas['amount'] = [gas_prices_by_mo[0]*gen_ran_float(11, 14) for i in range(len(gas))]"
   ]
  },
  {
   "cell_type": "code",
   "execution_count": 35,
   "id": "cb85a66d",
   "metadata": {},
   "outputs": [],
   "source": [
    "def create_random_gas(slice_df, max_duplicates, min_price, max_price, month, day, end_day):\n",
    "    gas_prices_by_mo = [2.671, 2.705, 2.709, 2.873, 2.987, 2.928, 2.928, 2.914, 2.915, 2.943, 2.736, 2.457]\n",
    "    random_purchases = gen_ran_num(1, max_duplicates)\n",
    "    #print(random_purchases)\n",
    "    if random_purchases < len(slice_df):\n",
    "        slice_df = slice_df[:random_purchases]\n",
    "    else:\n",
    "        to_append = random_purchases - len(slice_df)\n",
    "        for i in range(to_append):\n",
    "            slice_df = slice_df.append(slice_df.iloc[gen_ran_num(0, len(slice_df)-1)]).reset_index(drop=True)\n",
    "            slice_df.date[i] = generate_ran_date(2018, month, day, end_day)\n",
    "            #multiplying the gallons by the gas price of the month purchased\n",
    "            slice_df.amount[i] =gas_prices_by_mo[0]*gen_ran_float(min_price, max_price)\n",
    "    return slice_df"
   ]
  },
  {
   "cell_type": "code",
   "execution_count": 36,
   "id": "267485ae",
   "metadata": {},
   "outputs": [
    {
     "name": "stderr",
     "output_type": "stream",
     "text": [
      "/Users/Jen/anaconda3/lib/python3.7/site-packages/ipykernel_launcher.py:11: SettingWithCopyWarning: \n",
      "A value is trying to be set on a copy of a slice from a DataFrame\n",
      "\n",
      "See the caveats in the documentation: https://pandas.pydata.org/pandas-docs/stable/user_guide/indexing.html#returning-a-view-versus-a-copy\n",
      "  # This is added back by InteractiveShellApp.init_path()\n",
      "/Users/Jen/anaconda3/lib/python3.7/site-packages/ipykernel_launcher.py:12: SettingWithCopyWarning: \n",
      "A value is trying to be set on a copy of a slice from a DataFrame\n",
      "\n",
      "See the caveats in the documentation: https://pandas.pydata.org/pandas-docs/stable/user_guide/indexing.html#returning-a-view-versus-a-copy\n",
      "  if sys.path[0] == '':\n"
     ]
    },
    {
     "data": {
      "text/html": [
       "<div>\n",
       "<style scoped>\n",
       "    .dataframe tbody tr th:only-of-type {\n",
       "        vertical-align: middle;\n",
       "    }\n",
       "\n",
       "    .dataframe tbody tr th {\n",
       "        vertical-align: top;\n",
       "    }\n",
       "\n",
       "    .dataframe thead th {\n",
       "        text-align: right;\n",
       "    }\n",
       "</style>\n",
       "<table border=\"1\" class=\"dataframe\">\n",
       "  <thead>\n",
       "    <tr style=\"text-align: right;\">\n",
       "      <th></th>\n",
       "      <th>identifier</th>\n",
       "      <th>transaction</th>\n",
       "      <th>date</th>\n",
       "      <th>amount</th>\n",
       "    </tr>\n",
       "  </thead>\n",
       "  <tbody>\n",
       "    <tr>\n",
       "      <th>0</th>\n",
       "      <td>gas</td>\n",
       "      <td>QuikTrip 0000 00000000 ATLANTA GA</td>\n",
       "      <td>2018-01-29</td>\n",
       "      <td>31.212500</td>\n",
       "    </tr>\n",
       "    <tr>\n",
       "      <th>1</th>\n",
       "      <td>gas</td>\n",
       "      <td>SHELL OIL 00000000000 EAST POINT GA</td>\n",
       "      <td>2018-01-30</td>\n",
       "      <td>31.761795</td>\n",
       "    </tr>\n",
       "    <tr>\n",
       "      <th>2</th>\n",
       "      <td>gas</td>\n",
       "      <td>EXXON 000000-00 ATLANTA, GA</td>\n",
       "      <td>2018-01-17</td>\n",
       "      <td>31.074330</td>\n",
       "    </tr>\n",
       "    <tr>\n",
       "      <th>3</th>\n",
       "      <td>gas</td>\n",
       "      <td>QuikTrip 0000 00000000 ATLANTA GA</td>\n",
       "      <td>2018-01-11</td>\n",
       "      <td>33.309649</td>\n",
       "    </tr>\n",
       "    <tr>\n",
       "      <th>4</th>\n",
       "      <td>gas</td>\n",
       "      <td>SHELL OIL 00000000000 EAST POINT GA</td>\n",
       "      <td>2018-01-20</td>\n",
       "      <td>30.673334</td>\n",
       "    </tr>\n",
       "  </tbody>\n",
       "</table>\n",
       "</div>"
      ],
      "text/plain": [
       "  identifier                          transaction        date     amount\n",
       "0        gas    QuikTrip 0000 00000000 ATLANTA GA  2018-01-29  31.212500\n",
       "1        gas  SHELL OIL 00000000000 EAST POINT GA  2018-01-30  31.761795\n",
       "2        gas          EXXON 000000-00 ATLANTA, GA  2018-01-17  31.074330\n",
       "3        gas    QuikTrip 0000 00000000 ATLANTA GA  2018-01-11  33.309649\n",
       "4        gas  SHELL OIL 00000000000 EAST POINT GA  2018-01-20  30.673334"
      ]
     },
     "execution_count": 36,
     "metadata": {},
     "output_type": "execute_result"
    }
   ],
   "source": [
    "create_random_gas(gas, 6, 11, 14, 1, 1, 31)"
   ]
  },
  {
   "cell_type": "code",
   "execution_count": null,
   "id": "db0eb728",
   "metadata": {},
   "outputs": [],
   "source": []
  }
 ],
 "metadata": {
  "kernelspec": {
   "display_name": "Python 3 (ipykernel)",
   "language": "python",
   "name": "python3"
  },
  "language_info": {
   "codemirror_mode": {
    "name": "ipython",
    "version": 3
   },
   "file_extension": ".py",
   "mimetype": "text/x-python",
   "name": "python",
   "nbconvert_exporter": "python",
   "pygments_lexer": "ipython3",
   "version": "3.7.7"
  }
 },
 "nbformat": 4,
 "nbformat_minor": 5
}
