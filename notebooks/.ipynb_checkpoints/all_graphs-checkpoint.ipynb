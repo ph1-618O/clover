{
 "cells": [
  {
   "cell_type": "code",
   "execution_count": 1,
   "id": "c2f9de86",
   "metadata": {},
   "outputs": [],
   "source": [
    "#!/usr/bin/env python3\n",
    "# coding: utf-8\n",
    "import pandas as pd"
   ]
  },
  {
   "cell_type": "code",
   "execution_count": 2,
   "id": "c930c36a",
   "metadata": {},
   "outputs": [],
   "source": [
    "def show_svg(filename):\n",
    "    from IPython.display import SVG, display\n",
    "    display(SVG(filename=f'{filename}.svg'))"
   ]
  },
  {
   "cell_type": "code",
   "execution_count": 3,
   "id": "f3e758a3",
   "metadata": {},
   "outputs": [],
   "source": [
    "df = pd.read_csv('../data/test/sample_data_month_categories.csv')"
   ]
  },
  {
   "cell_type": "markdown",
   "id": "1b8a73be",
   "metadata": {},
   "source": [
    "# Possible DF layout"
   ]
  },
  {
   "cell_type": "markdown",
   "id": "258ac2e8",
   "metadata": {},
   "source": [
    " |   |   |   |   |   | |||\n",
    "|---|---|---|---|---|---|---|---|\n",
    " | **parent**       | **type**         | **priority**     | **fixed/variable** | **one-time/re-occuring** | **identifier**    | **amount**  | **date**    | **transaction**                   |\n",
    " | health       |life insurance| essential    | fixed          | re-occuring          | 'AAA Insurance| -50     | 01/22/21| AAA INSURANCE PAYMENT 48684   |\n",
    " | entertainment|movies        | non-essential| variable       | one-time             | 'REGAL'       | -15     | 01/12/21| CINEMA REGAL PARK WEST VA 1588|\n"
   ]
  },
  {
   "cell_type": "markdown",
   "id": "d16d07e4",
   "metadata": {},
   "source": [
    "# Stacked Bar Graph\n",
    "---"
   ]
  },
  {
   "cell_type": "code",
   "execution_count": 4,
   "id": "233c200f",
   "metadata": {},
   "outputs": [
    {
     "name": "stdout",
     "output_type": "stream",
     "text": [
      "your dates are a mess, see your programmer\n",
      "UNKNOWN DATE FORMAT SKIPPING FORMATTING\n",
      "your dates are a mess, see your programmer\n",
      "UNKNOWN DATE FORMAT SKIPPING FORMATTING\n"
     ]
    }
   ],
   "source": [
    "import graphs_df_formatting as form\n",
    "df = form.graph_data_formatting(df)[0]\n",
    "cat_order = form.graph_data_formatting(df)[1]\n",
    "pos_amount = form.graph_data_formatting(df)[2]"
   ]
  },
  {
   "cell_type": "code",
   "execution_count": 5,
   "id": "91063d3f",
   "metadata": {},
   "outputs": [
    {
     "name": "stdout",
     "output_type": "stream",
     "text": [
      "10\n"
     ]
    },
    {
     "data": {
      "image/svg+xml": [
       "<svg class=\"main-svg\" height=\"500\" style=\"\" viewBox=\"0 0 700 500\" width=\"700\" xmlns=\"http://www.w3.org/2000/svg\" xmlns:xlink=\"http://www.w3.org/1999/xlink\"><rect height=\"500\" style=\"fill: rgb(255, 255, 255); fill-opacity: 1;\" width=\"700\" x=\"0\" y=\"0\"/><defs id=\"defs-9d3b8b\"><g class=\"clips\"><clipPath class=\"plotclip\" id=\"clip9d3b8bxyplot\"><rect height=\"320\" width=\"484\"/></clipPath><clipPath class=\"axesclip\" id=\"clip9d3b8bx\"><rect height=\"500\" width=\"484\" x=\"80\" y=\"0\"/></clipPath><clipPath class=\"axesclip\" id=\"clip9d3b8by\"><rect height=\"320\" width=\"700\" x=\"0\" y=\"100\"/></clipPath><clipPath class=\"axesclip\" id=\"clip9d3b8bxy\"><rect height=\"320\" width=\"484\" x=\"80\" y=\"100\"/></clipPath></g><g class=\"gradients\"/></defs><g class=\"bglayer\"><rect class=\"bg\" height=\"320\" style=\"fill: rgb(229, 236, 246); fill-opacity: 1; stroke-width: 0;\" width=\"484\" x=\"80\" y=\"100\"/></g><g class=\"layer-below\"><g class=\"imagelayer\"/><g class=\"shapelayer\"/></g><g class=\"cartesianlayer\"><g class=\"subplot xy\"><g class=\"layer-subplot\"><g class=\"shapelayer\"/><g class=\"imagelayer\"/></g><g class=\"gridlayer\"><g class=\"x\"/><g class=\"y\"><path class=\"ygrid crisp\" d=\"M80,0h484\" style=\"stroke: rgb(255, 255, 255); stroke-opacity: 1; stroke-width: 1px;\" transform=\"translate(0,369.15)\"/><path class=\"ygrid crisp\" d=\"M80,0h484\" style=\"stroke: rgb(255, 255, 255); stroke-opacity: 1; stroke-width: 1px;\" transform=\"translate(0,318.31)\"/><path class=\"ygrid crisp\" d=\"M80,0h484\" style=\"stroke: rgb(255, 255, 255); stroke-opacity: 1; stroke-width: 1px;\" transform=\"translate(0,267.46000000000004)\"/><path class=\"ygrid crisp\" d=\"M80,0h484\" style=\"stroke: rgb(255, 255, 255); stroke-opacity: 1; stroke-width: 1px;\" transform=\"translate(0,216.62)\"/><path class=\"ygrid crisp\" d=\"M80,0h484\" style=\"stroke: rgb(255, 255, 255); stroke-opacity: 1; stroke-width: 1px;\" transform=\"translate(0,165.76999999999998)\"/><path class=\"ygrid crisp\" d=\"M80,0h484\" style=\"stroke: rgb(255, 255, 255); stroke-opacity: 1; stroke-width: 1px;\" transform=\"translate(0,114.93)\"/></g></g><g class=\"zerolinelayer\"><path class=\"yzl zl crisp\" d=\"M80,0h484\" style=\"stroke: rgb(255, 255, 255); stroke-opacity: 1; stroke-width: 2px;\" transform=\"translate(0,420)\"/></g><path class=\"xlines-below\"/><path class=\"ylines-below\"/><g class=\"overlines-below\"/><g class=\"xaxislayer-below\"/><g class=\"yaxislayer-below\"/><g class=\"overaxes-below\"/><g class=\"plot\" clip-path=\"url('#clip9d3b8bxyplot')\" transform=\"translate(80,100)\"><g class=\"barlayer mlayer\"><g class=\"trace bars\" style=\"opacity: 1;\"><g class=\"points\"><g class=\"point\"><path d=\"M12.1,320V302.21H149.23V320Z\" style=\"vector-effect: non-scaling-stroke; opacity: 1; stroke-width: 0.5px; fill: rgb(248, 172, 52); fill-opacity: 1; stroke: rgb(229, 236, 246); stroke-opacity: 1;\"/></g><g class=\"point\"><path d=\"M173.43,320V259.24H310.57V320Z\" style=\"vector-effect: non-scaling-stroke; opacity: 1; stroke-width: 0.5px; fill: rgb(248, 172, 52); fill-opacity: 1; stroke: rgb(229, 236, 246); stroke-opacity: 1;\"/></g></g></g><g class=\"trace bars\" style=\"opacity: 1;\"><g class=\"points\"><g class=\"point\"><path d=\"M173.43,259.24V241.02H310.57V259.24Z\" style=\"vector-effect: non-scaling-stroke; opacity: 1; stroke-width: 0.5px; fill: rgb(248, 166, 46); fill-opacity: 1; stroke: rgb(229, 236, 246); stroke-opacity: 1;\"/></g><g class=\"point\"><path d=\"M334.77,320V285.43H471.9V320Z\" style=\"vector-effect: non-scaling-stroke; opacity: 1; stroke-width: 0.5px; fill: rgb(248, 166, 46); fill-opacity: 1; stroke: rgb(229, 236, 246); stroke-opacity: 1;\"/></g></g></g><g class=\"trace bars\" style=\"opacity: 1;\"><g class=\"points\"><g class=\"point\"><path d=\"M173.43,241.02V178.68H310.57V241.02Z\" style=\"vector-effect: non-scaling-stroke; opacity: 1; stroke-width: 0.5px; fill: rgb(248, 161, 41); fill-opacity: 1; stroke: rgb(229, 236, 246); stroke-opacity: 1;\"/></g></g></g><g class=\"trace bars\" style=\"opacity: 1;\"><g class=\"points\"><g class=\"point\"><path d=\"M173.43,178.68V170.59H310.57V178.68Z\" style=\"vector-effect: non-scaling-stroke; opacity: 1; stroke-width: 0.5px; fill: rgb(248, 155, 35); fill-opacity: 1; stroke: rgb(229, 236, 246); stroke-opacity: 1;\"/></g></g></g><g class=\"trace bars\" style=\"opacity: 1;\"><g class=\"points\"><g class=\"point\"><path d=\"M173.43,170.59V154.46H310.57V170.59Z\" style=\"vector-effect: non-scaling-stroke; opacity: 1; stroke-width: 0.5px; fill: rgb(248, 150, 30); fill-opacity: 1; stroke: rgb(229, 236, 246); stroke-opacity: 1;\"/></g></g></g><g class=\"trace bars\" style=\"opacity: 1;\"><g class=\"points\"><g class=\"point\"><path d=\"M173.43,154.46V142.39H310.57V154.46Z\" style=\"vector-effect: non-scaling-stroke; opacity: 1; stroke-width: 0.5px; fill: rgb(248, 141, 34); fill-opacity: 1; stroke: rgb(229, 236, 246); stroke-opacity: 1;\"/></g></g></g><g class=\"trace bars\" style=\"opacity: 1;\"><g class=\"points\"><g class=\"point\"><path d=\"M173.43,142.39V127.94H310.57V142.39Z\" style=\"vector-effect: non-scaling-stroke; opacity: 1; stroke-width: 0.5px; fill: rgb(248, 131, 38); fill-opacity: 1; stroke: rgb(229, 236, 246); stroke-opacity: 1;\"/></g><g class=\"point\"><path d=\"M334.77,285.43V283.54H471.9V285.43Z\" style=\"vector-effect: non-scaling-stroke; opacity: 1; stroke-width: 0.5px; fill: rgb(248, 131, 38); fill-opacity: 1; stroke: rgb(229, 236, 246); stroke-opacity: 1;\"/></g></g></g><g class=\"trace bars\" style=\"opacity: 1;\"><g class=\"points\"><g class=\"point\"><path d=\"M173.43,127.94V115.39H310.57V127.94Z\" style=\"vector-effect: non-scaling-stroke; opacity: 1; stroke-width: 0.5px; fill: rgb(248, 122, 43); fill-opacity: 1; stroke: rgb(229, 236, 246); stroke-opacity: 1;\"/></g></g></g><g class=\"trace bars\" style=\"opacity: 1;\"><g class=\"points\"><g class=\"point\"><path d=\"M173.43,115.39V88.46H310.57V115.39Z\" style=\"vector-effect: non-scaling-stroke; opacity: 1; stroke-width: 0.5px; fill: rgb(248, 112, 47); fill-opacity: 1; stroke: rgb(229, 236, 246); stroke-opacity: 1;\"/></g></g></g><g class=\"trace bars\" style=\"opacity: 1;\"><g class=\"points\"><g class=\"point\"><path d=\"M173.43,88.46V74.01H310.57V88.46Z\" style=\"vector-effect: non-scaling-stroke; opacity: 1; stroke-width: 0.5px; fill: rgb(249, 103, 51); fill-opacity: 1; stroke: rgb(229, 236, 246); stroke-opacity: 1;\"/></g></g></g><g class=\"trace bars\" style=\"opacity: 1;\"><g class=\"points\"><g class=\"point\"><path d=\"M173.43,74.01V16H310.57V74.01Z\" style=\"vector-effect: non-scaling-stroke; opacity: 1; stroke-width: 0.5px; fill: rgb(249, 93, 55); fill-opacity: 1; stroke: rgb(229, 236, 246); stroke-opacity: 1;\"/></g></g></g></g></g><g class=\"overplot\"/><path class=\"xlines-above crisp\" d=\"M0,0\" style=\"fill: none;\"/><path class=\"ylines-above crisp\" d=\"M0,0\" style=\"fill: none;\"/><g class=\"overlines-above\"/><g class=\"xaxislayer-above\"><g class=\"xtick\"><text style=\"font-family: 'Open Sans', verdana, arial, sans-serif; font-size: 12px; fill: rgb(42, 63, 95); fill-opacity: 1; white-space: pre;\" text-anchor=\"middle\" transform=\"translate(160.67000000000002,0)\" x=\"0\" y=\"433\">March</text></g><g class=\"xtick\"><text style=\"font-family: 'Open Sans', verdana, arial, sans-serif; font-size: 12px; fill: rgb(42, 63, 95); fill-opacity: 1; white-space: pre;\" text-anchor=\"middle\" transform=\"translate(322,0)\" x=\"0\" y=\"433\">April</text></g><g class=\"xtick\"><text style=\"font-family: 'Open Sans', verdana, arial, sans-serif; font-size: 12px; fill: rgb(42, 63, 95); fill-opacity: 1; white-space: pre;\" text-anchor=\"middle\" transform=\"translate(483.33,0)\" x=\"0\" y=\"433\">May</text></g></g><g class=\"yaxislayer-above\"><g class=\"ytick\"><text style=\"font-family: 'Open Sans', verdana, arial, sans-serif; font-size: 12px; fill: rgb(42, 63, 95); fill-opacity: 1; white-space: pre;\" text-anchor=\"end\" transform=\"translate(0,420)\" x=\"79\" y=\"4.199999999999999\">0</text></g><g class=\"ytick\"><text style=\"font-family: 'Open Sans', verdana, arial, sans-serif; font-size: 12px; fill: rgb(42, 63, 95); fill-opacity: 1; white-space: pre;\" text-anchor=\"end\" transform=\"translate(0,369.15)\" x=\"79\" y=\"4.199999999999999\">200</text></g><g class=\"ytick\"><text style=\"font-family: 'Open Sans', verdana, arial, sans-serif; font-size: 12px; fill: rgb(42, 63, 95); fill-opacity: 1; white-space: pre;\" text-anchor=\"end\" transform=\"translate(0,318.31)\" x=\"79\" y=\"4.199999999999999\">400</text></g><g class=\"ytick\"><text style=\"font-family: 'Open Sans', verdana, arial, sans-serif; font-size: 12px; fill: rgb(42, 63, 95); fill-opacity: 1; white-space: pre;\" text-anchor=\"end\" transform=\"translate(0,267.46000000000004)\" x=\"79\" y=\"4.199999999999999\">600</text></g><g class=\"ytick\"><text style=\"font-family: 'Open Sans', verdana, arial, sans-serif; font-size: 12px; fill: rgb(42, 63, 95); fill-opacity: 1; white-space: pre;\" text-anchor=\"end\" transform=\"translate(0,216.62)\" x=\"79\" y=\"4.199999999999999\">800</text></g><g class=\"ytick\"><text style=\"font-family: 'Open Sans', verdana, arial, sans-serif; font-size: 12px; fill: rgb(42, 63, 95); fill-opacity: 1; white-space: pre;\" text-anchor=\"end\" transform=\"translate(0,165.76999999999998)\" x=\"79\" y=\"4.199999999999999\">1000</text></g><g class=\"ytick\"><text style=\"font-family: 'Open Sans', verdana, arial, sans-serif; font-size: 12px; fill: rgb(42, 63, 95); fill-opacity: 1; white-space: pre;\" text-anchor=\"end\" transform=\"translate(0,114.93)\" x=\"79\" y=\"4.199999999999999\">1200</text></g></g><g class=\"overaxes-above\"/></g></g><g class=\"polarlayer\"/><g class=\"ternarylayer\"/><g class=\"geolayer\"/><g class=\"funnelarealayer\"/><g class=\"pielayer\"/><g class=\"treemaplayer\"/><g class=\"sunburstlayer\"/><g class=\"glimages\"/><defs id=\"topdefs-9d3b8b\"><g class=\"clips\"/><clipPath id=\"legend9d3b8b\"><rect height=\"235\" width=\"114\" x=\"0\" y=\"0\"/></clipPath></defs><g class=\"layer-above\"><g class=\"imagelayer\"/><g class=\"shapelayer\"/></g><g class=\"infolayer\"><g class=\"legend\" pointer-events=\"all\" transform=\"translate(573.6800000000001,100)\"><rect class=\"bg\" height=\"235\" shape-rendering=\"crispEdges\" style=\"stroke: rgb(68, 68, 68); stroke-opacity: 1; fill: rgb(255, 255, 255); fill-opacity: 1; stroke-width: 0px;\" width=\"114\" x=\"0\" y=\"0\"/><g class=\"scrollbox\" clip-path=\"url('#legend9d3b8b')\" transform=\"\"><text class=\"legendtitletext\" style=\"font-family: 'Open Sans', verdana, arial, sans-serif; font-size: 12px; fill: rgb(42, 63, 95); fill-opacity: 1; white-space: pre;\" text-anchor=\"start\" x=\"2\" y=\"15.600000000000001\">Category</text><g class=\"groups\" transform=\"\"><g class=\"traces\" style=\"opacity: 1;\" transform=\"translate(0,30.1)\"><text class=\"legendtext\" style=\"font-family: 'Open Sans', verdana, arial, sans-serif; font-size: 12px; fill: rgb(42, 63, 95); fill-opacity: 1; white-space: pre;\" text-anchor=\"start\" x=\"40\" y=\"4.680000000000001\">work</text><g class=\"layers\" style=\"opacity: 1;\"><g class=\"legendfill\"/><g class=\"legendlines\"/><g class=\"legendsymbols\"><g class=\"legendpoints\"><path class=\"legendundefined\" d=\"M6,6H-6V-6H6Z\" style=\"stroke-width: 0.5px; fill: rgb(248, 172, 52); fill-opacity: 1; stroke: rgb(229, 236, 246); stroke-opacity: 1;\" transform=\"translate(20,0)\"/></g></g></g><rect class=\"legendtoggle\" height=\"19\" style=\"fill: rgb(0, 0, 0); fill-opacity: 0;\" width=\"108.953125\" x=\"0\" y=\"-9.5\"/></g></g><g class=\"groups\" transform=\"\"><g class=\"traces\" style=\"opacity: 1;\" transform=\"translate(0,49.1)\"><text class=\"legendtext\" style=\"font-family: 'Open Sans', verdana, arial, sans-serif; font-size: 12px; fill: rgb(42, 63, 95); fill-opacity: 1; white-space: pre;\" text-anchor=\"start\" x=\"40\" y=\"4.680000000000001\">fast_food</text><g class=\"layers\" style=\"opacity: 1;\"><g class=\"legendfill\"/><g class=\"legendlines\"/><g class=\"legendsymbols\"><g class=\"legendpoints\"><path class=\"legendundefined\" d=\"M6,6H-6V-6H6Z\" style=\"stroke-width: 0.5px; fill: rgb(248, 166, 46); fill-opacity: 1; stroke: rgb(229, 236, 246); stroke-opacity: 1;\" transform=\"translate(20,0)\"/></g></g></g><rect class=\"legendtoggle\" height=\"19\" style=\"fill: rgb(0, 0, 0); fill-opacity: 0;\" width=\"108.953125\" x=\"0\" y=\"-9.5\"/></g></g><g class=\"groups\" transform=\"\"><g class=\"traces\" style=\"opacity: 1;\" transform=\"translate(0,68.1)\"><text class=\"legendtext\" style=\"font-family: 'Open Sans', verdana, arial, sans-serif; font-size: 12px; fill: rgb(42, 63, 95); fill-opacity: 1; white-space: pre;\" text-anchor=\"start\" x=\"40\" y=\"4.680000000000001\">food</text><g class=\"layers\" style=\"opacity: 1;\"><g class=\"legendfill\"/><g class=\"legendlines\"/><g class=\"legendsymbols\"><g class=\"legendpoints\"><path class=\"legendundefined\" d=\"M6,6H-6V-6H6Z\" style=\"stroke-width: 0.5px; fill: rgb(248, 161, 41); fill-opacity: 1; stroke: rgb(229, 236, 246); stroke-opacity: 1;\" transform=\"translate(20,0)\"/></g></g></g><rect class=\"legendtoggle\" height=\"19\" style=\"fill: rgb(0, 0, 0); fill-opacity: 0;\" width=\"108.953125\" x=\"0\" y=\"-9.5\"/></g></g><g class=\"groups\" transform=\"\"><g class=\"traces\" style=\"opacity: 1;\" transform=\"translate(0,87.1)\"><text class=\"legendtext\" style=\"font-family: 'Open Sans', verdana, arial, sans-serif; font-size: 12px; fill: rgb(42, 63, 95); fill-opacity: 1; white-space: pre;\" text-anchor=\"start\" x=\"40\" y=\"4.680000000000001\">fun</text><g class=\"layers\" style=\"opacity: 1;\"><g class=\"legendfill\"/><g class=\"legendlines\"/><g class=\"legendsymbols\"><g class=\"legendpoints\"><path class=\"legendundefined\" d=\"M6,6H-6V-6H6Z\" style=\"stroke-width: 0.5px; fill: rgb(248, 155, 35); fill-opacity: 1; stroke: rgb(229, 236, 246); stroke-opacity: 1;\" transform=\"translate(20,0)\"/></g></g></g><rect class=\"legendtoggle\" height=\"19\" style=\"fill: rgb(0, 0, 0); fill-opacity: 0;\" width=\"108.953125\" x=\"0\" y=\"-9.5\"/></g></g><g class=\"groups\" transform=\"\"><g class=\"traces\" style=\"opacity: 1;\" transform=\"translate(0,106.1)\"><text class=\"legendtext\" style=\"font-family: 'Open Sans', verdana, arial, sans-serif; font-size: 12px; fill: rgb(42, 63, 95); fill-opacity: 1; white-space: pre;\" text-anchor=\"start\" x=\"40\" y=\"4.680000000000001\">gas</text><g class=\"layers\" style=\"opacity: 1;\"><g class=\"legendfill\"/><g class=\"legendlines\"/><g class=\"legendsymbols\"><g class=\"legendpoints\"><path class=\"legendundefined\" d=\"M6,6H-6V-6H6Z\" style=\"stroke-width: 0.5px; fill: rgb(248, 150, 30); fill-opacity: 1; stroke: rgb(229, 236, 246); stroke-opacity: 1;\" transform=\"translate(20,0)\"/></g></g></g><rect class=\"legendtoggle\" height=\"19\" style=\"fill: rgb(0, 0, 0); fill-opacity: 0;\" width=\"108.953125\" x=\"0\" y=\"-9.5\"/></g></g><g class=\"groups\" transform=\"\"><g class=\"traces\" style=\"opacity: 1;\" transform=\"translate(0,125.1)\"><text class=\"legendtext\" style=\"font-family: 'Open Sans', verdana, arial, sans-serif; font-size: 12px; fill: rgb(42, 63, 95); fill-opacity: 1; white-space: pre;\" text-anchor=\"start\" x=\"40\" y=\"4.680000000000001\">home</text><g class=\"layers\" style=\"opacity: 1;\"><g class=\"legendfill\"/><g class=\"legendlines\"/><g class=\"legendsymbols\"><g class=\"legendpoints\"><path class=\"legendundefined\" d=\"M6,6H-6V-6H6Z\" style=\"stroke-width: 0.5px; fill: rgb(248, 141, 34); fill-opacity: 1; stroke: rgb(229, 236, 246); stroke-opacity: 1;\" transform=\"translate(20,0)\"/></g></g></g><rect class=\"legendtoggle\" height=\"19\" style=\"fill: rgb(0, 0, 0); fill-opacity: 0;\" width=\"108.953125\" x=\"0\" y=\"-9.5\"/></g></g><g class=\"groups\" transform=\"\"><g class=\"traces\" style=\"opacity: 1;\" transform=\"translate(0,144.1)\"><text class=\"legendtext\" style=\"font-family: 'Open Sans', verdana, arial, sans-serif; font-size: 12px; fill: rgb(42, 63, 95); fill-opacity: 1; white-space: pre;\" text-anchor=\"start\" x=\"40\" y=\"4.680000000000001\">medical</text><g class=\"layers\" style=\"opacity: 1;\"><g class=\"legendfill\"/><g class=\"legendlines\"/><g class=\"legendsymbols\"><g class=\"legendpoints\"><path class=\"legendundefined\" d=\"M6,6H-6V-6H6Z\" style=\"stroke-width: 0.5px; fill: rgb(248, 131, 38); fill-opacity: 1; stroke: rgb(229, 236, 246); stroke-opacity: 1;\" transform=\"translate(20,0)\"/></g></g></g><rect class=\"legendtoggle\" height=\"19\" style=\"fill: rgb(0, 0, 0); fill-opacity: 0;\" width=\"108.953125\" x=\"0\" y=\"-9.5\"/></g></g><g class=\"groups\" transform=\"\"><g class=\"traces\" style=\"opacity: 1;\" transform=\"translate(0,163.1)\"><text class=\"legendtext\" style=\"font-family: 'Open Sans', verdana, arial, sans-serif; font-size: 12px; fill: rgb(42, 63, 95); fill-opacity: 1; white-space: pre;\" text-anchor=\"start\" x=\"40\" y=\"4.680000000000001\">online</text><g class=\"layers\" style=\"opacity: 1;\"><g class=\"legendfill\"/><g class=\"legendlines\"/><g class=\"legendsymbols\"><g class=\"legendpoints\"><path class=\"legendundefined\" d=\"M6,6H-6V-6H6Z\" style=\"stroke-width: 0.5px; fill: rgb(248, 122, 43); fill-opacity: 1; stroke: rgb(229, 236, 246); stroke-opacity: 1;\" transform=\"translate(20,0)\"/></g></g></g><rect class=\"legendtoggle\" height=\"19\" style=\"fill: rgb(0, 0, 0); fill-opacity: 0;\" width=\"108.953125\" x=\"0\" y=\"-9.5\"/></g></g><g class=\"groups\" transform=\"\"><g class=\"traces\" style=\"opacity: 1;\" transform=\"translate(0,182.1)\"><text class=\"legendtext\" style=\"font-family: 'Open Sans', verdana, arial, sans-serif; font-size: 12px; fill: rgb(42, 63, 95); fill-opacity: 1; white-space: pre;\" text-anchor=\"start\" x=\"40\" y=\"4.680000000000001\">pets</text><g class=\"layers\" style=\"opacity: 1;\"><g class=\"legendfill\"/><g class=\"legendlines\"/><g class=\"legendsymbols\"><g class=\"legendpoints\"><path class=\"legendundefined\" d=\"M6,6H-6V-6H6Z\" style=\"stroke-width: 0.5px; fill: rgb(248, 112, 47); fill-opacity: 1; stroke: rgb(229, 236, 246); stroke-opacity: 1;\" transform=\"translate(20,0)\"/></g></g></g><rect class=\"legendtoggle\" height=\"19\" style=\"fill: rgb(0, 0, 0); fill-opacity: 0;\" width=\"108.953125\" x=\"0\" y=\"-9.5\"/></g></g><g class=\"groups\" transform=\"\"><g class=\"traces\" style=\"opacity: 1;\" transform=\"translate(0,201.1)\"><text class=\"legendtext\" style=\"font-family: 'Open Sans', verdana, arial, sans-serif; font-size: 12px; fill: rgb(42, 63, 95); fill-opacity: 1; white-space: pre;\" text-anchor=\"start\" x=\"40\" y=\"4.680000000000001\">restaurants</text><g class=\"layers\" style=\"opacity: 1;\"><g class=\"legendfill\"/><g class=\"legendlines\"/><g class=\"legendsymbols\"><g class=\"legendpoints\"><path class=\"legendundefined\" d=\"M6,6H-6V-6H6Z\" style=\"stroke-width: 0.5px; fill: rgb(249, 103, 51); fill-opacity: 1; stroke: rgb(229, 236, 246); stroke-opacity: 1;\" transform=\"translate(20,0)\"/></g></g></g><rect class=\"legendtoggle\" height=\"19\" style=\"fill: rgb(0, 0, 0); fill-opacity: 0;\" width=\"108.953125\" x=\"0\" y=\"-9.5\"/></g></g><g class=\"groups\" transform=\"\"><g class=\"traces\" style=\"opacity: 1;\" transform=\"translate(0,220.1)\"><text class=\"legendtext\" style=\"font-family: 'Open Sans', verdana, arial, sans-serif; font-size: 12px; fill: rgb(42, 63, 95); fill-opacity: 1; white-space: pre;\" text-anchor=\"start\" x=\"40\" y=\"4.680000000000001\">utilities</text><g class=\"layers\" style=\"opacity: 1;\"><g class=\"legendfill\"/><g class=\"legendlines\"/><g class=\"legendsymbols\"><g class=\"legendpoints\"><path class=\"legendundefined\" d=\"M6,6H-6V-6H6Z\" style=\"stroke-width: 0.5px; fill: rgb(249, 93, 55); fill-opacity: 1; stroke: rgb(229, 236, 246); stroke-opacity: 1;\" transform=\"translate(20,0)\"/></g></g></g><rect class=\"legendtoggle\" height=\"19\" style=\"fill: rgb(0, 0, 0); fill-opacity: 0;\" width=\"108.953125\" x=\"0\" y=\"-9.5\"/></g></g></g><rect class=\"scrollbar\" height=\"0\" rx=\"20\" ry=\"3\" style=\"fill: rgb(128, 139, 164); fill-opacity: 1;\" width=\"0\" x=\"0\" y=\"0\"/></g><g class=\"g-gtitle\"><text class=\"gtitle\" dy=\"0em\" style=\"font-family: 'Open Sans', verdana, arial, sans-serif; font-size: 17px; fill: rgb(42, 63, 95); opacity: 1; font-weight: normal; white-space: pre;\" text-anchor=\"start\" x=\"35\" y=\"50\">Total Spending by Category by Month</text></g><g class=\"g-xtitle\"><text class=\"xtitle\" style=\"font-family: 'Open Sans', verdana, arial, sans-serif; font-size: 14px; fill: rgb(42, 63, 95); opacity: 1; font-weight: normal; white-space: pre;\" text-anchor=\"middle\" x=\"322\" y=\"460.3\">Month</text></g><g class=\"g-ytitle\"><text class=\"ytitle\" style=\"font-family: 'Open Sans', verdana, arial, sans-serif; font-size: 14px; fill: rgb(42, 63, 95); opacity: 1; font-weight: normal; white-space: pre;\" text-anchor=\"middle\" transform=\"rotate(-90,23.684375000000003,260)\" x=\"23.684375000000003\" y=\"260\">Amount</text></g></g></svg>"
      ],
      "text/plain": [
       "<IPython.core.display.SVG object>"
      ]
     },
     "metadata": {},
     "output_type": "display_data"
    }
   ],
   "source": [
    "import clover_graphs as graphs\n",
    "graphs.make_stacked_bar_graph(df, cat_order, pos_amount)\n",
    "show_svg('images/fig_stacked_bar')"
   ]
  },
  {
   "cell_type": "code",
   "execution_count": 6,
   "id": "e9bb14b2",
   "metadata": {},
   "outputs": [],
   "source": [
    "graphs.make_sunburst(df)\n",
    "show_svg('images/sunburst')"
   ]
  }
 ],
 "metadata": {
  "kernelspec": {
   "display_name": "Python 3 (ipykernel)",
   "language": "python",
   "name": "python3"
  },
  "language_info": {
   "codemirror_mode": {
    "name": "ipython",
    "version": 3
   },
   "file_extension": ".py",
   "mimetype": "text/x-python",
   "name": "python",
   "nbconvert_exporter": "python",
   "pygments_lexer": "ipython3",
   "version": "3.7.7"
  }
 },
 "nbformat": 4,
 "nbformat_minor": 5
}
