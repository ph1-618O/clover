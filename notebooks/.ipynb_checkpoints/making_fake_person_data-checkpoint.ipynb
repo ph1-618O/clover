{
 "cells": [
  {
   "cell_type": "code",
   "execution_count": 1,
   "id": "d8399ef7",
   "metadata": {},
   "outputs": [],
   "source": [
    "import pandas as pd\n",
    "import datetime\n",
    "import random\n",
    "import calendar"
   ]
  },
  {
   "cell_type": "markdown",
   "id": "8f251513",
   "metadata": {},
   "source": [
    "### Using Tabula to import chart data from Bureau of Labor Statistics\n",
    "---"
   ]
  },
  {
   "cell_type": "code",
   "execution_count": 2,
   "id": "310885bb",
   "metadata": {},
   "outputs": [],
   "source": [
    "#import tabula\n",
    "# file = '../resources/cesan.pdf'\n",
    "# table = tabula.read_pdf(file, pages=5)"
   ]
  },
  {
   "cell_type": "code",
   "execution_count": 3,
   "id": "f030f3b2",
   "metadata": {},
   "outputs": [],
   "source": [
    "# test = table[0].copy()#.columns({'Unnamed: 0':'first'})"
   ]
  },
  {
   "cell_type": "code",
   "execution_count": 4,
   "id": "4f05bb28",
   "metadata": {},
   "outputs": [],
   "source": [
    "# test.to_csv('consumer_spending.csv', index=False)"
   ]
  },
  {
   "cell_type": "code",
   "execution_count": 5,
   "id": "73e4ce69",
   "metadata": {},
   "outputs": [],
   "source": [
    "table = pd.read_csv('consumer_spending.csv').reset_index(drop=True)\n",
    "table = table.rename(columns={table.columns[0]:'category',table.columns[1]:'2018', table.columns[2]:'2019', table.columns[3]:'2020'})\n",
    "# table['category'] = table['category'].str.replace(r'[^\\w\\s]+','')\n",
    "# table['2018'] = table['2018'].str.replace(r'[^\\w\\s]+','')\n",
    "for i in table.columns:\n",
    "    table[i] = table[i].str.replace(r'[^\\w\\s]+','')\n",
    "table= table[['category', '2018', '2019', '2020']]\n",
    "table= table.iloc[2:18].reset_index(drop=True)\n",
    "#table"
   ]
  },
  {
   "cell_type": "code",
   "execution_count": 6,
   "id": "1252ae8e",
   "metadata": {},
   "outputs": [],
   "source": [
    "keep_list = ['Food', 'Housing', 'Apparel and services']\n",
    "#for i in keep_list:\n",
    "keep = table.loc[(table.category == 'Food')|\n",
    "                 (table.category == 'Housing')|\n",
    "                 (table.category == 'Apparel and services')|\n",
    "                 (table.category == 'Average income before taxes')|\n",
    "                 (table.category == 'Average annual expenditures')].reset_index(drop=True)"
   ]
  },
  {
   "cell_type": "code",
   "execution_count": 7,
   "id": "64033ae6",
   "metadata": {},
   "outputs": [],
   "source": [
    "# 2nd table on page 6 is too messy easier to type out answers 2018\n",
    "appendlist = [['transportation', 9761, 10742, 9826],\n",
    "['healthcare', 4968, 5193, 5177],\n",
    "['entertainment', 3226, 3050, 2912],\n",
    "['personal_care_products', 768, 768, 864],\n",
    "['reading', 108, 92, 114],\n",
    "['education', 1407, 1443, 1271],\n",
    "['tobacco', 347, 320, 315],\n",
    "['misc', 993, 899, 907],\n",
    "['cash_contrib', 1888, 1995, 2283],\n",
    "['personal_insurance_pensions', 7296, 7165, 7246]]"
   ]
  },
  {
   "cell_type": "code",
   "execution_count": 8,
   "id": "30537e99",
   "metadata": {},
   "outputs": [],
   "source": [
    "for i in appendlist:\n",
    "    #print(i)\n",
    "    keep2 = pd.Series(i, index=['category', '2018', '2019', '2020'])\n",
    "    #print(keep2)\n",
    "    keep  = keep.append(keep2, ignore_index = True)"
   ]
  },
  {
   "cell_type": "code",
   "execution_count": 9,
   "id": "adcf5184",
   "metadata": {},
   "outputs": [],
   "source": [
    "keep['2018'] = keep['2018'].astype(int)\n",
    "keep['2019'] = keep['2019'].astype(int)\n",
    "keep['2020'] = keep['2020'].astype(int)"
   ]
  },
  {
   "cell_type": "code",
   "execution_count": 10,
   "id": "a436443d",
   "metadata": {},
   "outputs": [
    {
     "data": {
      "text/plain": [
       "numpy.int64"
      ]
     },
     "execution_count": 10,
     "metadata": {},
     "output_type": "execute_result"
    }
   ],
   "source": [
    "type(keep['2018'][0])"
   ]
  },
  {
   "cell_type": "code",
   "execution_count": 11,
   "id": "7bcf8cf8",
   "metadata": {},
   "outputs": [
    {
     "data": {
      "text/plain": [
       "200501"
      ]
     },
     "execution_count": 11,
     "metadata": {},
     "output_type": "execute_result"
    }
   ],
   "source": [
    "sum(keep['2018'])"
   ]
  },
  {
   "cell_type": "code",
   "execution_count": 39,
   "id": "a7b7e21a",
   "metadata": {},
   "outputs": [
    {
     "data": {
      "text/html": [
       "<div>\n",
       "<style scoped>\n",
       "    .dataframe tbody tr th:only-of-type {\n",
       "        vertical-align: middle;\n",
       "    }\n",
       "\n",
       "    .dataframe tbody tr th {\n",
       "        vertical-align: top;\n",
       "    }\n",
       "\n",
       "    .dataframe thead th {\n",
       "        text-align: right;\n",
       "    }\n",
       "</style>\n",
       "<table border=\"1\" class=\"dataframe\">\n",
       "  <thead>\n",
       "    <tr style=\"text-align: right;\">\n",
       "      <th></th>\n",
       "      <th>category</th>\n",
       "      <th>2018</th>\n",
       "      <th>2019</th>\n",
       "      <th>2020</th>\n",
       "      <th>percentage_2018</th>\n",
       "    </tr>\n",
       "  </thead>\n",
       "  <tbody>\n",
       "    <tr>\n",
       "      <th>0</th>\n",
       "      <td>Average income before taxes</td>\n",
       "      <td>78635</td>\n",
       "      <td>82852</td>\n",
       "      <td>84352</td>\n",
       "      <td>0.00</td>\n",
       "    </tr>\n",
       "    <tr>\n",
       "      <th>1</th>\n",
       "      <td>Average annual expenditures</td>\n",
       "      <td>61224</td>\n",
       "      <td>63036</td>\n",
       "      <td>61334</td>\n",
       "      <td>0.00</td>\n",
       "    </tr>\n",
       "    <tr>\n",
       "      <th>2</th>\n",
       "      <td>Food</td>\n",
       "      <td>7923</td>\n",
       "      <td>8169</td>\n",
       "      <td>7316</td>\n",
       "      <td>13.07</td>\n",
       "    </tr>\n",
       "    <tr>\n",
       "      <th>3</th>\n",
       "      <td>Housing</td>\n",
       "      <td>20091</td>\n",
       "      <td>20679</td>\n",
       "      <td>21409</td>\n",
       "      <td>33.13</td>\n",
       "    </tr>\n",
       "    <tr>\n",
       "      <th>4</th>\n",
       "      <td>Apparel and services</td>\n",
       "      <td>1866</td>\n",
       "      <td>1883</td>\n",
       "      <td>1434</td>\n",
       "      <td>3.08</td>\n",
       "    </tr>\n",
       "    <tr>\n",
       "      <th>5</th>\n",
       "      <td>transportation</td>\n",
       "      <td>9761</td>\n",
       "      <td>10742</td>\n",
       "      <td>9826</td>\n",
       "      <td>16.10</td>\n",
       "    </tr>\n",
       "    <tr>\n",
       "      <th>6</th>\n",
       "      <td>healthcare</td>\n",
       "      <td>4968</td>\n",
       "      <td>5193</td>\n",
       "      <td>5177</td>\n",
       "      <td>8.19</td>\n",
       "    </tr>\n",
       "    <tr>\n",
       "      <th>7</th>\n",
       "      <td>entertainment</td>\n",
       "      <td>3226</td>\n",
       "      <td>3050</td>\n",
       "      <td>2912</td>\n",
       "      <td>5.32</td>\n",
       "    </tr>\n",
       "    <tr>\n",
       "      <th>8</th>\n",
       "      <td>personal_care_products</td>\n",
       "      <td>768</td>\n",
       "      <td>768</td>\n",
       "      <td>864</td>\n",
       "      <td>1.27</td>\n",
       "    </tr>\n",
       "    <tr>\n",
       "      <th>9</th>\n",
       "      <td>reading</td>\n",
       "      <td>108</td>\n",
       "      <td>92</td>\n",
       "      <td>114</td>\n",
       "      <td>0.18</td>\n",
       "    </tr>\n",
       "    <tr>\n",
       "      <th>10</th>\n",
       "      <td>education</td>\n",
       "      <td>1407</td>\n",
       "      <td>1443</td>\n",
       "      <td>1271</td>\n",
       "      <td>2.32</td>\n",
       "    </tr>\n",
       "    <tr>\n",
       "      <th>11</th>\n",
       "      <td>tobacco</td>\n",
       "      <td>347</td>\n",
       "      <td>320</td>\n",
       "      <td>315</td>\n",
       "      <td>0.57</td>\n",
       "    </tr>\n",
       "    <tr>\n",
       "      <th>12</th>\n",
       "      <td>misc</td>\n",
       "      <td>993</td>\n",
       "      <td>899</td>\n",
       "      <td>907</td>\n",
       "      <td>1.64</td>\n",
       "    </tr>\n",
       "    <tr>\n",
       "      <th>13</th>\n",
       "      <td>cash_contrib</td>\n",
       "      <td>1888</td>\n",
       "      <td>1995</td>\n",
       "      <td>2283</td>\n",
       "      <td>3.11</td>\n",
       "    </tr>\n",
       "    <tr>\n",
       "      <th>14</th>\n",
       "      <td>personal_insurance_pensions</td>\n",
       "      <td>7296</td>\n",
       "      <td>7165</td>\n",
       "      <td>7246</td>\n",
       "      <td>12.03</td>\n",
       "    </tr>\n",
       "  </tbody>\n",
       "</table>\n",
       "</div>"
      ],
      "text/plain": [
       "                       category   2018   2019   2020  percentage_2018\n",
       "0   Average income before taxes  78635  82852  84352             0.00\n",
       "1   Average annual expenditures  61224  63036  61334             0.00\n",
       "2                          Food   7923   8169   7316            13.07\n",
       "3                       Housing  20091  20679  21409            33.13\n",
       "4          Apparel and services   1866   1883   1434             3.08\n",
       "5                transportation   9761  10742   9826            16.10\n",
       "6                    healthcare   4968   5193   5177             8.19\n",
       "7                 entertainment   3226   3050   2912             5.32\n",
       "8        personal_care_products    768    768    864             1.27\n",
       "9                       reading    108     92    114             0.18\n",
       "10                    education   1407   1443   1271             2.32\n",
       "11                      tobacco    347    320    315             0.57\n",
       "12                         misc    993    899    907             1.64\n",
       "13                 cash_contrib   1888   1995   2283             3.11\n",
       "14  personal_insurance_pensions   7296   7165   7246            12.03"
      ]
     },
     "execution_count": 39,
     "metadata": {},
     "output_type": "execute_result"
    }
   ],
   "source": [
    "keep"
   ]
  },
  {
   "cell_type": "code",
   "execution_count": 40,
   "id": "d5be8132",
   "metadata": {},
   "outputs": [
    {
     "data": {
      "text/plain": [
       "60642"
      ]
     },
     "execution_count": 40,
     "metadata": {},
     "output_type": "execute_result"
    }
   ],
   "source": [
    "keep['2018'][2:].sum()"
   ]
  },
  {
   "cell_type": "code",
   "execution_count": 41,
   "id": "e42dd59b",
   "metadata": {},
   "outputs": [
    {
     "name": "stderr",
     "output_type": "stream",
     "text": [
      "/Users/Jen/anaconda3/lib/python3.7/site-packages/ipykernel_launcher.py:8: SettingWithCopyWarning: \n",
      "A value is trying to be set on a copy of a slice from a DataFrame\n",
      "\n",
      "See the caveats in the documentation: https://pandas.pydata.org/pandas-docs/stable/user_guide/indexing.html#returning-a-view-versus-a-copy\n",
      "  \n",
      "/Users/Jen/anaconda3/lib/python3.7/site-packages/ipykernel_launcher.py:9: SettingWithCopyWarning: \n",
      "A value is trying to be set on a copy of a slice from a DataFrame\n",
      "\n",
      "See the caveats in the documentation: https://pandas.pydata.org/pandas-docs/stable/user_guide/indexing.html#returning-a-view-versus-a-copy\n",
      "  if __name__ == '__main__':\n"
     ]
    }
   ],
   "source": [
    "add_perc = []\n",
    "for i in range(len(keep['2020'])):\n",
    "    #print(keep['2018'][i])\n",
    "    total = keep['2020'].sum()\n",
    "    add_perc.append(round(keep['2020'][i]/keep['2020'][2:].sum()*100, 2))\n",
    "\n",
    "keep['percentage_2020'] = add_perc\n",
    "keep['percentage_2020'][0] = 0\n",
    "keep['percentage_2020'][1] = 0"
   ]
  },
  {
   "cell_type": "code",
   "execution_count": 42,
   "id": "8c500802",
   "metadata": {},
   "outputs": [
    {
     "name": "stderr",
     "output_type": "stream",
     "text": [
      "/Users/Jen/anaconda3/lib/python3.7/site-packages/ipykernel_launcher.py:8: SettingWithCopyWarning: \n",
      "A value is trying to be set on a copy of a slice from a DataFrame\n",
      "\n",
      "See the caveats in the documentation: https://pandas.pydata.org/pandas-docs/stable/user_guide/indexing.html#returning-a-view-versus-a-copy\n",
      "  \n",
      "/Users/Jen/anaconda3/lib/python3.7/site-packages/ipykernel_launcher.py:9: SettingWithCopyWarning: \n",
      "A value is trying to be set on a copy of a slice from a DataFrame\n",
      "\n",
      "See the caveats in the documentation: https://pandas.pydata.org/pandas-docs/stable/user_guide/indexing.html#returning-a-view-versus-a-copy\n",
      "  if __name__ == '__main__':\n"
     ]
    }
   ],
   "source": [
    "add_perc = []\n",
    "for i in range(len(keep['2019'])):\n",
    "    #print(keep['2018'][i])\n",
    "    total = keep['2019'].sum()\n",
    "    add_perc.append(round(keep['2019'][i]/keep['2019'][2:].sum()*100, 2))\n",
    "\n",
    "keep['percentage_2019'] = add_perc\n",
    "keep['percentage_2019'][0] = 0\n",
    "keep['percentage_2019'][1] = 0"
   ]
  },
  {
   "cell_type": "code",
   "execution_count": 43,
   "id": "22e371d5",
   "metadata": {},
   "outputs": [
    {
     "name": "stderr",
     "output_type": "stream",
     "text": [
      "/Users/Jen/anaconda3/lib/python3.7/site-packages/ipykernel_launcher.py:8: SettingWithCopyWarning: \n",
      "A value is trying to be set on a copy of a slice from a DataFrame\n",
      "\n",
      "See the caveats in the documentation: https://pandas.pydata.org/pandas-docs/stable/user_guide/indexing.html#returning-a-view-versus-a-copy\n",
      "  \n",
      "/Users/Jen/anaconda3/lib/python3.7/site-packages/ipykernel_launcher.py:9: SettingWithCopyWarning: \n",
      "A value is trying to be set on a copy of a slice from a DataFrame\n",
      "\n",
      "See the caveats in the documentation: https://pandas.pydata.org/pandas-docs/stable/user_guide/indexing.html#returning-a-view-versus-a-copy\n",
      "  if __name__ == '__main__':\n"
     ]
    },
    {
     "data": {
      "text/html": [
       "<div>\n",
       "<style scoped>\n",
       "    .dataframe tbody tr th:only-of-type {\n",
       "        vertical-align: middle;\n",
       "    }\n",
       "\n",
       "    .dataframe tbody tr th {\n",
       "        vertical-align: top;\n",
       "    }\n",
       "\n",
       "    .dataframe thead th {\n",
       "        text-align: right;\n",
       "    }\n",
       "</style>\n",
       "<table border=\"1\" class=\"dataframe\">\n",
       "  <thead>\n",
       "    <tr style=\"text-align: right;\">\n",
       "      <th></th>\n",
       "      <th>category</th>\n",
       "      <th>2018</th>\n",
       "      <th>2019</th>\n",
       "      <th>2020</th>\n",
       "      <th>percentage_2018</th>\n",
       "      <th>percentage_2020</th>\n",
       "      <th>percentage_2019</th>\n",
       "    </tr>\n",
       "  </thead>\n",
       "  <tbody>\n",
       "    <tr>\n",
       "      <th>0</th>\n",
       "      <td>Average income before taxes</td>\n",
       "      <td>78635</td>\n",
       "      <td>82852</td>\n",
       "      <td>84352</td>\n",
       "      <td>0.00</td>\n",
       "      <td>0.00</td>\n",
       "      <td>0.00</td>\n",
       "    </tr>\n",
       "    <tr>\n",
       "      <th>1</th>\n",
       "      <td>Average annual expenditures</td>\n",
       "      <td>61224</td>\n",
       "      <td>63036</td>\n",
       "      <td>61334</td>\n",
       "      <td>0.00</td>\n",
       "      <td>0.00</td>\n",
       "      <td>0.00</td>\n",
       "    </tr>\n",
       "    <tr>\n",
       "      <th>2</th>\n",
       "      <td>Food</td>\n",
       "      <td>7923</td>\n",
       "      <td>8169</td>\n",
       "      <td>7316</td>\n",
       "      <td>13.07</td>\n",
       "      <td>11.98</td>\n",
       "      <td>13.09</td>\n",
       "    </tr>\n",
       "    <tr>\n",
       "      <th>3</th>\n",
       "      <td>Housing</td>\n",
       "      <td>20091</td>\n",
       "      <td>20679</td>\n",
       "      <td>21409</td>\n",
       "      <td>33.13</td>\n",
       "      <td>35.05</td>\n",
       "      <td>33.14</td>\n",
       "    </tr>\n",
       "    <tr>\n",
       "      <th>4</th>\n",
       "      <td>Apparel and services</td>\n",
       "      <td>1866</td>\n",
       "      <td>1883</td>\n",
       "      <td>1434</td>\n",
       "      <td>3.08</td>\n",
       "      <td>2.35</td>\n",
       "      <td>3.02</td>\n",
       "    </tr>\n",
       "    <tr>\n",
       "      <th>5</th>\n",
       "      <td>transportation</td>\n",
       "      <td>9761</td>\n",
       "      <td>10742</td>\n",
       "      <td>9826</td>\n",
       "      <td>16.10</td>\n",
       "      <td>16.09</td>\n",
       "      <td>17.22</td>\n",
       "    </tr>\n",
       "    <tr>\n",
       "      <th>6</th>\n",
       "      <td>healthcare</td>\n",
       "      <td>4968</td>\n",
       "      <td>5193</td>\n",
       "      <td>5177</td>\n",
       "      <td>8.19</td>\n",
       "      <td>8.48</td>\n",
       "      <td>8.32</td>\n",
       "    </tr>\n",
       "    <tr>\n",
       "      <th>7</th>\n",
       "      <td>entertainment</td>\n",
       "      <td>3226</td>\n",
       "      <td>3050</td>\n",
       "      <td>2912</td>\n",
       "      <td>5.32</td>\n",
       "      <td>4.77</td>\n",
       "      <td>4.89</td>\n",
       "    </tr>\n",
       "    <tr>\n",
       "      <th>8</th>\n",
       "      <td>personal_care_products</td>\n",
       "      <td>768</td>\n",
       "      <td>768</td>\n",
       "      <td>864</td>\n",
       "      <td>1.27</td>\n",
       "      <td>1.41</td>\n",
       "      <td>1.23</td>\n",
       "    </tr>\n",
       "    <tr>\n",
       "      <th>9</th>\n",
       "      <td>reading</td>\n",
       "      <td>108</td>\n",
       "      <td>92</td>\n",
       "      <td>114</td>\n",
       "      <td>0.18</td>\n",
       "      <td>0.19</td>\n",
       "      <td>0.15</td>\n",
       "    </tr>\n",
       "    <tr>\n",
       "      <th>10</th>\n",
       "      <td>education</td>\n",
       "      <td>1407</td>\n",
       "      <td>1443</td>\n",
       "      <td>1271</td>\n",
       "      <td>2.32</td>\n",
       "      <td>2.08</td>\n",
       "      <td>2.31</td>\n",
       "    </tr>\n",
       "    <tr>\n",
       "      <th>11</th>\n",
       "      <td>tobacco</td>\n",
       "      <td>347</td>\n",
       "      <td>320</td>\n",
       "      <td>315</td>\n",
       "      <td>0.57</td>\n",
       "      <td>0.52</td>\n",
       "      <td>0.51</td>\n",
       "    </tr>\n",
       "    <tr>\n",
       "      <th>12</th>\n",
       "      <td>misc</td>\n",
       "      <td>993</td>\n",
       "      <td>899</td>\n",
       "      <td>907</td>\n",
       "      <td>1.64</td>\n",
       "      <td>1.49</td>\n",
       "      <td>1.44</td>\n",
       "    </tr>\n",
       "    <tr>\n",
       "      <th>13</th>\n",
       "      <td>cash_contrib</td>\n",
       "      <td>1888</td>\n",
       "      <td>1995</td>\n",
       "      <td>2283</td>\n",
       "      <td>3.11</td>\n",
       "      <td>3.74</td>\n",
       "      <td>3.20</td>\n",
       "    </tr>\n",
       "    <tr>\n",
       "      <th>14</th>\n",
       "      <td>personal_insurance_pensions</td>\n",
       "      <td>7296</td>\n",
       "      <td>7165</td>\n",
       "      <td>7246</td>\n",
       "      <td>12.03</td>\n",
       "      <td>11.86</td>\n",
       "      <td>11.48</td>\n",
       "    </tr>\n",
       "  </tbody>\n",
       "</table>\n",
       "</div>"
      ],
      "text/plain": [
       "                       category   2018   2019   2020  percentage_2018  \\\n",
       "0   Average income before taxes  78635  82852  84352             0.00   \n",
       "1   Average annual expenditures  61224  63036  61334             0.00   \n",
       "2                          Food   7923   8169   7316            13.07   \n",
       "3                       Housing  20091  20679  21409            33.13   \n",
       "4          Apparel and services   1866   1883   1434             3.08   \n",
       "5                transportation   9761  10742   9826            16.10   \n",
       "6                    healthcare   4968   5193   5177             8.19   \n",
       "7                 entertainment   3226   3050   2912             5.32   \n",
       "8        personal_care_products    768    768    864             1.27   \n",
       "9                       reading    108     92    114             0.18   \n",
       "10                    education   1407   1443   1271             2.32   \n",
       "11                      tobacco    347    320    315             0.57   \n",
       "12                         misc    993    899    907             1.64   \n",
       "13                 cash_contrib   1888   1995   2283             3.11   \n",
       "14  personal_insurance_pensions   7296   7165   7246            12.03   \n",
       "\n",
       "    percentage_2020  percentage_2019  \n",
       "0              0.00             0.00  \n",
       "1              0.00             0.00  \n",
       "2             11.98            13.09  \n",
       "3             35.05            33.14  \n",
       "4              2.35             3.02  \n",
       "5             16.09            17.22  \n",
       "6              8.48             8.32  \n",
       "7              4.77             4.89  \n",
       "8              1.41             1.23  \n",
       "9              0.19             0.15  \n",
       "10             2.08             2.31  \n",
       "11             0.52             0.51  \n",
       "12             1.49             1.44  \n",
       "13             3.74             3.20  \n",
       "14            11.86            11.48  "
      ]
     },
     "execution_count": 43,
     "metadata": {},
     "output_type": "execute_result"
    }
   ],
   "source": [
    "add_perc = []\n",
    "for i in range(len(keep['2018'])):\n",
    "    #print(keep['2018'][i])\n",
    "    total = keep['2018'].sum()\n",
    "    add_perc.append(round(keep['2018'][i]/keep['2018'][2:].sum()*100, 2))\n",
    "\n",
    "keep['percentage_2018'] = add_perc\n",
    "keep['percentage_2018'][0] = 0\n",
    "keep['percentage_2018'][1] = 0\n",
    "keep"
   ]
  },
  {
   "cell_type": "markdown",
   "id": "c65cde3c",
   "metadata": {},
   "source": [
    "# Generating Seed Data\n",
    "---\n",
    "- Making selected identifiers and transactions for sample data"
   ]
  },
  {
   "cell_type": "code",
   "execution_count": 16,
   "id": "e159c168",
   "metadata": {},
   "outputs": [],
   "source": [
    "transaction_dict = {\n",
    "    'gas':['QuikTrip 0000 00000000 ATLANTA GA',\n",
    "       'SHELL OIL 00000000000 EAST POINT GA',\n",
    "       'EXXON 000000-00 ATLANTA, GA'],\n",
    "    \n",
    "'groceries' : ['KROGER #000 STONE MOUNTAIN GA',\n",
    "            'PUBLIX SUPERMAR #0000 DECATOR, GA',\n",
    "            'WHOLE FOODS 000000 ATLANTA, GA',\n",
    "            'COSTCO 000 000000000000 DULUTH, GA'],\n",
    "\n",
    "'grooming' : ['CRAFTED HAIR SALON JUo000 LAWRENCEVILLE GA',\n",
    "           'BATH AND BODY WORKS 0000 LAWRENCEVILLE GA'],\n",
    "\n",
    "'homeimprov':['LOWES #00000* BUFORD GA',\n",
    "             'TRACTOR SUPPLY CO #0000 GRAYSON GA',\n",
    "             'THE HOME DEPOT #0000 NORCROSS GA'],\n",
    "\n",
    "'medical' : ['CVS/PHARMACY #0000 SUWANEE GA', \n",
    "          'WALGREENS #00000 WINDER GA',\n",
    "          'DRROBERTPARK OPTOMETRIST & ASSoc SNELLVILLE, GA',\n",
    "          'GREATER ATLANTA PEDIATRICS STONEMOUNTAIN GA',\n",
    "          'EMORYUNV HOSPITAL 78979879 ATLANTA GA',\n",
    "             'ATLANTA GYO&OB *0000000 DECATUR GA '],\n",
    "\n",
    "'conveyance' :['E ZPASS MD CSC0000000 000-0000000 MD',\n",
    "              'AUTOZONE 0000 STONEMOUNTAIN GA',\n",
    "              'ADVANCE AUTO PARTS #0000 LITHONIA GA',\n",
    "             'EXPRESSOILCHANGE 00*0000000-0 SNELLVILLE, GA',\n",
    "             'NORTHERN TOOL 00 000000 000 SNELLVILLE, GA'],\n",
    "\n",
    "'takeaway': ['PANERA BREAD #000000 P ATLANTA GA', \n",
    "        'CHICK-FIL-A #00000 TUCKER GA',\n",
    "        \"WENDY'S LOGAN LOGANVILLE GA\",\n",
    "        'BOJANGLES 0000 DULUTH GA',\n",
    "        'COOK OUT LITHONIA GA 0 LITHONIA GA',\n",
    "        'TROPICAL SMOOTHIE CAFE GA DECATUR GA',\n",
    "        'HARDEES 0000 LILBURN GA',\n",
    "        'PANDA EXPRESS 00000H TUCKER GA',\n",
    "        'KFC G00000 DECATUR GA',\n",
    "        'Subway 00000 Lithonia GA',\n",
    "        'STARBUCKS STORE 0000 ATLANTA GA'],\n",
    "\n",
    "'utility' :['COX INTERNET 1233456 GA',\n",
    "           'VZWRLSS*APOCC VISW 000-000-0000 FL',\n",
    "          'T-MOBILE 0000 00000 00000 ATLANTA GA',\n",
    "          'GEORGIAPOWERCO 000000 ATLANTA GA',\n",
    "          'CITYOFDECATUR PUBLIC WORKS 0000000 GA'],\n",
    "\n",
    "'clothing' : ['ROSS STORES # 0000 TUCKER GA',\n",
    "           'BATH AND BODY WORKS 0000 STONECREST GA',\n",
    "           'WAL-MART #0000 STONEMOUNTAIN GA',\n",
    "           \"KOHL'S #0000 SNELLVILLE GA\",\n",
    "           'TARGET 00000000 TUCKER GA',\n",
    "           'WM SUPERCENTER #0000 CHAMBLEE GA'],\n",
    "\n",
    "'holiday' : [\n",
    "    'AMERICAN AIR 00-00000000000 MINNEAPOLIS, MN',\n",
    "    'EXPEDIA 00000000000000 EXPEDIA.COM WA',\n",
    "    'UNITED 000000000000 000-000-0000 TX'\n",
    "    'SANDALSOCHI JAMAICA *008900088899 JAMAICA'],\n",
    "\n",
    "'streaming' : ['Disney PLUS Burbank CA',\n",
    "             'AMZN Mktp US*0A0000000 Amzn.com/bill WA',\n",
    "             'APPLE.COM/BILL 000-000-0000 CA'],\n",
    "\n",
    "'work': ['PAYPAL *LINKEDIN 000-000-0000 CA',\n",
    "       'OFFICEMAX/DEPOT 0000 peachtree corners GA',\n",
    "        'BEST BUY 000000 TUCKER GA'],\n",
    "  \n",
    "'gift':['Etsy.com - leatherwork00 000-0000000 NY', \n",
    "      'SHUTTERFLY, INC. 000-000000000 CA',\n",
    "     'PeachTree FLOWERS 0000000 ATLANTA, GA'],\n",
    "\n",
    "'baby': ['buybuy BABY 000000 Snellville Ga',\n",
    "       'POTTERYBARN KIDS 000 000000 ATL GA',\n",
    "       'CARTERS KIDS 00 00 00000 LAWERENCEVILLE GA',\n",
    "       'BABYGAP 0-0000-000 Atlanta GA'],\n",
    "\n",
    "'wedding' : ['TIFFANY&CO *90-000009- ATLANTA GA',\n",
    "          'helzbergDiamonds 70000-000 ATLANTA GA',\n",
    "          'BrianneMcMullan Events llc *999*9999****** GA',\n",
    "          'ATLBOTANICALGAR ATLANTA GA',\n",
    "          'the White Magnolia Bridal ATLANTA GA',\n",
    "          'RACHMAKESCAKES ATL GA'],\n",
    "\n",
    "'furniture':['IKEACO 88888888888 ATLANTA GA',\n",
    "           'BEDBATHBEYOND 898098098 snellville, GA',\n",
    "            'ASHLEY FURNITURE 8****9999 ATHENS GA']}"
   ]
  },
  {
   "cell_type": "markdown",
   "id": "afefc641",
   "metadata": {},
   "source": [
    "# Putting Dict into a DF\n",
    "---"
   ]
  },
  {
   "cell_type": "code",
   "execution_count": 17,
   "id": "7682beff",
   "metadata": {},
   "outputs": [],
   "source": [
    "temp_df = pd.DataFrame()\n",
    "for key, value in transaction_dict.items():\n",
    "    temp_df[key] = pd.Series(value)"
   ]
  },
  {
   "cell_type": "code",
   "execution_count": 37,
   "id": "4dc4f634",
   "metadata": {},
   "outputs": [],
   "source": [
    "#temp_df.head()"
   ]
  },
  {
   "cell_type": "markdown",
   "id": "d0de1852",
   "metadata": {},
   "source": [
    "# Flipping DF\n",
    "---"
   ]
  },
  {
   "cell_type": "code",
   "execution_count": 19,
   "id": "53da0bed",
   "metadata": {},
   "outputs": [
    {
     "data": {
      "text/html": [
       "<div>\n",
       "<style scoped>\n",
       "    .dataframe tbody tr th:only-of-type {\n",
       "        vertical-align: middle;\n",
       "    }\n",
       "\n",
       "    .dataframe tbody tr th {\n",
       "        vertical-align: top;\n",
       "    }\n",
       "\n",
       "    .dataframe thead th {\n",
       "        text-align: right;\n",
       "    }\n",
       "</style>\n",
       "<table border=\"1\" class=\"dataframe\">\n",
       "  <thead>\n",
       "    <tr style=\"text-align: right;\">\n",
       "      <th></th>\n",
       "      <th>identifier</th>\n",
       "      <th>transaction</th>\n",
       "    </tr>\n",
       "  </thead>\n",
       "  <tbody>\n",
       "    <tr>\n",
       "      <th>0</th>\n",
       "      <td>gas</td>\n",
       "      <td>QuikTrip 0000 00000000 ATLANTA GA</td>\n",
       "    </tr>\n",
       "    <tr>\n",
       "      <th>1</th>\n",
       "      <td>groceries</td>\n",
       "      <td>KROGER #000 STONE MOUNTAIN GA</td>\n",
       "    </tr>\n",
       "    <tr>\n",
       "      <th>2</th>\n",
       "      <td>grooming</td>\n",
       "      <td>CRAFTED HAIR SALON JUo000 LAWRENCEVILLE GA</td>\n",
       "    </tr>\n",
       "    <tr>\n",
       "      <th>3</th>\n",
       "      <td>homeimprov</td>\n",
       "      <td>LOWES #00000* BUFORD GA</td>\n",
       "    </tr>\n",
       "    <tr>\n",
       "      <th>4</th>\n",
       "      <td>medical</td>\n",
       "      <td>CVS/PHARMACY #0000 SUWANEE GA</td>\n",
       "    </tr>\n",
       "  </tbody>\n",
       "</table>\n",
       "</div>"
      ],
      "text/plain": [
       "   identifier                                 transaction\n",
       "0         gas           QuikTrip 0000 00000000 ATLANTA GA\n",
       "1   groceries               KROGER #000 STONE MOUNTAIN GA\n",
       "2    grooming  CRAFTED HAIR SALON JUo000 LAWRENCEVILLE GA\n",
       "3  homeimprov                     LOWES #00000* BUFORD GA\n",
       "4     medical               CVS/PHARMACY #0000 SUWANEE GA"
      ]
     },
     "execution_count": 19,
     "metadata": {},
     "output_type": "execute_result"
    }
   ],
   "source": [
    "temp_df.columns = temp_df.columns.str.split(\"_\", expand =True)\n",
    "temp_df = temp_df.stack(level=0).rename_axis((None, 'identifier')).reset_index('identifier').reset_index(drop=True)\n",
    "temp_df = temp_df.rename(columns={temp_df.columns[1]: 'transaction'})\n",
    "temp_df.head()"
   ]
  },
  {
   "cell_type": "markdown",
   "id": "b2f28e4f",
   "metadata": {},
   "source": [
    "# Adding Random Dates\n",
    "---"
   ]
  },
  {
   "cell_type": "code",
   "execution_count": 20,
   "id": "964dadf9",
   "metadata": {},
   "outputs": [],
   "source": [
    "def generate_ran_date(year, month, first_day, end_day):\n",
    "    start = datetime.date(year, month, first_day)\n",
    "    end = datetime.date(year, month, end_day)\n",
    "    time_btw = end - start\n",
    "    days_btw = time_btw.days\n",
    "    rand_num = random.randrange(days_btw)\n",
    "    rand_date = start + datetime.timedelta(days=rand_num)\n",
    "    return rand_date"
   ]
  },
  {
   "cell_type": "code",
   "execution_count": 21,
   "id": "636ec7e1",
   "metadata": {},
   "outputs": [],
   "source": [
    "dates = []\n",
    "for i in range(len(temp_df)):\n",
    "    dates.append(generate_ran_date(2018, 1, 1, 31))\n",
    "temp_df['date'] = dates"
   ]
  },
  {
   "cell_type": "code",
   "execution_count": 22,
   "id": "03e4938f",
   "metadata": {},
   "outputs": [
    {
     "data": {
      "text/html": [
       "<div>\n",
       "<style scoped>\n",
       "    .dataframe tbody tr th:only-of-type {\n",
       "        vertical-align: middle;\n",
       "    }\n",
       "\n",
       "    .dataframe tbody tr th {\n",
       "        vertical-align: top;\n",
       "    }\n",
       "\n",
       "    .dataframe thead th {\n",
       "        text-align: right;\n",
       "    }\n",
       "</style>\n",
       "<table border=\"1\" class=\"dataframe\">\n",
       "  <thead>\n",
       "    <tr style=\"text-align: right;\">\n",
       "      <th></th>\n",
       "      <th>identifier</th>\n",
       "      <th>transaction</th>\n",
       "      <th>date</th>\n",
       "    </tr>\n",
       "  </thead>\n",
       "  <tbody>\n",
       "    <tr>\n",
       "      <th>0</th>\n",
       "      <td>gas</td>\n",
       "      <td>QuikTrip 0000 00000000 ATLANTA GA</td>\n",
       "      <td>2018-01-14</td>\n",
       "    </tr>\n",
       "    <tr>\n",
       "      <th>1</th>\n",
       "      <td>groceries</td>\n",
       "      <td>KROGER #000 STONE MOUNTAIN GA</td>\n",
       "      <td>2018-01-22</td>\n",
       "    </tr>\n",
       "    <tr>\n",
       "      <th>2</th>\n",
       "      <td>grooming</td>\n",
       "      <td>CRAFTED HAIR SALON JUo000 LAWRENCEVILLE GA</td>\n",
       "      <td>2018-01-20</td>\n",
       "    </tr>\n",
       "    <tr>\n",
       "      <th>3</th>\n",
       "      <td>homeimprov</td>\n",
       "      <td>LOWES #00000* BUFORD GA</td>\n",
       "      <td>2018-01-12</td>\n",
       "    </tr>\n",
       "    <tr>\n",
       "      <th>4</th>\n",
       "      <td>medical</td>\n",
       "      <td>CVS/PHARMACY #0000 SUWANEE GA</td>\n",
       "      <td>2018-01-06</td>\n",
       "    </tr>\n",
       "  </tbody>\n",
       "</table>\n",
       "</div>"
      ],
      "text/plain": [
       "   identifier                                 transaction        date\n",
       "0         gas           QuikTrip 0000 00000000 ATLANTA GA  2018-01-14\n",
       "1   groceries               KROGER #000 STONE MOUNTAIN GA  2018-01-22\n",
       "2    grooming  CRAFTED HAIR SALON JUo000 LAWRENCEVILLE GA  2018-01-20\n",
       "3  homeimprov                     LOWES #00000* BUFORD GA  2018-01-12\n",
       "4     medical               CVS/PHARMACY #0000 SUWANEE GA  2018-01-06"
      ]
     },
     "execution_count": 22,
     "metadata": {},
     "output_type": "execute_result"
    }
   ],
   "source": [
    "temp_df.head()"
   ]
  },
  {
   "cell_type": "markdown",
   "id": "c433851d",
   "metadata": {},
   "source": [
    "# Adding Transaction Amounts\n",
    "---\n",
    "- Making a sensible pattern to spending\n",
    "- [US Bureau of Statistics Consumer Expendatures 2020](https://www.bls.gov/news.release/pdf/cesan.pdf)"
   ]
  },
  {
   "cell_type": "code",
   "execution_count": 23,
   "id": "d24eec53",
   "metadata": {},
   "outputs": [
    {
     "data": {
      "text/plain": [
       "array(['gas', 'groceries', 'grooming', 'homeimprov', 'medical',\n",
       "       'conveyance', 'takeaway', 'utility', 'clothing', 'holiday',\n",
       "       'streaming', 'work', 'gift', 'baby', 'wedding', 'furniture'],\n",
       "      dtype=object)"
      ]
     },
     "execution_count": 23,
     "metadata": {},
     "output_type": "execute_result"
    }
   ],
   "source": [
    "temp_df['identifier'].unique()"
   ]
  },
  {
   "cell_type": "markdown",
   "id": "e5b9a322",
   "metadata": {},
   "source": [
    "### Average person drives \n",
    "- 14,263 miles/yr divided by 12 == 1189 miles/mo divided by 4 weeks == 297.25 miles/wk\n",
    "- 297.25 miles/wk divided by 24 miles per gallon == 12.39\n",
    "- Average cost of gas in 2018 == $2.81\n",
    "- Monthly average spending\n",
    "- [Historical Gas Prices](https://www.eia.gov/dnav/pet/hist/LeafHandler.ashx?n=pet&s=emm_epmr_pte_nus_dpg&f=m)"
   ]
  },
  {
   "cell_type": "code",
   "execution_count": 24,
   "id": "cc2ab2f3",
   "metadata": {},
   "outputs": [
    {
     "data": {
      "text/plain": [
       "1671.7424583333334"
      ]
     },
     "execution_count": 24,
     "metadata": {},
     "output_type": "execute_result"
    }
   ],
   "source": [
    "14263/24*2.813"
   ]
  },
  {
   "cell_type": "code",
   "execution_count": 25,
   "id": "613f3740",
   "metadata": {},
   "outputs": [],
   "source": [
    "def gen_ran_num(start, stop):\n",
    "    return random.randint(start, stop)\n",
    "def gen_ran_float(start, stop):\n",
    "    return random.uniform(start, stop)"
   ]
  },
  {
   "cell_type": "code",
   "execution_count": 26,
   "id": "e0f048be",
   "metadata": {},
   "outputs": [],
   "source": [
    "def get_end_month(year, month):\n",
    "    end = calendar.monthrange(year, month)\n",
    "    return end[1] "
   ]
  },
  {
   "cell_type": "code",
   "execution_count": 27,
   "id": "7a76ff9e",
   "metadata": {},
   "outputs": [],
   "source": [
    "def create_random_gas(slice_df, max_duplicates, min_price, max_price, month, day, end_day):\n",
    "    gas_prices_by_mo = [2.671, 2.705, 2.709, 2.873, 2.987, 2.928, 2.928, 2.914, 2.915, 2.943, 2.736, 2.457]\n",
    "    random_purchases = gen_ran_num(1, max_duplicates)\n",
    "    #print(random_purchases)\n",
    "    if random_purchases < len(slice_df):\n",
    "        slice_df = slice_df[:random_purchases]\n",
    "    else:\n",
    "        to_append = random_purchases - len(slice_df)\n",
    "        for i in range(to_append):\n",
    "            slice_df = slice_df.append(slice_df.iloc[gen_ran_num(0, len(slice_df)-1)]).reset_index(drop=True)\n",
    "            slice_df.date[i] = generate_ran_date(2018, month, day, end_day)\n",
    "            #multiplying the gallons by the gas price of the month purchased\n",
    "            slice_df.amount[i] = gas_prices_by_mo[0]*gen_ran_float(min_price, max_price)\n",
    "    return slice_df"
   ]
  },
  {
   "cell_type": "code",
   "execution_count": 28,
   "id": "52a95a5e",
   "metadata": {},
   "outputs": [
    {
     "data": {
      "text/plain": [
       "2.813833333333333"
      ]
     },
     "execution_count": 28,
     "metadata": {},
     "output_type": "execute_result"
    }
   ],
   "source": [
    "gas_prices_by_mo = [2.671, 2.705, 2.709, 2.873, 2.987, 2.928, 2.928, 2.914, 2.915, 2.943, 2.736, 2.457]\n",
    "sum(gas_prices_by_mo)/12"
   ]
  },
  {
   "cell_type": "code",
   "execution_count": 29,
   "id": "9da7c620",
   "metadata": {},
   "outputs": [],
   "source": [
    "gas = temp_df.loc[temp_df['identifier'] == 'gas'].reset_index(drop=True)\n",
    "#multiplying jan gas prices by average gallons bought by week\n",
    "gas['amount'] = [gas_prices_by_mo[0]*gen_ran_float(11, 14) for i in range(len(gas))]"
   ]
  },
  {
   "cell_type": "code",
   "execution_count": 30,
   "id": "29c987e0",
   "metadata": {},
   "outputs": [
    {
     "name": "stderr",
     "output_type": "stream",
     "text": [
      "/Users/Jen/anaconda3/lib/python3.7/site-packages/ipykernel_launcher.py:11: SettingWithCopyWarning: \n",
      "A value is trying to be set on a copy of a slice from a DataFrame\n",
      "\n",
      "See the caveats in the documentation: https://pandas.pydata.org/pandas-docs/stable/user_guide/indexing.html#returning-a-view-versus-a-copy\n",
      "  # This is added back by InteractiveShellApp.init_path()\n",
      "/Users/Jen/anaconda3/lib/python3.7/site-packages/ipykernel_launcher.py:13: SettingWithCopyWarning: \n",
      "A value is trying to be set on a copy of a slice from a DataFrame\n",
      "\n",
      "See the caveats in the documentation: https://pandas.pydata.org/pandas-docs/stable/user_guide/indexing.html#returning-a-view-versus-a-copy\n",
      "  del sys.path[0]\n"
     ]
    },
    {
     "data": {
      "text/html": [
       "<div>\n",
       "<style scoped>\n",
       "    .dataframe tbody tr th:only-of-type {\n",
       "        vertical-align: middle;\n",
       "    }\n",
       "\n",
       "    .dataframe tbody tr th {\n",
       "        vertical-align: top;\n",
       "    }\n",
       "\n",
       "    .dataframe thead th {\n",
       "        text-align: right;\n",
       "    }\n",
       "</style>\n",
       "<table border=\"1\" class=\"dataframe\">\n",
       "  <thead>\n",
       "    <tr style=\"text-align: right;\">\n",
       "      <th></th>\n",
       "      <th>identifier</th>\n",
       "      <th>transaction</th>\n",
       "      <th>date</th>\n",
       "      <th>amount</th>\n",
       "    </tr>\n",
       "  </thead>\n",
       "  <tbody>\n",
       "    <tr>\n",
       "      <th>0</th>\n",
       "      <td>gas</td>\n",
       "      <td>QuikTrip 0000 00000000 ATLANTA GA</td>\n",
       "      <td>2018-01-28</td>\n",
       "      <td>30.494973</td>\n",
       "    </tr>\n",
       "    <tr>\n",
       "      <th>1</th>\n",
       "      <td>gas</td>\n",
       "      <td>SHELL OIL 00000000000 EAST POINT GA</td>\n",
       "      <td>2018-01-11</td>\n",
       "      <td>34.130879</td>\n",
       "    </tr>\n",
       "    <tr>\n",
       "      <th>2</th>\n",
       "      <td>gas</td>\n",
       "      <td>EXXON 000000-00 ATLANTA, GA</td>\n",
       "      <td>2018-01-13</td>\n",
       "      <td>31.193737</td>\n",
       "    </tr>\n",
       "    <tr>\n",
       "      <th>3</th>\n",
       "      <td>gas</td>\n",
       "      <td>SHELL OIL 00000000000 EAST POINT GA</td>\n",
       "      <td>2018-01-25</td>\n",
       "      <td>31.759051</td>\n",
       "    </tr>\n",
       "    <tr>\n",
       "      <th>4</th>\n",
       "      <td>gas</td>\n",
       "      <td>SHELL OIL 00000000000 EAST POINT GA</td>\n",
       "      <td>2018-01-25</td>\n",
       "      <td>31.759051</td>\n",
       "    </tr>\n",
       "  </tbody>\n",
       "</table>\n",
       "</div>"
      ],
      "text/plain": [
       "  identifier                          transaction        date     amount\n",
       "0        gas    QuikTrip 0000 00000000 ATLANTA GA  2018-01-28  30.494973\n",
       "1        gas  SHELL OIL 00000000000 EAST POINT GA  2018-01-11  34.130879\n",
       "2        gas          EXXON 000000-00 ATLANTA, GA  2018-01-13  31.193737\n",
       "3        gas  SHELL OIL 00000000000 EAST POINT GA  2018-01-25  31.759051\n",
       "4        gas  SHELL OIL 00000000000 EAST POINT GA  2018-01-25  31.759051"
      ]
     },
     "execution_count": 30,
     "metadata": {},
     "output_type": "execute_result"
    }
   ],
   "source": [
    "create_random_gas(gas, 6, 11, 14, 1, 1, 31)"
   ]
  },
  {
   "cell_type": "markdown",
   "id": "32d7a26a",
   "metadata": {},
   "source": [
    "### Making a List of Lists of the first and last day of the month for datetime interval"
   ]
  },
  {
   "cell_type": "code",
   "execution_count": 31,
   "id": "35be0b29",
   "metadata": {},
   "outputs": [],
   "source": [
    "months = []\n",
    "for i in range(13):\n",
    "    if  i != 0:\n",
    "        months.append([[2018, i, 1], [2018, i, get_end_month(2018, i)]])"
   ]
  },
  {
   "cell_type": "code",
   "execution_count": 32,
   "id": "185c6775",
   "metadata": {},
   "outputs": [],
   "source": [
    "# for i in range(len(months)):\n",
    "#     print(f'month = {months[i][0][1]}')\n",
    "#     print(f'first day {months[i][0][2]}')\n",
    "#     print(f'last_day {months[i][1][2]}')\n",
    "#     break"
   ]
  },
  {
   "cell_type": "code",
   "execution_count": 33,
   "id": "a5509dbd",
   "metadata": {},
   "outputs": [],
   "source": [
    "#create_random_gas(gas, 6, 11, 14, months[0][0][1], months[0][0][2], months[0][1][2])"
   ]
  },
  {
   "cell_type": "code",
   "execution_count": 34,
   "id": "04062820",
   "metadata": {},
   "outputs": [
    {
     "name": "stderr",
     "output_type": "stream",
     "text": [
      "/Users/Jen/anaconda3/lib/python3.7/site-packages/ipykernel_launcher.py:11: SettingWithCopyWarning: \n",
      "A value is trying to be set on a copy of a slice from a DataFrame\n",
      "\n",
      "See the caveats in the documentation: https://pandas.pydata.org/pandas-docs/stable/user_guide/indexing.html#returning-a-view-versus-a-copy\n",
      "  # This is added back by InteractiveShellApp.init_path()\n",
      "/Users/Jen/anaconda3/lib/python3.7/site-packages/ipykernel_launcher.py:13: SettingWithCopyWarning: \n",
      "A value is trying to be set on a copy of a slice from a DataFrame\n",
      "\n",
      "See the caveats in the documentation: https://pandas.pydata.org/pandas-docs/stable/user_guide/indexing.html#returning-a-view-versus-a-copy\n",
      "  del sys.path[0]\n"
     ]
    }
   ],
   "source": [
    "all_gas = pd.DataFrame()\n",
    "for i in range(len(months)):\n",
    "    all_gas = all_gas.append(create_random_gas(gas, 6, 11, 14, months[i][0][1], months[i][0][2], months[i][1][2])).reset_index(drop=True)"
   ]
  },
  {
   "cell_type": "code",
   "execution_count": 35,
   "id": "0d03e173",
   "metadata": {},
   "outputs": [
    {
     "data": {
      "text/plain": [
       "1684.5806366098882"
      ]
     },
     "execution_count": 35,
     "metadata": {},
     "output_type": "execute_result"
    }
   ],
   "source": [
    "all_gas['amount'].sum()"
   ]
  },
  {
   "cell_type": "code",
   "execution_count": 36,
   "id": "79187002",
   "metadata": {},
   "outputs": [
    {
     "data": {
      "text/plain": [
       "array(['gas', 'groceries', 'grooming', 'homeimprov', 'medical',\n",
       "       'conveyance', 'takeaway', 'utility', 'clothing', 'holiday',\n",
       "       'streaming', 'work', 'gift', 'baby', 'wedding', 'furniture'],\n",
       "      dtype=object)"
      ]
     },
     "execution_count": 36,
     "metadata": {},
     "output_type": "execute_result"
    }
   ],
   "source": [
    "temp_df['identifier'].unique()"
   ]
  },
  {
   "cell_type": "code",
   "execution_count": null,
   "id": "244f646b",
   "metadata": {},
   "outputs": [],
   "source": []
  }
 ],
 "metadata": {
  "kernelspec": {
   "display_name": "Python 3 (ipykernel)",
   "language": "python",
   "name": "python3"
  },
  "language_info": {
   "codemirror_mode": {
    "name": "ipython",
    "version": 3
   },
   "file_extension": ".py",
   "mimetype": "text/x-python",
   "name": "python",
   "nbconvert_exporter": "python",
   "pygments_lexer": "ipython3",
   "version": "3.7.7"
  }
 },
 "nbformat": 4,
 "nbformat_minor": 5
}
