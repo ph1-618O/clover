{
 "cells": [
  {
   "cell_type": "markdown",
   "metadata": {},
   "source": [
    "# budgetPy\n",
    "- Program that takes a xls file, a csv, or a clipboard copy from a web page and creates a budget\n",
    "- Asks for user input as to other debts, payday loans, student, medical bills, personal loans Car payment, mortgage?\n",
    "- Asks for user input as to what category each grouping of purchases is\n",
    "- Ask for user input if it is a Savings, CC, or Checking account\n",
    "- Tracks Money transfers between accounts\n",
    "- Establishes what the base income is// asks for user input if a certain deposit is their income or other\n",
    "- Splits up purchases by regular bills, irregular bills, groceries, gas, subscriptions, entertainment, clothing, travel, other\n",
    "- Subtract expenses from income to equal zero, if done correctly it will recommend excess to be trans to savings\n",
    "- Creates a debt snowball, by listing debts smallest to largest, kind, total payoff, min payment\n",
    "- Start with the smallest debt and paying it off first\n",
    "- Make estimations on how long certain debts will take to pay off with user guided slider\n",
    "- percentages, giving 10, saving 10, food 10-15, utilities 5 -15, housing 25, transportation 10, health 5-10\n",
    "- insurance 10-25, recreation 5 -10, personal spending 5 - 10, miscellaneous 5 - 10"
   ]
  },
  {
   "cell_type": "code",
   "execution_count": null,
   "metadata": {},
   "outputs": [],
   "source": [
    "from datetime import datetime\n",
    "from datetime import date\n",
    "from calendar import month_abbr\n",
    "import pandas as pd\n",
    "import numpy as np\n",
    "import matplotlib.pyplot as plt\n",
    "import matplotlib.ticker as ticker\n",
    "from matplotlib.lines import Line2D\n",
    "import requests\n",
    "import re"
   ]
  },
  {
   "cell_type": "code",
   "execution_count": null,
   "metadata": {},
   "outputs": [],
   "source": [
    "clipDF = pd.read_clipboard()"
   ]
  },
  {
   "cell_type": "code",
   "execution_count": null,
   "metadata": {},
   "outputs": [],
   "source": [
    "clipDF"
   ]
  },
  {
   "cell_type": "code",
   "execution_count": null,
   "metadata": {},
   "outputs": [],
   "source": [
    "csvName = input('What type of account is it?')\n",
    "csvName = csvName + '.csv'\n",
    "clipDF.to_csv(csvName, index = False)"
   ]
  },
  {
   "cell_type": "code",
   "execution_count": null,
   "metadata": {},
   "outputs": [],
   "source": [
    "\n",
    "clipCSV = pd.read_csv(csvName)"
   ]
  },
  {
   "cell_type": "code",
   "execution_count": null,
   "metadata": {},
   "outputs": [],
   "source": [
    "clipCSV"
   ]
  },
  {
   "cell_type": "code",
   "execution_count": null,
   "metadata": {},
   "outputs": [],
   "source": [
    "row1 = []\n",
    "for col in clipCSV.columns:\n",
    "    row1.append(col)"
   ]
  },
  {
   "cell_type": "code",
   "execution_count": null,
   "metadata": {},
   "outputs": [],
   "source": [
    "#clipDF"
   ]
  },
  {
   "cell_type": "code",
   "execution_count": null,
   "metadata": {},
   "outputs": [],
   "source": [
    "clipCSV"
   ]
  },
  {
   "cell_type": "code",
   "execution_count": null,
   "metadata": {},
   "outputs": [],
   "source": [
    "def insertRow(rowNum, df, rowVal):\n",
    "    df1 = df[0:rowNum]\n",
    "    df2 = df[rowNum:]\n",
    "    df1.loc[rowNum] = rowVal\n",
    "    dfResult = pd.concat([df1, df2])\n",
    "    #dfResult = dfResult.index\n",
    "#     dfResult = [*range(dfResult).shape[0]]\n",
    "    return dfResult"
   ]
  },
  {
   "cell_type": "code",
   "execution_count": null,
   "metadata": {},
   "outputs": [],
   "source": [
    "rowNum = 1\n",
    "rowVal = row1\n",
    "df = insertRow(rowNum, clipDF, rowVal)"
   ]
  },
  {
   "cell_type": "code",
   "execution_count": null,
   "metadata": {},
   "outputs": [],
   "source": [
    "df"
   ]
  },
  {
   "cell_type": "code",
   "execution_count": null,
   "metadata": {},
   "outputs": [],
   "source": [
    "row1"
   ]
  },
  {
   "cell_type": "code",
   "execution_count": null,
   "metadata": {},
   "outputs": [],
   "source": [
    "clipDF = clipDF.rename(columns = {'11/05/2020'})"
   ]
  }
 ],
 "metadata": {
  "kernelspec": {
   "display_name": "Python 3",
   "language": "python",
   "name": "python3"
  },
  "language_info": {
   "codemirror_mode": {
    "name": "ipython",
    "version": 3
   },
   "file_extension": ".py",
   "mimetype": "text/x-python",
   "name": "python",
   "nbconvert_exporter": "python",
   "pygments_lexer": "ipython3",
   "version": "3.7.7"
  }
 },
 "nbformat": 4,
 "nbformat_minor": 4
}
