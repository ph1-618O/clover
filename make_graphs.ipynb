{
 "cells": [
  {
   "cell_type": "code",
   "execution_count": 4,
   "metadata": {},
   "outputs": [],
   "source": [
    "#!/usr/bin/env python3\n",
    "# coding: utf-8\n",
    "\n",
    "import plotly.graph_objects as go\n",
    "import pandas as pd\n",
    "# import plotly.io as pio\n",
    "# pio.renderers.default = 'png'\n",
    "import os\n",
    "\n",
    "#Orca must be installed?\n",
    "#conda install -c plotly plotly-orca\n",
    "#Kaleido is for exporting images from plotly\n",
    "#pip install -U kaleido\n",
    "\n",
    "if not os.path.exists('images'):\n",
    "    os.mkdir('images')\n",
    "\n",
    "def make_table(df):\n",
    "    fig = go.Figure(data=[go.Table(\n",
    "        header=dict(values=list(df.columns),\n",
    "                    fill_color='#6b9080',\n",
    "                    align='left',\n",
    "                    font = dict(family=\"Arial\", size=14, color='#f6fff8')),\n",
    "        cells=dict(values=[df.date, df.transaction, df.amount, df.identifier, df.category],\n",
    "                   fill_color='#cce3de',\n",
    "                   align='left',\n",
    "                   font = dict(family=\"Arial\", size=10, color='#34463E')))\n",
    "    ])\n",
    "    \n",
    "    #fig.write_image('images/table.jpg')\n",
    "    fig.write_image(\"images/table.png\", format=\"png\", width=600, height=350, scale=2)\n",
    "\n",
    "    fig.show()"
   ]
  },
  {
   "cell_type": "code",
   "execution_count": 5,
   "metadata": {},
   "outputs": [
    {
     "data": {
      "text/html": [
       "<div>\n",
       "<style scoped>\n",
       "    .dataframe tbody tr th:only-of-type {\n",
       "        vertical-align: middle;\n",
       "    }\n",
       "\n",
       "    .dataframe tbody tr th {\n",
       "        vertical-align: top;\n",
       "    }\n",
       "\n",
       "    .dataframe thead th {\n",
       "        text-align: right;\n",
       "    }\n",
       "</style>\n",
       "<table border=\"1\" class=\"dataframe\">\n",
       "  <thead>\n",
       "    <tr style=\"text-align: right;\">\n",
       "      <th></th>\n",
       "      <th>date</th>\n",
       "      <th>transaction</th>\n",
       "      <th>amount</th>\n",
       "      <th>identifier</th>\n",
       "      <th>category</th>\n",
       "    </tr>\n",
       "  </thead>\n",
       "  <tbody>\n",
       "    <tr>\n",
       "      <th>0</th>\n",
       "      <td>04/14/2021</td>\n",
       "      <td>FOOD LION #8457 CHINA LAKE CA</td>\n",
       "      <td>-$69.99</td>\n",
       "      <td>LION</td>\n",
       "      <td>food</td>\n",
       "    </tr>\n",
       "    <tr>\n",
       "      <th>1</th>\n",
       "      <td>04/05/2021</td>\n",
       "      <td>KROGER #456 MARTINSBURG NC</td>\n",
       "      <td>-$229.12</td>\n",
       "      <td>KROGER</td>\n",
       "      <td>food</td>\n",
       "    </tr>\n",
       "    <tr>\n",
       "      <th>2</th>\n",
       "      <td>04/16/2021</td>\n",
       "      <td>BOJANGLES 1931 ARLINGTON PA</td>\n",
       "      <td>-$20.00</td>\n",
       "      <td>BOJANGLES</td>\n",
       "      <td>fast_food</td>\n",
       "    </tr>\n",
       "    <tr>\n",
       "      <th>3</th>\n",
       "      <td>04/10/2021</td>\n",
       "      <td>STARBUCKS STORE 56548 APPLEVILLE GA</td>\n",
       "      <td>-$48.39</td>\n",
       "      <td>STARBUCKS</td>\n",
       "      <td>fast_food</td>\n",
       "    </tr>\n",
       "    <tr>\n",
       "      <th>4</th>\n",
       "      <td>04/08/2021</td>\n",
       "      <td>DOORDASH*BUFFALO WILD WWW.DOORDASH.CA</td>\n",
       "      <td>-$27.50</td>\n",
       "      <td>DOORDASH*BUFFALO</td>\n",
       "      <td>fast_food</td>\n",
       "    </tr>\n",
       "    <tr>\n",
       "      <th>5</th>\n",
       "      <td>04/06/2021</td>\n",
       "      <td>TRACTOR SUPPLY #5555 NEWARK NY</td>\n",
       "      <td>-$6.86</td>\n",
       "      <td>TRACTOR</td>\n",
       "      <td>home</td>\n",
       "    </tr>\n",
       "    <tr>\n",
       "      <th>6</th>\n",
       "      <td>04/05/2021</td>\n",
       "      <td>HOME DEPOT #11154 MARTINSBURG NC</td>\n",
       "      <td>-$105.95</td>\n",
       "      <td>HOME</td>\n",
       "      <td>home</td>\n",
       "    </tr>\n",
       "    <tr>\n",
       "      <th>7</th>\n",
       "      <td>04/07/2021</td>\n",
       "      <td>MARY SUES VETERINARY -RICKARTON WV</td>\n",
       "      <td>-$239.00</td>\n",
       "      <td>VETERINARY</td>\n",
       "      <td>pets</td>\n",
       "    </tr>\n",
       "    <tr>\n",
       "      <th>8</th>\n",
       "      <td>04/11/2021</td>\n",
       "      <td>PLAZA AZTECA LITTLE ROCK AK</td>\n",
       "      <td>-$31.84</td>\n",
       "      <td>AZTECA</td>\n",
       "      <td>restaurants</td>\n",
       "    </tr>\n",
       "    <tr>\n",
       "      <th>9</th>\n",
       "      <td>04/05/2021</td>\n",
       "      <td>JAPANESE RESTAURANT MARTINSBURG NC</td>\n",
       "      <td>-$49.00</td>\n",
       "      <td>JAPANESE</td>\n",
       "      <td>restaurants</td>\n",
       "    </tr>\n",
       "    <tr>\n",
       "      <th>10</th>\n",
       "      <td>04/12/2021</td>\n",
       "      <td>VZWRLSS*APOCC VISW 800-922-0204 FL</td>\n",
       "      <td>-$220.50</td>\n",
       "      <td>VZWRLSS*APOCC</td>\n",
       "      <td>utilities</td>\n",
       "    </tr>\n",
       "    <tr>\n",
       "      <th>11</th>\n",
       "      <td>04/09/2021</td>\n",
       "      <td>SAN DIEGO SANITATI 888-1645-8911 CA</td>\n",
       "      <td>-$22.66</td>\n",
       "      <td>SANITATI</td>\n",
       "      <td>utilities</td>\n",
       "    </tr>\n",
       "    <tr>\n",
       "      <th>12</th>\n",
       "      <td>04/16/2021</td>\n",
       "      <td>SHELL OIL 45468787999 BOSTON, MA</td>\n",
       "      <td>-$8.46</td>\n",
       "      <td>SHELL</td>\n",
       "      <td>gas</td>\n",
       "    </tr>\n",
       "    <tr>\n",
       "      <th>13</th>\n",
       "      <td>04/16/2021</td>\n",
       "      <td>MAPCO 1571 FLOWER, FL</td>\n",
       "      <td>-$7.67</td>\n",
       "      <td>MAPCO</td>\n",
       "      <td>gas</td>\n",
       "    </tr>\n",
       "    <tr>\n",
       "      <th>14</th>\n",
       "      <td>04/14/2021</td>\n",
       "      <td>PHYSICIANS OFFICE 888-666-2424 AL</td>\n",
       "      <td>-$49.95</td>\n",
       "      <td>PHYSICIANS</td>\n",
       "      <td>medical</td>\n",
       "    </tr>\n",
       "    <tr>\n",
       "      <th>15</th>\n",
       "      <td>04/13/2021</td>\n",
       "      <td>RITE AID 1574 LITTLE ROCK AK</td>\n",
       "      <td>-$5.09</td>\n",
       "      <td>RITE</td>\n",
       "      <td>medical</td>\n",
       "    </tr>\n",
       "    <tr>\n",
       "      <th>16</th>\n",
       "      <td>04/06/2021</td>\n",
       "      <td>WALGREENS #8885 MARTINSBURG NC</td>\n",
       "      <td>-$44.27</td>\n",
       "      <td>WALGREENS</td>\n",
       "      <td>medical</td>\n",
       "    </tr>\n",
       "    <tr>\n",
       "      <th>17</th>\n",
       "      <td>04/08/2021</td>\n",
       "      <td>SQ *LEWIS GINTER GARRichmond WV</td>\n",
       "      <td>-$16.09</td>\n",
       "      <td>GINTER</td>\n",
       "      <td>fun</td>\n",
       "    </tr>\n",
       "    <tr>\n",
       "      <th>18</th>\n",
       "      <td>04/13/2021</td>\n",
       "      <td>PAYPAL *PURCHASE 555-634-1921 CA</td>\n",
       "      <td>-$39.99</td>\n",
       "      <td>PAYPAL</td>\n",
       "      <td>online</td>\n",
       "    </tr>\n",
       "    <tr>\n",
       "      <th>19</th>\n",
       "      <td>04/13/2021</td>\n",
       "      <td>AMZN Mktp US*FB12334 Amzn.com/billWA</td>\n",
       "      <td>-$23.45</td>\n",
       "      <td>AMZN</td>\n",
       "      <td>online</td>\n",
       "    </tr>\n",
       "    <tr>\n",
       "      <th>20</th>\n",
       "      <td>04/12/2021</td>\n",
       "      <td>TRELLO.COM, ATLASSIAN 888-942-1573 NY</td>\n",
       "      <td>-$7.40</td>\n",
       "      <td>TRELLO.COM,</td>\n",
       "      <td>work</td>\n",
       "    </tr>\n",
       "    <tr>\n",
       "      <th>21</th>\n",
       "      <td>04/08/2021</td>\n",
       "      <td>Adobe Inc 888-198884354 CA</td>\n",
       "      <td>-$136.00</td>\n",
       "      <td>Adobe</td>\n",
       "      <td>work</td>\n",
       "    </tr>\n",
       "  </tbody>\n",
       "</table>\n",
       "</div>"
      ],
      "text/plain": [
       "          date                             transaction    amount  \\\n",
       "0   04/14/2021           FOOD LION #8457 CHINA LAKE CA   -$69.99   \n",
       "1   04/05/2021              KROGER #456 MARTINSBURG NC  -$229.12   \n",
       "2   04/16/2021             BOJANGLES 1931 ARLINGTON PA   -$20.00   \n",
       "3   04/10/2021     STARBUCKS STORE 56548 APPLEVILLE GA   -$48.39   \n",
       "4   04/08/2021   DOORDASH*BUFFALO WILD WWW.DOORDASH.CA   -$27.50   \n",
       "5   04/06/2021          TRACTOR SUPPLY #5555 NEWARK NY    -$6.86   \n",
       "6   04/05/2021        HOME DEPOT #11154 MARTINSBURG NC  -$105.95   \n",
       "7   04/07/2021      MARY SUES VETERINARY -RICKARTON WV  -$239.00   \n",
       "8   04/11/2021             PLAZA AZTECA LITTLE ROCK AK   -$31.84   \n",
       "9   04/05/2021      JAPANESE RESTAURANT MARTINSBURG NC   -$49.00   \n",
       "10  04/12/2021      VZWRLSS*APOCC VISW 800-922-0204 FL  -$220.50   \n",
       "11  04/09/2021     SAN DIEGO SANITATI 888-1645-8911 CA   -$22.66   \n",
       "12  04/16/2021        SHELL OIL 45468787999 BOSTON, MA    -$8.46   \n",
       "13  04/16/2021                   MAPCO 1571 FLOWER, FL    -$7.67   \n",
       "14  04/14/2021       PHYSICIANS OFFICE 888-666-2424 AL   -$49.95   \n",
       "15  04/13/2021            RITE AID 1574 LITTLE ROCK AK    -$5.09   \n",
       "16  04/06/2021          WALGREENS #8885 MARTINSBURG NC   -$44.27   \n",
       "17  04/08/2021         SQ *LEWIS GINTER GARRichmond WV   -$16.09   \n",
       "18  04/13/2021        PAYPAL *PURCHASE 555-634-1921 CA   -$39.99   \n",
       "19  04/13/2021    AMZN Mktp US*FB12334 Amzn.com/billWA   -$23.45   \n",
       "20  04/12/2021  TRELLO.COM, ATLASSIAN 888-942-1573 NY     -$7.40   \n",
       "21  04/08/2021              Adobe Inc 888-198884354 CA  -$136.00   \n",
       "\n",
       "          identifier     category  \n",
       "0               LION         food  \n",
       "1             KROGER         food  \n",
       "2          BOJANGLES    fast_food  \n",
       "3          STARBUCKS    fast_food  \n",
       "4   DOORDASH*BUFFALO    fast_food  \n",
       "5            TRACTOR         home  \n",
       "6               HOME         home  \n",
       "7         VETERINARY         pets  \n",
       "8             AZTECA  restaurants  \n",
       "9           JAPANESE  restaurants  \n",
       "10     VZWRLSS*APOCC    utilities  \n",
       "11          SANITATI    utilities  \n",
       "12             SHELL          gas  \n",
       "13             MAPCO          gas  \n",
       "14        PHYSICIANS      medical  \n",
       "15              RITE      medical  \n",
       "16         WALGREENS      medical  \n",
       "17            GINTER          fun  \n",
       "18            PAYPAL       online  \n",
       "19              AMZN       online  \n",
       "20       TRELLO.COM,         work  \n",
       "21             Adobe         work  "
      ]
     },
     "execution_count": 5,
     "metadata": {},
     "output_type": "execute_result"
    }
   ],
   "source": [
    "data_df = pd.read_csv('sample_data_categories.csv')\n",
    "col_names = []\n",
    "for col in data_df.columns:\n",
    "    col_names.append(col)\n",
    "col_data = []\n",
    "for i in col_names:\n",
    "    col_data.append(data_df[i])\n",
    "data_df"
   ]
  },
  {
   "cell_type": "code",
   "execution_count": 7,
   "metadata": {},
   "outputs": [
    {
     "data": {
      "application/vnd.plotly.v1+json": {
       "config": {
        "plotlyServerURL": "https://plot.ly"
       },
       "data": [
        {
         "cells": {
          "align": "left",
          "fill": {
           "color": "#cce3de"
          },
          "font": {
           "color": "#34463E",
           "family": "Arial",
           "size": 10
          },
          "values": [
           [
            "04/14/2021",
            "04/05/2021",
            "04/16/2021",
            "04/10/2021",
            "04/08/2021",
            "04/06/2021",
            "04/05/2021",
            "04/07/2021",
            "04/11/2021",
            "04/05/2021",
            "04/12/2021",
            "04/09/2021",
            "04/16/2021",
            "04/16/2021",
            "04/14/2021",
            "04/13/2021",
            "04/06/2021",
            "04/08/2021",
            "04/13/2021",
            "04/13/2021",
            "04/12/2021",
            "04/08/2021"
           ],
           [
            "FOOD LION #8457 CHINA LAKE CA",
            "KROGER #456 MARTINSBURG NC",
            "BOJANGLES 1931 ARLINGTON PA",
            "STARBUCKS STORE 56548 APPLEVILLE GA",
            "DOORDASH*BUFFALO WILD WWW.DOORDASH.CA",
            "TRACTOR SUPPLY #5555 NEWARK NY",
            "HOME DEPOT #11154 MARTINSBURG NC",
            "MARY SUES VETERINARY -RICKARTON WV",
            "PLAZA AZTECA LITTLE ROCK AK",
            "JAPANESE RESTAURANT MARTINSBURG NC",
            "VZWRLSS*APOCC VISW 800-922-0204 FL",
            "SAN DIEGO SANITATI 888-1645-8911 CA",
            "SHELL OIL 45468787999 BOSTON, MA",
            "MAPCO 1571 FLOWER, FL",
            "PHYSICIANS OFFICE 888-666-2424 AL",
            "RITE AID 1574 LITTLE ROCK AK",
            "WALGREENS #8885 MARTINSBURG NC",
            "SQ *LEWIS GINTER GARRichmond WV",
            "PAYPAL *PURCHASE 555-634-1921 CA",
            "AMZN Mktp US*FB12334 Amzn.com/billWA",
            "TRELLO.COM, ATLASSIAN 888-942-1573 NY ",
            "Adobe Inc 888-198884354 CA"
           ],
           [
            "-$69.99",
            "-$229.12",
            "-$20.00",
            "-$48.39",
            "-$27.50",
            "-$6.86",
            "-$105.95",
            "-$239.00",
            "-$31.84",
            "-$49.00",
            "-$220.50",
            "-$22.66",
            "-$8.46",
            "-$7.67",
            "-$49.95",
            "-$5.09",
            "-$44.27",
            "-$16.09",
            "-$39.99",
            "-$23.45",
            "-$7.40",
            "-$136.00"
           ],
           [
            "LION",
            "KROGER",
            "BOJANGLES",
            "STARBUCKS",
            "DOORDASH*BUFFALO",
            "TRACTOR",
            "HOME",
            "VETERINARY",
            "AZTECA",
            "JAPANESE",
            "VZWRLSS*APOCC",
            "SANITATI",
            "SHELL",
            "MAPCO",
            "PHYSICIANS",
            "RITE",
            "WALGREENS",
            "GINTER",
            "PAYPAL",
            "AMZN",
            "TRELLO.COM,",
            "Adobe"
           ],
           [
            "food",
            "food",
            "fast_food",
            "fast_food",
            "fast_food",
            "home",
            "home",
            "pets",
            "restaurants",
            "restaurants",
            "utilities",
            "utilities",
            "gas",
            "gas",
            "medical",
            "medical",
            "medical",
            "fun",
            "online",
            "online",
            "work",
            "work"
           ]
          ]
         },
         "header": {
          "align": "left",
          "fill": {
           "color": "#6b9080"
          },
          "font": {
           "color": "#f6fff8",
           "family": "Arial",
           "size": 14
          },
          "values": [
           "date",
           "transaction",
           "amount",
           "identifier",
           "category"
          ]
         },
         "type": "table"
        }
       ],
       "layout": {
        "template": {
         "data": {
          "bar": [
           {
            "error_x": {
             "color": "#2a3f5f"
            },
            "error_y": {
             "color": "#2a3f5f"
            },
            "marker": {
             "line": {
              "color": "#E5ECF6",
              "width": 0.5
             }
            },
            "type": "bar"
           }
          ],
          "barpolar": [
           {
            "marker": {
             "line": {
              "color": "#E5ECF6",
              "width": 0.5
             }
            },
            "type": "barpolar"
           }
          ],
          "carpet": [
           {
            "aaxis": {
             "endlinecolor": "#2a3f5f",
             "gridcolor": "white",
             "linecolor": "white",
             "minorgridcolor": "white",
             "startlinecolor": "#2a3f5f"
            },
            "baxis": {
             "endlinecolor": "#2a3f5f",
             "gridcolor": "white",
             "linecolor": "white",
             "minorgridcolor": "white",
             "startlinecolor": "#2a3f5f"
            },
            "type": "carpet"
           }
          ],
          "choropleth": [
           {
            "colorbar": {
             "outlinewidth": 0,
             "ticks": ""
            },
            "type": "choropleth"
           }
          ],
          "contour": [
           {
            "colorbar": {
             "outlinewidth": 0,
             "ticks": ""
            },
            "colorscale": [
             [
              0,
              "#0d0887"
             ],
             [
              0.1111111111111111,
              "#46039f"
             ],
             [
              0.2222222222222222,
              "#7201a8"
             ],
             [
              0.3333333333333333,
              "#9c179e"
             ],
             [
              0.4444444444444444,
              "#bd3786"
             ],
             [
              0.5555555555555556,
              "#d8576b"
             ],
             [
              0.6666666666666666,
              "#ed7953"
             ],
             [
              0.7777777777777778,
              "#fb9f3a"
             ],
             [
              0.8888888888888888,
              "#fdca26"
             ],
             [
              1,
              "#f0f921"
             ]
            ],
            "type": "contour"
           }
          ],
          "contourcarpet": [
           {
            "colorbar": {
             "outlinewidth": 0,
             "ticks": ""
            },
            "type": "contourcarpet"
           }
          ],
          "heatmap": [
           {
            "colorbar": {
             "outlinewidth": 0,
             "ticks": ""
            },
            "colorscale": [
             [
              0,
              "#0d0887"
             ],
             [
              0.1111111111111111,
              "#46039f"
             ],
             [
              0.2222222222222222,
              "#7201a8"
             ],
             [
              0.3333333333333333,
              "#9c179e"
             ],
             [
              0.4444444444444444,
              "#bd3786"
             ],
             [
              0.5555555555555556,
              "#d8576b"
             ],
             [
              0.6666666666666666,
              "#ed7953"
             ],
             [
              0.7777777777777778,
              "#fb9f3a"
             ],
             [
              0.8888888888888888,
              "#fdca26"
             ],
             [
              1,
              "#f0f921"
             ]
            ],
            "type": "heatmap"
           }
          ],
          "heatmapgl": [
           {
            "colorbar": {
             "outlinewidth": 0,
             "ticks": ""
            },
            "colorscale": [
             [
              0,
              "#0d0887"
             ],
             [
              0.1111111111111111,
              "#46039f"
             ],
             [
              0.2222222222222222,
              "#7201a8"
             ],
             [
              0.3333333333333333,
              "#9c179e"
             ],
             [
              0.4444444444444444,
              "#bd3786"
             ],
             [
              0.5555555555555556,
              "#d8576b"
             ],
             [
              0.6666666666666666,
              "#ed7953"
             ],
             [
              0.7777777777777778,
              "#fb9f3a"
             ],
             [
              0.8888888888888888,
              "#fdca26"
             ],
             [
              1,
              "#f0f921"
             ]
            ],
            "type": "heatmapgl"
           }
          ],
          "histogram": [
           {
            "marker": {
             "colorbar": {
              "outlinewidth": 0,
              "ticks": ""
             }
            },
            "type": "histogram"
           }
          ],
          "histogram2d": [
           {
            "colorbar": {
             "outlinewidth": 0,
             "ticks": ""
            },
            "colorscale": [
             [
              0,
              "#0d0887"
             ],
             [
              0.1111111111111111,
              "#46039f"
             ],
             [
              0.2222222222222222,
              "#7201a8"
             ],
             [
              0.3333333333333333,
              "#9c179e"
             ],
             [
              0.4444444444444444,
              "#bd3786"
             ],
             [
              0.5555555555555556,
              "#d8576b"
             ],
             [
              0.6666666666666666,
              "#ed7953"
             ],
             [
              0.7777777777777778,
              "#fb9f3a"
             ],
             [
              0.8888888888888888,
              "#fdca26"
             ],
             [
              1,
              "#f0f921"
             ]
            ],
            "type": "histogram2d"
           }
          ],
          "histogram2dcontour": [
           {
            "colorbar": {
             "outlinewidth": 0,
             "ticks": ""
            },
            "colorscale": [
             [
              0,
              "#0d0887"
             ],
             [
              0.1111111111111111,
              "#46039f"
             ],
             [
              0.2222222222222222,
              "#7201a8"
             ],
             [
              0.3333333333333333,
              "#9c179e"
             ],
             [
              0.4444444444444444,
              "#bd3786"
             ],
             [
              0.5555555555555556,
              "#d8576b"
             ],
             [
              0.6666666666666666,
              "#ed7953"
             ],
             [
              0.7777777777777778,
              "#fb9f3a"
             ],
             [
              0.8888888888888888,
              "#fdca26"
             ],
             [
              1,
              "#f0f921"
             ]
            ],
            "type": "histogram2dcontour"
           }
          ],
          "mesh3d": [
           {
            "colorbar": {
             "outlinewidth": 0,
             "ticks": ""
            },
            "type": "mesh3d"
           }
          ],
          "parcoords": [
           {
            "line": {
             "colorbar": {
              "outlinewidth": 0,
              "ticks": ""
             }
            },
            "type": "parcoords"
           }
          ],
          "pie": [
           {
            "automargin": true,
            "type": "pie"
           }
          ],
          "scatter": [
           {
            "marker": {
             "colorbar": {
              "outlinewidth": 0,
              "ticks": ""
             }
            },
            "type": "scatter"
           }
          ],
          "scatter3d": [
           {
            "line": {
             "colorbar": {
              "outlinewidth": 0,
              "ticks": ""
             }
            },
            "marker": {
             "colorbar": {
              "outlinewidth": 0,
              "ticks": ""
             }
            },
            "type": "scatter3d"
           }
          ],
          "scattercarpet": [
           {
            "marker": {
             "colorbar": {
              "outlinewidth": 0,
              "ticks": ""
             }
            },
            "type": "scattercarpet"
           }
          ],
          "scattergeo": [
           {
            "marker": {
             "colorbar": {
              "outlinewidth": 0,
              "ticks": ""
             }
            },
            "type": "scattergeo"
           }
          ],
          "scattergl": [
           {
            "marker": {
             "colorbar": {
              "outlinewidth": 0,
              "ticks": ""
             }
            },
            "type": "scattergl"
           }
          ],
          "scattermapbox": [
           {
            "marker": {
             "colorbar": {
              "outlinewidth": 0,
              "ticks": ""
             }
            },
            "type": "scattermapbox"
           }
          ],
          "scatterpolar": [
           {
            "marker": {
             "colorbar": {
              "outlinewidth": 0,
              "ticks": ""
             }
            },
            "type": "scatterpolar"
           }
          ],
          "scatterpolargl": [
           {
            "marker": {
             "colorbar": {
              "outlinewidth": 0,
              "ticks": ""
             }
            },
            "type": "scatterpolargl"
           }
          ],
          "scatterternary": [
           {
            "marker": {
             "colorbar": {
              "outlinewidth": 0,
              "ticks": ""
             }
            },
            "type": "scatterternary"
           }
          ],
          "surface": [
           {
            "colorbar": {
             "outlinewidth": 0,
             "ticks": ""
            },
            "colorscale": [
             [
              0,
              "#0d0887"
             ],
             [
              0.1111111111111111,
              "#46039f"
             ],
             [
              0.2222222222222222,
              "#7201a8"
             ],
             [
              0.3333333333333333,
              "#9c179e"
             ],
             [
              0.4444444444444444,
              "#bd3786"
             ],
             [
              0.5555555555555556,
              "#d8576b"
             ],
             [
              0.6666666666666666,
              "#ed7953"
             ],
             [
              0.7777777777777778,
              "#fb9f3a"
             ],
             [
              0.8888888888888888,
              "#fdca26"
             ],
             [
              1,
              "#f0f921"
             ]
            ],
            "type": "surface"
           }
          ],
          "table": [
           {
            "cells": {
             "fill": {
              "color": "#EBF0F8"
             },
             "line": {
              "color": "white"
             }
            },
            "header": {
             "fill": {
              "color": "#C8D4E3"
             },
             "line": {
              "color": "white"
             }
            },
            "type": "table"
           }
          ]
         },
         "layout": {
          "annotationdefaults": {
           "arrowcolor": "#2a3f5f",
           "arrowhead": 0,
           "arrowwidth": 1
          },
          "autotypenumbers": "strict",
          "coloraxis": {
           "colorbar": {
            "outlinewidth": 0,
            "ticks": ""
           }
          },
          "colorscale": {
           "diverging": [
            [
             0,
             "#8e0152"
            ],
            [
             0.1,
             "#c51b7d"
            ],
            [
             0.2,
             "#de77ae"
            ],
            [
             0.3,
             "#f1b6da"
            ],
            [
             0.4,
             "#fde0ef"
            ],
            [
             0.5,
             "#f7f7f7"
            ],
            [
             0.6,
             "#e6f5d0"
            ],
            [
             0.7,
             "#b8e186"
            ],
            [
             0.8,
             "#7fbc41"
            ],
            [
             0.9,
             "#4d9221"
            ],
            [
             1,
             "#276419"
            ]
           ],
           "sequential": [
            [
             0,
             "#0d0887"
            ],
            [
             0.1111111111111111,
             "#46039f"
            ],
            [
             0.2222222222222222,
             "#7201a8"
            ],
            [
             0.3333333333333333,
             "#9c179e"
            ],
            [
             0.4444444444444444,
             "#bd3786"
            ],
            [
             0.5555555555555556,
             "#d8576b"
            ],
            [
             0.6666666666666666,
             "#ed7953"
            ],
            [
             0.7777777777777778,
             "#fb9f3a"
            ],
            [
             0.8888888888888888,
             "#fdca26"
            ],
            [
             1,
             "#f0f921"
            ]
           ],
           "sequentialminus": [
            [
             0,
             "#0d0887"
            ],
            [
             0.1111111111111111,
             "#46039f"
            ],
            [
             0.2222222222222222,
             "#7201a8"
            ],
            [
             0.3333333333333333,
             "#9c179e"
            ],
            [
             0.4444444444444444,
             "#bd3786"
            ],
            [
             0.5555555555555556,
             "#d8576b"
            ],
            [
             0.6666666666666666,
             "#ed7953"
            ],
            [
             0.7777777777777778,
             "#fb9f3a"
            ],
            [
             0.8888888888888888,
             "#fdca26"
            ],
            [
             1,
             "#f0f921"
            ]
           ]
          },
          "colorway": [
           "#636efa",
           "#EF553B",
           "#00cc96",
           "#ab63fa",
           "#FFA15A",
           "#19d3f3",
           "#FF6692",
           "#B6E880",
           "#FF97FF",
           "#FECB52"
          ],
          "font": {
           "color": "#2a3f5f"
          },
          "geo": {
           "bgcolor": "white",
           "lakecolor": "white",
           "landcolor": "#E5ECF6",
           "showlakes": true,
           "showland": true,
           "subunitcolor": "white"
          },
          "hoverlabel": {
           "align": "left"
          },
          "hovermode": "closest",
          "mapbox": {
           "style": "light"
          },
          "paper_bgcolor": "white",
          "plot_bgcolor": "#E5ECF6",
          "polar": {
           "angularaxis": {
            "gridcolor": "white",
            "linecolor": "white",
            "ticks": ""
           },
           "bgcolor": "#E5ECF6",
           "radialaxis": {
            "gridcolor": "white",
            "linecolor": "white",
            "ticks": ""
           }
          },
          "scene": {
           "xaxis": {
            "backgroundcolor": "#E5ECF6",
            "gridcolor": "white",
            "gridwidth": 2,
            "linecolor": "white",
            "showbackground": true,
            "ticks": "",
            "zerolinecolor": "white"
           },
           "yaxis": {
            "backgroundcolor": "#E5ECF6",
            "gridcolor": "white",
            "gridwidth": 2,
            "linecolor": "white",
            "showbackground": true,
            "ticks": "",
            "zerolinecolor": "white"
           },
           "zaxis": {
            "backgroundcolor": "#E5ECF6",
            "gridcolor": "white",
            "gridwidth": 2,
            "linecolor": "white",
            "showbackground": true,
            "ticks": "",
            "zerolinecolor": "white"
           }
          },
          "shapedefaults": {
           "line": {
            "color": "#2a3f5f"
           }
          },
          "ternary": {
           "aaxis": {
            "gridcolor": "white",
            "linecolor": "white",
            "ticks": ""
           },
           "baxis": {
            "gridcolor": "white",
            "linecolor": "white",
            "ticks": ""
           },
           "bgcolor": "#E5ECF6",
           "caxis": {
            "gridcolor": "white",
            "linecolor": "white",
            "ticks": ""
           }
          },
          "title": {
           "x": 0.05
          },
          "xaxis": {
           "automargin": true,
           "gridcolor": "white",
           "linecolor": "white",
           "ticks": "",
           "title": {
            "standoff": 15
           },
           "zerolinecolor": "white",
           "zerolinewidth": 2
          },
          "yaxis": {
           "automargin": true,
           "gridcolor": "white",
           "linecolor": "white",
           "ticks": "",
           "title": {
            "standoff": 15
           },
           "zerolinecolor": "white",
           "zerolinewidth": 2
          }
         }
        }
       }
      },
      "text/html": [
       "<div>                            <div id=\"1fc5e0f3-d0a9-4132-b525-cac69bd55b25\" class=\"plotly-graph-div\" style=\"height:525px; width:100%;\"></div>            <script type=\"text/javascript\">                require([\"plotly\"], function(Plotly) {                    window.PLOTLYENV=window.PLOTLYENV || {};                                    if (document.getElementById(\"1fc5e0f3-d0a9-4132-b525-cac69bd55b25\")) {                    Plotly.newPlot(                        \"1fc5e0f3-d0a9-4132-b525-cac69bd55b25\",                        [{\"cells\": {\"align\": \"left\", \"fill\": {\"color\": \"#cce3de\"}, \"font\": {\"color\": \"#34463E\", \"family\": \"Arial\", \"size\": 10}, \"values\": [[\"04/14/2021\", \"04/05/2021\", \"04/16/2021\", \"04/10/2021\", \"04/08/2021\", \"04/06/2021\", \"04/05/2021\", \"04/07/2021\", \"04/11/2021\", \"04/05/2021\", \"04/12/2021\", \"04/09/2021\", \"04/16/2021\", \"04/16/2021\", \"04/14/2021\", \"04/13/2021\", \"04/06/2021\", \"04/08/2021\", \"04/13/2021\", \"04/13/2021\", \"04/12/2021\", \"04/08/2021\"], [\"FOOD LION #8457 CHINA LAKE CA\", \"KROGER #456 MARTINSBURG NC\", \"BOJANGLES 1931 ARLINGTON PA\", \"STARBUCKS STORE 56548 APPLEVILLE GA\", \"DOORDASH*BUFFALO WILD WWW.DOORDASH.CA\", \"TRACTOR SUPPLY #5555 NEWARK NY\", \"HOME DEPOT #11154 MARTINSBURG NC\", \"MARY SUES VETERINARY -RICKARTON WV\", \"PLAZA AZTECA LITTLE ROCK AK\", \"JAPANESE RESTAURANT MARTINSBURG NC\", \"VZWRLSS*APOCC VISW 800-922-0204 FL\", \"SAN DIEGO SANITATI 888-1645-8911 CA\", \"SHELL OIL 45468787999 BOSTON, MA\", \"MAPCO 1571 FLOWER, FL\", \"PHYSICIANS OFFICE 888-666-2424 AL\", \"RITE AID 1574 LITTLE ROCK AK\", \"WALGREENS #8885 MARTINSBURG NC\", \"SQ *LEWIS GINTER GARRichmond WV\", \"PAYPAL *PURCHASE 555-634-1921 CA\", \"AMZN Mktp US*FB12334 Amzn.com/billWA\", \"TRELLO.COM, ATLASSIAN 888-942-1573 NY \", \"Adobe Inc 888-198884354 CA\"], [\"-$69.99\", \"-$229.12\", \"-$20.00\", \"-$48.39\", \"-$27.50\", \"-$6.86\", \"-$105.95\", \"-$239.00\", \"-$31.84\", \"-$49.00\", \"-$220.50\", \"-$22.66\", \"-$8.46\", \"-$7.67\", \"-$49.95\", \"-$5.09\", \"-$44.27\", \"-$16.09\", \"-$39.99\", \"-$23.45\", \"-$7.40\", \"-$136.00\"], [\"LION\", \"KROGER\", \"BOJANGLES\", \"STARBUCKS\", \"DOORDASH*BUFFALO\", \"TRACTOR\", \"HOME\", \"VETERINARY\", \"AZTECA\", \"JAPANESE\", \"VZWRLSS*APOCC\", \"SANITATI\", \"SHELL\", \"MAPCO\", \"PHYSICIANS\", \"RITE\", \"WALGREENS\", \"GINTER\", \"PAYPAL\", \"AMZN\", \"TRELLO.COM,\", \"Adobe\"], [\"food\", \"food\", \"fast_food\", \"fast_food\", \"fast_food\", \"home\", \"home\", \"pets\", \"restaurants\", \"restaurants\", \"utilities\", \"utilities\", \"gas\", \"gas\", \"medical\", \"medical\", \"medical\", \"fun\", \"online\", \"online\", \"work\", \"work\"]]}, \"header\": {\"align\": \"left\", \"fill\": {\"color\": \"#6b9080\"}, \"font\": {\"color\": \"#f6fff8\", \"family\": \"Arial\", \"size\": 14}, \"values\": [\"date\", \"transaction\", \"amount\", \"identifier\", \"category\"]}, \"type\": \"table\"}],                        {\"template\": {\"data\": {\"bar\": [{\"error_x\": {\"color\": \"#2a3f5f\"}, \"error_y\": {\"color\": \"#2a3f5f\"}, \"marker\": {\"line\": {\"color\": \"#E5ECF6\", \"width\": 0.5}}, \"type\": \"bar\"}], \"barpolar\": [{\"marker\": {\"line\": {\"color\": \"#E5ECF6\", \"width\": 0.5}}, \"type\": \"barpolar\"}], \"carpet\": [{\"aaxis\": {\"endlinecolor\": \"#2a3f5f\", \"gridcolor\": \"white\", \"linecolor\": \"white\", \"minorgridcolor\": \"white\", \"startlinecolor\": \"#2a3f5f\"}, \"baxis\": {\"endlinecolor\": \"#2a3f5f\", \"gridcolor\": \"white\", \"linecolor\": \"white\", \"minorgridcolor\": \"white\", \"startlinecolor\": \"#2a3f5f\"}, \"type\": \"carpet\"}], \"choropleth\": [{\"colorbar\": {\"outlinewidth\": 0, \"ticks\": \"\"}, \"type\": \"choropleth\"}], \"contour\": [{\"colorbar\": {\"outlinewidth\": 0, \"ticks\": \"\"}, \"colorscale\": [[0.0, \"#0d0887\"], [0.1111111111111111, \"#46039f\"], [0.2222222222222222, \"#7201a8\"], [0.3333333333333333, \"#9c179e\"], [0.4444444444444444, \"#bd3786\"], [0.5555555555555556, \"#d8576b\"], [0.6666666666666666, \"#ed7953\"], [0.7777777777777778, \"#fb9f3a\"], [0.8888888888888888, \"#fdca26\"], [1.0, \"#f0f921\"]], \"type\": \"contour\"}], \"contourcarpet\": [{\"colorbar\": {\"outlinewidth\": 0, \"ticks\": \"\"}, \"type\": \"contourcarpet\"}], \"heatmap\": [{\"colorbar\": {\"outlinewidth\": 0, \"ticks\": \"\"}, \"colorscale\": [[0.0, \"#0d0887\"], [0.1111111111111111, \"#46039f\"], [0.2222222222222222, \"#7201a8\"], [0.3333333333333333, \"#9c179e\"], [0.4444444444444444, \"#bd3786\"], [0.5555555555555556, \"#d8576b\"], [0.6666666666666666, \"#ed7953\"], [0.7777777777777778, \"#fb9f3a\"], [0.8888888888888888, \"#fdca26\"], [1.0, \"#f0f921\"]], \"type\": \"heatmap\"}], \"heatmapgl\": [{\"colorbar\": {\"outlinewidth\": 0, \"ticks\": \"\"}, \"colorscale\": [[0.0, \"#0d0887\"], [0.1111111111111111, \"#46039f\"], [0.2222222222222222, \"#7201a8\"], [0.3333333333333333, \"#9c179e\"], [0.4444444444444444, \"#bd3786\"], [0.5555555555555556, \"#d8576b\"], [0.6666666666666666, \"#ed7953\"], [0.7777777777777778, \"#fb9f3a\"], [0.8888888888888888, \"#fdca26\"], [1.0, \"#f0f921\"]], \"type\": \"heatmapgl\"}], \"histogram\": [{\"marker\": {\"colorbar\": {\"outlinewidth\": 0, \"ticks\": \"\"}}, \"type\": \"histogram\"}], \"histogram2d\": [{\"colorbar\": {\"outlinewidth\": 0, \"ticks\": \"\"}, \"colorscale\": [[0.0, \"#0d0887\"], [0.1111111111111111, \"#46039f\"], [0.2222222222222222, \"#7201a8\"], [0.3333333333333333, \"#9c179e\"], [0.4444444444444444, \"#bd3786\"], [0.5555555555555556, \"#d8576b\"], [0.6666666666666666, \"#ed7953\"], [0.7777777777777778, \"#fb9f3a\"], [0.8888888888888888, \"#fdca26\"], [1.0, \"#f0f921\"]], \"type\": \"histogram2d\"}], \"histogram2dcontour\": [{\"colorbar\": {\"outlinewidth\": 0, \"ticks\": \"\"}, \"colorscale\": [[0.0, \"#0d0887\"], [0.1111111111111111, \"#46039f\"], [0.2222222222222222, \"#7201a8\"], [0.3333333333333333, \"#9c179e\"], [0.4444444444444444, \"#bd3786\"], [0.5555555555555556, \"#d8576b\"], [0.6666666666666666, \"#ed7953\"], [0.7777777777777778, \"#fb9f3a\"], [0.8888888888888888, \"#fdca26\"], [1.0, \"#f0f921\"]], \"type\": \"histogram2dcontour\"}], \"mesh3d\": [{\"colorbar\": {\"outlinewidth\": 0, \"ticks\": \"\"}, \"type\": \"mesh3d\"}], \"parcoords\": [{\"line\": {\"colorbar\": {\"outlinewidth\": 0, \"ticks\": \"\"}}, \"type\": \"parcoords\"}], \"pie\": [{\"automargin\": true, \"type\": \"pie\"}], \"scatter\": [{\"marker\": {\"colorbar\": {\"outlinewidth\": 0, \"ticks\": \"\"}}, \"type\": \"scatter\"}], \"scatter3d\": [{\"line\": {\"colorbar\": {\"outlinewidth\": 0, \"ticks\": \"\"}}, \"marker\": {\"colorbar\": {\"outlinewidth\": 0, \"ticks\": \"\"}}, \"type\": \"scatter3d\"}], \"scattercarpet\": [{\"marker\": {\"colorbar\": {\"outlinewidth\": 0, \"ticks\": \"\"}}, \"type\": \"scattercarpet\"}], \"scattergeo\": [{\"marker\": {\"colorbar\": {\"outlinewidth\": 0, \"ticks\": \"\"}}, \"type\": \"scattergeo\"}], \"scattergl\": [{\"marker\": {\"colorbar\": {\"outlinewidth\": 0, \"ticks\": \"\"}}, \"type\": \"scattergl\"}], \"scattermapbox\": [{\"marker\": {\"colorbar\": {\"outlinewidth\": 0, \"ticks\": \"\"}}, \"type\": \"scattermapbox\"}], \"scatterpolar\": [{\"marker\": {\"colorbar\": {\"outlinewidth\": 0, \"ticks\": \"\"}}, \"type\": \"scatterpolar\"}], \"scatterpolargl\": [{\"marker\": {\"colorbar\": {\"outlinewidth\": 0, \"ticks\": \"\"}}, \"type\": \"scatterpolargl\"}], \"scatterternary\": [{\"marker\": {\"colorbar\": {\"outlinewidth\": 0, \"ticks\": \"\"}}, \"type\": \"scatterternary\"}], \"surface\": [{\"colorbar\": {\"outlinewidth\": 0, \"ticks\": \"\"}, \"colorscale\": [[0.0, \"#0d0887\"], [0.1111111111111111, \"#46039f\"], [0.2222222222222222, \"#7201a8\"], [0.3333333333333333, \"#9c179e\"], [0.4444444444444444, \"#bd3786\"], [0.5555555555555556, \"#d8576b\"], [0.6666666666666666, \"#ed7953\"], [0.7777777777777778, \"#fb9f3a\"], [0.8888888888888888, \"#fdca26\"], [1.0, \"#f0f921\"]], \"type\": \"surface\"}], \"table\": [{\"cells\": {\"fill\": {\"color\": \"#EBF0F8\"}, \"line\": {\"color\": \"white\"}}, \"header\": {\"fill\": {\"color\": \"#C8D4E3\"}, \"line\": {\"color\": \"white\"}}, \"type\": \"table\"}]}, \"layout\": {\"annotationdefaults\": {\"arrowcolor\": \"#2a3f5f\", \"arrowhead\": 0, \"arrowwidth\": 1}, \"autotypenumbers\": \"strict\", \"coloraxis\": {\"colorbar\": {\"outlinewidth\": 0, \"ticks\": \"\"}}, \"colorscale\": {\"diverging\": [[0, \"#8e0152\"], [0.1, \"#c51b7d\"], [0.2, \"#de77ae\"], [0.3, \"#f1b6da\"], [0.4, \"#fde0ef\"], [0.5, \"#f7f7f7\"], [0.6, \"#e6f5d0\"], [0.7, \"#b8e186\"], [0.8, \"#7fbc41\"], [0.9, \"#4d9221\"], [1, \"#276419\"]], \"sequential\": [[0.0, \"#0d0887\"], [0.1111111111111111, \"#46039f\"], [0.2222222222222222, \"#7201a8\"], [0.3333333333333333, \"#9c179e\"], [0.4444444444444444, \"#bd3786\"], [0.5555555555555556, \"#d8576b\"], [0.6666666666666666, \"#ed7953\"], [0.7777777777777778, \"#fb9f3a\"], [0.8888888888888888, \"#fdca26\"], [1.0, \"#f0f921\"]], \"sequentialminus\": [[0.0, \"#0d0887\"], [0.1111111111111111, \"#46039f\"], [0.2222222222222222, \"#7201a8\"], [0.3333333333333333, \"#9c179e\"], [0.4444444444444444, \"#bd3786\"], [0.5555555555555556, \"#d8576b\"], [0.6666666666666666, \"#ed7953\"], [0.7777777777777778, \"#fb9f3a\"], [0.8888888888888888, \"#fdca26\"], [1.0, \"#f0f921\"]]}, \"colorway\": [\"#636efa\", \"#EF553B\", \"#00cc96\", \"#ab63fa\", \"#FFA15A\", \"#19d3f3\", \"#FF6692\", \"#B6E880\", \"#FF97FF\", \"#FECB52\"], \"font\": {\"color\": \"#2a3f5f\"}, \"geo\": {\"bgcolor\": \"white\", \"lakecolor\": \"white\", \"landcolor\": \"#E5ECF6\", \"showlakes\": true, \"showland\": true, \"subunitcolor\": \"white\"}, \"hoverlabel\": {\"align\": \"left\"}, \"hovermode\": \"closest\", \"mapbox\": {\"style\": \"light\"}, \"paper_bgcolor\": \"white\", \"plot_bgcolor\": \"#E5ECF6\", \"polar\": {\"angularaxis\": {\"gridcolor\": \"white\", \"linecolor\": \"white\", \"ticks\": \"\"}, \"bgcolor\": \"#E5ECF6\", \"radialaxis\": {\"gridcolor\": \"white\", \"linecolor\": \"white\", \"ticks\": \"\"}}, \"scene\": {\"xaxis\": {\"backgroundcolor\": \"#E5ECF6\", \"gridcolor\": \"white\", \"gridwidth\": 2, \"linecolor\": \"white\", \"showbackground\": true, \"ticks\": \"\", \"zerolinecolor\": \"white\"}, \"yaxis\": {\"backgroundcolor\": \"#E5ECF6\", \"gridcolor\": \"white\", \"gridwidth\": 2, \"linecolor\": \"white\", \"showbackground\": true, \"ticks\": \"\", \"zerolinecolor\": \"white\"}, \"zaxis\": {\"backgroundcolor\": \"#E5ECF6\", \"gridcolor\": \"white\", \"gridwidth\": 2, \"linecolor\": \"white\", \"showbackground\": true, \"ticks\": \"\", \"zerolinecolor\": \"white\"}}, \"shapedefaults\": {\"line\": {\"color\": \"#2a3f5f\"}}, \"ternary\": {\"aaxis\": {\"gridcolor\": \"white\", \"linecolor\": \"white\", \"ticks\": \"\"}, \"baxis\": {\"gridcolor\": \"white\", \"linecolor\": \"white\", \"ticks\": \"\"}, \"bgcolor\": \"#E5ECF6\", \"caxis\": {\"gridcolor\": \"white\", \"linecolor\": \"white\", \"ticks\": \"\"}}, \"title\": {\"x\": 0.05}, \"xaxis\": {\"automargin\": true, \"gridcolor\": \"white\", \"linecolor\": \"white\", \"ticks\": \"\", \"title\": {\"standoff\": 15}, \"zerolinecolor\": \"white\", \"zerolinewidth\": 2}, \"yaxis\": {\"automargin\": true, \"gridcolor\": \"white\", \"linecolor\": \"white\", \"ticks\": \"\", \"title\": {\"standoff\": 15}, \"zerolinecolor\": \"white\", \"zerolinewidth\": 2}}}},                        {\"responsive\": true}                    ).then(function(){\n",
       "                            \n",
       "var gd = document.getElementById('1fc5e0f3-d0a9-4132-b525-cac69bd55b25');\n",
       "var x = new MutationObserver(function (mutations, observer) {{\n",
       "        var display = window.getComputedStyle(gd).display;\n",
       "        if (!display || display === 'none') {{\n",
       "            console.log([gd, 'removed!']);\n",
       "            Plotly.purge(gd);\n",
       "            observer.disconnect();\n",
       "        }}\n",
       "}});\n",
       "\n",
       "// Listen for the removal of the full notebook cells\n",
       "var notebookContainer = gd.closest('#notebook-container');\n",
       "if (notebookContainer) {{\n",
       "    x.observe(notebookContainer, {childList: true});\n",
       "}}\n",
       "\n",
       "// Listen for the clearing of the current output cell\n",
       "var outputEl = gd.closest('.output');\n",
       "if (outputEl) {{\n",
       "    x.observe(outputEl, {childList: true});\n",
       "}}\n",
       "\n",
       "                        })                };                });            </script>        </div>"
      ]
     },
     "metadata": {},
     "output_type": "display_data"
    }
   ],
   "source": [
    "make_table(data_df)\n",
    "#make_table(col_names, col_data)"
   ]
  },
  {
   "cell_type": "code",
   "execution_count": null,
   "metadata": {},
   "outputs": [],
   "source": []
  },
  {
   "cell_type": "code",
   "execution_count": null,
   "metadata": {},
   "outputs": [],
   "source": []
  }
 ],
 "metadata": {
  "kernelspec": {
   "display_name": "Python 3",
   "language": "python",
   "name": "python3"
  },
  "language_info": {
   "codemirror_mode": {
    "name": "ipython",
    "version": 3
   },
   "file_extension": ".py",
   "mimetype": "text/x-python",
   "name": "python",
   "nbconvert_exporter": "python",
   "pygments_lexer": "ipython3",
   "version": "3.7.7"
  }
 },
 "nbformat": 4,
 "nbformat_minor": 4
}
